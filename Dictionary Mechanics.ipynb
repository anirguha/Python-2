{
 "cells": [
  {
   "cell_type": "code",
   "execution_count": 6,
   "id": "653263a3-5d1e-41fe-8e1e-d68af38e4fe5",
   "metadata": {},
   "outputs": [
    {
     "name": "stdout",
     "output_type": "stream",
     "text": [
      "banana\n",
      " Price: 4\n",
      " Stock: 6\n",
      "\n",
      "apple\n",
      " Price: 2\n",
      " Stock: 10\n",
      "\n",
      "orange\n",
      " Price: 1.5\n",
      " Stock: 32\n",
      "\n",
      "pear\n",
      " Price: 3\n",
      " Stock: 15\n",
      "\n"
     ]
    }
   ],
   "source": [
    "prices = {\"banana\": 4, \"apple\": 2, \"orange\": 1.5, \"pear\": 3}\n",
    "stock = {\"pear\": 15, \"banana\": 6, \"apple\": 10, \"orange\": 32}\n",
    "\n",
    "for item in prices:\n",
    "    price = prices[item]\n",
    "    quantity = stock.get(item,0)\n",
    "    print('{}\\n Price: {}\\n Stock: {}\\n'.format(item,price,quantity))\n"
   ]
  },
  {
   "cell_type": "code",
   "execution_count": 8,
   "id": "6b226601-b070-4b86-8b40-710e36da2a57",
   "metadata": {},
   "outputs": [
    {
     "name": "stdout",
     "output_type": "stream",
     "text": [
      "True\n",
      "left\n"
     ]
    }
   ],
   "source": [
    "opposites = {'up': 'down', 'right': 'wrong', 'true': 'false'}\n",
    "alias = opposites\n",
    "\n",
    "print(alias is opposites)\n",
    "\n",
    "alias['right'] = 'left'\n",
    "print(opposites['right'])"
   ]
  },
  {
   "cell_type": "code",
   "execution_count": 4,
   "id": "9a601a99-0872-4904-9a18-bbda2d20f33d",
   "metadata": {},
   "outputs": [
    {
     "name": "stdout",
     "output_type": "stream",
     "text": [
      "15872 25410\n"
     ]
    }
   ],
   "source": [
    "f = open(\"scarlet.txt\", \"r\")\n",
    "txt = f.read()\n",
    "# now txt is one long string containing all the characters\n",
    "# don't worry about exactly how it does that\n",
    "\n",
    "letter_counts = {}  # start with an empty dictionary\n",
    "for c in txt:\n",
    "    if c not in letter_counts:\n",
    "        letter_counts[c] = 0\n",
    "    letter_counts[c] += 1\n",
    "\n",
    "print(letter_counts[\"a\"], letter_counts[\"e\"])"
   ]
  },
  {
   "cell_type": "code",
   "execution_count": null,
   "id": "451a2fca-01b0-4c9e-a8c1-22e2965a7247",
   "metadata": {},
   "outputs": [],
   "source": []
  }
 ],
 "metadata": {
  "kernelspec": {
   "display_name": "Python 3 (ipykernel)",
   "language": "python",
   "name": "python3"
  },
  "language_info": {
   "codemirror_mode": {
    "name": "ipython",
    "version": 3
   },
   "file_extension": ".py",
   "mimetype": "text/x-python",
   "name": "python",
   "nbconvert_exporter": "python",
   "pygments_lexer": "ipython3",
   "version": "3.13.2"
  }
 },
 "nbformat": 4,
 "nbformat_minor": 5
}
