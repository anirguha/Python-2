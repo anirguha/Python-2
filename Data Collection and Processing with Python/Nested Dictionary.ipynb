{
 "cells": [
  {
   "cell_type": "code",
   "execution_count": 1,
   "id": "d3b17a41-5006-4522-a389-0ad04b6ec3c3",
   "metadata": {},
   "outputs": [
    {
     "name": "stdout",
     "output_type": "stream",
     "text": [
      "{'key1': {'a': 5, 'c': 90, 5: 50}, 'key2': {'b': 3, 'c': 'yes'}, 5: {1: 2, 3: 4}}\n"
     ]
    }
   ],
   "source": [
    "d = {'key1': {'a': 5, 'c': 90, 5: 50}, 'key2':{'b': 3, 'c': \"yes\"}}\n",
    "d[5] = {1: 2, 3: 4}\n",
    "print(d)"
   ]
  },
  {
   "cell_type": "code",
   "execution_count": 3,
   "id": "a6a2bf4d-0d9a-4113-a474-3c0c3f466069",
   "metadata": {},
   "outputs": [
    {
     "name": "stdout",
     "output_type": "stream",
     "text": [
      "{'key1': {'a': 5, 'c': 90, 5: 50, 'd': {'b': 3, 'c': 'yes'}}, 'key2': {'b': 3, 'c': 'yes'}, 5: {1: 2, 3: 4}}\n"
     ]
    }
   ],
   "source": [
    "d['key1']['d'] = d['key2']\n",
    "print(d)"
   ]
  },
  {
   "cell_type": "code",
   "execution_count": 5,
   "id": "d0e2b442-f0db-4cb3-93f4-c8bb67eed129",
   "metadata": {},
   "outputs": [
    {
     "name": "stdout",
     "output_type": "stream",
     "text": [
      "{'eye': 'blue', 'hair': 'brown'}\n"
     ]
    }
   ],
   "source": [
    "info = {'personal_data':\n",
    "         {'name': 'Lauren',\n",
    "          'age': 20,\n",
    "          'major': 'Information Science',\n",
    "          'physical_features':\n",
    "             {'color': {'eye': 'blue',\n",
    "                        'hair': 'brown'},\n",
    "              'height': \"5'8\"}\n",
    "         },\n",
    "       'other':\n",
    "         {'favorite_colors': ['purple', 'green', 'blue'],\n",
    "          'interested_in': ['social media', 'intellectual property', 'copyright', 'music', 'books']\n",
    "         }\n",
    "      }\n",
    "\n",
    "color = info['personal_data']['physical_features']['color']\n",
    "print(color)\n"
   ]
  },
  {
   "cell_type": "code",
   "execution_count": 7,
   "id": "da2cdba1-e60a-471d-a875-994764f09aa3",
   "metadata": {},
   "outputs": [
    {
     "data": {
      "text/plain": [
       "'blue'"
      ]
     },
     "execution_count": 7,
     "metadata": {},
     "output_type": "execute_result"
    }
   ],
   "source": [
    "info['personal_data']['physical_features']['color']['eye']"
   ]
  },
  {
   "cell_type": "code",
   "execution_count": 13,
   "id": "05788604-9ae7-4c3d-acde-1cd9b3ab2c96",
   "metadata": {},
   "outputs": [],
   "source": [
    "import json"
   ]
  },
  {
   "cell_type": "code",
   "execution_count": null,
   "id": "b6e49f29-237b-40a3-866f-a7404f699627",
   "metadata": {},
   "outputs": [
    {
     "name": "stdout",
     "output_type": "stream",
     "text": [
      "\n",
      "\n",
      "\n",
      "{\n",
      " \"resultCount\":25,\n",
      " \"results\": [\n",
      "{\"wrapperType\":\"track\", \"kind\":\"podcast\", \"collectionId\":10892}]}\n",
      "------\n",
      "<class 'dict'>\n",
      "dict_keys(['resultCount', 'results'])\n",
      "25\n"
     ]
    }
   ],
   "source": [
    "a_string = '\\n\\n\\n{\\n \"resultCount\":25,\\n \"results\": [\\n{\"wrapperType\":\"track\", \"kind\":\"podcast\", \"collectionId\":10892}]}'\n",
    "print(a_string)\n",
    "d = json.loads(a_string)\n",
    "print(\"------\")\n",
    "print(type(d))\n",
    "print(d.keys())\n",
    "print(d['resultCount'])"
   ]
  },
  {
   "cell_type": "code",
   "execution_count": 19,
   "id": "c525957a-a183-4282-9547-51b293f90592",
   "metadata": {},
   "outputs": [
    {
     "name": "stdout",
     "output_type": "stream",
     "text": [
      "{'profiles': {'Iman': {'tweets': 450, 'likes': 2500, 'followers': 190, 'following': 300}, 'Allan': {'tweets': 200, 'likes': 700, 'followers': 150, 'following': 100}, 'Xinyan': {'tweets': 1135, 'likes': 3000, 'followers': 400, 'following': 230}, 'Hao': {'tweets': 645, 'likes': 800, 'followers': 300, 'following': 500}, 'Harman': {'tweets': 300, 'likes': 1750, 'followers': 200, 'following': 400}}}\n",
      "{'profiles': {'Iman': {'tweets': 455, 'likes': 2505, 'followers': 190, 'following': 300}, 'Allan': {'tweets': 200, 'likes': 700, 'followers': 150, 'following': 100}, 'Xinyan': {'tweets': 1145, 'likes': 3000, 'followers': 425, 'following': 247}, 'Hao': {'tweets': 645, 'likes': 800, 'followers': 300, 'following': 500}, 'Harman': {'tweets': 300, 'likes': 1750, 'followers': 200, 'following': 400}}}\n"
     ]
    }
   ],
   "source": [
    "\n",
    "userProfilesString = '{\"profiles\": \\n{\"Iman\"\\n\\n: {\"tweets\": 450, \"likes\": 2500, \"followers\": 190, \"following\": 300},\\n\\n\"Allan\"\\n\\n: {\"tweets\": 200, \"likes\": 700, \"followers\": 150, \"following\": 100},\\n\\n\"Xinyan\"\\n\\n: {\"tweets\": 1135, \"likes\": 3000, \"followers\": 400, \"following\": 230},\\n\\n\"Hao\"\\n\\n: {\"tweets\": 645, \"likes\": 800, \"followers\": 300, \"following\": 500},\\n\"Harman\"\\n\\n: {\"tweets\": 300, \"likes\": 1750, \"followers\": 200, \"following\": 400}}}'\n",
    "userProfiles = json.loads(userProfilesString)\n",
    "print(userProfiles)\n",
    "userProfiles['profiles']['Iman']['tweets'] += 5\n",
    "userProfiles['profiles']['Iman']['likes'] += 5\n",
    "userProfiles['profiles']['Xinyan']['tweets'] += 10\n",
    "userProfiles['profiles']['Xinyan']['following'] += 17\n",
    "userProfiles['profiles']['Xinyan']['followers'] += 25\n",
    "print(userProfiles)"
   ]
  },
  {
   "cell_type": "code",
   "execution_count": 21,
   "id": "1a28ee37-e5f8-4e1e-8614-a36a2384a563",
   "metadata": {},
   "outputs": [
    {
     "name": "stdout",
     "output_type": "stream",
     "text": [
      "{\n",
      "    \"profiles\": {\n",
      "        \"Allan\": {\n",
      "            \"followers\": 150,\n",
      "            \"following\": 100,\n",
      "            \"likes\": 700,\n",
      "            \"tweets\": 200\n",
      "        },\n",
      "        \"Hao\": {\n",
      "            \"followers\": 300,\n",
      "            \"following\": 500,\n",
      "            \"likes\": 800,\n",
      "            \"tweets\": 645\n",
      "        },\n",
      "        \"Harman\": {\n",
      "            \"followers\": 200,\n",
      "            \"following\": 400,\n",
      "            \"likes\": 1750,\n",
      "            \"tweets\": 300\n",
      "        },\n",
      "        \"Iman\": {\n",
      "            \"followers\": 190,\n",
      "            \"following\": 300,\n",
      "            \"likes\": 2505,\n",
      "            \"tweets\": 455\n",
      "        },\n",
      "        \"Xinyan\": {\n",
      "            \"followers\": 425,\n",
      "            \"following\": 247,\n",
      "            \"likes\": 3000,\n",
      "            \"tweets\": 1145\n",
      "        }\n",
      "    }\n",
      "}\n"
     ]
    }
   ],
   "source": [
    "userProfilesString_updated = json.dumps(userProfiles, sort_keys=True, indent=4)\n",
    "print(userProfilesString_updated)"
   ]
  },
  {
   "cell_type": "code",
   "execution_count": null,
   "id": "e1a97f32-0ff2-4f80-9883-d79845bd0f48",
   "metadata": {
    "jupyter": {
     "is_executing": true
    }
   },
   "outputs": [],
   "source": [
    "inventory = {\"Apples\": {\"Price\": 1.50, \"Stock\": 10},\n",
    "             \"Bananas\": {\"Price\": 1.00, \"Stock\": 12},\n",
    "             \"Eggs\": {\"Price\": 3.00, \"Stock\": 7},\n",
    "             \"Milk\": {\"Price\": 3.50, \"Stock\": 20},\n",
    "             \"Oranges\": {\"Price\": 0.75, \"Stock\": 35},\n",
    "             \"Avocados\": {\"Price\": 2.50, \"Stock\": 5}\n",
    "            }\n",
    "print(inventory['Avocados']['Price'])"
   ]
  },
  {
   "cell_type": "code",
   "execution_count": 64,
   "id": "3a04c5dc-b4e9-4a91-a4a0-f3d30653b349",
   "metadata": {},
   "outputs": [
    {
     "name": "stdout",
     "output_type": "stream",
     "text": [
      "Number of Milk cartons in stock is: 20\n"
     ]
    }
   ],
   "source": [
    "print(f'Number of Milk cartons in stock is: {inventory['Milk']['Stock']}')"
   ]
  },
  {
   "cell_type": "code",
   "execution_count": 36,
   "id": "0ded042a-4b91-4629-a9f1-998784f1847e",
   "metadata": {},
   "outputs": [
    {
     "name": "stdout",
     "output_type": "stream",
     "text": [
      "{'Apples': {'Price': 1.5, 'Stock': 10}, 'Bananas': {'Price': 1.0, 'Stock': 12}, 'Eggs': {'Price': 3.0, 'Stock': 7}, 'Milk': {'Price': 3.5, 'Stock': 20}, 'Oranges': {'Price': 0.75, 'Stock': 35}, 'Avocados': {'Price': 2.5, 'Stock': 5}, 'Celery': {'Price': 1.55, 'Stock': 15}}\n"
     ]
    }
   ],
   "source": [
    "inventory['Celery'] = {'Price': 1.55, 'Stock': 15}\n",
    "\n",
    "print(inventory)"
   ]
  },
  {
   "cell_type": "code",
   "execution_count": 56,
   "id": "89536026-6713-42c2-9334-51b212dab992",
   "metadata": {},
   "outputs": [
    {
     "name": "stdout",
     "output_type": "stream",
     "text": [
      "Apples\n",
      "     Price: 1.5\n",
      "     Stock: 10\n",
      "Bananas\n",
      "     Price: 1.0\n",
      "     Stock: 12\n",
      "Eggs\n",
      "     Price: 3.0\n",
      "     Stock: 7\n",
      "Milk\n",
      "     Price: 3.5\n",
      "     Stock: 20\n",
      "Oranges\n",
      "     Price: 0.75\n",
      "     Stock: 35\n",
      "Avocados\n",
      "     Price: 2.5\n",
      "     Stock: 5\n",
      "Celery\n",
      "     Price: 1.55\n",
      "     Stock: 15\n"
     ]
    }
   ],
   "source": [
    "for key in inventory:\n",
    "    print(key)\n",
    "    print(\" \"*4,'Price:',inventory[key]['Price'])\n",
    "    print(' '*4,'Stock:', inventory[key]['Stock'])\n",
    "    "
   ]
  },
  {
   "cell_type": "code",
   "execution_count": 60,
   "id": "42fe233f-d3f6-40ec-aba5-cb809b1dbd78",
   "metadata": {},
   "outputs": [
    {
     "data": {
      "text/plain": [
       "False"
      ]
     },
     "execution_count": 60,
     "metadata": {},
     "output_type": "execute_result"
    }
   ],
   "source": [
    "'Guava' in inventory"
   ]
  },
  {
   "cell_type": "code",
   "execution_count": 62,
   "id": "945e2534-d0ee-412d-85f1-d266139144a5",
   "metadata": {},
   "outputs": [
    {
     "name": "stdout",
     "output_type": "stream",
     "text": [
      "List of available items are ['Apples', 'Eggs', 'Milk', 'Avocados', 'Celery'] and the total cost is: 12.05\n"
     ]
    }
   ],
   "source": [
    "def process_shopping_list(inventory, groceryList=[\"Apples\", \"Eggs\", \"Milk\", \"Avocados\", \"Broccoli\", \"Celery\", \"Cherries\"]):\n",
    "    availableitems = []\n",
    "    unavailableitems = []\n",
    "    for grocery in groceryList:\n",
    "        if grocery in inventory:\n",
    "            availableitems.append(grocery)\n",
    "        else:\n",
    "            unavailableitems.append(grocery)\n",
    "            \n",
    "    total_cost = 0\n",
    "    for item in availableitems:\n",
    "        total_cost += inventory[item]['Price']\n",
    "        \n",
    "    return availableitems, total_cost\n",
    "\n",
    "[availableitems, total_cost] = process_shopping_list(inventory)\n",
    "print(f'List of available items are {availableitems} and the total cost is: {total_cost}')\n",
    "\n"
   ]
  },
  {
   "cell_type": "code",
   "execution_count": null,
   "id": "a85e606f-e7f8-433e-87e3-14286496be40",
   "metadata": {},
   "outputs": [],
   "source": []
  }
 ],
 "metadata": {
  "kernelspec": {
   "display_name": "Python 3 (ipykernel)",
   "language": "python",
   "name": "python3"
  }
 },
 "nbformat": 4,
 "nbformat_minor": 5
}
