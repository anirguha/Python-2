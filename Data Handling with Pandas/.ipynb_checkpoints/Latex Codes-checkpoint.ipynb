{
 "cells": [
  {
   "cell_type": "markdown",
   "id": "5b59ad4f-d357-4ac1-9506-c76ded8746e0",
   "metadata": {},
   "source": [
    "$e^{i\\pi}+1=0$\n",
    "$\\frac{1}{3}$"
   ]
  },
  {
   "cell_type": "code",
   "execution_count": null,
   "id": "560b285b-f8c8-4158-ad5c-d2be441caa6f",
   "metadata": {},
   "outputs": [],
   "source": []
  }
 ],
 "metadata": {
  "kernelspec": {
   "display_name": "Python 3 (ipykernel)",
   "language": "python",
   "name": "python3"
  },
  "language_info": {
   "codemirror_mode": {
    "name": "ipython",
    "version": 3
   },
   "file_extension": ".py",
   "mimetype": "text/x-python",
   "name": "python",
   "nbconvert_exporter": "python",
   "pygments_lexer": "ipython3",
   "version": "3.13.3"
  }
 },
 "nbformat": 4,
 "nbformat_minor": 5
}
