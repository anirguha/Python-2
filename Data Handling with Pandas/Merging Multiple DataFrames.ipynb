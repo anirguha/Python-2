{
 "cells": [
  {
   "cell_type": "markdown",
   "id": "b4077e9f-bb18-47ab-836d-96d1cdfd1c80",
   "metadata": {},
   "source": [
    "## Merging multiple DataFrames"
   ]
  },
  {
   "cell_type": "code",
   "execution_count": 2,
   "id": "71cf51e8-dd38-482b-8c2f-1f3c17de90db",
   "metadata": {},
   "outputs": [],
   "source": [
    "import pandas as pd"
   ]
  },
  {
   "cell_type": "code",
   "execution_count": 3,
   "id": "e1a6cbf1-11a2-46f6-bf7b-c3e47373dab8",
   "metadata": {},
   "outputs": [
    {
     "name": "stdout",
     "output_type": "stream",
     "text": [
      "  Sales place Sales_place_name  Mercedes  Ford  Tata  Renault\n",
      "0         One         Europe 1         2     3     9       12\n",
      "1         Two      Australia 1         4     0     3        1\n",
      "2       Three            USA 1         0     0     4        0\n",
      "3        Four           Asia 1         4     1     1        0\n",
      "4        Five         Africa 1         0     6     0        3\n",
      "5         Six  South America 1         3    12     0        1\n",
      "6       Seven  South America 1         3     2     1        1\n",
      "7       Eight           Asia 1         4     1     1        0\n",
      "  Sales_place_name  Car_inv\n",
      "0         Europe 1      132\n",
      "1      Australia 1       54\n",
      "2            USA 1      323\n",
      "3           Asia 1      267\n",
      "4         Africa 1      183\n",
      "5  South America 1      172\n",
      "  Sales_place_name  Car_inv\n",
      "0         Europe 1      132\n",
      "1         Europe 1      131\n",
      "2      Australia 1       54\n",
      "3            USA 1      323\n",
      "4           Asia 1      267\n",
      "5         Canada 1       45\n",
      "6         Africa 1      183\n",
      "7  South America 1      172\n",
      "8  South America 2      144\n"
     ]
    }
   ],
   "source": [
    "# This is the basic Carsales DataFrame extended with two more Sales places plus the index column transformed to a feature column.\n",
    "Cardata = { \"Mercedes\": [2, 4, 0, 4, 0, 3], \"Ford\": [3, 0, 0, 1, 6, 12], \"Tata\":[9, 3, 4, 1, 0, 0], \"Renault\":[12, 1, 0, 0, 3, 1]}\n",
    "Carsales = pd.DataFrame(Cardata)\n",
    "Carsales.rename(index={0: \"One\", 1: \"Two\", 2: \"Three\", 3: \"Four\", 4: \"Five\", 5: \"Six\"}, inplace=True)\n",
    "Carsales.insert(0, \"Sales_place_name\", [\"Europe 1\", \"Australia 1\", \"USA 1\", \"Asia 1\", \"Africa 1\", \"South America 1\"], allow_duplicates=True)\n",
    "Carsales2 = pd.DataFrame({\"Sales_place_name\": [\"South America 1\", \"Asia 1\"], \"Mercedes\": [3, 4], \"Ford\": [2, 1], \"Tata\": [1, 1], \"Renault\": [1, 0]})\n",
    "Carsales2.rename(index={0: \"Seven\", 1: \"Eight\"}, inplace=True)\n",
    "Carsales = pd.concat([Carsales, Carsales2])\n",
    "Carsales.index.rename(\"Sales place\", inplace=True)\n",
    "Carsales.reset_index(inplace=True)  # Turns index column into a feature column\n",
    "print(Carsales)\n",
    "\n",
    "# This DataFrame includes Car inventory data. Unique column values for \"Sales_place_name\", all included in Carsales and fewer labels than in the Carsales DataFrame.\n",
    "Inv_data = pd.DataFrame({\"Sales_place_name\": [\"Europe 1\", \"Australia 1\", \"USA 1\", \"Asia 1\", \"Africa 1\", \"South America 1\"], \"Car_inv\": [132, 54, 323, 267, 183, 172]})\n",
    "print(Inv_data)\n",
    "\n",
    "# This DataFrame includes Car inventory data. Non-unique Column values for \"Sales_place_name\", some included in Carsales and more labels than in the Carsales DataFrame.\n",
    "Inv_data2 = pd.DataFrame({\"Sales_place_name\": [\"Europe 1\", \"Europe 1\", \"Australia 1\", \"USA 1\", \"Asia 1\", \"Canada 1\", \"Africa 1\", \"South America 1\", \"South America 2\"], \"Car_inv\": [132, 131, 54, 323, 267, 45, 183, 172, 144]})\n",
    "print(Inv_data2)"
   ]
  },
  {
   "cell_type": "code",
   "execution_count": 5,
   "id": "870f7937-f72c-444c-91b1-f2acd7b555fd",
   "metadata": {},
   "outputs": [
    {
     "name": "stdout",
     "output_type": "stream",
     "text": [
      "  Sales place Sales_place_name  Mercedes  Ford  Tata  Renault  Car_inv\n",
      "0         One         Europe 1         2     3     9       12      132\n",
      "1         Two      Australia 1         4     0     3        1       54\n",
      "2       Three            USA 1         0     0     4        0      323\n",
      "3        Four           Asia 1         4     1     1        0      267\n",
      "4        Five         Africa 1         0     6     0        3      183\n",
      "5         Six  South America 1         3    12     0        1      172\n",
      "6       Seven  South America 1         3     2     1        1      172\n",
      "7       Eight           Asia 1         4     1     1        0      267\n"
     ]
    }
   ],
   "source": [
    "#merge using inner join with unique data\n",
    "print(Carsales.merge(Inv_data,how='inner',on=None,left_on='Sales_place_name',\n",
    "                     right_on='Sales_place_name'))"
   ]
  },
  {
   "cell_type": "code",
   "execution_count": 6,
   "id": "c260625e-b9a7-41d3-b8b9-054ce5a209a9",
   "metadata": {},
   "outputs": [
    {
     "name": "stdout",
     "output_type": "stream",
     "text": [
      "  Sales place Sales_place_name  Mercedes  Ford  Tata  Renault  Car_inv\n",
      "0         One         Europe 1         2     3     9       12      132\n",
      "1         One         Europe 1         2     3     9       12      131\n",
      "2         Two      Australia 1         4     0     3        1       54\n",
      "3       Three            USA 1         0     0     4        0      323\n",
      "4        Four           Asia 1         4     1     1        0      267\n",
      "5        Five         Africa 1         0     6     0        3      183\n",
      "6         Six  South America 1         3    12     0        1      172\n",
      "7       Seven  South America 1         3     2     1        1      172\n",
      "8       Eight           Asia 1         4     1     1        0      267\n"
     ]
    }
   ],
   "source": [
    "#merge using inner join with duplicate data\n",
    "print(Carsales.merge(Inv_data2,how='inner',on=None,left_on='Sales_place_name',\n",
    "                     right_on='Sales_place_name'))"
   ]
  },
  {
   "cell_type": "code",
   "execution_count": 7,
   "id": "6ea268ad-baa8-40a5-9a2b-8edb4dc862d6",
   "metadata": {},
   "outputs": [
    {
     "name": "stdout",
     "output_type": "stream",
     "text": [
      "  Sales place Sales_place_name  Mercedes  Ford  Tata  Renault  Car_inv\n",
      "0         One         Europe 1         2     3     9       12      132\n",
      "1         Two      Australia 1         4     0     3        1       54\n",
      "2       Three            USA 1         0     0     4        0      323\n",
      "3        Four           Asia 1         4     1     1        0      267\n",
      "4        Five         Africa 1         0     6     0        3      183\n",
      "5         Six  South America 1         3    12     0        1      172\n",
      "6       Seven  South America 1         3     2     1        1      172\n",
      "7       Eight           Asia 1         4     1     1        0      267\n"
     ]
    }
   ],
   "source": [
    "#merge using left join with unique data\n",
    "print(Carsales.merge(Inv_data,how='left',on=None,left_on='Sales_place_name',\n",
    "                     right_on='Sales_place_name'))"
   ]
  },
  {
   "cell_type": "code",
   "execution_count": 8,
   "id": "d5128ad1-fcf0-4d1c-9eb9-f80539e04cdb",
   "metadata": {},
   "outputs": [
    {
     "name": "stdout",
     "output_type": "stream",
     "text": [
      "  Sales place Sales_place_name  Mercedes  Ford  Tata  Renault  Car_inv\n",
      "0         One         Europe 1         2     3     9       12      132\n",
      "1         One         Europe 1         2     3     9       12      131\n",
      "2         Two      Australia 1         4     0     3        1       54\n",
      "3       Three            USA 1         0     0     4        0      323\n",
      "4        Four           Asia 1         4     1     1        0      267\n",
      "5        Five         Africa 1         0     6     0        3      183\n",
      "6         Six  South America 1         3    12     0        1      172\n",
      "7       Seven  South America 1         3     2     1        1      172\n",
      "8       Eight           Asia 1         4     1     1        0      267\n"
     ]
    }
   ],
   "source": [
    "#merge using left join with duplocate data\n",
    "print(Carsales.merge(Inv_data2,how='left',on=None,left_on='Sales_place_name',\n",
    "                     right_on='Sales_place_name'))"
   ]
  },
  {
   "cell_type": "code",
   "execution_count": 9,
   "id": "c26b98fb-aee9-4d65-9e68-1ff5689caaac",
   "metadata": {},
   "outputs": [
    {
     "name": "stdout",
     "output_type": "stream",
     "text": [
      "  Sales place Sales_place_name  Mercedes  Ford  Tata  Renault  Car_inv\n",
      "0         One         Europe 1         2     3     9       12      132\n",
      "1         Two      Australia 1         4     0     3        1       54\n",
      "2       Three            USA 1         0     0     4        0      323\n",
      "3        Four           Asia 1         4     1     1        0      267\n",
      "4       Eight           Asia 1         4     1     1        0      267\n",
      "5        Five         Africa 1         0     6     0        3      183\n",
      "6         Six  South America 1         3    12     0        1      172\n",
      "7       Seven  South America 1         3     2     1        1      172\n"
     ]
    }
   ],
   "source": [
    "#merge using right join with unique data\n",
    "print(Carsales.merge(Inv_data,how='right',on=None,left_on='Sales_place_name',\n",
    "                     right_on='Sales_place_name'))"
   ]
  },
  {
   "cell_type": "code",
   "execution_count": 11,
   "id": "9a9a8b1c-0014-43ce-a11a-74bb4fe04c13",
   "metadata": {},
   "outputs": [
    {
     "name": "stdout",
     "output_type": "stream",
     "text": [
      "   Sales place Sales_place_name  Mercedes  Ford  Tata  Renault  Car_inv\n",
      "0          One         Europe 1       2.0   3.0   9.0     12.0      132\n",
      "1          One         Europe 1       2.0   3.0   9.0     12.0      131\n",
      "2          Two      Australia 1       4.0   0.0   3.0      1.0       54\n",
      "3        Three            USA 1       0.0   0.0   4.0      0.0      323\n",
      "4         Four           Asia 1       4.0   1.0   1.0      0.0      267\n",
      "5        Eight           Asia 1       4.0   1.0   1.0      0.0      267\n",
      "6          NaN         Canada 1       NaN   NaN   NaN      NaN       45\n",
      "7         Five         Africa 1       0.0   6.0   0.0      3.0      183\n",
      "8          Six  South America 1       3.0  12.0   0.0      1.0      172\n",
      "9        Seven  South America 1       3.0   2.0   1.0      1.0      172\n",
      "10         NaN  South America 2       NaN   NaN   NaN      NaN      144\n"
     ]
    }
   ],
   "source": [
    "#merge using left join with duplocate data\n",
    "print(Carsales.merge(Inv_data2,how='right',on=None,left_on='Sales_place_name',\n",
    "                     right_on='Sales_place_name'))"
   ]
  },
  {
   "cell_type": "code",
   "execution_count": 12,
   "id": "cf78babf-9a01-4f84-be98-c41b3bef1da7",
   "metadata": {},
   "outputs": [
    {
     "name": "stdout",
     "output_type": "stream",
     "text": [
      "  Sales place Sales_place_name  Mercedes  Ford  Tata  Renault  Car_inv\n",
      "0        Five         Africa 1         0     6     0        3      183\n",
      "1        Four           Asia 1         4     1     1        0      267\n",
      "2       Eight           Asia 1         4     1     1        0      267\n",
      "3         Two      Australia 1         4     0     3        1       54\n",
      "4         One         Europe 1         2     3     9       12      132\n",
      "5         Six  South America 1         3    12     0        1      172\n",
      "6       Seven  South America 1         3     2     1        1      172\n",
      "7       Three            USA 1         0     0     4        0      323\n"
     ]
    }
   ],
   "source": [
    "#merge using outer join with unique data\n",
    "print(Carsales.merge(Inv_data,how='outer',on=None,left_on='Sales_place_name',\n",
    "                     right_on='Sales_place_name'))"
   ]
  },
  {
   "cell_type": "code",
   "execution_count": 13,
   "id": "5aff2856-efe5-46b9-882b-4745a9e20a1b",
   "metadata": {},
   "outputs": [
    {
     "name": "stdout",
     "output_type": "stream",
     "text": [
      "   Sales place Sales_place_name  Mercedes  Ford  Tata  Renault  Car_inv\n",
      "0         Five         Africa 1       0.0   6.0   0.0      3.0      183\n",
      "1         Four           Asia 1       4.0   1.0   1.0      0.0      267\n",
      "2        Eight           Asia 1       4.0   1.0   1.0      0.0      267\n",
      "3          Two      Australia 1       4.0   0.0   3.0      1.0       54\n",
      "4          NaN         Canada 1       NaN   NaN   NaN      NaN       45\n",
      "5          One         Europe 1       2.0   3.0   9.0     12.0      132\n",
      "6          One         Europe 1       2.0   3.0   9.0     12.0      131\n",
      "7          Six  South America 1       3.0  12.0   0.0      1.0      172\n",
      "8        Seven  South America 1       3.0   2.0   1.0      1.0      172\n",
      "9          NaN  South America 2       NaN   NaN   NaN      NaN      144\n",
      "10       Three            USA 1       0.0   0.0   4.0      0.0      323\n"
     ]
    }
   ],
   "source": [
    "#merge using left join with duplocate data\n",
    "print(Carsales.merge(Inv_data2,how='outer',on=None,left_on='Sales_place_name',\n",
    "                     right_on='Sales_place_name'))"
   ]
  },
  {
   "cell_type": "code",
   "execution_count": null,
   "id": "819055a2-9405-4e4e-9091-87843365fcfa",
   "metadata": {},
   "outputs": [],
   "source": []
  }
 ],
 "metadata": {
  "kernelspec": {
   "display_name": "Python 3 (ipykernel)",
   "language": "python",
   "name": "python3"
  },
  "language_info": {
   "codemirror_mode": {
    "name": "ipython",
    "version": 3
   },
   "file_extension": ".py",
   "mimetype": "text/x-python",
   "name": "python",
   "nbconvert_exporter": "python",
   "pygments_lexer": "ipython3",
   "version": "3.13.3"
  }
 },
 "nbformat": 4,
 "nbformat_minor": 5
}
