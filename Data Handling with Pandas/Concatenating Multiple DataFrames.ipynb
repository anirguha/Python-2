{
 "cells": [
  {
   "cell_type": "markdown",
   "id": "98744816-99fc-4076-84b2-590610f97fe6",
   "metadata": {},
   "source": [
    "### Concatenating multiple DataFrames"
   ]
  },
  {
   "cell_type": "code",
   "execution_count": 1,
   "id": "45e37902-d1f8-4cac-b87b-7b823f7676f5",
   "metadata": {},
   "outputs": [],
   "source": [
    "import pandas as pd"
   ]
  },
  {
   "cell_type": "code",
   "execution_count": 2,
   "id": "86cef6d4-07fc-47c2-a03c-f9cb9ec0b516",
   "metadata": {},
   "outputs": [
    {
     "name": "stdout",
     "output_type": "stream",
     "text": [
      "            Sales_place_name  Mercedes  Ford  Tata  Renault\n",
      "Sales place                                                \n",
      "One                 Europe 1         2     3     9       12\n",
      "Two              Australia 1         4     0     3        1\n",
      "Three                  USA 1         0     0     4        0\n",
      "Four                  Asia 1         4     1     1        0\n",
      "Five                Africa 1         0     6     0        3\n",
      "Six          South America 1         3    12     0        1\n"
     ]
    }
   ],
   "source": [
    "# Create four Pandas DataFrames\n",
    "\n",
    "# This is the basic Carsales DataFrame\n",
    "Cardata = { \"Mercedes\": [2, 4, 0, 4, 0, 3], \"Ford\": [3, 0, 0, 1, 6, 12], \"Tata\":[9, 3, 4, 1, 0, 0], \"Renault\":[12, 1, 0, 0, 3, 1]}\n",
    "Carsales = pd.DataFrame(Cardata)\n",
    "Carsales.index.rename(\"Sales place\", inplace=True)\n",
    "Carsales.rename(index={0: \"One\", 1: \"Two\", 2: \"Three\", 3: \"Four\", 4: \"Five\", 5: \"Six\"}, inplace=True)\n",
    "Carsales.insert(0, \"Sales_place_name\", [\"Europe 1\", \"Australia 1\", \"USA 1\", \"Asia 1\", \"Africa 1\", \"South America 1\"], allow_duplicates=False)\n",
    "print(Carsales)"
   ]
  },
  {
   "cell_type": "code",
   "execution_count": 3,
   "id": "971f67f3-e7f6-41c2-b2a1-9da08491015f",
   "metadata": {},
   "outputs": [
    {
     "name": "stdout",
     "output_type": "stream",
     "text": [
      "      Sales_place_name  Mercedes  Ford  Tata  Renault\n",
      "Seven  South America 1         3     2     1        1\n",
      "Eight           Asia 1         4     1     1        0\n"
     ]
    }
   ],
   "source": [
    "# This DataFrame may add two Salesplaces to our DataFrame, vertically.\n",
    "Carsales2 = pd.DataFrame({\"Sales_place_name\": [\"South America 1\", \"Asia 1\"], \"Mercedes\": [3, 4], \"Ford\": [2, 1], \"Tata\": [1, 1], \"Renault\": [1, 0]})\n",
    "Carsales2.rename(index={0: \"Seven\", 1: \"Eight\"}, inplace=True)\n",
    "print(Carsales2)"
   ]
  },
  {
   "cell_type": "code",
   "execution_count": 4,
   "id": "abf2c3fe-5d9b-4582-bec4-0a7987582b2d",
   "metadata": {},
   "outputs": [
    {
     "name": "stdout",
     "output_type": "stream",
     "text": [
      "       Volvo  Tesla\n",
      "One        3      2\n",
      "Nine       4      8\n",
      "Three      0      0\n",
      "Six        0      1\n",
      "Seven      1      1\n"
     ]
    }
   ],
   "source": [
    "# This DataFrame contains two Carbrands columns which can be added to the Carsales DataFrame, horizontally.\n",
    "Carsales3 = pd.DataFrame({\"Volvo\": [3, 4, 0, 0, 1], \"Tesla\": [2, 8, 0, 1, 1]})\n",
    "Carsales3.rename(index={0: \"One\", 1: \"Nine\", 2: \"Three\", 3: \"Six\", 4: \"Seven\", 5: \"Eight\"}, inplace=True)\n",
    "print(Carsales3)"
   ]
  },
  {
   "cell_type": "code",
   "execution_count": 5,
   "id": "a7a3e77f-3b36-48e3-9bac-9cef37f0f517",
   "metadata": {},
   "outputs": [
    {
     "name": "stdout",
     "output_type": "stream",
     "text": [
      "    Sales_place_name  Mercedes  Ford  Tata  Renault\n",
      "One         Europe 1         2     3     9       12\n",
      "Two      Australia 1         4     0     3        1\n"
     ]
    }
   ],
   "source": [
    "# This DataFrame may be used display the .concat functions handling of duplicates.\n",
    "Carsales4 = pd.DataFrame({\"Sales_place_name\": [\"Europe 1\", \"Australia 1\"], \"Mercedes\": [2, 4], \"Ford\": [3, 0], \"Tata\": [9, 3], \"Renault\": [12, 1]})\n",
    "Carsales4.rename(index={0: \"One\", 1: \"Two\"}, inplace=True)\n",
    "print(Carsales4)"
   ]
  },
  {
   "cell_type": "code",
   "execution_count": 6,
   "id": "b08b225b-a0be-473f-8811-12cce7e3e04e",
   "metadata": {},
   "outputs": [
    {
     "name": "stdout",
     "output_type": "stream",
     "text": [
      "      Sales_place_name  Mercedes  Ford  Tata  Renault\n",
      "One           Europe 1         2     3     9       12\n",
      "Two        Australia 1         4     0     3        1\n",
      "Three            USA 1         0     0     4        0\n",
      "Four            Asia 1         4     1     1        0\n",
      "Five          Africa 1         0     6     0        3\n",
      "Six    South America 1         3    12     0        1\n",
      "Seven  South America 1         3     2     1        1\n",
      "Eight           Asia 1         4     1     1        0\n"
     ]
    }
   ],
   "source": [
    "#Add two DataFrames with same structure\n",
    "Carsales5 = pd.concat([Carsales,Carsales2])\n",
    "print(Carsales5)"
   ]
  },
  {
   "cell_type": "code",
   "execution_count": 8,
   "id": "54e1a45f-7f5d-4f92-bd61-264436f43784",
   "metadata": {},
   "outputs": [
    {
     "name": "stdout",
     "output_type": "stream",
     "text": [
      "      Sales_place_name  Mercedes  Ford  Tata  Renault  Volvo  Tesla\n",
      "One           Europe 1       2.0   3.0   9.0     12.0    3.0    2.0\n",
      "Two        Australia 1       4.0   0.0   3.0      1.0    NaN    NaN\n",
      "Three            USA 1       0.0   0.0   4.0      0.0    0.0    0.0\n",
      "Four            Asia 1       4.0   1.0   1.0      0.0    NaN    NaN\n",
      "Five          Africa 1       0.0   6.0   0.0      3.0    NaN    NaN\n",
      "Six    South America 1       3.0  12.0   0.0      1.0    0.0    1.0\n",
      "Seven  South America 1       3.0   2.0   1.0      1.0    1.0    1.0\n",
      "Eight           Asia 1       4.0   1.0   1.0      0.0    NaN    NaN\n",
      "Nine               NaN       NaN   NaN   NaN      NaN    4.0    8.0\n"
     ]
    }
   ],
   "source": [
    "#Concat two DataFrames horizontally (i.e. by columns) making a wider \n",
    "#DataFrame. Similar to Outer Join in SQL\n",
    "Carsales6 = pd.concat([Carsales5, Carsales3],axis=1)\n",
    "print(Carsales6)"
   ]
  },
  {
   "cell_type": "code",
   "execution_count": 10,
   "id": "08cbe13a-4d81-436c-8696-35133f906449",
   "metadata": {},
   "outputs": [
    {
     "name": "stdout",
     "output_type": "stream",
     "text": [
      "      Sales_place_name  Mercedes  Ford  Tata  Renault  Volvo  Tesla\n",
      "One           Europe 1         2     3     9       12      3      2\n",
      "Three            USA 1         0     0     4        0      0      0\n",
      "Six    South America 1         3    12     0        1      0      1\n",
      "Seven  South America 1         3     2     1        1      1      1\n"
     ]
    }
   ],
   "source": [
    "#Concat two Dataframes for matching indexes only. Similar to Inner Join\n",
    "#in SQL\n",
    "Carsales7 = pd.concat([Carsales5,Carsales3],axis=1,join=\"inner\")\n",
    "print(Carsales7)"
   ]
  },
  {
   "cell_type": "code",
   "execution_count": 11,
   "id": "a8d02261-5e71-41d4-954b-0385ed3ae6a9",
   "metadata": {},
   "outputs": [
    {
     "name": "stdout",
     "output_type": "stream",
     "text": [
      "      Sales_place_name  Mercedes  Ford  Tata  Renault\n",
      "One           Europe 1         2     3     9       12\n",
      "Two        Australia 1         4     0     3        1\n",
      "Three            USA 1         0     0     4        0\n",
      "Four            Asia 1         4     1     1        0\n",
      "Five          Africa 1         0     6     0        3\n",
      "Six    South America 1         3    12     0        1\n",
      "One           Europe 1         2     3     9       12\n",
      "Two        Australia 1         4     0     3        1\n"
     ]
    }
   ],
   "source": [
    "#Adding two DataFrames vertically with similar structure and duplicate indexes\n",
    "Carsales8 = pd.concat([Carsales,Carsales4])\n",
    "print(Carsales8)"
   ]
  },
  {
   "cell_type": "code",
   "execution_count": 15,
   "id": "592f45fd-492d-454d-b313-19ceab8511e6",
   "metadata": {},
   "outputs": [
    {
     "name": "stdout",
     "output_type": "stream",
     "text": [
      "                      Sales_place_name  Mercedes  Ford  Tata  Renault\n",
      "DataFrame Sales place                                                \n",
      "Carsales  One                 Europe 1         2     3     9       12\n",
      "          Two              Australia 1         4     0     3        1\n",
      "          Three                  USA 1         0     0     4        0\n",
      "          Four                  Asia 1         4     1     1        0\n",
      "          Five                Africa 1         0     6     0        3\n",
      "          Six          South America 1         3    12     0        1\n",
      "Carsales4 One                 Europe 1         2     3     9       12\n",
      "          Two              Australia 1         4     0     3        1\n"
     ]
    }
   ],
   "source": [
    "#Create multilevel indexing\n",
    "Carsales9 = pd.concat([Carsales,Carsales4],keys=['Carsales','Carsales4'],\n",
    "                       names=['DataFrame','Sales place'])\n",
    "print(Carsales9)"
   ]
  },
  {
   "cell_type": "code",
   "execution_count": null,
   "id": "44731e42-f830-4cd2-8a5f-93f8388923f2",
   "metadata": {},
   "outputs": [],
   "source": []
  }
 ],
 "metadata": {
  "kernelspec": {
   "display_name": "Python 3 (ipykernel)",
   "language": "python",
   "name": "python3"
  },
  "language_info": {
   "codemirror_mode": {
    "name": "ipython",
    "version": 3
   },
   "file_extension": ".py",
   "mimetype": "text/x-python",
   "name": "python",
   "nbconvert_exporter": "python",
   "pygments_lexer": "ipython3",
   "version": "3.13.3"
  }
 },
 "nbformat": 4,
 "nbformat_minor": 5
}
