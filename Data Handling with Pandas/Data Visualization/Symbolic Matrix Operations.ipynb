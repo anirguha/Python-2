{
 "cells": [
  {
   "cell_type": "markdown",
   "id": "cb1bc197-4b6e-472c-adec-1454e95ab610",
   "metadata": {},
   "source": [
    "### Symbolic Matrix Operations"
   ]
  },
  {
   "cell_type": "code",
   "execution_count": 85,
   "id": "787e0e71-2217-45b6-8baa-cfdecb51b8d8",
   "metadata": {},
   "outputs": [],
   "source": [
    "from sympy import *\n",
    "import numpy as np\n",
    "import random"
   ]
  },
  {
   "cell_type": "code",
   "execution_count": 3,
   "id": "4e4066ea-440e-4e64-adec-20e75f69ce15",
   "metadata": {},
   "outputs": [
    {
     "data": {
      "text/latex": [
       "$\\displaystyle \\left[\\begin{matrix}1 & 0 & 1 & 3\\\\2 & 3 & 4 & 7\\\\-1 & -3 & -3 & -4\\end{matrix}\\right]$"
      ],
      "text/plain": [
       "Matrix([\n",
       "[ 1,  0,  1,  3],\n",
       "[ 2,  3,  4,  7],\n",
       "[-1, -3, -3, -4]])"
      ]
     },
     "execution_count": 3,
     "metadata": {},
     "output_type": "execute_result"
    }
   ],
   "source": [
    "M = Matrix([[1, 0, 1, 3], [2, 3, 4, 7], [-1, -3, -3, -4]])\n",
    "M"
   ]
  },
  {
   "cell_type": "code",
   "execution_count": 5,
   "id": "8137f4db-81f3-47dc-a5d9-e54a01f9f569",
   "metadata": {},
   "outputs": [
    {
     "data": {
      "text/plain": [
       "(Matrix([\n",
       " [1, 0,   1,   3],\n",
       " [0, 1, 2/3, 1/3],\n",
       " [0, 0,   0,   0]]),\n",
       " (0, 1))"
      ]
     },
     "execution_count": 5,
     "metadata": {},
     "output_type": "execute_result"
    }
   ],
   "source": [
    "M1= M.rref()\n",
    "M1"
   ]
  },
  {
   "cell_type": "code",
   "execution_count": 22,
   "id": "7350c062-ad16-4504-9b4e-101f589efe0a",
   "metadata": {},
   "outputs": [
    {
     "name": "stdout",
     "output_type": "stream",
     "text": [
      "⎡⎡ -1 ⎤  ⎡ -3 ⎤⎤\n",
      "⎢⎢    ⎥  ⎢    ⎥⎥\n",
      "⎢⎢-2/3⎥  ⎢-1/3⎥⎥\n",
      "⎢⎢    ⎥, ⎢    ⎥⎥\n",
      "⎢⎢ 1  ⎥  ⎢ 0  ⎥⎥\n",
      "⎢⎢    ⎥  ⎢    ⎥⎥\n",
      "⎣⎣ 0  ⎦  ⎣ 1  ⎦⎦\n"
     ]
    }
   ],
   "source": [
    "M2 = M.nullspace(M)\n",
    "pprint(M2)"
   ]
  },
  {
   "cell_type": "code",
   "execution_count": 9,
   "id": "2cd92a7d-a9c5-49f3-932a-980475976b87",
   "metadata": {},
   "outputs": [
    {
     "data": {
      "text/latex": [
       "$\\displaystyle A$"
      ],
      "text/plain": [
       "A"
      ]
     },
     "execution_count": 9,
     "metadata": {},
     "output_type": "execute_result"
    }
   ],
   "source": [
    "MatrixSymbol('A',2,3)"
   ]
  },
  {
   "cell_type": "code",
   "execution_count": 19,
   "id": "12aef1f7-f20d-4c11-a5a0-fe3bb8d2d15d",
   "metadata": {},
   "outputs": [
    {
     "data": {
      "text/latex": [
       "$\\displaystyle \\left[\\begin{matrix}-1\\\\- \\frac{2}{3}\\\\1\\\\0\\end{matrix}\\right]$"
      ],
      "text/plain": [
       "Matrix([\n",
       "[  -1],\n",
       "[-2/3],\n",
       "[   1],\n",
       "[   0]])"
      ]
     },
     "execution_count": 19,
     "metadata": {},
     "output_type": "execute_result"
    }
   ],
   "source": [
    "M2[0]"
   ]
  },
  {
   "cell_type": "code",
   "execution_count": 20,
   "id": "aaed1c8d-12a3-4707-8d02-69572ea497cf",
   "metadata": {},
   "outputs": [
    {
     "data": {
      "text/latex": [
       "$\\displaystyle \\left[\\begin{matrix}0\\\\0\\\\0\\end{matrix}\\right]$"
      ],
      "text/plain": [
       "Matrix([\n",
       "[0],\n",
       "[0],\n",
       "[0]])"
      ]
     },
     "execution_count": 20,
     "metadata": {},
     "output_type": "execute_result"
    }
   ],
   "source": [
    "M * M2[0]"
   ]
  },
  {
   "cell_type": "code",
   "execution_count": 16,
   "id": "4d44dffa-d065-48e1-9038-bfc4e2c787b2",
   "metadata": {},
   "outputs": [],
   "source": [
    "M2_null = M2[0]"
   ]
  },
  {
   "cell_type": "code",
   "execution_count": 18,
   "id": "7fa45d4a-ffc1-467d-9e85-c7914c086021",
   "metadata": {},
   "outputs": [
    {
     "data": {
      "text/latex": [
       "$\\displaystyle \\left[\\begin{matrix}0\\\\0\\\\0\\end{matrix}\\right]$"
      ],
      "text/plain": [
       "Matrix([\n",
       "[0],\n",
       "[0],\n",
       "[0]])"
      ]
     },
     "execution_count": 18,
     "metadata": {},
     "output_type": "execute_result"
    }
   ],
   "source": [
    "M * M2_null"
   ]
  },
  {
   "cell_type": "code",
   "execution_count": 13,
   "id": "37e3dd6e-50d0-41b0-bb89-734bf3187b9b",
   "metadata": {},
   "outputs": [],
   "source": [
    "A = MatrixSymbol('A', 5, 4)\n",
    "B = MatrixSymbol('B', 4, 3)\n",
    "C = MatrixSymbol('C', 3, 6)\n",
    "D = MatMul(A, B, C)"
   ]
  },
  {
   "cell_type": "code",
   "execution_count": 24,
   "id": "c5fe24b1-6cbb-4497-a5a3-bd8522578c75",
   "metadata": {},
   "outputs": [
    {
     "name": "stdout",
     "output_type": "stream",
     "text": [
      "⎡⎡1 ⎤  ⎡0 ⎤⎤\n",
      "⎢⎢  ⎥  ⎢  ⎥⎥\n",
      "⎢⎢2 ⎥, ⎢3 ⎥⎥\n",
      "⎢⎢  ⎥  ⎢  ⎥⎥\n",
      "⎣⎣-1⎦  ⎣-3⎦⎦\n"
     ]
    }
   ],
   "source": [
    "M3 = M.columnspace(M)\n",
    "pprint(M3)"
   ]
  },
  {
   "cell_type": "code",
   "execution_count": 28,
   "id": "6499dd76-df2d-4937-ab2e-39eb9b8d03a9",
   "metadata": {},
   "outputs": [
    {
     "data": {
      "text/latex": [
       "$\\displaystyle \\left[\\begin{matrix}6 & 9 & 12 & 21\\end{matrix}\\right]$"
      ],
      "text/plain": [
       "Matrix([[6, 9, 12, 21]])"
      ]
     },
     "execution_count": 28,
     "metadata": {},
     "output_type": "execute_result"
    }
   ],
   "source": [
    "M3[0].T * M"
   ]
  },
  {
   "cell_type": "code",
   "execution_count": 29,
   "id": "2eac8d1a-8eb0-4782-af8b-48a5e8a94ab1",
   "metadata": {},
   "outputs": [
    {
     "data": {
      "text/latex": [
       "$\\displaystyle \\left[\\begin{matrix}6\\\\9\\\\12\\\\21\\end{matrix}\\right]$"
      ],
      "text/plain": [
       "Matrix([\n",
       "[ 6],\n",
       "[ 9],\n",
       "[12],\n",
       "[21]])"
      ]
     },
     "execution_count": 29,
     "metadata": {},
     "output_type": "execute_result"
    }
   ],
   "source": [
    "M.T * M3[0]"
   ]
  },
  {
   "cell_type": "code",
   "execution_count": 32,
   "id": "d4e127ee-a3fd-40b7-ad09-20df8bac6f8c",
   "metadata": {},
   "outputs": [
    {
     "name": "stdout",
     "output_type": "stream",
     "text": [
      "⎡  ____________    ____________      ⎤\n",
      "⎣╲╱ √3457 + 62 , ╲╱ 62 - √3457 , 0, 0⎦\n"
     ]
    }
   ],
   "source": [
    "pprint(M.singular_values())"
   ]
  },
  {
   "cell_type": "code",
   "execution_count": 33,
   "id": "4ec177f6-0a54-4562-a70a-d757504269e6",
   "metadata": {},
   "outputs": [],
   "source": [
    "U,S,V = M.singular_value_decomposition()"
   ]
  },
  {
   "cell_type": "code",
   "execution_count": 34,
   "id": "e6142fb0-a350-4469-9ea3-7793b4acdcb5",
   "metadata": {},
   "outputs": [
    {
     "data": {
      "text/latex": [
       "$\\displaystyle \\left[\\begin{matrix}\\frac{\\frac{24}{67} + \\frac{\\sqrt{3457}}{67}}{\\sqrt{\\left(- \\frac{43}{67} + \\frac{\\sqrt{3457}}{67}\\right)^{2} + 1 + \\left(\\frac{24}{67} + \\frac{\\sqrt{3457}}{67}\\right)^{2}}} & \\frac{\\frac{24}{67} - \\frac{\\sqrt{3457}}{67}}{\\sqrt{\\left(- \\frac{24}{67} + \\frac{\\sqrt{3457}}{67}\\right)^{2} + 1 + \\left(\\frac{43}{67} + \\frac{\\sqrt{3457}}{67}\\right)^{2}}}\\\\\\frac{- \\frac{43}{67} + \\frac{\\sqrt{3457}}{67}}{\\sqrt{\\left(- \\frac{43}{67} + \\frac{\\sqrt{3457}}{67}\\right)^{2} + 1 + \\left(\\frac{24}{67} + \\frac{\\sqrt{3457}}{67}\\right)^{2}}} & \\frac{- \\frac{\\sqrt{3457}}{67} - \\frac{43}{67}}{\\sqrt{\\left(- \\frac{24}{67} + \\frac{\\sqrt{3457}}{67}\\right)^{2} + 1 + \\left(\\frac{43}{67} + \\frac{\\sqrt{3457}}{67}\\right)^{2}}}\\\\\\frac{1}{\\sqrt{\\left(- \\frac{43}{67} + \\frac{\\sqrt{3457}}{67}\\right)^{2} + 1 + \\left(\\frac{24}{67} + \\frac{\\sqrt{3457}}{67}\\right)^{2}}} & \\frac{1}{\\sqrt{\\left(- \\frac{24}{67} + \\frac{\\sqrt{3457}}{67}\\right)^{2} + 1 + \\left(\\frac{43}{67} + \\frac{\\sqrt{3457}}{67}\\right)^{2}}}\\end{matrix}\\right]$"
      ],
      "text/plain": [
       "Matrix([\n",
       "[ (24/67 + sqrt(3457)/67)/sqrt((-43/67 + sqrt(3457)/67)**2 + 1 + (24/67 + sqrt(3457)/67)**2),  (24/67 - sqrt(3457)/67)/sqrt((-24/67 + sqrt(3457)/67)**2 + 1 + (43/67 + sqrt(3457)/67)**2)],\n",
       "[(-43/67 + sqrt(3457)/67)/sqrt((-43/67 + sqrt(3457)/67)**2 + 1 + (24/67 + sqrt(3457)/67)**2), (-sqrt(3457)/67 - 43/67)/sqrt((-24/67 + sqrt(3457)/67)**2 + 1 + (43/67 + sqrt(3457)/67)**2)],\n",
       "[                       1/sqrt((-43/67 + sqrt(3457)/67)**2 + 1 + (24/67 + sqrt(3457)/67)**2),                        1/sqrt((-24/67 + sqrt(3457)/67)**2 + 1 + (43/67 + sqrt(3457)/67)**2)]])"
      ]
     },
     "execution_count": 34,
     "metadata": {},
     "output_type": "execute_result"
    }
   ],
   "source": [
    "U"
   ]
  },
  {
   "cell_type": "code",
   "execution_count": 35,
   "id": "25aaa17c-8b9a-425a-b10e-5ed0a2dc3a58",
   "metadata": {},
   "outputs": [
    {
     "data": {
      "text/latex": [
       "$\\displaystyle \\left[\\begin{matrix}\\sqrt{62 - \\sqrt{3457}} & 0\\\\0 & \\sqrt{\\sqrt{3457} + 62}\\end{matrix}\\right]$"
      ],
      "text/plain": [
       "Matrix([\n",
       "[sqrt(62 - sqrt(3457)),                     0],\n",
       "[                    0, sqrt(sqrt(3457) + 62)]])"
      ]
     },
     "execution_count": 35,
     "metadata": {},
     "output_type": "execute_result"
    }
   ],
   "source": [
    "S"
   ]
  },
  {
   "cell_type": "code",
   "execution_count": 36,
   "id": "17ab5f38-420c-4523-9ae0-255c148e4288",
   "metadata": {},
   "outputs": [
    {
     "data": {
      "text/latex": [
       "$\\displaystyle \\left[\\begin{matrix}\\frac{- \\frac{1}{\\sqrt{\\left(- \\frac{43}{67} + \\frac{\\sqrt{3457}}{67}\\right)^{2} + 1 + \\left(\\frac{24}{67} + \\frac{\\sqrt{3457}}{67}\\right)^{2}}} + \\frac{2 \\left(- \\frac{43}{67} + \\frac{\\sqrt{3457}}{67}\\right)}{\\sqrt{\\left(- \\frac{43}{67} + \\frac{\\sqrt{3457}}{67}\\right)^{2} + 1 + \\left(\\frac{24}{67} + \\frac{\\sqrt{3457}}{67}\\right)^{2}}} + \\frac{\\frac{24}{67} + \\frac{\\sqrt{3457}}{67}}{\\sqrt{\\left(- \\frac{43}{67} + \\frac{\\sqrt{3457}}{67}\\right)^{2} + 1 + \\left(\\frac{24}{67} + \\frac{\\sqrt{3457}}{67}\\right)^{2}}}}{\\sqrt{62 - \\sqrt{3457}}} & \\frac{\\frac{2 \\left(- \\frac{\\sqrt{3457}}{67} - \\frac{43}{67}\\right)}{\\sqrt{\\left(- \\frac{24}{67} + \\frac{\\sqrt{3457}}{67}\\right)^{2} + 1 + \\left(\\frac{43}{67} + \\frac{\\sqrt{3457}}{67}\\right)^{2}}} - \\frac{1}{\\sqrt{\\left(- \\frac{24}{67} + \\frac{\\sqrt{3457}}{67}\\right)^{2} + 1 + \\left(\\frac{43}{67} + \\frac{\\sqrt{3457}}{67}\\right)^{2}}} + \\frac{\\frac{24}{67} - \\frac{\\sqrt{3457}}{67}}{\\sqrt{\\left(- \\frac{24}{67} + \\frac{\\sqrt{3457}}{67}\\right)^{2} + 1 + \\left(\\frac{43}{67} + \\frac{\\sqrt{3457}}{67}\\right)^{2}}}}{\\sqrt{\\sqrt{3457} + 62}}\\\\\\frac{- \\frac{3}{\\sqrt{\\left(- \\frac{43}{67} + \\frac{\\sqrt{3457}}{67}\\right)^{2} + 1 + \\left(\\frac{24}{67} + \\frac{\\sqrt{3457}}{67}\\right)^{2}}} + \\frac{3 \\left(- \\frac{43}{67} + \\frac{\\sqrt{3457}}{67}\\right)}{\\sqrt{\\left(- \\frac{43}{67} + \\frac{\\sqrt{3457}}{67}\\right)^{2} + 1 + \\left(\\frac{24}{67} + \\frac{\\sqrt{3457}}{67}\\right)^{2}}}}{\\sqrt{62 - \\sqrt{3457}}} & \\frac{\\frac{3 \\left(- \\frac{\\sqrt{3457}}{67} - \\frac{43}{67}\\right)}{\\sqrt{\\left(- \\frac{24}{67} + \\frac{\\sqrt{3457}}{67}\\right)^{2} + 1 + \\left(\\frac{43}{67} + \\frac{\\sqrt{3457}}{67}\\right)^{2}}} - \\frac{3}{\\sqrt{\\left(- \\frac{24}{67} + \\frac{\\sqrt{3457}}{67}\\right)^{2} + 1 + \\left(\\frac{43}{67} + \\frac{\\sqrt{3457}}{67}\\right)^{2}}}}{\\sqrt{\\sqrt{3457} + 62}}\\\\\\frac{- \\frac{3}{\\sqrt{\\left(- \\frac{43}{67} + \\frac{\\sqrt{3457}}{67}\\right)^{2} + 1 + \\left(\\frac{24}{67} + \\frac{\\sqrt{3457}}{67}\\right)^{2}}} + \\frac{4 \\left(- \\frac{43}{67} + \\frac{\\sqrt{3457}}{67}\\right)}{\\sqrt{\\left(- \\frac{43}{67} + \\frac{\\sqrt{3457}}{67}\\right)^{2} + 1 + \\left(\\frac{24}{67} + \\frac{\\sqrt{3457}}{67}\\right)^{2}}} + \\frac{\\frac{24}{67} + \\frac{\\sqrt{3457}}{67}}{\\sqrt{\\left(- \\frac{43}{67} + \\frac{\\sqrt{3457}}{67}\\right)^{2} + 1 + \\left(\\frac{24}{67} + \\frac{\\sqrt{3457}}{67}\\right)^{2}}}}{\\sqrt{62 - \\sqrt{3457}}} & \\frac{\\frac{4 \\left(- \\frac{\\sqrt{3457}}{67} - \\frac{43}{67}\\right)}{\\sqrt{\\left(- \\frac{24}{67} + \\frac{\\sqrt{3457}}{67}\\right)^{2} + 1 + \\left(\\frac{43}{67} + \\frac{\\sqrt{3457}}{67}\\right)^{2}}} - \\frac{3}{\\sqrt{\\left(- \\frac{24}{67} + \\frac{\\sqrt{3457}}{67}\\right)^{2} + 1 + \\left(\\frac{43}{67} + \\frac{\\sqrt{3457}}{67}\\right)^{2}}} + \\frac{\\frac{24}{67} - \\frac{\\sqrt{3457}}{67}}{\\sqrt{\\left(- \\frac{24}{67} + \\frac{\\sqrt{3457}}{67}\\right)^{2} + 1 + \\left(\\frac{43}{67} + \\frac{\\sqrt{3457}}{67}\\right)^{2}}}}{\\sqrt{\\sqrt{3457} + 62}}\\\\\\frac{- \\frac{4}{\\sqrt{\\left(- \\frac{43}{67} + \\frac{\\sqrt{3457}}{67}\\right)^{2} + 1 + \\left(\\frac{24}{67} + \\frac{\\sqrt{3457}}{67}\\right)^{2}}} + \\frac{7 \\left(- \\frac{43}{67} + \\frac{\\sqrt{3457}}{67}\\right)}{\\sqrt{\\left(- \\frac{43}{67} + \\frac{\\sqrt{3457}}{67}\\right)^{2} + 1 + \\left(\\frac{24}{67} + \\frac{\\sqrt{3457}}{67}\\right)^{2}}} + \\frac{3 \\left(\\frac{24}{67} + \\frac{\\sqrt{3457}}{67}\\right)}{\\sqrt{\\left(- \\frac{43}{67} + \\frac{\\sqrt{3457}}{67}\\right)^{2} + 1 + \\left(\\frac{24}{67} + \\frac{\\sqrt{3457}}{67}\\right)^{2}}}}{\\sqrt{62 - \\sqrt{3457}}} & \\frac{\\frac{7 \\left(- \\frac{\\sqrt{3457}}{67} - \\frac{43}{67}\\right)}{\\sqrt{\\left(- \\frac{24}{67} + \\frac{\\sqrt{3457}}{67}\\right)^{2} + 1 + \\left(\\frac{43}{67} + \\frac{\\sqrt{3457}}{67}\\right)^{2}}} - \\frac{4}{\\sqrt{\\left(- \\frac{24}{67} + \\frac{\\sqrt{3457}}{67}\\right)^{2} + 1 + \\left(\\frac{43}{67} + \\frac{\\sqrt{3457}}{67}\\right)^{2}}} + \\frac{3 \\left(\\frac{24}{67} - \\frac{\\sqrt{3457}}{67}\\right)}{\\sqrt{\\left(- \\frac{24}{67} + \\frac{\\sqrt{3457}}{67}\\right)^{2} + 1 + \\left(\\frac{43}{67} + \\frac{\\sqrt{3457}}{67}\\right)^{2}}}}{\\sqrt{\\sqrt{3457} + 62}}\\end{matrix}\\right]$"
      ],
      "text/plain": [
       "Matrix([\n",
       "[  (-1/sqrt((-43/67 + sqrt(3457)/67)**2 + 1 + (24/67 + sqrt(3457)/67)**2) + 2*(-43/67 + sqrt(3457)/67)/sqrt((-43/67 + sqrt(3457)/67)**2 + 1 + (24/67 + sqrt(3457)/67)**2) + (24/67 + sqrt(3457)/67)/sqrt((-43/67 + sqrt(3457)/67)**2 + 1 + (24/67 + sqrt(3457)/67)**2))/sqrt(62 - sqrt(3457)),   (2*(-sqrt(3457)/67 - 43/67)/sqrt((-24/67 + sqrt(3457)/67)**2 + 1 + (43/67 + sqrt(3457)/67)**2) - 1/sqrt((-24/67 + sqrt(3457)/67)**2 + 1 + (43/67 + sqrt(3457)/67)**2) + (24/67 - sqrt(3457)/67)/sqrt((-24/67 + sqrt(3457)/67)**2 + 1 + (43/67 + sqrt(3457)/67)**2))/sqrt(sqrt(3457) + 62)],\n",
       "[                                                                                               (-3/sqrt((-43/67 + sqrt(3457)/67)**2 + 1 + (24/67 + sqrt(3457)/67)**2) + 3*(-43/67 + sqrt(3457)/67)/sqrt((-43/67 + sqrt(3457)/67)**2 + 1 + (24/67 + sqrt(3457)/67)**2))/sqrt(62 - sqrt(3457)),                                                                                                (3*(-sqrt(3457)/67 - 43/67)/sqrt((-24/67 + sqrt(3457)/67)**2 + 1 + (43/67 + sqrt(3457)/67)**2) - 3/sqrt((-24/67 + sqrt(3457)/67)**2 + 1 + (43/67 + sqrt(3457)/67)**2))/sqrt(sqrt(3457) + 62)],\n",
       "[  (-3/sqrt((-43/67 + sqrt(3457)/67)**2 + 1 + (24/67 + sqrt(3457)/67)**2) + 4*(-43/67 + sqrt(3457)/67)/sqrt((-43/67 + sqrt(3457)/67)**2 + 1 + (24/67 + sqrt(3457)/67)**2) + (24/67 + sqrt(3457)/67)/sqrt((-43/67 + sqrt(3457)/67)**2 + 1 + (24/67 + sqrt(3457)/67)**2))/sqrt(62 - sqrt(3457)),   (4*(-sqrt(3457)/67 - 43/67)/sqrt((-24/67 + sqrt(3457)/67)**2 + 1 + (43/67 + sqrt(3457)/67)**2) - 3/sqrt((-24/67 + sqrt(3457)/67)**2 + 1 + (43/67 + sqrt(3457)/67)**2) + (24/67 - sqrt(3457)/67)/sqrt((-24/67 + sqrt(3457)/67)**2 + 1 + (43/67 + sqrt(3457)/67)**2))/sqrt(sqrt(3457) + 62)],\n",
       "[(-4/sqrt((-43/67 + sqrt(3457)/67)**2 + 1 + (24/67 + sqrt(3457)/67)**2) + 7*(-43/67 + sqrt(3457)/67)/sqrt((-43/67 + sqrt(3457)/67)**2 + 1 + (24/67 + sqrt(3457)/67)**2) + 3*(24/67 + sqrt(3457)/67)/sqrt((-43/67 + sqrt(3457)/67)**2 + 1 + (24/67 + sqrt(3457)/67)**2))/sqrt(62 - sqrt(3457)), (7*(-sqrt(3457)/67 - 43/67)/sqrt((-24/67 + sqrt(3457)/67)**2 + 1 + (43/67 + sqrt(3457)/67)**2) - 4/sqrt((-24/67 + sqrt(3457)/67)**2 + 1 + (43/67 + sqrt(3457)/67)**2) + 3*(24/67 - sqrt(3457)/67)/sqrt((-24/67 + sqrt(3457)/67)**2 + 1 + (43/67 + sqrt(3457)/67)**2))/sqrt(sqrt(3457) + 62)]])"
      ]
     },
     "execution_count": 36,
     "metadata": {},
     "output_type": "execute_result"
    }
   ],
   "source": [
    "V"
   ]
  },
  {
   "cell_type": "code",
   "execution_count": 65,
   "id": "3d926d77-1081-4f0c-bfb3-1d102f8836b8",
   "metadata": {},
   "outputs": [],
   "source": [
    "A = Matrix(np.random.randint(low=0, high=10,size=(4,4)))"
   ]
  },
  {
   "cell_type": "code",
   "execution_count": 66,
   "id": "ad6dd724-1458-4d01-ae70-08b21e503db4",
   "metadata": {},
   "outputs": [
    {
     "name": "stdout",
     "output_type": "stream",
     "text": [
      "⎡5  2  2  5⎤\n",
      "⎢          ⎥\n",
      "⎢9  4  4  2⎥\n",
      "⎢          ⎥\n",
      "⎢8  6  2  9⎥\n",
      "⎢          ⎥\n",
      "⎣7  2  3  0⎦\n"
     ]
    }
   ],
   "source": [
    "pprint(A)"
   ]
  },
  {
   "cell_type": "code",
   "execution_count": 97,
   "id": "f82c0135-3ba5-47a9-bd21-1fceef17ad0b",
   "metadata": {},
   "outputs": [],
   "source": [
    "rand_list = np.random.randint(0,100,9).tolist()\n",
    "\n",
    "M = Matrix(3,3,rand_list)\n",
    "# M1 = Matrix(3,3,[random.randint(0,9)])"
   ]
  },
  {
   "cell_type": "code",
   "execution_count": 98,
   "id": "82126cb6-9955-4e80-ba3b-a42e66964ce0",
   "metadata": {},
   "outputs": [
    {
     "data": {
      "text/latex": [
       "$\\displaystyle \\left[\\begin{matrix}42 & 6 & 2\\\\14 & 8 & 10\\\\24 & 82 & 39\\end{matrix}\\right]$"
      ],
      "text/plain": [
       "Matrix([\n",
       "[42,  6,  2],\n",
       "[14,  8, 10],\n",
       "[24, 82, 39]])"
      ]
     },
     "execution_count": 98,
     "metadata": {},
     "output_type": "execute_result"
    }
   ],
   "source": [
    "M"
   ]
  },
  {
   "cell_type": "code",
   "execution_count": 101,
   "id": "7809e5e4-8e0d-4a50-ad29-a7ec55c064cb",
   "metadata": {},
   "outputs": [
    {
     "data": {
      "text/latex": [
       "$\\displaystyle -21260$"
      ],
      "text/plain": [
       "-21260"
      ]
     },
     "execution_count": 101,
     "metadata": {},
     "output_type": "execute_result"
    }
   ],
   "source": [
    "M.det()"
   ]
  },
  {
   "cell_type": "code",
   "execution_count": 103,
   "id": "d669d118-2e37-4617-9758-90337e39469c",
   "metadata": {},
   "outputs": [
    {
     "data": {
      "text/latex": [
       "$\\displaystyle 1$"
      ],
      "text/plain": [
       "1"
      ]
     },
     "execution_count": 103,
     "metadata": {},
     "output_type": "execute_result"
    }
   ],
   "source": [
    "M.eye(4).det()"
   ]
  },
  {
   "cell_type": "code",
   "execution_count": 102,
   "id": "69e7f8ec-29a9-4ad3-9fe6-fd33f8fed4db",
   "metadata": {},
   "outputs": [
    {
     "data": {
      "text/latex": [
       "$\\displaystyle -21260$"
      ],
      "text/plain": [
       "-21260"
      ]
     },
     "execution_count": 102,
     "metadata": {},
     "output_type": "execute_result"
    }
   ],
   "source": [
    "M.det()"
   ]
  },
  {
   "cell_type": "code",
   "execution_count": 104,
   "id": "0a7bf0b2-2074-4e9a-9f33-6e6406773b38",
   "metadata": {},
   "outputs": [
    {
     "name": "stdout",
     "output_type": "stream",
     "text": [
      "{1: 5}\n"
     ]
    }
   ],
   "source": [
    "pprint(M.eye(5).eigenvals())"
   ]
  },
  {
   "cell_type": "code",
   "execution_count": 106,
   "id": "432975d6-bf50-4b98-8624-0ddd1d126a5d",
   "metadata": {},
   "outputs": [
    {
     "name": "stdout",
     "output_type": "stream",
     "text": [
      "⎡⎛      ⎡⎡1⎤  ⎡0⎤  ⎡0⎤  ⎡0⎤  ⎡0⎤⎤⎞⎤\n",
      "⎢⎜      ⎢⎢ ⎥  ⎢ ⎥  ⎢ ⎥  ⎢ ⎥  ⎢ ⎥⎥⎟⎥\n",
      "⎢⎜      ⎢⎢0⎥  ⎢1⎥  ⎢0⎥  ⎢0⎥  ⎢0⎥⎥⎟⎥\n",
      "⎢⎜      ⎢⎢ ⎥  ⎢ ⎥  ⎢ ⎥  ⎢ ⎥  ⎢ ⎥⎥⎟⎥\n",
      "⎢⎜1, 5, ⎢⎢0⎥, ⎢0⎥, ⎢1⎥, ⎢0⎥, ⎢0⎥⎥⎟⎥\n",
      "⎢⎜      ⎢⎢ ⎥  ⎢ ⎥  ⎢ ⎥  ⎢ ⎥  ⎢ ⎥⎥⎟⎥\n",
      "⎢⎜      ⎢⎢0⎥  ⎢0⎥  ⎢0⎥  ⎢1⎥  ⎢0⎥⎥⎟⎥\n",
      "⎢⎜      ⎢⎢ ⎥  ⎢ ⎥  ⎢ ⎥  ⎢ ⎥  ⎢ ⎥⎥⎟⎥\n",
      "⎣⎝      ⎣⎣0⎦  ⎣0⎦  ⎣0⎦  ⎣0⎦  ⎣1⎦⎦⎠⎦\n"
     ]
    }
   ],
   "source": [
    "pprint(M.eye(5).eigenvects())"
   ]
  },
  {
   "cell_type": "code",
   "execution_count": null,
   "id": "1e3f1ab6-d665-469e-8e4b-16b379bf1e70",
   "metadata": {},
   "outputs": [],
   "source": []
  }
 ],
 "metadata": {
  "kernelspec": {
   "display_name": "Python 3 (ipykernel)",
   "language": "python",
   "name": "python3"
  },
  "language_info": {
   "codemirror_mode": {
    "name": "ipython",
    "version": 3
   },
   "file_extension": ".py",
   "mimetype": "text/x-python",
   "name": "python",
   "nbconvert_exporter": "python",
   "pygments_lexer": "ipython3",
   "version": "3.13.3"
  }
 },
 "nbformat": 4,
 "nbformat_minor": 5
}
