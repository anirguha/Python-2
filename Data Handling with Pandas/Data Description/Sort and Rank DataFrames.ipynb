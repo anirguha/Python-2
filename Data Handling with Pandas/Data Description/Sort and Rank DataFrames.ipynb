{
  "cells": [
    {
      "cell_type": "markdown",
      "metadata": {
        "id": "view-in-github",
        "colab_type": "text"
      },
      "source": [
        "<a href=\"https://colab.research.google.com/github/anirguha/Python-2/blob/master/Data%20Handling%20with%20Pandas/Data%20Description/Sort%20and%20Rank%20DataFrames.ipynb\" target=\"_parent\"><img src=\"https://colab.research.google.com/assets/colab-badge.svg\" alt=\"Open In Colab\"/></a>"
      ]
    },
    {
      "metadata": {
        "id": "d1765cadd163ee48"
      },
      "cell_type": "markdown",
      "source": [
        "### Sort and Rank Functions"
      ],
      "id": "d1765cadd163ee48"
    },
    {
      "cell_type": "code",
      "source": [
        "from google.colab import drive\n",
        "drive.mount('/content/drive')"
      ],
      "metadata": {
        "id": "oJhclRx8DJck",
        "outputId": "1a8b8d41-24b4-436a-c356-55c7fd457d38",
        "colab": {
          "base_uri": "https://localhost:8080/"
        }
      },
      "id": "oJhclRx8DJck",
      "execution_count": 1,
      "outputs": [
        {
          "output_type": "stream",
          "name": "stdout",
          "text": [
            "Mounted at /content/drive\n"
          ]
        }
      ]
    },
    {
      "metadata": {
        "ExecuteTime": {
          "end_time": "2025-05-29T18:20:16.068593Z",
          "start_time": "2025-05-29T18:20:16.065673Z"
        },
        "id": "e99ba55925aa9b0b"
      },
      "cell_type": "code",
      "source": [
        "import pandas as pd"
      ],
      "id": "e99ba55925aa9b0b",
      "outputs": [],
      "execution_count": 3
    },
    {
      "metadata": {
        "ExecuteTime": {
          "end_time": "2025-05-29T18:20:16.267691Z",
          "start_time": "2025-05-29T18:20:16.259554Z"
        },
        "id": "17a0ec9c90c3d4ab",
        "outputId": "bf115336-021e-4acf-fd47-33d58695813d",
        "colab": {
          "base_uri": "https://localhost:8080/",
          "height": 266
        }
      },
      "cell_type": "code",
      "source": [
        "Cardata = { \"Mercedes\": [2, 4, 0, 4, 0, 3], \"Ford\": [3, 0, 0, 1, 6, 12], \"Tata\":[9, 3, 4, 1, 0, 0], \"Renault\":[12, 1, 0, 0, 3, 1]}\n",
        "Carsales = pd.DataFrame(Cardata)\n",
        "Carsales.index.rename(\"Sales place\", inplace=True)\n",
        "Carsales.rename(index={0: \"One\", 1: \"Two\", 2: \"Three\", 3: \"Four\", 4: \"Five\", 5: \"Six\"}, inplace=True)\n",
        "Carsales"
      ],
      "id": "17a0ec9c90c3d4ab",
      "outputs": [
        {
          "output_type": "execute_result",
          "data": {
            "text/plain": [
              "             Mercedes  Ford  Tata  Renault\n",
              "Sales place                               \n",
              "One                 2     3     9       12\n",
              "Two                 4     0     3        1\n",
              "Three               0     0     4        0\n",
              "Four                4     1     1        0\n",
              "Five                0     6     0        3\n",
              "Six                 3    12     0        1"
            ],
            "text/html": [
              "\n",
              "  <div id=\"df-96ae3470-3ad2-4282-9052-915171671de7\" class=\"colab-df-container\">\n",
              "    <div>\n",
              "<style scoped>\n",
              "    .dataframe tbody tr th:only-of-type {\n",
              "        vertical-align: middle;\n",
              "    }\n",
              "\n",
              "    .dataframe tbody tr th {\n",
              "        vertical-align: top;\n",
              "    }\n",
              "\n",
              "    .dataframe thead th {\n",
              "        text-align: right;\n",
              "    }\n",
              "</style>\n",
              "<table border=\"1\" class=\"dataframe\">\n",
              "  <thead>\n",
              "    <tr style=\"text-align: right;\">\n",
              "      <th></th>\n",
              "      <th>Mercedes</th>\n",
              "      <th>Ford</th>\n",
              "      <th>Tata</th>\n",
              "      <th>Renault</th>\n",
              "    </tr>\n",
              "    <tr>\n",
              "      <th>Sales place</th>\n",
              "      <th></th>\n",
              "      <th></th>\n",
              "      <th></th>\n",
              "      <th></th>\n",
              "    </tr>\n",
              "  </thead>\n",
              "  <tbody>\n",
              "    <tr>\n",
              "      <th>One</th>\n",
              "      <td>2</td>\n",
              "      <td>3</td>\n",
              "      <td>9</td>\n",
              "      <td>12</td>\n",
              "    </tr>\n",
              "    <tr>\n",
              "      <th>Two</th>\n",
              "      <td>4</td>\n",
              "      <td>0</td>\n",
              "      <td>3</td>\n",
              "      <td>1</td>\n",
              "    </tr>\n",
              "    <tr>\n",
              "      <th>Three</th>\n",
              "      <td>0</td>\n",
              "      <td>0</td>\n",
              "      <td>4</td>\n",
              "      <td>0</td>\n",
              "    </tr>\n",
              "    <tr>\n",
              "      <th>Four</th>\n",
              "      <td>4</td>\n",
              "      <td>1</td>\n",
              "      <td>1</td>\n",
              "      <td>0</td>\n",
              "    </tr>\n",
              "    <tr>\n",
              "      <th>Five</th>\n",
              "      <td>0</td>\n",
              "      <td>6</td>\n",
              "      <td>0</td>\n",
              "      <td>3</td>\n",
              "    </tr>\n",
              "    <tr>\n",
              "      <th>Six</th>\n",
              "      <td>3</td>\n",
              "      <td>12</td>\n",
              "      <td>0</td>\n",
              "      <td>1</td>\n",
              "    </tr>\n",
              "  </tbody>\n",
              "</table>\n",
              "</div>\n",
              "    <div class=\"colab-df-buttons\">\n",
              "\n",
              "  <div class=\"colab-df-container\">\n",
              "    <button class=\"colab-df-convert\" onclick=\"convertToInteractive('df-96ae3470-3ad2-4282-9052-915171671de7')\"\n",
              "            title=\"Convert this dataframe to an interactive table.\"\n",
              "            style=\"display:none;\">\n",
              "\n",
              "  <svg xmlns=\"http://www.w3.org/2000/svg\" height=\"24px\" viewBox=\"0 -960 960 960\">\n",
              "    <path d=\"M120-120v-720h720v720H120Zm60-500h600v-160H180v160Zm220 220h160v-160H400v160Zm0 220h160v-160H400v160ZM180-400h160v-160H180v160Zm440 0h160v-160H620v160ZM180-180h160v-160H180v160Zm440 0h160v-160H620v160Z\"/>\n",
              "  </svg>\n",
              "    </button>\n",
              "\n",
              "  <style>\n",
              "    .colab-df-container {\n",
              "      display:flex;\n",
              "      gap: 12px;\n",
              "    }\n",
              "\n",
              "    .colab-df-convert {\n",
              "      background-color: #E8F0FE;\n",
              "      border: none;\n",
              "      border-radius: 50%;\n",
              "      cursor: pointer;\n",
              "      display: none;\n",
              "      fill: #1967D2;\n",
              "      height: 32px;\n",
              "      padding: 0 0 0 0;\n",
              "      width: 32px;\n",
              "    }\n",
              "\n",
              "    .colab-df-convert:hover {\n",
              "      background-color: #E2EBFA;\n",
              "      box-shadow: 0px 1px 2px rgba(60, 64, 67, 0.3), 0px 1px 3px 1px rgba(60, 64, 67, 0.15);\n",
              "      fill: #174EA6;\n",
              "    }\n",
              "\n",
              "    .colab-df-buttons div {\n",
              "      margin-bottom: 4px;\n",
              "    }\n",
              "\n",
              "    [theme=dark] .colab-df-convert {\n",
              "      background-color: #3B4455;\n",
              "      fill: #D2E3FC;\n",
              "    }\n",
              "\n",
              "    [theme=dark] .colab-df-convert:hover {\n",
              "      background-color: #434B5C;\n",
              "      box-shadow: 0px 1px 3px 1px rgba(0, 0, 0, 0.15);\n",
              "      filter: drop-shadow(0px 1px 2px rgba(0, 0, 0, 0.3));\n",
              "      fill: #FFFFFF;\n",
              "    }\n",
              "  </style>\n",
              "\n",
              "    <script>\n",
              "      const buttonEl =\n",
              "        document.querySelector('#df-96ae3470-3ad2-4282-9052-915171671de7 button.colab-df-convert');\n",
              "      buttonEl.style.display =\n",
              "        google.colab.kernel.accessAllowed ? 'block' : 'none';\n",
              "\n",
              "      async function convertToInteractive(key) {\n",
              "        const element = document.querySelector('#df-96ae3470-3ad2-4282-9052-915171671de7');\n",
              "        const dataTable =\n",
              "          await google.colab.kernel.invokeFunction('convertToInteractive',\n",
              "                                                    [key], {});\n",
              "        if (!dataTable) return;\n",
              "\n",
              "        const docLinkHtml = 'Like what you see? Visit the ' +\n",
              "          '<a target=\"_blank\" href=https://colab.research.google.com/notebooks/data_table.ipynb>data table notebook</a>'\n",
              "          + ' to learn more about interactive tables.';\n",
              "        element.innerHTML = '';\n",
              "        dataTable['output_type'] = 'display_data';\n",
              "        await google.colab.output.renderOutput(dataTable, element);\n",
              "        const docLink = document.createElement('div');\n",
              "        docLink.innerHTML = docLinkHtml;\n",
              "        element.appendChild(docLink);\n",
              "      }\n",
              "    </script>\n",
              "  </div>\n",
              "\n",
              "\n",
              "    <div id=\"df-69bd5450-aaac-4013-b782-92c9a1f7cac5\">\n",
              "      <button class=\"colab-df-quickchart\" onclick=\"quickchart('df-69bd5450-aaac-4013-b782-92c9a1f7cac5')\"\n",
              "                title=\"Suggest charts\"\n",
              "                style=\"display:none;\">\n",
              "\n",
              "<svg xmlns=\"http://www.w3.org/2000/svg\" height=\"24px\"viewBox=\"0 0 24 24\"\n",
              "     width=\"24px\">\n",
              "    <g>\n",
              "        <path d=\"M19 3H5c-1.1 0-2 .9-2 2v14c0 1.1.9 2 2 2h14c1.1 0 2-.9 2-2V5c0-1.1-.9-2-2-2zM9 17H7v-7h2v7zm4 0h-2V7h2v10zm4 0h-2v-4h2v4z\"/>\n",
              "    </g>\n",
              "</svg>\n",
              "      </button>\n",
              "\n",
              "<style>\n",
              "  .colab-df-quickchart {\n",
              "      --bg-color: #E8F0FE;\n",
              "      --fill-color: #1967D2;\n",
              "      --hover-bg-color: #E2EBFA;\n",
              "      --hover-fill-color: #174EA6;\n",
              "      --disabled-fill-color: #AAA;\n",
              "      --disabled-bg-color: #DDD;\n",
              "  }\n",
              "\n",
              "  [theme=dark] .colab-df-quickchart {\n",
              "      --bg-color: #3B4455;\n",
              "      --fill-color: #D2E3FC;\n",
              "      --hover-bg-color: #434B5C;\n",
              "      --hover-fill-color: #FFFFFF;\n",
              "      --disabled-bg-color: #3B4455;\n",
              "      --disabled-fill-color: #666;\n",
              "  }\n",
              "\n",
              "  .colab-df-quickchart {\n",
              "    background-color: var(--bg-color);\n",
              "    border: none;\n",
              "    border-radius: 50%;\n",
              "    cursor: pointer;\n",
              "    display: none;\n",
              "    fill: var(--fill-color);\n",
              "    height: 32px;\n",
              "    padding: 0;\n",
              "    width: 32px;\n",
              "  }\n",
              "\n",
              "  .colab-df-quickchart:hover {\n",
              "    background-color: var(--hover-bg-color);\n",
              "    box-shadow: 0 1px 2px rgba(60, 64, 67, 0.3), 0 1px 3px 1px rgba(60, 64, 67, 0.15);\n",
              "    fill: var(--button-hover-fill-color);\n",
              "  }\n",
              "\n",
              "  .colab-df-quickchart-complete:disabled,\n",
              "  .colab-df-quickchart-complete:disabled:hover {\n",
              "    background-color: var(--disabled-bg-color);\n",
              "    fill: var(--disabled-fill-color);\n",
              "    box-shadow: none;\n",
              "  }\n",
              "\n",
              "  .colab-df-spinner {\n",
              "    border: 2px solid var(--fill-color);\n",
              "    border-color: transparent;\n",
              "    border-bottom-color: var(--fill-color);\n",
              "    animation:\n",
              "      spin 1s steps(1) infinite;\n",
              "  }\n",
              "\n",
              "  @keyframes spin {\n",
              "    0% {\n",
              "      border-color: transparent;\n",
              "      border-bottom-color: var(--fill-color);\n",
              "      border-left-color: var(--fill-color);\n",
              "    }\n",
              "    20% {\n",
              "      border-color: transparent;\n",
              "      border-left-color: var(--fill-color);\n",
              "      border-top-color: var(--fill-color);\n",
              "    }\n",
              "    30% {\n",
              "      border-color: transparent;\n",
              "      border-left-color: var(--fill-color);\n",
              "      border-top-color: var(--fill-color);\n",
              "      border-right-color: var(--fill-color);\n",
              "    }\n",
              "    40% {\n",
              "      border-color: transparent;\n",
              "      border-right-color: var(--fill-color);\n",
              "      border-top-color: var(--fill-color);\n",
              "    }\n",
              "    60% {\n",
              "      border-color: transparent;\n",
              "      border-right-color: var(--fill-color);\n",
              "    }\n",
              "    80% {\n",
              "      border-color: transparent;\n",
              "      border-right-color: var(--fill-color);\n",
              "      border-bottom-color: var(--fill-color);\n",
              "    }\n",
              "    90% {\n",
              "      border-color: transparent;\n",
              "      border-bottom-color: var(--fill-color);\n",
              "    }\n",
              "  }\n",
              "</style>\n",
              "\n",
              "      <script>\n",
              "        async function quickchart(key) {\n",
              "          const quickchartButtonEl =\n",
              "            document.querySelector('#' + key + ' button');\n",
              "          quickchartButtonEl.disabled = true;  // To prevent multiple clicks.\n",
              "          quickchartButtonEl.classList.add('colab-df-spinner');\n",
              "          try {\n",
              "            const charts = await google.colab.kernel.invokeFunction(\n",
              "                'suggestCharts', [key], {});\n",
              "          } catch (error) {\n",
              "            console.error('Error during call to suggestCharts:', error);\n",
              "          }\n",
              "          quickchartButtonEl.classList.remove('colab-df-spinner');\n",
              "          quickchartButtonEl.classList.add('colab-df-quickchart-complete');\n",
              "        }\n",
              "        (() => {\n",
              "          let quickchartButtonEl =\n",
              "            document.querySelector('#df-69bd5450-aaac-4013-b782-92c9a1f7cac5 button');\n",
              "          quickchartButtonEl.style.display =\n",
              "            google.colab.kernel.accessAllowed ? 'block' : 'none';\n",
              "        })();\n",
              "      </script>\n",
              "    </div>\n",
              "\n",
              "  <div id=\"id_d709f2cb-cc75-42ad-b18f-c5c8c42e6202\">\n",
              "    <style>\n",
              "      .colab-df-generate {\n",
              "        background-color: #E8F0FE;\n",
              "        border: none;\n",
              "        border-radius: 50%;\n",
              "        cursor: pointer;\n",
              "        display: none;\n",
              "        fill: #1967D2;\n",
              "        height: 32px;\n",
              "        padding: 0 0 0 0;\n",
              "        width: 32px;\n",
              "      }\n",
              "\n",
              "      .colab-df-generate:hover {\n",
              "        background-color: #E2EBFA;\n",
              "        box-shadow: 0px 1px 2px rgba(60, 64, 67, 0.3), 0px 1px 3px 1px rgba(60, 64, 67, 0.15);\n",
              "        fill: #174EA6;\n",
              "      }\n",
              "\n",
              "      [theme=dark] .colab-df-generate {\n",
              "        background-color: #3B4455;\n",
              "        fill: #D2E3FC;\n",
              "      }\n",
              "\n",
              "      [theme=dark] .colab-df-generate:hover {\n",
              "        background-color: #434B5C;\n",
              "        box-shadow: 0px 1px 3px 1px rgba(0, 0, 0, 0.15);\n",
              "        filter: drop-shadow(0px 1px 2px rgba(0, 0, 0, 0.3));\n",
              "        fill: #FFFFFF;\n",
              "      }\n",
              "    </style>\n",
              "    <button class=\"colab-df-generate\" onclick=\"generateWithVariable('Carsales')\"\n",
              "            title=\"Generate code using this dataframe.\"\n",
              "            style=\"display:none;\">\n",
              "\n",
              "  <svg xmlns=\"http://www.w3.org/2000/svg\" height=\"24px\"viewBox=\"0 0 24 24\"\n",
              "       width=\"24px\">\n",
              "    <path d=\"M7,19H8.4L18.45,9,17,7.55,7,17.6ZM5,21V16.75L18.45,3.32a2,2,0,0,1,2.83,0l1.4,1.43a1.91,1.91,0,0,1,.58,1.4,1.91,1.91,0,0,1-.58,1.4L9.25,21ZM18.45,9,17,7.55Zm-12,3A5.31,5.31,0,0,0,4.9,8.1,5.31,5.31,0,0,0,1,6.5,5.31,5.31,0,0,0,4.9,4.9,5.31,5.31,0,0,0,6.5,1,5.31,5.31,0,0,0,8.1,4.9,5.31,5.31,0,0,0,12,6.5,5.46,5.46,0,0,0,6.5,12Z\"/>\n",
              "  </svg>\n",
              "    </button>\n",
              "    <script>\n",
              "      (() => {\n",
              "      const buttonEl =\n",
              "        document.querySelector('#id_d709f2cb-cc75-42ad-b18f-c5c8c42e6202 button.colab-df-generate');\n",
              "      buttonEl.style.display =\n",
              "        google.colab.kernel.accessAllowed ? 'block' : 'none';\n",
              "\n",
              "      buttonEl.onclick = () => {\n",
              "        google.colab.notebook.generateWithVariable('Carsales');\n",
              "      }\n",
              "      })();\n",
              "    </script>\n",
              "  </div>\n",
              "\n",
              "    </div>\n",
              "  </div>\n"
            ],
            "application/vnd.google.colaboratory.intrinsic+json": {
              "type": "dataframe",
              "variable_name": "Carsales",
              "summary": "{\n  \"name\": \"Carsales\",\n  \"rows\": 6,\n  \"fields\": [\n    {\n      \"column\": \"Sales place\",\n      \"properties\": {\n        \"dtype\": \"string\",\n        \"num_unique_values\": 6,\n        \"samples\": [\n          \"One\",\n          \"Two\",\n          \"Six\"\n        ],\n        \"semantic_type\": \"\",\n        \"description\": \"\"\n      }\n    },\n    {\n      \"column\": \"Mercedes\",\n      \"properties\": {\n        \"dtype\": \"number\",\n        \"std\": 1,\n        \"min\": 0,\n        \"max\": 4,\n        \"num_unique_values\": 4,\n        \"samples\": [\n          4,\n          3,\n          2\n        ],\n        \"semantic_type\": \"\",\n        \"description\": \"\"\n      }\n    },\n    {\n      \"column\": \"Ford\",\n      \"properties\": {\n        \"dtype\": \"number\",\n        \"std\": 4,\n        \"min\": 0,\n        \"max\": 12,\n        \"num_unique_values\": 5,\n        \"samples\": [\n          0,\n          12,\n          1\n        ],\n        \"semantic_type\": \"\",\n        \"description\": \"\"\n      }\n    },\n    {\n      \"column\": \"Tata\",\n      \"properties\": {\n        \"dtype\": \"number\",\n        \"std\": 3,\n        \"min\": 0,\n        \"max\": 9,\n        \"num_unique_values\": 5,\n        \"samples\": [\n          3,\n          0,\n          4\n        ],\n        \"semantic_type\": \"\",\n        \"description\": \"\"\n      }\n    },\n    {\n      \"column\": \"Renault\",\n      \"properties\": {\n        \"dtype\": \"number\",\n        \"std\": 4,\n        \"min\": 0,\n        \"max\": 12,\n        \"num_unique_values\": 4,\n        \"samples\": [\n          1,\n          3,\n          12\n        ],\n        \"semantic_type\": \"\",\n        \"description\": \"\"\n      }\n    }\n  ]\n}"
            }
          },
          "metadata": {},
          "execution_count": 4
        }
      ],
      "execution_count": 4
    },
    {
      "metadata": {
        "ExecuteTime": {
          "end_time": "2025-05-29T18:15:39.422342Z",
          "start_time": "2025-05-29T18:15:39.418210Z"
        },
        "id": "c614d0af22667b90",
        "outputId": "41036ba8-a18d-4a59-9f66-c719e4124944",
        "colab": {
          "base_uri": "https://localhost:8080/"
        }
      },
      "cell_type": "code",
      "source": [
        "#Sort the DataFrame using the sort_vales() function\n",
        "print(Carsales.sort_values(by=\"Ford\", ascending=True))"
      ],
      "id": "c614d0af22667b90",
      "outputs": [
        {
          "output_type": "stream",
          "name": "stdout",
          "text": [
            "             Mercedes  Ford  Tata  Renault\n",
            "Sales place                               \n",
            "Two                 4     0     3        1\n",
            "Three               0     0     4        0\n",
            "Four                4     1     1        0\n",
            "One                 2     3     9       12\n",
            "Five                0     6     0        3\n",
            "Six                 3    12     0        1\n"
          ]
        }
      ],
      "execution_count": 5
    },
    {
      "metadata": {
        "ExecuteTime": {
          "end_time": "2025-05-29T18:16:21.112978Z",
          "start_time": "2025-05-29T18:16:21.108363Z"
        },
        "id": "9cad38cfea93c6f8",
        "outputId": "0b8e8993-f769-4268-e578-c8debb4b5112",
        "colab": {
          "base_uri": "https://localhost:8080/"
        }
      },
      "cell_type": "code",
      "source": [
        "#Sort the DataFrame using the sort_vales() function descending order\n",
        "print(Carsales.sort_values(by=\"Ford\", ascending=False))"
      ],
      "id": "9cad38cfea93c6f8",
      "outputs": [
        {
          "output_type": "stream",
          "name": "stdout",
          "text": [
            "             Mercedes  Ford  Tata  Renault\n",
            "Sales place                               \n",
            "Six                 3    12     0        1\n",
            "Five                0     6     0        3\n",
            "One                 2     3     9       12\n",
            "Four                4     1     1        0\n",
            "Two                 4     0     3        1\n",
            "Three               0     0     4        0\n"
          ]
        }
      ],
      "execution_count": 6
    },
    {
      "metadata": {
        "id": "3ad9542bd430eb3e"
      },
      "cell_type": "markdown",
      "source": [
        "#### Sort by multiple columns"
      ],
      "id": "3ad9542bd430eb3e"
    },
    {
      "metadata": {
        "ExecuteTime": {
          "end_time": "2025-05-29T18:29:34.874562Z",
          "start_time": "2025-05-29T18:29:34.868320Z"
        },
        "id": "6f193fa3f9bec2c6",
        "outputId": "89a834e6-7b2d-4acb-ab53-41e42c142a1f",
        "colab": {
          "base_uri": "https://localhost:8080/"
        }
      },
      "cell_type": "code",
      "source": [
        "print(Carsales.sort_values(by=[\"Ford\", \"Tata\"],ascending=False))"
      ],
      "id": "6f193fa3f9bec2c6",
      "outputs": [
        {
          "output_type": "stream",
          "name": "stdout",
          "text": [
            "             Mercedes  Ford  Tata  Renault\n",
            "Sales place                               \n",
            "Six                 3    12     0        1\n",
            "Five                0     6     0        3\n",
            "One                 2     3     9       12\n",
            "Four                4     1     1        0\n",
            "Three               0     0     4        0\n",
            "Two                 4     0     3        1\n"
          ]
        }
      ],
      "execution_count": 8
    },
    {
      "metadata": {
        "ExecuteTime": {
          "end_time": "2025-05-29T18:30:04.106009Z",
          "start_time": "2025-05-29T18:30:04.101638Z"
        },
        "id": "e7ed6fe8a424c5a1",
        "outputId": "934c824f-c150-48db-e838-4876ffe23f80",
        "colab": {
          "base_uri": "https://localhost:8080/"
        }
      },
      "cell_type": "code",
      "source": [
        "print(Carsales.sort_values(by=[\"Ford\", \"Tata\"],ascending=[False,True]))"
      ],
      "id": "e7ed6fe8a424c5a1",
      "outputs": [
        {
          "output_type": "stream",
          "name": "stdout",
          "text": [
            "             Mercedes  Ford  Tata  Renault\n",
            "Sales place                               \n",
            "Six                 3    12     0        1\n",
            "Five                0     6     0        3\n",
            "One                 2     3     9       12\n",
            "Four                4     1     1        0\n",
            "Two                 4     0     3        1\n",
            "Three               0     0     4        0\n"
          ]
        }
      ],
      "execution_count": 9
    },
    {
      "metadata": {
        "ExecuteTime": {
          "end_time": "2025-05-29T18:31:17.366475Z",
          "start_time": "2025-05-29T18:31:17.361484Z"
        },
        "id": "d12fbf01a70dba0c",
        "outputId": "afd786b8-7176-4043-d456-8e64cbc76024",
        "colab": {
          "base_uri": "https://localhost:8080/"
        }
      },
      "cell_type": "code",
      "source": [
        "print(Carsales.sort_index())"
      ],
      "id": "d12fbf01a70dba0c",
      "outputs": [
        {
          "output_type": "stream",
          "name": "stdout",
          "text": [
            "             Mercedes  Ford  Tata  Renault\n",
            "Sales place                               \n",
            "Five                0     6     0        3\n",
            "Four                4     1     1        0\n",
            "One                 2     3     9       12\n",
            "Six                 3    12     0        1\n",
            "Three               0     0     4        0\n",
            "Two                 4     0     3        1\n"
          ]
        }
      ],
      "execution_count": 10
    },
    {
      "metadata": {
        "id": "718ba6a14a0e25be"
      },
      "cell_type": "markdown",
      "source": [
        "### Find max value for every column using idexmax() function"
      ],
      "id": "718ba6a14a0e25be"
    },
    {
      "metadata": {
        "ExecuteTime": {
          "end_time": "2025-05-29T18:34:17.632498Z",
          "start_time": "2025-05-29T18:34:17.629635Z"
        },
        "id": "8a7e16b4b98f4c40",
        "outputId": "1e4cbeaa-2e15-41e3-a27b-b272c4539980",
        "colab": {
          "base_uri": "https://localhost:8080/"
        }
      },
      "cell_type": "code",
      "source": [
        "print(Carsales.idxmax())"
      ],
      "id": "8a7e16b4b98f4c40",
      "outputs": [
        {
          "output_type": "stream",
          "name": "stdout",
          "text": [
            "Mercedes    Two\n",
            "Ford        Six\n",
            "Tata        One\n",
            "Renault     One\n",
            "dtype: object\n"
          ]
        }
      ],
      "execution_count": 11
    },
    {
      "metadata": {
        "ExecuteTime": {
          "end_time": "2025-05-29T18:35:46.136072Z",
          "start_time": "2025-05-29T18:35:46.131573Z"
        },
        "id": "321b977e82a30a0f",
        "outputId": "894c8e27-7e86-4d94-ecc9-7eaeb6bbe0cf"
      },
      "cell_type": "code",
      "source": [
        "print(Carsales.idxmax(axis=1))"
      ],
      "id": "321b977e82a30a0f",
      "outputs": [
        {
          "name": "stdout",
          "output_type": "stream",
          "text": [
            "Sales place\n",
            "One       Renault\n",
            "Two      Mercedes\n",
            "Three        Tata\n",
            "Four     Mercedes\n",
            "Five         Ford\n",
            "Six          Ford\n",
            "dtype: object\n"
          ]
        }
      ],
      "execution_count": null
    },
    {
      "metadata": {
        "id": "886e4abf2508690d"
      },
      "cell_type": "markdown",
      "source": [
        "### rows value or sales places having minimum value"
      ],
      "id": "886e4abf2508690d"
    },
    {
      "cell_type": "markdown",
      "source": [
        "# New Section"
      ],
      "metadata": {
        "id": "YkAbWtvMEUXC"
      },
      "id": "YkAbWtvMEUXC"
    },
    {
      "metadata": {
        "ExecuteTime": {
          "end_time": "2025-05-29T18:37:28.621626Z",
          "start_time": "2025-05-29T18:37:28.617897Z"
        },
        "id": "58f7b0a767594145",
        "outputId": "22e25ec1-38a5-4c90-99fd-71fb81115645"
      },
      "cell_type": "code",
      "source": [
        "print(Carsales.idxmin())"
      ],
      "id": "58f7b0a767594145",
      "outputs": [
        {
          "name": "stdout",
          "output_type": "stream",
          "text": [
            "Mercedes    Three\n",
            "Ford          Two\n",
            "Tata         Five\n",
            "Renault     Three\n",
            "dtype: object\n"
          ]
        }
      ],
      "execution_count": null
    },
    {
      "metadata": {
        "ExecuteTime": {
          "end_time": "2025-05-29T18:38:46.974517Z",
          "start_time": "2025-05-29T18:38:46.971419Z"
        },
        "id": "78d380aa455ec8c8",
        "outputId": "63b31610-194f-445f-e0b0-ae81eb90173c"
      },
      "cell_type": "code",
      "source": [
        "print(Carsales.idxmin(axis=\"columns\"))"
      ],
      "id": "78d380aa455ec8c8",
      "outputs": [
        {
          "name": "stdout",
          "output_type": "stream",
          "text": [
            "Sales place\n",
            "One      Mercedes\n",
            "Two          Ford\n",
            "Three    Mercedes\n",
            "Four      Renault\n",
            "Five     Mercedes\n",
            "Six          Tata\n",
            "dtype: object\n"
          ]
        }
      ],
      "execution_count": null
    },
    {
      "metadata": {
        "ExecuteTime": {
          "end_time": "2025-05-29T18:41:02.616868Z",
          "start_time": "2025-05-29T18:41:02.612030Z"
        },
        "id": "d909dbd5cdc85175",
        "outputId": "6d4b8a60-1d1d-4eb4-9d41-f87608501a0a"
      },
      "cell_type": "code",
      "source": [
        "Carsales.iloc[::2,:]"
      ],
      "id": "d909dbd5cdc85175",
      "outputs": [
        {
          "data": {
            "text/plain": [
              "             Mercedes  Ford  Tata  Renault\n",
              "Sales place                               \n",
              "One                 2     3     9       12\n",
              "Three               0     0     4        0\n",
              "Five                0     6     0        3"
            ],
            "text/html": [
              "<div>\n",
              "<style scoped>\n",
              "    .dataframe tbody tr th:only-of-type {\n",
              "        vertical-align: middle;\n",
              "    }\n",
              "\n",
              "    .dataframe tbody tr th {\n",
              "        vertical-align: top;\n",
              "    }\n",
              "\n",
              "    .dataframe thead th {\n",
              "        text-align: right;\n",
              "    }\n",
              "</style>\n",
              "<table border=\"1\" class=\"dataframe\">\n",
              "  <thead>\n",
              "    <tr style=\"text-align: right;\">\n",
              "      <th></th>\n",
              "      <th>Mercedes</th>\n",
              "      <th>Ford</th>\n",
              "      <th>Tata</th>\n",
              "      <th>Renault</th>\n",
              "    </tr>\n",
              "    <tr>\n",
              "      <th>Sales place</th>\n",
              "      <th></th>\n",
              "      <th></th>\n",
              "      <th></th>\n",
              "      <th></th>\n",
              "    </tr>\n",
              "  </thead>\n",
              "  <tbody>\n",
              "    <tr>\n",
              "      <th>One</th>\n",
              "      <td>2</td>\n",
              "      <td>3</td>\n",
              "      <td>9</td>\n",
              "      <td>12</td>\n",
              "    </tr>\n",
              "    <tr>\n",
              "      <th>Three</th>\n",
              "      <td>0</td>\n",
              "      <td>0</td>\n",
              "      <td>4</td>\n",
              "      <td>0</td>\n",
              "    </tr>\n",
              "    <tr>\n",
              "      <th>Five</th>\n",
              "      <td>0</td>\n",
              "      <td>6</td>\n",
              "      <td>0</td>\n",
              "      <td>3</td>\n",
              "    </tr>\n",
              "  </tbody>\n",
              "</table>\n",
              "</div>"
            ]
          },
          "execution_count": 25,
          "metadata": {},
          "output_type": "execute_result"
        }
      ],
      "execution_count": null
    },
    {
      "metadata": {
        "ExecuteTime": {
          "end_time": "2025-05-29T18:44:05.564944Z",
          "start_time": "2025-05-29T18:44:05.559764Z"
        },
        "id": "497074c75c405190",
        "outputId": "01cf8b0c-92c1-4c5f-f271-428140a40b95"
      },
      "cell_type": "code",
      "source": [
        "#Find the Top 3 highest values for Mercedes and keep duplicates\n",
        "print(Carsales.nlargest(3,columns=\"Mercedes\",keep=\"all\"))"
      ],
      "id": "497074c75c405190",
      "outputs": [
        {
          "name": "stdout",
          "output_type": "stream",
          "text": [
            "             Mercedes  Ford  Tata  Renault\n",
            "Sales place                               \n",
            "Two                 4     0     3        1\n",
            "Four                4     1     1        0\n",
            "Six                 3    12     0        1\n"
          ]
        }
      ],
      "execution_count": null
    },
    {
      "metadata": {
        "ExecuteTime": {
          "end_time": "2025-05-29T18:44:51.926566Z",
          "start_time": "2025-05-29T18:44:51.921248Z"
        },
        "id": "779a503e405ef884",
        "outputId": "74e76047-f2f9-4c4c-e336-7218685439de"
      },
      "cell_type": "code",
      "source": [
        "#Find the Top 3 highest values for Mercedes and keep duplicates\n",
        "print(Carsales.nsmallest(3,columns=\"Mercedes\",keep=\"all\"))"
      ],
      "id": "779a503e405ef884",
      "outputs": [
        {
          "name": "stdout",
          "output_type": "stream",
          "text": [
            "             Mercedes  Ford  Tata  Renault\n",
            "Sales place                               \n",
            "Three               0     0     4        0\n",
            "Five                0     6     0        3\n",
            "One                 2     3     9       12\n"
          ]
        }
      ],
      "execution_count": null
    },
    {
      "metadata": {
        "id": "fd58c1d44ac36e98"
      },
      "cell_type": "code",
      "outputs": [],
      "execution_count": null,
      "source": [],
      "id": "fd58c1d44ac36e98"
    }
  ],
  "metadata": {
    "kernelspec": {
      "display_name": "Python 3",
      "language": "python",
      "name": "python3"
    },
    "language_info": {
      "codemirror_mode": {
        "name": "ipython",
        "version": 2
      },
      "file_extension": ".py",
      "mimetype": "text/x-python",
      "name": "python",
      "nbconvert_exporter": "python",
      "pygments_lexer": "ipython2",
      "version": "2.7.6"
    },
    "colab": {
      "provenance": [],
      "include_colab_link": true
    }
  },
  "nbformat": 4,
  "nbformat_minor": 5
}