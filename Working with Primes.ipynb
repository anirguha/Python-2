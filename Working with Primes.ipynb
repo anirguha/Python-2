{
 "cells": [
  {
   "cell_type": "code",
   "execution_count": null,
   "id": "0e8307bc-cdd0-432a-922f-b985f658cbf4",
   "metadata": {},
   "outputs": [],
   "source": [
    "#Objective of the code is to identify if a number is prime\n",
    "def is_prime(n: int) -> bool:\n",
    "\n",
    "    \"\"\"The function identifies if a number is prime\"\"\"\n",
    "\n",
    "    if n in [1,2,3]:\n",
    "        is_prime = True\n",
    "    else:\n",
    "        for i in range(2,int(n**0.5)+1,1):\n",
    "            if n % i == 0:\n",
    "                is_prime = False\n",
    "                break\n",
    "            else:\n",
    "                is_prime = True\n",
    "\n",
    "    return is_prime"
   ]
  },
  {
   "cell_type": "code",
   "id": "bc19340c-071e-4686-a915-12040a347767",
   "metadata": {
    "jupyter": {
     "is_executing": true
    }
   },
   "source": [
    "def prime_numbers_in_range(m: int, n: int) -> list:\n",
    "    \"\"\"The function creates a list of prime numbers \n",
    "    within two values m and n\"\"\"\n",
    "    prime_list = []\n",
    "    if m > n:\n",
    "        return prime_list\n",
    "    for num in range(m,n,1):\n",
    "        if is_prime(num):\n",
    "            prime_list.append(num)\n",
    "\n",
    "    return prime_list"
   ],
   "outputs": [],
   "execution_count": null
  },
  {
   "cell_type": "code",
   "execution_count": 42,
   "id": "a2310f88-b300-44bd-b396-cbf8f8dbcd16",
   "metadata": {},
   "outputs": [
    {
     "name": "stdout",
     "output_type": "stream",
     "text": [
      "Number of Prime Numbers between 999 and 10000 is     1061\n"
     ]
    }
   ],
   "source": [
    "## Objective of this code is to find a list of primes in\n",
    "## between two numbers m and n\n",
    "\n",
    "m = 999\n",
    "n = 10000\n",
    "\n",
    "prime_numbers_in_m_n = prime_numbers_in_range(m,n)\n",
    "count_of_primes_m_n = len(prime_numbers_in_m_n)\n",
    "\n",
    "if count_of_primes_m_n == 0:\n",
    "    print('Invalid range: m cannot be > n')\n",
    "else:\n",
    "    print(f'Number of Prime Numbers between {m} and {n} is \\\n",
    "    {count_of_primes_m_n}') \n",
    "    #\\n and\\n the numbers are {prime_numbers_in_m_n}')"
   ]
  },
  {
   "cell_type": "code",
   "execution_count": null,
   "id": "08b504c3-91de-4f1c-8a0a-c95425ed71d8",
   "metadata": {},
   "outputs": [],
   "source": [
    "\n",
    "def sum_of_primes(m: int, n:int)-> int:\n",
    "    \"\"\"Find the sum of all prime numbers in between two numbers\"\"\"\n",
    "    prime_lst = prime_numbers_in_range(m,n)\n",
    "    sum_primes = sum(i for i in prime_lst)\n",
    "    return sum_primes"
   ]
  },
  {
   "cell_type": "code",
   "id": "ee7a47b8-36ee-4799-941e-0fbb899f1659",
   "metadata": {
    "jupyter": {
     "is_executing": true
    }
   },
   "source": [
    "## Objective of this code is to find the sum of all primes in\n",
    "## between two numbers m and n\n",
    "m = 1\n",
    "n = 15\n",
    "\n",
    "sum_of_prime_between_m_n = sum_of_primes(m,n)\n",
    "\n",
    "print(sum_of_prime_between_m_n)"
   ],
   "outputs": [],
   "execution_count": null
  },
  {
   "cell_type": "code",
   "execution_count": null,
   "id": "517002ee-0da1-4b03-808b-d2bcd2a9efe5",
   "metadata": {},
   "outputs": [],
   "source": []
  },
  {
   "cell_type": "code",
   "execution_count": null,
   "id": "dcccfc7f-7d77-4e9b-93d5-48fdf9634ebf",
   "metadata": {},
   "outputs": [],
   "source": []
  }
 ],
 "metadata": {
  "kernelspec": {
   "display_name": "Python 3 (ipykernel)",
   "language": "python",
   "name": "python3"
  },
  "language_info": {
   "codemirror_mode": {
    "name": "ipython",
    "version": 3
   },
   "file_extension": ".py",
   "mimetype": "text/x-python",
   "name": "python",
   "nbconvert_exporter": "python",
   "pygments_lexer": "ipython3",
   "version": "3.13.3"
  }
 },
 "nbformat": 4,
 "nbformat_minor": 5
}
