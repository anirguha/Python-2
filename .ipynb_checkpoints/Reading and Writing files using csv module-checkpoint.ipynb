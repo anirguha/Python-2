{
 "cells": [
  {
   "cell_type": "code",
   "execution_count": 3,
   "id": "5da9b91f-ee12-4bb6-ade9-7163904ee210",
   "metadata": {},
   "outputs": [
    {
     "name": "stdout",
     "output_type": "stream",
     "text": [
      "['topic', 'point', 'papers,', 'ups,', 'scripts.']\n"
     ]
    }
   ],
   "source": [
    "p_words = []\n",
    "\n",
    "# YOUR CODE HERE\n",
    "f = open(\"assets/school_prompt.txt\",\"r\")\n",
    "lines = f.read()\n",
    "words = lines.split()\n",
    "for ch in words:\n",
    "    if ch.find('p') != -1:\n",
    "        p_words = p_words + [ch]\n",
    "print(p_words)\n",
    "f.close()"
   ]
  },
  {
   "cell_type": "code",
   "execution_count": 6,
   "id": "46854bb2-34cb-4731-941c-147536e2e71f",
   "metadata": {},
   "outputs": [
    {
     "name": "stdout",
     "output_type": "stream",
     "text": [
      "['Writing essays for school can be difficult but']\n",
      "['many students find that by researching their topic that they']\n",
      "['have more to say and are better informed. Here are the university']\n",
      "['we require many undergraduate students to take a first year writing requirement']\n",
      "['so that they can']\n",
      "['have a solid foundation for their writing skills. This comes']\n",
      "['in handy for many students.']\n",
      "['Different schools have different requirements', ' but everyone uses']\n",
      "['writing at some point in their academic career', ' be it essays', ' research papers', '']\n",
      "['technical write ups', ' or scripts.']\n"
     ]
    }
   ],
   "source": [
    "import csv\n",
    "p_words = []\n",
    "\n",
    "# YOUR CODE HERE\n",
    "with open(\"assets/school_prompt.txt\") as csvfile:\n",
    "    reader = csv.reader(csvfile)\n",
    "    \n",
    "    for row in reader:\n",
    "        print(row)\n",
    " "
   ]
  },
  {
   "cell_type": "code",
   "execution_count": 4,
   "id": "11f91fae-c0f4-4aab-9da5-0c914c52b465",
   "metadata": {},
   "outputs": [
    {
     "ename": "ValueError",
     "evalue": "I/O operation on closed file.",
     "output_type": "error",
     "traceback": [
      "\u001b[0;31m---------------------------------------------------------------------------\u001b[0m",
      "\u001b[0;31mValueError\u001b[0m                                Traceback (most recent call last)",
      "Cell \u001b[0;32mIn[4], line 13\u001b[0m\n\u001b[1;32m     10\u001b[0m     writer \u001b[38;5;241m=\u001b[39m csv\u001b[38;5;241m.\u001b[39mwriter(f,delimiter \u001b[38;5;241m=\u001b[39m \u001b[38;5;124m\"\u001b[39m\u001b[38;5;124m,\u001b[39m\u001b[38;5;124m\"\u001b[39m)\n\u001b[1;32m     11\u001b[0m     writer\u001b[38;5;241m.\u001b[39mwriterow(row)\n\u001b[0;32m---> 13\u001b[0m \u001b[38;5;28;01mfor\u001b[39;00m row \u001b[38;5;129;01min\u001b[39;00m reader:\n\u001b[1;32m     14\u001b[0m     writer\u001b[38;5;241m.\u001b[39mwriterow(row)\n",
      "\u001b[0;31mValueError\u001b[0m: I/O operation on closed file."
     ]
    }
   ],
   "source": [
    "import csv\n",
    "p_words = []\n",
    "\n",
    "# YOUR CODE HERE\n",
    "with open(\"assets/school_prompt.txt\",\"r\") as csvfile:\n",
    "    reader = csv.reader(csvfile)\n",
    "      \n",
    "# write the contents of school_prompt to a new file\n",
    "with open(\"assets/school_prompt1.txt\",\"w\") as f:\n",
    "    writer = csv.writer(f,delimiter = \",\")\n",
    "    writer.writerow(row)\n",
    "\n",
    "for row in reader:\n",
    "    writer.writerow(row)\n",
    "                "
   ]
  },
  {
   "cell_type": "code",
   "execution_count": null,
   "id": "4acf52f9-79a9-455c-aa2b-dcc33b12d577",
   "metadata": {},
   "outputs": [],
   "source": []
  }
 ],
 "metadata": {
  "kernelspec": {
   "display_name": "Python 3 (ipykernel)",
   "language": "python",
   "name": "python3"
  },
  "language_info": {
   "codemirror_mode": {
    "name": "ipython",
    "version": 3
   },
   "file_extension": ".py",
   "mimetype": "text/x-python",
   "name": "python",
   "nbconvert_exporter": "python",
   "pygments_lexer": "ipython3",
   "version": "3.12.7"
  }
 },
 "nbformat": 4,
 "nbformat_minor": 5
}
