{
 "cells": [
  {
   "cell_type": "markdown",
   "id": "3a84a8a1-5ed5-4f0a-b632-bfa482f02b25",
   "metadata": {},
   "source": [
    "## **Document Similarity**"
   ]
  },
  {
   "cell_type": "code",
   "execution_count": 1,
   "id": "368b69f5-ffdf-4084-9313-7380de881a56",
   "metadata": {},
   "outputs": [],
   "source": [
    "import pandas as pd\n",
    "import numpy as np\n",
    "\n",
    "pd.set_option('max_colwidth', None)"
   ]
  },
  {
   "cell_type": "code",
   "execution_count": 2,
   "id": "c6af096d-29dc-4513-8735-266cf31a501b",
   "metadata": {},
   "outputs": [],
   "source": [
    "books = pd.read_csv('../Data/childrens_books.csv')"
   ]
  },
  {
   "cell_type": "code",
   "execution_count": 3,
   "id": "e5bacf87-b2fb-4fc5-98bc-56a87feda766",
   "metadata": {},
   "outputs": [
    {
     "data": {
      "text/html": [
       "<div>\n",
       "<style scoped>\n",
       "    .dataframe tbody tr th:only-of-type {\n",
       "        vertical-align: middle;\n",
       "    }\n",
       "\n",
       "    .dataframe tbody tr th {\n",
       "        vertical-align: top;\n",
       "    }\n",
       "\n",
       "    .dataframe thead th {\n",
       "        text-align: right;\n",
       "    }\n",
       "</style>\n",
       "<table border=\"1\" class=\"dataframe\">\n",
       "  <thead>\n",
       "    <tr style=\"text-align: right;\">\n",
       "      <th></th>\n",
       "      <th>Ranking</th>\n",
       "      <th>Title</th>\n",
       "      <th>Author</th>\n",
       "      <th>Year</th>\n",
       "      <th>Rating</th>\n",
       "      <th>Description</th>\n",
       "    </tr>\n",
       "  </thead>\n",
       "  <tbody>\n",
       "    <tr>\n",
       "      <th>0</th>\n",
       "      <td>1</td>\n",
       "      <td>Where the Wild Things Are</td>\n",
       "      <td>Maurice Sendak</td>\n",
       "      <td>1963</td>\n",
       "      <td>4.25</td>\n",
       "      <td>Where the Wild Things Are follows Max, a young boy who, after being sent to his room for misbehaving, imagines sailing to an island filled with wild creatures. As their king, Max tames the beasts and eventually returns home to find his supper waiting for him. This iconic book explores themes of imagination, adventure, and the complex emotions of childhood, all captured through Sendak's whimsical illustrations and story.</td>\n",
       "    </tr>\n",
       "    <tr>\n",
       "      <th>1</th>\n",
       "      <td>2</td>\n",
       "      <td>The Very Hungry Caterpillar</td>\n",
       "      <td>Eric Carle</td>\n",
       "      <td>1969</td>\n",
       "      <td>4.34</td>\n",
       "      <td>The Very Hungry Caterpillar tells the story of a caterpillar who eats through a variety of foods before eventually becoming a butterfly. Eric Carle’s use of colorful collage illustrations and rhythmic text has made this book a beloved classic for young readers. The simple, engaging story introduces children to days of the week, counting, and the concept of metamorphosis. It’s a staple in early childhood education.</td>\n",
       "    </tr>\n",
       "  </tbody>\n",
       "</table>\n",
       "</div>"
      ],
      "text/plain": [
       "   Ranking                        Title          Author  Year Rating  \\\n",
       "0        1    Where the Wild Things Are  Maurice Sendak  1963   4.25   \n",
       "1        2  The Very Hungry Caterpillar      Eric Carle  1969   4.34   \n",
       "\n",
       "                                                                                                                                                                                                                                                                                                                                                                                                                               Description  \n",
       "0  Where the Wild Things Are follows Max, a young boy who, after being sent to his room for misbehaving, imagines sailing to an island filled with wild creatures. As their king, Max tames the beasts and eventually returns home to find his supper waiting for him. This iconic book explores themes of imagination, adventure, and the complex emotions of childhood, all captured through Sendak's whimsical illustrations and story.  \n",
       "1        The Very Hungry Caterpillar tells the story of a caterpillar who eats through a variety of foods before eventually becoming a butterfly. Eric Carle’s use of colorful collage illustrations and rhythmic text has made this book a beloved classic for young readers. The simple, engaging story introduces children to days of the week, counting, and the concept of metamorphosis. It’s a staple in early childhood education.  "
      ]
     },
     "execution_count": 3,
     "metadata": {},
     "output_type": "execute_result"
    }
   ],
   "source": [
    "books.head(2)"
   ]
  },
  {
   "cell_type": "code",
   "execution_count": 14,
   "id": "13ec2157-0c07-4750-b6f1-400bca62e69e",
   "metadata": {},
   "outputs": [
    {
     "data": {
      "text/plain": [
       "Index([13], dtype='int64')"
      ]
     },
     "execution_count": 14,
     "metadata": {},
     "output_type": "execute_result"
    }
   ],
   "source": [
    "books[books.Title.str.contains(\"Harry Potter and the Sorcerer's Stone\",case=False)].index"
   ]
  },
  {
   "cell_type": "code",
   "execution_count": 18,
   "id": "801f0712-c6a7-4e35-bb16-7f93f3bedff7",
   "metadata": {},
   "outputs": [],
   "source": [
    "## Suppress the warnings\n",
    "import warnings\n",
    "warnings.filterwarnings(\"ignore\")"
   ]
  },
  {
   "cell_type": "code",
   "execution_count": 19,
   "id": "3872e67f-b370-4f54-9e4b-7b5f89fc6a6a",
   "metadata": {},
   "outputs": [],
   "source": [
    "from transformers import pipeline, logging\n",
    "logging.set_verbosity_error()"
   ]
  },
  {
   "cell_type": "code",
   "execution_count": 29,
   "id": "24fbc5c9-8b3d-40d0-a359-26a646be4c02",
   "metadata": {},
   "outputs": [
    {
     "data": {
      "text/plain": [
       "(100, 384)"
      ]
     },
     "execution_count": 29,
     "metadata": {},
     "output_type": "execute_result"
    }
   ],
   "source": [
    "## Turn the description column into embeddings using feature extraction\n",
    "feature_extractor = pipeline(\"feature-extraction\", \n",
    "                model=\"sentence-transformers/all-MiniLM-L6-v2\",\n",
    "                device='mps'\n",
    "               )\n",
    "\n",
    "# extract the embeddings\n",
    "embeddings = books['Description'].apply(lambda x: feature_extractor(x)[0][0])\n",
    "embeddings_books = np.vstack(embeddings)\n",
    "embeddings_books.shape"
   ]
  },
  {
   "cell_type": "code",
   "execution_count": 35,
   "id": "c5006570-ab21-4b63-8814-cf83d53144ad",
   "metadata": {},
   "outputs": [],
   "source": [
    "# create a function to get book recommendations\n",
    "from sklearn.metrics.pairwise import cosine_similarity\n",
    "\n",
    "def get_similar_books(embeddings, book_index, book_details, top_n=3):\n",
    "    \n",
    "    # specify the book\n",
    "    b_embedding = np.array(embeddings[book_index]).reshape(1, -1)\n",
    "    \n",
    "    # calculate cosine similarity scores\n",
    "    similarity_scores = cosine_similarity(b_embedding, embeddings)\n",
    "    similarity_scores_series = pd.Series(similarity_scores.flatten(), name='similarity_score')\n",
    "    \n",
    "    # combine with book info and their similarity scores\n",
    "    similarity_df = pd.concat([book_details, similarity_scores_series], axis=1)\n",
    "    \n",
    "    # sort and return top n most similar books\n",
    "    return similarity_df.sort_values('similarity_score', ascending=False).iloc[0:top_n+1]"
   ]
  },
  {
   "cell_type": "code",
   "execution_count": 36,
   "id": "e3386cba-1c09-4795-b2d1-619954f35264",
   "metadata": {},
   "outputs": [
    {
     "data": {
      "text/plain": [
       "13       Harry Potter and the Sorcerer's Stone (Harry Potter, #1)\n",
       "97    Harry Potter and the Prisoner of Azkaban (Harry Potter, #3)\n",
       "98     Harry Potter and the Chamber of Secrets (Harry Potter, #2)\n",
       "Name: Title, dtype: object"
      ]
     },
     "execution_count": 36,
     "metadata": {},
     "output_type": "execute_result"
    }
   ],
   "source": [
    "# find the harry potter book index\n",
    "books.Title[books.Title.str.contains('harry potter', case=False)]"
   ]
  },
  {
   "cell_type": "code",
   "execution_count": 37,
   "id": "a4a695af-f376-48b5-b7e8-736c2e97acde",
   "metadata": {},
   "outputs": [
    {
     "data": {
      "text/html": [
       "<div>\n",
       "<style scoped>\n",
       "    .dataframe tbody tr th:only-of-type {\n",
       "        vertical-align: middle;\n",
       "    }\n",
       "\n",
       "    .dataframe tbody tr th {\n",
       "        vertical-align: top;\n",
       "    }\n",
       "\n",
       "    .dataframe thead th {\n",
       "        text-align: right;\n",
       "    }\n",
       "</style>\n",
       "<table border=\"1\" class=\"dataframe\">\n",
       "  <thead>\n",
       "    <tr style=\"text-align: right;\">\n",
       "      <th></th>\n",
       "      <th>Title</th>\n",
       "      <th>Description</th>\n",
       "      <th>Rating</th>\n",
       "      <th>similarity_score</th>\n",
       "    </tr>\n",
       "  </thead>\n",
       "  <tbody>\n",
       "    <tr>\n",
       "      <th>13</th>\n",
       "      <td>Harry Potter and the Sorcerer's Stone (Harry Potter, #1)</td>\n",
       "      <td>Harry Potter and the Sorcerer’s Stone introduces readers to Harry Potter, an orphan who discovers that he is a wizard and attends the magical Hogwarts School of Witchcraft and Wizardry. Along with his new friends, Harry uncovers mysteries surrounding his past and the dark wizard who killed his parents. This book starts the beloved series and sets the stage for Harry’s journey, filled with magic, adventure, and friendship.</td>\n",
       "      <td>4.47</td>\n",
       "      <td>1.000000</td>\n",
       "    </tr>\n",
       "    <tr>\n",
       "      <th>97</th>\n",
       "      <td>Harry Potter and the Prisoner of Azkaban (Harry Potter, #3)</td>\n",
       "      <td>Harry Potter and the Prisoner of Azkaban is the third book in the Harry Potter series, where Harry returns to Hogwarts for his third year and uncovers secrets about his past. With the arrival of the mysterious Sirius Black, Harry must navigate dark truths and face his fears. This thrilling installment explores themes of loyalty, friendship, and identity, marking a turning point in the magical world of Harry Potter.</td>\n",
       "      <td>4.58</td>\n",
       "      <td>0.872638</td>\n",
       "    </tr>\n",
       "    <tr>\n",
       "      <th>98</th>\n",
       "      <td>Harry Potter and the Chamber of Secrets (Harry Potter, #2)</td>\n",
       "      <td>Harry Potter and the Chamber of Secrets is the second book in the Harry Potter series, where Harry returns to Hogwarts for his second year and uncovers a hidden chamber within the school. As mysterious events unfold, Harry and his friends Ron and Hermione uncover dark secrets about the school’s past. Themes of courage, friendship, and standing up for what’s right are explored in this gripping magical adventure.</td>\n",
       "      <td>4.43</td>\n",
       "      <td>0.855368</td>\n",
       "    </tr>\n",
       "    <tr>\n",
       "      <th>63</th>\n",
       "      <td>The Witches</td>\n",
       "      <td>The Witches tells the story of a young boy and his grandmother who uncover a secret society of witches who despise children and plot to turn them all into mice. With the help of his grandmother, the boy must outwit the witches and save the children. The book is known for its dark humor, thrilling suspense, and memorable characters. Though it can be a bit scary, it is beloved for its unique blend of fear, adventure, and courage.</td>\n",
       "      <td>4.18</td>\n",
       "      <td>0.799051</td>\n",
       "    </tr>\n",
       "    <tr>\n",
       "      <th>55</th>\n",
       "      <td>The Wonderful Wizard of Oz (Oz, #1)</td>\n",
       "      <td>The Wonderful Wizard of Oz is the first book in Baum's Oz series and tells the story of Dorothy, a young girl from Kansas who is swept away to the magical land of Oz. Along with her new friends—the Scarecrow, Tin Man, and Cowardly Lion—Dorothy embarks on a journey to meet the Wizard and find her way home. The book is filled with themes of friendship, courage, and the belief in oneself, and has become an iconic tale in American literature.</td>\n",
       "      <td>4.00</td>\n",
       "      <td>0.788523</td>\n",
       "    </tr>\n",
       "    <tr>\n",
       "      <th>42</th>\n",
       "      <td>The Hobbit, or There and Back Again (The Lord of the Rings, #0)</td>\n",
       "      <td>The Hobbit follows the journey of Bilbo Baggins, a hobbit who is thrust into an epic adventure with dwarves and the wizard Gandalf. Together, they set out to reclaim treasure guarded by the dragon Smaug. Along the way, Bilbo grows in courage, wisdom, and leadership. The book introduces readers to Tolkien's richly imagined world of Middle-earth and is the prelude to the Lord of the Rings trilogy, blending adventure, fantasy, and heroism.</td>\n",
       "      <td>4.29</td>\n",
       "      <td>0.773417</td>\n",
       "    </tr>\n",
       "  </tbody>\n",
       "</table>\n",
       "</div>"
      ],
      "text/plain": [
       "                                                              Title  \\\n",
       "13         Harry Potter and the Sorcerer's Stone (Harry Potter, #1)   \n",
       "97      Harry Potter and the Prisoner of Azkaban (Harry Potter, #3)   \n",
       "98       Harry Potter and the Chamber of Secrets (Harry Potter, #2)   \n",
       "63                                                      The Witches   \n",
       "55                              The Wonderful Wizard of Oz (Oz, #1)   \n",
       "42  The Hobbit, or There and Back Again (The Lord of the Rings, #0)   \n",
       "\n",
       "                                                                                                                                                                                                                                                                                                                                                                                                                                                   Description  \\\n",
       "13                   Harry Potter and the Sorcerer’s Stone introduces readers to Harry Potter, an orphan who discovers that he is a wizard and attends the magical Hogwarts School of Witchcraft and Wizardry. Along with his new friends, Harry uncovers mysteries surrounding his past and the dark wizard who killed his parents. This book starts the beloved series and sets the stage for Harry’s journey, filled with magic, adventure, and friendship.   \n",
       "97                          Harry Potter and the Prisoner of Azkaban is the third book in the Harry Potter series, where Harry returns to Hogwarts for his third year and uncovers secrets about his past. With the arrival of the mysterious Sirius Black, Harry must navigate dark truths and face his fears. This thrilling installment explores themes of loyalty, friendship, and identity, marking a turning point in the magical world of Harry Potter.   \n",
       "98                              Harry Potter and the Chamber of Secrets is the second book in the Harry Potter series, where Harry returns to Hogwarts for his second year and uncovers a hidden chamber within the school. As mysterious events unfold, Harry and his friends Ron and Hermione uncover dark secrets about the school’s past. Themes of courage, friendship, and standing up for what’s right are explored in this gripping magical adventure.   \n",
       "63             The Witches tells the story of a young boy and his grandmother who uncover a secret society of witches who despise children and plot to turn them all into mice. With the help of his grandmother, the boy must outwit the witches and save the children. The book is known for its dark humor, thrilling suspense, and memorable characters. Though it can be a bit scary, it is beloved for its unique blend of fear, adventure, and courage.   \n",
       "55  The Wonderful Wizard of Oz is the first book in Baum's Oz series and tells the story of Dorothy, a young girl from Kansas who is swept away to the magical land of Oz. Along with her new friends—the Scarecrow, Tin Man, and Cowardly Lion—Dorothy embarks on a journey to meet the Wizard and find her way home. The book is filled with themes of friendship, courage, and the belief in oneself, and has become an iconic tale in American literature.   \n",
       "42    The Hobbit follows the journey of Bilbo Baggins, a hobbit who is thrust into an epic adventure with dwarves and the wizard Gandalf. Together, they set out to reclaim treasure guarded by the dragon Smaug. Along the way, Bilbo grows in courage, wisdom, and leadership. The book introduces readers to Tolkien's richly imagined world of Middle-earth and is the prelude to the Lord of the Rings trilogy, blending adventure, fantasy, and heroism.   \n",
       "\n",
       "   Rating  similarity_score  \n",
       "13   4.47          1.000000  \n",
       "97   4.58          0.872638  \n",
       "98   4.43          0.855368  \n",
       "63   4.18          0.799051  \n",
       "55   4.00          0.788523  \n",
       "42   4.29          0.773417  "
      ]
     },
     "execution_count": 37,
     "metadata": {},
     "output_type": "execute_result"
    }
   ],
   "source": [
    "# get book recommendations\n",
    "get_similar_books(embeddings_books, 13, books[['Title', 'Description', 'Rating']], top_n=5)"
   ]
  },
  {
   "cell_type": "code",
   "execution_count": null,
   "id": "52ea980b-e267-4f58-affb-1102906739f5",
   "metadata": {},
   "outputs": [],
   "source": []
  }
 ],
 "metadata": {
  "kernelspec": {
   "display_name": "Python 3 (ipykernel)",
   "language": "python",
   "name": "python3"
  },
  "language_info": {
   "codemirror_mode": {
    "name": "ipython",
    "version": 3
   },
   "file_extension": ".py",
   "mimetype": "text/x-python",
   "name": "python",
   "nbconvert_exporter": "python",
   "pygments_lexer": "ipython3",
   "version": "3.13.3"
  }
 },
 "nbformat": 4,
 "nbformat_minor": 5
}
