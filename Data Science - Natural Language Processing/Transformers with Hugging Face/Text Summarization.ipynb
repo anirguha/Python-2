{
 "cells": [
  {
   "cell_type": "code",
   "execution_count": 1,
   "id": "aa79ca43-e9fc-4389-bad6-7205f7af29b7",
   "metadata": {},
   "outputs": [],
   "source": [
    "import pandas as pd\n",
    "import numpy as np\n",
    "\n",
    "pd.set_option('max_colwidth',None)"
   ]
  },
  {
   "cell_type": "code",
   "execution_count": 2,
   "id": "68ca399e-c0c8-4e53-bbaa-59ecaeffdc6a",
   "metadata": {},
   "outputs": [],
   "source": [
    "books = pd.read_csv('../Data/childrens_books.csv')"
   ]
  },
  {
   "cell_type": "code",
   "execution_count": 3,
   "id": "d8be6bc5-4b14-4178-a384-f6d6af528ea3",
   "metadata": {},
   "outputs": [
    {
     "data": {
      "text/html": [
       "<div>\n",
       "<style scoped>\n",
       "    .dataframe tbody tr th:only-of-type {\n",
       "        vertical-align: middle;\n",
       "    }\n",
       "\n",
       "    .dataframe tbody tr th {\n",
       "        vertical-align: top;\n",
       "    }\n",
       "\n",
       "    .dataframe thead th {\n",
       "        text-align: right;\n",
       "    }\n",
       "</style>\n",
       "<table border=\"1\" class=\"dataframe\">\n",
       "  <thead>\n",
       "    <tr style=\"text-align: right;\">\n",
       "      <th></th>\n",
       "      <th>Ranking</th>\n",
       "      <th>Title</th>\n",
       "      <th>Author</th>\n",
       "      <th>Year</th>\n",
       "      <th>Rating</th>\n",
       "      <th>Description</th>\n",
       "    </tr>\n",
       "  </thead>\n",
       "  <tbody>\n",
       "    <tr>\n",
       "      <th>0</th>\n",
       "      <td>1</td>\n",
       "      <td>Where the Wild Things Are</td>\n",
       "      <td>Maurice Sendak</td>\n",
       "      <td>1963</td>\n",
       "      <td>4.25</td>\n",
       "      <td>Where the Wild Things Are follows Max, a young boy who, after being sent to his room for misbehaving, imagines sailing to an island filled with wild creatures. As their king, Max tames the beasts and eventually returns home to find his supper waiting for him. This iconic book explores themes of imagination, adventure, and the complex emotions of childhood, all captured through Sendak's whimsical illustrations and story.</td>\n",
       "    </tr>\n",
       "    <tr>\n",
       "      <th>1</th>\n",
       "      <td>2</td>\n",
       "      <td>The Very Hungry Caterpillar</td>\n",
       "      <td>Eric Carle</td>\n",
       "      <td>1969</td>\n",
       "      <td>4.34</td>\n",
       "      <td>The Very Hungry Caterpillar tells the story of a caterpillar who eats through a variety of foods before eventually becoming a butterfly. Eric Carle’s use of colorful collage illustrations and rhythmic text has made this book a beloved classic for young readers. The simple, engaging story introduces children to days of the week, counting, and the concept of metamorphosis. It’s a staple in early childhood education.</td>\n",
       "    </tr>\n",
       "  </tbody>\n",
       "</table>\n",
       "</div>"
      ],
      "text/plain": [
       "   Ranking                        Title          Author  Year Rating  \\\n",
       "0        1    Where the Wild Things Are  Maurice Sendak  1963   4.25   \n",
       "1        2  The Very Hungry Caterpillar      Eric Carle  1969   4.34   \n",
       "\n",
       "                                                                                                                                                                                                                                                                                                                                                                                                                               Description  \n",
       "0  Where the Wild Things Are follows Max, a young boy who, after being sent to his room for misbehaving, imagines sailing to an island filled with wild creatures. As their king, Max tames the beasts and eventually returns home to find his supper waiting for him. This iconic book explores themes of imagination, adventure, and the complex emotions of childhood, all captured through Sendak's whimsical illustrations and story.  \n",
       "1        The Very Hungry Caterpillar tells the story of a caterpillar who eats through a variety of foods before eventually becoming a butterfly. Eric Carle’s use of colorful collage illustrations and rhythmic text has made this book a beloved classic for young readers. The simple, engaging story introduces children to days of the week, counting, and the concept of metamorphosis. It’s a staple in early childhood education.  "
      ]
     },
     "execution_count": 3,
     "metadata": {},
     "output_type": "execute_result"
    }
   ],
   "source": [
    "books.head(2)"
   ]
  },
  {
   "cell_type": "code",
   "execution_count": 4,
   "id": "ba5c4c49-4125-4f49-99cf-bc4ac3b84c6d",
   "metadata": {},
   "outputs": [],
   "source": [
    "## Suppress the warnings\n",
    "import warnings\n",
    "warnings.filterwarnings(\"ignore\")"
   ]
  },
  {
   "cell_type": "code",
   "execution_count": 5,
   "id": "7261288c-c4ec-4b5b-a35b-e103599b0b21",
   "metadata": {},
   "outputs": [],
   "source": [
    "# Use a pipeline as a high-level helper\n",
    "from transformers import pipeline, logging\n",
    "\n",
    "logging.set_verbosity_error()\n",
    "\n",
    "summarizer = pipeline(\"summarization\", model=\"facebook/bart-large-cnn\",device='mps')"
   ]
  },
  {
   "cell_type": "code",
   "execution_count": 10,
   "id": "a50a54e5-1b5e-4a2b-9851-87b82b501e74",
   "metadata": {},
   "outputs": [
    {
     "data": {
      "text/plain": [
       "'Where the Wild Things Are follows Max, a young boy who imagines sailing to'"
      ]
     },
     "execution_count": 10,
     "metadata": {},
     "output_type": "execute_result"
    }
   ],
   "source": [
    "summarizer(books['Description'][0],min_length=5, max_length=20)[0]['summary_text']"
   ]
  },
  {
   "cell_type": "code",
   "execution_count": 17,
   "id": "b5e6d258-6282-4e1d-bf18-80537239c552",
   "metadata": {},
   "outputs": [],
   "source": [
    "books['Description_summary'] = books['Description'].apply(lambda row: \n",
    "                           summarizer(row, \n",
    "                                      min_length=5, \n",
    "                                      max_length=20,\n",
    "                                      early_stopping=True, \n",
    "                                      num_beams = 4,\n",
    "                                      length_penalty=0.5, \n",
    "                                      do_sample=False)[0]['summary_text'])"
   ]
  },
  {
   "cell_type": "code",
   "execution_count": 18,
   "id": "14fae44d-700e-48ab-ad8d-45b3bc2eed4d",
   "metadata": {},
   "outputs": [
    {
     "data": {
      "text/html": [
       "<div>\n",
       "<style scoped>\n",
       "    .dataframe tbody tr th:only-of-type {\n",
       "        vertical-align: middle;\n",
       "    }\n",
       "\n",
       "    .dataframe tbody tr th {\n",
       "        vertical-align: top;\n",
       "    }\n",
       "\n",
       "    .dataframe thead th {\n",
       "        text-align: right;\n",
       "    }\n",
       "</style>\n",
       "<table border=\"1\" class=\"dataframe\">\n",
       "  <thead>\n",
       "    <tr style=\"text-align: right;\">\n",
       "      <th></th>\n",
       "      <th>Description</th>\n",
       "      <th>Description_summary</th>\n",
       "    </tr>\n",
       "  </thead>\n",
       "  <tbody>\n",
       "    <tr>\n",
       "      <th>0</th>\n",
       "      <td>Where the Wild Things Are follows Max, a young boy who, after being sent to his room for misbehaving, imagines sailing to an island filled with wild creatures. As their king, Max tames the beasts and eventually returns home to find his supper waiting for him. This iconic book explores themes of imagination, adventure, and the complex emotions of childhood, all captured through Sendak's whimsical illustrations and story.</td>\n",
       "      <td>Where the Wild Things Are follows Max, a young boy who imagines sailing to</td>\n",
       "    </tr>\n",
       "    <tr>\n",
       "      <th>1</th>\n",
       "      <td>The Very Hungry Caterpillar tells the story of a caterpillar who eats through a variety of foods before eventually becoming a butterfly. Eric Carle’s use of colorful collage illustrations and rhythmic text has made this book a beloved classic for young readers. The simple, engaging story introduces children to days of the week, counting, and the concept of metamorphosis. It’s a staple in early childhood education.</td>\n",
       "      <td>Eric Carle’s use of colorful collage illustrations and rhythmic text has</td>\n",
       "    </tr>\n",
       "    <tr>\n",
       "      <th>2</th>\n",
       "      <td>The Giving Tree is a touching and bittersweet story about a tree that gives everything it has to a boy over the course of his life. As the boy grows up, he takes more from the tree, and the tree continues to give, even when it has little left. Silverstein’s minimalist text and illustrations convey deep themes of unconditional love, selflessness, and the passage of time. It has sparked much discussion about relationships and sacrifice.</td>\n",
       "      <td>Silverstein’s minimalist text and illustrations convey deep themes of unconditional love, self</td>\n",
       "    </tr>\n",
       "    <tr>\n",
       "      <th>3</th>\n",
       "      <td>In Green Eggs and Ham, Sam-I-Am tries to convince a reluctant character to try a dish of green eggs and ham, despite his resistance. Through repetition and rhyme, Dr. Seuss’s classic story about being open to new experiences encourages children to be adventurous and try things outside their comfort zone. The playful illustrations and humorous dialogue make it a fun and educational read for young readers.</td>\n",
       "      <td>Dr. Seuss’s classic story about being open to new experiences encourages children</td>\n",
       "    </tr>\n",
       "    <tr>\n",
       "      <th>4</th>\n",
       "      <td>Goodnight Moon is a gentle, rhythmic bedtime story where a little bunny says goodnight to everything in his room, from the moon to the \"quiet old lady whispering hush.\" Its repetitive structure and comforting tone make it ideal for young children. The simple illustrations by Clement Hurd complement the soothing nature of the story, making it a beloved classic for sleep-time reading.</td>\n",
       "      <td>Goodnight Moon is a gentle, rhythmic bedtime story. Its repetitive structure and</td>\n",
       "    </tr>\n",
       "    <tr>\n",
       "      <th>...</th>\n",
       "      <td>...</td>\n",
       "      <td>...</td>\n",
       "    </tr>\n",
       "    <tr>\n",
       "      <th>95</th>\n",
       "      <td>Stone Soup is a classic folktale retold by Jon J. Muth, in which three soldiers arrive in a village, claiming they can make soup from stones. The villagers, initially hesitant, eventually contribute ingredients to the pot, and together they create a delicious meal. This story is a heartwarming lesson about sharing, community, and cooperation, enhanced by Muth’s beautiful watercolor illustrations.</td>\n",
       "      <td>Stone Soup is a classic folktale retold by Jon J. Muth. The</td>\n",
       "    </tr>\n",
       "    <tr>\n",
       "      <th>96</th>\n",
       "      <td>A Light in the Attic is a collection of quirky poems and illustrations by Shel Silverstein, exploring a wide range of topics with wit, humor, and imagination. The poems are funny, thoughtful, and sometimes absurd, but they all carry a sense of wonder and creativity. Silverstein’s distinctive voice and whimsical illustrations make this book a timeless collection that continues to entertain children and adults alike.</td>\n",
       "      <td>A Light in the Attic is a collection of quirky poems and illustrations by Shel Silver</td>\n",
       "    </tr>\n",
       "    <tr>\n",
       "      <th>97</th>\n",
       "      <td>Harry Potter and the Prisoner of Azkaban is the third book in the Harry Potter series, where Harry returns to Hogwarts for his third year and uncovers secrets about his past. With the arrival of the mysterious Sirius Black, Harry must navigate dark truths and face his fears. This thrilling installment explores themes of loyalty, friendship, and identity, marking a turning point in the magical world of Harry Potter.</td>\n",
       "      <td>Harry Potter and the Prisoner of Azkaban is the third book in the Harry</td>\n",
       "    </tr>\n",
       "    <tr>\n",
       "      <th>98</th>\n",
       "      <td>Harry Potter and the Chamber of Secrets is the second book in the Harry Potter series, where Harry returns to Hogwarts for his second year and uncovers a hidden chamber within the school. As mysterious events unfold, Harry and his friends Ron and Hermione uncover dark secrets about the school’s past. Themes of courage, friendship, and standing up for what’s right are explored in this gripping magical adventure.</td>\n",
       "      <td>Harry Potter and the Chamber of Secrets is the second book in the Harry Potter series.</td>\n",
       "    </tr>\n",
       "    <tr>\n",
       "      <th>99</th>\n",
       "      <td>The Three Billy Goats Gruff is a retelling of the classic Norwegian fairy tale about three goats who must outwit a greedy troll to cross a bridge and reach greener pastures. The goats each come up with a clever strategy to trick the troll, teaching children lessons about teamwork, bravery, and cleverness. Galdone’s illustrations and simple, rhythmic text bring the tale to life in a way that is accessible and entertaining for young readers.</td>\n",
       "      <td>The Three Billy Goats Gruff is a retelling of the classic Norwegian fairy tale</td>\n",
       "    </tr>\n",
       "  </tbody>\n",
       "</table>\n",
       "<p>100 rows × 2 columns</p>\n",
       "</div>"
      ],
      "text/plain": [
       "                                                                                                                                                                                                                                                                                                                                                                                                                                                    Description  \\\n",
       "0                       Where the Wild Things Are follows Max, a young boy who, after being sent to his room for misbehaving, imagines sailing to an island filled with wild creatures. As their king, Max tames the beasts and eventually returns home to find his supper waiting for him. This iconic book explores themes of imagination, adventure, and the complex emotions of childhood, all captured through Sendak's whimsical illustrations and story.   \n",
       "1                             The Very Hungry Caterpillar tells the story of a caterpillar who eats through a variety of foods before eventually becoming a butterfly. Eric Carle’s use of colorful collage illustrations and rhythmic text has made this book a beloved classic for young readers. The simple, engaging story introduces children to days of the week, counting, and the concept of metamorphosis. It’s a staple in early childhood education.   \n",
       "2        The Giving Tree is a touching and bittersweet story about a tree that gives everything it has to a boy over the course of his life. As the boy grows up, he takes more from the tree, and the tree continues to give, even when it has little left. Silverstein’s minimalist text and illustrations convey deep themes of unconditional love, selflessness, and the passage of time. It has sparked much discussion about relationships and sacrifice.   \n",
       "3                                       In Green Eggs and Ham, Sam-I-Am tries to convince a reluctant character to try a dish of green eggs and ham, despite his resistance. Through repetition and rhyme, Dr. Seuss’s classic story about being open to new experiences encourages children to be adventurous and try things outside their comfort zone. The playful illustrations and humorous dialogue make it a fun and educational read for young readers.   \n",
       "4                                                             Goodnight Moon is a gentle, rhythmic bedtime story where a little bunny says goodnight to everything in his room, from the moon to the \"quiet old lady whispering hush.\" Its repetitive structure and comforting tone make it ideal for young children. The simple illustrations by Clement Hurd complement the soothing nature of the story, making it a beloved classic for sleep-time reading.   \n",
       "..                                                                                                                                                                                                                                                                                                                                                                                                                                                          ...   \n",
       "95                                              Stone Soup is a classic folktale retold by Jon J. Muth, in which three soldiers arrive in a village, claiming they can make soup from stones. The villagers, initially hesitant, eventually contribute ingredients to the pot, and together they create a delicious meal. This story is a heartwarming lesson about sharing, community, and cooperation, enhanced by Muth’s beautiful watercolor illustrations.   \n",
       "96                           A Light in the Attic is a collection of quirky poems and illustrations by Shel Silverstein, exploring a wide range of topics with wit, humor, and imagination. The poems are funny, thoughtful, and sometimes absurd, but they all carry a sense of wonder and creativity. Silverstein’s distinctive voice and whimsical illustrations make this book a timeless collection that continues to entertain children and adults alike.   \n",
       "97                           Harry Potter and the Prisoner of Azkaban is the third book in the Harry Potter series, where Harry returns to Hogwarts for his third year and uncovers secrets about his past. With the arrival of the mysterious Sirius Black, Harry must navigate dark truths and face his fears. This thrilling installment explores themes of loyalty, friendship, and identity, marking a turning point in the magical world of Harry Potter.   \n",
       "98                               Harry Potter and the Chamber of Secrets is the second book in the Harry Potter series, where Harry returns to Hogwarts for his second year and uncovers a hidden chamber within the school. As mysterious events unfold, Harry and his friends Ron and Hermione uncover dark secrets about the school’s past. Themes of courage, friendship, and standing up for what’s right are explored in this gripping magical adventure.   \n",
       "99  The Three Billy Goats Gruff is a retelling of the classic Norwegian fairy tale about three goats who must outwit a greedy troll to cross a bridge and reach greener pastures. The goats each come up with a clever strategy to trick the troll, teaching children lessons about teamwork, bravery, and cleverness. Galdone’s illustrations and simple, rhythmic text bring the tale to life in a way that is accessible and entertaining for young readers.   \n",
       "\n",
       "                                                                               Description_summary  \n",
       "0                       Where the Wild Things Are follows Max, a young boy who imagines sailing to  \n",
       "1                         Eric Carle’s use of colorful collage illustrations and rhythmic text has  \n",
       "2   Silverstein’s minimalist text and illustrations convey deep themes of unconditional love, self  \n",
       "3                Dr. Seuss’s classic story about being open to new experiences encourages children  \n",
       "4                 Goodnight Moon is a gentle, rhythmic bedtime story. Its repetitive structure and  \n",
       "..                                                                                             ...  \n",
       "95                                     Stone Soup is a classic folktale retold by Jon J. Muth. The  \n",
       "96           A Light in the Attic is a collection of quirky poems and illustrations by Shel Silver  \n",
       "97                         Harry Potter and the Prisoner of Azkaban is the third book in the Harry  \n",
       "98          Harry Potter and the Chamber of Secrets is the second book in the Harry Potter series.  \n",
       "99                  The Three Billy Goats Gruff is a retelling of the classic Norwegian fairy tale  \n",
       "\n",
       "[100 rows x 2 columns]"
      ]
     },
     "execution_count": 18,
     "metadata": {},
     "output_type": "execute_result"
    }
   ],
   "source": [
    "books[['Description','Description_summary']]"
   ]
  },
  {
   "cell_type": "code",
   "execution_count": null,
   "id": "9b8f8abb-5bc6-4883-9830-318dca2bffb2",
   "metadata": {},
   "outputs": [],
   "source": []
  }
 ],
 "metadata": {
  "kernelspec": {
   "display_name": "Python 3 (ipykernel)",
   "language": "python",
   "name": "python3"
  },
  "language_info": {
   "codemirror_mode": {
    "name": "ipython",
    "version": 3
   },
   "file_extension": ".py",
   "mimetype": "text/x-python",
   "name": "python",
   "nbconvert_exporter": "python",
   "pygments_lexer": "ipython3",
   "version": "3.11.13"
  }
 },
 "nbformat": 4,
 "nbformat_minor": 5
}
