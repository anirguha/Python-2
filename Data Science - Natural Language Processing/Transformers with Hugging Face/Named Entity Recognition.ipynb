{
 "cells": [
  {
   "cell_type": "markdown",
   "id": "219842d9-4447-47c2-b246-9b602890cdd9",
   "metadata": {},
   "source": [
    "## **Named Entity Recognition**"
   ]
  },
  {
   "cell_type": "code",
   "execution_count": 1,
   "id": "b4d4e2b8-f687-4b3b-a5b0-84b3d9719fdb",
   "metadata": {},
   "outputs": [],
   "source": [
    "import pandas as pd\n",
    "import numpy as np\n",
    "\n",
    "pd.set_option('max_colwidth', None)"
   ]
  },
  {
   "cell_type": "code",
   "execution_count": 31,
   "id": "1779fd6e-6b1a-4608-9b7a-e9f410df1e6b",
   "metadata": {},
   "outputs": [],
   "source": [
    "books = pd.read_csv('../Data/childrens_books.csv')"
   ]
  },
  {
   "cell_type": "code",
   "execution_count": 32,
   "id": "1df54d57-4474-487e-98a7-5547a4f39fa4",
   "metadata": {
    "collapsed": true,
    "jupyter": {
     "outputs_hidden": true
    }
   },
   "outputs": [
    {
     "data": {
      "text/html": [
       "<div>\n",
       "<style scoped>\n",
       "    .dataframe tbody tr th:only-of-type {\n",
       "        vertical-align: middle;\n",
       "    }\n",
       "\n",
       "    .dataframe tbody tr th {\n",
       "        vertical-align: top;\n",
       "    }\n",
       "\n",
       "    .dataframe thead th {\n",
       "        text-align: right;\n",
       "    }\n",
       "</style>\n",
       "<table border=\"1\" class=\"dataframe\">\n",
       "  <thead>\n",
       "    <tr style=\"text-align: right;\">\n",
       "      <th></th>\n",
       "      <th>Ranking</th>\n",
       "      <th>Title</th>\n",
       "      <th>Author</th>\n",
       "      <th>Year</th>\n",
       "      <th>Rating</th>\n",
       "      <th>Description</th>\n",
       "    </tr>\n",
       "  </thead>\n",
       "  <tbody>\n",
       "    <tr>\n",
       "      <th>0</th>\n",
       "      <td>1</td>\n",
       "      <td>Where the Wild Things Are</td>\n",
       "      <td>Maurice Sendak</td>\n",
       "      <td>1963</td>\n",
       "      <td>4.25</td>\n",
       "      <td>Where the Wild Things Are follows Max, a young boy who, after being sent to his room for misbehaving, imagines sailing to an island filled with wild creatures. As their king, Max tames the beasts and eventually returns home to find his supper waiting for him. This iconic book explores themes of imagination, adventure, and the complex emotions of childhood, all captured through Sendak's whimsical illustrations and story.</td>\n",
       "    </tr>\n",
       "    <tr>\n",
       "      <th>1</th>\n",
       "      <td>2</td>\n",
       "      <td>The Very Hungry Caterpillar</td>\n",
       "      <td>Eric Carle</td>\n",
       "      <td>1969</td>\n",
       "      <td>4.34</td>\n",
       "      <td>The Very Hungry Caterpillar tells the story of a caterpillar who eats through a variety of foods before eventually becoming a butterfly. Eric Carle’s use of colorful collage illustrations and rhythmic text has made this book a beloved classic for young readers. The simple, engaging story introduces children to days of the week, counting, and the concept of metamorphosis. It’s a staple in early childhood education.</td>\n",
       "    </tr>\n",
       "    <tr>\n",
       "      <th>2</th>\n",
       "      <td>3</td>\n",
       "      <td>The Giving Tree</td>\n",
       "      <td>Shel Silverstein</td>\n",
       "      <td>1964</td>\n",
       "      <td>4.38</td>\n",
       "      <td>The Giving Tree is a touching and bittersweet story about a tree that gives everything it has to a boy over the course of his life. As the boy grows up, he takes more from the tree, and the tree continues to give, even when it has little left. Silverstein’s minimalist text and illustrations convey deep themes of unconditional love, selflessness, and the passage of time. It has sparked much discussion about relationships and sacrifice.</td>\n",
       "    </tr>\n",
       "    <tr>\n",
       "      <th>3</th>\n",
       "      <td>4</td>\n",
       "      <td>Green Eggs and Ham</td>\n",
       "      <td>Dr. Seuss</td>\n",
       "      <td>1960</td>\n",
       "      <td>4.31</td>\n",
       "      <td>In Green Eggs and Ham, Sam-I-Am tries to convince a reluctant character to try a dish of green eggs and ham, despite his resistance. Through repetition and rhyme, Dr. Seuss’s classic story about being open to new experiences encourages children to be adventurous and try things outside their comfort zone. The playful illustrations and humorous dialogue make it a fun and educational read for young readers.</td>\n",
       "    </tr>\n",
       "    <tr>\n",
       "      <th>4</th>\n",
       "      <td>5</td>\n",
       "      <td>Goodnight Moon</td>\n",
       "      <td>Margaret Wise Brown</td>\n",
       "      <td>1947</td>\n",
       "      <td>4.31</td>\n",
       "      <td>Goodnight Moon is a gentle, rhythmic bedtime story where a little bunny says goodnight to everything in his room, from the moon to the \"quiet old lady whispering hush.\" Its repetitive structure and comforting tone make it ideal for young children. The simple illustrations by Clement Hurd complement the soothing nature of the story, making it a beloved classic for sleep-time reading.</td>\n",
       "    </tr>\n",
       "    <tr>\n",
       "      <th>...</th>\n",
       "      <td>...</td>\n",
       "      <td>...</td>\n",
       "      <td>...</td>\n",
       "      <td>...</td>\n",
       "      <td>...</td>\n",
       "      <td>...</td>\n",
       "    </tr>\n",
       "    <tr>\n",
       "      <th>95</th>\n",
       "      <td>96</td>\n",
       "      <td>Stone Soup</td>\n",
       "      <td>Jon J. Muth</td>\n",
       "      <td>2003</td>\n",
       "      <td>4.18</td>\n",
       "      <td>Stone Soup is a classic folktale retold by Jon J. Muth, in which three soldiers arrive in a village, claiming they can make soup from stones. The villagers, initially hesitant, eventually contribute ingredients to the pot, and together they create a delicious meal. This story is a heartwarming lesson about sharing, community, and cooperation, enhanced by Muth’s beautiful watercolor illustrations.</td>\n",
       "    </tr>\n",
       "    <tr>\n",
       "      <th>96</th>\n",
       "      <td>97</td>\n",
       "      <td>A Light in the Attic</td>\n",
       "      <td>Shel Silverstein</td>\n",
       "      <td>1981</td>\n",
       "      <td>4.36</td>\n",
       "      <td>A Light in the Attic is a collection of quirky poems and illustrations by Shel Silverstein, exploring a wide range of topics with wit, humor, and imagination. The poems are funny, thoughtful, and sometimes absurd, but they all carry a sense of wonder and creativity. Silverstein’s distinctive voice and whimsical illustrations make this book a timeless collection that continues to entertain children and adults alike.</td>\n",
       "    </tr>\n",
       "    <tr>\n",
       "      <th>97</th>\n",
       "      <td>98</td>\n",
       "      <td>Harry Potter and the Prisoner of Azkaban (Harry Potter, #3)</td>\n",
       "      <td>J.K. Rowling</td>\n",
       "      <td>1999</td>\n",
       "      <td>4.58</td>\n",
       "      <td>Harry Potter and the Prisoner of Azkaban is the third book in the Harry Potter series, where Harry returns to Hogwarts for his third year and uncovers secrets about his past. With the arrival of the mysterious Sirius Black, Harry must navigate dark truths and face his fears. This thrilling installment explores themes of loyalty, friendship, and identity, marking a turning point in the magical world of Harry Potter.</td>\n",
       "    </tr>\n",
       "    <tr>\n",
       "      <th>98</th>\n",
       "      <td>99</td>\n",
       "      <td>Harry Potter and the Chamber of Secrets (Harry Potter, #2)</td>\n",
       "      <td>J.K. Rowling</td>\n",
       "      <td>1998</td>\n",
       "      <td>4.43</td>\n",
       "      <td>Harry Potter and the Chamber of Secrets is the second book in the Harry Potter series, where Harry returns to Hogwarts for his second year and uncovers a hidden chamber within the school. As mysterious events unfold, Harry and his friends Ron and Hermione uncover dark secrets about the school’s past. Themes of courage, friendship, and standing up for what’s right are explored in this gripping magical adventure.</td>\n",
       "    </tr>\n",
       "    <tr>\n",
       "      <th>99</th>\n",
       "      <td>100</td>\n",
       "      <td>The Three Billy Goats Gruff</td>\n",
       "      <td>Paul Galdone</td>\n",
       "      <td>1973</td>\n",
       "      <td>4.17</td>\n",
       "      <td>The Three Billy Goats Gruff is a retelling of the classic Norwegian fairy tale about three goats who must outwit a greedy troll to cross a bridge and reach greener pastures. The goats each come up with a clever strategy to trick the troll, teaching children lessons about teamwork, bravery, and cleverness. Galdone’s illustrations and simple, rhythmic text bring the tale to life in a way that is accessible and entertaining for young readers.</td>\n",
       "    </tr>\n",
       "  </tbody>\n",
       "</table>\n",
       "<p>100 rows × 6 columns</p>\n",
       "</div>"
      ],
      "text/plain": [
       "    Ranking                                                        Title  \\\n",
       "0         1                                    Where the Wild Things Are   \n",
       "1         2                                  The Very Hungry Caterpillar   \n",
       "2         3                                              The Giving Tree   \n",
       "3         4                                           Green Eggs and Ham   \n",
       "4         5                                               Goodnight Moon   \n",
       "..      ...                                                          ...   \n",
       "95       96                                                   Stone Soup   \n",
       "96       97                                         A Light in the Attic   \n",
       "97       98  Harry Potter and the Prisoner of Azkaban (Harry Potter, #3)   \n",
       "98       99   Harry Potter and the Chamber of Secrets (Harry Potter, #2)   \n",
       "99      100                                  The Three Billy Goats Gruff   \n",
       "\n",
       "                 Author  Year Rating  \\\n",
       "0        Maurice Sendak  1963   4.25   \n",
       "1            Eric Carle  1969   4.34   \n",
       "2      Shel Silverstein  1964   4.38   \n",
       "3             Dr. Seuss  1960   4.31   \n",
       "4   Margaret Wise Brown  1947   4.31   \n",
       "..                  ...   ...    ...   \n",
       "95          Jon J. Muth  2003   4.18   \n",
       "96     Shel Silverstein  1981   4.36   \n",
       "97         J.K. Rowling  1999   4.58   \n",
       "98         J.K. Rowling  1998   4.43   \n",
       "99         Paul Galdone  1973   4.17   \n",
       "\n",
       "                                                                                                                                                                                                                                                                                                                                                                                                                                                    Description  \n",
       "0                       Where the Wild Things Are follows Max, a young boy who, after being sent to his room for misbehaving, imagines sailing to an island filled with wild creatures. As their king, Max tames the beasts and eventually returns home to find his supper waiting for him. This iconic book explores themes of imagination, adventure, and the complex emotions of childhood, all captured through Sendak's whimsical illustrations and story.  \n",
       "1                             The Very Hungry Caterpillar tells the story of a caterpillar who eats through a variety of foods before eventually becoming a butterfly. Eric Carle’s use of colorful collage illustrations and rhythmic text has made this book a beloved classic for young readers. The simple, engaging story introduces children to days of the week, counting, and the concept of metamorphosis. It’s a staple in early childhood education.  \n",
       "2        The Giving Tree is a touching and bittersweet story about a tree that gives everything it has to a boy over the course of his life. As the boy grows up, he takes more from the tree, and the tree continues to give, even when it has little left. Silverstein’s minimalist text and illustrations convey deep themes of unconditional love, selflessness, and the passage of time. It has sparked much discussion about relationships and sacrifice.  \n",
       "3                                       In Green Eggs and Ham, Sam-I-Am tries to convince a reluctant character to try a dish of green eggs and ham, despite his resistance. Through repetition and rhyme, Dr. Seuss’s classic story about being open to new experiences encourages children to be adventurous and try things outside their comfort zone. The playful illustrations and humorous dialogue make it a fun and educational read for young readers.  \n",
       "4                                                             Goodnight Moon is a gentle, rhythmic bedtime story where a little bunny says goodnight to everything in his room, from the moon to the \"quiet old lady whispering hush.\" Its repetitive structure and comforting tone make it ideal for young children. The simple illustrations by Clement Hurd complement the soothing nature of the story, making it a beloved classic for sleep-time reading.  \n",
       "..                                                                                                                                                                                                                                                                                                                                                                                                                                                          ...  \n",
       "95                                              Stone Soup is a classic folktale retold by Jon J. Muth, in which three soldiers arrive in a village, claiming they can make soup from stones. The villagers, initially hesitant, eventually contribute ingredients to the pot, and together they create a delicious meal. This story is a heartwarming lesson about sharing, community, and cooperation, enhanced by Muth’s beautiful watercolor illustrations.  \n",
       "96                           A Light in the Attic is a collection of quirky poems and illustrations by Shel Silverstein, exploring a wide range of topics with wit, humor, and imagination. The poems are funny, thoughtful, and sometimes absurd, but they all carry a sense of wonder and creativity. Silverstein’s distinctive voice and whimsical illustrations make this book a timeless collection that continues to entertain children and adults alike.  \n",
       "97                           Harry Potter and the Prisoner of Azkaban is the third book in the Harry Potter series, where Harry returns to Hogwarts for his third year and uncovers secrets about his past. With the arrival of the mysterious Sirius Black, Harry must navigate dark truths and face his fears. This thrilling installment explores themes of loyalty, friendship, and identity, marking a turning point in the magical world of Harry Potter.  \n",
       "98                               Harry Potter and the Chamber of Secrets is the second book in the Harry Potter series, where Harry returns to Hogwarts for his second year and uncovers a hidden chamber within the school. As mysterious events unfold, Harry and his friends Ron and Hermione uncover dark secrets about the school’s past. Themes of courage, friendship, and standing up for what’s right are explored in this gripping magical adventure.  \n",
       "99  The Three Billy Goats Gruff is a retelling of the classic Norwegian fairy tale about three goats who must outwit a greedy troll to cross a bridge and reach greener pastures. The goats each come up with a clever strategy to trick the troll, teaching children lessons about teamwork, bravery, and cleverness. Galdone’s illustrations and simple, rhythmic text bring the tale to life in a way that is accessible and entertaining for young readers.  \n",
       "\n",
       "[100 rows x 6 columns]"
      ]
     },
     "execution_count": 32,
     "metadata": {},
     "output_type": "execute_result"
    }
   ],
   "source": [
    "books"
   ]
  },
  {
   "cell_type": "code",
   "execution_count": 4,
   "id": "85be6d30-a218-49c2-92a6-c1b785821d1c",
   "metadata": {},
   "outputs": [],
   "source": [
    "## Suppress the warnings\n",
    "import warnings\n",
    "warnings.filterwarnings(\"ignore\")"
   ]
  },
  {
   "cell_type": "code",
   "execution_count": 33,
   "id": "644b4a8a-9522-4421-b199-a36e5c33525e",
   "metadata": {},
   "outputs": [],
   "source": [
    "from transformers import pipeline, logging\n",
    "logging.set_verbosity_error()"
   ]
  },
  {
   "cell_type": "code",
   "execution_count": 47,
   "id": "f542231f-d145-4734-a316-17ff1fd59b4b",
   "metadata": {},
   "outputs": [],
   "source": [
    "# Use a pipeline as a high-level helper\n",
    "from transformers import pipeline\n",
    "\n",
    "pipe = pipeline(\"ner\", \n",
    "                model=\"dbmdz/bert-large-cased-finetuned-conll03-english\",\n",
    "                device='mps',\n",
    "                aggregation_strategy='SIMPLE'\n",
    "               )"
   ]
  },
  {
   "cell_type": "code",
   "execution_count": 110,
   "id": "bdffce0a-6819-4818-a8fa-95bfc4e1a192",
   "metadata": {},
   "outputs": [
    {
     "data": {
      "text/plain": [
       "[{'entity_group': 'MISC',\n",
       "  'score': 0.94625187,\n",
       "  'word': 'Where the Wild Things Are',\n",
       "  'start': 0,\n",
       "  'end': 25},\n",
       " {'entity_group': 'PER',\n",
       "  'score': 0.9990614,\n",
       "  'word': 'Max',\n",
       "  'start': 34,\n",
       "  'end': 37},\n",
       " {'entity_group': 'PER',\n",
       "  'score': 0.9984414,\n",
       "  'word': 'Max',\n",
       "  'start': 175,\n",
       "  'end': 178},\n",
       " {'entity_group': 'PER',\n",
       "  'score': 0.9789461,\n",
       "  'word': 'Sendak',\n",
       "  'start': 380,\n",
       "  'end': 386}]"
      ]
     },
     "execution_count": 110,
     "metadata": {},
     "output_type": "execute_result"
    }
   ],
   "source": [
    "pipe(books.Description[0])"
   ]
  },
  {
   "cell_type": "code",
   "execution_count": 113,
   "id": "ceddbe01-67c5-48e4-824a-7e13d4b7021f",
   "metadata": {},
   "outputs": [
    {
     "data": {
      "text/plain": [
       "['Max', 'Max', 'Sendak']"
      ]
     },
     "execution_count": 113,
     "metadata": {},
     "output_type": "execute_result"
    }
   ],
   "source": [
    "[entity['word'] for entity in pipe(books.Description[0]) if entity['entity_group']=='PER']"
   ]
  },
  {
   "cell_type": "code",
   "execution_count": 114,
   "id": "9c34edc1-7cd4-4772-aaaa-3e851937de03",
   "metadata": {},
   "outputs": [],
   "source": [
    "words = books['Description'].apply(\n",
    "    lambda row: [entity['word'] \n",
    "                 for entity in pipe(row) \n",
    "                 if entity['entity_group']=='PER']\n",
    ")"
   ]
  },
  {
   "cell_type": "code",
   "execution_count": 116,
   "id": "942c8351-0956-4271-b74e-7c512e8b12df",
   "metadata": {},
   "outputs": [],
   "source": [
    "named_entities = list(set(words.explode().dropna().to_list()))"
   ]
  },
  {
   "cell_type": "code",
   "execution_count": 117,
   "id": "ff781dc3-6909-43de-93cb-94dfafefaf61",
   "metadata": {},
   "outputs": [],
   "source": [
    "named_entities = [entities for entities in named_entities if '#' not in entities]"
   ]
  },
  {
   "cell_type": "code",
   "execution_count": 119,
   "id": "a385a64e-cfa5-4d6d-9306-ab0e51b04041",
   "metadata": {},
   "outputs": [
    {
     "data": {
      "text/plain": [
       "154"
      ]
     },
     "execution_count": 119,
     "metadata": {},
     "output_type": "execute_result"
    }
   ],
   "source": [
    "len(named_entities)"
   ]
  },
  {
   "cell_type": "code",
   "execution_count": 125,
   "id": "e05e7a97-395d-4a4a-9e1d-70d8b195c17f",
   "metadata": {},
   "outputs": [],
   "source": [
    "ne_without_authors = [ne for ne in named_entities if ne not in books.Author.to_list()]"
   ]
  },
  {
   "cell_type": "code",
   "execution_count": 128,
   "id": "4d2f9425-339d-47a5-83eb-254162bdd8fe",
   "metadata": {},
   "outputs": [
    {
     "data": {
      "text/plain": [
       "145"
      ]
     },
     "execution_count": 128,
     "metadata": {},
     "output_type": "execute_result"
    }
   ],
   "source": [
    "len(ne_without_authors)"
   ]
  },
  {
   "cell_type": "code",
   "execution_count": null,
   "id": "82b6bcfa-278a-49af-a0fb-b9f6601ce874",
   "metadata": {},
   "outputs": [],
   "source": []
  }
 ],
 "metadata": {
  "kernelspec": {
   "display_name": "Python 3 (ipykernel)",
   "language": "python",
   "name": "python3"
  },
  "language_info": {
   "codemirror_mode": {
    "name": "ipython",
    "version": 3
   },
   "file_extension": ".py",
   "mimetype": "text/x-python",
   "name": "python",
   "nbconvert_exporter": "python",
   "pygments_lexer": "ipython3",
   "version": "3.13.3"
  },
  "widgets": {
   "application/vnd.jupyter.widget-state+json": {
    "state": {},
    "version_major": 2,
    "version_minor": 0
   }
  }
 },
 "nbformat": 4,
 "nbformat_minor": 5
}
