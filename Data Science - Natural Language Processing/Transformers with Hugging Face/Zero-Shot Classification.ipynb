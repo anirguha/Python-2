{
 "cells": [
  {
   "cell_type": "markdown",
   "id": "db6e5356-6017-4f63-b60d-d4de941a415d",
   "metadata": {},
   "source": [
    "## **Zero-Shot Classification**"
   ]
  },
  {
   "cell_type": "code",
   "execution_count": 1,
   "id": "8211f76f-c3ff-419c-b323-08b40f952cc1",
   "metadata": {},
   "outputs": [],
   "source": [
    "import pandas as pd\n",
    "import numpy as np\n",
    "\n",
    "pd.set_option('max_colwidth', None)"
   ]
  },
  {
   "cell_type": "code",
   "execution_count": 2,
   "id": "e2fb88cc-8e0b-4d85-a3b6-8c415f2a9727",
   "metadata": {},
   "outputs": [],
   "source": [
    "books = pd.read_csv('../Data/childrens_books.csv')"
   ]
  },
  {
   "cell_type": "code",
   "execution_count": 3,
   "id": "e98fce14-d141-468b-a47b-bb232b4c9a90",
   "metadata": {},
   "outputs": [],
   "source": [
    "## Suppress the warnings\n",
    "import warnings\n",
    "warnings.filterwarnings(\"ignore\")"
   ]
  },
  {
   "cell_type": "code",
   "execution_count": 4,
   "id": "04a336ff-f577-42cd-9269-dc752f000932",
   "metadata": {},
   "outputs": [],
   "source": [
    "from transformers import  pipeline, logging\n",
    "logging.set_verbosity_error()"
   ]
  },
  {
   "cell_type": "code",
   "execution_count": 5,
   "id": "e23246f5-a5ea-4ab4-afb8-eb6c42bfe1e8",
   "metadata": {},
   "outputs": [],
   "source": [
    "## Fit a Transformer model to the dataset\n",
    "\n",
    "pipe = pipeline(\n",
    "    \"zero-shot-classification\", \n",
    "    model=\"facebook/bart-large-mnli\",\n",
    "    device='mps'\n",
    ")"
   ]
  },
  {
   "cell_type": "code",
   "execution_count": 6,
   "id": "64b02918-27bf-4bcc-afd8-be1bb86b9a3e",
   "metadata": {},
   "outputs": [],
   "source": [
    "classes = [\n",
    "    'adventure & fantasy',\n",
    "    'animals & nature',\n",
    "    'mystery',\n",
    "    'humor',\n",
    "    'non-fiction'\n",
    "]"
   ]
  },
  {
   "cell_type": "code",
   "execution_count": null,
   "id": "599d2ea5-e19c-4956-8bbc-c33d03639a6d",
   "metadata": {},
   "outputs": [],
   "source": [
    "results = pipe(books.Description.to_list(),classes)"
   ]
  },
  {
   "cell_type": "code",
   "execution_count": null,
   "id": "1ea2ed0e-1b00-4525-a525-88e87a99166f",
   "metadata": {},
   "outputs": [],
   "source": [
    "books['labels'] = [r['labels'][0] for r in results]"
   ]
  },
  {
   "cell_type": "code",
   "execution_count": null,
   "id": "6def4f1c-7606-44fb-a7bc-2b8dc8610e5f",
   "metadata": {},
   "outputs": [],
   "source": [
    "books"
   ]
  },
  {
   "cell_type": "code",
   "execution_count": null,
   "id": "35948ff6-256c-469c-97dc-c503de15da3c",
   "metadata": {},
   "outputs": [],
   "source": [
    "books['labels'].value_counts()"
   ]
  },
  {
   "cell_type": "code",
   "execution_count": null,
   "id": "727e5bbb-71b3-426d-8dc4-f68e0561df3e",
   "metadata": {},
   "outputs": [],
   "source": []
  }
 ],
 "metadata": {
  "kernelspec": {
   "display_name": "Python 3 (ipykernel)",
   "language": "python",
   "name": "python3"
  },
  "language_info": {
   "codemirror_mode": {
    "name": "ipython",
    "version": 3
   },
   "file_extension": ".py",
   "mimetype": "text/x-python",
   "name": "python",
   "nbconvert_exporter": "python",
   "pygments_lexer": "ipython3",
   "version": "3.13.3"
  },
  "widgets": {
   "application/vnd.jupyter.widget-state+json": {
    "state": {},
    "version_major": 2,
    "version_minor": 0
   }
  }
 },
 "nbformat": 4,
 "nbformat_minor": 5
}
