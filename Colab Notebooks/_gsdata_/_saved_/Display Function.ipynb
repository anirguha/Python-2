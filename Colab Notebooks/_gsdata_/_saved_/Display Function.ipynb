{
 "cells": [
  {
   "cell_type": "code",
   "execution_count": 1,
   "id": "44169cae-62c5-44a1-8d3d-600fbbc5b9b0",
   "metadata": {},
   "outputs": [
    {
     "data": {
      "text/html": [
       "<div>\n",
       "<style scoped>\n",
       "    .dataframe tbody tr th:only-of-type {\n",
       "        vertical-align: middle;\n",
       "    }\n",
       "\n",
       "    .dataframe tbody tr th {\n",
       "        vertical-align: top;\n",
       "    }\n",
       "\n",
       "    .dataframe thead th {\n",
       "        text-align: right;\n",
       "    }\n",
       "</style>\n",
       "<table border=\"1\" class=\"dataframe\">\n",
       "  <thead>\n",
       "    <tr style=\"text-align: right;\">\n",
       "      <th></th>\n",
       "      <th>col1</th>\n",
       "      <th>col2</th>\n",
       "    </tr>\n",
       "  </thead>\n",
       "  <tbody>\n",
       "    <tr>\n",
       "      <th>0</th>\n",
       "      <td>1</td>\n",
       "      <td>3</td>\n",
       "    </tr>\n",
       "    <tr>\n",
       "      <th>1</th>\n",
       "      <td>2</td>\n",
       "      <td>4</td>\n",
       "    </tr>\n",
       "  </tbody>\n",
       "</table>\n",
       "</div>"
      ],
      "text/plain": [
       "   col1  col2\n",
       "0     1     3\n",
       "1     2     4"
      ]
     },
     "metadata": {},
     "output_type": "display_data"
    },
    {
     "data": {
      "text/html": [
       "<h1>Hello, display!</h1>"
      ],
      "text/plain": [
       "<IPython.core.display.HTML object>"
      ]
     },
     "metadata": {},
     "output_type": "display_data"
    }
   ],
   "source": [
    "from IPython.display import display, HTML\n",
    "import pandas as pd\n",
    "\n",
    "df = pd.DataFrame({'col1': [1, 2], 'col2': [3, 4]})\n",
    "display(df) # Displays a formatted table in Jupyter\n",
    "display(HTML(\"<h1>Hello, display!</h1>\")) # Renders HTML\n"
   ]
  },
  {
   "cell_type": "code",
   "execution_count": 3,
   "id": "0a835bfa-c965-44f1-9f56-c74471b16819",
   "metadata": {},
   "outputs": [
    {
     "name": "stdout",
     "output_type": "stream",
     "text": [
      "Collecting PyPl\n",
      "  Downloading pypl-40.10-py3-none-any.whl.metadata (291 bytes)\n",
      "Collecting svgwrite (from PyPl)\n",
      "  Downloading svgwrite-1.4.3-py3-none-any.whl.metadata (8.8 kB)\n",
      "Downloading pypl-40.10-py3-none-any.whl (6.1 kB)\n",
      "Downloading svgwrite-1.4.3-py3-none-any.whl (67 kB)\n",
      "Installing collected packages: svgwrite, PyPl\n",
      "Successfully installed PyPl-40.10 svgwrite-1.4.3\n"
     ]
    }
   ],
   "source": [
    "!pip install PyPl"
   ]
  },
  {
   "cell_type": "code",
   "execution_count": 5,
   "id": "6e035928-8366-4582-b2a8-15cf13f95da9",
   "metadata": {},
   "outputs": [
    {
     "name": "stdout",
     "output_type": "stream",
     "text": [
      "zsh:1: no matches found: pyspark[sql]\n",
      "zsh:1: no matches found: pyspark[pandas_on_spark]\n",
      "zsh:1: no matches found: pyspark[connect]\n"
     ]
    }
   ],
   "source": [
    "# Spark SQL\n",
    "!pip install pyspark[sql]\n",
    "# pandas API on Spark\n",
    "!pip install pyspark[pandas_on_spark] plotly  # to plot your data, you can install plotly together.\n",
    "# Spark Connect\n",
    "!pip install pyspark[connect]"
   ]
  },
  {
   "cell_type": "code",
   "execution_count": null,
   "id": "d81164a7-446c-4a38-a1d3-000266f2134c",
   "metadata": {},
   "outputs": [],
   "source": []
  }
 ],
 "metadata": {
  "kernelspec": {
   "display_name": "Python 3 (ipykernel)",
   "language": "python",
   "name": "python3"
  },
  "language_info": {
   "codemirror_mode": {
    "name": "ipython",
    "version": 3
   },
   "file_extension": ".py",
   "mimetype": "text/x-python",
   "name": "python",
   "nbconvert_exporter": "python",
   "pygments_lexer": "ipython3",
   "version": "3.13.3"
  }
 },
 "nbformat": 4,
 "nbformat_minor": 5
}
