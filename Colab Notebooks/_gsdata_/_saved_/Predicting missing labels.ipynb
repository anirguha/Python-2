{
 "cells": [
  {
   "cell_type": "code",
   "execution_count": 1,
   "metadata": {
    "executionInfo": {
     "elapsed": 12195,
     "status": "ok",
     "timestamp": 1756666900793,
     "user": {
      "displayName": "Anirban Guha",
      "userId": "10209519538744786819"
     },
     "user_tz": -330
    },
    "id": "3qt5CRw8gPf6"
   },
   "outputs": [],
   "source": [
    "# import libraries\n",
    "import numpy as np\n",
    "\n",
    "import torch\n",
    "import torch.nn as nn\n",
    "import torch.nn.functional as F\n",
    "from torch.utils.data import DataLoader,TensorDataset\n",
    "from sklearn.model_selection import train_test_split\n",
    "\n",
    "import matplotlib.pyplot as plt"
   ]
  },
  {
   "cell_type": "markdown",
   "metadata": {
    "id": "Xr4pfsiEgg8B"
   },
   "source": [
    "# Loading the data"
   ]
  },
  {
   "cell_type": "code",
   "execution_count": 2,
   "metadata": {
    "executionInfo": {
     "elapsed": 1996,
     "status": "ok",
     "timestamp": 1756666904374,
     "user": {
      "displayName": "Anirban Guha",
      "userId": "10209519538744786819"
     },
     "user_tz": -330
    },
    "id": "1uprccHcgVbE"
   },
   "outputs": [],
   "source": [
    "# import dataset (comes with colab!)\n",
    "data = np.loadtxt(open('sample_data/mnist_train_small.csv','rb'),delimiter=',')\n",
    "\n",
    "# extract labels (number IDs) and remove from data\n",
    "labels = data[:,0]\n",
    "data   = data[:,1:]"
   ]
  },
  {
   "cell_type": "markdown",
   "metadata": {
    "id": "UsYv-09rgo0q"
   },
   "source": [
    "# Create train/test groups using DataLoader"
   ]
  },
  {
   "cell_type": "code",
   "execution_count": 55,
   "metadata": {
    "executionInfo": {
     "elapsed": 433,
     "status": "ok",
     "timestamp": 1756670289528,
     "user": {
      "displayName": "Anirban Guha",
      "userId": "10209519538744786819"
     },
     "user_tz": -330
    },
    "id": "TwMuckJ7gbW-"
   },
   "outputs": [],
   "source": [
    "# Step 1: normalize the data to a range of [0 1]\n",
    "dataNorm = (data - np.min(data))/ (np.max(data) - np.min(data))\n",
    "\n",
    "# Step 2: convert to tensor\n",
    "dataT   = torch.tensor( dataNorm ).float()\n",
    "labelsT = torch.tensor( labels ).long() # long = int64\n",
    "\n",
    "# Step 3: Split the data into train and test data\n",
    "# Using scikit-learn\n",
    "# train_data,test_data, train_labels,test_labels = train_test_split(dataT, labelsT, test_size=.1)\n",
    "\n",
    "# Using boolean vectors\n",
    "cond = labels == 8\n",
    "train_data,test_data  = dataT[~cond],dataT[cond]\n",
    "train_labels,test_labels = labelsT[~cond],labelsT[cond]\n",
    "\n",
    "# Step 4: convert into PyTorch Datasets\n",
    "train_data = TensorDataset(train_data,train_labels)\n",
    "test_data  = TensorDataset(test_data,test_labels)\n",
    "\n",
    "# Step 5: translate into dataloader objects\n",
    "batchsize    = 32\n",
    "train_loader = DataLoader(train_data,batch_size=batchsize,shuffle=True,drop_last=True)\n",
    "test_loader  = DataLoader(test_data,batch_size=test_data.tensors[0].shape[0])"
   ]
  },
  {
   "cell_type": "markdown",
   "metadata": {
    "id": "OlKux8lAjG4B"
   },
   "source": [
    "# Create Model"
   ]
  },
  {
   "cell_type": "code",
   "execution_count": 56,
   "metadata": {
    "executionInfo": {
     "elapsed": 13,
     "status": "ok",
     "timestamp": 1756670292162,
     "user": {
      "displayName": "Anirban Guha",
      "userId": "10209519538744786819"
     },
     "user_tz": -330
    },
    "id": "YqzbjJAri2T0"
   },
   "outputs": [],
   "source": [
    "class ANNmodel(nn.Module):\n",
    "    \"\"\"\n",
    "    sizes: list of layer sizes, e.g. [in, h1, h2, ..., out]\n",
    "    activation: activation for hidden layers (callable)\n",
    "    out_activation: activation for the final layer (callable or None)\n",
    "    dropout: float in [0,1) (applied to hidden layers)\n",
    "    batchnorm: bool (BatchNorm1d on hidden layers)\n",
    "    \"\"\"\n",
    "    def __init__(self, sizes: list, activation=F.relu, out_activation=None,\n",
    "                 dropout=0.0, batchnorm=False):\n",
    "        super().__init__()\n",
    "        assert len(sizes) >= 2, \"sizes must include [in_features, out_features]\"\n",
    "\n",
    "        layers = []\n",
    "        for i in range(len(sizes)-1):\n",
    "            in_f, out_f = sizes[i], sizes[i+1]\n",
    "            layers.append(nn.Linear(in_f, out_f))\n",
    "\n",
    "        self.layers = nn.ModuleList(layers)\n",
    "        self.activation = activation\n",
    "        self.out_activation = out_activation\n",
    "        self.dropout = nn.Dropout(dropout) if dropout and dropout > 0 else None\n",
    "        self.bn = nn.ModuleList(\n",
    "            [nn.BatchNorm1d(sizes[i+1]) for i in range(len(sizes)-2)]\n",
    "        ) if batchnorm else None\n",
    "\n",
    "    def forward(self, x):\n",
    "        # hidden layers\n",
    "        for i, lin in enumerate(self.layers[:-1]):\n",
    "            x = lin(x)\n",
    "            if self.bn: x = self.bn[i](x)\n",
    "            x = self.activation(x)\n",
    "            if self.dropout: x = self.dropout(x)\n",
    "        # output layer\n",
    "        x = self.layers[-1](x)\n",
    "        if self.out_activation is not None:\n",
    "            x = self.out_activation(x)\n",
    "        return x\n"
   ]
  },
  {
   "cell_type": "code",
   "execution_count": 57,
   "metadata": {
    "executionInfo": {
     "elapsed": 3,
     "status": "ok",
     "timestamp": 1756670293267,
     "user": {
      "displayName": "Anirban Guha",
      "userId": "10209519538744786819"
     },
     "user_tz": -330
    },
    "id": "kygqFCSgjUUB"
   },
   "outputs": [],
   "source": [
    "## function to create the model\n",
    "def createANNmodel(sizes,activation,out_activation,dropout,batchnorm, optimizerAlgo,learningrate, lossfun):\n",
    "\n",
    "  model = ANNmodel(sizes,activation=activation,out_activation=out_activation,dropout=dropout,batchnorm=batchnorm)\n",
    "\n",
    "  # loss function\n",
    "  lossfun = lossfun\n",
    "\n",
    "  # optimizer\n",
    "  optifun = getattr(torch.optim,optimizerAlgo)\n",
    "  optimizer = optifun(model.parameters(),lr=learningrate)\n",
    "\n",
    "  return model, lossfun, optimizer"
   ]
  },
  {
   "cell_type": "code",
   "execution_count": 58,
   "metadata": {
    "colab": {
     "base_uri": "https://localhost:8080/"
    },
    "executionInfo": {
     "elapsed": 9,
     "status": "ok",
     "timestamp": 1756670294358,
     "user": {
      "displayName": "Anirban Guha",
      "userId": "10209519538744786819"
     },
     "user_tz": -330
    },
    "id": "P1vgM12Pjnhh",
    "outputId": "0a88b9c7-54db-40cf-bc0b-9e624fdffb33"
   },
   "outputs": [
    {
     "name": "stdout",
     "output_type": "stream",
     "text": [
      " \n",
      "Prediction shape:\n",
      "torch.Size([32, 10])\n",
      " \n",
      "Loss:\n",
      "tensor(2.3211, grad_fn=<NllLossBackward0>)\n"
     ]
    }
   ],
   "source": [
    "model,lossfun,optimizer = createANNmodel(\n",
    "    sizes=[784,68,68,10],\n",
    "    activation=F.relu,\n",
    "    out_activation=lambda x: torch.log_softmax(x, dim=1),  # specify dim\n",
    "    dropout=0.0,\n",
    "    batchnorm=False,\n",
    "    optimizerAlgo='SGD',\n",
    "    learningrate=0.01,\n",
    "    lossfun=nn.NLLLoss()\n",
    ")\n",
    "\n",
    "X,y = next(iter(train_loader))\n",
    "yHat = model(X)\n",
    "\n",
    "print(' ')\n",
    "print('Prediction shape:')\n",
    "print(yHat.shape)\n",
    "\n",
    "# now let's compute the loss\n",
    "loss = lossfun(yHat,y)\n",
    "print(' ')\n",
    "print('Loss:')\n",
    "print(loss)"
   ]
  },
  {
   "cell_type": "code",
   "execution_count": 59,
   "metadata": {
    "executionInfo": {
     "elapsed": 5,
     "status": "ok",
     "timestamp": 1756670295797,
     "user": {
      "displayName": "Anirban Guha",
      "userId": "10209519538744786819"
     },
     "user_tz": -330
    },
    "id": "ZZqq7lPDj-eB"
   },
   "outputs": [],
   "source": [
    "## Function to train the model\n",
    "\n",
    "def trainANNmodel(optimizerAlgo, learningrate, nEpochs=50):\n",
    "\n",
    "  # create the model\n",
    "  model,lossfun,optimizer = createANNmodel(\n",
    "    sizes=[784,68,68,10],\n",
    "    activation=F.relu,\n",
    "    out_activation=lambda x: torch.log_softmax(x, dim=1),  # specify dim\n",
    "    dropout=0.0,\n",
    "    batchnorm=False,\n",
    "    optimizerAlgo='SGD',\n",
    "    learningrate=0.01,\n",
    "    lossfun=nn.NLLLoss()\n",
    ")\n",
    "\n",
    "  # initialize losses and accuracies\n",
    "  losses    = torch.zeros(nEpochs)\n",
    "  trainAcc  = []\n",
    "  testAcc   = []\n",
    "\n",
    "\n",
    "  # loop over epochs\n",
    "  for epochi in range(nEpochs):\n",
    "\n",
    "    model.train()\n",
    "\n",
    "    # loop over training data batches\n",
    "    batchAcc  = []\n",
    "    batchLoss = []\n",
    "\n",
    "    for X,y in train_loader:\n",
    "\n",
    "      # forward pass and loss\n",
    "      yHat = model(X)\n",
    "      loss = lossfun(yHat,y)\n",
    "\n",
    "      # backprop\n",
    "      optimizer.zero_grad()\n",
    "      loss.backward()\n",
    "      optimizer.step()\n",
    "\n",
    "      # loss from this batch\n",
    "      batchLoss.append(loss.item())\n",
    "\n",
    "      # compute accuracy\n",
    "      matches = torch.argmax(yHat,axis=1) == y     # booleans (false/true)\n",
    "      matchesNumeric = matches.float()             # convert to numbers (0/1)\n",
    "      accuracyPct = 100*torch.mean(matchesNumeric) # average and x100\n",
    "      batchAcc.append( accuracyPct )               # add to list of accuracies\n",
    "    # end of batch loop (training completed for all mini-batches)\n",
    "\n",
    "    # now that we've trained through the batches, get their average training accuracy\n",
    "    trainAcc.append( np.mean(batchAcc) )\n",
    "\n",
    "    model.eval()\n",
    "\n",
    "    # test accuracy\n",
    "    with torch.no_grad():\n",
    "      X,y = next(iter(test_loader)) # extract X,y from test dataloader\n",
    "      yHat = model(X)\n",
    "\n",
    "      # compare the following really long line of code to the training accuracy lines\n",
    "      testAcc.append( 100*torch.mean((torch.argmax(yHat,axis=1)==y).float()) )\n",
    "\n",
    "    losses[epochi] = np.mean(batchLoss)\n",
    "\n",
    "  # end epochs\n",
    "\n",
    "  # function output\n",
    "  return trainAcc,testAcc,losses,model"
   ]
  },
  {
   "cell_type": "code",
   "execution_count": 60,
   "metadata": {
    "colab": {
     "base_uri": "https://localhost:8080/"
    },
    "executionInfo": {
     "elapsed": 57547,
     "status": "ok",
     "timestamp": 1756670354585,
     "user": {
      "displayName": "Anirban Guha",
      "userId": "10209519538744786819"
     },
     "user_tz": -330
    },
    "id": "0T8TgjEImXS9",
    "outputId": "00008f6b-3149-4566-e1cb-335390f49bae"
   },
   "outputs": [
    {
     "data": {
      "text/plain": [
       "(np.float32(94.17975), np.float32(0.0))"
      ]
     },
     "execution_count": 60,
     "metadata": {},
     "output_type": "execute_result"
    }
   ],
   "source": [
    "## Train the model\n",
    "\n",
    "trainAcc,testAcc,losses,model = trainANNmodel('SGD',0.01,nEpochs=50)\n",
    "np.mean(trainAcc), np.mean(testAcc)"
   ]
  },
  {
   "cell_type": "code",
   "execution_count": 62,
   "metadata": {
    "colab": {
     "base_uri": "https://localhost:8080/",
     "height": 418
    },
    "executionInfo": {
     "elapsed": 541,
     "status": "ok",
     "timestamp": 1756670423341,
     "user": {
      "displayName": "Anirban Guha",
      "userId": "10209519538744786819"
     },
     "user_tz": -330
    },
    "id": "zNlqlefkmopK",
    "outputId": "4c3d7e54-bdff-48ec-c36c-729e7e11017d"
   },
   "outputs": [
    {
     "data": {
      "image/png": "[encoded data removed]",
      "text/plain": [
       "<Figure size 1600x500 with 2 Axes>"
      ]
     },
     "metadata": {},
     "output_type": "display_data"
    }
   ],
   "source": [
    "## Plot the performance\n",
    "import matplotlib.ticker as ticker\n",
    "\n",
    "fig, ax = plt.subplots(1,2,figsize=(16,5))\n",
    "\n",
    "# Plot for losses. by Epochs\n",
    "ax[0].plot(losses.detach().numpy())\n",
    "ax[0].set_xlabel('Epochs')\n",
    "ax[0].set_ylabel('Loss')\n",
    "ax[0].set_title('Loss vs. Epochs')\n",
    "\n",
    "# Plot for accuracy. by Epochs\n",
    "ax[1].plot(trainAcc,label='Train')\n",
    "# ax[1].plot(testAcc,label='Test') # No point in calculating test accuracy hence commented. Test data is totally unknown to the model\n",
    "ax[1].set_xlabel('Epochs')\n",
    "ax[1].set_ylabel('Accuracy')\n",
    "ax[1].legend()\n",
    "ax[1].set_title(f'Final Model Train Accuracy: {trainAcc[-1]:.2f}')\n",
    "\n",
    "\n",
    "plt.tight_layout()\n",
    "plt.show();"
   ]
  },
  {
   "cell_type": "markdown",
   "metadata": {
    "id": "17ouMshnoIsz"
   },
   "source": [
    "# Test the model"
   ]
  },
  {
   "cell_type": "code",
   "execution_count": 63,
   "metadata": {
    "executionInfo": {
     "elapsed": 29,
     "status": "ok",
     "timestamp": 1756670429746,
     "user": {
      "displayName": "Anirban Guha",
      "userId": "10209519538744786819"
     },
     "user_tz": -330
    },
    "id": "6-BhOoxxn07i"
   },
   "outputs": [],
   "source": [
    "# Run the model through test data\n",
    "X = next(iter(test_loader))[0]\n",
    "yHat = model(X).detach()\n",
    "\n",
    "# Save the model predictions\n",
    "pred = torch.argmax(yHat,axis=1)"
   ]
  },
  {
   "cell_type": "code",
   "execution_count": 64,
   "metadata": {
    "colab": {
     "base_uri": "https://localhost:8080/",
     "height": 807
    },
    "executionInfo": {
     "elapsed": 867,
     "status": "ok",
     "timestamp": 1756670433674,
     "user": {
      "displayName": "Anirban Guha",
      "userId": "10209519538744786819"
     },
     "user_tz": -330
    },
    "id": "TZakbU7lowpB",
    "outputId": "414ff73f-ce33-4322-f44e-bead00cfcd08"
   },
   "outputs": [
    {
     "data": {
      "image/png": "[encoded data removed]",
      "text/plain": [
       "<Figure size 1200x800 with 12 Axes>"
      ]
     },
     "metadata": {},
     "output_type": "display_data"
    }
   ],
   "source": [
    "# Visualize the predictions\n",
    "fig, axs = plt.subplots(3,4, figsize=(12,8))\n",
    "\n",
    "rand_nos = np.random.choice(len(X),12)\n",
    "\n",
    "for i, ax in enumerate(axs.flatten()):\n",
    "  img = X[rand_nos[i]].reshape(28,28)\n",
    "  ax.imshow(img,cmap='gray')\n",
    "  ax.set_title(f'Prediction: {pred[rand_nos[i]]}')\n",
    "  ax.axis('off')\n",
    "\n",
    "plt.tight_layout()\n",
    "plt.show();"
   ]
  },
  {
   "cell_type": "code",
   "execution_count": 65,
   "metadata": {
    "colab": {
     "base_uri": "https://localhost:8080/",
     "height": 490
    },
    "executionInfo": {
     "elapsed": 277,
     "status": "ok",
     "timestamp": 1756670440641,
     "user": {
      "displayName": "Anirban Guha",
      "userId": "10209519538744786819"
     },
     "user_tz": -330
    },
    "id": "R_juVH1EqG4s",
    "outputId": "af68b66b-49e9-4e12-cc09-1c6b2529f1da"
   },
   "outputs": [
    {
     "name": "stdout",
     "output_type": "stream",
     "text": [
      "(array([0, 1, 2, 3, 4, 5, 6, 7, 9]), array([ 52, 212, 228, 801,  33, 324,  52,  15, 195]))\n"
     ]
    },
    {
     "data": {
      "image/png": "[encoded data removed]",
      "text/plain": [
       "<Figure size 640x480 with 1 Axes>"
      ]
     },
     "metadata": {},
     "output_type": "display_data"
    }
   ],
   "source": [
    "# Proportion of times the model mislabelled\n",
    "print(np.unique(pred,return_counts=True))\n",
    "\n",
    "probMistaken = np.zeros(10)\n",
    "\n",
    "for i in range(10):\n",
    "  probMistaken[i] = torch.mean((pred==i).float())\n",
    "\n",
    "plt.bar(range(10),probMistaken)\n",
    "plt.xticks(range(10))\n",
    "plt.xlabel('Number')\n",
    "plt.ylabel('Proportion')\n",
    "plt.title(f'Proportion of times the model mislabelled the number {np.unique(test_labels)[0]}')\n",
    "\n",
    "plt.show();\n"
   ]
  },
  {
   "cell_type": "code",
   "execution_count": 54,
   "metadata": {
    "colab": {
     "base_uri": "https://localhost:8080/"
    },
    "executionInfo": {
     "elapsed": 17,
     "status": "ok",
     "timestamp": 1756670242051,
     "user": {
      "displayName": "Anirban Guha",
      "userId": "10209519538744786819"
     },
     "user_tz": -330
    },
    "id": "YczStYSDrSbq",
    "outputId": "484a7c7f-b68e-499b-828e-5941b72a8b7a"
   },
   "outputs": [
    {
     "data": {
      "text/plain": [
       "array([7])"
      ]
     },
     "execution_count": 54,
     "metadata": {},
     "output_type": "execute_result"
    }
   ],
   "source": [
    "np.unique(test_labels).flatten()"
   ]
  },
  {
   "cell_type": "code",
   "execution_count": null,
   "metadata": {
    "id": "h0o990hWswKA"
   },
   "outputs": [],
   "source": []
  }
 ],
 "metadata": {
  "colab": {
   "authorship_tag": "ABX9TyPN1yiKVjzqqytPSjoQ9xBO",
   "provenance": []
  },
  "kernelspec": {
   "display_name": "Python 3 (ipykernel)",
   "language": "python",
   "name": "python3"
  },
  "language_info": {
   "codemirror_mode": {
    "name": "ipython",
    "version": 3
   },
   "file_extension": ".py",
   "mimetype": "text/x-python",
   "name": "python",
   "nbconvert_exporter": "python",
   "pygments_lexer": "ipython3",
   "version": "3.11.13"
  }
 },
 "nbformat": 4,
 "nbformat_minor": 4
}
