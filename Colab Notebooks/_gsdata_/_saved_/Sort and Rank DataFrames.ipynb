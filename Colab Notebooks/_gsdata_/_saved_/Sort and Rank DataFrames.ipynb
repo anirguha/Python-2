{
 "cells": [
  {
   "metadata": {},
   "cell_type": "markdown",
   "source": "### Sort and Rank Functions",
   "id": "d1765cadd163ee48"
  },
  {
   "metadata": {
    "ExecuteTime": {
     "end_time": "2025-05-29T18:20:16.068593Z",
     "start_time": "2025-05-29T18:20:16.065673Z"
    }
   },
   "cell_type": "code",
   "source": "import pandas as pd",
   "id": "e99ba55925aa9b0b",
   "outputs": [],
   "execution_count": 8
  },
  {
   "metadata": {
    "ExecuteTime": {
     "end_time": "2025-05-29T18:20:16.267691Z",
     "start_time": "2025-05-29T18:20:16.259554Z"
    }
   },
   "cell_type": "code",
   "source": [
    "Cardata = { \"Mercedes\": [2, 4, 0, 4, 0, 3], \"Ford\": [3, 0, 0, 1, 6, 12], \"Tata\":[9, 3, 4, 1, 0, 0], \"Renault\":[12, 1, 0, 0, 3, 1]}\n",
    "Carsales = pd.DataFrame(Cardata)\n",
    "Carsales.index.rename(\"Sales place\", inplace=True)\n",
    "Carsales.rename(index={0: \"One\", 1: \"Two\", 2: \"Three\", 3: \"Four\", 4: \"Five\", 5: \"Six\"}, inplace=True)\n",
    "Carsales"
   ],
   "id": "17a0ec9c90c3d4ab",
   "outputs": [
    {
     "data": {
      "text/plain": [
       "             Mercedes  Ford  Tata  Renault\n",
       "Sales place                               \n",
       "One                 2     3     9       12\n",
       "Two                 4     0     3        1\n",
       "Three               0     0     4        0\n",
       "Four                4     1     1        0\n",
       "Five                0     6     0        3\n",
       "Six                 3    12     0        1"
      ],
      "text/html": [
       "<div>\n",
       "<style scoped>\n",
       "    .dataframe tbody tr th:only-of-type {\n",
       "        vertical-align: middle;\n",
       "    }\n",
       "\n",
       "    .dataframe tbody tr th {\n",
       "        vertical-align: top;\n",
       "    }\n",
       "\n",
       "    .dataframe thead th {\n",
       "        text-align: right;\n",
       "    }\n",
       "</style>\n",
       "<table border=\"1\" class=\"dataframe\">\n",
       "  <thead>\n",
       "    <tr style=\"text-align: right;\">\n",
       "      <th></th>\n",
       "      <th>Mercedes</th>\n",
       "      <th>Ford</th>\n",
       "      <th>Tata</th>\n",
       "      <th>Renault</th>\n",
       "    </tr>\n",
       "    <tr>\n",
       "      <th>Sales place</th>\n",
       "      <th></th>\n",
       "      <th></th>\n",
       "      <th></th>\n",
       "      <th></th>\n",
       "    </tr>\n",
       "  </thead>\n",
       "  <tbody>\n",
       "    <tr>\n",
       "      <th>One</th>\n",
       "      <td>2</td>\n",
       "      <td>3</td>\n",
       "      <td>9</td>\n",
       "      <td>12</td>\n",
       "    </tr>\n",
       "    <tr>\n",
       "      <th>Two</th>\n",
       "      <td>4</td>\n",
       "      <td>0</td>\n",
       "      <td>3</td>\n",
       "      <td>1</td>\n",
       "    </tr>\n",
       "    <tr>\n",
       "      <th>Three</th>\n",
       "      <td>0</td>\n",
       "      <td>0</td>\n",
       "      <td>4</td>\n",
       "      <td>0</td>\n",
       "    </tr>\n",
       "    <tr>\n",
       "      <th>Four</th>\n",
       "      <td>4</td>\n",
       "      <td>1</td>\n",
       "      <td>1</td>\n",
       "      <td>0</td>\n",
       "    </tr>\n",
       "    <tr>\n",
       "      <th>Five</th>\n",
       "      <td>0</td>\n",
       "      <td>6</td>\n",
       "      <td>0</td>\n",
       "      <td>3</td>\n",
       "    </tr>\n",
       "    <tr>\n",
       "      <th>Six</th>\n",
       "      <td>3</td>\n",
       "      <td>12</td>\n",
       "      <td>0</td>\n",
       "      <td>1</td>\n",
       "    </tr>\n",
       "  </tbody>\n",
       "</table>\n",
       "</div>"
      ]
     },
     "execution_count": 9,
     "metadata": {},
     "output_type": "execute_result"
    }
   ],
   "execution_count": 9
  },
  {
   "metadata": {
    "ExecuteTime": {
     "end_time": "2025-05-29T18:15:39.422342Z",
     "start_time": "2025-05-29T18:15:39.418210Z"
    }
   },
   "cell_type": "code",
   "source": [
    "#Sort the DataFrame using the sort_vales() function\n",
    "print(Carsales.sort_values(by=\"Ford\", ascending=True))"
   ],
   "id": "c614d0af22667b90",
   "outputs": [
    {
     "name": "stdout",
     "output_type": "stream",
     "text": [
      "             Mercedes  Ford  Tata  Renault\n",
      "Sales place                               \n",
      "Two                 4     0     3        1\n",
      "Three               0     0     4        0\n",
      "Four                4     1     1        0\n",
      "One                 2     3     9       12\n",
      "Five                0     6     0        3\n",
      "Six                 3    12     0        1\n"
     ]
    }
   ],
   "execution_count": 4
  },
  {
   "metadata": {
    "ExecuteTime": {
     "end_time": "2025-05-29T18:16:21.112978Z",
     "start_time": "2025-05-29T18:16:21.108363Z"
    }
   },
   "cell_type": "code",
   "source": [
    "#Sort the DataFrame using the sort_vales() function descending order\n",
    "print(Carsales.sort_values(by=\"Ford\", ascending=False))"
   ],
   "id": "9cad38cfea93c6f8",
   "outputs": [
    {
     "name": "stdout",
     "output_type": "stream",
     "text": [
      "             Mercedes  Ford  Tata  Renault\n",
      "Sales place                               \n",
      "Six                 3    12     0        1\n",
      "Five                0     6     0        3\n",
      "One                 2     3     9       12\n",
      "Four                4     1     1        0\n",
      "Two                 4     0     3        1\n",
      "Three               0     0     4        0\n"
     ]
    }
   ],
   "execution_count": 5
  },
  {
   "metadata": {},
   "cell_type": "markdown",
   "source": "#### Sort by multiple columns",
   "id": "3ad9542bd430eb3e"
  },
  {
   "metadata": {
    "ExecuteTime": {
     "end_time": "2025-05-29T18:29:34.874562Z",
     "start_time": "2025-05-29T18:29:34.868320Z"
    }
   },
   "cell_type": "code",
   "source": "print(Carsales.sort_values(by=[\"Ford\", \"Tata\"],ascending=False))",
   "id": "6f193fa3f9bec2c6",
   "outputs": [
    {
     "name": "stdout",
     "output_type": "stream",
     "text": [
      "             Mercedes  Ford  Tata  Renault\n",
      "Sales place                               \n",
      "Six                 3    12     0        1\n",
      "Five                0     6     0        3\n",
      "One                 2     3     9       12\n",
      "Four                4     1     1        0\n",
      "Three               0     0     4        0\n",
      "Two                 4     0     3        1\n"
     ]
    }
   ],
   "execution_count": 10
  },
  {
   "metadata": {
    "ExecuteTime": {
     "end_time": "2025-05-29T18:30:04.106009Z",
     "start_time": "2025-05-29T18:30:04.101638Z"
    }
   },
   "cell_type": "code",
   "source": "print(Carsales.sort_values(by=[\"Ford\", \"Tata\"],ascending=[False,True]))",
   "id": "e7ed6fe8a424c5a1",
   "outputs": [
    {
     "name": "stdout",
     "output_type": "stream",
     "text": [
      "             Mercedes  Ford  Tata  Renault\n",
      "Sales place                               \n",
      "Six                 3    12     0        1\n",
      "Five                0     6     0        3\n",
      "One                 2     3     9       12\n",
      "Four                4     1     1        0\n",
      "Two                 4     0     3        1\n",
      "Three               0     0     4        0\n"
     ]
    }
   ],
   "execution_count": 11
  },
  {
   "metadata": {
    "ExecuteTime": {
     "end_time": "2025-05-29T18:31:17.366475Z",
     "start_time": "2025-05-29T18:31:17.361484Z"
    }
   },
   "cell_type": "code",
   "source": "print(Carsales.sort_index())",
   "id": "d12fbf01a70dba0c",
   "outputs": [
    {
     "name": "stdout",
     "output_type": "stream",
     "text": [
      "             Mercedes  Ford  Tata  Renault\n",
      "Sales place                               \n",
      "Five                0     6     0        3\n",
      "Four                4     1     1        0\n",
      "One                 2     3     9       12\n",
      "Six                 3    12     0        1\n",
      "Three               0     0     4        0\n",
      "Two                 4     0     3        1\n"
     ]
    }
   ],
   "execution_count": 14
  },
  {
   "metadata": {},
   "cell_type": "markdown",
   "source": "### Find max value for every column using idexmax() function",
   "id": "718ba6a14a0e25be"
  },
  {
   "metadata": {
    "ExecuteTime": {
     "end_time": "2025-05-29T18:34:17.632498Z",
     "start_time": "2025-05-29T18:34:17.629635Z"
    }
   },
   "cell_type": "code",
   "source": "print(Carsales.idxmax())",
   "id": "8a7e16b4b98f4c40",
   "outputs": [
    {
     "name": "stdout",
     "output_type": "stream",
     "text": [
      "Mercedes    Two\n",
      "Ford        Six\n",
      "Tata        One\n",
      "Renault     One\n",
      "dtype: object\n"
     ]
    }
   ],
   "execution_count": 19
  },
  {
   "metadata": {
    "ExecuteTime": {
     "end_time": "2025-05-29T18:35:46.136072Z",
     "start_time": "2025-05-29T18:35:46.131573Z"
    }
   },
   "cell_type": "code",
   "source": "print(Carsales.idxmax(axis=1))",
   "id": "321b977e82a30a0f",
   "outputs": [
    {
     "name": "stdout",
     "output_type": "stream",
     "text": [
      "Sales place\n",
      "One       Renault\n",
      "Two      Mercedes\n",
      "Three        Tata\n",
      "Four     Mercedes\n",
      "Five         Ford\n",
      "Six          Ford\n",
      "dtype: object\n"
     ]
    }
   ],
   "execution_count": 20
  },
  {
   "metadata": {},
   "cell_type": "markdown",
   "source": "### rows value or sales places having minimum value",
   "id": "886e4abf2508690d"
  },
  {
   "metadata": {
    "ExecuteTime": {
     "end_time": "2025-05-29T18:37:28.621626Z",
     "start_time": "2025-05-29T18:37:28.617897Z"
    }
   },
   "cell_type": "code",
   "source": "print(Carsales.idxmin())",
   "id": "58f7b0a767594145",
   "outputs": [
    {
     "name": "stdout",
     "output_type": "stream",
     "text": [
      "Mercedes    Three\n",
      "Ford          Two\n",
      "Tata         Five\n",
      "Renault     Three\n",
      "dtype: object\n"
     ]
    }
   ],
   "execution_count": 21
  },
  {
   "metadata": {
    "ExecuteTime": {
     "end_time": "2025-05-29T18:38:46.974517Z",
     "start_time": "2025-05-29T18:38:46.971419Z"
    }
   },
   "cell_type": "code",
   "source": "print(Carsales.idxmin(axis=\"columns\"))",
   "id": "78d380aa455ec8c8",
   "outputs": [
    {
     "name": "stdout",
     "output_type": "stream",
     "text": [
      "Sales place\n",
      "One      Mercedes\n",
      "Two          Ford\n",
      "Three    Mercedes\n",
      "Four      Renault\n",
      "Five     Mercedes\n",
      "Six          Tata\n",
      "dtype: object\n"
     ]
    }
   ],
   "execution_count": 23
  },
  {
   "metadata": {
    "ExecuteTime": {
     "end_time": "2025-05-29T18:41:02.616868Z",
     "start_time": "2025-05-29T18:41:02.612030Z"
    }
   },
   "cell_type": "code",
   "source": "Carsales.iloc[::2,:]",
   "id": "d909dbd5cdc85175",
   "outputs": [
    {
     "data": {
      "text/plain": [
       "             Mercedes  Ford  Tata  Renault\n",
       "Sales place                               \n",
       "One                 2     3     9       12\n",
       "Three               0     0     4        0\n",
       "Five                0     6     0        3"
      ],
      "text/html": [
       "<div>\n",
       "<style scoped>\n",
       "    .dataframe tbody tr th:only-of-type {\n",
       "        vertical-align: middle;\n",
       "    }\n",
       "\n",
       "    .dataframe tbody tr th {\n",
       "        vertical-align: top;\n",
       "    }\n",
       "\n",
       "    .dataframe thead th {\n",
       "        text-align: right;\n",
       "    }\n",
       "</style>\n",
       "<table border=\"1\" class=\"dataframe\">\n",
       "  <thead>\n",
       "    <tr style=\"text-align: right;\">\n",
       "      <th></th>\n",
       "      <th>Mercedes</th>\n",
       "      <th>Ford</th>\n",
       "      <th>Tata</th>\n",
       "      <th>Renault</th>\n",
       "    </tr>\n",
       "    <tr>\n",
       "      <th>Sales place</th>\n",
       "      <th></th>\n",
       "      <th></th>\n",
       "      <th></th>\n",
       "      <th></th>\n",
       "    </tr>\n",
       "  </thead>\n",
       "  <tbody>\n",
       "    <tr>\n",
       "      <th>One</th>\n",
       "      <td>2</td>\n",
       "      <td>3</td>\n",
       "      <td>9</td>\n",
       "      <td>12</td>\n",
       "    </tr>\n",
       "    <tr>\n",
       "      <th>Three</th>\n",
       "      <td>0</td>\n",
       "      <td>0</td>\n",
       "      <td>4</td>\n",
       "      <td>0</td>\n",
       "    </tr>\n",
       "    <tr>\n",
       "      <th>Five</th>\n",
       "      <td>0</td>\n",
       "      <td>6</td>\n",
       "      <td>0</td>\n",
       "      <td>3</td>\n",
       "    </tr>\n",
       "  </tbody>\n",
       "</table>\n",
       "</div>"
      ]
     },
     "execution_count": 25,
     "metadata": {},
     "output_type": "execute_result"
    }
   ],
   "execution_count": 25
  },
  {
   "metadata": {
    "ExecuteTime": {
     "end_time": "2025-05-29T18:44:05.564944Z",
     "start_time": "2025-05-29T18:44:05.559764Z"
    }
   },
   "cell_type": "code",
   "source": [
    "#Find the Top 3 highest values for Mercedes and keep duplicates\n",
    "print(Carsales.nlargest(3,columns=\"Mercedes\",keep=\"all\"))"
   ],
   "id": "497074c75c405190",
   "outputs": [
    {
     "name": "stdout",
     "output_type": "stream",
     "text": [
      "             Mercedes  Ford  Tata  Renault\n",
      "Sales place                               \n",
      "Two                 4     0     3        1\n",
      "Four                4     1     1        0\n",
      "Six                 3    12     0        1\n"
     ]
    }
   ],
   "execution_count": 29
  },
  {
   "metadata": {
    "ExecuteTime": {
     "end_time": "2025-05-29T18:44:51.926566Z",
     "start_time": "2025-05-29T18:44:51.921248Z"
    }
   },
   "cell_type": "code",
   "source": [
    "#Find the Top 3 highest values for Mercedes and keep duplicates\n",
    "print(Carsales.nsmallest(3,columns=\"Mercedes\",keep=\"all\"))"
   ],
   "id": "779a503e405ef884",
   "outputs": [
    {
     "name": "stdout",
     "output_type": "stream",
     "text": [
      "             Mercedes  Ford  Tata  Renault\n",
      "Sales place                               \n",
      "Three               0     0     4        0\n",
      "Five                0     6     0        3\n",
      "One                 2     3     9       12\n"
     ]
    }
   ],
   "execution_count": 30
  },
  {
   "metadata": {},
   "cell_type": "code",
   "outputs": [],
   "execution_count": null,
   "source": "",
   "id": "fd58c1d44ac36e98"
  }
 ],
 "metadata": {
  "kernelspec": {
   "display_name": "Python 3",
   "language": "python",
   "name": "python3"
  },
  "language_info": {
   "codemirror_mode": {
    "name": "ipython",
    "version": 2
   },
   "file_extension": ".py",
   "mimetype": "text/x-python",
   "name": "python",
   "nbconvert_exporter": "python",
   "pygments_lexer": "ipython2",
   "version": "2.7.6"
  }
 },
 "nbformat": 4,
 "nbformat_minor": 5
}
