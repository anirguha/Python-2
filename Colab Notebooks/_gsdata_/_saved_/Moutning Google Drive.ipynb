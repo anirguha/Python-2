{
 "cells": [
  {
   "cell_type": "code",
   "execution_count": 1,
   "metadata": {
    "colab": {
     "base_uri": "https://localhost:8080/"
    },
    "executionInfo": {
     "elapsed": 25017,
     "status": "ok",
     "timestamp": 1748954730998,
     "user": {
      "displayName": "Anirban Guha",
      "userId": "10209519538744786819"
     },
     "user_tz": -330
    },
    "id": "HqAopU-tzobk",
    "outputId": "fa8d9819-8441-4f7c-fa0b-1097c53ce4de"
   },
   "outputs": [
    {
     "ename": "ModuleNotFoundError",
     "evalue": "No module named 'google'",
     "output_type": "error",
     "traceback": [
      "\u001b[31m---------------------------------------------------------------------------\u001b[39m",
      "\u001b[31mModuleNotFoundError\u001b[39m                       Traceback (most recent call last)",
      "\u001b[36mCell\u001b[39m\u001b[36m \u001b[39m\u001b[32mIn[1]\u001b[39m\u001b[32m, line 1\u001b[39m\n\u001b[32m----> \u001b[39m\u001b[32m1\u001b[39m \u001b[38;5;28;01mfrom\u001b[39;00m\u001b[38;5;250m \u001b[39m\u001b[34;01mgoogle\u001b[39;00m\u001b[34;01m.\u001b[39;00m\u001b[34;01mcolab\u001b[39;00m\u001b[38;5;250m \u001b[39m\u001b[38;5;28;01mimport\u001b[39;00m drive\n\u001b[32m      2\u001b[39m \u001b[38;5;28;01mimport\u001b[39;00m\u001b[38;5;250m \u001b[39m\u001b[34;01mos\u001b[39;00m\n\u001b[32m      4\u001b[39m \u001b[38;5;66;03m# Mount your Google Drive at the default mountpoint /content/drive\u001b[39;00m\n\u001b[32m      5\u001b[39m \u001b[38;5;66;03m# This path does not contain spaces and is the standard for Colab.\u001b[39;00m\n",
      "\u001b[31mModuleNotFoundError\u001b[39m: No module named 'google'"
     ]
    }
   ],
   "source": [
    "from google.colab import drive\n",
    "import os\n",
    "\n",
    "# Mount your Google Drive at the default mountpoint /content/drive\n",
    "# This path does not contain spaces and is the standard for Colab.\n",
    "drive.mount('/content/drive')\n",
    "\n",
    "# Change the current working directory to your desired folder within the mounted Drive.\n",
    "# Make sure the path below accurately reflects the location of your folder\n",
    "# within your Google Drive, starting from the mountpoint /content/drive.\n",
    "colab_notebooks_path = '/content/drive/My Drive/Python/Colab_Notebooks'\n",
    "\n",
    "# Check if the directory exists before changing the working directory\n",
    "if os.path.exists(colab_notebooks_path):\n",
    "    os.chdir(colab_notebooks_path)\n",
    "    print(f\"Changed current working directory to: {os.getcwd()}\")\n",
    "else:\n",
    "    print(f\"Error: Directory '{colab_notebooks_path}' not found.\")\n",
    "    print(\"Please verify the path to your 'Colab_Notebooks' folder within your Google Drive.\")"
   ]
  },
  {
   "cell_type": "code",
   "execution_count": null,
   "metadata": {
    "id": "oOLdCKjTz4Ug"
   },
   "outputs": [],
   "source": []
  }
 ],
 "metadata": {
  "colab": {
   "authorship_tag": "ABX9TyNnzucBREJHMcPemWACU5ij",
   "provenance": []
  },
  "kernelspec": {
   "display_name": "Python 3 (ipykernel)",
   "language": "python",
   "name": "python3"
  },
  "language_info": {
   "codemirror_mode": {
    "name": "ipython",
    "version": 3
   },
   "file_extension": ".py",
   "mimetype": "text/x-python",
   "name": "python",
   "nbconvert_exporter": "python",
   "pygments_lexer": "ipython3",
   "version": "3.13.3"
  }
 },
 "nbformat": 4,
 "nbformat_minor": 4
}
