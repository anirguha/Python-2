{
 "cells": [
  {
   "cell_type": "code",
   "execution_count": 1,
   "id": "e5304861-6ded-427c-9a93-3129cb922ed7",
   "metadata": {},
   "outputs": [
    {
     "name": "stdout",
     "output_type": "stream",
     "text": [
      "dimension of first batch of trainloader: torch.Size([64, 1, 28, 28])\n"
     ]
    }
   ],
   "source": [
    "import torch\n",
    "from torch import nn\n",
    "from torchvision.datasets import MNIST\n",
    "from torchvision import transforms, datasets\n",
    "from torch import optim\n",
    "import helper\n",
    "MNIST.resources = [\n",
    "    ('https://ossci-datasets.s3.amazonaws.com/mnist/train-images-idx3-ubyte.gz', 'f68b3c2dcbeaaa9fbdd348bbdeb94873'),\n",
    "    ('https://ossci-datasets.s3.amazonaws.com/mnist/train-labels-idx1-ubyte.gz', 'd53e105ee54ea40749a09fcbcd1e9432'),\n",
    "    ('https://ossci-datasets.s3.amazonaws.com/mnist/t10k-images-idx3-ubyte.gz', '9fb629c4189551a2d022fa330f9573f3'),\n",
    "    ('https://ossci-datasets.s3.amazonaws.com/mnist/t10k-labels-idx1-ubyte.gz', 'ec29112dd5afa0611ce80d1b7f02629c')\n",
    "]\n",
    "\n",
    "\n",
    "# Download and load the training data\n",
    "trainset =  datasets.MNIST(root='./data',train=True, transform=transforms.ToTensor(),download=True)       ###download trainset\n",
    "testset =   datasets.MNIST(root='./data',train=False, transform=transforms.ToTensor(),download=True)            ###download testset\n",
    "trainloader = torch.utils.data.DataLoader(trainset,batch_size=64,shuffle=True)\n",
    "testloader = torch.utils.data.DataLoader(testset,batch_size=64,shuffle=True)\n",
    "\n",
    "image, labels = next(iter(trainloader))\n",
    "print(\"dimension of first batch of trainloader:\", image.shape)"
   ]
  },
  {
   "cell_type": "code",
   "execution_count": 2,
   "id": "d9ad2258-6d33-464a-adfe-3ee2d9ac928e",
   "metadata": {},
   "outputs": [
    {
     "name": "stdout",
     "output_type": "stream",
     "text": [
      "Sequential(\n",
      "  (0): Linear(in_features=784, out_features=256, bias=True)\n",
      "  (1): ReLU()\n",
      "  (2): Linear(in_features=256, out_features=128, bias=True)\n",
      "  (3): ReLU()\n",
      "  (4): Linear(in_features=128, out_features=64, bias=True)\n",
      "  (5): ReLU()\n",
      "  (6): Linear(in_features=64, out_features=10, bias=True)\n",
      "  (7): LogSoftmax(dim=1)\n",
      ")\n"
     ]
    }
   ],
   "source": [
    "torch.manual_seed(999)\n",
    "input_size = 784\n",
    "hidden_sizes = [256,128, 64]\n",
    "output_size = 10\n",
    "\n",
    "# Build a feed-forward network\n",
    "def build_model(input_size, hidden_sizes, output_size):\n",
    "    ####Start code here\n",
    "    model=nn.Sequential(\n",
    "        nn.Linear(input_size,hidden_sizes[0]),\n",
    "        nn.ReLU(),\n",
    "        nn.Linear(hidden_sizes[0],hidden_sizes[1]),\n",
    "        nn.ReLU(),\n",
    "        nn.Linear(hidden_sizes[1],hidden_sizes[2]),\n",
    "        nn.ReLU(),\n",
    "        nn.Linear(hidden_sizes[2],output_size),\n",
    "        nn.LogSoftmax(dim=1)\n",
    "    )\n",
    "    \n",
    "    \n",
    "    \n",
    "    #### End code\n",
    "    return model\n",
    "\n",
    "classifier = build_model(784,[256,128,64],10)\n",
    "print(classifier)"
   ]
  },
  {
   "cell_type": "code",
   "execution_count": 3,
   "id": "8a47a592-906f-45cb-8172-081d9dc411e8",
   "metadata": {},
   "outputs": [],
   "source": [
    "import matplotlib.pyplot as plt\n",
    "import numpy as np\n",
    "\n",
    "def view_classify(img, ps, version=\"MNIST\"):\n",
    "    ''' Function for viewing an image and its predicted classes.\n",
    "        img: torch.Tensor of shape (1, 28, 28) for MNIST\n",
    "        ps: probabilities from the model, shape (1, 10)\n",
    "    '''\n",
    "    ps = ps.data.cpu().numpy().squeeze()\n",
    "\n",
    "    fig, (ax1, ax2) = plt.subplots(figsize=(6,9), ncols=2)\n",
    "    ax1.imshow(img.view(28,28).cpu().numpy().squeeze(), cmap='gray')\n",
    "    ax1.axis('off')\n",
    "\n",
    "    ax2.barh(np.arange(10), ps)\n",
    "    ax2.set_aspect(0.1)\n",
    "    ax2.set_yticks(np.arange(10))\n",
    "    ax2.set_yticklabels(np.arange(10))\n",
    "    ax2.set_title('Class Probability')\n",
    "    ax2.set_xlim(0, 1.1)\n",
    "\n",
    "    plt.tight_layout()\n",
    "    plt.show()\n"
   ]
  },
  {
   "cell_type": "code",
   "execution_count": 4,
   "id": "3f60bb35-7d45-4229-877c-8eed2b8155c1",
   "metadata": {},
   "outputs": [
    {
     "data": {
      "image/png": "[encoded data removed]",
      "text/plain": [
       "<Figure size 600x900 with 2 Axes>"
      ]
     },
     "metadata": {},
     "output_type": "display_data"
    },
    {
     "name": "stdout",
     "output_type": "stream",
     "text": [
      "0.11157255619764328\n"
     ]
    }
   ],
   "source": [
    "torch.manual_seed(999)\n",
    "####Start code here\n",
    "images, labels = next(iter(trainloader))\n",
    "image =     images[0]               ###sample first image from images\n",
    "image =     image.view(image.shape[0],-1)              ###flatten the image\n",
    "\n",
    "with torch.no_grad():\n",
    "    log_ps = classifier.forward(image)\n",
    "ps = torch.exp(log_ps)\n",
    "top_p, top_class = ps.topk(k=1,dim=1)\n",
    "###End code\n",
    "\n",
    "view_classify(image.view(1,28,28), ps)\n",
    "prob = top_p.item()\n",
    "print(prob)"
   ]
  },
  {
   "cell_type": "code",
   "execution_count": 5,
   "id": "bb004d84-3ee3-4043-9143-0d7189265ffd",
   "metadata": {},
   "outputs": [],
   "source": [
    "####Start code here\n",
    "criterion = nn.NLLLoss()\n",
    "optimizer = optim.Adam(classifier.parameters(),lr=0.003)\n",
    "####End code"
   ]
  },
  {
   "cell_type": "code",
   "execution_count": 6,
   "id": "ea1438de-0d91-4ce8-94b2-555a436aa053",
   "metadata": {},
   "outputs": [
    {
     "data": {
      "text/plain": [
       "torch.Size([10000, 28, 28])"
      ]
     },
     "execution_count": 6,
     "metadata": {},
     "output_type": "execute_result"
    }
   ],
   "source": [
    "testloader.dataset.data.shape"
   ]
  },
  {
   "cell_type": "code",
   "execution_count": 9,
   "id": "f7f7e45d-dcc0-4c89-b620-37277a718dd1",
   "metadata": {},
   "outputs": [
    {
     "name": "stdout",
     "output_type": "stream",
     "text": [
      "Epoch: 1/5..  Training Loss: 0.046..  Test Loss: 0.084..  Test Accuracy: 0.978\n",
      "Epoch: 2/5..  Training Loss: 0.041..  Test Loss: 0.088..  Test Accuracy: 0.978\n",
      "Epoch: 3/5..  Training Loss: 0.036..  Test Loss: 0.084..  Test Accuracy: 0.979\n",
      "Epoch: 4/5..  Training Loss: 0.035..  Test Loss: 0.098..  Test Accuracy: 0.978\n",
      "Epoch: 5/5..  Training Loss: 0.032..  Test Loss: 0.083..  Test Accuracy: 0.981\n",
      "After training\n"
     ]
    },
    {
     "data": {
      "image/png": "[encoded data removed]",
      "text/plain": [
       "<Figure size 600x900 with 2 Axes>"
      ]
     },
     "metadata": {},
     "output_type": "display_data"
    }
   ],
   "source": [
    "torch.manual_seed(999)\n",
    "\n",
    "epochs = 5\n",
    "steps = 0\n",
    "\n",
    "\n",
    "for e in range(epochs):\n",
    "    \n",
    "    ###Initializing loss\n",
    "    running_loss = 0\n",
    "    for images, labels in trainloader:\n",
    "        ###Start code here\n",
    "        images = images.view(images.shape[0], -1) ###flatten the images\n",
    "        optimizer.zero_grad()   \n",
    "        \n",
    "        log_ps =  classifier(images)        ###perform forward pass\n",
    "        loss =    criterion(log_ps,labels)         ### comput loss using the criterion by passing log_ps and labels\n",
    "        #### call .backward() on loss\n",
    "        loss.backward()\n",
    "        #### update parameters using .step() on optimizer\n",
    "        optimizer.step()\n",
    "        \n",
    "        \n",
    "        ###End code\n",
    "        \n",
    "        running_loss += loss.item()\n",
    "        \n",
    "        \n",
    "    else:\n",
    "         # Compute loss on test set for each batch of training\n",
    "        ###Initializing train loss and test loss\n",
    "        test_loss = 0\n",
    "        accuracy = 0\n",
    "        \n",
    "        \n",
    "        with torch.no_grad():\n",
    "            for images, labels in testloader:\n",
    "                ###Start code here\n",
    "                images =         images.view(images.shape[0],-1)                           ### flatten images\n",
    "                log_ps =         classifier(images)                           ###perform forward pass\n",
    "                test_loss +=     criterion(log_ps,labels).item()          ### update the test loss    \n",
    "                             \n",
    "                ps =      torch.exp(log_ps)                                 ### transform log_ps to exponential          \n",
    "                top_p, top_class =  ps.topk(k=1, dim=1)                 ### get the top class for each sample\n",
    "                ####End code\n",
    "                \n",
    "                \n",
    "                equals = top_class == labels.view(*top_class.shape)\n",
    "                accuracy += torch.mean(equals.type(torch.FloatTensor))\n",
    "\n",
    "                # print(top_p.shape)\n",
    "                # prob = top_p.mean().item()\n",
    "                # print(prob)\n",
    "\n",
    "        print(\"Epoch: {}/{}.. \".format(e+1, epochs),\n",
    "              \"Training Loss: {:.3f}.. \".format(running_loss/len(trainloader)),\n",
    "              \"Test Loss: {:.3f}.. \".format(test_loss/len(testloader)),\n",
    "              \"Test Accuracy: {:.3f}\".format(accuracy/len(testloader)))\n",
    "\n",
    "print(\"After training\")\n",
    "view_classify(images[0].view(1,28,28), ps[0])\n",
    "\n",
    "# with open(\"output.txt\", \"w\") as file:\n",
    "#     file.write(\"{:.2f}\".format(float(prob))+\"\\n\")\n",
    "#     file.write((\"{:.2f}\".format(float(running_loss))))\n",
    "\n",
    "with open(\"output.txt\", \"w\") as file:\n",
    "    file.write(\"{:.2f}\".format(prob)+\"\\n\")\n",
    "    file.write((\"{:.2f}\".format(running_loss)))"
   ]
  },
  {
   "cell_type": "code",
   "execution_count": null,
   "id": "68e221cb-7172-4ffe-a8dd-edfd52494740",
   "metadata": {},
   "outputs": [],
   "source": []
  }
 ],
 "metadata": {
  "kernelspec": {
   "display_name": "Python 3 (ipykernel)",
   "language": "python",
   "name": "python3"
  },
  "language_info": {
   "codemirror_mode": {
    "name": "ipython",
    "version": 3
   },
   "file_extension": ".py",
   "mimetype": "text/x-python",
   "name": "python",
   "nbconvert_exporter": "python",
   "pygments_lexer": "ipython3",
   "version": "3.11.13"
  }
 },
 "nbformat": 4,
 "nbformat_minor": 5
}
