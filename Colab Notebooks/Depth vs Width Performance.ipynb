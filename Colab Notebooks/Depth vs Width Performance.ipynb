{
 "cells": [
  {
   "cell_type": "code",
   "execution_count": null,
   "metadata": {
    "id": "Tm-zmht_cH-5"
   },
   "outputs": [],
   "source": [
    "# import libraries\n",
    "import numpy as np\n",
    "\n",
    "import torch\n",
    "import torch.nn as nn\n",
    "import torch.nn.functional as F\n",
    "from torch.utils.data import DataLoader,TensorDataset\n",
    "from sklearn.model_selection import train_test_split\n",
    "\n",
    "import matplotlib.pyplot as plt"
   ]
  },
  {
   "cell_type": "code",
   "execution_count": null,
   "metadata": {
    "id": "jdMgLFeqcWkV"
   },
   "outputs": [],
   "source": [
    "# import dataset (comes with colab!)\n",
    "data = np.loadtxt(open('sample_data/mnist_train_small.csv','rb'),delimiter=',')\n",
    "\n",
    "# extract labels (number IDs) and remove from data\n",
    "labels = data[:,0]\n",
    "data   = data[:,1:]"
   ]
  },
  {
   "cell_type": "code",
   "execution_count": null,
   "metadata": {
    "colab": {
     "base_uri": "https://localhost:8080/",
     "height": 410
    },
    "executionInfo": {
     "elapsed": 1610,
     "status": "ok",
     "timestamp": 1756649359360,
     "user": {
      "displayName": "Anirban Guha",
      "userId": "10209519538744786819"
     },
     "user_tz": -330
    },
    "id": "Rc-0QlyndHE5",
    "outputId": "bce8e8a7-5621-4101-f4a2-e6eaacb2c4b1"
   },
   "outputs": [
    {
     "data": {
      "image/png": "[encoded data removed]",
      "text/plain": [
       "<Figure size 1000x400 with 2 Axes>"
      ]
     },
     "metadata": {},
     "output_type": "display_data"
    }
   ],
   "source": [
    "# normalize the data to a range of [0 1]\n",
    "dataNorm = (data - np.min(data))/(np.max(data)-np.min(data))\n",
    "\n",
    "fig,ax = plt.subplots(1,2,figsize=(10,4))\n",
    "ax[0].hist(data.flatten(),50)\n",
    "ax[0].set_xlabel('Pixel intensity values')\n",
    "ax[0].set_ylabel('Count')\n",
    "ax[0].set_yscale('log')\n",
    "ax[0].set_title('Histogram of original data')\n",
    "\n",
    "ax[1].hist(dataNorm.flatten(),50)\n",
    "ax[1].set_xlabel('Pixel intensity values')\n",
    "ax[1].set_ylabel('Count')\n",
    "ax[1].set_yscale('log')\n",
    "ax[1].set_title('Histogram of normalized data')\n",
    "\n",
    "plt.show()"
   ]
  },
  {
   "cell_type": "code",
   "execution_count": null,
   "metadata": {
    "id": "ZHrSOFHJdYPt"
   },
   "outputs": [],
   "source": [
    "# Step 1: convert to tensor\n",
    "dataT   = torch.tensor( dataNorm ).float()\n",
    "labelsT = torch.tensor( labels ).long() # long = int64\n",
    "\n",
    "# Step 2: use scikitlearn to split the data\n",
    "train_data,test_data, train_labels,test_labels = train_test_split(dataT, labelsT, test_size=.1)\n",
    "\n",
    "\n",
    "# Step 3: convert into PyTorch Datasets\n",
    "train_data = TensorDataset(train_data,train_labels)\n",
    "test_data  = TensorDataset(test_data,test_labels)\n",
    "\n",
    "# Step 4: translate into dataloader objects\n",
    "batchsize    = 32\n",
    "train_loader = DataLoader(train_data,batch_size=batchsize,shuffle=True,drop_last=True)\n",
    "test_loader  = DataLoader(test_data,batch_size=test_data.tensors[0].shape[0])"
   ]
  },
  {
   "cell_type": "markdown",
   "metadata": {
    "id": "Flchcq_yd7Ki"
   },
   "source": [
    "# Create ANN model"
   ]
  },
  {
   "cell_type": "code",
   "execution_count": null,
   "metadata": {
    "id": "loBBA2l9dtDX"
   },
   "outputs": [],
   "source": [
    "## Define Model architecture\n",
    "\n",
    "class ANNmodel(nn.Module):\n",
    "  def __init__(self,nUnits,nLayers,output_size):\n",
    "    super().__init__()\n",
    "\n",
    "    # create dictionary to store the layers\n",
    "    self.layers = nn.ModuleDict()\n",
    "    self.nLayers = nLayers\n",
    "\n",
    "    # input layer\n",
    "    self.layers['input'] = nn.Linear(784,nUnits)\n",
    "\n",
    "    # hidden layers\n",
    "    for i in range(nLayers):\n",
    "      self.layers[f'hidden{i}'] = nn.Linear(nUnits,nUnits)\n",
    "\n",
    "    # output layer\n",
    "    self.layers['output'] = nn.Linear(nUnits,output_size)\n",
    "\n",
    "  def forward(self,x):\n",
    "    # input layer\n",
    "    x = F.relu(self.layers['input'](x))\n",
    "\n",
    "    # hidden layers\n",
    "    for i in range(self.nLayers):\n",
    "      x = F.relu(self.layers[f'hidden{i}'](x))\n",
    "\n",
    "    # output layer\n",
    "    x = self.layers['output'](x)\n",
    "\n",
    "    return x"
   ]
  },
  {
   "cell_type": "code",
   "execution_count": null,
   "metadata": {
    "id": "ruxZWYS0fyE9"
   },
   "outputs": [],
   "source": [
    "## Function to create the model\n",
    "\n",
    "def createANNmodel(nUnits,nLayers,output_size):\n",
    "\n",
    "  model = ANNmodel(nUnits,nLayers,output_size)\n",
    "\n",
    "  # Loss function\n",
    "  lossfun = nn.CrossEntropyLoss()\n",
    "\n",
    "  # Optimizer\n",
    "  optimizer = torch.optim.SGD(model.parameters(),lr=0.01)\n",
    "\n",
    "  return model, lossfun, optimizer"
   ]
  },
  {
   "cell_type": "code",
   "execution_count": null,
   "metadata": {
    "colab": {
     "base_uri": "https://localhost:8080/"
    },
    "executionInfo": {
     "elapsed": 8285,
     "status": "ok",
     "timestamp": 1756650288239,
     "user": {
      "displayName": "Anirban Guha",
      "userId": "10209519538744786819"
     },
     "user_tz": -330
    },
    "id": "il8fVT9egyDP",
    "outputId": "959131fc-afd2-4391-8b32-8e95a6819300"
   },
   "outputs": [
    {
     "name": "stdout",
     "output_type": "stream",
     "text": [
      " \n",
      "Loss:\n",
      "tensor(2.2947, grad_fn=<NllLossBackward0>)\n"
     ]
    }
   ],
   "source": [
    "# test the model with one batch\n",
    "model,lossfun,optimizer = createANNmodel(5,2,10)\n",
    "\n",
    "X,y = next(iter(train_loader))\n",
    "yHat = model(X)\n",
    "\n",
    "# values are log-probability of each number (0-9)\n",
    "# print(torch.exp(yHat))\n",
    "\n",
    "# now let's compute the loss\n",
    "loss = lossfun(yHat,y)\n",
    "print(' ')\n",
    "print('Loss:')\n",
    "print(loss)"
   ]
  },
  {
   "cell_type": "markdown",
   "metadata": {
    "id": "xs8od8BXi38W"
   },
   "source": [
    "# Train the model"
   ]
  },
  {
   "cell_type": "code",
   "execution_count": 32,
   "metadata": {
    "executionInfo": {
     "elapsed": 12,
     "status": "ok",
     "timestamp": 1756653577695,
     "user": {
      "displayName": "Anirban Guha",
      "userId": "10209519538744786819"
     },
     "user_tz": -330
    },
    "id": "xesWLv3ZhG0N"
   },
   "outputs": [],
   "source": [
    "## Function to train the model\n",
    "\n",
    "def trainANNmodel(nEpochs=50,nUnits=5,nLayers=2,output_size=10):\n",
    "\n",
    "  # create the model\n",
    "  model,lossfun,optimizer = createANNmodel(nUnits,nLayers,output_size)\n",
    "\n",
    "  # initialize losses and accuracies\n",
    "  losses    = torch.zeros(nEpochs)\n",
    "  trainAcc  = []\n",
    "  testAcc   = []\n",
    "\n",
    "\n",
    "  # loop over epochs\n",
    "  for epochi in range(nEpochs):\n",
    "\n",
    "    model.train()\n",
    "\n",
    "    # loop over training data batches\n",
    "    batchAcc  = []\n",
    "    batchLoss = []\n",
    "\n",
    "    for X,y in train_loader:\n",
    "\n",
    "      # forward pass and loss\n",
    "      yHat = model(X)\n",
    "      loss = lossfun(yHat,y)\n",
    "\n",
    "      # backprop\n",
    "      optimizer.zero_grad()\n",
    "      loss.backward()\n",
    "      optimizer.step()\n",
    "\n",
    "      # loss from this batch\n",
    "      batchLoss.append(loss.item())\n",
    "\n",
    "      # compute accuracy\n",
    "      matches = torch.argmax(yHat,axis=1) == y     # booleans (false/true)\n",
    "      matchesNumeric = matches.float()             # convert to numbers (0/1)\n",
    "      accuracyPct = 100*torch.mean(matchesNumeric) # average and x100\n",
    "      batchAcc.append( accuracyPct )               # add to list of accuracies\n",
    "    # end of batch loop (training completed for all mini-batches)\n",
    "\n",
    "    # now that we've trained through the batches, get their average training accuracy\n",
    "    trainAcc.append( np.mean(batchAcc) )\n",
    "\n",
    "    model.eval()\n",
    "\n",
    "    # test accuracy\n",
    "    with torch.no_grad():\n",
    "      X,y = next(iter(test_loader)) # extract X,y from test dataloader\n",
    "      yHat = model(X)\n",
    "\n",
    "      # compare the following really long line of code to the training accuracy lines\n",
    "      testAcc.append( 100*torch.mean((torch.argmax(yHat,axis=1)==y).float()) )\n",
    "\n",
    "    losses[epochi] = np.mean(batchLoss)\n",
    "\n",
    "  # end epochs\n",
    "\n",
    "  # function output\n",
    "  return trainAcc,testAcc,losses,model"
   ]
  },
  {
   "cell_type": "code",
   "execution_count": 33,
   "metadata": {
    "colab": {
     "base_uri": "https://localhost:8080/"
    },
    "collapsed": true,
    "executionInfo": {
     "elapsed": 63069,
     "status": "ok",
     "timestamp": 1756653644745,
     "user": {
      "displayName": "Anirban Guha",
      "userId": "10209519538744786819"
     },
     "user_tz": -330
    },
    "id": "sNDjflC9hBK7",
    "jupyter": {
     "outputs_hidden": true
    },
    "outputId": "ee96322d-ae32-46f5-cd1b-d6b60f5c0a58"
   },
   "outputs": [
    {
     "data": {
      "text/plain": [
       "([np.float32(11.304493),\n",
       "  np.float32(17.699066),\n",
       "  np.float32(20.940836),\n",
       "  np.float32(30.782919),\n",
       "  np.float32(44.456184),\n",
       "  np.float32(57.189724),\n",
       "  np.float32(63.94017),\n",
       "  np.float32(68.88345),\n",
       "  np.float32(72.84808),\n",
       "  np.float32(76.36788),\n",
       "  np.float32(78.71442),\n",
       "  np.float32(80.415924),\n",
       "  np.float32(81.32785),\n",
       "  np.float32(82.54004),\n",
       "  np.float32(83.00156),\n",
       "  np.float32(83.43527),\n",
       "  np.float32(84.09698),\n",
       "  np.float32(84.26379),\n",
       "  np.float32(84.59742),\n",
       "  np.float32(84.71975),\n",
       "  np.float32(85.22019),\n",
       "  np.float32(85.281364),\n",
       "  np.float32(85.42037),\n",
       "  np.float32(85.52046),\n",
       "  np.float32(85.82073),\n",
       "  np.float32(85.876335),\n",
       "  np.float32(85.87077),\n",
       "  np.float32(86.43238),\n",
       "  np.float32(86.4157),\n",
       "  np.float32(86.771576),\n",
       "  np.float32(86.84942),\n",
       "  np.float32(86.87723),\n",
       "  np.float32(87.288704),\n",
       "  np.float32(87.38879),\n",
       "  np.float32(87.461075),\n",
       "  np.float32(87.50556),\n",
       "  np.float32(87.77246),\n",
       "  np.float32(87.9504),\n",
       "  np.float32(87.83363),\n",
       "  np.float32(87.983765),\n",
       "  np.float32(87.94484),\n",
       "  np.float32(88.10053),\n",
       "  np.float32(88.10053),\n",
       "  np.float32(88.17838),\n",
       "  np.float32(88.356316),\n",
       "  np.float32(88.36188),\n",
       "  np.float32(88.23955),\n",
       "  np.float32(88.334076),\n",
       "  np.float32(88.48421),\n",
       "  np.float32(88.70663)],\n",
       " [tensor(14.6500),\n",
       "  tensor(17.1000),\n",
       "  tensor(24.7500),\n",
       "  tensor(35.9000),\n",
       "  tensor(51.9000),\n",
       "  tensor(59.3500),\n",
       "  tensor(65.1000),\n",
       "  tensor(70.4500),\n",
       "  tensor(75.8000),\n",
       "  tensor(77.1000),\n",
       "  tensor(78.0500),\n",
       "  tensor(79.8000),\n",
       "  tensor(81.3000),\n",
       "  tensor(81.5500),\n",
       "  tensor(82.3000),\n",
       "  tensor(82.2000),\n",
       "  tensor(82.5000),\n",
       "  tensor(83.4000),\n",
       "  tensor(83.3000),\n",
       "  tensor(82.),\n",
       "  tensor(83.6500),\n",
       "  tensor(83.6500),\n",
       "  tensor(83.3000),\n",
       "  tensor(83.6000),\n",
       "  tensor(83.3500),\n",
       "  tensor(83.3500),\n",
       "  tensor(84.5500),\n",
       "  tensor(83.3000),\n",
       "  tensor(83.2000),\n",
       "  tensor(85.6000),\n",
       "  tensor(83.5500),\n",
       "  tensor(84.2500),\n",
       "  tensor(85.1000),\n",
       "  tensor(84.9000),\n",
       "  tensor(84.),\n",
       "  tensor(85.4500),\n",
       "  tensor(84.3000),\n",
       "  tensor(85.),\n",
       "  tensor(84.7500),\n",
       "  tensor(84.8000),\n",
       "  tensor(85.5000),\n",
       "  tensor(85.1500),\n",
       "  tensor(85.3500),\n",
       "  tensor(84.5000),\n",
       "  tensor(85.1500),\n",
       "  tensor(85.6500),\n",
       "  tensor(84.7500),\n",
       "  tensor(85.0500),\n",
       "  tensor(85.4500),\n",
       "  tensor(86.2500)])"
      ]
     },
     "execution_count": 33,
     "metadata": {},
     "output_type": "execute_result"
    }
   ],
   "source": [
    "## Test with a fixed numbers of layers and units per layer\n",
    "\n",
    "trainAcc,testAcc,losses,model = trainANNmodel(nEpochs=50,nUnits=5,nLayers=2,output_size=10)\n",
    "trainAcc, testAcc"
   ]
  },
  {
   "cell_type": "code",
   "execution_count": 35,
   "metadata": {
    "executionInfo": {
     "elapsed": 1359190,
     "status": "ok",
     "timestamp": 1756655215765,
     "user": {
      "displayName": "Anirban Guha",
      "userId": "10209519538744786819"
     },
     "user_tz": -330
    },
    "id": "47Qi-eUUm7OO"
   },
   "outputs": [],
   "source": [
    "## Test the model with variable depth (number of layers) and breadth (number of untis)\n",
    "\n",
    "layers = np.arange(1,4)\n",
    "units = np.arange(50,300,50)\n",
    "nEpoch = 50\n",
    "\n",
    "trainAccs = np.zeros((len(layers),len(units)))\n",
    "testAccs  = np.zeros((len(layers),len(units)))\n",
    "\n",
    "for i,nLayers in enumerate(layers):\n",
    "  for j,nUnits in enumerate(units):\n",
    "    trainAcc,testAcc,losses,model = trainANNmodel(nEpoch, nUnits, nLayers, 10)\n",
    "    trainAccs[i,j] = trainAcc[-1]\n",
    "    testAccs[i,j] = testAcc[-1]"
   ]
  },
  {
   "cell_type": "code",
   "execution_count": 52,
   "metadata": {
    "colab": {
     "base_uri": "https://localhost:8080/",
     "height": 407
    },
    "executionInfo": {
     "elapsed": 456,
     "status": "ok",
     "timestamp": 1756656618997,
     "user": {
      "displayName": "Anirban Guha",
      "userId": "10209519538744786819"
     },
     "user_tz": -330
    },
    "id": "KCv7KkY_rAwz",
    "outputId": "3bb6923d-79a4-4393-9813-9887af373575"
   },
   "outputs": [
    {
     "data": {
      "image/png": "[encoded data removed]",
      "text/plain": [
       "<Figure size 1000x400 with 2 Axes>"
      ]
     },
     "metadata": {},
     "output_type": "display_data"
    }
   ],
   "source": [
    "## Plot the performance\n",
    "import matplotlib.ticker as ticker\n",
    "\n",
    "fig, ax = plt.subplots(1,2,figsize=(10,4))\n",
    "\n",
    "# Plot for train accuracies by number of units per layer\n",
    "for i in range(len(layers)):\n",
    "  ax[0].plot(units,trainAccs[i,:],'o-', markerfacecolor='w',label=f'{layers[i]} layers')\n",
    "  ax[1].plot(units,testAccs[i,:],'o-',markerfacecolor='w',label=f'{layers[i]} layers')\n",
    "\n",
    "for i in range(2):\n",
    "  ax[i].legend()\n",
    "  ax[i].set_xlabel('Number of units per layer')\n",
    "  ax[i].set_ylabel(f'{\"Train\" if i==0 else \"Test\"} accuracy (%)')\n",
    "  ax[i].set_ylim([94,100])\n",
    "  ax[i].yaxis.set_major_formatter(ticker.FormatStrFormatter('%g'))\n",
    "  ax[i].set_title(f'{\"Train\" if i==0 else \"Test\"} Performance by units/ layer')\n",
    "  ax[i].set_xticks(units) # Set x-axis ticks to the values in the 'units' array\n",
    "\n",
    "\n",
    "plt.tight_layout()\n",
    "plt.show();"
   ]
  },
  {
   "cell_type": "code",
   "execution_count": null,
   "metadata": {
    "id": "BscvLelnz_wm"
   },
   "outputs": [],
   "source": []
  }
 ],
 "metadata": {
  "colab": {
   "authorship_tag": "ABX9TyOiUm2nC/AhrajrnvCDKBER",
   "provenance": []
  },
  "kernelspec": {
   "display_name": "Python 3 (ipykernel)",
   "language": "python",
   "name": "python3"
  },
  "language_info": {
   "codemirror_mode": {
    "name": "ipython",
    "version": 3
   },
   "file_extension": ".py",
   "mimetype": "text/x-python",
   "name": "python",
   "nbconvert_exporter": "python",
   "pygments_lexer": "ipython3",
   "version": "3.11.13"
  }
 },
 "nbformat": 4,
 "nbformat_minor": 4
}
