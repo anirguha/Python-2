{
 "cells": [
  {
   "cell_type": "code",
   "execution_count": 8,
   "id": "ae7d58ed-2593-4fa7-943e-2a46c9d84011",
   "metadata": {},
   "outputs": [
    {
     "name": "stdout",
     "output_type": "stream",
     "text": [
      "['dance', 'zebra', 'hi', 'how are you', 'apple', 'bye']\n"
     ]
    }
   ],
   "source": [
    "ex_lst = ['hi', 'how are you', 'bye', 'apple', 'zebra', 'dance']\n",
    "\n",
    "# seconds = []\n",
    "# for word in ex_lst:\n",
    "#     print(word)\n",
    "#     seconds.append(word[1])\n",
    "# print(seconds)\n",
    "\n",
    "def second_lst(lst):\n",
    "    return lst[1]\n",
    "\n",
    "\n",
    "sorted_by_second_let = sorted(ex_lst, key = second_lst)\n",
    "\n",
    "print(sorted_by_second_let)"
   ]
  },
  {
   "cell_type": "code",
   "execution_count": null,
   "id": "4ca7b77e-5fa6-41d7-954f-e6cf91dc93fd",
   "metadata": {},
   "outputs": [],
   "source": []
  }
 ],
 "metadata": {
  "kernelspec": {
   "display_name": "Python 3 (ipykernel)",
   "language": "python",
   "name": "python3"
  },
  "language_info": {
   "codemirror_mode": {
    "name": "ipython",
    "version": 3
   },
   "file_extension": ".py",
   "mimetype": "text/x-python",
   "name": "python",
   "nbconvert_exporter": "python",
   "pygments_lexer": "ipython3",
   "version": "3.12.2"
  }
 },
 "nbformat": 4,
 "nbformat_minor": 5
}
