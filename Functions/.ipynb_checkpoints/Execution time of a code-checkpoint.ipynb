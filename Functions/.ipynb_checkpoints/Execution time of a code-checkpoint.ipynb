{
 "cells": [
  {
   "cell_type": "code",
   "execution_count": 1,
   "id": "961800df-1094-4630-9650-52e77971cecd",
   "metadata": {},
   "outputs": [],
   "source": [
    "#Calculates running time\n",
    "from time import perf_counter\n",
    "def timer():\n",
    "    start_time = perf_counter()\n",
    "    def poll():\n",
    "        return perf_counter() - start_time\n",
    "    return poll"
   ]
  },
  {
   "cell_type": "code",
   "execution_count": 2,
   "id": "d922eb1f-793d-4707-b4b5-38875e9dc05d",
   "metadata": {},
   "outputs": [],
   "source": [
    "t1 = timer()"
   ]
  },
  {
   "cell_type": "code",
   "execution_count": 6,
   "id": "0890bbc8-bd7a-466e-91ac-0fdc3d30ce21",
   "metadata": {},
   "outputs": [
    {
     "data": {
      "text/plain": [
       "15.42091845899995"
      ]
     },
     "execution_count": 6,
     "metadata": {},
     "output_type": "execute_result"
    }
   ],
   "source": [
    "t1()"
   ]
  },
  {
   "cell_type": "code",
   "execution_count": null,
   "id": "f07dc8c3-1f35-4e0e-a18e-85cbeb36e151",
   "metadata": {},
   "outputs": [],
   "source": []
  }
 ],
 "metadata": {
  "kernelspec": {
   "display_name": "Python 3 (ipykernel)",
   "language": "python",
   "name": "python3"
  },
  "language_info": {
   "codemirror_mode": {
    "name": "ipython",
    "version": 3
   },
   "file_extension": ".py",
   "mimetype": "text/x-python",
   "name": "python",
   "nbconvert_exporter": "python",
   "pygments_lexer": "ipython3",
   "version": "3.13.2"
  }
 },
 "nbformat": 4,
 "nbformat_minor": 5
}
