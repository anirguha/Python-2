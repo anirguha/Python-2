{
 "cells": [
  {
   "cell_type": "code",
   "execution_count": 1,
   "id": "a2608959-c014-4e7f-af27-b314ec4e53e9",
   "metadata": {},
   "outputs": [],
   "source": [
    "##Memoization\n",
    "##Calculating a recursive function using cache using:\n",
    "##Method 1 - class\n",
    "##Method 2 - decorator"
   ]
  },
  {
   "cell_type": "code",
   "execution_count": 12,
   "id": "dc2c1987-47cb-41cd-89e4-e7383f6df2fd",
   "metadata": {},
   "outputs": [],
   "source": [
    "#Method 1 - using class\n",
    "class Fibo:\n",
    "    def __init__(self):\n",
    "        self.cache = {1:1, 2:1}\n",
    "\n",
    "    def fib(self,n):\n",
    "        if n not in self.cache:\n",
    "            print(f'Calcualating for {n}')\n",
    "            self.cache[n] = self.fib(n-1) + self.fib(n-2)\n",
    "        return self.cache[n]"
   ]
  },
  {
   "cell_type": "code",
   "execution_count": 13,
   "id": "7f7749f4-6f06-4e32-8b88-d74d0971701b",
   "metadata": {},
   "outputs": [
    {
     "name": "stdout",
     "output_type": "stream",
     "text": [
      "Calcualating for 10\n",
      "Calcualating for 9\n",
      "Calcualating for 8\n",
      "Calcualating for 7\n",
      "Calcualating for 6\n",
      "Calcualating for 5\n",
      "Calcualating for 4\n",
      "Calcualating for 3\n"
     ]
    },
    {
     "data": {
      "text/plain": [
       "55"
      ]
     },
     "execution_count": 13,
     "metadata": {},
     "output_type": "execute_result"
    }
   ],
   "source": [
    "f = Fibo()\n",
    "f.fib(10)"
   ]
  },
  {
   "cell_type": "code",
   "execution_count": 38,
   "id": "fbdcf906-babf-4f06-a577-acc492e39edd",
   "metadata": {},
   "outputs": [],
   "source": [
    "#Method 2 - using decrator\n",
    "def memoize(fib): \n",
    "    fib_cache = dict()\n",
    "    def inner(n):\n",
    "        if n not in fib_cache:\n",
    "            fib_cache[n] = fib(n)\n",
    "        return fib_cache[n] \n",
    "        \n",
    "    return inner\n",
    "        "
   ]
  },
  {
   "cell_type": "code",
   "execution_count": 39,
   "id": "5bf813ea-d9ab-4431-8c7a-e75394df14ef",
   "metadata": {},
   "outputs": [],
   "source": [
    "@memoize\n",
    "def fib(n):\n",
    "    print(f'Calculating fib({n})')\n",
    "    return 1 if n < 3 else fib(n-1) + fib(n-2)"
   ]
  },
  {
   "cell_type": "code",
   "execution_count": 41,
   "id": "48da9c3c-14f2-4b52-9161-14599499d058",
   "metadata": {},
   "outputs": [
    {
     "data": {
      "text/plain": [
       "55"
      ]
     },
     "execution_count": 41,
     "metadata": {},
     "output_type": "execute_result"
    }
   ],
   "source": [
    "fib(10)"
   ]
  },
  {
   "cell_type": "code",
   "execution_count": 43,
   "id": "f86c109a-d83d-4c93-a775-1bba3d472a86",
   "metadata": {},
   "outputs": [],
   "source": [
    "@memoize\n",
    "def fact(n):\n",
    "    print(f'Calulating fact({n})')\n",
    "    return 1 if n<2 else n * fact(n-1)"
   ]
  },
  {
   "cell_type": "code",
   "execution_count": 46,
   "id": "877f0724-e6a1-441d-97e8-9476954537e5",
   "metadata": {},
   "outputs": [
    {
     "name": "stdout",
     "output_type": "stream",
     "text": [
      "Calulating fact(6)\n"
     ]
    },
    {
     "data": {
      "text/plain": [
       "720"
      ]
     },
     "execution_count": 46,
     "metadata": {},
     "output_type": "execute_result"
    }
   ],
   "source": [
    "fact(6)"
   ]
  },
  {
   "cell_type": "code",
   "execution_count": 47,
   "id": "c50a6991-de3e-400d-a5c6-ef27b8920f2e",
   "metadata": {},
   "outputs": [],
   "source": [
    "##Method 3: using Python's built-in lru_cache\n",
    "from functools import lru_cache\n",
    "\n",
    "@lru_cache(maxsize=10)\n",
    "def fib(n):\n",
    "    print(f'Calculationg fib({n})')\n",
    "    return 1 if n < 3 else fib(n-1) + fib(n-2)"
   ]
  },
  {
   "cell_type": "code",
   "execution_count": 50,
   "id": "e543243d-25d4-4abe-b941-3d115193081c",
   "metadata": {},
   "outputs": [
    {
     "data": {
      "text/plain": [
       "55"
      ]
     },
     "execution_count": 50,
     "metadata": {},
     "output_type": "execute_result"
    }
   ],
   "source": [
    "fib(10)"
   ]
  },
  {
   "cell_type": "code",
   "execution_count": 51,
   "id": "91e80d01-27aa-40ba-ade6-0f87cda26024",
   "metadata": {},
   "outputs": [
    {
     "name": "stdout",
     "output_type": "stream",
     "text": [
      "Calculationg fib(11)\n"
     ]
    },
    {
     "data": {
      "text/plain": [
       "89"
      ]
     },
     "execution_count": 51,
     "metadata": {},
     "output_type": "execute_result"
    }
   ],
   "source": [
    "fib(11)"
   ]
  },
  {
   "cell_type": "code",
   "execution_count": 52,
   "id": "8265b40c-22f5-446f-a2c7-067cceade163",
   "metadata": {},
   "outputs": [
    {
     "name": "stdout",
     "output_type": "stream",
     "text": [
      "Calculationg fib(1)\n"
     ]
    },
    {
     "data": {
      "text/plain": [
       "1"
      ]
     },
     "execution_count": 52,
     "metadata": {},
     "output_type": "execute_result"
    }
   ],
   "source": [
    "fib(1)"
   ]
  },
  {
   "cell_type": "code",
   "execution_count": 53,
   "id": "ab54c6fa-bf28-4a8b-a38c-e3c22dd5c615",
   "metadata": {},
   "outputs": [
    {
     "data": {
      "text/plain": [
       "5"
      ]
     },
     "execution_count": 53,
     "metadata": {},
     "output_type": "execute_result"
    }
   ],
   "source": [
    "fib(5)"
   ]
  },
  {
   "cell_type": "code",
   "execution_count": null,
   "id": "b5190875-51b2-42a5-9359-b60524eb04fb",
   "metadata": {},
   "outputs": [],
   "source": []
  }
 ],
 "metadata": {
  "kernelspec": {
   "display_name": "Python 3 (ipykernel)",
   "language": "python",
   "name": "python3"
  },
  "language_info": {
   "codemirror_mode": {
    "name": "ipython",
    "version": 3
   },
   "file_extension": ".py",
   "mimetype": "text/x-python",
   "name": "python",
   "nbconvert_exporter": "python",
   "pygments_lexer": "ipython3",
   "version": "3.13.2"
  }
 },
 "nbformat": 4,
 "nbformat_minor": 5
}
