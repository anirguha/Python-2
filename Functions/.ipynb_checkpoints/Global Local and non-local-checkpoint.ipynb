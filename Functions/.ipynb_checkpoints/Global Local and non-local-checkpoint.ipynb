{
 "cells": [
  {
   "cell_type": "code",
   "execution_count": 3,
   "id": "5e54768a-8ef1-4f9e-bfe4-9bf5dfd1d255",
   "metadata": {},
   "outputs": [],
   "source": [
    "x = 100\n",
    "def outer_func():\n",
    "    # x = 'Monty'\n",
    "    def inner_func1():\n",
    "        \n",
    "        x = 'Python'\n",
    "        def inner_func2():\n",
    "           \n",
    "            x = 'Misc'\n",
    "            print('Called from inner_func2',x)\n",
    "        # inner_func2()\n",
    "        print('Called from inner_func1',x)\n",
    "\n",
    "    inner_func1()\n",
    "    print('Called from outer_func',x)"
   ]
  },
  {
   "cell_type": "code",
   "execution_count": 4,
   "id": "c87f6580-7a03-4ecd-89e3-12e89c46a70b",
   "metadata": {},
   "outputs": [
    {
     "name": "stdout",
     "output_type": "stream",
     "text": [
      "Called from inner_func1 Python\n",
      "Called from outer_func 100\n",
      "called from main 100\n"
     ]
    }
   ],
   "source": [
    "outer_func()\n",
    "print('called from main',x)"
   ]
  },
  {
   "cell_type": "code",
   "execution_count": 15,
   "id": "64f3276c-fbae-4ed7-a223-3e85e7969275",
   "metadata": {},
   "outputs": [],
   "source": [
    "def outer():\n",
    "    x = 'Python'\n",
    "    def inner():\n",
    "        print(f'{x}')\n",
    "    inner()"
   ]
  },
  {
   "cell_type": "code",
   "execution_count": 16,
   "id": "ffb1375f-cae8-46b5-8e82-fd69c5743798",
   "metadata": {},
   "outputs": [
    {
     "name": "stdout",
     "output_type": "stream",
     "text": [
      "Python\n"
     ]
    }
   ],
   "source": [
    "outer()\n"
   ]
  },
  {
   "cell_type": "code",
   "execution_count": null,
   "id": "9f18cc10-a3f4-414d-a909-98e5bb4ba2b0",
   "metadata": {},
   "outputs": [],
   "source": []
  }
 ],
 "metadata": {
  "kernelspec": {
   "display_name": "Python 3 (ipykernel)",
   "language": "python",
   "name": "python3"
  },
  "language_info": {
   "codemirror_mode": {
    "name": "ipython",
    "version": 3
   },
   "file_extension": ".py",
   "mimetype": "text/x-python",
   "name": "python",
   "nbconvert_exporter": "python",
   "pygments_lexer": "ipython3",
   "version": "3.13.2"
  }
 },
 "nbformat": 4,
 "nbformat_minor": 5
}
