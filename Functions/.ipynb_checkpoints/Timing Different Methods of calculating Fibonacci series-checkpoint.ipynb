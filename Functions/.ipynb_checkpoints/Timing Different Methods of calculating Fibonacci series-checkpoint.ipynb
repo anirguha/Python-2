{
 "cells": [
  {
   "cell_type": "code",
   "execution_count": 81,
   "id": "244fb4b9-a3f5-4a60-8fa1-be46e52d5825",
   "metadata": {},
   "outputs": [],
   "source": [
    "#Measuring performance of a deriving Fibonacci uUserWarning\n",
    "##3 different methods\n",
    "##Method 1 - Using Recursion\n",
    "##Method 2 - Using for loop\n",
    "##Method 3 - using reduce funcrtion (from functools module)"
   ]
  },
  {
   "cell_type": "code",
   "execution_count": 82,
   "id": "474c9d71-d27d-4c45-8546-b02d20d3caf5",
   "metadata": {},
   "outputs": [],
   "source": [
    "from time import perf_counter\n",
    "from functools import wraps\n",
    "\n",
    "def timer(fn):\n",
    "\n",
    "    @wraps(fn)\n",
    "    def func(*args, **kwargs):\n",
    "        start = perf_counter()\n",
    "        result = fn(*args, **kwargs)\n",
    "        duration = perf_counter() - start\n",
    "\n",
    "        args_ = [str(a) for a in args]\n",
    "        kwargs_ = ['{0}={1}'.format(k,v) for (k,v) in kwargs.items()]\n",
    "        all_args = args_ + kwargs_\n",
    "        args_str = ','.join(all_args)\n",
    "        \n",
    "        return result, duration, args_str, fn.__name__\n",
    "    return func"
   ]
  },
  {
   "cell_type": "code",
   "execution_count": 83,
   "id": "6ee10902-c80d-4c8d-84b5-a00f63d228ea",
   "metadata": {},
   "outputs": [],
   "source": [
    "#Method 1 - Using Recursion\n",
    "\n",
    "def calc_fibo_recursion(n):\n",
    "    if n<=2:\n",
    "        return 1\n",
    "    else:\n",
    "        return calc_fibo_recursion(n-1) + calc_fibo_recursion(n-2)\n",
    "        \n",
    "@timer\n",
    "def fibo_recursion(n):\n",
    "    return calc_fibo_recursion(n)"
   ]
  },
  {
   "cell_type": "code",
   "execution_count": 84,
   "id": "907218f1-0ea2-42f5-b57b-1f08c3efd8c1",
   "metadata": {},
   "outputs": [],
   "source": [
    "#Method 2 - Using loop\n",
    "\n",
    "@timer\n",
    "def fibo_loop(n):\n",
    "    fibo1, fibo2 = 1,1\n",
    "    for i in range(3,n+1):\n",
    "        fibo1, fibo2 = fibo2, fibo1+fibo2\n",
    "    return fibo2\n",
    "    "
   ]
  },
  {
   "cell_type": "code",
   "execution_count": 85,
   "id": "0d9fd033-b744-42c8-a1f1-00033b2fce09",
   "metadata": {},
   "outputs": [],
   "source": [
    "#Method 3 - Using reduce function (from functools)\n",
    "\n",
    "from functools import reduce\n",
    "@timer\n",
    "def fibo_reduce(n):\n",
    "    initial_tuple = (0,1)\n",
    "    dummy_list = range(n-1)\n",
    "    fibo_n = reduce(lambda prev, n: (prev[1], prev[0]+prev[1]),\n",
    "                    dummy_list,\n",
    "                    initial_tuple\n",
    "                   )\n",
    "    return fibo_n[1]\n",
    "\n"
   ]
  },
  {
   "cell_type": "code",
   "execution_count": 92,
   "id": "c9de6ea4-c1ea-40e6-8a38-f440ddc1d2cf",
   "metadata": {},
   "outputs": [
    {
     "name": "stdout",
     "output_type": "stream",
     "text": [
      "fibo_loop: 43466557686937456435688527675040625802564660517371780402481729089536555417949051890403879840079255169295922593080322634775209689623239873322471161642996440906533187938298969649928516003704476137795166849228875 and it took 0.000099 sec. and arguments passed are 1000\n",
      "fibo_reduce: 43466557686937456435688527675040625802564660517371780402481729089536555417949051890403879840079255169295922593080322634775209689623239873322471161642996440906533187938298969649928516003704476137795166849228875 and it took 0.000378 sec. and arguments passed are 1000\n"
     ]
    }
   ],
   "source": [
    "if __name__=='__main__':\n",
    "    n = 1000\n",
    "     #calling fifibo_recursion\n",
    " #    result, duration, args_str, func = fibo_recursion(n)\n",
    " #    print('{3}: {0} and it took {1:0.6f} sec. and arguments passed\\\n",
    " # are {2}'.format(result,duration, args_str, func))\n",
    "\n",
    "    \n",
    "    #calling fibo_loop\n",
    "    result, duration, args_str, func = fibo_loop(n)\n",
    "    print('{3}: {0} and it took {1:0.6f} sec. and arguments passed\\\n",
    " are {2}'.format(result,duration, args_str, func))\n",
    "\n",
    "    #calling fibo_reduce\n",
    "    result, duration, args_str, func = fibo_reduce(n)\n",
    "    print('{3}: {0} and it took {1:0.6f} sec. and arguments passed\\\n",
    " are {2}'.format(result,duration, args_str, func))\n",
    "\n",
    "    \n"
   ]
  },
  {
   "cell_type": "code",
   "execution_count": null,
   "id": "c9e269ac-b9dd-48c1-8ada-470076533e99",
   "metadata": {},
   "outputs": [],
   "source": []
  }
 ],
 "metadata": {
  "kernelspec": {
   "display_name": "Python 3 (ipykernel)",
   "language": "python",
   "name": "python3"
  },
  "language_info": {
   "codemirror_mode": {
    "name": "ipython",
    "version": 3
   },
   "file_extension": ".py",
   "mimetype": "text/x-python",
   "name": "python",
   "nbconvert_exporter": "python",
   "pygments_lexer": "ipython3",
   "version": "3.13.2"
  }
 },
 "nbformat": 4,
 "nbformat_minor": 5
}
