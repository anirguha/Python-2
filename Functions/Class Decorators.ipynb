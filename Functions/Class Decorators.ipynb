{
 "cells": [
  {
   "cell_type": "code",
   "execution_count": 1,
   "id": "8af500ac-186e-4e4d-a8cf-c519f5b3fc09",
   "metadata": {},
   "outputs": [],
   "source": [
    "#Decorating classes"
   ]
  },
  {
   "cell_type": "code",
   "execution_count": 2,
   "id": "c8f95082-38a2-4b84-88b3-5693486a1da7",
   "metadata": {},
   "outputs": [],
   "source": [
    "from datetime import datetime"
   ]
  },
  {
   "cell_type": "code",
   "execution_count": 22,
   "id": "2c8daccc-970b-4660-aa38-347f21df8dcf",
   "metadata": {},
   "outputs": [],
   "source": [
    "def info(self):\n",
    "    results = []\n",
    "    results.append(f'time: {datetime.now():%I:%M:%S %p}')\n",
    "    results.append(f'Class: {self.__class__.__name__}')\n",
    "    results.append(f'Address: {hex(id(self))}')\n",
    "\n",
    "    for k,v in vars(self).items():\n",
    "        results.append(f'{k}:{v}')\n",
    "    return results"
   ]
  },
  {
   "cell_type": "code",
   "execution_count": 23,
   "id": "9728c9f2-b824-40e5-867d-b56a9994b165",
   "metadata": {},
   "outputs": [],
   "source": [
    "def debug_info(cls):\n",
    "    cls.debug = info\n",
    "\n",
    "    return cls"
   ]
  },
  {
   "cell_type": "code",
   "execution_count": 24,
   "id": "68b3a65a-54a1-4866-90b9-9ff899037ef6",
   "metadata": {},
   "outputs": [],
   "source": [
    "@debug_info\n",
    "class Person:\n",
    "    def __init__(self, name, birth_year):\n",
    "        self.name = name\n",
    "        self.birth_year = birth_year"
   ]
  },
  {
   "cell_type": "code",
   "execution_count": 25,
   "id": "1195fe4e-66c1-493a-92ad-36026cb995e6",
   "metadata": {},
   "outputs": [
    {
     "data": {
      "text/plain": [
       "['time: 08:52:21 PM',\n",
       " 'Class: Person',\n",
       " 'Address: 0x10ea68440',\n",
       " 'name:AG',\n",
       " 'birth_year:1975']"
      ]
     },
     "execution_count": 25,
     "metadata": {},
     "output_type": "execute_result"
    }
   ],
   "source": [
    "p = Person('AG',1975)\n",
    "p.debug()"
   ]
  },
  {
   "cell_type": "code",
   "execution_count": null,
   "id": "52817219-dcce-4f29-aad8-3b580a094310",
   "metadata": {},
   "outputs": [],
   "source": []
  }
 ],
 "metadata": {
  "kernelspec": {
   "display_name": "Python 3 (ipykernel)",
   "language": "python",
   "name": "python3"
  },
  "language_info": {
   "codemirror_mode": {
    "name": "ipython",
    "version": 3
   },
   "file_extension": ".py",
   "mimetype": "text/x-python",
   "name": "python",
   "nbconvert_exporter": "python",
   "pygments_lexer": "ipython3",
   "version": "3.13.3"
  }
 },
 "nbformat": 4,
 "nbformat_minor": 5
}
