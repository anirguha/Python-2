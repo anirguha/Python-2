{
 "cells": [
  {
   "cell_type": "code",
   "execution_count": 1,
   "id": "d3511c98-545b-462d-b209-d66b308ec67e",
   "metadata": {},
   "outputs": [],
   "source": [
    "##This code uses factory functions to pass\n",
    "##parameter to a decoaretd fucntion"
   ]
  },
  {
   "cell_type": "code",
   "execution_count": 70,
   "id": "32f22d29-1480-4fdc-a5c1-d371e8c92bce",
   "metadata": {},
   "outputs": [],
   "source": [
    "def timer(reps): #factory fucntion\n",
    "    def deco(func): #Original decorator function\n",
    "        from time import perf_counter\n",
    "        from functools import wraps\n",
    "        @wraps(func)\n",
    "        def inner(*args, **kwargs): #closure\n",
    "            total_elapsed = 0\n",
    "            for _ in range(reps):\n",
    "                start = perf_counter()\n",
    "                result = func(*args, **kwargs) #Calling the function to be decorated\n",
    "                total_elapsed += perf_counter() - start\n",
    "            avg_elapsed = total_elapsed/reps\n",
    "            return avg_elapsed, result, reps\n",
    "        return inner\n",
    "    return deco"
   ]
  },
  {
   "cell_type": "code",
   "execution_count": 76,
   "id": "20d29242-e99d-44fd-9597-3c2a342e36ef",
   "metadata": {},
   "outputs": [],
   "source": [
    "from functools import reduce\n",
    "@timer(100)\n",
    "def fibo_reduce(n):\n",
    "    initial = (0,1)\n",
    "    dummy_list = range(n-1)\n",
    "    fibo_n = reduce(lambda prev,n: (prev[1],prev[0]+prev[1]),\n",
    "                    dummy_list,\n",
    "                    initial\n",
    "                   )\n",
    "    return fibo_n[1]   "
   ]
  },
  {
   "cell_type": "code",
   "execution_count": 78,
   "id": "8606f0bb-b80f-4bff-a1cc-f5dd8b58618f",
   "metadata": {},
   "outputs": [
    {
     "name": "stdout",
     "output_type": "stream",
     "text": [
      "Result: 354224848179261915075\n",
      "Average Run time: 0.000037 sec with 100 repeats\n"
     ]
    }
   ],
   "source": [
    "avg_elapsed, result, reps = fibo_reduce(100)\n",
    "print(f'Result: {result}\\nAverage Run time: {avg_elapsed:0.6f} sec with\\\n",
    " {reps} repeats')"
   ]
  },
  {
   "cell_type": "code",
   "execution_count": null,
   "id": "e428af35-f43a-43e4-b026-2a860f4185a3",
   "metadata": {},
   "outputs": [],
   "source": []
  }
 ],
 "metadata": {
  "kernelspec": {
   "display_name": "Python 3 (ipykernel)",
   "language": "python",
   "name": "python3"
  },
  "language_info": {
   "codemirror_mode": {
    "name": "ipython",
    "version": 3
   },
   "file_extension": ".py",
   "mimetype": "text/x-python",
   "name": "python",
   "nbconvert_exporter": "python",
   "pygments_lexer": "ipython3",
   "version": "3.13.3"
  }
 },
 "nbformat": 4,
 "nbformat_minor": 5
}
