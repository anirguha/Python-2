{
 "cells": [
  {
   "cell_type": "code",
   "execution_count": 1,
   "id": "6eae2a35-f97a-49a1-970b-4c45506062de",
   "metadata": {},
   "outputs": [],
   "source": [
    "#Calculate the number of times a function is called using closures\n",
    "counters = dict()\n",
    "\n",
    "def counter(fn):\n",
    "    count = 0\n",
    "    def inner(*args):\n",
    "        nonlocal count\n",
    "        count += 1\n",
    "        counters[fn.__name__] = count\n",
    "        return fn(*args)\n",
    "    return inner"
   ]
  },
  {
   "cell_type": "code",
   "execution_count": 2,
   "id": "f19ba060-a4ea-4739-a8b2-b215fcd681a8",
   "metadata": {},
   "outputs": [],
   "source": [
    "def add(x, y):\n",
    "    return x + y"
   ]
  },
  {
   "cell_type": "code",
   "execution_count": 3,
   "id": "f6d4a731-c60e-4ab3-9046-d2889f8a657b",
   "metadata": {},
   "outputs": [],
   "source": [
    "def mult(x, y):\n",
    "    return x * y"
   ]
  },
  {
   "cell_type": "code",
   "execution_count": 4,
   "id": "7a65cd3d-2a83-4524-86d0-375a1ab00d56",
   "metadata": {},
   "outputs": [],
   "source": [
    "def div(x, y):\n",
    "    return x/y"
   ]
  },
  {
   "cell_type": "code",
   "execution_count": 6,
   "id": "839ea5a2-7a90-426a-a784-3b2f6bf2b815",
   "metadata": {},
   "outputs": [],
   "source": [
    "func_add = counter(add)\n",
    "func_mult = counter(mult)\n",
    "func_div = counter(div)"
   ]
  },
  {
   "cell_type": "code",
   "execution_count": 9,
   "id": "6db67935-22a0-49f0-8c8f-879e899e122c",
   "metadata": {},
   "outputs": [
    {
     "data": {
      "text/plain": [
       "2.0"
      ]
     },
     "execution_count": 9,
     "metadata": {},
     "output_type": "execute_result"
    }
   ],
   "source": [
    "func_add(40,50)\n",
    "func_mult(40,80)\n",
    "func_div(80,40)"
   ]
  },
  {
   "cell_type": "code",
   "execution_count": 10,
   "id": "bd861ef5-52df-4972-9580-5446c71e62a7",
   "metadata": {},
   "outputs": [
    {
     "name": "stdout",
     "output_type": "stream",
     "text": [
      "{'add': 2, 'mult': 2, 'div': 2}\n"
     ]
    }
   ],
   "source": [
    "print(counters)"
   ]
  },
  {
   "cell_type": "code",
   "execution_count": null,
   "id": "02c1f2b3-f0f4-4708-8e96-41cdddc6b5db",
   "metadata": {},
   "outputs": [],
   "source": []
  }
 ],
 "metadata": {
  "kernelspec": {
   "display_name": "Python 3 (ipykernel)",
   "language": "python",
   "name": "python3"
  },
  "language_info": {
   "codemirror_mode": {
    "name": "ipython",
    "version": 3
   },
   "file_extension": ".py",
   "mimetype": "text/x-python",
   "name": "python",
   "nbconvert_exporter": "python",
   "pygments_lexer": "ipython3",
   "version": "3.13.3"
  }
 },
 "nbformat": 4,
 "nbformat_minor": 5
}
