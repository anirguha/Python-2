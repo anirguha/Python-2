{
 "cells": [
  {
   "cell_type": "code",
   "execution_count": 45,
   "id": "00177095-9d7b-4e97-89dc-28678d7ac0f8",
   "metadata": {},
   "outputs": [],
   "source": [
    "def func(*args, **kwargs):\n",
    "    kwargs_dict = (v for v in kwargs.values() if isinstance(v,dict))\n",
    "    print(next(kwargs_dict))\n",
    "    print(next(kwargs_dict))\n",
    "    return kwargs_dict"
   ]
  },
  {
   "cell_type": "code",
   "execution_count": 46,
   "id": "5a5a6f1f-0d47-4886-9065-ea0ee89e12f9",
   "metadata": {},
   "outputs": [
    {
     "name": "stdout",
     "output_type": "stream",
     "text": [
      "{1: 1, 2: 1}\n",
      "{1: 3, 2: 4}\n"
     ]
    },
    {
     "data": {
      "text/plain": [
       "<generator object func.<locals>.<genexpr> at 0x1136afd80>"
      ]
     },
     "execution_count": 46,
     "metadata": {},
     "output_type": "execute_result"
    }
   ],
   "source": [
    "func(10,c={1:1,2:1},d={1:3,2:4})"
   ]
  },
  {
   "cell_type": "code",
   "execution_count": null,
   "id": "c55cf6d4-8c9e-4ff2-aac7-8fb13b068709",
   "metadata": {},
   "outputs": [],
   "source": []
  }
 ],
 "metadata": {
  "kernelspec": {
   "display_name": "Python 3 (ipykernel)",
   "language": "python",
   "name": "python3"
  },
  "language_info": {
   "codemirror_mode": {
    "name": "ipython",
    "version": 3
   },
   "file_extension": ".py",
   "mimetype": "text/x-python",
   "name": "python",
   "nbconvert_exporter": "python",
   "pygments_lexer": "ipython3",
   "version": "3.13.3"
  }
 },
 "nbformat": 4,
 "nbformat_minor": 5
}
