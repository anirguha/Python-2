{
 "cells": [
  {
   "cell_type": "code",
   "execution_count": 1,
   "id": "145d0f60-6423-4edb-94cd-18c75d14a064",
   "metadata": {},
   "outputs": [],
   "source": [
    "##Factorial function using stacked decorators\n",
    "## 1- Logging decorator\n",
    "## 2- timing decoraot\n",
    "\n"
   ]
  },
  {
   "cell_type": "code",
   "execution_count": 33,
   "id": "5903911e-34e3-41b8-ac7a-8f27abb3d748",
   "metadata": {},
   "outputs": [],
   "source": [
    "from time import perf_counter\n",
    "from functools import wraps\n",
    "\n",
    "def timer(fn):\n",
    "\n",
    "    @wraps(fn)\n",
    "    def func(*args, **kwargs):\n",
    "        start = perf_counter()\n",
    "        result = fn(*args, **kwargs)\n",
    "        duration = perf_counter() - start\n",
    "        print(f'Running time:{duration:0.6f} sec.')\n",
    "    return func"
   ]
  },
  {
   "cell_type": "code",
   "execution_count": 44,
   "id": "4fd78259-70e3-456a-a704-92d1c9914a1a",
   "metadata": {},
   "outputs": [],
   "source": [
    "def log(fn):\n",
    "    from datetime import datetime\n",
    "    @wraps(fn)\n",
    "    def func(*args, **kwargs):\n",
    "        result = fn(*args, **kwargs)\n",
    "        print('Function {0} is called at {1:%I:%M:%S %p}'.format(fn.__name__,datetime.now()))\n",
    "        return result\n",
    "    return func"
   ]
  },
  {
   "cell_type": "code",
   "execution_count": 45,
   "id": "2d1d05b6-e715-44cd-9ee0-f9bc690c1e80",
   "metadata": {},
   "outputs": [],
   "source": [
    "@log\n",
    "@timer\n",
    "def factorial(n):\n",
    "    from functools import reduce\n",
    "    from operator import mul\n",
    "    print('Result: ', reduce(mul,range(1,n+1)))\n",
    "    "
   ]
  },
  {
   "cell_type": "code",
   "execution_count": 46,
   "id": "9ce1585e-f00f-4a57-956e-423cdd0ccb57",
   "metadata": {},
   "outputs": [
    {
     "name": "stdout",
     "output_type": "stream",
     "text": [
      "Result:  120\n",
      "Running time:0.000149 sec.\n",
      "Function factorial is called at 11:56:29 AM\n"
     ]
    }
   ],
   "source": [
    "factorial(5)"
   ]
  },
  {
   "cell_type": "code",
   "execution_count": null,
   "id": "5c46204c-86dc-4043-b854-87f577d719be",
   "metadata": {},
   "outputs": [],
   "source": []
  }
 ],
 "metadata": {
  "kernelspec": {
   "display_name": "Python 3 (ipykernel)",
   "language": "python",
   "name": "python3"
  },
  "language_info": {
   "codemirror_mode": {
    "name": "ipython",
    "version": 3
   },
   "file_extension": ".py",
   "mimetype": "text/x-python",
   "name": "python",
   "nbconvert_exporter": "python",
   "pygments_lexer": "ipython3",
   "version": "3.13.2"
  }
 },
 "nbformat": 4,
 "nbformat_minor": 5
}
