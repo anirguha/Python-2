{
 "cells": [
  {
   "cell_type": "code",
   "execution_count": 58,
   "id": "e87a13f2-87e5-48fa-8eac-6fea34d008c9",
   "metadata": {},
   "outputs": [],
   "source": [
    "#Calculate running average from a list of numebrs using closures\n",
    "\n",
    "def average():\n",
    "    count = 0\n",
    "    total = 0\n",
    "    \n",
    "    def calculate_avg(num):\n",
    "        nonlocal count\n",
    "        nonlocal total\n",
    "        print('Nested Function')\n",
    "        count += 1\n",
    "        total += num\n",
    "        return total/count\n",
    "    return calculate_avg"
   ]
  },
  {
   "cell_type": "code",
   "execution_count": 61,
   "id": "0e99fc45-aacc-42c4-9d26-7200f81b82a7",
   "metadata": {},
   "outputs": [],
   "source": [
    "avg = average()"
   ]
  },
  {
   "cell_type": "code",
   "execution_count": 62,
   "id": "2e37c564-cd80-45ef-a0b7-780ef059a714",
   "metadata": {},
   "outputs": [
    {
     "name": "stdout",
     "output_type": "stream",
     "text": [
      "Nested Function\n"
     ]
    },
    {
     "data": {
      "text/plain": [
       "10.0"
      ]
     },
     "execution_count": 62,
     "metadata": {},
     "output_type": "execute_result"
    }
   ],
   "source": [
    "avg(10)"
   ]
  },
  {
   "cell_type": "code",
   "execution_count": 64,
   "id": "d78d98b8-6bfe-4c29-96f7-5b5d9b1aac6f",
   "metadata": {},
   "outputs": [
    {
     "name": "stdout",
     "output_type": "stream",
     "text": [
      "Nested Function\n"
     ]
    },
    {
     "data": {
      "text/plain": [
       "20.0"
      ]
     },
     "execution_count": 64,
     "metadata": {},
     "output_type": "execute_result"
    }
   ],
   "source": [
    "avg(30)"
   ]
  },
  {
   "cell_type": "code",
   "execution_count": 43,
   "id": "f094f820-74a1-4806-b17f-e4d6e169202c",
   "metadata": {},
   "outputs": [],
   "source": [
    "#Alternate method\n",
    "def average():\n",
    "    numbers = []\n",
    "    def calculate_average(num):\n",
    "        numbers.append(num)\n",
    "        return sum(numbers)/len(numbers)\n",
    "    return calculate_average"
   ]
  },
  {
   "cell_type": "code",
   "execution_count": 44,
   "id": "fcc91123-4e85-496c-aff8-295a55fd9667",
   "metadata": {},
   "outputs": [
    {
     "data": {
      "text/plain": [
       "2.0"
      ]
     },
     "execution_count": 44,
     "metadata": {},
     "output_type": "execute_result"
    }
   ],
   "source": [
    "avg = average()\n",
    "avg(2)"
   ]
  },
  {
   "cell_type": "code",
   "execution_count": 55,
   "id": "1ac52d7b-7fc7-4d30-b592-c6cdbfcce728",
   "metadata": {},
   "outputs": [
    {
     "data": {
      "text/plain": [
       "3.0"
      ]
     },
     "execution_count": 55,
     "metadata": {},
     "output_type": "execute_result"
    }
   ],
   "source": [
    "avg(4)"
   ]
  },
  {
   "cell_type": "code",
   "execution_count": 56,
   "id": "16c1a6d9-4b4c-4b32-9351-c8c376e3a36c",
   "metadata": {},
   "outputs": [
    {
     "name": "stdout",
     "output_type": "stream",
     "text": [
      "[2, 3, 4]\n"
     ]
    }
   ],
   "source": [
    "print(avg.__closure__[0].cell_contents)"
   ]
  },
  {
   "cell_type": "code",
   "execution_count": null,
   "id": "6978b74b-31f5-4721-ba39-ffdb43b478bc",
   "metadata": {},
   "outputs": [],
   "source": []
  }
 ],
 "metadata": {
  "kernelspec": {
   "display_name": "Python 3 (ipykernel)",
   "language": "python",
   "name": "python3"
  },
  "language_info": {
   "codemirror_mode": {
    "name": "ipython",
    "version": 3
   },
   "file_extension": ".py",
   "mimetype": "text/x-python",
   "name": "python",
   "nbconvert_exporter": "python",
   "pygments_lexer": "ipython3",
   "version": "3.13.3"
  }
 },
 "nbformat": 4,
 "nbformat_minor": 5
}
