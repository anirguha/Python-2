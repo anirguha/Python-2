{
 "cells": [
  {
   "cell_type": "code",
   "execution_count": 40,
   "id": "8f67dba6-1b1b-4389-8d52-98559f8f45ce",
   "metadata": {},
   "outputs": [],
   "source": [
    "#Using decrators\n",
    "from functools import wraps\n",
    "import inspect\n",
    "\n",
    "def counter(fn):\n",
    "    count = 0\n",
    "\n",
    "    @wraps(fn)\n",
    "    def inner(*args,**kwargs):\n",
    "        nonlocal count\n",
    "        count += 1\n",
    "        print('Function {0} called {1} times'.format(fn.__name__, count))\n",
    "        return fn(*args,**kwargs)\n",
    "    return inner"
   ]
  },
  {
   "cell_type": "code",
   "execution_count": 41,
   "id": "873c4b70-db66-4ea1-aa08-aaf24b066212",
   "metadata": {},
   "outputs": [],
   "source": [
    "@counter\n",
    "def add(a,b):\n",
    "    return a+b\n",
    "\n",
    "@counter\n",
    "def mult(a: int,b: int,c: int=1,*,d: int)->int:\n",
    "    return a*b*c*d\n",
    "\n",
    "@counter\n",
    "def absolute(a):\n",
    "    return abs(a)\n",
    "\n"
   ]
  },
  {
   "cell_type": "code",
   "execution_count": 42,
   "id": "29dc753c-7c29-45f9-a3e7-3d223241f613",
   "metadata": {},
   "outputs": [
    {
     "name": "stdout",
     "output_type": "stream",
     "text": [
      "Function add called 1 times\n",
      "add result=5\n",
      "Function mult called 1 times\n",
      "mult result=300\n",
      "Function absolute called 1 times\n",
      "abs result=3\n",
      "(a: int, b: int, c: int = 1, *, d: int) -> int\n"
     ]
    }
   ],
   "source": [
    "if __name__=='__main__':\n",
    "    print('add result={0}'.format(add(2,3)))\n",
    "    print('mult result={0}'.format(mult(2,3,5,d=10)))\n",
    "    print('abs result={0}'.format(absolute(-3)))\n",
    "    print(inspect.signature(mult))"
   ]
  },
  {
   "cell_type": "code",
   "execution_count": null,
   "id": "848fa6cc-85a3-41b8-b257-f01dd7622cb4",
   "metadata": {},
   "outputs": [],
   "source": []
  }
 ],
 "metadata": {
  "kernelspec": {
   "display_name": "Python 3 (ipykernel)",
   "language": "python",
   "name": "python3"
  },
  "language_info": {
   "codemirror_mode": {
    "name": "ipython",
    "version": 3
   },
   "file_extension": ".py",
   "mimetype": "text/x-python",
   "name": "python",
   "nbconvert_exporter": "python",
   "pygments_lexer": "ipython3",
   "version": "3.13.3"
  }
 },
 "nbformat": 4,
 "nbformat_minor": 5
}
