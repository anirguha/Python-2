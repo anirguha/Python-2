{
 "cells": [
  {
   "cell_type": "code",
   "execution_count": null,
   "id": "d11e4701-fb82-471b-9fed-49e8908eb21f",
   "metadata": {},
   "outputs": [],
   "source": [
    "##define a function called strip_punctuation which takes one parameter, a string which represents a word, and removes characters \n",
    "##considered punctuation from everywhere in the word. \n",
    "##(Hint: remember the .replace() method for strings.)"
   ]
  },
  {
   "cell_type": "code",
   "execution_count": 37,
   "id": "c461d514-4723-4dc6-80e1-a5328fe2f42c",
   "metadata": {},
   "outputs": [
    {
     "name": "stdout",
     "output_type": "stream",
     "text": [
      "Amazing\n",
      "Hello World\n",
      "anirguhahotmailcom\n",
      "What a beautiful day said Tom Hanks\n"
     ]
    }
   ],
   "source": [
    "punctuation_chars = [\"'\", '\"', \",\", \".\", \"!\", \":\", \";\", '#', '@']\n",
    "\n",
    "def strip_punctuation(word: str) -> str:\n",
    "    for p in punctuation_chars:\n",
    "        word = word.replace(p,\"\")\n",
    "     \n",
    "    return word\n",
    "     \n",
    "    \n",
    "print(strip_punctuation(\"#Amazing\"))    \n",
    "print(strip_punctuation(\"Hello World!!\"))\n",
    "print(strip_punctuation(\"anirguha@hotmail.com\"))\n",
    "print(strip_punctuation(\"What a beautiful day, said Tom Hanks:,#\"))"
   ]
  },
  {
   "cell_type": "code",
   "execution_count": 44,
   "id": "6fab6f68-fda5-4f5c-956a-da9238cd0904",
   "metadata": {},
   "outputs": [
    {
     "name": "stdout",
     "output_type": "stream",
     "text": [
      "2\n"
     ]
    }
   ],
   "source": [
    "#list positive words to be used from positive_word.text\n",
    "positive_words = []\n",
    "with open(\"assets/positive_words.txt\",\"r\") as pos_f:\n",
    "     for lin in pos_f:\n",
    "        if lin[0] != ';' and lin[0] != '\\n':\n",
    "            positive_words.append(lin.strip())\n",
    "\n",
    "# print(positive_words)\n",
    "\n",
    "#count the number of positive words in a string comprised of several sentences\n",
    "def get_pos(sentence: str)->int:\n",
    "    sentence_without_punct = strip_punctuation(sentence) #Call strip_puctuation function to strip the punctations \n",
    "    word_lst = sentence_without_punct.lower().split()\n",
    "    pos_cnt = 0\n",
    "    \n",
    "    for word in word_lst:\n",
    "        if word in positive_words:\n",
    "            pos_cnt += 1\n",
    "\n",
    "    return pos_cnt\n",
    "\n",
    "print(get_pos('I Abounds, acclaim, mention!,boy'))\n",
    "        \n",
    "    "
   ]
  },
  {
   "cell_type": "code",
   "execution_count": 45,
   "id": "2123b191-639a-4704-a699-8688481b946c",
   "metadata": {},
   "outputs": [],
   "source": [
    "# list of negative words to use\n",
    "negative_words = []\n",
    "with open(\"assets/negative_words.txt\") as pos_f:\n",
    "    for lin in pos_f:\n",
    "        if lin[0] != ';' and lin[0] != '\\n':\n",
    "            negative_words.append(lin.strip())\n",
    "\n",
    "# YOUR CODE HERE\n",
    "def get_neg(sentence: str)->int:\n",
    "    sentence_without_punct = strip_punctuation(sentence) #Call strip_puctuation function to strip the punctations \n",
    "    word_lst = sentence_without_punct.lower().split()\n",
    "    neg_cnt = 0\n",
    "    \n",
    "    for word in word_lst:\n",
    "        if word in negative_words:\n",
    "            neg_cnt += 1\n",
    "\n",
    "    return neg_cnt"
   ]
  },
  {
   "cell_type": "code",
   "execution_count": 73,
   "id": "18b90fed-1a15-45b2-9a71-e3463b4af6bf",
   "metadata": {},
   "outputs": [],
   "source": [
    "import csv\n",
    "\n",
    "input_file_path = \"assets/project_twitter_data.csv\"\n",
    "outfile_file_path = \"assets/resulting_data.csv\"\n",
    "\n",
    "with open(input_file_path, mode = 'r') as infile, open(outfile_file_path, mode = 'w' ) as outfile:\n",
    "    reader = csv.reader(infile)\n",
    "    writer = csv.writer(outfile)\n",
    "\n",
    "    header = [\"Tweet Text\",\"No. of retweets\",\"No of replies\", \"Positive Score\", \"Negative Score\", \"Net Score\"]\n",
    "    writer.writerow(header)\n",
    "    first_line = True\n",
    "    \n",
    "    for row in reader:\n",
    "        if first_line:\n",
    "            first_line = False\n",
    "            continue          ##skip the first line as it contains headers\n",
    "        else:\n",
    "            row_out = row\n",
    "            pos_score = get_pos(row[0])\n",
    "            neg_score = get_neg(row[0])\n",
    "            net_score = pos_score - neg_score\n",
    "            row_out.append(pos_score)\n",
    "            row_out.append(neg_score)\n",
    "            row_out.append(net_score)\n",
    "            writer.writerow(row_out)\n",
    "        \n",
    "        "
   ]
  },
  {
   "cell_type": "code",
   "execution_count": null,
   "id": "c8f098f7-6205-4803-a1de-9065ad2c33de",
   "metadata": {},
   "outputs": [],
   "source": []
  }
 ],
 "metadata": {
  "kernelspec": {
   "display_name": "Python 3 (ipykernel)",
   "language": "python",
   "name": "python3"
  },
  "language_info": {
   "codemirror_mode": {
    "name": "ipython",
    "version": 3
   },
   "file_extension": ".py",
   "mimetype": "text/x-python",
   "name": "python",
   "nbconvert_exporter": "python",
   "pygments_lexer": "ipython3",
   "version": "3.13.3"
  }
 },
 "nbformat": 4,
 "nbformat_minor": 5
}
