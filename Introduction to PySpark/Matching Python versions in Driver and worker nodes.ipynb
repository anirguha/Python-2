{
 "cells": [
  {
   "cell_type": "markdown",
   "id": "3d1c9a68-0f2d-4dee-b5c1-0aee9fc19af4",
   "metadata": {},
   "source": [
    "### This code helps to point to the correct Spark Home"
   ]
  },
  {
   "cell_type": "code",
   "execution_count": 8,
   "id": "c8186e5e-08b7-418b-83ed-5ae5d386411b",
   "metadata": {},
   "outputs": [],
   "source": [
    "import findspark\n",
    "findspark.init('/opt/anaconda3/envs/pyspark_env/lib/python3.10/site-packages/pyspark')  # Replace if needed\n"
   ]
  },
  {
   "cell_type": "code",
   "execution_count": 9,
   "id": "df0e6596-1406-439f-957e-c3133459e17c",
   "metadata": {},
   "outputs": [],
   "source": [
    "from pyspark.sql import SparkSession\n",
    "\n",
    "spark = SparkSession.builder.appName(\"MyApp\").getOrCreate()\n"
   ]
  },
  {
   "cell_type": "code",
   "execution_count": 10,
   "id": "70293363-45f5-4bc3-9e5c-922f2f41ae30",
   "metadata": {},
   "outputs": [
    {
     "name": "stdout",
     "output_type": "stream",
     "text": [
      "Driver: 3.10.18 (main, Jun  5 2025, 08:13:51) [Clang 14.0.6 ]\n",
      "Worker: 3.10.18 (main, Jun  5 2025, 08:13:51) [Clang 14.0.6 ]\n"
     ]
    }
   ],
   "source": [
    "import sys\n",
    "print(\"Driver:\", sys.version)\n",
    "print(\"Worker:\", spark.sparkContext.parallelize([0]).map(lambda x: __import__('sys').version).collect()[0])\n"
   ]
  },
  {
   "cell_type": "code",
   "execution_count": null,
   "id": "0fcb8bef-2adc-4e09-9c18-511c6a6ad30b",
   "metadata": {},
   "outputs": [],
   "source": []
  }
 ],
 "metadata": {
  "kernelspec": {
   "display_name": "Python (pyspark_env)",
   "language": "python",
   "name": "pyspark_env"
  },
  "language_info": {
   "codemirror_mode": {
    "name": "ipython",
    "version": 3
   },
   "file_extension": ".py",
   "mimetype": "text/x-python",
   "name": "python",
   "nbconvert_exporter": "python",
   "pygments_lexer": "ipython3",
   "version": "3.10.18"
  },
  "widgets": {
   "application/vnd.jupyter.widget-state+json": {
    "state": {},
    "version_major": 2,
    "version_minor": 0
   }
  }
 },
 "nbformat": 4,
 "nbformat_minor": 5
}
