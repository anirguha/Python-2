{
 "cells": [
  {
   "cell_type": "code",
   "execution_count": 2,
   "id": "c851262a-2dcb-493d-925d-321c8a87b6ad",
   "metadata": {},
   "outputs": [],
   "source": [
    "import findspark\n",
    "findspark.init('/opt/anaconda3/envs/pyspark_env/lib/python3.10/site-packages/pyspark')  # Replace if needed\n"
   ]
  },
  {
   "cell_type": "code",
   "execution_count": 3,
   "id": "7ab4d6dd-7f02-4144-8866-02fd4dd11a2c",
   "metadata": {},
   "outputs": [],
   "source": [
    "from pyspark.sql import SparkSession;"
   ]
  },
  {
   "cell_type": "code",
   "execution_count": 4,
   "id": "936cd581-f5b9-48c6-ab50-1b8705e1a9b5",
   "metadata": {},
   "outputs": [
    {
     "name": "stderr",
     "output_type": "stream",
     "text": [
      "25/07/03 13:36:45 WARN Utils: Your hostname, Anirbans-iMac.local resolves to a loopback address: 127.0.0.1; using 192.168.0.132 instead (on interface en0)\n",
      "25/07/03 13:36:45 WARN Utils: Set SPARK_LOCAL_IP if you need to bind to another address\n",
      "Setting default log level to \"WARN\".\n",
      "To adjust logging level use sc.setLogLevel(newLevel). For SparkR, use setLogLevel(newLevel).\n",
      "25/07/03 13:36:46 WARN NativeCodeLoader: Unable to load native-hadoop library for your platform... using builtin-java classes where applicable\n"
     ]
    }
   ],
   "source": [
    "#Initiaize Spark session\n",
    "spark = SparkSession.builder.appName(\"Using SQL with Spark\").getOrCreate()"
   ]
  },
  {
   "cell_type": "code",
   "execution_count": 5,
   "id": "107dd501-4fe7-4004-8dfe-3a86606cea50",
   "metadata": {},
   "outputs": [
    {
     "name": "stdout",
     "output_type": "stream",
     "text": [
      "Driver: 3.10.18 (main, Jun  5 2025, 08:13:51) [Clang 14.0.6 ]\n"
     ]
    },
    {
     "name": "stderr",
     "output_type": "stream",
     "text": [
      "[Stage 0:>                                                        (0 + 20) / 20]\r"
     ]
    },
    {
     "name": "stdout",
     "output_type": "stream",
     "text": [
      "Worker: 3.10.18 (main, Jun  5 2025, 08:13:51) [Clang 14.0.6 ]\n"
     ]
    },
    {
     "name": "stderr",
     "output_type": "stream",
     "text": [
      "                                                                                \r"
     ]
    }
   ],
   "source": [
    "import sys\n",
    "print(\"Driver:\", sys.version)\n",
    "print(\"Worker:\", spark.sparkContext.parallelize([0]).map(lambda x: __import__('sys').version).collect()[0])\n"
   ]
  },
  {
   "cell_type": "code",
   "execution_count": 6,
   "id": "472a1c65-680f-4858-8cbe-3e507b0d1837",
   "metadata": {},
   "outputs": [],
   "source": [
    "data = [(\"Alice\",\"HR\",23),(\"Jim\",\"IT\",28),(\"Mihir\",\"Finance\",38)]\n",
    "columns = [\"Name\", \"Department\", \"Age\"]\n",
    "\n",
    "df = spark.createDataFrame(data=data, schema=columns)"
   ]
  },
  {
   "cell_type": "code",
   "execution_count": 7,
   "id": "ce3e60d2-737a-49dc-8994-c653485b8e27",
   "metadata": {},
   "outputs": [
    {
     "name": "stdout",
     "output_type": "stream",
     "text": [
      "+-----+----------+---+\n",
      "| Name|Department|Age|\n",
      "+-----+----------+---+\n",
      "|Alice|        HR| 23|\n",
      "|  Jim|        IT| 28|\n",
      "|Mihir|   Finance| 38|\n",
      "+-----+----------+---+\n",
      "\n"
     ]
    }
   ],
   "source": [
    "df.show()"
   ]
  },
  {
   "cell_type": "code",
   "execution_count": 8,
   "id": "6805dd67-0492-48ec-9dc5-ef3f8c8e9148",
   "metadata": {},
   "outputs": [],
   "source": [
    "df.createOrReplaceTempView(\"Employees\")"
   ]
  },
  {
   "cell_type": "code",
   "execution_count": 9,
   "id": "36a6fa2b-4766-4efa-b643-5471e351e3a6",
   "metadata": {},
   "outputs": [],
   "source": [
    "result = spark.sql('''\n",
    "                        SELECT * FROM Employees WHERE Age > 30\n",
    "                       ''')"
   ]
  },
  {
   "cell_type": "code",
   "execution_count": 10,
   "id": "8e56f717-fd09-4a81-8168-4ebe1b3d6b35",
   "metadata": {},
   "outputs": [
    {
     "name": "stdout",
     "output_type": "stream",
     "text": [
      "+-----+----------+---+\n",
      "| Name|Department|Age|\n",
      "+-----+----------+---+\n",
      "|Mihir|   Finance| 38|\n",
      "+-----+----------+---+\n",
      "\n"
     ]
    }
   ],
   "source": [
    "result.show()"
   ]
  },
  {
   "cell_type": "code",
   "execution_count": 11,
   "id": "b3b20d8f-a998-4b79-b084-64dcf1b00708",
   "metadata": {},
   "outputs": [],
   "source": [
    "df = spark.read.csv(\"salaries.csv\",header=True,inferSchema=True)"
   ]
  },
  {
   "cell_type": "code",
   "execution_count": 12,
   "id": "6d36f7b7-6e99-473d-9082-b12cdeae0f45",
   "metadata": {},
   "outputs": [
    {
     "name": "stdout",
     "output_type": "stream",
     "text": [
      "+---------+----------------+---------------+--------------------+------+---------------+-------------+------------------+------------+----------------+------------+\n",
      "|work_year|experience_level|employment_type|           job_title|salary|salary_currency|salary_in_usd|employee_residence|remote_ratio|company_location|company_size|\n",
      "+---------+----------------+---------------+--------------------+------+---------------+-------------+------------------+------------+----------------+------------+\n",
      "|     2020|              EN|             FT| Azure Data Engineer|100000|            USD|       100000|                MU|           0|              MU|           S|\n",
      "|     2020|              EN|             CT|  Staff Data Analyst| 60000|            CAD|        44753|                CA|          50|              CA|           L|\n",
      "|     2020|              SE|             FT|Staff Data Scientist|164000|            USD|       164000|                US|          50|              US|           M|\n",
      "|     2020|              EN|             FT|        Data Analyst| 42000|            EUR|        47899|                DE|           0|              DE|           L|\n",
      "|     2020|              EX|             FT|      Data Scientist|300000|            USD|       300000|                US|         100|              US|           L|\n",
      "+---------+----------------+---------------+--------------------+------+---------------+-------------+------------------+------------+----------------+------------+\n",
      "only showing top 5 rows\n",
      "\n"
     ]
    }
   ],
   "source": [
    "df.show(5)"
   ]
  },
  {
   "cell_type": "code",
   "execution_count": 13,
   "id": "d5f7538b-d2a0-4cad-8a24-0a330c83a9f6",
   "metadata": {},
   "outputs": [
    {
     "name": "stdout",
     "output_type": "stream",
     "text": [
      "+---------+------------------+\n",
      "|work_year|       avg(salary)|\n",
      "+---------+------------------+\n",
      "|     2023|159284.64961276695|\n",
      "|     2022|167507.70024125453|\n",
      "|     2020| 356637.4533333333|\n",
      "|     2024| 165331.3257725795|\n",
      "|     2021| 559350.9908256881|\n",
      "+---------+------------------+\n",
      "\n"
     ]
    }
   ],
   "source": [
    "df.groupBy('work_year').avg('salary').show()"
   ]
  },
  {
   "cell_type": "code",
   "execution_count": 14,
   "id": "2b1202f1-8965-47bf-a3a7-3515de0af0f1",
   "metadata": {},
   "outputs": [],
   "source": [
    "df.createOrReplaceTempView(\"Employee_salary\")"
   ]
  },
  {
   "cell_type": "code",
   "execution_count": 15,
   "id": "dbccf014-177d-4fc6-bd5c-22a54138be03",
   "metadata": {},
   "outputs": [
    {
     "name": "stdout",
     "output_type": "stream",
     "text": [
      "+---------+------------------+\n",
      "|work_year|       avg(salary)|\n",
      "+---------+------------------+\n",
      "|     2023|159284.64961276695|\n",
      "|     2022|167507.70024125453|\n",
      "|     2020| 356637.4533333333|\n",
      "|     2024| 165331.3257725795|\n",
      "|     2021| 559350.9908256881|\n",
      "+---------+------------------+\n",
      "\n"
     ]
    }
   ],
   "source": [
    "spark.sql('''\n",
    "                SELECT work_year,\n",
    "                       avg(salary)\n",
    "                FROM Employee_salary\n",
    "                GROUP BY(work_year);\n",
    "            ''').show()"
   ]
  },
  {
   "cell_type": "code",
   "execution_count": 16,
   "id": "ddc399e3-542b-4cc4-94eb-b84c6be48abd",
   "metadata": {},
   "outputs": [
    {
     "data": {
      "text/plain": [
       "DataFrame[]"
      ]
     },
     "execution_count": 16,
     "metadata": {},
     "output_type": "execute_result"
    }
   ],
   "source": [
    "spark.sql(\"CREATE DATABASE IF NOT EXISTS employee_db\")"
   ]
  },
  {
   "cell_type": "code",
   "execution_count": 17,
   "id": "977f7dc5-49cc-4983-8db9-8ffdeed934a3",
   "metadata": {},
   "outputs": [
    {
     "data": {
      "text/plain": [
       "DataFrame[]"
      ]
     },
     "execution_count": 17,
     "metadata": {},
     "output_type": "execute_result"
    }
   ],
   "source": [
    "spark.sql(\"DROP TABLE IF EXISTS employee_db.employee_salary\")"
   ]
  },
  {
   "cell_type": "code",
   "execution_count": 18,
   "id": "af938f44-4992-45fd-b56f-da59026bebbc",
   "metadata": {},
   "outputs": [
    {
     "name": "stderr",
     "output_type": "stream",
     "text": [
      "                                                                                \r"
     ]
    }
   ],
   "source": [
    "df.write \\\n",
    "  .format(\"parquet\") \\\n",
    "  .mode(\"overwrite\") \\\n",
    "  .option(\"path\", \"/Users/AnirbanGuha/Documents/GitHub/Python-2/Introduction to PySpark/spark-warehouse/employee_db.db/employee_salary\") \\\n",
    "  .saveAsTable(\"employee_db.employee_salary\")"
   ]
  },
  {
   "cell_type": "code",
   "execution_count": 19,
   "id": "306ef15c-3320-4832-bde2-0ff93ee6aa87",
   "metadata": {},
   "outputs": [
    {
     "name": "stdout",
     "output_type": "stream",
     "text": [
      "+---------+----------------+---------------+--------------------+------+---------------+-------------+------------------+------------+----------------+------------+\n",
      "|work_year|experience_level|employment_type|           job_title|salary|salary_currency|salary_in_usd|employee_residence|remote_ratio|company_location|company_size|\n",
      "+---------+----------------+---------------+--------------------+------+---------------+-------------+------------------+------------+----------------+------------+\n",
      "|     2020|              EN|             FT| Azure Data Engineer|100000|            USD|       100000|                MU|           0|              MU|           S|\n",
      "|     2020|              EN|             CT|  Staff Data Analyst| 60000|            CAD|        44753|                CA|          50|              CA|           L|\n",
      "|     2020|              SE|             FT|Staff Data Scientist|164000|            USD|       164000|                US|          50|              US|           M|\n",
      "|     2020|              EN|             FT|        Data Analyst| 42000|            EUR|        47899|                DE|           0|              DE|           L|\n",
      "|     2020|              EX|             FT|      Data Scientist|300000|            USD|       300000|                US|         100|              US|           L|\n",
      "|     2020|              MI|             CT|  Sales Data Analyst| 60000|            USD|        60000|                NG|           0|              NG|           M|\n",
      "|     2020|              EX|             FT|  Staff Data Analyst| 15000|            USD|        15000|                NG|           0|              CA|           M|\n",
      "|     2020|              MI|             FT|Business Data Ana...| 95000|            USD|        95000|                US|           0|              US|           M|\n",
      "|     2020|              EN|             FT|        Data Analyst| 20000|            EUR|        22809|                PT|         100|              PT|           M|\n",
      "|     2020|              EN|             FT|      Data Scientist| 43200|            EUR|        49268|                DE|           0|              DE|           S|\n",
      "+---------+----------------+---------------+--------------------+------+---------------+-------------+------------------+------------+----------------+------------+\n",
      "\n"
     ]
    }
   ],
   "source": [
    "spark.sql(\"SELECT * FROM employee_salary LIMIT 10\").show()"
   ]
  },
  {
   "cell_type": "code",
   "execution_count": 20,
   "id": "f5b624ae-fd42-4858-bffc-0a945abf0e66",
   "metadata": {},
   "outputs": [
    {
     "data": {
      "text/html": [
       "<div>\n",
       "<style scoped>\n",
       "    .dataframe tbody tr th:only-of-type {\n",
       "        vertical-align: middle;\n",
       "    }\n",
       "\n",
       "    .dataframe tbody tr th {\n",
       "        vertical-align: top;\n",
       "    }\n",
       "\n",
       "    .dataframe thead th {\n",
       "        text-align: right;\n",
       "    }\n",
       "</style>\n",
       "<table border=\"1\" class=\"dataframe\">\n",
       "  <thead>\n",
       "    <tr style=\"text-align: right;\">\n",
       "      <th></th>\n",
       "      <th>work_year</th>\n",
       "      <th>experience_level</th>\n",
       "      <th>employment_type</th>\n",
       "      <th>job_title</th>\n",
       "      <th>salary</th>\n",
       "      <th>salary_currency</th>\n",
       "      <th>salary_in_usd</th>\n",
       "      <th>employee_residence</th>\n",
       "      <th>remote_ratio</th>\n",
       "      <th>company_location</th>\n",
       "      <th>company_size</th>\n",
       "    </tr>\n",
       "  </thead>\n",
       "  <tbody>\n",
       "    <tr>\n",
       "      <th>0</th>\n",
       "      <td>2020</td>\n",
       "      <td>EN</td>\n",
       "      <td>FT</td>\n",
       "      <td>Azure Data Engineer</td>\n",
       "      <td>100000</td>\n",
       "      <td>USD</td>\n",
       "      <td>100000</td>\n",
       "      <td>MU</td>\n",
       "      <td>0</td>\n",
       "      <td>MU</td>\n",
       "      <td>S</td>\n",
       "    </tr>\n",
       "    <tr>\n",
       "      <th>1</th>\n",
       "      <td>2020</td>\n",
       "      <td>EN</td>\n",
       "      <td>CT</td>\n",
       "      <td>Staff Data Analyst</td>\n",
       "      <td>60000</td>\n",
       "      <td>CAD</td>\n",
       "      <td>44753</td>\n",
       "      <td>CA</td>\n",
       "      <td>50</td>\n",
       "      <td>CA</td>\n",
       "      <td>L</td>\n",
       "    </tr>\n",
       "    <tr>\n",
       "      <th>2</th>\n",
       "      <td>2020</td>\n",
       "      <td>SE</td>\n",
       "      <td>FT</td>\n",
       "      <td>Staff Data Scientist</td>\n",
       "      <td>164000</td>\n",
       "      <td>USD</td>\n",
       "      <td>164000</td>\n",
       "      <td>US</td>\n",
       "      <td>50</td>\n",
       "      <td>US</td>\n",
       "      <td>M</td>\n",
       "    </tr>\n",
       "    <tr>\n",
       "      <th>3</th>\n",
       "      <td>2020</td>\n",
       "      <td>EN</td>\n",
       "      <td>FT</td>\n",
       "      <td>Data Analyst</td>\n",
       "      <td>42000</td>\n",
       "      <td>EUR</td>\n",
       "      <td>47899</td>\n",
       "      <td>DE</td>\n",
       "      <td>0</td>\n",
       "      <td>DE</td>\n",
       "      <td>L</td>\n",
       "    </tr>\n",
       "    <tr>\n",
       "      <th>4</th>\n",
       "      <td>2020</td>\n",
       "      <td>EX</td>\n",
       "      <td>FT</td>\n",
       "      <td>Data Scientist</td>\n",
       "      <td>300000</td>\n",
       "      <td>USD</td>\n",
       "      <td>300000</td>\n",
       "      <td>US</td>\n",
       "      <td>100</td>\n",
       "      <td>US</td>\n",
       "      <td>L</td>\n",
       "    </tr>\n",
       "    <tr>\n",
       "      <th>5</th>\n",
       "      <td>2020</td>\n",
       "      <td>MI</td>\n",
       "      <td>CT</td>\n",
       "      <td>Sales Data Analyst</td>\n",
       "      <td>60000</td>\n",
       "      <td>USD</td>\n",
       "      <td>60000</td>\n",
       "      <td>NG</td>\n",
       "      <td>0</td>\n",
       "      <td>NG</td>\n",
       "      <td>M</td>\n",
       "    </tr>\n",
       "    <tr>\n",
       "      <th>6</th>\n",
       "      <td>2020</td>\n",
       "      <td>EX</td>\n",
       "      <td>FT</td>\n",
       "      <td>Staff Data Analyst</td>\n",
       "      <td>15000</td>\n",
       "      <td>USD</td>\n",
       "      <td>15000</td>\n",
       "      <td>NG</td>\n",
       "      <td>0</td>\n",
       "      <td>CA</td>\n",
       "      <td>M</td>\n",
       "    </tr>\n",
       "    <tr>\n",
       "      <th>7</th>\n",
       "      <td>2020</td>\n",
       "      <td>MI</td>\n",
       "      <td>FT</td>\n",
       "      <td>Business Data Analyst</td>\n",
       "      <td>95000</td>\n",
       "      <td>USD</td>\n",
       "      <td>95000</td>\n",
       "      <td>US</td>\n",
       "      <td>0</td>\n",
       "      <td>US</td>\n",
       "      <td>M</td>\n",
       "    </tr>\n",
       "    <tr>\n",
       "      <th>8</th>\n",
       "      <td>2020</td>\n",
       "      <td>EN</td>\n",
       "      <td>FT</td>\n",
       "      <td>Data Analyst</td>\n",
       "      <td>20000</td>\n",
       "      <td>EUR</td>\n",
       "      <td>22809</td>\n",
       "      <td>PT</td>\n",
       "      <td>100</td>\n",
       "      <td>PT</td>\n",
       "      <td>M</td>\n",
       "    </tr>\n",
       "    <tr>\n",
       "      <th>9</th>\n",
       "      <td>2020</td>\n",
       "      <td>EN</td>\n",
       "      <td>FT</td>\n",
       "      <td>Data Scientist</td>\n",
       "      <td>43200</td>\n",
       "      <td>EUR</td>\n",
       "      <td>49268</td>\n",
       "      <td>DE</td>\n",
       "      <td>0</td>\n",
       "      <td>DE</td>\n",
       "      <td>S</td>\n",
       "    </tr>\n",
       "  </tbody>\n",
       "</table>\n",
       "</div>"
      ],
      "text/plain": [
       "   work_year experience_level employment_type              job_title  salary  \\\n",
       "0       2020               EN              FT    Azure Data Engineer  100000   \n",
       "1       2020               EN              CT     Staff Data Analyst   60000   \n",
       "2       2020               SE              FT   Staff Data Scientist  164000   \n",
       "3       2020               EN              FT           Data Analyst   42000   \n",
       "4       2020               EX              FT         Data Scientist  300000   \n",
       "5       2020               MI              CT     Sales Data Analyst   60000   \n",
       "6       2020               EX              FT     Staff Data Analyst   15000   \n",
       "7       2020               MI              FT  Business Data Analyst   95000   \n",
       "8       2020               EN              FT           Data Analyst   20000   \n",
       "9       2020               EN              FT         Data Scientist   43200   \n",
       "\n",
       "  salary_currency  salary_in_usd employee_residence  remote_ratio  \\\n",
       "0             USD         100000                 MU             0   \n",
       "1             CAD          44753                 CA            50   \n",
       "2             USD         164000                 US            50   \n",
       "3             EUR          47899                 DE             0   \n",
       "4             USD         300000                 US           100   \n",
       "5             USD          60000                 NG             0   \n",
       "6             USD          15000                 NG             0   \n",
       "7             USD          95000                 US             0   \n",
       "8             EUR          22809                 PT           100   \n",
       "9             EUR          49268                 DE             0   \n",
       "\n",
       "  company_location company_size  \n",
       "0               MU            S  \n",
       "1               CA            L  \n",
       "2               US            M  \n",
       "3               DE            L  \n",
       "4               US            L  \n",
       "5               NG            M  \n",
       "6               CA            M  \n",
       "7               US            M  \n",
       "8               PT            M  \n",
       "9               DE            S  "
      ]
     },
     "execution_count": 20,
     "metadata": {},
     "output_type": "execute_result"
    }
   ],
   "source": [
    "df.limit(10).toPandas()"
   ]
  },
  {
   "cell_type": "code",
   "execution_count": 21,
   "id": "36ee2e6d-fa3b-4f93-b545-1e36b2177b64",
   "metadata": {},
   "outputs": [
    {
     "data": {
      "text/html": [
       "<div>\n",
       "<style scoped>\n",
       "    .dataframe tbody tr th:only-of-type {\n",
       "        vertical-align: middle;\n",
       "    }\n",
       "\n",
       "    .dataframe tbody tr th {\n",
       "        vertical-align: top;\n",
       "    }\n",
       "\n",
       "    .dataframe thead th {\n",
       "        text-align: right;\n",
       "    }\n",
       "</style>\n",
       "<table border=\"1\" class=\"dataframe\">\n",
       "  <thead>\n",
       "    <tr style=\"text-align: right;\">\n",
       "      <th></th>\n",
       "      <th>work_year</th>\n",
       "      <th>experience_level</th>\n",
       "      <th>employment_type</th>\n",
       "      <th>job_title</th>\n",
       "      <th>salary</th>\n",
       "      <th>salary_currency</th>\n",
       "      <th>salary_in_usd</th>\n",
       "      <th>employee_residence</th>\n",
       "      <th>remote_ratio</th>\n",
       "      <th>company_location</th>\n",
       "      <th>company_size</th>\n",
       "    </tr>\n",
       "  </thead>\n",
       "  <tbody>\n",
       "    <tr>\n",
       "      <th>0</th>\n",
       "      <td>2020</td>\n",
       "      <td>EN</td>\n",
       "      <td>FT</td>\n",
       "      <td>Azure Data Engineer</td>\n",
       "      <td>100000</td>\n",
       "      <td>USD</td>\n",
       "      <td>100000</td>\n",
       "      <td>MU</td>\n",
       "      <td>0</td>\n",
       "      <td>MU</td>\n",
       "      <td>S</td>\n",
       "    </tr>\n",
       "    <tr>\n",
       "      <th>1</th>\n",
       "      <td>2020</td>\n",
       "      <td>EN</td>\n",
       "      <td>CT</td>\n",
       "      <td>Staff Data Analyst</td>\n",
       "      <td>60000</td>\n",
       "      <td>CAD</td>\n",
       "      <td>44753</td>\n",
       "      <td>CA</td>\n",
       "      <td>50</td>\n",
       "      <td>CA</td>\n",
       "      <td>L</td>\n",
       "    </tr>\n",
       "    <tr>\n",
       "      <th>2</th>\n",
       "      <td>2020</td>\n",
       "      <td>SE</td>\n",
       "      <td>FT</td>\n",
       "      <td>Staff Data Scientist</td>\n",
       "      <td>164000</td>\n",
       "      <td>USD</td>\n",
       "      <td>164000</td>\n",
       "      <td>US</td>\n",
       "      <td>50</td>\n",
       "      <td>US</td>\n",
       "      <td>M</td>\n",
       "    </tr>\n",
       "    <tr>\n",
       "      <th>3</th>\n",
       "      <td>2020</td>\n",
       "      <td>EN</td>\n",
       "      <td>FT</td>\n",
       "      <td>Data Analyst</td>\n",
       "      <td>42000</td>\n",
       "      <td>EUR</td>\n",
       "      <td>47899</td>\n",
       "      <td>DE</td>\n",
       "      <td>0</td>\n",
       "      <td>DE</td>\n",
       "      <td>L</td>\n",
       "    </tr>\n",
       "    <tr>\n",
       "      <th>4</th>\n",
       "      <td>2020</td>\n",
       "      <td>EX</td>\n",
       "      <td>FT</td>\n",
       "      <td>Data Scientist</td>\n",
       "      <td>300000</td>\n",
       "      <td>USD</td>\n",
       "      <td>300000</td>\n",
       "      <td>US</td>\n",
       "      <td>100</td>\n",
       "      <td>US</td>\n",
       "      <td>L</td>\n",
       "    </tr>\n",
       "    <tr>\n",
       "      <th>5</th>\n",
       "      <td>2020</td>\n",
       "      <td>MI</td>\n",
       "      <td>CT</td>\n",
       "      <td>Sales Data Analyst</td>\n",
       "      <td>60000</td>\n",
       "      <td>USD</td>\n",
       "      <td>60000</td>\n",
       "      <td>NG</td>\n",
       "      <td>0</td>\n",
       "      <td>NG</td>\n",
       "      <td>M</td>\n",
       "    </tr>\n",
       "    <tr>\n",
       "      <th>6</th>\n",
       "      <td>2020</td>\n",
       "      <td>EX</td>\n",
       "      <td>FT</td>\n",
       "      <td>Staff Data Analyst</td>\n",
       "      <td>15000</td>\n",
       "      <td>USD</td>\n",
       "      <td>15000</td>\n",
       "      <td>NG</td>\n",
       "      <td>0</td>\n",
       "      <td>CA</td>\n",
       "      <td>M</td>\n",
       "    </tr>\n",
       "    <tr>\n",
       "      <th>7</th>\n",
       "      <td>2020</td>\n",
       "      <td>MI</td>\n",
       "      <td>FT</td>\n",
       "      <td>Business Data Analyst</td>\n",
       "      <td>95000</td>\n",
       "      <td>USD</td>\n",
       "      <td>95000</td>\n",
       "      <td>US</td>\n",
       "      <td>0</td>\n",
       "      <td>US</td>\n",
       "      <td>M</td>\n",
       "    </tr>\n",
       "    <tr>\n",
       "      <th>8</th>\n",
       "      <td>2020</td>\n",
       "      <td>EN</td>\n",
       "      <td>FT</td>\n",
       "      <td>Data Analyst</td>\n",
       "      <td>20000</td>\n",
       "      <td>EUR</td>\n",
       "      <td>22809</td>\n",
       "      <td>PT</td>\n",
       "      <td>100</td>\n",
       "      <td>PT</td>\n",
       "      <td>M</td>\n",
       "    </tr>\n",
       "    <tr>\n",
       "      <th>9</th>\n",
       "      <td>2020</td>\n",
       "      <td>EN</td>\n",
       "      <td>FT</td>\n",
       "      <td>Data Scientist</td>\n",
       "      <td>43200</td>\n",
       "      <td>EUR</td>\n",
       "      <td>49268</td>\n",
       "      <td>DE</td>\n",
       "      <td>0</td>\n",
       "      <td>DE</td>\n",
       "      <td>S</td>\n",
       "    </tr>\n",
       "  </tbody>\n",
       "</table>\n",
       "</div>"
      ],
      "text/plain": [
       "   work_year experience_level employment_type              job_title  salary  \\\n",
       "0       2020               EN              FT    Azure Data Engineer  100000   \n",
       "1       2020               EN              CT     Staff Data Analyst   60000   \n",
       "2       2020               SE              FT   Staff Data Scientist  164000   \n",
       "3       2020               EN              FT           Data Analyst   42000   \n",
       "4       2020               EX              FT         Data Scientist  300000   \n",
       "5       2020               MI              CT     Sales Data Analyst   60000   \n",
       "6       2020               EX              FT     Staff Data Analyst   15000   \n",
       "7       2020               MI              FT  Business Data Analyst   95000   \n",
       "8       2020               EN              FT           Data Analyst   20000   \n",
       "9       2020               EN              FT         Data Scientist   43200   \n",
       "\n",
       "  salary_currency  salary_in_usd employee_residence  remote_ratio  \\\n",
       "0             USD         100000                 MU             0   \n",
       "1             CAD          44753                 CA            50   \n",
       "2             USD         164000                 US            50   \n",
       "3             EUR          47899                 DE             0   \n",
       "4             USD         300000                 US           100   \n",
       "5             USD          60000                 NG             0   \n",
       "6             USD          15000                 NG             0   \n",
       "7             USD          95000                 US             0   \n",
       "8             EUR          22809                 PT           100   \n",
       "9             EUR          49268                 DE             0   \n",
       "\n",
       "  company_location company_size  \n",
       "0               MU            S  \n",
       "1               CA            L  \n",
       "2               US            M  \n",
       "3               DE            L  \n",
       "4               US            L  \n",
       "5               NG            M  \n",
       "6               CA            M  \n",
       "7               US            M  \n",
       "8               PT            M  \n",
       "9               DE            S  "
      ]
     },
     "metadata": {},
     "output_type": "display_data"
    }
   ],
   "source": [
    "from IPython.display import display\n",
    "display(df.limit(10).toPandas())"
   ]
  },
  {
   "cell_type": "code",
   "execution_count": 22,
   "id": "8255acf1-56d8-4675-a5c5-9c4557e0f947",
   "metadata": {},
   "outputs": [
    {
     "name": "stdout",
     "output_type": "stream",
     "text": [
      "2.3.0\n"
     ]
    }
   ],
   "source": [
    "import pandas as pd\n",
    "print(pd.__version__)"
   ]
  },
  {
   "cell_type": "code",
   "execution_count": null,
   "id": "18437c81-8e32-45e3-8f6f-ea8c098a8612",
   "metadata": {},
   "outputs": [],
   "source": []
  }
 ],
 "metadata": {
  "kernelspec": {
   "display_name": "PySpark (pyspark_env)",
   "language": "python",
   "name": "pyspark_env"
  },
  "language_info": {
   "codemirror_mode": {
    "name": "ipython",
    "version": 3
   },
   "file_extension": ".py",
   "mimetype": "text/x-python",
   "name": "python",
   "nbconvert_exporter": "python",
   "pygments_lexer": "ipython3",
   "version": "3.10.18"
  },
  "widgets": {
   "application/vnd.jupyter.widget-state+json": {
    "state": {},
    "version_major": 2,
    "version_minor": 0
   }
  }
 },
 "nbformat": 4,
 "nbformat_minor": 5
}
