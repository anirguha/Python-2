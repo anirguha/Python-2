{
 "cells": [
  {
   "cell_type": "code",
   "execution_count": 3,
   "id": "e39865df-e19e-4618-97b0-4212a820bc96",
   "metadata": {
    "tags": []
   },
   "outputs": [],
   "source": [
    "import random as rn"
   ]
  },
  {
   "cell_type": "code",
   "execution_count": 4,
   "id": "b93cc5de-d787-4481-951e-0b0af05b6b9f",
   "metadata": {
    "tags": []
   },
   "outputs": [],
   "source": [
    "class Adventurer:\n",
    "    \"\"\"\n",
    "    The class Adventurer represents a class of users for the Adventurer Game.\n",
    "    The class Adventurer has the following attributes\n",
    "    \n",
    "    Attributes:\n",
    "    name : type String\n",
    "    strength type int of values 1-18\n",
    "    constitution: type int of values 1-18\n",
    "    hit_points: type int when <=0 the user is dead\n",
    "    bag: type list of items\n",
    "    \"\"\"\n",
    "    def __init__(self, name: str) -> None:\n",
    "        self.name = name\n",
    "        ##Assign Random Values between 3-18 to attributes of type int\n",
    "        self.strength: int = rn.randint(3,18)\n",
    "        self.constritution: int = rn.randint(3,18)\n",
    "        \n",
    "        ##Initiate hit_points with a random integer between 1 and 8\n",
    "        self.hit_points: int = rn.randint(10,30)\n",
    "        \n",
    "        ##Initiate an empty list for bag attribute\n",
    "        self.bag: list[item] = [Item(\"small stick\",0,1)]\n",
    "    "
   ]
  },
  {
   "cell_type": "code",
   "execution_count": 18,
   "id": "ea0c4d70-7cd0-4db4-b733-f110d750ec5e",
   "metadata": {
    "tags": []
   },
   "outputs": [],
   "source": [
    "class Item:\n",
    "    \"\"\"\n",
    "    The class item denotes a class of item in a bag held by the Adventurer \n",
    "    The class item has the following attributes\n",
    "    \n",
    "    Attributes:\n",
    "    name : type String display name of the item\n",
    "    min_damage type int The ninimum damage and item can cause. Cannot be negative.\n",
    "    max_damage: type int maximum damage an item can cause. Cannot be negative\n",
    "    \"\"\"\n",
    "    def __init__(self, name: str, min_damage: int, max_damage: int) ->None:\n",
    "        if name != None:\n",
    "            self.name: str = name\n",
    "        else:\n",
    "            self.name: str = \"Unknown\"\n",
    "            \n",
    "        self.min_damage: int = min_damage\n",
    "        self.max_damage: int = max_damage\n",
    "        \n",
    "    "
   ]
  },
  {
   "cell_type": "code",
   "execution_count": 22,
   "id": "22a62c52-5c9b-4ed7-b5b5-3e9b8598dfe5",
   "metadata": {
    "tags": []
   },
   "outputs": [],
   "source": [
    "class Cave:\n",
    "    \"\"\"\n",
    "    The class to denote a cave in the Adventurer Game.\n",
    "    \n",
    "    Attributes:\n",
    "    name: str\n",
    "    \"\"\"\n",
    "    def __init__(self, name):\n",
    "        self.name = name"
   ]
  },
  {
   "cell_type": "code",
   "execution_count": 24,
   "id": "6bca0d0d-00b1-47a3-87d7-2f9bcfdad7e4",
   "metadata": {
    "tags": []
   },
   "outputs": [],
   "source": [
    "class Room:\n",
    "    \"\"\"\n",
    "    The class to denote a room in the Adventurer Game.\n",
    "    \n",
    "    Attributes:\n",
    "    name: str\n",
    "    \"\"\"\n",
    "    def __init__(self, name):\n",
    "        self.name = name"
   ]
  },
  {
   "cell_type": "code",
   "execution_count": 10,
   "id": "4a31001a-c9fe-4da2-b845-8d106ef13657",
   "metadata": {},
   "outputs": [],
   "source": [
    "class Monster:\n",
    "    def __init__(self, name, min_dmg, max_dmg, hit_points):\n",
    "        self.name = name\n",
    "        self.min_dmg = min_dmg\n",
    "        self.max_dmg = max_dmg\n",
    "        self.hit_points = hit_points\n",
    "        \n",
    "    def create_monster():\n",
    "        \"\"\"Creates a random monster\"\"\"\n",
    "        monsters = ['Ghost','Goblin','Python']\n",
    "        \n",
    "        name = rn.choice(monsters)\n",
    "        \n",
    "        if name == 'Ghost':\n",
    "            return Monster(name,rn.randint(0,1),rn.randint(0,1),2)\n",
    "        elif name == 'Goblin':\n",
    "            return Monster(name,rn.randint(0,1),rn.randint(0,1),10)\n",
    "        else:\n",
    "            return Monster(name,rn.randint(3,6),rn.randint(6,12),5)\n",
    "        \n",
    "        "
   ]
  },
  {
   "cell_type": "code",
   "execution_count": null,
   "id": "363a4257-ed95-46da-9c0d-7f256572c22b",
   "metadata": {},
   "outputs": [],
   "source": []
  }
 ],
 "metadata": {
  "kernelspec": {
   "display_name": "Python 3 (ipykernel)",
   "language": "python",
   "name": "python3"
  },
  "language_info": {
   "codemirror_mode": {
    "name": "ipython",
    "version": 3
   },
   "file_extension": ".py",
   "mimetype": "text/x-python",
   "name": "python",
   "nbconvert_exporter": "python",
   "pygments_lexer": "ipython3",
   "version": "3.13.3"
  }
 },
 "nbformat": 4,
 "nbformat_minor": 5
}
