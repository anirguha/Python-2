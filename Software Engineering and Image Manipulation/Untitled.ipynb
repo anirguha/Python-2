{
 "cells": [
  {
   "cell_type": "code",
   "execution_count": 8,
   "id": "c1b7019f-2243-4054-868c-f780f8e35fda",
   "metadata": {},
   "outputs": [
    {
     "name": "stdout",
     "output_type": "stream",
     "text": [
      "#FFFFFF\n"
     ]
    }
   ],
   "source": [
    "class Bot:\n",
    "        \n",
    "    def _tuple_to_str(self, pixel:tuple)->str:\n",
    "        r, g, b = pixel[:3]\n",
    "        return f\"#{r:02X}{g:02X}{b:02X}\"\n",
    "        \n",
    "\n",
    "bot = Bot()\n",
    "print(bot._tuple_to_str((255, 255, 255, 255)))"
   ]
  },
  {
   "cell_type": "code",
   "execution_count": 8,
   "id": "71163150-6087-41a4-a818-b4418eee3ac7",
   "metadata": {},
   "outputs": [],
   "source": [
    "class Person:\n",
    "    def __init__(self, n):\n",
    "        self.name = n"
   ]
  },
  {
   "cell_type": "code",
   "execution_count": 10,
   "id": "b4ed0ed8-1746-41c7-a6a6-65c1388d5610",
   "metadata": {
    "tags": []
   },
   "outputs": [
    {
     "name": "stdout",
     "output_type": "stream",
     "text": [
      "{'name': 'Alex'}\n"
     ]
    }
   ],
   "source": [
    "person = Person('Alex')\n",
    "print(person.__dict__)"
   ]
  },
  {
   "cell_type": "code",
   "execution_count": null,
   "id": "9efe8c7a-0f18-446e-900a-a6fb7e3b6f00",
   "metadata": {},
   "outputs": [],
   "source": []
  }
 ],
 "metadata": {
  "kernelspec": {
   "display_name": "Python 3 (ipykernel)",
   "language": "python",
   "name": "python3"
  },
  "language_info": {
   "codemirror_mode": {
    "name": "ipython",
    "version": 3
   },
   "file_extension": ".py",
   "mimetype": "text/x-python",
   "name": "python",
   "nbconvert_exporter": "python",
   "pygments_lexer": "ipython3",
   "version": "3.12.2"
  }
 },
 "nbformat": 4,
 "nbformat_minor": 5
}
