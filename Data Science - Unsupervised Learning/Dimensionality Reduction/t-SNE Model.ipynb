{
 "cells": [
  {
   "cell_type": "markdown",
   "id": "11795ba0-3b38-416f-bc2f-864c9e58526e",
   "metadata": {},
   "source": [
    "## **t-Distributed Stochastic Neighbor Embedding (t-SNE)**"
   ]
  },
  {
   "cell_type": "code",
   "execution_count": 1,
   "id": "647b6ec6-a626-45df-b366-fec6f7d48e9f",
   "metadata": {},
   "outputs": [],
   "source": [
    "import pandas as pd\n",
    "import numpy as np\n",
    "import matplotlib.pyplot as plt\n",
    "import seaborn as sns"
   ]
  },
  {
   "cell_type": "code",
   "execution_count": 2,
   "id": "8a3cf541-e9c7-403f-945b-1eab2d3ea6b5",
   "metadata": {},
   "outputs": [],
   "source": [
    "data = pd.read_csv('../Data/student_grades.csv')"
   ]
  },
  {
   "cell_type": "code",
   "execution_count": 3,
   "id": "8fc1d728-95ff-4576-b9dc-37ad0a659c02",
   "metadata": {},
   "outputs": [
    {
     "data": {
      "text/html": [
       "<div>\n",
       "<style scoped>\n",
       "    .dataframe tbody tr th:only-of-type {\n",
       "        vertical-align: middle;\n",
       "    }\n",
       "\n",
       "    .dataframe tbody tr th {\n",
       "        vertical-align: top;\n",
       "    }\n",
       "\n",
       "    .dataframe thead th {\n",
       "        text-align: right;\n",
       "    }\n",
       "</style>\n",
       "<table border=\"1\" class=\"dataframe\">\n",
       "  <thead>\n",
       "    <tr style=\"text-align: right;\">\n",
       "      <th></th>\n",
       "      <th>student_id</th>\n",
       "      <th>math</th>\n",
       "      <th>science</th>\n",
       "      <th>cs</th>\n",
       "      <th>band</th>\n",
       "      <th>english</th>\n",
       "      <th>history</th>\n",
       "      <th>spanish</th>\n",
       "      <th>physed</th>\n",
       "    </tr>\n",
       "  </thead>\n",
       "  <tbody>\n",
       "    <tr>\n",
       "      <th>0</th>\n",
       "      <td>1</td>\n",
       "      <td>46</td>\n",
       "      <td>48</td>\n",
       "      <td>50</td>\n",
       "      <td>74</td>\n",
       "      <td>34</td>\n",
       "      <td>44</td>\n",
       "      <td>39</td>\n",
       "      <td>73</td>\n",
       "    </tr>\n",
       "    <tr>\n",
       "      <th>1</th>\n",
       "      <td>2</td>\n",
       "      <td>66</td>\n",
       "      <td>65</td>\n",
       "      <td>65</td>\n",
       "      <td>66</td>\n",
       "      <td>74</td>\n",
       "      <td>80</td>\n",
       "      <td>75</td>\n",
       "      <td>63</td>\n",
       "    </tr>\n",
       "    <tr>\n",
       "      <th>2</th>\n",
       "      <td>3</td>\n",
       "      <td>55</td>\n",
       "      <td>53</td>\n",
       "      <td>50</td>\n",
       "      <td>76</td>\n",
       "      <td>71</td>\n",
       "      <td>72</td>\n",
       "      <td>76</td>\n",
       "      <td>71</td>\n",
       "    </tr>\n",
       "    <tr>\n",
       "      <th>3</th>\n",
       "      <td>4</td>\n",
       "      <td>53</td>\n",
       "      <td>57</td>\n",
       "      <td>53</td>\n",
       "      <td>80</td>\n",
       "      <td>77</td>\n",
       "      <td>77</td>\n",
       "      <td>85</td>\n",
       "      <td>82</td>\n",
       "    </tr>\n",
       "    <tr>\n",
       "      <th>4</th>\n",
       "      <td>5</td>\n",
       "      <td>55</td>\n",
       "      <td>62</td>\n",
       "      <td>58</td>\n",
       "      <td>67</td>\n",
       "      <td>82</td>\n",
       "      <td>77</td>\n",
       "      <td>78</td>\n",
       "      <td>60</td>\n",
       "    </tr>\n",
       "  </tbody>\n",
       "</table>\n",
       "</div>"
      ],
      "text/plain": [
       "   student_id  math  science  cs  band  english  history  spanish  physed\n",
       "0           1    46       48  50    74       34       44       39      73\n",
       "1           2    66       65  65    66       74       80       75      63\n",
       "2           3    55       53  50    76       71       72       76      71\n",
       "3           4    53       57  53    80       77       77       85      82\n",
       "4           5    55       62  58    67       82       77       78      60"
      ]
     },
     "execution_count": 3,
     "metadata": {},
     "output_type": "execute_result"
    }
   ],
   "source": [
    "data.head()"
   ]
  },
  {
   "cell_type": "code",
   "execution_count": 4,
   "id": "0a553c17-6d82-4112-81ff-91b34ef97b3a",
   "metadata": {},
   "outputs": [],
   "source": [
    "X = data.drop('student_id',axis=1)"
   ]
  },
  {
   "cell_type": "code",
   "execution_count": 6,
   "id": "e124324c-faa9-4acc-ae73-7b34cf3a385a",
   "metadata": {},
   "outputs": [],
   "source": [
    "## Scale the model\n",
    "from sklearn.preprocessing import StandardScaler\n",
    "\n",
    "sd = StandardScaler()\n",
    "X_std = sd.fit_transform(X)"
   ]
  },
  {
   "cell_type": "code",
   "execution_count": 8,
   "id": "6c1238cb-db2f-4e68-8e3c-71065ff136e5",
   "metadata": {},
   "outputs": [],
   "source": [
    "## fit tSNE model\n",
    "from sklearn.manifold import TSNE\n",
    "\n",
    "tsne = TSNE(n_components=2, random_state=42)\n",
    "X_transformed = pd.DataFrame(tsne.fit_transform(X_std), columns=['component1','component2'])\n"
   ]
  },
  {
   "cell_type": "code",
   "execution_count": 9,
   "id": "65f7e8a3-9929-4707-82bd-a57c6c126452",
   "metadata": {},
   "outputs": [
    {
     "data": {
      "text/html": [
       "<div>\n",
       "<style scoped>\n",
       "    .dataframe tbody tr th:only-of-type {\n",
       "        vertical-align: middle;\n",
       "    }\n",
       "\n",
       "    .dataframe tbody tr th {\n",
       "        vertical-align: top;\n",
       "    }\n",
       "\n",
       "    .dataframe thead th {\n",
       "        text-align: right;\n",
       "    }\n",
       "</style>\n",
       "<table border=\"1\" class=\"dataframe\">\n",
       "  <thead>\n",
       "    <tr style=\"text-align: right;\">\n",
       "      <th></th>\n",
       "      <th>component1</th>\n",
       "      <th>component2</th>\n",
       "    </tr>\n",
       "  </thead>\n",
       "  <tbody>\n",
       "    <tr>\n",
       "      <th>0</th>\n",
       "      <td>0.330800</td>\n",
       "      <td>-6.146821</td>\n",
       "    </tr>\n",
       "    <tr>\n",
       "      <th>1</th>\n",
       "      <td>0.348588</td>\n",
       "      <td>3.492629</td>\n",
       "    </tr>\n",
       "    <tr>\n",
       "      <th>2</th>\n",
       "      <td>-2.216990</td>\n",
       "      <td>0.421706</td>\n",
       "    </tr>\n",
       "    <tr>\n",
       "      <th>3</th>\n",
       "      <td>-4.383247</td>\n",
       "      <td>0.910974</td>\n",
       "    </tr>\n",
       "    <tr>\n",
       "      <th>4</th>\n",
       "      <td>0.777133</td>\n",
       "      <td>2.669885</td>\n",
       "    </tr>\n",
       "  </tbody>\n",
       "</table>\n",
       "</div>"
      ],
      "text/plain": [
       "   component1  component2\n",
       "0    0.330800   -6.146821\n",
       "1    0.348588    3.492629\n",
       "2   -2.216990    0.421706\n",
       "3   -4.383247    0.910974\n",
       "4    0.777133    2.669885"
      ]
     },
     "execution_count": 9,
     "metadata": {},
     "output_type": "execute_result"
    }
   ],
   "source": [
    "X_transformed.head()"
   ]
  },
  {
   "cell_type": "code",
   "execution_count": 10,
   "id": "617ed963-c286-4925-9630-26f16061f9d7",
   "metadata": {},
   "outputs": [
    {
     "data": {
      "image/png": "[encoded data removed]",
      "text/plain": [
       "<Figure size 640x480 with 1 Axes>"
      ]
     },
     "metadata": {},
     "output_type": "display_data"
    }
   ],
   "source": [
    "sns.scatterplot(\n",
    "    data=X_transformed,\n",
    "    x='component1',\n",
    "    y='component2'\n",
    ")\n",
    "plt.xlabel('component1')\n",
    "plt.ylabel('component2')\n",
    "plt.show();"
   ]
  },
  {
   "cell_type": "code",
   "execution_count": 12,
   "id": "714d9de4-635d-4422-9ef0-e5358fed5610",
   "metadata": {},
   "outputs": [
    {
     "data": {
      "application/vnd.plotly.v1+json": {
       "config": {
        "plotlyServerURL": "https://plot.ly"
       },
       "data": [
        {
         "marker": {
          "color": "blue",
          "size": 10
         },
         "mode": "markers",
         "text": {
          "bdata": "AAAAAAAA8D8AAAAAAAAAQAAAAAAAAAhAAAAAAAAAEEAAAAAAAAAUQAAAAAAAABhAAAAAAAAAHEAAAAAAAAAgQAAAAAAAACJAAAAAAAAAJEAAAAAAAAAmQAAAAAAAAChAAAAAAAAAKkAAAAAAAAAsQAAAAAAAAC5AAAAAAAAAMEAAAAAAAAAxQAAAAAAAADJAAAAAAAAAM0AAAAAAAAA0QAAAAAAAADVAAAAAAAAANkAAAAAAAAA3QAAAAAAAADhAAAAAAAAAOUAAAAAAAAA6QAAAAAAAADtAAAAAAAAAPEAAAAAAAAA9QAAAAAAAAD5AAAAAAAAAP0AAAAAAAABAQAAAAAAAgEBAAAAAAAAAQUAAAAAAAIBBQAAAAAAAAEJAAAAAAACAQkAAAAAAAABDQAAAAAAAgENAAAAAAAAAREAAAAAAAIBEQAAAAAAAAEVAAAAAAACARUAAAAAAAABGQAAAAAAAgEZAAAAAAAAAR0AAAAAAAIBHQAAAAAAAAEhAAAAAAACASEAAAAAAAABJQAAAAAAAgElAAAAAAAAASkAAAAAAAIBKQAAAAAAAAEtAAAAAAACAS0AAAAAAAABMQAAAAAAAgExAAAAAAAAATUAAAAAAAIBNQAAAAAAAAE5AAAAAAACATkAAAAAAAABPQAAAAAAAgE9AAAAAAAAAUEAAAAAAAEBQQAAAAAAAgFBAAAAAAADAUEAAAAAAAABRQAAAAAAAQFFAAAAAAACAUUAAAAAAAMBRQAAAAAAAAFJAAAAAAABAUkAAAAAAAIBSQAAAAAAAwFJAAAAAAAAAU0AAAAAAAEBTQAAAAAAAgFNAAAAAAADAU0AAAAAAAABUQAAAAAAAQFRAAAAAAACAVEAAAAAAAMBUQAAAAAAAAFVAAAAAAABAVUAAAAAAAIBVQAAAAAAAwFVAAAAAAAAAVkAAAAAAAEBWQAAAAAAAgFZAAAAAAADAVkAAAAAAAABXQAAAAAAAQFdAAAAAAACAV0AAAAAAAMBXQAAAAAAAAFhAAAAAAABAWEAAAAAAAIBYQAAAAAAAwFhAAAAAAAAAWUA=",
          "dtype": "f8"
         },
         "type": "scatter",
         "x": {
          "bdata": "qF6pPhV6sj4r4w3Aj0OMwC3yRj9tN5w/PBO7vx4g+T9pMWtAVE9Xv0gdDT5i0A2/T0keQBCZRcARquM/InZ2PwMnXcCjX9A/9PRvwPjw6j+QyWzAcAzov3aN/z8RJ2PA+LWwPyRTvb97t21ApI+QQJgacj9zHLM/I4WTwJMJwj+44jlAEw+HvWEg3z8lgmxAmsyZv4XTTr5K+XlA7zMrwLFoHz9iuhJAd5xwQPjoWUC816m/AmCzvmwhgj8yBYLA3ZkUQDg45z/fK76/0BZsv+eolsC0dqg+hTgewPl4M0Bo3qo/81a2PxRoj0CBnAFAICwGwF6XSUD85g8/rgHcP2jsyD8t2N2+weGbPwlbl0DgeFJAnUmLPloqCL79ske9fHpewGl4Qr0F2iZAcUKRQCHKSr7Qjo3AOFVovySOIMBIBiI/Ir7GvC2cLUCUxIHAxxx6wOcrE8BKYpu/04adv977jb6zH9a/tewKQM4ZEkBYTLW/zI0BQBiZfD7p6Fm/iQpOP5uxZUAyl9A/rgl9Pw==",
          "dtype": "f4"
         },
         "y": {
          "bdata": "wbLEwDuHX0DY6dc+kTVpP2TfKkCCse3APqJPQNdrA8DltWfA4UeyQJFv4MCPmng/OPIKQO11MT9S/Jk/WlvnwJpFrj7CFhxAtNwSQFS11sB3PgJAkJcoPwp8IcCocpM/I12FQNUpM8BaFru/e+YdwPjAU0CumQbBkL27P0pPa8A8GgfAvMCDwFov78A9Wfi/zq7DQFZhwT6TVavArhCvQFR74cDENR3Atx2+wHqUQ8CY2OI+HIDcvxMfy8A6/5q+jPS3wAL7Mj9DZMG+kgNwwLv1AD/4bP/A/VOfP6O3JsCdLq7Aq6B1QILoqsA4FoLAbhK2QGPHscBNNEzAGSAYQKMGuMDPjrdAflYFQL/ikcAQ31+/wPs3QMGqC0DRqrE/0DmoP6dZHsCUOxK/OTN4wMJKvMBzJhBAhgBVwOTfr0Bz0MbA0AhiwAi2mT9f0d0/jWU/Pt9Xgj8J2dw/wxeOwMLiK78Y/rlAKQeFwEsfIj7eVbhAeF5WQLxBvz45e7xAhsCiwDQCjcBcR5XA9RnfPw==",
          "dtype": "f4"
         }
        }
       ],
       "layout": {
        "annotations": [
         {
          "font": {
           "color": "black",
           "size": 10
          },
          "showarrow": false,
          "text": "1",
          "x": 0.33080029487609863,
          "xanchor": "left",
          "xshift": 5,
          "y": -6.146820545196533
         },
         {
          "font": {
           "color": "black",
           "size": 10
          },
          "showarrow": false,
          "text": "2",
          "x": 0.34858766198158264,
          "xanchor": "left",
          "xshift": 5,
          "y": 3.492628812789917
         },
         {
          "font": {
           "color": "black",
           "size": 10
          },
          "showarrow": false,
          "text": "3",
          "x": -2.2169902324676514,
          "xanchor": "left",
          "xshift": 5,
          "y": 0.421705961227417
         },
         {
          "font": {
           "color": "black",
           "size": 10
          },
          "showarrow": false,
          "text": "4",
          "x": -4.383246898651123,
          "xanchor": "left",
          "xshift": 5,
          "y": 0.9109736084938049
         },
         {
          "font": {
           "color": "black",
           "size": 10
          },
          "showarrow": false,
          "text": "5",
          "x": 0.7771328091621399,
          "xanchor": "left",
          "xshift": 5,
          "y": 2.66988468170166
         },
         {
          "font": {
           "color": "black",
           "size": 10
          },
          "showarrow": false,
          "text": "6",
          "x": 1.220441460609436,
          "xanchor": "left",
          "xshift": 5,
          "y": -7.427918434143066
         },
         {
          "font": {
           "color": "black",
           "size": 10
          },
          "showarrow": false,
          "text": "7",
          "x": -1.461524486541748,
          "xanchor": "left",
          "xshift": 5,
          "y": 3.2442774772644043
         },
         {
          "font": {
           "color": "black",
           "size": 10
          },
          "showarrow": false,
          "text": "8",
          "x": 1.9462926387786865,
          "xanchor": "left",
          "xshift": 5,
          "y": -2.053457021713257
         },
         {
          "font": {
           "color": "black",
           "size": 10
          },
          "showarrow": false,
          "text": "9",
          "x": 3.6748907566070557,
          "xanchor": "left",
          "xshift": 5,
          "y": -3.6204769611358643
         },
         {
          "font": {
           "color": "black",
           "size": 10
          },
          "showarrow": false,
          "text": "10",
          "x": -0.8410542011260986,
          "xanchor": "left",
          "xshift": 5,
          "y": 5.571274280548096
         },
         {
          "font": {
           "color": "black",
           "size": 10
          },
          "showarrow": false,
          "text": "11",
          "x": 0.13780701160430908,
          "xanchor": "left",
          "xshift": 5,
          "y": -7.0136189460754395
         },
         {
          "font": {
           "color": "black",
           "size": 10
          },
          "showarrow": false,
          "text": "12",
          "x": -0.553960919380188,
          "xanchor": "left",
          "xshift": 5,
          "y": 0.9711083769798279
         },
         {
          "font": {
           "color": "black",
           "size": 10
          },
          "showarrow": false,
          "text": "13",
          "x": 2.473224401473999,
          "xanchor": "left",
          "xshift": 5,
          "y": 2.1710338592529297
         },
         {
          "font": {
           "color": "black",
           "size": 10
          },
          "showarrow": false,
          "text": "14",
          "x": -3.0874671936035156,
          "xanchor": "left",
          "xshift": 5,
          "y": 0.6932056546211243
         },
         {
          "font": {
           "color": "black",
           "size": 10
          },
          "showarrow": false,
          "text": "15",
          "x": 1.7786275148391724,
          "xanchor": "left",
          "xshift": 5,
          "y": 1.2030127048492432
         },
         {
          "font": {
           "color": "black",
           "size": 10
          },
          "showarrow": false,
          "text": "16",
          "x": 0.9627400636672974,
          "xanchor": "left",
          "xshift": 5,
          "y": -7.229901313781738
         },
         {
          "font": {
           "color": "black",
           "size": 10
          },
          "showarrow": false,
          "text": "17",
          "x": -3.4555060863494873,
          "xanchor": "left",
          "xshift": 5,
          "y": 0.34037476778030396
         },
         {
          "font": {
           "color": "black",
           "size": 10
          },
          "showarrow": false,
          "text": "18",
          "x": 1.6279186010360718,
          "xanchor": "left",
          "xshift": 5,
          "y": 2.4388890266418457
         },
         {
          "font": {
           "color": "black",
           "size": 10
          },
          "showarrow": false,
          "text": "19",
          "x": -3.749325752258301,
          "xanchor": "left",
          "xshift": 5,
          "y": 2.2947206497192383
         },
         {
          "font": {
           "color": "black",
           "size": 10
          },
          "showarrow": false,
          "text": "20",
          "x": 1.8354787826538086,
          "xanchor": "left",
          "xshift": 5,
          "y": -6.709634780883789
         },
         {
          "font": {
           "color": "black",
           "size": 10
          },
          "showarrow": false,
          "text": "21",
          "x": -3.6998023986816406,
          "xanchor": "left",
          "xshift": 5,
          "y": 2.035062551498413
         },
         {
          "font": {
           "color": "black",
           "size": 10
          },
          "showarrow": false,
          "text": "22",
          "x": -1.8128795623779297,
          "xanchor": "left",
          "xshift": 5,
          "y": 0.6585626602172852
         },
         {
          "font": {
           "color": "black",
           "size": 10
          },
          "showarrow": false,
          "text": "23",
          "x": 1.996504545211792,
          "xanchor": "left",
          "xshift": 5,
          "y": -2.523195743560791
         },
         {
          "font": {
           "color": "black",
           "size": 10
          },
          "showarrow": false,
          "text": "24",
          "x": -3.5492594242095947,
          "xanchor": "left",
          "xshift": 5,
          "y": 1.1519365310668945
         },
         {
          "font": {
           "color": "black",
           "size": 10
          },
          "showarrow": false,
          "text": "25",
          "x": 1.3805532455444336,
          "xanchor": "left",
          "xshift": 5,
          "y": 4.167619228363037
         },
         {
          "font": {
           "color": "black",
           "size": 10
          },
          "showarrow": false,
          "text": "26",
          "x": -1.4790997505187988,
          "xanchor": "left",
          "xshift": 5,
          "y": -2.7994282245635986
         },
         {
          "font": {
           "color": "black",
           "size": 10
          },
          "showarrow": false,
          "text": "27",
          "x": 3.7143237590789795,
          "xanchor": "left",
          "xshift": 5,
          "y": -1.4616196155548096
         },
         {
          "font": {
           "color": "black",
           "size": 10
          },
          "showarrow": false,
          "text": "28",
          "x": 4.517534255981445,
          "xanchor": "left",
          "xshift": 5,
          "y": -2.4671924114227295
         },
         {
          "font": {
           "color": "black",
           "size": 10
          },
          "showarrow": false,
          "text": "29",
          "x": 0.9457182884216309,
          "xanchor": "left",
          "xshift": 5,
          "y": 3.308652877807617
         },
         {
          "font": {
           "color": "black",
           "size": 10
          },
          "showarrow": false,
          "text": "30",
          "x": 1.3993057012557983,
          "xanchor": "left",
          "xshift": 5,
          "y": -8.412519454956055
         },
         {
          "font": {
           "color": "black",
           "size": 10
          },
          "showarrow": false,
          "text": "31",
          "x": -4.610002040863037,
          "xanchor": "left",
          "xshift": 5,
          "y": 1.4667224884033203
         },
         {
          "font": {
           "color": "black",
           "size": 10
          },
          "showarrow": false,
          "text": "32",
          "x": 1.515917181968689,
          "xanchor": "left",
          "xshift": 5,
          "y": -3.6767144203186035
         },
         {
          "font": {
           "color": "black",
           "size": 10
          },
          "showarrow": false,
          "text": "33",
          "x": 2.9044628143310547,
          "xanchor": "left",
          "xshift": 5,
          "y": -2.110976219177246
         },
         {
          "font": {
           "color": "black",
           "size": 10
          },
          "showarrow": false,
          "text": "34",
          "x": -0.06594672054052353,
          "xanchor": "left",
          "xshift": 5,
          "y": -4.117277145385742
         },
         {
          "font": {
           "color": "black",
           "size": 10
          },
          "showarrow": false,
          "text": "35",
          "x": 1.7431756258010864,
          "xanchor": "left",
          "xshift": 5,
          "y": -7.474530220031738
         },
         {
          "font": {
           "color": "black",
           "size": 10
          },
          "showarrow": false,
          "text": "36",
          "x": 3.6954433917999268,
          "xanchor": "left",
          "xshift": 5,
          "y": -1.9402233362197876
         },
         {
          "font": {
           "color": "black",
           "size": 10
          },
          "showarrow": false,
          "text": "37",
          "x": -1.2015564441680908,
          "xanchor": "left",
          "xshift": 5,
          "y": 6.11508846282959
         },
         {
          "font": {
           "color": "black",
           "size": 10
          },
          "showarrow": false,
          "text": "38",
          "x": -0.20197875797748566,
          "xanchor": "left",
          "xshift": 5,
          "y": 0.3776957392692566
         },
         {
          "font": {
           "color": "black",
           "size": 10
          },
          "showarrow": false,
          "text": "39",
          "x": 3.9058403968811035,
          "xanchor": "left",
          "xshift": 5,
          "y": -5.354196071624756
         },
         {
          "font": {
           "color": "black",
           "size": 10
          },
          "showarrow": false,
          "text": "40",
          "x": -2.6750447750091553,
          "xanchor": "left",
          "xshift": 5,
          "y": 5.470786094665527
         },
         {
          "font": {
           "color": "black",
           "size": 10
          },
          "showarrow": false,
          "text": "41",
          "x": 0.6226912140846252,
          "xanchor": "left",
          "xshift": 5,
          "y": -7.046304702758789
         },
         {
          "font": {
           "color": "black",
           "size": 10
          },
          "showarrow": false,
          "text": "42",
          "x": 2.292625904083252,
          "xanchor": "left",
          "xshift": 5,
          "y": -2.456406593322754
         },
         {
          "font": {
           "color": "black",
           "size": 10
          },
          "showarrow": false,
          "text": "43",
          "x": 3.759549856185913,
          "xanchor": "left",
          "xshift": 5,
          "y": -5.941127300262451
         },
         {
          "font": {
           "color": "black",
           "size": 10
          },
          "showarrow": false,
          "text": "44",
          "x": 3.404844284057617,
          "xanchor": "left",
          "xshift": 5,
          "y": -3.0559372901916504
         },
         {
          "font": {
           "color": "black",
           "size": 10
          },
          "showarrow": false,
          "text": "45",
          "x": -1.3268961906433105,
          "xanchor": "left",
          "xshift": 5,
          "y": 0.44305872917175293
         },
         {
          "font": {
           "color": "black",
           "size": 10
          },
          "showarrow": false,
          "text": "46",
          "x": -0.3503418564796448,
          "xanchor": "left",
          "xshift": 5,
          "y": -1.7226595878601074
         },
         {
          "font": {
           "color": "black",
           "size": 10
          },
          "showarrow": false,
          "text": "47",
          "x": 1.0166449546813965,
          "xanchor": "left",
          "xshift": 5,
          "y": -6.347543239593506
         },
         {
          "font": {
           "color": "black",
           "size": 10
          },
          "showarrow": false,
          "text": "48",
          "x": -4.06313419342041,
          "xanchor": "left",
          "xshift": 5,
          "y": -0.30272847414016724
         },
         {
          "font": {
           "color": "black",
           "size": 10
          },
          "showarrow": false,
          "text": "49",
          "x": 2.3218910694122314,
          "xanchor": "left",
          "xshift": 5,
          "y": -5.748601913452148
         },
         {
          "font": {
           "color": "black",
           "size": 10
          },
          "showarrow": false,
          "text": "50",
          "x": 1.8064031600952148,
          "xanchor": "left",
          "xshift": 5,
          "y": 0.699142575263977
         },
         {
          "font": {
           "color": "black",
           "size": 10
          },
          "showarrow": false,
          "text": "51",
          "x": -1.4857138395309448,
          "xanchor": "left",
          "xshift": 5,
          "y": -0.377718061208725
         },
         {
          "font": {
           "color": "black",
           "size": 10
          },
          "showarrow": false,
          "text": "52",
          "x": -0.9222230911254883,
          "xanchor": "left",
          "xshift": 5,
          "y": -3.750217914581299
         },
         {
          "font": {
           "color": "black",
           "size": 10
          },
          "showarrow": false,
          "text": "53",
          "x": -4.708117961883545,
          "xanchor": "left",
          "xshift": 5,
          "y": 0.5037495493888855
         },
         {
          "font": {
           "color": "black",
           "size": 10
          },
          "showarrow": false,
          "text": "54",
          "x": 0.3290306329727173,
          "xanchor": "left",
          "xshift": 5,
          "y": -7.982051849365234
         },
         {
          "font": {
           "color": "black",
           "size": 10
          },
          "showarrow": false,
          "text": "55",
          "x": -2.4721996784210205,
          "xanchor": "left",
          "xshift": 5,
          "y": 1.2447506189346313
         },
         {
          "font": {
           "color": "black",
           "size": 10
          },
          "showarrow": false,
          "text": "56",
          "x": 2.8042585849761963,
          "xanchor": "left",
          "xshift": 5,
          "y": -2.6049582958221436
         },
         {
          "font": {
           "color": "black",
           "size": 10
          },
          "showarrow": false,
          "text": "57",
          "x": 1.3349123001098633,
          "xanchor": "left",
          "xshift": 5,
          "y": -5.443190097808838
         },
         {
          "font": {
           "color": "black",
           "size": 10
          },
          "showarrow": false,
          "text": "58",
          "x": 1.4245284795761108,
          "xanchor": "left",
          "xshift": 5,
          "y": 3.8379313945770264
         },
         {
          "font": {
           "color": "black",
           "size": 10
          },
          "showarrow": false,
          "text": "59",
          "x": 4.481454849243164,
          "xanchor": "left",
          "xshift": 5,
          "y": -5.340882301330566
         },
         {
          "font": {
           "color": "black",
           "size": 10
          },
          "showarrow": false,
          "text": "60",
          "x": 2.025177240371704,
          "xanchor": "left",
          "xshift": 5,
          "y": -4.065212249755859
         },
         {
          "font": {
           "color": "black",
           "size": 10
          },
          "showarrow": false,
          "text": "61",
          "x": -2.0964431762695312,
          "xanchor": "left",
          "xshift": 5,
          "y": 5.689749717712402
         },
         {
          "font": {
           "color": "black",
           "size": 10
          },
          "showarrow": false,
          "text": "62",
          "x": 3.1498637199401855,
          "xanchor": "left",
          "xshift": 5,
          "y": -5.555589199066162
         },
         {
          "font": {
           "color": "black",
           "size": 10
          },
          "showarrow": false,
          "text": "63",
          "x": 0.5621182918548584,
          "xanchor": "left",
          "xshift": 5,
          "y": -3.190692186355591
         },
         {
          "font": {
           "color": "black",
           "size": 10
          },
          "showarrow": false,
          "text": "64",
          "x": 1.7188012599945068,
          "xanchor": "left",
          "xshift": 5,
          "y": 2.3769590854644775
         },
         {
          "font": {
           "color": "black",
           "size": 10
          },
          "showarrow": false,
          "text": "65",
          "x": 1.5697145462036133,
          "xanchor": "left",
          "xshift": 5,
          "y": -5.750810146331787
         },
         {
          "font": {
           "color": "black",
           "size": 10
          },
          "showarrow": false,
          "text": "66",
          "x": -0.43328991532325745,
          "xanchor": "left",
          "xshift": 5,
          "y": 5.736182689666748
         },
         {
          "font": {
           "color": "black",
           "size": 10
          },
          "showarrow": false,
          "text": "67",
          "x": 1.2178269624710083,
          "xanchor": "left",
          "xshift": 5,
          "y": 2.083404064178467
         },
         {
          "font": {
           "color": "black",
           "size": 10
          },
          "showarrow": false,
          "text": "68",
          "x": 4.729862689971924,
          "xanchor": "left",
          "xshift": 5,
          "y": -4.558928966522217
         },
         {
          "font": {
           "color": "black",
           "size": 10
          },
          "showarrow": false,
          "text": "69",
          "x": 3.2886276245117188,
          "xanchor": "left",
          "xshift": 5,
          "y": -0.8744974136352539
         },
         {
          "font": {
           "color": "black",
           "size": 10
          },
          "showarrow": false,
          "text": "70",
          "x": 0.2720459997653961,
          "xanchor": "left",
          "xshift": 5,
          "y": 2.8747406005859375
         },
         {
          "font": {
           "color": "black",
           "size": 10
          },
          "showarrow": false,
          "text": "71",
          "x": -0.1329740583896637,
          "xanchor": "left",
          "xshift": 5,
          "y": 2.1822969913482666
         },
         {
          "font": {
           "color": "black",
           "size": 10
          },
          "showarrow": false,
          "text": "72",
          "x": -0.04875468090176582,
          "xanchor": "left",
          "xshift": 5,
          "y": 1.3880254030227661
         },
         {
          "font": {
           "color": "black",
           "size": 10
          },
          "showarrow": false,
          "text": "73",
          "x": -3.4762258529663086,
          "xanchor": "left",
          "xshift": 5,
          "y": 1.3142642974853516
         },
         {
          "font": {
           "color": "black",
           "size": 10
          },
          "showarrow": false,
          "text": "74",
          "x": -0.04747811332345009,
          "xanchor": "left",
          "xshift": 5,
          "y": -2.47422194480896
         },
         {
          "font": {
           "color": "black",
           "size": 10
          },
          "showarrow": false,
          "text": "75",
          "x": 2.6070568561553955,
          "xanchor": "left",
          "xshift": 5,
          "y": -0.5712215900421143
         },
         {
          "font": {
           "color": "black",
           "size": 10
          },
          "showarrow": false,
          "text": "76",
          "x": 4.539360523223877,
          "xanchor": "left",
          "xshift": 5,
          "y": -3.878126382827759
         },
         {
          "font": {
           "color": "black",
           "size": 10
          },
          "showarrow": false,
          "text": "77",
          "x": -0.19803668558597565,
          "xanchor": "left",
          "xshift": 5,
          "y": -5.884125709533691
         },
         {
          "font": {
           "color": "black",
           "size": 10
          },
          "showarrow": false,
          "text": "78",
          "x": -4.423683166503906,
          "xanchor": "left",
          "xshift": 5,
          "y": 2.2523467540740967
         },
         {
          "font": {
           "color": "black",
           "size": 10
          },
          "showarrow": false,
          "text": "79",
          "x": -0.9075503349304199,
          "xanchor": "left",
          "xshift": 5,
          "y": -3.3281569480895996
         },
         {
          "font": {
           "color": "black",
           "size": 10
          },
          "showarrow": false,
          "text": "80",
          "x": -2.5086755752563477,
          "xanchor": "left",
          "xshift": 5,
          "y": 5.49608039855957
         },
         {
          "font": {
           "color": "black",
           "size": 10
          },
          "showarrow": false,
          "text": "81",
          "x": 0.6329083442687988,
          "xanchor": "left",
          "xshift": 5,
          "y": -6.212945461273193
         },
         {
          "font": {
           "color": "black",
           "size": 10
          },
          "showarrow": false,
          "text": "82",
          "x": -0.024260584264993668,
          "xanchor": "left",
          "xshift": 5,
          "y": -3.531787872314453
         },
         {
          "font": {
           "color": "black",
           "size": 10
          },
          "showarrow": false,
          "text": "83",
          "x": 2.7126572132110596,
          "xanchor": "left",
          "xshift": 5,
          "y": 1.2008676528930664
         },
         {
          "font": {
           "color": "black",
           "size": 10
          },
          "showarrow": false,
          "text": "84",
          "x": -4.055246353149414,
          "xanchor": "left",
          "xshift": 5,
          "y": 1.7329519987106323
         },
         {
          "font": {
           "color": "black",
           "size": 10
          },
          "showarrow": false,
          "text": "85",
          "x": -3.908006429672241,
          "xanchor": "left",
          "xshift": 5,
          "y": 0.18691082298755646
         },
         {
          "font": {
           "color": "black",
           "size": 10
          },
          "showarrow": false,
          "text": "86",
          "x": -2.2995545864105225,
          "xanchor": "left",
          "xshift": 5,
          "y": 1.0183066129684448
         },
         {
          "font": {
           "color": "black",
           "size": 10
          },
          "showarrow": false,
          "text": "87",
          "x": -1.2139370441436768,
          "xanchor": "left",
          "xshift": 5,
          "y": 1.725373387336731
         },
         {
          "font": {
           "color": "black",
           "size": 10
          },
          "showarrow": false,
          "text": "88",
          "x": -1.2306770086288452,
          "xanchor": "left",
          "xshift": 5,
          "y": -4.44040060043335
         },
         {
          "font": {
           "color": "black",
           "size": 10
          },
          "showarrow": false,
          "text": "89",
          "x": -0.2773122191429138,
          "xanchor": "left",
          "xshift": 5,
          "y": -0.6714287996292114
         },
         {
          "font": {
           "color": "black",
           "size": 10
          },
          "showarrow": false,
          "text": "90",
          "x": -1.6728423833847046,
          "xanchor": "left",
          "xshift": 5,
          "y": 5.812267303466797
         },
         {
          "font": {
           "color": "black",
           "size": 10
          },
          "showarrow": false,
          "text": "91",
          "x": 2.1706974506378174,
          "xanchor": "left",
          "xshift": 5,
          "y": -4.157124042510986
         },
         {
          "font": {
           "color": "black",
           "size": 10
          },
          "showarrow": false,
          "text": "92",
          "x": 2.282824993133545,
          "xanchor": "left",
          "xshift": 5,
          "y": 0.1583224982023239
         },
         {
          "font": {
           "color": "black",
           "size": 10
          },
          "showarrow": false,
          "text": "93",
          "x": -1.4163923263549805,
          "xanchor": "left",
          "xshift": 5,
          "y": 5.760481834411621
         },
         {
          "font": {
           "color": "black",
           "size": 10
          },
          "showarrow": false,
          "text": "94",
          "x": 2.0242795944213867,
          "xanchor": "left",
          "xshift": 5,
          "y": 3.349515914916992
         },
         {
          "font": {
           "color": "black",
           "size": 10
          },
          "showarrow": false,
          "text": "95",
          "x": 0.24667775630950928,
          "xanchor": "left",
          "xshift": 5,
          "y": 0.37354838848114014
         },
         {
          "font": {
           "color": "black",
           "size": 10
          },
          "showarrow": false,
          "text": "96",
          "x": -0.8512101769447327,
          "xanchor": "left",
          "xshift": 5,
          "y": 5.890041828155518
         },
         {
          "font": {
           "color": "black",
           "size": 10
          },
          "showarrow": false,
          "text": "97",
          "x": 0.8048482537269592,
          "xanchor": "left",
          "xshift": 5,
          "y": -5.086001396179199
         },
         {
          "font": {
           "color": "black",
           "size": 10
          },
          "showarrow": false,
          "text": "98",
          "x": 3.5889651775360107,
          "xanchor": "left",
          "xshift": 5,
          "y": -4.406518936157227
         },
         {
          "font": {
           "color": "black",
           "size": 10
          },
          "showarrow": false,
          "text": "99",
          "x": 1.6296141147613525,
          "xanchor": "left",
          "xshift": 5,
          "y": -4.664960861206055
         },
         {
          "font": {
           "color": "black",
           "size": 10
          },
          "showarrow": false,
          "text": "100",
          "x": 0.9884289503097534,
          "xanchor": "left",
          "xshift": 5,
          "y": 1.742979645729065
         }
        ],
        "height": 650,
        "template": {
         "data": {
          "bar": [
           {
            "error_x": {
             "color": "#2a3f5f"
            },
            "error_y": {
             "color": "#2a3f5f"
            },
            "marker": {
             "line": {
              "color": "#E5ECF6",
              "width": 0.5
             },
             "pattern": {
              "fillmode": "overlay",
              "size": 10,
              "solidity": 0.2
             }
            },
            "type": "bar"
           }
          ],
          "barpolar": [
           {
            "marker": {
             "line": {
              "color": "#E5ECF6",
              "width": 0.5
             },
             "pattern": {
              "fillmode": "overlay",
              "size": 10,
              "solidity": 0.2
             }
            },
            "type": "barpolar"
           }
          ],
          "carpet": [
           {
            "aaxis": {
             "endlinecolor": "#2a3f5f",
             "gridcolor": "white",
             "linecolor": "white",
             "minorgridcolor": "white",
             "startlinecolor": "#2a3f5f"
            },
            "baxis": {
             "endlinecolor": "#2a3f5f",
             "gridcolor": "white",
             "linecolor": "white",
             "minorgridcolor": "white",
             "startlinecolor": "#2a3f5f"
            },
            "type": "carpet"
           }
          ],
          "choropleth": [
           {
            "colorbar": {
             "outlinewidth": 0,
             "ticks": ""
            },
            "type": "choropleth"
           }
          ],
          "contour": [
           {
            "colorbar": {
             "outlinewidth": 0,
             "ticks": ""
            },
            "colorscale": [
             [
              0,
              "#0d0887"
             ],
             [
              0.1111111111111111,
              "#46039f"
             ],
             [
              0.2222222222222222,
              "#7201a8"
             ],
             [
              0.3333333333333333,
              "#9c179e"
             ],
             [
              0.4444444444444444,
              "#bd3786"
             ],
             [
              0.5555555555555556,
              "#d8576b"
             ],
             [
              0.6666666666666666,
              "#ed7953"
             ],
             [
              0.7777777777777778,
              "#fb9f3a"
             ],
             [
              0.8888888888888888,
              "#fdca26"
             ],
             [
              1,
              "#f0f921"
             ]
            ],
            "type": "contour"
           }
          ],
          "contourcarpet": [
           {
            "colorbar": {
             "outlinewidth": 0,
             "ticks": ""
            },
            "type": "contourcarpet"
           }
          ],
          "heatmap": [
           {
            "colorbar": {
             "outlinewidth": 0,
             "ticks": ""
            },
            "colorscale": [
             [
              0,
              "#0d0887"
             ],
             [
              0.1111111111111111,
              "#46039f"
             ],
             [
              0.2222222222222222,
              "#7201a8"
             ],
             [
              0.3333333333333333,
              "#9c179e"
             ],
             [
              0.4444444444444444,
              "#bd3786"
             ],
             [
              0.5555555555555556,
              "#d8576b"
             ],
             [
              0.6666666666666666,
              "#ed7953"
             ],
             [
              0.7777777777777778,
              "#fb9f3a"
             ],
             [
              0.8888888888888888,
              "#fdca26"
             ],
             [
              1,
              "#f0f921"
             ]
            ],
            "type": "heatmap"
           }
          ],
          "histogram": [
           {
            "marker": {
             "pattern": {
              "fillmode": "overlay",
              "size": 10,
              "solidity": 0.2
             }
            },
            "type": "histogram"
           }
          ],
          "histogram2d": [
           {
            "colorbar": {
             "outlinewidth": 0,
             "ticks": ""
            },
            "colorscale": [
             [
              0,
              "#0d0887"
             ],
             [
              0.1111111111111111,
              "#46039f"
             ],
             [
              0.2222222222222222,
              "#7201a8"
             ],
             [
              0.3333333333333333,
              "#9c179e"
             ],
             [
              0.4444444444444444,
              "#bd3786"
             ],
             [
              0.5555555555555556,
              "#d8576b"
             ],
             [
              0.6666666666666666,
              "#ed7953"
             ],
             [
              0.7777777777777778,
              "#fb9f3a"
             ],
             [
              0.8888888888888888,
              "#fdca26"
             ],
             [
              1,
              "#f0f921"
             ]
            ],
            "type": "histogram2d"
           }
          ],
          "histogram2dcontour": [
           {
            "colorbar": {
             "outlinewidth": 0,
             "ticks": ""
            },
            "colorscale": [
             [
              0,
              "#0d0887"
             ],
             [
              0.1111111111111111,
              "#46039f"
             ],
             [
              0.2222222222222222,
              "#7201a8"
             ],
             [
              0.3333333333333333,
              "#9c179e"
             ],
             [
              0.4444444444444444,
              "#bd3786"
             ],
             [
              0.5555555555555556,
              "#d8576b"
             ],
             [
              0.6666666666666666,
              "#ed7953"
             ],
             [
              0.7777777777777778,
              "#fb9f3a"
             ],
             [
              0.8888888888888888,
              "#fdca26"
             ],
             [
              1,
              "#f0f921"
             ]
            ],
            "type": "histogram2dcontour"
           }
          ],
          "mesh3d": [
           {
            "colorbar": {
             "outlinewidth": 0,
             "ticks": ""
            },
            "type": "mesh3d"
           }
          ],
          "parcoords": [
           {
            "line": {
             "colorbar": {
              "outlinewidth": 0,
              "ticks": ""
             }
            },
            "type": "parcoords"
           }
          ],
          "pie": [
           {
            "automargin": true,
            "type": "pie"
           }
          ],
          "scatter": [
           {
            "fillpattern": {
             "fillmode": "overlay",
             "size": 10,
             "solidity": 0.2
            },
            "type": "scatter"
           }
          ],
          "scatter3d": [
           {
            "line": {
             "colorbar": {
              "outlinewidth": 0,
              "ticks": ""
             }
            },
            "marker": {
             "colorbar": {
              "outlinewidth": 0,
              "ticks": ""
             }
            },
            "type": "scatter3d"
           }
          ],
          "scattercarpet": [
           {
            "marker": {
             "colorbar": {
              "outlinewidth": 0,
              "ticks": ""
             }
            },
            "type": "scattercarpet"
           }
          ],
          "scattergeo": [
           {
            "marker": {
             "colorbar": {
              "outlinewidth": 0,
              "ticks": ""
             }
            },
            "type": "scattergeo"
           }
          ],
          "scattergl": [
           {
            "marker": {
             "colorbar": {
              "outlinewidth": 0,
              "ticks": ""
             }
            },
            "type": "scattergl"
           }
          ],
          "scattermap": [
           {
            "marker": {
             "colorbar": {
              "outlinewidth": 0,
              "ticks": ""
             }
            },
            "type": "scattermap"
           }
          ],
          "scattermapbox": [
           {
            "marker": {
             "colorbar": {
              "outlinewidth": 0,
              "ticks": ""
             }
            },
            "type": "scattermapbox"
           }
          ],
          "scatterpolar": [
           {
            "marker": {
             "colorbar": {
              "outlinewidth": 0,
              "ticks": ""
             }
            },
            "type": "scatterpolar"
           }
          ],
          "scatterpolargl": [
           {
            "marker": {
             "colorbar": {
              "outlinewidth": 0,
              "ticks": ""
             }
            },
            "type": "scatterpolargl"
           }
          ],
          "scatterternary": [
           {
            "marker": {
             "colorbar": {
              "outlinewidth": 0,
              "ticks": ""
             }
            },
            "type": "scatterternary"
           }
          ],
          "surface": [
           {
            "colorbar": {
             "outlinewidth": 0,
             "ticks": ""
            },
            "colorscale": [
             [
              0,
              "#0d0887"
             ],
             [
              0.1111111111111111,
              "#46039f"
             ],
             [
              0.2222222222222222,
              "#7201a8"
             ],
             [
              0.3333333333333333,
              "#9c179e"
             ],
             [
              0.4444444444444444,
              "#bd3786"
             ],
             [
              0.5555555555555556,
              "#d8576b"
             ],
             [
              0.6666666666666666,
              "#ed7953"
             ],
             [
              0.7777777777777778,
              "#fb9f3a"
             ],
             [
              0.8888888888888888,
              "#fdca26"
             ],
             [
              1,
              "#f0f921"
             ]
            ],
            "type": "surface"
           }
          ],
          "table": [
           {
            "cells": {
             "fill": {
              "color": "#EBF0F8"
             },
             "line": {
              "color": "white"
             }
            },
            "header": {
             "fill": {
              "color": "#C8D4E3"
             },
             "line": {
              "color": "white"
             }
            },
            "type": "table"
           }
          ]
         },
         "layout": {
          "annotationdefaults": {
           "arrowcolor": "#2a3f5f",
           "arrowhead": 0,
           "arrowwidth": 1
          },
          "autotypenumbers": "strict",
          "coloraxis": {
           "colorbar": {
            "outlinewidth": 0,
            "ticks": ""
           }
          },
          "colorscale": {
           "diverging": [
            [
             0,
             "#8e0152"
            ],
            [
             0.1,
             "#c51b7d"
            ],
            [
             0.2,
             "#de77ae"
            ],
            [
             0.3,
             "#f1b6da"
            ],
            [
             0.4,
             "#fde0ef"
            ],
            [
             0.5,
             "#f7f7f7"
            ],
            [
             0.6,
             "#e6f5d0"
            ],
            [
             0.7,
             "#b8e186"
            ],
            [
             0.8,
             "#7fbc41"
            ],
            [
             0.9,
             "#4d9221"
            ],
            [
             1,
             "#276419"
            ]
           ],
           "sequential": [
            [
             0,
             "#0d0887"
            ],
            [
             0.1111111111111111,
             "#46039f"
            ],
            [
             0.2222222222222222,
             "#7201a8"
            ],
            [
             0.3333333333333333,
             "#9c179e"
            ],
            [
             0.4444444444444444,
             "#bd3786"
            ],
            [
             0.5555555555555556,
             "#d8576b"
            ],
            [
             0.6666666666666666,
             "#ed7953"
            ],
            [
             0.7777777777777778,
             "#fb9f3a"
            ],
            [
             0.8888888888888888,
             "#fdca26"
            ],
            [
             1,
             "#f0f921"
            ]
           ],
           "sequentialminus": [
            [
             0,
             "#0d0887"
            ],
            [
             0.1111111111111111,
             "#46039f"
            ],
            [
             0.2222222222222222,
             "#7201a8"
            ],
            [
             0.3333333333333333,
             "#9c179e"
            ],
            [
             0.4444444444444444,
             "#bd3786"
            ],
            [
             0.5555555555555556,
             "#d8576b"
            ],
            [
             0.6666666666666666,
             "#ed7953"
            ],
            [
             0.7777777777777778,
             "#fb9f3a"
            ],
            [
             0.8888888888888888,
             "#fdca26"
            ],
            [
             1,
             "#f0f921"
            ]
           ]
          },
          "colorway": [
           "#636efa",
           "#EF553B",
           "#00cc96",
           "#ab63fa",
           "#FFA15A",
           "#19d3f3",
           "#FF6692",
           "#B6E880",
           "#FF97FF",
           "#FECB52"
          ],
          "font": {
           "color": "#2a3f5f"
          },
          "geo": {
           "bgcolor": "white",
           "lakecolor": "white",
           "landcolor": "#E5ECF6",
           "showlakes": true,
           "showland": true,
           "subunitcolor": "white"
          },
          "hoverlabel": {
           "align": "left"
          },
          "hovermode": "closest",
          "mapbox": {
           "style": "light"
          },
          "paper_bgcolor": "white",
          "plot_bgcolor": "#E5ECF6",
          "polar": {
           "angularaxis": {
            "gridcolor": "white",
            "linecolor": "white",
            "ticks": ""
           },
           "bgcolor": "#E5ECF6",
           "radialaxis": {
            "gridcolor": "white",
            "linecolor": "white",
            "ticks": ""
           }
          },
          "scene": {
           "xaxis": {
            "backgroundcolor": "#E5ECF6",
            "gridcolor": "white",
            "gridwidth": 2,
            "linecolor": "white",
            "showbackground": true,
            "ticks": "",
            "zerolinecolor": "white"
           },
           "yaxis": {
            "backgroundcolor": "#E5ECF6",
            "gridcolor": "white",
            "gridwidth": 2,
            "linecolor": "white",
            "showbackground": true,
            "ticks": "",
            "zerolinecolor": "white"
           },
           "zaxis": {
            "backgroundcolor": "#E5ECF6",
            "gridcolor": "white",
            "gridwidth": 2,
            "linecolor": "white",
            "showbackground": true,
            "ticks": "",
            "zerolinecolor": "white"
           }
          },
          "shapedefaults": {
           "line": {
            "color": "#2a3f5f"
           }
          },
          "ternary": {
           "aaxis": {
            "gridcolor": "white",
            "linecolor": "white",
            "ticks": ""
           },
           "baxis": {
            "gridcolor": "white",
            "linecolor": "white",
            "ticks": ""
           },
           "bgcolor": "#E5ECF6",
           "caxis": {
            "gridcolor": "white",
            "linecolor": "white",
            "ticks": ""
           }
          },
          "title": {
           "x": 0.05
          },
          "xaxis": {
           "automargin": true,
           "gridcolor": "white",
           "linecolor": "white",
           "ticks": "",
           "title": {
            "standoff": 15
           },
           "zerolinecolor": "white",
           "zerolinewidth": 2
          },
          "yaxis": {
           "automargin": true,
           "gridcolor": "white",
           "linecolor": "white",
           "ticks": "",
           "title": {
            "standoff": 15
           },
           "zerolinecolor": "white",
           "zerolinewidth": 2
          }
         }
        },
        "title": {
         "text": "Comparing Students by Test Scores"
        },
        "width": 1000,
        "xaxis": {
         "title": {
          "text": "Component 1"
         }
        },
        "yaxis": {
         "title": {
          "text": "Component 2"
         }
        }
       }
      },
      "image/png": "[encoded data removed]"
     },
     "metadata": {},
     "output_type": "display_data"
    }
   ],
   "source": [
    "import plotly.graph_objects as go\n",
    "\n",
    "# Create a Plotly scatter plot with labels\n",
    "fig = go.Figure()\n",
    "\n",
    "# Scatter plot trace\n",
    "scatter_trace = go.Scatter(\n",
    "    x=X_transformed['component1'],\n",
    "    y=X_transformed['component2'],\n",
    "    mode='markers',\n",
    "    marker=dict(color='blue', size=10),\n",
    "    text=data['student_id'],  # Labels for hover\n",
    ")\n",
    "\n",
    "# Add trace to the figure\n",
    "fig.add_trace(scatter_trace)\n",
    "\n",
    "# Add data labels using annotations\n",
    "for i, label in enumerate(data['student_id']):\n",
    "    fig.add_annotation(\n",
    "        x=X_transformed['component1'].iloc[i],\n",
    "        y=X_transformed['component2'].iloc[i],\n",
    "        text=label,\n",
    "        showarrow=False,\n",
    "        xanchor='left',\n",
    "        xshift=5,\n",
    "        font=dict(color='black', size=10),\n",
    "    )\n",
    "\n",
    "# Update layout with axis labels\n",
    "fig.update_layout(\n",
    "    title='Comparing Students by Test Scores',\n",
    "    xaxis=dict(title='Component 1'),\n",
    "    yaxis=dict(title='Component 2'),\n",
    "    height=650,\n",
    "    width=1000,\n",
    ")\n",
    "\n",
    "# Show the interactive plot\n",
    "fig.show()"
   ]
  },
  {
   "cell_type": "code",
   "execution_count": null,
   "id": "977ce693-4082-40f9-b3f5-115fbf3b9b2d",
   "metadata": {},
   "outputs": [],
   "source": []
  }
 ],
 "metadata": {
  "kernelspec": {
   "display_name": "Python 3 (ipykernel)",
   "language": "python",
   "name": "python3"
  },
  "language_info": {
   "codemirror_mode": {
    "name": "ipython",
    "version": 3
   },
   "file_extension": ".py",
   "mimetype": "text/x-python",
   "name": "python",
   "nbconvert_exporter": "python",
   "pygments_lexer": "ipython3",
   "version": "3.13.3"
  }
 },
 "nbformat": 4,
 "nbformat_minor": 5
}
