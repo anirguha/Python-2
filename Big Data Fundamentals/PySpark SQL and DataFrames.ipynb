{
 "cells": [
  {
   "cell_type": "code",
   "execution_count": 3,
   "id": "1214af7a-4926-4ace-af62-e1b122bfa481",
   "metadata": {},
   "outputs": [],
   "source": [
    "from pyspark.sql import SparkSession"
   ]
  },
  {
   "cell_type": "code",
   "execution_count": 4,
   "id": "7c7f2606-291a-4a83-9a47-8cbb04c4c50e",
   "metadata": {},
   "outputs": [
    {
     "name": "stderr",
     "output_type": "stream",
     "text": [
      "25/07/04 00:08:55 WARN Utils: Your hostname, Anirbans-MacBook-Pro.local resolves to a loopback address: 127.0.0.1; using 192.168.0.149 instead (on interface en0)\n",
      "25/07/04 00:08:55 WARN Utils: Set SPARK_LOCAL_IP if you need to bind to another address\n",
      "Setting default log level to \"WARN\".\n",
      "To adjust logging level use sc.setLogLevel(newLevel). For SparkR, use setLogLevel(newLevel).\n",
      "25/07/04 00:08:56 WARN NativeCodeLoader: Unable to load native-hadoop library for your platform... using builtin-java classes where applicable\n"
     ]
    }
   ],
   "source": [
    "spark = SparkSession.builder.appName(\"PySpark SQL\").getOrCreate()\n",
    "\n",
    "spark.sparkContext.setLogLevel(\"ERROR\")"
   ]
  },
  {
   "cell_type": "code",
   "execution_count": 3,
   "id": "3aa3041d-a12d-4c3b-afd8-e4b7465e5955",
   "metadata": {},
   "outputs": [],
   "source": [
    "#Create spark DataFrames from RDD\n",
    "iphones_RDD = spark.sparkContext.parallelize([\n",
    "(\"XS\", 2018, 5.65, 2.79, 6.24),\n",
    "(\"XR\", 2018, 5.94, 2.98, 6.84),\n",
    "(\"X10\", 2017, 5.65, 2.79, 6.13),\n",
    "(\"8Plus\", 2017, 6.23, 3.07, 7.12)\n",
    "])"
   ]
  },
  {
   "cell_type": "code",
   "execution_count": 4,
   "id": "30f062bc-4b1a-4549-998a-c61095d2241d",
   "metadata": {},
   "outputs": [],
   "source": [
    "df_schema = [\"Model\",\"Year\",\"Height\",\"Width\",\"Weight\"]"
   ]
  },
  {
   "cell_type": "code",
   "execution_count": 5,
   "id": "02f052ec-b918-4b41-aa53-909b3f539208",
   "metadata": {},
   "outputs": [
    {
     "name": "stderr",
     "output_type": "stream",
     "text": [
      "                                                                                "
     ]
    }
   ],
   "source": [
    "df = spark.createDataFrame(iphones_RDD,df_schema)"
   ]
  },
  {
   "cell_type": "code",
   "execution_count": 6,
   "id": "1a1d90b0-b9dc-42c8-8dff-9ca788d48465",
   "metadata": {},
   "outputs": [
    {
     "data": {
      "text/html": [
       "<div>\n",
       "<style scoped>\n",
       "    .dataframe tbody tr th:only-of-type {\n",
       "        vertical-align: middle;\n",
       "    }\n",
       "\n",
       "    .dataframe tbody tr th {\n",
       "        vertical-align: top;\n",
       "    }\n",
       "\n",
       "    .dataframe thead th {\n",
       "        text-align: right;\n",
       "    }\n",
       "</style>\n",
       "<table border=\"1\" class=\"dataframe\">\n",
       "  <thead>\n",
       "    <tr style=\"text-align: right;\">\n",
       "      <th></th>\n",
       "      <th>Model</th>\n",
       "      <th>Year</th>\n",
       "      <th>Height</th>\n",
       "      <th>Width</th>\n",
       "      <th>Weight</th>\n",
       "    </tr>\n",
       "  </thead>\n",
       "  <tbody>\n",
       "    <tr>\n",
       "      <th>0</th>\n",
       "      <td>XS</td>\n",
       "      <td>2018</td>\n",
       "      <td>5.65</td>\n",
       "      <td>2.79</td>\n",
       "      <td>6.24</td>\n",
       "    </tr>\n",
       "    <tr>\n",
       "      <th>1</th>\n",
       "      <td>XR</td>\n",
       "      <td>2018</td>\n",
       "      <td>5.94</td>\n",
       "      <td>2.98</td>\n",
       "      <td>6.84</td>\n",
       "    </tr>\n",
       "    <tr>\n",
       "      <th>2</th>\n",
       "      <td>X10</td>\n",
       "      <td>2017</td>\n",
       "      <td>5.65</td>\n",
       "      <td>2.79</td>\n",
       "      <td>6.13</td>\n",
       "    </tr>\n",
       "    <tr>\n",
       "      <th>3</th>\n",
       "      <td>8Plus</td>\n",
       "      <td>2017</td>\n",
       "      <td>6.23</td>\n",
       "      <td>3.07</td>\n",
       "      <td>7.12</td>\n",
       "    </tr>\n",
       "  </tbody>\n",
       "</table>\n",
       "</div>"
      ],
      "text/plain": [
       "   Model  Year  Height  Width  Weight\n",
       "0     XS  2018    5.65   2.79    6.24\n",
       "1     XR  2018    5.94   2.98    6.84\n",
       "2    X10  2017    5.65   2.79    6.13\n",
       "3  8Plus  2017    6.23   3.07    7.12"
      ]
     },
     "execution_count": 6,
     "metadata": {},
     "output_type": "execute_result"
    }
   ],
   "source": [
    "df.toPandas()"
   ]
  },
  {
   "cell_type": "code",
   "execution_count": 7,
   "id": "4fc6c6f8-5ee7-4128-aa36-ccf1773a9157",
   "metadata": {},
   "outputs": [
    {
     "name": "stdout",
     "output_type": "stream",
     "text": [
      "The type of people_df is <class 'pyspark.sql.dataframe.DataFrame'>\n"
     ]
    }
   ],
   "source": [
    "# Create an DataFrame from file_path\n",
    "people_df = spark.read.csv(\"people.csv\", header=True, inferSchema=True)\n",
    "\n",
    "# Check the type of people_df\n",
    "print(\"The type of people_df is\", type(people_df))"
   ]
  },
  {
   "cell_type": "code",
   "execution_count": 8,
   "id": "97772fad-cf9d-4f00-8703-b55a20148653",
   "metadata": {},
   "outputs": [
    {
     "name": "stdout",
     "output_type": "stream",
     "text": [
      "+---+---------+----------------+------+-------------------+\n",
      "|_c0|person_id|            name|   sex|      date of birth|\n",
      "+---+---------+----------------+------+-------------------+\n",
      "|  0|      100|  Penelope Lewis|female|1990-08-31 00:00:00|\n",
      "|  1|      101|   David Anthony|  male|1971-10-14 00:00:00|\n",
      "|  2|      102|       Ida Shipp|female|1962-05-24 00:00:00|\n",
      "|  3|      103|    Joanna Moore|female|2017-03-10 00:00:00|\n",
      "|  4|      104|  Lisandra Ortiz|female|2020-08-05 00:00:00|\n",
      "|  5|      105|   David Simmons|  male|1999-12-30 00:00:00|\n",
      "|  6|      106|   Edward Hudson|  male|1983-05-09 00:00:00|\n",
      "|  7|      107|    Albert Jones|  male|1990-09-13 00:00:00|\n",
      "|  8|      108|Leonard Cavender|  male|1958-08-08 00:00:00|\n",
      "|  9|      109|  Everett Vadala|  male|2005-05-24 00:00:00|\n",
      "+---+---------+----------------+------+-------------------+\n",
      "only showing top 10 rows\n",
      "\n"
     ]
    }
   ],
   "source": [
    "people_df.show(10)"
   ]
  },
  {
   "cell_type": "code",
   "execution_count": 9,
   "id": "7f3593ff-a7b9-4922-8846-b822cb60a755",
   "metadata": {},
   "outputs": [
    {
     "data": {
      "text/plain": [
       "['_c0', 'person_id', 'name', 'sex', 'date of birth']"
      ]
     },
     "execution_count": 9,
     "metadata": {},
     "output_type": "execute_result"
    }
   ],
   "source": [
    "people_df.columns"
   ]
  },
  {
   "cell_type": "code",
   "execution_count": 10,
   "id": "5712fa3c-4f81-446a-b14f-473bc8b9e686",
   "metadata": {},
   "outputs": [
    {
     "name": "stdout",
     "output_type": "stream",
     "text": [
      "+-----------------+\n",
      "|             name|\n",
      "+-----------------+\n",
      "|   Penelope Lewis|\n",
      "|    David Anthony|\n",
      "|        Ida Shipp|\n",
      "|     Joanna Moore|\n",
      "|   Lisandra Ortiz|\n",
      "|    David Simmons|\n",
      "|    Edward Hudson|\n",
      "|     Albert Jones|\n",
      "| Leonard Cavender|\n",
      "|   Everett Vadala|\n",
      "| Freddie Claridge|\n",
      "|Annabelle Rosseau|\n",
      "|    Eulah Emanuel|\n",
      "|       Shaun Love|\n",
      "|Alejandro Brennan|\n",
      "|Robert Mcreynolds|\n",
      "|   Carla Spickard|\n",
      "|Florence Eberhart|\n",
      "|     Tina Gaskins|\n",
      "| Florence Mulhern|\n",
      "+-----------------+\n",
      "only showing top 20 rows\n",
      "\n"
     ]
    }
   ],
   "source": [
    "names_df = people_df.select(\"name\").show()"
   ]
  },
  {
   "cell_type": "code",
   "execution_count": 11,
   "id": "caa46360-901d-4f5c-9c7d-f45122ae60d2",
   "metadata": {},
   "outputs": [],
   "source": [
    "# Select name, sex and date of birth columns\n",
    "people_df_sub = people_df.select('name', 'sex', 'date of birth')"
   ]
  },
  {
   "cell_type": "code",
   "execution_count": 12,
   "id": "e39f5ab9-5571-4e04-bc27-307a283235ff",
   "metadata": {},
   "outputs": [
    {
     "name": "stdout",
     "output_type": "stream",
     "text": [
      "+----------------+------+-------------------+\n",
      "|            name|   sex|      date of birth|\n",
      "+----------------+------+-------------------+\n",
      "|  Penelope Lewis|female|1990-08-31 00:00:00|\n",
      "|   David Anthony|  male|1971-10-14 00:00:00|\n",
      "|       Ida Shipp|female|1962-05-24 00:00:00|\n",
      "|    Joanna Moore|female|2017-03-10 00:00:00|\n",
      "|  Lisandra Ortiz|female|2020-08-05 00:00:00|\n",
      "|   David Simmons|  male|1999-12-30 00:00:00|\n",
      "|   Edward Hudson|  male|1983-05-09 00:00:00|\n",
      "|    Albert Jones|  male|1990-09-13 00:00:00|\n",
      "|Leonard Cavender|  male|1958-08-08 00:00:00|\n",
      "|  Everett Vadala|  male|2005-05-24 00:00:00|\n",
      "+----------------+------+-------------------+\n",
      "only showing top 10 rows\n",
      "\n"
     ]
    }
   ],
   "source": [
    "# Print the first 10 observations from people_df_sub\n",
    "people_df_sub.show(10)"
   ]
  },
  {
   "cell_type": "code",
   "execution_count": 13,
   "id": "a0a8f530-a130-4518-842b-7e21f55f6f3d",
   "metadata": {},
   "outputs": [],
   "source": [
    "# Remove duplicate entries from people_df_sub\n",
    "people_df_sub_nodup = people_df_sub.dropDuplicates()"
   ]
  },
  {
   "cell_type": "code",
   "execution_count": 14,
   "id": "f719fff4-83ae-4534-af8c-d84a9388aed4",
   "metadata": {},
   "outputs": [
    {
     "name": "stdout",
     "output_type": "stream",
     "text": [
      "There were 100000 rows before removing duplicates, and 99998 rows after removing duplicates\n"
     ]
    }
   ],
   "source": [
    "# Count the number of rows\n",
    "print(\"There were {} rows before removing duplicates, and {} rows \\\n",
    "after removing duplicates\".format(people_df_sub.count(), people_df_sub_nodup.count()))"
   ]
  },
  {
   "cell_type": "code",
   "execution_count": 15,
   "id": "9977f3eb-6127-4530-a1cf-828db2bc73b8",
   "metadata": {},
   "outputs": [],
   "source": [
    "# Filter people_df to select females \n",
    "people_df_female = people_df.filter(people_df.sex == \"female\")"
   ]
  },
  {
   "cell_type": "code",
   "execution_count": 16,
   "id": "57374336-3379-44cf-84ba-e40da7ecd3b7",
   "metadata": {},
   "outputs": [
    {
     "name": "stdout",
     "output_type": "stream",
     "text": [
      "+---+---------+-----------------+------+-------------------+\n",
      "|_c0|person_id|             name|   sex|      date of birth|\n",
      "+---+---------+-----------------+------+-------------------+\n",
      "|  0|      100|   Penelope Lewis|female|1990-08-31 00:00:00|\n",
      "|  2|      102|        Ida Shipp|female|1962-05-24 00:00:00|\n",
      "|  3|      103|     Joanna Moore|female|2017-03-10 00:00:00|\n",
      "|  4|      104|   Lisandra Ortiz|female|2020-08-05 00:00:00|\n",
      "| 11|      111|Annabelle Rosseau|female|1989-07-13 00:00:00|\n",
      "| 12|      112|    Eulah Emanuel|female|1976-01-19 00:00:00|\n",
      "| 16|      116|   Carla Spickard|female|1985-06-13 00:00:00|\n",
      "| 17|      117|Florence Eberhart|female|2024-06-01 00:00:00|\n",
      "| 18|      118|     Tina Gaskins|female|1966-12-05 00:00:00|\n",
      "| 19|      119| Florence Mulhern|female|1959-05-31 00:00:00|\n",
      "| 21|      121|    Evelyn Kriner|female|1978-09-16 00:00:00|\n",
      "| 22|      122|     Heather Luce|female|2012-02-24 00:00:00|\n",
      "| 26|      126|      Marion Baca|female|1948-03-04 00:00:00|\n",
      "| 27|      127|       Devona Kay|female|2009-12-30 00:00:00|\n",
      "| 28|      128|   Betty Endicott|female|1992-05-01 00:00:00|\n",
      "| 30|      130|        Jane Ross|female|1965-09-12 00:00:00|\n",
      "| 34|      134|   Pauline Steele|female|1969-10-18 00:00:00|\n",
      "| 35|      135|     Anne Novotny|female|1936-02-18 00:00:00|\n",
      "| 37|      137|      Carol Noble|female|1997-02-11 00:00:00|\n",
      "| 38|      138| Constance Fulmer|female|2004-03-07 00:00:00|\n",
      "+---+---------+-----------------+------+-------------------+\n",
      "only showing top 20 rows\n",
      "\n"
     ]
    }
   ],
   "source": [
    "people_df_female.show()"
   ]
  },
  {
   "cell_type": "code",
   "execution_count": 17,
   "id": "4430059a-564d-4f90-b8a8-c328d40fb8a8",
   "metadata": {},
   "outputs": [
    {
     "name": "stdout",
     "output_type": "stream",
     "text": [
      "+---+---------+-------------------+----+-------------------+\n",
      "|_c0|person_id|               name| sex|      date of birth|\n",
      "+---+---------+-------------------+----+-------------------+\n",
      "|  1|      101|      David Anthony|male|1971-10-14 00:00:00|\n",
      "|  5|      105|      David Simmons|male|1999-12-30 00:00:00|\n",
      "|  6|      106|      Edward Hudson|male|1983-05-09 00:00:00|\n",
      "|  7|      107|       Albert Jones|male|1990-09-13 00:00:00|\n",
      "|  8|      108|   Leonard Cavender|male|1958-08-08 00:00:00|\n",
      "|  9|      109|     Everett Vadala|male|2005-05-24 00:00:00|\n",
      "| 10|      110|   Freddie Claridge|male|2002-05-07 00:00:00|\n",
      "| 13|      113|         Shaun Love|male|1970-05-26 00:00:00|\n",
      "| 14|      114|  Alejandro Brennan|male|1980-12-22 00:00:00|\n",
      "| 15|      115|  Robert Mcreynolds|male|1973-12-27 00:00:00|\n",
      "| 20|      120|         Joel Smith|male|1996-08-13 00:00:00|\n",
      "| 23|      123|        Angel Moher|male|2017-12-22 00:00:00|\n",
      "| 24|      124|    Charles Leonard|male|1972-03-09 00:00:00|\n",
      "| 25|      125|        Mark Miller|male|1976-05-11 00:00:00|\n",
      "| 29|      129|       David Bishop|male|1960-10-18 00:00:00|\n",
      "| 31|      131|      Joseph Windus|male|2029-05-27 00:00:00|\n",
      "| 32|      132|Christopher Gilbert|male|2010-09-21 00:00:00|\n",
      "| 33|      133|   Robert Salisbury|male|1965-06-22 00:00:00|\n",
      "| 36|      136|      Wilbert Glass|male|1976-10-10 00:00:00|\n",
      "| 40|      140|          Juan Dunn|male|1969-10-06 00:00:00|\n",
      "+---+---------+-------------------+----+-------------------+\n",
      "only showing top 20 rows\n",
      "\n"
     ]
    }
   ],
   "source": [
    "# Filter people_df to select males\n",
    "people_df_male = people_df.filter(people_df.sex == \"male\").show()"
   ]
  },
  {
   "cell_type": "code",
   "execution_count": 18,
   "id": "f47feb76-b6a9-49ff-8f44-b85008906691",
   "metadata": {},
   "outputs": [],
   "source": [
    "people_df.createOrReplaceTempView(\"people\")"
   ]
  },
  {
   "cell_type": "code",
   "execution_count": 19,
   "id": "64c34739-1b27-42f4-b64b-c77123c8744d",
   "metadata": {},
   "outputs": [],
   "source": [
    "# Filter the people table to select female sex \n",
    "people_female_df = spark.sql('SELECT * FROM people WHERE sex=\"female\"')"
   ]
  },
  {
   "cell_type": "code",
   "execution_count": 20,
   "id": "c13b30e5-7eed-41de-a026-d6b5b269009e",
   "metadata": {},
   "outputs": [],
   "source": [
    "# Filter the people table DataFrame to select male sex\n",
    "people_male_df = spark.sql('SELECT * FROM people WHERE sex==\"male\"')"
   ]
  },
  {
   "cell_type": "code",
   "execution_count": 21,
   "id": "117b8776-113b-43ec-90d4-b443e55194b7",
   "metadata": {},
   "outputs": [
    {
     "name": "stdout",
     "output_type": "stream",
     "text": [
      "There are 49014 rows in the people_female_df and 49066 rows in the people_male_df DataFrames\n"
     ]
    }
   ],
   "source": [
    "# Count the number of rows in both people_df_female and people_male_df DataFrames\n",
    "print(\"There are {} rows in the people_female_df and {} rows in the people_male_df DataFrames\".format(people_female_df.count(), people_male_df.count()))"
   ]
  },
  {
   "cell_type": "code",
   "execution_count": 22,
   "id": "a3932a5c-5688-4aba-b948-fd37c33011e4",
   "metadata": {},
   "outputs": [],
   "source": [
    "# Check the column names of names_df\n",
    "names_df = spark.sql('''\n",
    "                        SELECT name,\n",
    "                                year(current_date()) - year(`date of birth`) AS age\n",
    "                        FROM people\n",
    "                        '''\n",
    "                    )\n",
    "                                \n",
    "                        "
   ]
  },
  {
   "cell_type": "code",
   "execution_count": 23,
   "id": "1481620f-22b2-451e-8385-46cfd5cad82e",
   "metadata": {},
   "outputs": [
    {
     "name": "stdout",
     "output_type": "stream",
     "text": [
      "+-----------------+---+\n",
      "|             name|age|\n",
      "+-----------------+---+\n",
      "|   Penelope Lewis| 35|\n",
      "|    David Anthony| 54|\n",
      "|        Ida Shipp| 63|\n",
      "|     Joanna Moore|  8|\n",
      "|   Lisandra Ortiz|  5|\n",
      "|    David Simmons| 26|\n",
      "|    Edward Hudson| 42|\n",
      "|     Albert Jones| 35|\n",
      "| Leonard Cavender| 67|\n",
      "|   Everett Vadala| 20|\n",
      "| Freddie Claridge| 23|\n",
      "|Annabelle Rosseau| 36|\n",
      "|    Eulah Emanuel| 49|\n",
      "|       Shaun Love| 55|\n",
      "|Alejandro Brennan| 45|\n",
      "|Robert Mcreynolds| 52|\n",
      "|   Carla Spickard| 40|\n",
      "|Florence Eberhart|  1|\n",
      "|     Tina Gaskins| 59|\n",
      "| Florence Mulhern| 66|\n",
      "+-----------------+---+\n",
      "only showing top 20 rows\n",
      "\n"
     ]
    }
   ],
   "source": [
    "names_df.show()"
   ]
  },
  {
   "cell_type": "code",
   "execution_count": 24,
   "id": "fe370b46-5c96-468e-8732-57ce89f02b3a",
   "metadata": {},
   "outputs": [
    {
     "name": "stdout",
     "output_type": "stream",
     "text": [
      "root\n",
      " |-- name: string (nullable = true)\n",
      " |-- sex: string (nullable = true)\n",
      " |-- date of birth: timestamp (nullable = true)\n",
      "\n"
     ]
    }
   ],
   "source": [
    "people_df_sub_nodup.printSchema()"
   ]
  },
  {
   "cell_type": "code",
   "execution_count": 25,
   "id": "baaa2280-6fbf-485e-a7c5-30cbcd8a260d",
   "metadata": {},
   "outputs": [
    {
     "name": "stdout",
     "output_type": "stream",
     "text": [
      "The column names of names_df are ['name', 'age']\n"
     ]
    }
   ],
   "source": [
    "# Check the column names of names_df\n",
    "print(\"The column names of names_df are\", names_df.columns)"
   ]
  },
  {
   "cell_type": "code",
   "execution_count": 26,
   "id": "76d0ed85-4d69-4824-83f7-6e1f150d5de1",
   "metadata": {},
   "outputs": [
    {
     "data": {
      "text/html": [
       "<div>\n",
       "<style scoped>\n",
       "    .dataframe tbody tr th:only-of-type {\n",
       "        vertical-align: middle;\n",
       "    }\n",
       "\n",
       "    .dataframe tbody tr th {\n",
       "        vertical-align: top;\n",
       "    }\n",
       "\n",
       "    .dataframe thead th {\n",
       "        text-align: right;\n",
       "    }\n",
       "</style>\n",
       "<table border=\"1\" class=\"dataframe\">\n",
       "  <thead>\n",
       "    <tr style=\"text-align: right;\">\n",
       "      <th></th>\n",
       "      <th>name</th>\n",
       "      <th>age</th>\n",
       "    </tr>\n",
       "  </thead>\n",
       "  <tbody>\n",
       "    <tr>\n",
       "      <th>0</th>\n",
       "      <td>Penelope Lewis</td>\n",
       "      <td>35</td>\n",
       "    </tr>\n",
       "    <tr>\n",
       "      <th>1</th>\n",
       "      <td>David Anthony</td>\n",
       "      <td>54</td>\n",
       "    </tr>\n",
       "    <tr>\n",
       "      <th>2</th>\n",
       "      <td>Ida Shipp</td>\n",
       "      <td>63</td>\n",
       "    </tr>\n",
       "    <tr>\n",
       "      <th>3</th>\n",
       "      <td>Joanna Moore</td>\n",
       "      <td>8</td>\n",
       "    </tr>\n",
       "    <tr>\n",
       "      <th>4</th>\n",
       "      <td>Lisandra Ortiz</td>\n",
       "      <td>5</td>\n",
       "    </tr>\n",
       "    <tr>\n",
       "      <th>...</th>\n",
       "      <td>...</td>\n",
       "      <td>...</td>\n",
       "    </tr>\n",
       "    <tr>\n",
       "      <th>99995</th>\n",
       "      <td>Annette Jones</td>\n",
       "      <td>24</td>\n",
       "    </tr>\n",
       "    <tr>\n",
       "      <th>99996</th>\n",
       "      <td>Angela Meyer</td>\n",
       "      <td>45</td>\n",
       "    </tr>\n",
       "    <tr>\n",
       "      <th>99997</th>\n",
       "      <td>Janet Brann</td>\n",
       "      <td>34</td>\n",
       "    </tr>\n",
       "    <tr>\n",
       "      <th>99998</th>\n",
       "      <td>Melanie Kendrick</td>\n",
       "      <td>47</td>\n",
       "    </tr>\n",
       "    <tr>\n",
       "      <th>99999</th>\n",
       "      <td>James Grappe</td>\n",
       "      <td>25</td>\n",
       "    </tr>\n",
       "  </tbody>\n",
       "</table>\n",
       "<p>100000 rows × 2 columns</p>\n",
       "</div>"
      ],
      "text/plain": [
       "                   name  age\n",
       "0        Penelope Lewis   35\n",
       "1         David Anthony   54\n",
       "2             Ida Shipp   63\n",
       "3          Joanna Moore    8\n",
       "4        Lisandra Ortiz    5\n",
       "...                 ...  ...\n",
       "99995     Annette Jones   24\n",
       "99996      Angela Meyer   45\n",
       "99997       Janet Brann   34\n",
       "99998  Melanie Kendrick   47\n",
       "99999      James Grappe   25\n",
       "\n",
       "[100000 rows x 2 columns]"
      ]
     },
     "execution_count": 26,
     "metadata": {},
     "output_type": "execute_result"
    }
   ],
   "source": [
    "# Convert to Pandas DataFrame  \n",
    "df_pandas = names_df.toPandas()\n",
    "\n",
    "df_pandas"
   ]
  },
  {
   "cell_type": "code",
   "execution_count": null,
   "id": "f80319f5-9dfa-4702-ae3a-361d14952c1d",
   "metadata": {},
   "outputs": [
    {
     "data": {
      "text/plain": [
       "<Axes: ylabel='name'>"
      ]
     },
     "execution_count": 27,
     "metadata": {},
     "output_type": "execute_result"
    }
   ],
   "source": [
    "from matplotlib import pyplot as plt\n",
    "\n",
    "#Plot histogram based\n",
    "df_pandas.plot(kind='barh',x='name',y='age')"
   ]
  },
  {
   "cell_type": "code",
   "execution_count": null,
   "id": "6c74f611-62dc-4621-a3b0-1a1880b72315",
   "metadata": {},
   "outputs": [],
   "source": [
    "# Load the Dataframe\n",
    "file_path = \"Fifa2018_dataset.csv\"\n",
    "fifa_df = spark.read.csv(file_path, header=True, inferSchema=True)\n",
    "\n",
    "# Check the schema of columns\n",
    "fifa_df.printSchema()\n",
    "\n",
    "# Show the first 10 observations\n",
    "print(fifa_df.limit(10).toPandas())\n",
    "\n",
    "# Print the total number of rows\n",
    "print(\"There are {} rows in the fifa_df DataFrame\".format(fifa_df.count()))"
   ]
  },
  {
   "cell_type": "code",
   "execution_count": 5,
   "id": "8218cefd-cf82-4ad4-92c4-b3b65c3a69ee",
   "metadata": {},
   "outputs": [],
   "source": [
    "spark.stop()"
   ]
  },
  {
   "cell_type": "code",
   "execution_count": null,
   "id": "fa255140-baca-44b1-bdc4-95020cdaa9e7",
   "metadata": {},
   "outputs": [],
   "source": []
  }
 ],
 "metadata": {
  "kernelspec": {
   "display_name": "PySpark (pyspark_env)",
   "language": "python",
   "name": "pyspark_env"
  },
  "language_info": {
   "codemirror_mode": {
    "name": "ipython",
    "version": 3
   },
   "file_extension": ".py",
   "mimetype": "text/x-python",
   "name": "python",
   "nbconvert_exporter": "python",
   "pygments_lexer": "ipython3",
   "version": "3.10.18"
  }
 },
 "nbformat": 4,
 "nbformat_minor": 5
}
