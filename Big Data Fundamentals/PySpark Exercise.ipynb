{
 "cells": [
  {
   "cell_type": "code",
   "execution_count": 1,
   "id": "5165b309-a70c-49c4-8ef6-354924cdfd5f",
   "metadata": {},
   "outputs": [],
   "source": [
    "from pyspark.sql import SparkSession"
   ]
  },
  {
   "cell_type": "code",
   "execution_count": 3,
   "id": "2886810a-2042-4d85-931c-ccac83e07f0e",
   "metadata": {},
   "outputs": [
    {
     "name": "stderr",
     "output_type": "stream",
     "text": [
      "25/07/03 19:57:23 WARN Utils: Your hostname, Anirbans-MacBook-Pro.local resolves to a loopback address: 127.0.0.1; using 192.168.0.149 instead (on interface en0)\n",
      "25/07/03 19:57:23 WARN Utils: Set SPARK_LOCAL_IP if you need to bind to another address\n",
      "Setting default log level to \"WARN\".\n",
      "To adjust logging level use sc.setLogLevel(newLevel). For SparkR, use setLogLevel(newLevel).\n",
      "25/07/03 19:57:24 WARN NativeCodeLoader: Unable to load native-hadoop library for your platform... using builtin-java classes where applicable\n",
      "25/07/03 19:57:24 WARN Utils: Service 'SparkUI' could not bind on port 4040. Attempting port 4041.\n"
     ]
    }
   ],
   "source": [
    "spark = SparkSession.builder.appName(\"Counting word\").getOrCreate()"
   ]
  },
  {
   "cell_type": "code",
   "execution_count": 4,
   "id": "61ee6a8b-b8ca-4ca4-8e7f-45621f5df35b",
   "metadata": {},
   "outputs": [
    {
     "name": "stdout",
     "output_type": "stream",
     "text": [
      "3.4.1\n"
     ]
    }
   ],
   "source": [
    "#Create spark Context\n",
    "sc = spark.sparkContext\n",
    "\n",
    "print(sc.version)"
   ]
  },
  {
   "cell_type": "code",
   "execution_count": 14,
   "id": "33194291-08e3-4b25-8145-592ab1780717",
   "metadata": {},
   "outputs": [],
   "source": [
    "#Create base RDD from filepath\n",
    "file_path = \"Complete_Shakespeare.txt\"\n",
    "baseRDD = sc.textFile(file_path)\n"
   ]
  },
  {
   "cell_type": "code",
   "execution_count": 15,
   "id": "3234570c-244b-4ede-b04f-4170aa159a9b",
   "metadata": {},
   "outputs": [],
   "source": [
    "#split the lines of baseRDD into words\n",
    "splitRDD = baseRDD.flatMap(lambda x:x.split())"
   ]
  },
  {
   "cell_type": "code",
   "execution_count": 16,
   "id": "6d6a1677-9229-49ae-b929-0dd8a852a266",
   "metadata": {},
   "outputs": [
    {
     "data": {
      "text/plain": [
       "128576"
      ]
     },
     "execution_count": 16,
     "metadata": {},
     "output_type": "execute_result"
    }
   ],
   "source": [
    "splitRDD.count()"
   ]
  },
  {
   "cell_type": "code",
   "execution_count": 10,
   "id": "636c10a0-753d-4a35-b044-c3c59addc6aa",
   "metadata": {},
   "outputs": [
    {
     "data": {
      "text/plain": [
       "['The',\n",
       " 'Project',\n",
       " 'Gutenberg',\n",
       " 'EBook',\n",
       " 'of',\n",
       " 'The',\n",
       " 'Complete',\n",
       " 'Works',\n",
       " 'of',\n",
       " 'William']"
      ]
     },
     "execution_count": 10,
     "metadata": {},
     "output_type": "execute_result"
    }
   ],
   "source": [
    "splitRDD.take(10)"
   ]
  },
  {
   "cell_type": "code",
   "execution_count": 11,
   "id": "d7dd551c-6b71-4328-b085-a5fcecb048cf",
   "metadata": {},
   "outputs": [],
   "source": [
    "splitRDD2 = baseRDD.map(lambda x:x.split())"
   ]
  },
  {
   "cell_type": "code",
   "execution_count": 19,
   "id": "eb3a7e75-4ab0-4e21-b05b-a8752e2fa540",
   "metadata": {},
   "outputs": [
    {
     "data": {
      "text/plain": [
       "18014"
      ]
     },
     "execution_count": 19,
     "metadata": {},
     "output_type": "execute_result"
    }
   ],
   "source": [
    "baseRDD.count()"
   ]
  },
  {
   "cell_type": "code",
   "execution_count": 20,
   "id": "c65a693b-4600-4743-97b4-b7650bfe146a",
   "metadata": {},
   "outputs": [],
   "source": [
    "spark.stop()"
   ]
  },
  {
   "cell_type": "code",
   "execution_count": null,
   "id": "6ba16549-ede0-4893-8c9e-002f5a5d0298",
   "metadata": {},
   "outputs": [],
   "source": []
  }
 ],
 "metadata": {
  "kernelspec": {
   "display_name": "Python 3 (ipykernel)",
   "language": "python",
   "name": "python3"
  },
  "language_info": {
   "codemirror_mode": {
    "name": "ipython",
    "version": 3
   },
   "file_extension": ".py",
   "mimetype": "text/x-python",
   "name": "python",
   "nbconvert_exporter": "python",
   "pygments_lexer": "ipython3",
   "version": "3.10.18"
  }
 },
 "nbformat": 4,
 "nbformat_minor": 5
}
