{
 "cells": [
  {
   "metadata": {
    "ExecuteTime": {
     "end_time": "2025-07-04T06:18:19.736365Z",
     "start_time": "2025-07-04T06:18:19.733046Z"
    }
   },
   "cell_type": "code",
   "source": "from pyspark.sql import SparkSession",
   "id": "1612228a02e1cf8c",
   "outputs": [],
   "execution_count": 13
  },
  {
   "metadata": {
    "ExecuteTime": {
     "end_time": "2025-07-04T06:18:22.381697Z",
     "start_time": "2025-07-04T06:18:19.766397Z"
    }
   },
   "cell_type": "code",
   "source": [
    "spark = SparkSession.builder.appName(\"PySpark MLLib\").getOrCreate()\n",
    "\n",
    "spark.sparkContext.setLogLevel(\"ERROR\")"
   ],
   "id": "9a7f2897e1fb44c4",
   "outputs": [
    {
     "name": "stderr",
     "output_type": "stream",
     "text": [
      "25/07/04 11:48:21 WARN Utils: Your hostname, Anirbans-MacBook-Pro.local resolves to a loopback address: 127.0.0.1; using 192.168.0.149 instead (on interface en0)\n",
      "25/07/04 11:48:21 WARN Utils: Set SPARK_LOCAL_IP if you need to bind to another address\n",
      "Setting default log level to \"WARN\".\n",
      "To adjust logging level use sc.setLogLevel(newLevel). For SparkR, use setLogLevel(newLevel).\n",
      "25/07/04 11:48:21 WARN NativeCodeLoader: Unable to load native-hadoop library for your platform... using builtin-java classes where applicable\n"
     ]
    }
   ],
   "execution_count": 14
  },
  {
   "metadata": {
    "ExecuteTime": {
     "end_time": "2025-07-04T06:18:22.398077Z",
     "start_time": "2025-07-04T06:18:22.393540Z"
    }
   },
   "cell_type": "code",
   "source": [
    "# Import the library for ALS\n",
    "from pyspark.mllib.recommendation import ALS, Rating\n"
   ],
   "id": "ed9dd86474301e74",
   "outputs": [],
   "execution_count": 15
  },
  {
   "metadata": {
    "ExecuteTime": {
     "end_time": "2025-07-04T06:18:22.411596Z",
     "start_time": "2025-07-04T06:18:22.407923Z"
    }
   },
   "cell_type": "code",
   "source": [
    "# Import the library for Logistic Regression\n",
    "from pyspark.mllib.classification import LogisticRegressionWithLBFGS"
   ],
   "id": "b948bb71f19c7fc5",
   "outputs": [],
   "execution_count": 16
  },
  {
   "metadata": {
    "ExecuteTime": {
     "end_time": "2025-07-04T06:18:22.515103Z",
     "start_time": "2025-07-04T06:18:22.421508Z"
    }
   },
   "cell_type": "code",
   "source": [
    "# Import the library for Kmeans\n",
    "from pyspark.mllib.clustering import KMeans"
   ],
   "id": "35d90ebb66853972",
   "outputs": [],
   "execution_count": 17
  },
  {
   "metadata": {
    "ExecuteTime": {
     "end_time": "2025-07-04T06:18:22.528016Z",
     "start_time": "2025-07-04T06:18:22.525811Z"
    }
   },
   "cell_type": "code",
   "source": "sc = spark.sparkContext",
   "id": "48bc9ab8817d287",
   "outputs": [],
   "execution_count": 18
  },
  {
   "metadata": {},
   "cell_type": "markdown",
   "source": "### Collaborative Filtering",
   "id": "fedf0f6542bb5ccf"
  },
  {
   "metadata": {
    "ExecuteTime": {
     "end_time": "2025-07-04T06:18:23.407340Z",
     "start_time": "2025-07-04T06:18:22.540533Z"
    }
   },
   "cell_type": "code",
   "source": [
    "# Load the data into RDD\n",
    "data = sc.textFile(\"ratings.csv\")"
   ],
   "id": "6cfbba9fc6811cd1",
   "outputs": [],
   "execution_count": 19
  },
  {
   "metadata": {
    "ExecuteTime": {
     "end_time": "2025-07-04T06:18:24.360924Z",
     "start_time": "2025-07-04T06:18:23.418146Z"
    }
   },
   "cell_type": "code",
   "source": "data.count()",
   "id": "cf55c9fb4651f0e5",
   "outputs": [
    {
     "name": "stderr",
     "output_type": "stream",
     "text": [
      "                                                                                \r"
     ]
    },
    {
     "data": {
      "text/plain": [
       "100004"
      ]
     },
     "execution_count": 20,
     "metadata": {},
     "output_type": "execute_result"
    }
   ],
   "execution_count": 20
  },
  {
   "metadata": {
    "ExecuteTime": {
     "end_time": "2025-07-04T06:18:24.479840Z",
     "start_time": "2025-07-04T06:18:24.378846Z"
    }
   },
   "cell_type": "code",
   "source": "data.take(10)",
   "id": "8e9900c8587485ce",
   "outputs": [
    {
     "data": {
      "text/plain": [
       "['1,31,2.5,1260759144',\n",
       " '1,1029,3.0,1260759179',\n",
       " '1,1061,3.0,1260759182',\n",
       " '1,1129,2.0,1260759185',\n",
       " '1,1172,4.0,1260759205',\n",
       " '1,1263,2.0,1260759151',\n",
       " '1,1287,2.0,1260759187',\n",
       " '1,1293,2.0,1260759148',\n",
       " '1,1339,3.5,1260759125',\n",
       " '1,1343,2.0,1260759131']"
      ]
     },
     "execution_count": 21,
     "metadata": {},
     "output_type": "execute_result"
    }
   ],
   "execution_count": 21
  },
  {
   "metadata": {
    "ExecuteTime": {
     "end_time": "2025-07-04T06:18:24.495660Z",
     "start_time": "2025-07-04T06:18:24.492459Z"
    }
   },
   "cell_type": "code",
   "source": [
    "# Split the RDD \n",
    "ratings = data.map(lambda l: l.split(','))"
   ],
   "id": "45e7f359bba2501d",
   "outputs": [],
   "execution_count": 22
  },
  {
   "metadata": {
    "ExecuteTime": {
     "end_time": "2025-07-04T06:18:24.605651Z",
     "start_time": "2025-07-04T06:18:24.511606Z"
    }
   },
   "cell_type": "code",
   "source": "ratings.take(10)",
   "id": "7b54520e62af3f58",
   "outputs": [
    {
     "data": {
      "text/plain": [
       "[['1', '31', '2.5', '1260759144'],\n",
       " ['1', '1029', '3.0', '1260759179'],\n",
       " ['1', '1061', '3.0', '1260759182'],\n",
       " ['1', '1129', '2.0', '1260759185'],\n",
       " ['1', '1172', '4.0', '1260759205'],\n",
       " ['1', '1263', '2.0', '1260759151'],\n",
       " ['1', '1287', '2.0', '1260759187'],\n",
       " ['1', '1293', '2.0', '1260759148'],\n",
       " ['1', '1339', '3.5', '1260759125'],\n",
       " ['1', '1343', '2.0', '1260759131']]"
      ]
     },
     "execution_count": 23,
     "metadata": {},
     "output_type": "execute_result"
    }
   ],
   "execution_count": 23
  },
  {
   "metadata": {
    "ExecuteTime": {
     "end_time": "2025-07-04T06:18:24.621776Z",
     "start_time": "2025-07-04T06:18:24.618718Z"
    }
   },
   "cell_type": "code",
   "source": [
    "# Transform the ratings RDD \n",
    "ratings_final = ratings.map(lambda line: Rating(int(line[0]), \n",
    "                                    int(line[1]), float(line[2])))"
   ],
   "id": "7367c3b32fd3019",
   "outputs": [],
   "execution_count": 24
  },
  {
   "metadata": {
    "ExecuteTime": {
     "end_time": "2025-07-04T06:18:25.133497Z",
     "start_time": "2025-07-04T06:18:24.644554Z"
    }
   },
   "cell_type": "code",
   "source": "ratings_final.take(10)",
   "id": "b41ee4321b8ff663",
   "outputs": [
    {
     "data": {
      "text/plain": [
       "[Rating(user=1, product=31, rating=2.5),\n",
       " Rating(user=1, product=1029, rating=3.0),\n",
       " Rating(user=1, product=1061, rating=3.0),\n",
       " Rating(user=1, product=1129, rating=2.0),\n",
       " Rating(user=1, product=1172, rating=4.0),\n",
       " Rating(user=1, product=1263, rating=2.0),\n",
       " Rating(user=1, product=1287, rating=2.0),\n",
       " Rating(user=1, product=1293, rating=2.0),\n",
       " Rating(user=1, product=1339, rating=3.5),\n",
       " Rating(user=1, product=1343, rating=2.0)]"
      ]
     },
     "execution_count": 25,
     "metadata": {},
     "output_type": "execute_result"
    }
   ],
   "execution_count": 25
  },
  {
   "metadata": {
    "ExecuteTime": {
     "end_time": "2025-07-04T06:18:25.154374Z",
     "start_time": "2025-07-04T06:18:25.151579Z"
    }
   },
   "cell_type": "code",
   "source": [
    "# Split the data into training and test\n",
    "training_data, test_data = ratings_final.randomSplit([0.8, 0.2])"
   ],
   "id": "c703ab9e617cf011",
   "outputs": [],
   "execution_count": 26
  },
  {
   "metadata": {
    "ExecuteTime": {
     "end_time": "2025-07-04T06:18:25.718779Z",
     "start_time": "2025-07-04T06:18:25.173814Z"
    }
   },
   "cell_type": "code",
   "source": "training_data.count()",
   "id": "fc876843d947878c",
   "outputs": [
    {
     "name": "stderr",
     "output_type": "stream",
     "text": [
      "                                                                                \r"
     ]
    },
    {
     "data": {
      "text/plain": [
       "79833"
      ]
     },
     "execution_count": 27,
     "metadata": {},
     "output_type": "execute_result"
    }
   ],
   "execution_count": 27
  },
  {
   "metadata": {
    "ExecuteTime": {
     "end_time": "2025-07-04T06:18:25.909478Z",
     "start_time": "2025-07-04T06:18:25.731398Z"
    }
   },
   "cell_type": "code",
   "source": "test_data.count()",
   "id": "b45fed3d39aa9d16",
   "outputs": [
    {
     "data": {
      "text/plain": [
       "20171"
      ]
     },
     "execution_count": 28,
     "metadata": {},
     "output_type": "execute_result"
    }
   ],
   "execution_count": 28
  },
  {
   "metadata": {
    "ExecuteTime": {
     "end_time": "2025-07-04T06:18:29.604017Z",
     "start_time": "2025-07-04T06:18:25.924907Z"
    }
   },
   "cell_type": "code",
   "source": [
    "# Create the ALS model on the training data\n",
    "model = ALS.train(training_data, rank=10, iterations=10)"
   ],
   "id": "386f8c5f851ff210",
   "outputs": [
    {
     "name": "stderr",
     "output_type": "stream",
     "text": [
      "                                                                                \r"
     ]
    }
   ],
   "execution_count": 29
  },
  {
   "metadata": {
    "ExecuteTime": {
     "end_time": "2025-07-04T06:18:29.618597Z",
     "start_time": "2025-07-04T06:18:29.616094Z"
    }
   },
   "cell_type": "code",
   "source": [
    "# Drop the ratings' column\n",
    "testdata_no_rating = test_data.map(lambda p: (p[0], p[1]))"
   ],
   "id": "86ad4ebabc672b80",
   "outputs": [],
   "execution_count": 30
  },
  {
   "metadata": {
    "ExecuteTime": {
     "end_time": "2025-07-04T06:18:29.725176Z",
     "start_time": "2025-07-04T06:18:29.633394Z"
    }
   },
   "cell_type": "code",
   "source": "testdata_no_rating.take(10)",
   "id": "8707fbbd9dd23224",
   "outputs": [
    {
     "data": {
      "text/plain": [
       "[(1, 1339),\n",
       " (1, 1953),\n",
       " (2, 17),\n",
       " (2, 165),\n",
       " (2, 168),\n",
       " (2, 186),\n",
       " (2, 235),\n",
       " (2, 266),\n",
       " (2, 296),\n",
       " (2, 317)]"
      ]
     },
     "execution_count": 31,
     "metadata": {},
     "output_type": "execute_result"
    }
   ],
   "execution_count": 31
  },
  {
   "metadata": {
    "ExecuteTime": {
     "end_time": "2025-07-04T06:18:30.401765Z",
     "start_time": "2025-07-04T06:18:29.737461Z"
    }
   },
   "cell_type": "code",
   "source": [
    "# Predict the model  \n",
    "predictions = model.predictAll(testdata_no_rating)"
   ],
   "id": "87b6121404333f71",
   "outputs": [],
   "execution_count": 32
  },
  {
   "metadata": {
    "ExecuteTime": {
     "end_time": "2025-07-04T06:18:30.766346Z",
     "start_time": "2025-07-04T06:18:30.407480Z"
    }
   },
   "cell_type": "code",
   "source": "predictions.take(10)",
   "id": "c9d2c665c57810df",
   "outputs": [
    {
     "data": {
      "text/plain": [
       "[Rating(user=320, product=96610, rating=2.5024925448306736),\n",
       " Rating(user=73, product=96610, rating=3.867860972271602),\n",
       " Rating(user=15, product=96610, rating=5.7313678840264295),\n",
       " Rating(user=157, product=96610, rating=3.44984957476378),\n",
       " Rating(user=199, product=96610, rating=3.4849315617077354),\n",
       " Rating(user=390, product=1410, rating=3.297622519185163),\n",
       " Rating(user=547, product=6400, rating=2.393467483963014),\n",
       " Rating(user=475, product=64030, rating=1.0108051973538563),\n",
       " Rating(user=61, product=4890, rating=1.439919945741912),\n",
       " Rating(user=431, product=4890, rating=3.3758840778777204)]"
      ]
     },
     "execution_count": 33,
     "metadata": {},
     "output_type": "execute_result"
    }
   ],
   "execution_count": 33
  },
  {
   "metadata": {
    "ExecuteTime": {
     "end_time": "2025-07-04T06:18:30.789273Z",
     "start_time": "2025-07-04T06:18:30.786341Z"
    }
   },
   "cell_type": "code",
   "source": [
    "# Prepare ratings data\n",
    "rates = ratings_final.map(lambda r: ((r[0], r[1]), r[2]))"
   ],
   "id": "8a25f6759ac1c1ab",
   "outputs": [],
   "execution_count": 34
  },
  {
   "metadata": {
    "ExecuteTime": {
     "end_time": "2025-07-04T06:18:30.894021Z",
     "start_time": "2025-07-04T06:18:30.808195Z"
    }
   },
   "cell_type": "code",
   "source": "rates.take(10)",
   "id": "37278adbf1341a1d",
   "outputs": [
    {
     "data": {
      "text/plain": [
       "[((1, 31), 2.5),\n",
       " ((1, 1029), 3.0),\n",
       " ((1, 1061), 3.0),\n",
       " ((1, 1129), 2.0),\n",
       " ((1, 1172), 4.0),\n",
       " ((1, 1263), 2.0),\n",
       " ((1, 1287), 2.0),\n",
       " ((1, 1293), 2.0),\n",
       " ((1, 1339), 3.5),\n",
       " ((1, 1343), 2.0)]"
      ]
     },
     "execution_count": 35,
     "metadata": {},
     "output_type": "execute_result"
    }
   ],
   "execution_count": 35
  },
  {
   "metadata": {
    "ExecuteTime": {
     "end_time": "2025-07-04T06:18:30.910662Z",
     "start_time": "2025-07-04T06:18:30.907347Z"
    }
   },
   "cell_type": "code",
   "source": [
    "# Prepare predictions data\n",
    "preds = predictions.map(lambda r: ((r[0], r[1]), r[2]))"
   ],
   "id": "13988f6884ab7999",
   "outputs": [],
   "execution_count": 36
  },
  {
   "metadata": {
    "ExecuteTime": {
     "end_time": "2025-07-04T06:18:31.383296Z",
     "start_time": "2025-07-04T06:18:30.926588Z"
    }
   },
   "cell_type": "code",
   "source": "preds.take(10)",
   "id": "4f0695951b775adf",
   "outputs": [
    {
     "data": {
      "text/plain": [
       "[((320, 96610), 2.5024925448306736),\n",
       " ((73, 96610), 3.867860972271602),\n",
       " ((15, 96610), 5.7313678840264295),\n",
       " ((157, 96610), 3.44984957476378),\n",
       " ((199, 96610), 3.4849315617077354),\n",
       " ((390, 1410), 3.297622519185163),\n",
       " ((547, 6400), 2.393467483963014),\n",
       " ((475, 64030), 1.0108051973538563),\n",
       " ((61, 4890), 1.439919945741912),\n",
       " ((431, 4890), 3.3758840778777204)]"
      ]
     },
     "execution_count": 37,
     "metadata": {},
     "output_type": "execute_result"
    }
   ],
   "execution_count": 37
  },
  {
   "metadata": {
    "ExecuteTime": {
     "end_time": "2025-07-04T06:18:31.424235Z",
     "start_time": "2025-07-04T06:18:31.400333Z"
    }
   },
   "cell_type": "code",
   "source": [
    "# Join the ratings' data with predictions' data\n",
    "rates_and_preds = rates.join(preds)"
   ],
   "id": "7e7b1374f8f05203",
   "outputs": [],
   "execution_count": 38
  },
  {
   "metadata": {
    "ExecuteTime": {
     "end_time": "2025-07-04T06:18:33.153081Z",
     "start_time": "2025-07-04T06:18:31.441118Z"
    }
   },
   "cell_type": "code",
   "source": "rates_and_preds.take(10)",
   "id": "1f2a354a3ff50830",
   "outputs": [
    {
     "name": "stderr",
     "output_type": "stream",
     "text": [
      "                                                                                \r"
     ]
    },
    {
     "data": {
      "text/plain": [
       "[((2, 168), (3.0, 2.921115579944778)),\n",
       " ((2, 500), (4.0, 3.5344255018186668)),\n",
       " ((2, 720), (4.0, 4.983888146593366)),\n",
       " ((4, 594), (5.0, 4.684457245043945)),\n",
       " ((4, 1206), (5.0, 4.595818652417037)),\n",
       " ((4, 1858), (5.0, 3.2085678414306757)),\n",
       " ((4, 2454), (5.0, 4.720485089944806)),\n",
       " ((4, 2770), (1.0, 2.3771253054411368)),\n",
       " ((5, 2997), (3.5, 3.919641824068764)),\n",
       " ((5, 30793), (3.5, 3.7962436625399674))]"
      ]
     },
     "execution_count": 39,
     "metadata": {},
     "output_type": "execute_result"
    }
   ],
   "execution_count": 39
  },
  {
   "metadata": {
    "ExecuteTime": {
     "end_time": "2025-07-04T06:18:33.436473Z",
     "start_time": "2025-07-04T06:18:33.179241Z"
    }
   },
   "cell_type": "code",
   "source": [
    "# Calculate and print MSE\n",
    "MSE = rates_and_preds.map(lambda r: (r[1][0] - r[1][1])**2).mean()\n",
    "print(\"Mean Squared Error of the model for the test data = {:.2f}\".format(MSE))"
   ],
   "id": "bf37d218026da963",
   "outputs": [
    {
     "name": "stdout",
     "output_type": "stream",
     "text": [
      "Mean Squared Error of the model for the test data = 1.35\n"
     ]
    }
   ],
   "execution_count": 40
  },
  {
   "metadata": {},
   "cell_type": "markdown",
   "source": "### Classification",
   "id": "3bfb63304e25fd26"
  },
  {
   "metadata": {
    "ExecuteTime": {
     "end_time": "2025-07-04T06:18:33.508910Z",
     "start_time": "2025-07-04T06:18:33.456844Z"
    }
   },
   "cell_type": "code",
   "source": [
    "# Load the datasets into RDDs\n",
    "spam_rdd = sc.textFile(\"spam.txt\")\n",
    "non_spam_rdd = sc.textFile(\"ham.txt\")"
   ],
   "id": "cd4b23ba587b9f93",
   "outputs": [],
   "execution_count": 41
  },
  {
   "metadata": {
    "ExecuteTime": {
     "end_time": "2025-07-04T06:18:33.630902Z",
     "start_time": "2025-07-04T06:18:33.523173Z"
    }
   },
   "cell_type": "code",
   "source": "non_spam_rdd.take(10)",
   "id": "854a3aba307d8739",
   "outputs": [
    {
     "data": {
      "text/plain": [
       "['Rofl. Its true to its name',\n",
       " \"The guy did some bitching but I acted like i'd be interested in buying something else next week and he gave it to us for free\",\n",
       " 'Pity, * was in mood for that. So...any other suggestions?',\n",
       " 'Will Ã¼ b going to esplanade fr home?',\n",
       " 'Huh y lei...',\n",
       " \"Why don't you wait 'til at least wednesday to see if you get your .\",\n",
       " 'Ard 6 like dat lor.',\n",
       " 'Ok lor... Sony ericsson salesman... I ask shuhui then she say quite gd 2 use so i considering...',\n",
       " 'Get me out of this dump heap. My mom decided to come to lowes. BORING.',\n",
       " 'Anything lor. Juz both of us lor.']"
      ]
     },
     "execution_count": 42,
     "metadata": {},
     "output_type": "execute_result"
    }
   ],
   "execution_count": 42
  },
  {
   "metadata": {
    "ExecuteTime": {
     "end_time": "2025-07-04T06:18:33.648901Z",
     "start_time": "2025-07-04T06:18:33.645507Z"
    }
   },
   "cell_type": "code",
   "source": [
    "# Split the email messages into words\n",
    "spam_words = spam_rdd.flatMap(lambda email: email.split(' '))\n",
    "non_spam_words = non_spam_rdd.flatMap(lambda email: email.split(' '))"
   ],
   "id": "a6cfc1756d4ea7c7",
   "outputs": [],
   "execution_count": 43
  },
  {
   "metadata": {
    "ExecuteTime": {
     "end_time": "2025-07-04T06:18:33.747639Z",
     "start_time": "2025-07-04T06:18:33.669755Z"
    }
   },
   "cell_type": "code",
   "source": "non_spam_words.take(10)",
   "id": "a96d8f0f83103bc1",
   "outputs": [
    {
     "data": {
      "text/plain": [
       "['Rofl.', 'Its', 'true', 'to', 'its', 'name', 'The', 'guy', 'did', 'some']"
      ]
     },
     "execution_count": 44,
     "metadata": {},
     "output_type": "execute_result"
    }
   ],
   "execution_count": 44
  },
  {
   "metadata": {
    "ExecuteTime": {
     "end_time": "2025-07-04T06:18:33.932394Z",
     "start_time": "2025-07-04T06:18:33.761402Z"
    }
   },
   "cell_type": "code",
   "source": [
    "# Print the first element in the split RDD\n",
    "print(\"The first element in spam_words is\", spam_words.first())\n",
    "print(\"The first element in non_spam_words is\", non_spam_words.first())"
   ],
   "id": "13cdf9922d094db8",
   "outputs": [
    {
     "name": "stdout",
     "output_type": "stream",
     "text": [
      "The first element in spam_words is You\n",
      "The first element in non_spam_words is Rofl.\n"
     ]
    }
   ],
   "execution_count": 45
  },
  {
   "metadata": {
    "ExecuteTime": {
     "end_time": "2025-07-04T06:18:33.948483Z",
     "start_time": "2025-07-04T06:18:33.945622Z"
    }
   },
   "cell_type": "code",
   "source": "from pyspark.mllib.feature import HashingTF",
   "id": "1b5ef8904870be62",
   "outputs": [],
   "execution_count": 46
  },
  {
   "metadata": {
    "ExecuteTime": {
     "end_time": "2025-07-04T06:18:33.965818Z",
     "start_time": "2025-07-04T06:18:33.962925Z"
    }
   },
   "cell_type": "code",
   "source": [
    "# Create a HashingTF instance with 200 features\n",
    "\n",
    "tf = HashingTF(numFeatures=200)"
   ],
   "id": "7cb26f9288bc4da2",
   "outputs": [],
   "execution_count": 47
  },
  {
   "metadata": {
    "ExecuteTime": {
     "end_time": "2025-07-04T06:18:33.985873Z",
     "start_time": "2025-07-04T06:18:33.983448Z"
    }
   },
   "cell_type": "code",
   "source": "print(tf)",
   "id": "de631b60370367bc",
   "outputs": [
    {
     "name": "stdout",
     "output_type": "stream",
     "text": [
      "<pyspark.mllib.feature.HashingTF object at 0x11471ffd0>\n"
     ]
    }
   ],
   "execution_count": 48
  },
  {
   "metadata": {
    "ExecuteTime": {
     "end_time": "2025-07-04T06:18:34.008698Z",
     "start_time": "2025-07-04T06:18:34.005347Z"
    }
   },
   "cell_type": "code",
   "source": [
    "# Map each word to one feature\n",
    "spam_features = tf.transform(spam_words)\n",
    "non_spam_features = tf.transform(non_spam_words)"
   ],
   "id": "4a632954a8dc14ee",
   "outputs": [],
   "execution_count": 49
  },
  {
   "metadata": {
    "ExecuteTime": {
     "end_time": "2025-07-04T06:18:34.049341Z",
     "start_time": "2025-07-04T06:18:34.046487Z"
    }
   },
   "cell_type": "code",
   "source": "from pyspark.mllib.regression import LabeledPoint",
   "id": "c028e82cfeff97c6",
   "outputs": [],
   "execution_count": 50
  },
  {
   "metadata": {
    "ExecuteTime": {
     "end_time": "2025-07-04T06:18:34.069842Z",
     "start_time": "2025-07-04T06:18:34.066899Z"
    }
   },
   "cell_type": "code",
   "source": [
    "# Label the features: 1 for spam, 0 for non-spam\n",
    "spam_samples = spam_features.map(lambda features:LabeledPoint(1, features))\n",
    "non_spam_samples = non_spam_features.map(lambda features:LabeledPoint(0, features))"
   ],
   "id": "fd7ce27cff946536",
   "outputs": [],
   "execution_count": 51
  },
  {
   "metadata": {
    "ExecuteTime": {
     "end_time": "2025-07-04T06:18:34.093974Z",
     "start_time": "2025-07-04T06:18:34.089985Z"
    }
   },
   "cell_type": "code",
   "source": [
    "# Combine the two datasets\n",
    "samples = spam_samples.union(non_spam_samples)"
   ],
   "id": "8f37e5e0812fb087",
   "outputs": [],
   "execution_count": 52
  },
  {
   "metadata": {
    "ExecuteTime": {
     "end_time": "2025-07-04T06:18:34.321155Z",
     "start_time": "2025-07-04T06:18:34.116296Z"
    }
   },
   "cell_type": "code",
   "source": "samples.take(10)",
   "id": "9b296c737704b5a9",
   "outputs": [
    {
     "data": {
      "text/plain": [
       "[LabeledPoint(1.0, (200,[103,111,119],[1.0,1.0,1.0])),\n",
       " LabeledPoint(1.0, (200,[14,89,193,199],[1.0,1.0,1.0,1.0])),\n",
       " LabeledPoint(1.0, (200,[82],[1.0])),\n",
       " LabeledPoint(1.0, (200,[83,149,193],[1.0,1.0,1.0])),\n",
       " LabeledPoint(1.0, (200,[1,64,89,162,168,193],[1.0,2.0,1.0,1.0,1.0,2.0])),\n",
       " LabeledPoint(1.0, (200,[64,87,89,136,193],[1.0,1.0,1.0,1.0,2.0])),\n",
       " LabeledPoint(1.0, (200,[89,136,156],[1.0,2.0,1.0])),\n",
       " LabeledPoint(1.0, (200,[58,82,98,104,105,162,183],[1.0,1.0,5.0,1.0,1.0,1.0,2.0])),\n",
       " LabeledPoint(1.0, (200,[83,104,154,163,168,181,193],[1.0,1.0,1.0,1.0,1.0,1.0,1.0])),\n",
       " LabeledPoint(1.0, (200,[64,87,89,136,193],[1.0,1.0,1.0,1.0,2.0]))]"
      ]
     },
     "execution_count": 53,
     "metadata": {},
     "output_type": "execute_result"
    }
   ],
   "execution_count": 53
  },
  {
   "metadata": {
    "ExecuteTime": {
     "end_time": "2025-07-04T06:18:34.347796Z",
     "start_time": "2025-07-04T06:18:34.344372Z"
    }
   },
   "cell_type": "code",
   "source": [
    "# Split the data into training and testing\n",
    "train_samples,test_samples = samples.randomSplit([0.8, 0.2])"
   ],
   "id": "45c1365edb9802fc",
   "outputs": [],
   "execution_count": 54
  },
  {
   "metadata": {
    "ExecuteTime": {
     "end_time": "2025-07-04T06:18:34.574474Z",
     "start_time": "2025-07-04T06:18:34.368230Z"
    }
   },
   "cell_type": "code",
   "source": "test_samples.take(10)",
   "id": "a92898d2ba9e7ecf",
   "outputs": [
    {
     "data": {
      "text/plain": [
       "[LabeledPoint(1.0, (200,[14,89,193,199],[1.0,1.0,1.0,1.0])),\n",
       " LabeledPoint(1.0, (200,[82],[1.0])),\n",
       " LabeledPoint(1.0, (200,[98,105,133,165],[1.0,2.0,1.0,7.0])),\n",
       " LabeledPoint(1.0, (200,[181,183,193,199],[1.0,1.0,1.0,1.0])),\n",
       " LabeledPoint(1.0, (200,[64,82,83,87,89,98,102,103,104,108,109,111,118,121,124,133,144,149,156,162,163,168,183,184,189,193,194,195,199],[2.0,2.0,1.0,1.0,1.0,1.0,1.0,1.0,2.0,2.0,1.0,6.0,2.0,2.0,1.0,1.0,1.0,1.0,1.0,1.0,1.0,1.0,2.0,1.0,1.0,1.0,1.0,1.0,1.0])),\n",
       " LabeledPoint(1.0, (200,[108,127,136],[1.0,1.0,1.0])),\n",
       " LabeledPoint(1.0, (200,[14,89,193,199],[1.0,1.0,1.0,1.0])),\n",
       " LabeledPoint(1.0, (200,[89],[1.0])),\n",
       " LabeledPoint(1.0, (200,[1,89,104,118,144,193],[1.0,1.0,2.0,1.0,1.0,1.0])),\n",
       " LabeledPoint(1.0, (200,[40,89,104,136,162,193,199],[1.0,1.0,1.0,1.0,1.0,2.0,1.0]))]"
      ]
     },
     "execution_count": 55,
     "metadata": {},
     "output_type": "execute_result"
    }
   ],
   "execution_count": 55
  },
  {
   "metadata": {
    "ExecuteTime": {
     "end_time": "2025-07-04T06:18:42.182241Z",
     "start_time": "2025-07-04T06:18:34.594338Z"
    }
   },
   "cell_type": "code",
   "source": [
    "# Train the model\n",
    "model = LogisticRegressionWithLBFGS.train(train_samples)"
   ],
   "id": "b31465678cfe28a8",
   "outputs": [
    {
     "name": "stderr",
     "output_type": "stream",
     "text": [
      "                                                                                \r"
     ]
    }
   ],
   "execution_count": 56
  },
  {
   "metadata": {
    "ExecuteTime": {
     "end_time": "2025-07-04T06:18:42.199679Z",
     "start_time": "2025-07-04T06:18:42.196617Z"
    }
   },
   "cell_type": "code",
   "source": [
    "# Create a prediction label from the test data\n",
    "predictions = model.predict(test_samples.map(lambda x: x.features))"
   ],
   "id": "ca9e584197bc5d9c",
   "outputs": [],
   "execution_count": 57
  },
  {
   "metadata": {
    "ExecuteTime": {
     "end_time": "2025-07-04T06:18:42.398376Z",
     "start_time": "2025-07-04T06:18:42.217693Z"
    }
   },
   "cell_type": "code",
   "source": "predictions.take(10)",
   "id": "d9a45c7c592df97b",
   "outputs": [
    {
     "data": {
      "text/plain": [
       "[0, 1, 1, 0, 0, 0, 0, 0, 0, 0]"
      ]
     },
     "execution_count": 58,
     "metadata": {},
     "output_type": "execute_result"
    }
   ],
   "execution_count": 58
  },
  {
   "metadata": {
    "ExecuteTime": {
     "end_time": "2025-07-04T06:18:42.431968Z",
     "start_time": "2025-07-04T06:18:42.417624Z"
    }
   },
   "cell_type": "code",
   "source": [
    "# Combine original labels with the predicted labels\n",
    "labels_and_preds = test_samples.map(lambda x: x.label).zip(predictions)"
   ],
   "id": "bbe0494afca3d7ba",
   "outputs": [],
   "execution_count": 59
  },
  {
   "metadata": {
    "ExecuteTime": {
     "end_time": "2025-07-04T06:18:42.645904Z",
     "start_time": "2025-07-04T06:18:42.449007Z"
    }
   },
   "cell_type": "code",
   "source": "labels_and_preds.take(10)",
   "id": "7d3eb1ab3068d196",
   "outputs": [
    {
     "data": {
      "text/plain": [
       "[(1.0, 0),\n",
       " (1.0, 1),\n",
       " (1.0, 1),\n",
       " (1.0, 0),\n",
       " (1.0, 0),\n",
       " (1.0, 0),\n",
       " (1.0, 0),\n",
       " (1.0, 0),\n",
       " (1.0, 0),\n",
       " (1.0, 0)]"
      ]
     },
     "execution_count": 60,
     "metadata": {},
     "output_type": "execute_result"
    }
   ],
   "execution_count": 60
  },
  {
   "metadata": {
    "ExecuteTime": {
     "end_time": "2025-07-04T06:18:44.454685Z",
     "start_time": "2025-07-04T06:18:42.661773Z"
    }
   },
   "cell_type": "code",
   "source": [
    "# Check the accuracy of the model on the test data\n",
    "accuracy = labels_and_preds.filter(lambda x: x[0] == x[1]).count() / float(test_samples.count())\n",
    "print(\"Model accuracy : {:.2f}\".format(accuracy))"
   ],
   "id": "35150bc070a275c8",
   "outputs": [
    {
     "name": "stderr",
     "output_type": "stream",
     "text": [
      "                                                                                \r"
     ]
    },
    {
     "name": "stdout",
     "output_type": "stream",
     "text": [
      "Model accuracy : 0.82\n"
     ]
    }
   ],
   "execution_count": 61
  },
  {
   "metadata": {
    "ExecuteTime": {
     "end_time": "2025-07-04T06:18:44.475536Z",
     "start_time": "2025-07-04T06:18:44.472239Z"
    }
   },
   "cell_type": "code",
   "source": [
    "from pyspark.mllib.linalg import Vectors\n",
    "\n",
    "# Create a sparse vector\n",
    "sparseVec = Vectors.sparse(10, {1: 1.0, 3: 5.5})\n",
    "print(sparseVec)"
   ],
   "id": "d258bdd3942e256",
   "outputs": [
    {
     "name": "stdout",
     "output_type": "stream",
     "text": [
      "(10,[1,3],[1.0,5.5])\n"
     ]
    }
   ],
   "execution_count": 62
  },
  {
   "metadata": {
    "ExecuteTime": {
     "end_time": "2025-07-04T06:18:44.501081Z",
     "start_time": "2025-07-04T06:18:44.497500Z"
    }
   },
   "cell_type": "code",
   "source": "sparseVec.toArray()",
   "id": "8f25ce6e428e2ed4",
   "outputs": [
    {
     "data": {
      "text/plain": [
       "array([0. , 1. , 0. , 5.5, 0. , 0. , 0. , 0. , 0. , 0. ])"
      ]
     },
     "execution_count": 63,
     "metadata": {},
     "output_type": "execute_result"
    }
   ],
   "execution_count": 63
  },
  {
   "metadata": {
    "ExecuteTime": {
     "end_time": "2025-07-04T06:18:44.526616Z",
     "start_time": "2025-07-04T06:18:44.523576Z"
    }
   },
   "cell_type": "code",
   "source": [
    "denseVec = Vectors.dense([1.0, 2.0, 3.0])\n",
    "print(denseVec)"
   ],
   "id": "3cb56f7868543b25",
   "outputs": [
    {
     "name": "stdout",
     "output_type": "stream",
     "text": [
      "[1.0,2.0,3.0]\n"
     ]
    }
   ],
   "execution_count": 64
  },
  {
   "metadata": {
    "ExecuteTime": {
     "end_time": "2025-07-04T06:18:44.560541Z",
     "start_time": "2025-07-04T06:18:44.557071Z"
    }
   },
   "cell_type": "code",
   "source": "denseVec.toArray()",
   "id": "d41481361022da71",
   "outputs": [
    {
     "data": {
      "text/plain": [
       "array([1., 2., 3.])"
      ]
     },
     "execution_count": 65,
     "metadata": {},
     "output_type": "execute_result"
    }
   ],
   "execution_count": 65
  },
  {
   "metadata": {
    "ExecuteTime": {
     "end_time": "2025-07-04T06:25:59.869135Z",
     "start_time": "2025-07-04T06:25:59.866276Z"
    }
   },
   "cell_type": "code",
   "source": [
    "sentence = \"This is a world of Python and we are using PySpark. This world is different and used in machine learning. Python and PySpark are key tools\"\n",
    "words = sentence.split()\n",
    "tf = HashingTF(100)\n",
    "sv = tf.transform(words)"
   ],
   "id": "71fcfd78c1f3a06",
   "outputs": [],
   "execution_count": 75
  },
  {
   "metadata": {
    "ExecuteTime": {
     "end_time": "2025-07-04T06:28:43.761205Z",
     "start_time": "2025-07-04T06:28:43.756411Z"
    }
   },
   "cell_type": "code",
   "source": "sv",
   "id": "323ac6b718742861",
   "outputs": [
    {
     "data": {
      "text/plain": [
       "SparseVector(100, {7: 1.0, 13: 1.0, 20: 3.0, 22: 1.0, 31: 1.0, 43: 1.0, 44: 2.0, 45: 4.0, 51: 2.0, 52: 1.0, 54: 2.0, 61: 1.0, 71: 1.0, 83: 2.0, 86: 1.0, 93: 1.0, 98: 1.0})"
      ]
     },
     "execution_count": 79,
     "metadata": {},
     "output_type": "execute_result"
    }
   ],
   "execution_count": 79
  },
  {
   "metadata": {
    "ExecuteTime": {
     "end_time": "2025-07-04T06:33:28.084315Z",
     "start_time": "2025-07-04T06:33:28.077948Z"
    }
   },
   "cell_type": "code",
   "source": [
    "from collections import defaultdict\n",
    "\n",
    "sentence = \"This is a world of Python and we are using PySpark. This world is different and used in machine learning. Python and PySpark are key tools\"\n",
    "words = sentence.split()\n",
    "\n",
    "num_features = 100\n",
    "tf = HashingTF(num_features)\n",
    "\n",
    "# Get the SparseVector from HashingTF\n",
    "sv = tf.transform(words)\n",
    "\n",
    "# Create a mapping from token → hashed index\n",
    "token_to_index = {token: tf.indexOf(token) for token in words}\n",
    "\n",
    "# Count how many times each index occurs (TF per index)\n",
    "index_to_value = defaultdict(float)\n",
    "for token in words:\n",
    "    index = tf.indexOf(token)\n",
    "    index_to_value[index] += 1.0\n",
    "\n",
    "# Show token, feature index, and value\n",
    "for token in set(words):\n",
    "    index = token_to_index[token]\n",
    "    value = index_to_value[index]\n",
    "    print(f\"Token: {token:<10} → Index: {index:<5} → Feature Value: {value}\")"
   ],
   "id": "3b2c121728269974",
   "outputs": [
    {
     "name": "stdout",
     "output_type": "stream",
     "text": [
      "Token: we         → Index: 61    → Feature Value: 1.0\n",
      "Token: PySpark.   → Index: 43    → Feature Value: 1.0\n",
      "Token: used       → Index: 71    → Feature Value: 1.0\n",
      "Token: This       → Index: 44    → Feature Value: 2.0\n",
      "Token: is         → Index: 51    → Feature Value: 2.0\n",
      "Token: a          → Index: 13    → Feature Value: 1.0\n",
      "Token: machine    → Index: 22    → Feature Value: 1.0\n",
      "Token: key        → Index: 86    → Feature Value: 1.0\n",
      "Token: using      → Index: 20    → Feature Value: 3.0\n",
      "Token: are        → Index: 20    → Feature Value: 3.0\n",
      "Token: and        → Index: 45    → Feature Value: 4.0\n",
      "Token: learning.  → Index: 45    → Feature Value: 4.0\n",
      "Token: Python     → Index: 54    → Feature Value: 2.0\n",
      "Token: tools      → Index: 93    → Feature Value: 1.0\n",
      "Token: world      → Index: 83    → Feature Value: 2.0\n",
      "Token: of         → Index: 52    → Feature Value: 1.0\n",
      "Token: different  → Index: 98    → Feature Value: 1.0\n",
      "Token: in         → Index: 31    → Feature Value: 1.0\n",
      "Token: PySpark    → Index: 7     → Feature Value: 1.0\n"
     ]
    }
   ],
   "execution_count": 80
  },
  {
   "metadata": {},
   "cell_type": "markdown",
   "source": "### Clustering using K-Means algorithm",
   "id": "2a5f166123f4802e"
  },
  {
   "metadata": {
    "ExecuteTime": {
     "end_time": "2025-07-04T06:57:58.756764Z",
     "start_time": "2025-07-04T06:57:58.753023Z"
    }
   },
   "cell_type": "code",
   "source": "from pyspark.mllib.clustering import KMeans",
   "id": "c46f4b9be33a96e4",
   "outputs": [],
   "execution_count": 81
  },
  {
   "metadata": {
    "ExecuteTime": {
     "end_time": "2025-07-04T07:06:35.746835Z",
     "start_time": "2025-07-04T07:06:35.729022Z"
    }
   },
   "cell_type": "code",
   "source": [
    "# Load the dataset into an RDD\n",
    "clusterRDD = sc.textFile(\"5000_points.txt\")"
   ],
   "id": "829dbf5c8ffe5950",
   "outputs": [],
   "execution_count": 82
  },
  {
   "metadata": {
    "ExecuteTime": {
     "end_time": "2025-07-04T07:07:21.533047Z",
     "start_time": "2025-07-04T07:07:21.528258Z"
    }
   },
   "cell_type": "code",
   "source": [
    "# Split the RDD based on tab\n",
    "rdd_split = clusterRDD.map(lambda x: x.split('\\t'))"
   ],
   "id": "ec5790686cb14d0e",
   "outputs": [],
   "execution_count": 84
  },
  {
   "metadata": {
    "ExecuteTime": {
     "end_time": "2025-07-04T07:07:55.580667Z",
     "start_time": "2025-07-04T07:07:55.576983Z"
    }
   },
   "cell_type": "code",
   "source": [
    "# Transform the split RDD by creating a list of integers\n",
    "rdd_split_int = rdd_split.map(lambda x: [int(x[0]), int(x[1])])"
   ],
   "id": "2ec261e3837c8ba3",
   "outputs": [],
   "execution_count": 86
  },
  {
   "metadata": {
    "ExecuteTime": {
     "end_time": "2025-07-04T07:08:11.075561Z",
     "start_time": "2025-07-04T07:08:10.964241Z"
    }
   },
   "cell_type": "code",
   "source": [
    "# Count the number of rows in RDD\n",
    "print(\"There are {} rows in the rdd_split_int dataset\".format(rdd_split_int.count()))"
   ],
   "id": "45cd83aca89125d0",
   "outputs": [
    {
     "name": "stdout",
     "output_type": "stream",
     "text": [
      "There are 5000 rows in the rdd_split_int dataset\n"
     ]
    }
   ],
   "execution_count": 87
  },
  {
   "metadata": {
    "ExecuteTime": {
     "end_time": "2025-07-04T07:27:44.906316Z",
     "start_time": "2025-07-04T07:27:44.902726Z"
    }
   },
   "cell_type": "code",
   "source": [
    "from math import sqrt\n",
    "\n",
    "def error(point):\n",
    "    center = model.centers[model.predict(point)]\n",
    "    return sqrt(sum((x - y) ** 2 for x, y in zip(point, center)))"
   ],
   "id": "9b29ee1cfae211a1",
   "outputs": [],
   "execution_count": 94
  },
  {
   "metadata": {
    "ExecuteTime": {
     "end_time": "2025-07-04T07:32:45.664067Z",
     "start_time": "2025-07-04T07:32:42.981786Z"
    }
   },
   "cell_type": "code",
   "source": [
    "#Store K, WSSSE pairs\n",
    "errors = []\n",
    "\n",
    "# Train the model with clusters from 13 to 16 and compute WSSSE\n",
    "for clst in range(13, 17):\n",
    "    model = KMeans.train(rdd_split_int, clst, seed=1)\n",
    "    WSSSE = rdd_split_int.map(lambda point: error(point)).reduce(lambda x, y: x + y)\n",
    "    errors.append((clst, WSSSE))\n",
    "    print(f'k={clst}, WSSSE={WSSSE}')"
   ],
   "id": "9bdaf019158d0290",
   "outputs": [
    {
     "name": "stdout",
     "output_type": "stream",
     "text": [
      "k=13, WSSSE=252060331.1260039\n",
      "k=14, WSSSE=215808893.2796594\n",
      "k=15, WSSSE=169394691.52639425\n",
      "k=16, WSSSE=168103213.0429197\n"
     ]
    }
   ],
   "execution_count": 99
  },
  {
   "metadata": {
    "ExecuteTime": {
     "end_time": "2025-07-04T07:40:35.905424Z",
     "start_time": "2025-07-04T07:40:35.902459Z"
    }
   },
   "cell_type": "code",
   "source": [
    "print(errors)\n",
    "#Get the minimum k using the elbow method\n",
    "best_k = min(errors, key=lambda x: x[1])[0]\n",
    "print(f'best k = {best_k}')"
   ],
   "id": "2ebdbd3d16a99bd5",
   "outputs": [
    {
     "name": "stdout",
     "output_type": "stream",
     "text": [
      "[(13, 252060331.1260039), (14, 215808893.2796594), (15, 169394691.52639425), (16, 168103213.0429197)]\n",
      "best k = 16\n"
     ]
    }
   ],
   "execution_count": 104
  },
  {
   "metadata": {
    "ExecuteTime": {
     "end_time": "2025-07-04T07:41:45.542818Z",
     "start_time": "2025-07-04T07:41:44.556274Z"
    }
   },
   "cell_type": "code",
   "source": [
    "# Train the model again with the best k\n",
    "model = KMeans.train(rdd_split_int, k=best_k, seed=1)"
   ],
   "id": "8ba45909cbbe4328",
   "outputs": [],
   "execution_count": 105
  },
  {
   "metadata": {
    "ExecuteTime": {
     "end_time": "2025-07-04T07:50:43.069703Z",
     "start_time": "2025-07-04T07:50:43.066722Z"
    }
   },
   "cell_type": "code",
   "source": [
    "# Get cluster centers\n",
    "cluster_centers = model.clusterCenters"
   ],
   "id": "e220b2e77ff8d103",
   "outputs": [],
   "execution_count": 108
  },
  {
   "metadata": {
    "ExecuteTime": {
     "end_time": "2025-07-04T07:50:44.550827Z",
     "start_time": "2025-07-04T07:50:44.544181Z"
    }
   },
   "cell_type": "code",
   "source": "cluster_centers",
   "id": "405bc0603459bff",
   "outputs": [
    {
     "data": {
      "text/plain": [
       "[array([417799.69426752, 787001.99363057]),\n",
       " array([852058.45259939, 157685.52293578]),\n",
       " array([858947.9713467 , 546259.65902579]),\n",
       " array([381158.4040404 , 394705.36868687]),\n",
       " array([670929.06818182, 862765.73295455]),\n",
       " array([167529.        , 347702.66966967]),\n",
       " array([617926.67761194, 399415.94925373]),\n",
       " array([507818.31339031, 175610.41595442]),\n",
       " array([320602.55, 161521.85]),\n",
       " array([244654.8856305 , 847642.04105572]),\n",
       " array([823421.2507837 , 731145.27272727]),\n",
       " array([606574.95622896, 574455.16835017]),\n",
       " array([801616.78164557, 321123.34177215]),\n",
       " array([337565.11890244, 562157.17682927]),\n",
       " array([139682.37572254, 558123.40462428]),\n",
       " array([420849.46103896, 417929.49350649])]"
      ]
     },
     "execution_count": 109,
     "metadata": {},
     "output_type": "execute_result"
    }
   ],
   "execution_count": 109
  },
  {
   "metadata": {
    "ExecuteTime": {
     "end_time": "2025-07-04T07:54:10.193899Z",
     "start_time": "2025-07-04T07:54:09.191847Z"
    }
   },
   "cell_type": "code",
   "source": [
    "#Visualizing clusters\n",
    "# Convert rdd_split_int RDD into Spark DataFrame and then to Pandas DataFrame\n",
    "rdd_split_int_df_pandas = spark.createDataFrame(rdd_split_int, schema=[\"col1\", \"col2\"]).toPandas()"
   ],
   "id": "f96c625773251689",
   "outputs": [],
   "execution_count": 110
  },
  {
   "metadata": {
    "ExecuteTime": {
     "end_time": "2025-07-04T07:55:01.165403Z",
     "start_time": "2025-07-04T07:55:01.161512Z"
    }
   },
   "cell_type": "code",
   "source": "import pandas as pd",
   "id": "fa2ac922f7d39e7",
   "outputs": [],
   "execution_count": 112
  },
  {
   "metadata": {
    "ExecuteTime": {
     "end_time": "2025-07-04T07:55:04.656068Z",
     "start_time": "2025-07-04T07:55:04.652931Z"
    }
   },
   "cell_type": "code",
   "source": [
    "# Convert cluster_centers to a pandas DataFrame\n",
    "cluster_centers_pandas = pd.DataFrame(cluster_centers, columns=[\"col1\", \"col2\"])"
   ],
   "id": "339279c14911453a",
   "outputs": [],
   "execution_count": 113
  },
  {
   "metadata": {
    "ExecuteTime": {
     "end_time": "2025-07-04T07:55:52.365791Z",
     "start_time": "2025-07-04T07:55:51.924797Z"
    }
   },
   "cell_type": "code",
   "source": "from matplotlib import pyplot as plt",
   "id": "d4783755aba2fb5f",
   "outputs": [],
   "execution_count": 115
  },
  {
   "metadata": {
    "ExecuteTime": {
     "end_time": "2025-07-04T07:56:27.618027Z",
     "start_time": "2025-07-04T07:56:27.480673Z"
    }
   },
   "cell_type": "code",
   "source": [
    "# Create an overlaid scatter plot of clusters and centroids\n",
    "plt.scatter(rdd_split_int_df_pandas[\"col1\"], rdd_split_int_df_pandas[\"col2\"],color='green', marker='o')\n",
    "plt.scatter(cluster_centers_pandas[\"col1\"], cluster_centers_pandas[\"col2\"], color=\"red\", marker=\"x\")\n",
    "plt.show()"
   ],
   "id": "b3bebe69a5be234f",
   "outputs": [
    {
     "data": {
      "text/plain": [
       "<Figure size 640x480 with 1 Axes>"
      ],
      "image/png": "[encoded data removed]"
     },
     "metadata": {},
     "output_type": "display_data"
    }
   ],
   "execution_count": 117
  },
  {
   "metadata": {},
   "cell_type": "code",
   "outputs": [],
   "execution_count": null,
   "source": "",
   "id": "e761d7346b4b96ef"
  }
 ],
 "metadata": {
  "kernelspec": {
   "display_name": "PySpark (pyspark_env)",
   "language": "python",
   "name": "pyspark_env"
  },
  "language_info": {
   "codemirror_mode": {
    "name": "ipython",
    "version": 3
   },
   "file_extension": ".py",
   "mimetype": "text/x-python",
   "name": "python",
   "nbconvert_exporter": "python",
   "pygments_lexer": "ipython3",
   "version": "3.10.18"
  }
 },
 "nbformat": 4,
 "nbformat_minor": 5
}
