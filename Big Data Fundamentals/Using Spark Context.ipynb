{
 "cells": [
  {
   "cell_type": "code",
   "execution_count": 1,
   "id": "4499b588-a3e4-4e5b-be70-52d6ba2443b0",
   "metadata": {},
   "outputs": [],
   "source": [
    "from pyspark.sql import SparkSession"
   ]
  },
  {
   "cell_type": "code",
   "execution_count": 2,
   "id": "119d821f-f107-43c3-8ebd-36ac746c22a2",
   "metadata": {},
   "outputs": [
    {
     "name": "stderr",
     "output_type": "stream",
     "text": [
      "25/07/03 19:07:19 WARN Utils: Your hostname, Anirbans-MacBook-Pro.local resolves to a loopback address: 127.0.0.1; using 192.168.0.149 instead (on interface en0)\n",
      "25/07/03 19:07:19 WARN Utils: Set SPARK_LOCAL_IP if you need to bind to another address\n",
      "Setting default log level to \"WARN\".\n",
      "To adjust logging level use sc.setLogLevel(newLevel). For SparkR, use setLogLevel(newLevel).\n",
      "25/07/03 19:07:20 WARN NativeCodeLoader: Unable to load native-hadoop library for your platform... using builtin-java classes where applicable\n"
     ]
    }
   ],
   "source": [
    "spark = SparkSession.builder.appName(\"Big Data Fundamentals\").getOrCreate()"
   ]
  },
  {
   "cell_type": "code",
   "execution_count": 3,
   "id": "5961e647-152e-4e82-9241-85ba500a6463",
   "metadata": {},
   "outputs": [
    {
     "name": "stdout",
     "output_type": "stream",
     "text": [
      "3.4.1\n",
      "local[*]\n"
     ]
    }
   ],
   "source": [
    "#Create spark context\n",
    "sc = spark.sparkContext\n",
    "\n",
    "print(sc.version)\n",
    "print(sc.master)"
   ]
  },
  {
   "cell_type": "code",
   "execution_count": 4,
   "id": "46f8f0a0-be7c-4808-a0d0-da97b71a3ad4",
   "metadata": {},
   "outputs": [],
   "source": [
    "# Create an RDD from a list of words\n",
    "RDD = sc.parallelize([\"Spark\", \"is\", \"a\", \"framework\", \"for\", \"Big Data processing\"])"
   ]
  },
  {
   "cell_type": "markdown",
   "id": "e1c4bff0-e998-44da-b288-7a8552c7396a",
   "metadata": {},
   "source": [
    "### Working with RDDs"
   ]
  },
  {
   "cell_type": "code",
   "execution_count": 6,
   "id": "df7829dd-9af7-4963-a327-484129d07823",
   "metadata": {},
   "outputs": [],
   "source": [
    "#Create a pairRDD from a list of tuples\n",
    "Rdd = sc.parallelize([(1,2),(2,3),(3,4),(5,6),(1,8),(5,3)])"
   ]
  },
  {
   "cell_type": "code",
   "execution_count": 7,
   "id": "c93f0c0d-a953-4e3d-844a-bebd3857b192",
   "metadata": {},
   "outputs": [
    {
     "name": "stdout",
     "output_type": "stream",
     "text": [
      "[(1, 2), (2, 3), (3, 4), (5, 6), (1, 8), (5, 3)]\n"
     ]
    }
   ],
   "source": [
    "print(Rdd.collect())"
   ]
  },
  {
   "cell_type": "code",
   "execution_count": 8,
   "id": "c2e1f9b5-51d5-4983-9c83-dbfafba77245",
   "metadata": {},
   "outputs": [],
   "source": [
    "#Apply reduceByKey method on RDD to combine values with same key\n",
    "Rdd_reduced = Rdd.reduceByKey(lambda x,y: x-y)"
   ]
  },
  {
   "cell_type": "code",
   "execution_count": 9,
   "id": "03f85332-cd7f-4594-b15b-d0da06739092",
   "metadata": {},
   "outputs": [
    {
     "name": "stderr",
     "output_type": "stream",
     "text": [
      "[Stage 1:=======================>                                  (4 + 6) / 10]"
     ]
    },
    {
     "name": "stdout",
     "output_type": "stream",
     "text": [
      "[(1, -6), (2, 3), (3, 4), (5, 3)]\n"
     ]
    },
    {
     "name": "stderr",
     "output_type": "stream",
     "text": [
      "                                                                                "
     ]
    }
   ],
   "source": [
    "print(Rdd_reduced.collect())"
   ]
  },
  {
   "cell_type": "code",
   "execution_count": 11,
   "id": "0ab622fa-6b28-41b2-964f-8a23bbe344d3",
   "metadata": {},
   "outputs": [],
   "source": [
    "Rdd_reduced_sort = Rdd_reduced.sortByKey(ascending=True).collect()"
   ]
  },
  {
   "cell_type": "code",
   "execution_count": 12,
   "id": "66576df6-dae4-422d-9661-55352ca6bb32",
   "metadata": {},
   "outputs": [
    {
     "name": "stdout",
     "output_type": "stream",
     "text": [
      "[(1, -6), (2, 3), (3, 4), (5, 3)]\n"
     ]
    }
   ],
   "source": [
    "print(Rdd_reduced_sort)"
   ]
  },
  {
   "cell_type": "code",
   "execution_count": 13,
   "id": "362caf50-952f-4efd-aad6-fa3a4d0162d0",
   "metadata": {},
   "outputs": [],
   "source": [
    "# Count the unique keys\n",
    "total = Rdd.countByKey()"
   ]
  },
  {
   "cell_type": "code",
   "execution_count": 14,
   "id": "1300a995-8baa-4abb-a3c6-f25cf1e77188",
   "metadata": {},
   "outputs": [
    {
     "data": {
      "text/plain": [
       "collections.defaultdict"
      ]
     },
     "execution_count": 14,
     "metadata": {},
     "output_type": "execute_result"
    }
   ],
   "source": [
    "type(total)"
   ]
  },
  {
   "cell_type": "code",
   "execution_count": 15,
   "id": "5bce8137-8f78-4d19-b97c-f827b1512d19",
   "metadata": {},
   "outputs": [
    {
     "name": "stdout",
     "output_type": "stream",
     "text": [
      "defaultdict(<class 'int'>, {1: 2, 2: 1, 3: 1, 5: 2})\n"
     ]
    }
   ],
   "source": [
    "print(total)"
   ]
  },
  {
   "cell_type": "code",
   "execution_count": 16,
   "id": "76d78ff3-49c9-4014-8a91-b5eb45e7e479",
   "metadata": {},
   "outputs": [],
   "source": [
    "spark.stop()"
   ]
  },
  {
   "cell_type": "code",
   "execution_count": null,
   "id": "35a615e5-4cf4-4933-9af2-d43f645787c4",
   "metadata": {},
   "outputs": [],
   "source": []
  }
 ],
 "metadata": {
  "kernelspec": {
   "display_name": "PySpark (pyspark_env)",
   "language": "python",
   "name": "pyspark_env"
  },
  "language_info": {
   "codemirror_mode": {
    "name": "ipython",
    "version": 3
   },
   "file_extension": ".py",
   "mimetype": "text/x-python",
   "name": "python",
   "nbconvert_exporter": "python",
   "pygments_lexer": "ipython3",
   "version": "3.10.18"
  }
 },
 "nbformat": 4,
 "nbformat_minor": 5
}
