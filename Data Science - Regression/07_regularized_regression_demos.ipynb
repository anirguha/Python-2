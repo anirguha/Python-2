{
 "cells": [
  {
   "cell_type": "code",
   "execution_count": 2,
   "id": "c67b08e4",
   "metadata": {},
   "outputs": [
    {
     "data": {
      "text/html": [
       "<div>\n",
       "<style scoped>\n",
       "    .dataframe tbody tr th:only-of-type {\n",
       "        vertical-align: middle;\n",
       "    }\n",
       "\n",
       "    .dataframe tbody tr th {\n",
       "        vertical-align: top;\n",
       "    }\n",
       "\n",
       "    .dataframe thead th {\n",
       "        text-align: right;\n",
       "    }\n",
       "</style>\n",
       "<table border=\"1\" class=\"dataframe\">\n",
       "  <thead>\n",
       "    <tr style=\"text-align: right;\">\n",
       "      <th></th>\n",
       "      <th>age</th>\n",
       "      <th>sex</th>\n",
       "      <th>bmi</th>\n",
       "      <th>children</th>\n",
       "      <th>smoker</th>\n",
       "      <th>region</th>\n",
       "      <th>charges</th>\n",
       "    </tr>\n",
       "  </thead>\n",
       "  <tbody>\n",
       "    <tr>\n",
       "      <th>0</th>\n",
       "      <td>19</td>\n",
       "      <td>female</td>\n",
       "      <td>27.900</td>\n",
       "      <td>0</td>\n",
       "      <td>yes</td>\n",
       "      <td>southwest</td>\n",
       "      <td>16884.92400</td>\n",
       "    </tr>\n",
       "    <tr>\n",
       "      <th>1</th>\n",
       "      <td>18</td>\n",
       "      <td>male</td>\n",
       "      <td>33.770</td>\n",
       "      <td>1</td>\n",
       "      <td>no</td>\n",
       "      <td>southeast</td>\n",
       "      <td>1725.55230</td>\n",
       "    </tr>\n",
       "    <tr>\n",
       "      <th>2</th>\n",
       "      <td>28</td>\n",
       "      <td>male</td>\n",
       "      <td>33.000</td>\n",
       "      <td>3</td>\n",
       "      <td>no</td>\n",
       "      <td>southeast</td>\n",
       "      <td>4449.46200</td>\n",
       "    </tr>\n",
       "    <tr>\n",
       "      <th>3</th>\n",
       "      <td>33</td>\n",
       "      <td>male</td>\n",
       "      <td>22.705</td>\n",
       "      <td>0</td>\n",
       "      <td>no</td>\n",
       "      <td>northwest</td>\n",
       "      <td>21984.47061</td>\n",
       "    </tr>\n",
       "    <tr>\n",
       "      <th>4</th>\n",
       "      <td>32</td>\n",
       "      <td>male</td>\n",
       "      <td>28.880</td>\n",
       "      <td>0</td>\n",
       "      <td>no</td>\n",
       "      <td>northwest</td>\n",
       "      <td>3866.85520</td>\n",
       "    </tr>\n",
       "  </tbody>\n",
       "</table>\n",
       "</div>"
      ],
      "text/plain": [
       "   age     sex     bmi  children smoker     region      charges\n",
       "0   19  female  27.900         0    yes  southwest  16884.92400\n",
       "1   18    male  33.770         1     no  southeast   1725.55230\n",
       "2   28    male  33.000         3     no  southeast   4449.46200\n",
       "3   33    male  22.705         0     no  northwest  21984.47061\n",
       "4   32    male  28.880         0     no  northwest   3866.85520"
      ]
     },
     "execution_count": 2,
     "metadata": {},
     "output_type": "execute_result"
    }
   ],
   "source": [
    "import pandas as pd\n",
    "import numpy as np\n",
    "import seaborn as sns\n",
    "import statsmodels.api as sm\n",
    "\n",
    "insurance_df = pd.read_csv(\"Data/insurance.csv\")\n",
    "\n",
    "insurance_df.head()"
   ]
  },
  {
   "cell_type": "code",
   "execution_count": 3,
   "id": "e5c6ee75",
   "metadata": {},
   "outputs": [],
   "source": [
    "# Feature Engineering\n",
    "\n",
    "insurance_df = (\n",
    "    pd.get_dummies(insurance_df, drop_first=True,dtype=\"int\")\n",
    "    .assign(\n",
    "        age_sq = insurance_df[\"age\"]**2,\n",
    "        smoker_bmi_int = lambda x: x[\"smoker_yes\"] * x[\"bmi\"]\n",
    "           )\n",
    ")"
   ]
  },
  {
   "cell_type": "code",
   "execution_count": 4,
   "id": "bd63610e",
   "metadata": {},
   "outputs": [],
   "source": [
    "# Data Splitting\n",
    "\n",
    "from sklearn.model_selection import train_test_split\n",
    "\n",
    "X = sm.add_constant(insurance_df.drop([\"charges\"], axis=1))\n",
    "y = insurance_df[\"charges\"]\n",
    "\n",
    "X, X_test, y, y_test = train_test_split(X, y, test_size=.2, random_state=2023)\n",
    "X_train, X_valid, y_train, y_valid = train_test_split(X, y, test_size=.25, random_state=2023)"
   ]
  },
  {
   "cell_type": "code",
   "execution_count": 5,
   "id": "2cd68615",
   "metadata": {},
   "outputs": [],
   "source": [
    "# Standardization\n",
    "\n",
    "from sklearn.preprocessing import StandardScaler\n",
    "\n",
    "std = StandardScaler()\n",
    "X_tr = std.fit_transform(X_train.values)\n",
    "X_val = std.transform(X_valid.values)\n",
    "X_te = std.transform(X_test.values)"
   ]
  },
  {
   "cell_type": "code",
   "execution_count": 6,
   "id": "8b171a31",
   "metadata": {},
   "outputs": [
    {
     "data": {
      "text/html": [
       "<div>\n",
       "<style scoped>\n",
       "    .dataframe tbody tr th:only-of-type {\n",
       "        vertical-align: middle;\n",
       "    }\n",
       "\n",
       "    .dataframe tbody tr th {\n",
       "        vertical-align: top;\n",
       "    }\n",
       "\n",
       "    .dataframe thead th {\n",
       "        text-align: right;\n",
       "    }\n",
       "</style>\n",
       "<table border=\"1\" class=\"dataframe\">\n",
       "  <thead>\n",
       "    <tr style=\"text-align: right;\">\n",
       "      <th></th>\n",
       "      <th>features</th>\n",
       "      <th>coef</th>\n",
       "    </tr>\n",
       "  </thead>\n",
       "  <tbody>\n",
       "    <tr>\n",
       "      <th>0</th>\n",
       "      <td>const</td>\n",
       "      <td>0.000000</td>\n",
       "    </tr>\n",
       "    <tr>\n",
       "      <th>1</th>\n",
       "      <td>age</td>\n",
       "      <td>24.099728</td>\n",
       "    </tr>\n",
       "    <tr>\n",
       "      <th>2</th>\n",
       "      <td>bmi</td>\n",
       "      <td>192.804812</td>\n",
       "    </tr>\n",
       "    <tr>\n",
       "      <th>3</th>\n",
       "      <td>children</td>\n",
       "      <td>801.945418</td>\n",
       "    </tr>\n",
       "    <tr>\n",
       "      <th>4</th>\n",
       "      <td>sex_male</td>\n",
       "      <td>-261.034700</td>\n",
       "    </tr>\n",
       "    <tr>\n",
       "      <th>5</th>\n",
       "      <td>smoker_yes</td>\n",
       "      <td>-7865.907666</td>\n",
       "    </tr>\n",
       "    <tr>\n",
       "      <th>6</th>\n",
       "      <td>region_northwest</td>\n",
       "      <td>-38.454303</td>\n",
       "    </tr>\n",
       "    <tr>\n",
       "      <th>7</th>\n",
       "      <td>region_southeast</td>\n",
       "      <td>-492.518245</td>\n",
       "    </tr>\n",
       "    <tr>\n",
       "      <th>8</th>\n",
       "      <td>region_southwest</td>\n",
       "      <td>-543.136719</td>\n",
       "    </tr>\n",
       "    <tr>\n",
       "      <th>9</th>\n",
       "      <td>age_sq</td>\n",
       "      <td>3601.787180</td>\n",
       "    </tr>\n",
       "    <tr>\n",
       "      <th>10</th>\n",
       "      <td>smoker_bmi_int</td>\n",
       "      <td>18096.116728</td>\n",
       "    </tr>\n",
       "  </tbody>\n",
       "</table>\n",
       "</div>"
      ],
      "text/plain": [
       "            features          coef\n",
       "0              const      0.000000\n",
       "1                age     24.099728\n",
       "2                bmi    192.804812\n",
       "3           children    801.945418\n",
       "4           sex_male   -261.034700\n",
       "5         smoker_yes  -7865.907666\n",
       "6   region_northwest    -38.454303\n",
       "7   region_southeast   -492.518245\n",
       "8   region_southwest   -543.136719\n",
       "9             age_sq   3601.787180\n",
       "10    smoker_bmi_int  18096.116728"
      ]
     },
     "execution_count": 6,
     "metadata": {},
     "output_type": "execute_result"
    }
   ],
   "source": [
    "from sklearn.linear_model import Ridge\n",
    "\n",
    "ridge_model = Ridge(alpha=1).fit(X_tr, y_train)\n",
    "\n",
    "# ridge_model.coef_.shape\n",
    "pd.DataFrame({\"features\":X.columns,\"coef\":ridge_model.coef_\n",
    "             })\n",
    "# list(zip(X.columns, ridge_model.coef_))"
   ]
  },
  {
   "cell_type": "code",
   "execution_count": 7,
   "id": "003aeeb9",
   "metadata": {},
   "outputs": [
    {
     "data": {
      "image/png": "[encoded data removed]",
      "text/plain": [
       "<Figure size 640x480 with 1 Axes>"
      ]
     },
     "metadata": {},
     "output_type": "display_data"
    },
    {
     "data": {
      "image/png": "[encoded data removed]",
      "text/plain": [
       "<Figure size 640x480 with 1 Axes>"
      ]
     },
     "metadata": {},
     "output_type": "display_data"
    }
   ],
   "source": [
    "n_alphas = 200\n",
    "alphas = 10 ** np.linspace(-3, 3, n_alphas)\n",
    "\n",
    "train_scores = []\n",
    "val_scores = []\n",
    "\n",
    "for alpha in alphas:\n",
    "    ridge_model = Ridge(alpha=alpha).fit(X_tr, y_train)\n",
    "    train_scores.append(ridge_model.score(X_tr, y_train))\n",
    "    val_scores.append(ridge_model.score(X_val, y_valid))\n",
    "    \n",
    "scores_df = pd.DataFrame({\n",
    "    \"alpha\": alphas,\n",
    "    \"training\": train_scores,\n",
    "    \"validation\": val_scores\n",
    "})\n",
    "\n",
    "scores_df.set_index(\"alpha\").plot();\n",
    "scores_df[:150].set_index(\"alpha\").plot(); #[:150]"
   ]
  },
  {
   "cell_type": "code",
   "execution_count": 8,
   "id": "3754fe5e",
   "metadata": {},
   "outputs": [
    {
     "data": {
      "text/html": [
       "<div>\n",
       "<style scoped>\n",
       "    .dataframe tbody tr th:only-of-type {\n",
       "        vertical-align: middle;\n",
       "    }\n",
       "\n",
       "    .dataframe tbody tr th {\n",
       "        vertical-align: top;\n",
       "    }\n",
       "\n",
       "    .dataframe thead th {\n",
       "        text-align: right;\n",
       "    }\n",
       "</style>\n",
       "<table border=\"1\" class=\"dataframe\">\n",
       "  <thead>\n",
       "    <tr style=\"text-align: right;\">\n",
       "      <th></th>\n",
       "      <th>alpha</th>\n",
       "      <th>training</th>\n",
       "      <th>validation</th>\n",
       "    </tr>\n",
       "  </thead>\n",
       "  <tbody>\n",
       "    <tr>\n",
       "      <th>109</th>\n",
       "      <td>1.933892</td>\n",
       "      <td>0.841536</td>\n",
       "      <td>0.843641</td>\n",
       "    </tr>\n",
       "    <tr>\n",
       "      <th>108</th>\n",
       "      <td>1.804186</td>\n",
       "      <td>0.841607</td>\n",
       "      <td>0.843639</td>\n",
       "    </tr>\n",
       "    <tr>\n",
       "      <th>110</th>\n",
       "      <td>2.072922</td>\n",
       "      <td>0.841457</td>\n",
       "      <td>0.843637</td>\n",
       "    </tr>\n",
       "    <tr>\n",
       "      <th>107</th>\n",
       "      <td>1.683180</td>\n",
       "      <td>0.841670</td>\n",
       "      <td>0.843633</td>\n",
       "    </tr>\n",
       "    <tr>\n",
       "      <th>111</th>\n",
       "      <td>2.221947</td>\n",
       "      <td>0.841368</td>\n",
       "      <td>0.843626</td>\n",
       "    </tr>\n",
       "    <tr>\n",
       "      <th>...</th>\n",
       "      <td>...</td>\n",
       "      <td>...</td>\n",
       "      <td>...</td>\n",
       "    </tr>\n",
       "    <tr>\n",
       "      <th>195</th>\n",
       "      <td>757.525026</td>\n",
       "      <td>0.710521</td>\n",
       "      <td>0.725743</td>\n",
       "    </tr>\n",
       "    <tr>\n",
       "      <th>196</th>\n",
       "      <td>811.984499</td>\n",
       "      <td>0.702348</td>\n",
       "      <td>0.717752</td>\n",
       "    </tr>\n",
       "    <tr>\n",
       "      <th>197</th>\n",
       "      <td>870.359136</td>\n",
       "      <td>0.693622</td>\n",
       "      <td>0.709185</td>\n",
       "    </tr>\n",
       "    <tr>\n",
       "      <th>198</th>\n",
       "      <td>932.930403</td>\n",
       "      <td>0.684332</td>\n",
       "      <td>0.700032</td>\n",
       "    </tr>\n",
       "    <tr>\n",
       "      <th>199</th>\n",
       "      <td>1000.000000</td>\n",
       "      <td>0.674472</td>\n",
       "      <td>0.690282</td>\n",
       "    </tr>\n",
       "  </tbody>\n",
       "</table>\n",
       "<p>200 rows × 3 columns</p>\n",
       "</div>"
      ],
      "text/plain": [
       "           alpha  training  validation\n",
       "109     1.933892  0.841536    0.843641\n",
       "108     1.804186  0.841607    0.843639\n",
       "110     2.072922  0.841457    0.843637\n",
       "107     1.683180  0.841670    0.843633\n",
       "111     2.221947  0.841368    0.843626\n",
       "..           ...       ...         ...\n",
       "195   757.525026  0.710521    0.725743\n",
       "196   811.984499  0.702348    0.717752\n",
       "197   870.359136  0.693622    0.709185\n",
       "198   932.930403  0.684332    0.700032\n",
       "199  1000.000000  0.674472    0.690282\n",
       "\n",
       "[200 rows x 3 columns]"
      ]
     },
     "execution_count": 8,
     "metadata": {},
     "output_type": "execute_result"
    }
   ],
   "source": [
    "scores_df.sort_values(\"validation\", ascending=False)"
   ]
  },
  {
   "cell_type": "code",
   "execution_count": 9,
   "id": "3493dc0c",
   "metadata": {},
   "outputs": [],
   "source": [
    "std = StandardScaler()\n",
    "X_m = std.fit_transform(X.values)\n",
    "X_te = std.transform(X_test.values)"
   ]
  },
  {
   "cell_type": "code",
   "execution_count": 10,
   "id": "5d1e3c63",
   "metadata": {},
   "outputs": [
    {
     "data": {
      "text/html": [
       "<div>\n",
       "<style scoped>\n",
       "    .dataframe tbody tr th:only-of-type {\n",
       "        vertical-align: middle;\n",
       "    }\n",
       "\n",
       "    .dataframe tbody tr th {\n",
       "        vertical-align: top;\n",
       "    }\n",
       "\n",
       "    .dataframe thead th {\n",
       "        text-align: right;\n",
       "    }\n",
       "</style>\n",
       "<table border=\"1\" class=\"dataframe\">\n",
       "  <thead>\n",
       "    <tr style=\"text-align: right;\">\n",
       "      <th></th>\n",
       "      <th>features</th>\n",
       "      <th>coef</th>\n",
       "    </tr>\n",
       "  </thead>\n",
       "  <tbody>\n",
       "    <tr>\n",
       "      <th>0</th>\n",
       "      <td>const</td>\n",
       "      <td>0.000000</td>\n",
       "    </tr>\n",
       "    <tr>\n",
       "      <th>1</th>\n",
       "      <td>age</td>\n",
       "      <td>-160.607800</td>\n",
       "    </tr>\n",
       "    <tr>\n",
       "      <th>2</th>\n",
       "      <td>bmi</td>\n",
       "      <td>209.083718</td>\n",
       "    </tr>\n",
       "    <tr>\n",
       "      <th>3</th>\n",
       "      <td>children</td>\n",
       "      <td>792.035896</td>\n",
       "    </tr>\n",
       "    <tr>\n",
       "      <th>4</th>\n",
       "      <td>sex_male</td>\n",
       "      <td>-163.308847</td>\n",
       "    </tr>\n",
       "    <tr>\n",
       "      <th>5</th>\n",
       "      <td>smoker_yes</td>\n",
       "      <td>-7258.129403</td>\n",
       "    </tr>\n",
       "    <tr>\n",
       "      <th>6</th>\n",
       "      <td>region_northwest</td>\n",
       "      <td>3.415685</td>\n",
       "    </tr>\n",
       "    <tr>\n",
       "      <th>7</th>\n",
       "      <td>region_southeast</td>\n",
       "      <td>-483.875035</td>\n",
       "    </tr>\n",
       "    <tr>\n",
       "      <th>8</th>\n",
       "      <td>region_southwest</td>\n",
       "      <td>-487.152670</td>\n",
       "    </tr>\n",
       "    <tr>\n",
       "      <th>9</th>\n",
       "      <td>age_sq</td>\n",
       "      <td>3957.124172</td>\n",
       "    </tr>\n",
       "    <tr>\n",
       "      <th>10</th>\n",
       "      <td>smoker_bmi_int</td>\n",
       "      <td>17428.265689</td>\n",
       "    </tr>\n",
       "  </tbody>\n",
       "</table>\n",
       "</div>"
      ],
      "text/plain": [
       "            features          coef\n",
       "0              const      0.000000\n",
       "1                age   -160.607800\n",
       "2                bmi    209.083718\n",
       "3           children    792.035896\n",
       "4           sex_male   -163.308847\n",
       "5         smoker_yes  -7258.129403\n",
       "6   region_northwest      3.415685\n",
       "7   region_southeast   -483.875035\n",
       "8   region_southwest   -487.152670\n",
       "9             age_sq   3957.124172\n",
       "10    smoker_bmi_int  17428.265689"
      ]
     },
     "execution_count": 10,
     "metadata": {},
     "output_type": "execute_result"
    }
   ],
   "source": [
    "from sklearn.linear_model import Ridge\n",
    "\n",
    "ridge_model = Ridge(alpha=1.933).fit(X_m, y)\n",
    "\n",
    "pd.DataFrame({\"features\":X.columns,\"coef\":ridge_model.coef_})\n",
    "# list(zip(X.columns, ridge_model.coef_))"
   ]
  },
  {
   "cell_type": "code",
   "execution_count": 11,
   "id": "95f355db",
   "metadata": {},
   "outputs": [
    {
     "data": {
      "text/plain": [
       "0.8426019871930435"
      ]
     },
     "execution_count": 11,
     "metadata": {},
     "output_type": "execute_result"
    }
   ],
   "source": [
    "ridge_model.score(X_m, y)"
   ]
  },
  {
   "cell_type": "code",
   "execution_count": 12,
   "id": "22f9fc7e",
   "metadata": {},
   "outputs": [
    {
     "data": {
      "text/plain": [
       "0.8437001555140374"
      ]
     },
     "execution_count": 12,
     "metadata": {},
     "output_type": "execute_result"
    }
   ],
   "source": [
    "ridge_model.score(X_te, y_test)"
   ]
  },
  {
   "cell_type": "code",
   "execution_count": 13,
   "id": "9eed0d7c-e953-4ba8-b0f3-edc65843feb3",
   "metadata": {},
   "outputs": [
    {
     "data": {
      "text/plain": [
       "const               float64\n",
       "age                   int64\n",
       "bmi                 float64\n",
       "children              int64\n",
       "sex_male              int64\n",
       "smoker_yes            int64\n",
       "region_northwest      int64\n",
       "region_southeast      int64\n",
       "region_southwest      int64\n",
       "age_sq                int64\n",
       "smoker_bmi_int      float64\n",
       "dtype: object"
      ]
     },
     "execution_count": 13,
     "metadata": {},
     "output_type": "execute_result"
    }
   ],
   "source": [
    "X.dtypes"
   ]
  },
  {
   "cell_type": "code",
   "execution_count": 14,
   "id": "10964c0e-4b95-4844-a489-43e6420a3cfd",
   "metadata": {},
   "outputs": [],
   "source": [
    "X.replace([np.inf, -np.inf],np.nan, inplace=True)\n",
    "X.fillna(0,inplace=True)"
   ]
  },
  {
   "cell_type": "code",
   "execution_count": 15,
   "id": "13973284-41a6-4722-83c3-a4080e0ef310",
   "metadata": {},
   "outputs": [],
   "source": [
    "for col in X.columns:\n",
    "    if pd.api.types.is_numeric_dtype(X[col]):\n",
    "        X[col] = X[col].astype(\"int\")"
   ]
  },
  {
   "cell_type": "code",
   "execution_count": 16,
   "id": "51161f7d-5e28-4531-9db7-2500c97c8ab8",
   "metadata": {},
   "outputs": [
    {
     "data": {
      "text/html": [
       "<div>\n",
       "<style scoped>\n",
       "    .dataframe tbody tr th:only-of-type {\n",
       "        vertical-align: middle;\n",
       "    }\n",
       "\n",
       "    .dataframe tbody tr th {\n",
       "        vertical-align: top;\n",
       "    }\n",
       "\n",
       "    .dataframe thead th {\n",
       "        text-align: right;\n",
       "    }\n",
       "</style>\n",
       "<table border=\"1\" class=\"dataframe\">\n",
       "  <thead>\n",
       "    <tr style=\"text-align: right;\">\n",
       "      <th></th>\n",
       "      <th>const</th>\n",
       "      <th>age</th>\n",
       "      <th>bmi</th>\n",
       "      <th>children</th>\n",
       "      <th>sex_male</th>\n",
       "      <th>smoker_yes</th>\n",
       "      <th>region_northwest</th>\n",
       "      <th>region_southeast</th>\n",
       "      <th>region_southwest</th>\n",
       "      <th>age_sq</th>\n",
       "      <th>smoker_bmi_int</th>\n",
       "    </tr>\n",
       "  </thead>\n",
       "  <tbody>\n",
       "    <tr>\n",
       "      <th>1068</th>\n",
       "      <td>1</td>\n",
       "      <td>63</td>\n",
       "      <td>21</td>\n",
       "      <td>1</td>\n",
       "      <td>1</td>\n",
       "      <td>0</td>\n",
       "      <td>1</td>\n",
       "      <td>0</td>\n",
       "      <td>0</td>\n",
       "      <td>3969</td>\n",
       "      <td>0</td>\n",
       "    </tr>\n",
       "    <tr>\n",
       "      <th>1018</th>\n",
       "      <td>1</td>\n",
       "      <td>54</td>\n",
       "      <td>35</td>\n",
       "      <td>3</td>\n",
       "      <td>0</td>\n",
       "      <td>0</td>\n",
       "      <td>1</td>\n",
       "      <td>0</td>\n",
       "      <td>0</td>\n",
       "      <td>2916</td>\n",
       "      <td>0</td>\n",
       "    </tr>\n",
       "    <tr>\n",
       "      <th>995</th>\n",
       "      <td>1</td>\n",
       "      <td>39</td>\n",
       "      <td>23</td>\n",
       "      <td>3</td>\n",
       "      <td>0</td>\n",
       "      <td>0</td>\n",
       "      <td>0</td>\n",
       "      <td>0</td>\n",
       "      <td>0</td>\n",
       "      <td>1521</td>\n",
       "      <td>0</td>\n",
       "    </tr>\n",
       "    <tr>\n",
       "      <th>1248</th>\n",
       "      <td>1</td>\n",
       "      <td>18</td>\n",
       "      <td>39</td>\n",
       "      <td>0</td>\n",
       "      <td>0</td>\n",
       "      <td>0</td>\n",
       "      <td>0</td>\n",
       "      <td>1</td>\n",
       "      <td>0</td>\n",
       "      <td>324</td>\n",
       "      <td>0</td>\n",
       "    </tr>\n",
       "    <tr>\n",
       "      <th>549</th>\n",
       "      <td>1</td>\n",
       "      <td>43</td>\n",
       "      <td>46</td>\n",
       "      <td>0</td>\n",
       "      <td>0</td>\n",
       "      <td>1</td>\n",
       "      <td>0</td>\n",
       "      <td>1</td>\n",
       "      <td>0</td>\n",
       "      <td>1849</td>\n",
       "      <td>46</td>\n",
       "    </tr>\n",
       "  </tbody>\n",
       "</table>\n",
       "</div>"
      ],
      "text/plain": [
       "      const  age  bmi  children  sex_male  smoker_yes  region_northwest  \\\n",
       "1068      1   63   21         1         1           0                 1   \n",
       "1018      1   54   35         3         0           0                 1   \n",
       "995       1   39   23         3         0           0                 0   \n",
       "1248      1   18   39         0         0           0                 0   \n",
       "549       1   43   46         0         0           1                 0   \n",
       "\n",
       "      region_southeast  region_southwest  age_sq  smoker_bmi_int  \n",
       "1068                 0                 0    3969               0  \n",
       "1018                 0                 0    2916               0  \n",
       "995                  0                 0    1521               0  \n",
       "1248                 1                 0     324               0  \n",
       "549                  1                 0    1849              46  "
      ]
     },
     "execution_count": 16,
     "metadata": {},
     "output_type": "execute_result"
    }
   ],
   "source": [
    "X.head()"
   ]
  },
  {
   "cell_type": "code",
   "execution_count": 17,
   "id": "21dc32b6",
   "metadata": {},
   "outputs": [],
   "source": [
    "\n",
    "lr_model = sm.OLS(y, X).fit()\n",
    "\n",
    "# lr_model.summary()"
   ]
  },
  {
   "cell_type": "code",
   "execution_count": 18,
   "id": "9175c556",
   "metadata": {},
   "outputs": [
    {
     "data": {
      "text/plain": [
       "0.8419894327531199"
      ]
     },
     "execution_count": 18,
     "metadata": {},
     "output_type": "execute_result"
    }
   ],
   "source": [
    "from sklearn.metrics import r2_score as r2\n",
    "\n",
    "r2(y_test, lr_model.predict(X_test))"
   ]
  },
  {
   "cell_type": "markdown",
   "id": "6da95f91",
   "metadata": {},
   "source": [
    "# RidgeCV"
   ]
  },
  {
   "cell_type": "code",
   "execution_count": 23,
   "id": "d42a1b95",
   "metadata": {},
   "outputs": [
    {
     "name": "stdout",
     "output_type": "stream",
     "text": [
      "0.8429467462998999\n",
      "2870.1647819745044\n",
      "0.08504489341802678\n"
     ]
    }
   ],
   "source": [
    "from sklearn.linear_model import RidgeCV\n",
    "from sklearn.metrics import mean_absolute_error as mae\n",
    "\n",
    "n_alphas = 200\n",
    "alphas = 10 ** np.linspace(-3, 3, n_alphas)\n",
    "\n",
    "ridge_model = RidgeCV(alphas=alphas, cv=5)\n",
    "\n",
    "ridge_model.fit(X_m, y)\n",
    "print(ridge_model.score(X_m, y))\n",
    "print(mae(y, ridge_model.predict(X_m)))\n",
    "print(ridge_model.alpha_)"
   ]
  },
  {
   "cell_type": "code",
   "execution_count": 24,
   "id": "35cb2f2e",
   "metadata": {},
   "outputs": [
    {
     "data": {
      "text/plain": [
       "0.8434135992943618"
      ]
     },
     "execution_count": 24,
     "metadata": {},
     "output_type": "execute_result"
    }
   ],
   "source": [
    "ridge_model.score(X_te, y_test)"
   ]
  },
  {
   "cell_type": "markdown",
   "id": "20f380fc",
   "metadata": {},
   "source": [
    "## Lasso Regression"
   ]
  },
  {
   "cell_type": "code",
   "execution_count": null,
   "id": "d996484e",
   "metadata": {},
   "outputs": [],
   "source": [
    "from sklearn.preprocessing import StandardScaler\n",
    "\n",
    "std = StandardScaler()\n",
    "X_tr = std.fit_transform(X_train.values)\n",
    "X_val = std.transform(X_valid.values)\n",
    "X_te = std.transform(X_test.values)"
   ]
  },
  {
   "cell_type": "code",
   "execution_count": null,
   "id": "d33582d6",
   "metadata": {},
   "outputs": [],
   "source": [
    "from sklearn.linear_model import Lasso\n",
    "\n",
    "lasso_model = Lasso(alpha=50).fit(X_tr, y_train) # up strength to drop vars\n",
    "\n",
    "list(zip(X.columns, lasso_model.coef_))"
   ]
  },
  {
   "cell_type": "code",
   "execution_count": null,
   "id": "44f2a5eb",
   "metadata": {},
   "outputs": [],
   "source": [
    "n_alphas = 200\n",
    "alphas = 10 ** np.linspace(-3, 3, n_alphas)\n",
    "\n",
    "train_scores = []\n",
    "val_scores = []\n",
    "\n",
    "for alpha in alphas:\n",
    "    lasso_model = Lasso(alpha=alpha).fit(X_tr, y_train)\n",
    "    train_scores.append(lasso_model.score(X_tr, y_train))\n",
    "    val_scores.append(lasso_model.score(X_val, y_valid))\n",
    "    \n",
    "scores_df = pd.DataFrame({\n",
    "    \"alpha\": alphas,\n",
    "    \"training\": train_scores,\n",
    "    \"validation\": val_scores\n",
    "})\n",
    "\n",
    "scores_df.set_index(\"alpha\").plot() #[:150]"
   ]
  },
  {
   "cell_type": "code",
   "execution_count": null,
   "id": "ad5f660d",
   "metadata": {},
   "outputs": [],
   "source": [
    "scores_df.sort_values(\"validation\", ascending=False)"
   ]
  },
  {
   "cell_type": "code",
   "execution_count": null,
   "id": "eaebc20c",
   "metadata": {},
   "outputs": [],
   "source": [
    "lasso_model = Lasso(alpha=31.08).fit(X_m, y)\n",
    "\n",
    "list(zip(X.columns, lasso_model.coef_))"
   ]
  },
  {
   "cell_type": "code",
   "execution_count": null,
   "id": "d538298b",
   "metadata": {},
   "outputs": [],
   "source": [
    "lasso_model.score(X_m, y)"
   ]
  },
  {
   "cell_type": "code",
   "execution_count": null,
   "id": "76f5106d",
   "metadata": {},
   "outputs": [],
   "source": [
    "lasso_model.score(X_te, y_test)"
   ]
  },
  {
   "cell_type": "code",
   "execution_count": null,
   "id": "b58ec645",
   "metadata": {},
   "outputs": [],
   "source": [
    "r2(y_test, lr_model.predict(X_test))"
   ]
  },
  {
   "cell_type": "markdown",
   "id": "f6bb9133",
   "metadata": {},
   "source": [
    "## LassoCV"
   ]
  },
  {
   "cell_type": "code",
   "execution_count": null,
   "id": "b6919121",
   "metadata": {},
   "outputs": [],
   "source": [
    "from sklearn.linear_model import LassoCV\n",
    "from sklearn.metrics import mean_absolute_error as mae\n",
    "\n",
    "n_alphas = 200\n",
    "alphas = 10 ** np.linspace(-3, 3, n_alphas)\n",
    "\n",
    "lasso_model = LassoCV(alphas=alphas, cv=5)\n",
    "\n",
    "lasso_model.fit(X_m, y)\n",
    "print(lasso_model.score(X_m, y))\n",
    "print(mae(y, lasso_model.predict(X_m)))\n",
    "print(lasso_model.alpha_)"
   ]
  },
  {
   "cell_type": "code",
   "execution_count": null,
   "id": "a863ceb3",
   "metadata": {},
   "outputs": [],
   "source": [
    "lasso_model.score(X_te, y_test)"
   ]
  },
  {
   "cell_type": "code",
   "execution_count": null,
   "id": "1059309d",
   "metadata": {},
   "outputs": [],
   "source": [
    "list(zip(X.columns, lasso_model.coef_))"
   ]
  },
  {
   "cell_type": "markdown",
   "id": "d1ccf422",
   "metadata": {},
   "source": [
    "### Elastic Net"
   ]
  },
  {
   "cell_type": "code",
   "execution_count": null,
   "id": "187e6578",
   "metadata": {},
   "outputs": [],
   "source": [
    "from sklearn.linear_model import ElasticNet\n",
    "\n",
    "enet_model = ElasticNet(alpha=1, l1_ratio=.5).fit(X_tr, y_train)\n",
    "\n",
    "print(\n",
    "    f\"Train Score: {round(enet_model.score(X_tr, y_train), 4)} \"\n",
    "    f\"Valid Score: {round(enet_model.score(X_val, y_valid), 4)} \"\n",
    ")"
   ]
  },
  {
   "cell_type": "code",
   "execution_count": null,
   "id": "4c51fa9b",
   "metadata": {},
   "outputs": [],
   "source": [
    "train_scores = []\n",
    "val_scores = []\n",
    "\n",
    "l1_ratios = np.linspace(.01, 1, 100)\n",
    "\n",
    "for l1_ratio in l1_ratios:\n",
    "    enet_model = ElasticNet(alpha=1, l1_ratio=l1_ratio).fit(X_tr, y_train)\n",
    "    train_scores.append(enet_model.score(X_tr, y_train))\n",
    "    val_scores.append(enet_model.score(X_val, y_valid))"
   ]
  },
  {
   "cell_type": "code",
   "execution_count": null,
   "id": "131a64d3",
   "metadata": {},
   "outputs": [],
   "source": [
    "import matplotlib.pyplot as plt\n",
    "\n",
    "fig, ax = plt.subplots()\n",
    "\n",
    "ax.plot(l1_ratios, train_scores, label=\"Train Scores\")\n",
    "ax.plot(l1_ratios, val_scores, label=\"Validation Scores\")\n",
    "\n",
    "ax.set_xlabel(\"L1_Ratio\")\n",
    "ax.set_ylabel(\"Prediction R2\")\n",
    "\n",
    "ax.spines[[\"top\", \"right\"]].set_visible(False)\n",
    "ax.legend()"
   ]
  },
  {
   "cell_type": "code",
   "execution_count": null,
   "id": "8c4d9bfb",
   "metadata": {},
   "outputs": [],
   "source": [
    "from sklearn.linear_model import ElasticNet\n",
    "from sklearn.model_selection import GridSearchCV\n",
    "\n",
    "\n",
    "l1_ratios = np.linspace(.01, 1, 100)\n",
    "alphas = 10 ** np.linspace(-3, 3, n_alphas)\n",
    "\n",
    "param_grid = {\"alpha\": alphas, \"l1_ratio\": l1_ratios}\n",
    "\n",
    "eNet_model = ElasticNet()\n",
    "grid = GridSearchCV(eNet_model, param_grid, scoring='r2', cv=5)\n",
    "grid.fit(X_m, y)"
   ]
  },
  {
   "cell_type": "code",
   "execution_count": null,
   "id": "3b95ba11",
   "metadata": {},
   "outputs": [],
   "source": [
    "print(f\"Best Params: {grid.best_params_}\")\n",
    "print(f\"Best Score: {grid.best_score_}\")"
   ]
  },
  {
   "cell_type": "code",
   "execution_count": null,
   "id": "bafee0b6",
   "metadata": {},
   "outputs": [],
   "source": [
    "eNet_final = ElasticNet(alpha=1.11, l1_ratio=1).fit(X_m, y)\n",
    "\n",
    "eNet_final.score(X_m, y)"
   ]
  },
  {
   "cell_type": "code",
   "execution_count": null,
   "id": "369c44b4",
   "metadata": {},
   "outputs": [],
   "source": [
    "eNet_final.score(X_te, y_test)"
   ]
  },
  {
   "cell_type": "markdown",
   "id": "7037f2e5",
   "metadata": {},
   "source": [
    "## Elastic Net CV"
   ]
  },
  {
   "cell_type": "code",
   "execution_count": null,
   "id": "d0e603fa",
   "metadata": {},
   "outputs": [],
   "source": [
    "from sklearn.linear_model import ElasticNetCV\n",
    "\n",
    "alphas = 10 ** np.linspace(-3, 3, 200)\n",
    "l1_ratios = np.linspace(.9, 1, 10) # .9, 1, 10\n",
    "\n",
    "enet_model = ElasticNetCV(alphas=alphas, l1_ratio=l1_ratios, cv=5)\n",
    "\n",
    "enet_model.fit(X_m, y)\n",
    "print(enet_model.score(X_m, y))\n",
    "print(enet_model.score(X_te, y_test))\n",
    "print(enet_model.alpha_)\n",
    "print(enet_model.l1_ratio_)"
   ]
  },
  {
   "cell_type": "markdown",
   "id": "7c595789",
   "metadata": {},
   "source": [
    "### Tree Based Models"
   ]
  },
  {
   "cell_type": "code",
   "execution_count": 1,
   "id": "91970e4c",
   "metadata": {},
   "outputs": [
    {
     "data": {
      "text/html": [
       "<div>\n",
       "<style scoped>\n",
       "    .dataframe tbody tr th:only-of-type {\n",
       "        vertical-align: middle;\n",
       "    }\n",
       "\n",
       "    .dataframe tbody tr th {\n",
       "        vertical-align: top;\n",
       "    }\n",
       "\n",
       "    .dataframe thead th {\n",
       "        text-align: right;\n",
       "    }\n",
       "</style>\n",
       "<table border=\"1\" class=\"dataframe\">\n",
       "  <thead>\n",
       "    <tr style=\"text-align: right;\">\n",
       "      <th></th>\n",
       "      <th>age</th>\n",
       "      <th>sex</th>\n",
       "      <th>bmi</th>\n",
       "      <th>children</th>\n",
       "      <th>smoker</th>\n",
       "      <th>region</th>\n",
       "      <th>charges</th>\n",
       "    </tr>\n",
       "  </thead>\n",
       "  <tbody>\n",
       "    <tr>\n",
       "      <th>0</th>\n",
       "      <td>19</td>\n",
       "      <td>female</td>\n",
       "      <td>27.900</td>\n",
       "      <td>0</td>\n",
       "      <td>yes</td>\n",
       "      <td>southwest</td>\n",
       "      <td>16884.92400</td>\n",
       "    </tr>\n",
       "    <tr>\n",
       "      <th>1</th>\n",
       "      <td>18</td>\n",
       "      <td>male</td>\n",
       "      <td>33.770</td>\n",
       "      <td>1</td>\n",
       "      <td>no</td>\n",
       "      <td>southeast</td>\n",
       "      <td>1725.55230</td>\n",
       "    </tr>\n",
       "    <tr>\n",
       "      <th>2</th>\n",
       "      <td>28</td>\n",
       "      <td>male</td>\n",
       "      <td>33.000</td>\n",
       "      <td>3</td>\n",
       "      <td>no</td>\n",
       "      <td>southeast</td>\n",
       "      <td>4449.46200</td>\n",
       "    </tr>\n",
       "    <tr>\n",
       "      <th>3</th>\n",
       "      <td>33</td>\n",
       "      <td>male</td>\n",
       "      <td>22.705</td>\n",
       "      <td>0</td>\n",
       "      <td>no</td>\n",
       "      <td>northwest</td>\n",
       "      <td>21984.47061</td>\n",
       "    </tr>\n",
       "    <tr>\n",
       "      <th>4</th>\n",
       "      <td>32</td>\n",
       "      <td>male</td>\n",
       "      <td>28.880</td>\n",
       "      <td>0</td>\n",
       "      <td>no</td>\n",
       "      <td>northwest</td>\n",
       "      <td>3866.85520</td>\n",
       "    </tr>\n",
       "  </tbody>\n",
       "</table>\n",
       "</div>"
      ],
      "text/plain": [
       "   age     sex     bmi  children smoker     region      charges\n",
       "0   19  female  27.900         0    yes  southwest  16884.92400\n",
       "1   18    male  33.770         1     no  southeast   1725.55230\n",
       "2   28    male  33.000         3     no  southeast   4449.46200\n",
       "3   33    male  22.705         0     no  northwest  21984.47061\n",
       "4   32    male  28.880         0     no  northwest   3866.85520"
      ]
     },
     "execution_count": 1,
     "metadata": {},
     "output_type": "execute_result"
    }
   ],
   "source": [
    "import pandas as pd\n",
    "\n",
    "insurance_df = pd.read_csv(\"../Data/insurance.csv\")\n",
    "\n",
    "insurance_df.head()"
   ]
  },
  {
   "cell_type": "code",
   "execution_count": 2,
   "id": "9de286ac",
   "metadata": {},
   "outputs": [],
   "source": [
    "from sklearn.model_selection import train_test_split\n",
    "\n",
    "insurance_df = pd.get_dummies(insurance_df, drop_first=True)\n",
    "\n",
    "X = insurance_df.drop([\"charges\"], axis=1)\n",
    "y = insurance_df[\"charges\"]\n",
    "\n",
    "X, X_test, y, y_test = train_test_split(X, y, test_size=.2, random_state=2023)"
   ]
  },
  {
   "cell_type": "code",
   "execution_count": 8,
   "id": "3efdd82b",
   "metadata": {},
   "outputs": [
    {
     "name": "stdout",
     "output_type": "stream",
     "text": [
      "0.8969422048802109\n",
      "0.8064393932849417\n"
     ]
    }
   ],
   "source": [
    "from sklearn.tree import DecisionTreeRegressor\n",
    "\n",
    "model = DecisionTreeRegressor(max_depth=6)\n",
    "\n",
    "model.fit(X, y)\n",
    "\n",
    "print(model.score(X, y))\n",
    "print(model.score(X_test, y_test))"
   ]
  },
  {
   "cell_type": "code",
   "execution_count": 4,
   "id": "fb054016",
   "metadata": {},
   "outputs": [
    {
     "data": {
      "text/html": [
       "<div>\n",
       "<style scoped>\n",
       "    .dataframe tbody tr th:only-of-type {\n",
       "        vertical-align: middle;\n",
       "    }\n",
       "\n",
       "    .dataframe tbody tr th {\n",
       "        vertical-align: top;\n",
       "    }\n",
       "\n",
       "    .dataframe thead th {\n",
       "        text-align: right;\n",
       "    }\n",
       "</style>\n",
       "<table border=\"1\" class=\"dataframe\">\n",
       "  <thead>\n",
       "    <tr style=\"text-align: right;\">\n",
       "      <th></th>\n",
       "      <th>age</th>\n",
       "      <th>bmi</th>\n",
       "      <th>children</th>\n",
       "      <th>sex_male</th>\n",
       "      <th>smoker_yes</th>\n",
       "      <th>region_northwest</th>\n",
       "      <th>region_southeast</th>\n",
       "      <th>region_southwest</th>\n",
       "    </tr>\n",
       "  </thead>\n",
       "  <tbody>\n",
       "    <tr>\n",
       "      <th>1068</th>\n",
       "      <td>63</td>\n",
       "      <td>21.660</td>\n",
       "      <td>1</td>\n",
       "      <td>1</td>\n",
       "      <td>0</td>\n",
       "      <td>1</td>\n",
       "      <td>0</td>\n",
       "      <td>0</td>\n",
       "    </tr>\n",
       "    <tr>\n",
       "      <th>1018</th>\n",
       "      <td>54</td>\n",
       "      <td>35.815</td>\n",
       "      <td>3</td>\n",
       "      <td>0</td>\n",
       "      <td>0</td>\n",
       "      <td>1</td>\n",
       "      <td>0</td>\n",
       "      <td>0</td>\n",
       "    </tr>\n",
       "    <tr>\n",
       "      <th>995</th>\n",
       "      <td>39</td>\n",
       "      <td>23.275</td>\n",
       "      <td>3</td>\n",
       "      <td>0</td>\n",
       "      <td>0</td>\n",
       "      <td>0</td>\n",
       "      <td>0</td>\n",
       "      <td>0</td>\n",
       "    </tr>\n",
       "    <tr>\n",
       "      <th>1248</th>\n",
       "      <td>18</td>\n",
       "      <td>39.820</td>\n",
       "      <td>0</td>\n",
       "      <td>0</td>\n",
       "      <td>0</td>\n",
       "      <td>0</td>\n",
       "      <td>1</td>\n",
       "      <td>0</td>\n",
       "    </tr>\n",
       "    <tr>\n",
       "      <th>549</th>\n",
       "      <td>43</td>\n",
       "      <td>46.200</td>\n",
       "      <td>0</td>\n",
       "      <td>0</td>\n",
       "      <td>1</td>\n",
       "      <td>0</td>\n",
       "      <td>1</td>\n",
       "      <td>0</td>\n",
       "    </tr>\n",
       "  </tbody>\n",
       "</table>\n",
       "</div>"
      ],
      "text/plain": [
       "      age     bmi  children  sex_male  smoker_yes  region_northwest  \\\n",
       "1068   63  21.660         1         1           0                 1   \n",
       "1018   54  35.815         3         0           0                 1   \n",
       "995    39  23.275         3         0           0                 0   \n",
       "1248   18  39.820         0         0           0                 0   \n",
       "549    43  46.200         0         0           1                 0   \n",
       "\n",
       "      region_southeast  region_southwest  \n",
       "1068                 0                 0  \n",
       "1018                 0                 0  \n",
       "995                  0                 0  \n",
       "1248                 1                 0  \n",
       "549                  1                 0  "
      ]
     },
     "execution_count": 4,
     "metadata": {},
     "output_type": "execute_result"
    }
   ],
   "source": [
    "X.head()"
   ]
  },
  {
   "cell_type": "code",
   "execution_count": 7,
   "id": "13a71c38",
   "metadata": {},
   "outputs": [
    {
     "data": {
      "image/png": "[encoded data removed]",
      "text/plain": [
       "<Figure size 640x480 with 1 Axes>"
      ]
     },
     "metadata": {},
     "output_type": "display_data"
    }
   ],
   "source": [
    "from sklearn.tree import plot_tree\n",
    "\n",
    "plot_tree(model);"
   ]
  },
  {
   "cell_type": "code",
   "execution_count": 9,
   "id": "a6abf46c",
   "metadata": {},
   "outputs": [
    {
     "name": "stdout",
     "output_type": "stream",
     "text": [
      "0.9102561279621249\n",
      "0.8571144812474996\n"
     ]
    }
   ],
   "source": [
    "from sklearn.ensemble import RandomForestRegressor\n",
    "\n",
    "\n",
    "rf = RandomForestRegressor(min_samples_leaf=5, n_estimators=1000, random_state=2023)\n",
    "\n",
    "model = rf.fit(X, y)\n",
    "\n",
    "print(model.score(X, y))\n",
    "print(model.score(X_test, y_test))"
   ]
  },
  {
   "cell_type": "code",
   "execution_count": 10,
   "id": "013d205d",
   "metadata": {},
   "outputs": [
    {
     "name": "stdout",
     "output_type": "stream",
     "text": [
      "0.883628745344029\n",
      "0.8675330292228424\n"
     ]
    }
   ],
   "source": [
    "from sklearn.ensemble import GradientBoostingRegressor\n",
    "\n",
    "gb = GradientBoostingRegressor(min_samples_leaf=5, n_estimators=50, random_state=2023)\n",
    "\n",
    "model = gb.fit(X, y)\n",
    "\n",
    "print(model.score(X, y))\n",
    "print(model.score(X_test, y_test))"
   ]
  },
  {
   "cell_type": "code",
   "execution_count": null,
   "id": "5cf88747",
   "metadata": {},
   "outputs": [],
   "source": []
  }
 ],
 "metadata": {
  "kernelspec": {
   "display_name": "Python 3 (ipykernel)",
   "language": "python",
   "name": "python3"
  },
  "language_info": {
   "codemirror_mode": {
    "name": "ipython",
    "version": 3
   },
   "file_extension": ".py",
   "mimetype": "text/x-python",
   "name": "python",
   "nbconvert_exporter": "python",
   "pygments_lexer": "ipython3",
   "version": "3.13.3"
  }
 },
 "nbformat": 4,
 "nbformat_minor": 5
}
