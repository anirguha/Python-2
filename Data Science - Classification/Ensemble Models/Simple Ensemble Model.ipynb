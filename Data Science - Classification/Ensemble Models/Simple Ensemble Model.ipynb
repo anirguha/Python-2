{
 "cells": [
  {
   "cell_type": "markdown",
   "id": "0a7dd5b0-8bbc-4c3f-a1cf-ec94881f040c",
   "metadata": {},
   "source": [
    "## Simple Ensemble Model"
   ]
  },
  {
   "cell_type": "code",
   "execution_count": 1,
   "id": "405ad7fd-9b29-4d11-8c33-e12e08bafb94",
   "metadata": {},
   "outputs": [],
   "source": [
    "import pandas as pd\n",
    "import numpy as np\n",
    "import matplotlib.pyplot as plt\n",
    "import seaborn as sns"
   ]
  },
  {
   "cell_type": "code",
   "execution_count": 2,
   "id": "088b6f37-8272-4d61-9181-f2fe29ee5291",
   "metadata": {},
   "outputs": [],
   "source": [
    "from sklearn.model_selection import train_test_split\n",
    "\n",
    "def income_model_data_prep(data):\n",
    "    data = pd.get_dummies(\n",
    "        income.assign(\n",
    "                target = np.where(data[\"SalStat\"]==\" less than or equal to 50,000\", 0,1),\n",
    "                nativecountry = data[\"nativecountry\"].str.replace(\" Holand-Netherlands\",\n",
    "                                                         \" Germany\"),\n",
    "                JobType = data[\"JobType\"].replace({\" Never-worked\":\" Without-pay\"}),\n",
    "                occupation = data[\"occupation\"].str.replace(\" Armed-Forces\",\" ?\")\n",
    "                ).drop(\"SalStat\",axis=1),\n",
    "        drop_first=True\n",
    "    )\n",
    "    X = data.drop(columns=[\"target\"],axis=1)\n",
    "    y = data[\"target\"]\n",
    "\n",
    "    X_train, X_test, y_train, y_test = train_test_split(X, y, test_size=0.2, random_state=4)\n",
    "\n",
    "    return X_train, X_test, y_train, y_test"
   ]
  },
  {
   "cell_type": "code",
   "execution_count": 3,
   "id": "bc5dc6b4-9f63-4d69-a25b-f595c2e12e23",
   "metadata": {},
   "outputs": [],
   "source": [
    "## Split train and test datasets\n",
    "\n",
    "income = pd.read_csv(\"../Data/income.csv\")\n",
    "\n",
    "X_train, X_test, y_train, y_test = income_model_data_prep(income)"
   ]
  },
  {
   "cell_type": "code",
   "execution_count": 5,
   "id": "d9881115-4b4b-4429-ab98-0820481d8f97",
   "metadata": {},
   "outputs": [],
   "source": [
    "## Scale the features (needed by KNN and Logistic models)\n",
    "from sklearn.preprocessing import StandardScaler\n",
    "\n",
    "sd = StandardScaler()\n",
    "X_train_std = sd.fit_transform(X_train)\n",
    "X_test_std = sd.transform(X_test)"
   ]
  },
  {
   "cell_type": "code",
   "execution_count": 7,
   "id": "531954b5-a2dd-4782-bff7-314af11a78eb",
   "metadata": {},
   "outputs": [
    {
     "name": "stdout",
     "output_type": "stream",
     "text": [
      "KNN Accuracy: 0.8338023764853033\n"
     ]
    }
   ],
   "source": [
    "## fit the dataset with a KNN model\n",
    "from sklearn.neighbors import KNeighborsClassifier\n",
    "\n",
    "knn = KNeighborsClassifier(n_neighbors=25)\n",
    "knn.fit(X_train_std, y_train)\n",
    "\n",
    "print('KNN Accuracy:', knn.score(X_test_std, y_test))\n"
   ]
  },
  {
   "cell_type": "code",
   "execution_count": 8,
   "id": "6d8ea192-46ca-4611-a919-348a72438cd4",
   "metadata": {},
   "outputs": [
    {
     "name": "stdout",
     "output_type": "stream",
     "text": [
      "Logistic Accuracy: 0.8558474046278924\n"
     ]
    }
   ],
   "source": [
    "## fit the dataset with Logistic Regression model\n",
    "from sklearn.linear_model import LogisticRegression\n",
    "\n",
    "lr = LogisticRegression(C=0.6, penalty='l2',solver='saga',max_iter=1000)\n",
    "lr.fit(X_train_std, y_train)\n",
    "\n",
    "print('Logistic Accuracy:', lr.score(X_test_std, y_test))"
   ]
  },
  {
   "cell_type": "code",
   "execution_count": 9,
   "id": "a92af068-0d6a-45cd-9f13-6dcff36fbd76",
   "metadata": {},
   "outputs": [
    {
     "name": "stdout",
     "output_type": "stream",
     "text": [
      "Decision Tree Accuracy: 0.8595997498436523\n"
     ]
    }
   ],
   "source": [
    "## fit the dataset with a Decision tree model\n",
    "from sklearn.tree import DecisionTreeClassifier\n",
    "\n",
    "dt = DecisionTreeClassifier(max_depth=10, min_samples_leaf=25)\n",
    "dt.fit(X_train_std, y_train)\n",
    "\n",
    "print('Decision Tree Accuracy:', dt.score(X_test_std, y_test))"
   ]
  },
  {
   "cell_type": "code",
   "execution_count": 15,
   "id": "5691ab54-523e-494a-bc49-0fbea77c5bb3",
   "metadata": {},
   "outputs": [
    {
     "name": "stdout",
     "output_type": "stream",
     "text": [
      "Hard Ensemble Accuracy: 0.8625703564727955\n"
     ]
    }
   ],
   "source": [
    "## fit the dataset with Ensemble model\n",
    "from sklearn.ensemble import VotingClassifier\n",
    "\n",
    "hard_ensemble = VotingClassifier(\n",
    "            estimators=[\n",
    "                ('knn',knn),\n",
    "                ('lr', lr),\n",
    "                ('dt', dt)\n",
    "            ],\n",
    "    voting=\"hard\"\n",
    "    )\n",
    "\n",
    "he = hard_ensemble.fit(X_train_std, y_train)\n",
    "\n",
    "print('Hard Ensemble Accuracy:', he.score(X_test_std, y_test))"
   ]
  },
  {
   "cell_type": "code",
   "execution_count": 16,
   "id": "2626c925-f476-4be5-9ef1-2359b13b00f3",
   "metadata": {},
   "outputs": [
    {
     "name": "stdout",
     "output_type": "stream",
     "text": [
      "Soft Voting Ensemble Accuracy: 0.8625703564727955\n"
     ]
    }
   ],
   "source": [
    "soft_ensemble = VotingClassifier(\n",
    "            estimators=[\n",
    "                ('knn',knn),\n",
    "                ('lr', lr),\n",
    "                ('dt', dt)\n",
    "            ],\n",
    "    voting=\"soft\"\n",
    "    )\n",
    "\n",
    "se = hard_ensemble.fit(X_train_std, y_train)\n",
    "\n",
    "print('Soft Voting Ensemble Accuracy:', se.score(X_test_std, y_test))"
   ]
  },
  {
   "cell_type": "code",
   "execution_count": null,
   "id": "0b4419b9-bb56-492d-aa7d-0d165b76a023",
   "metadata": {},
   "outputs": [],
   "source": []
  }
 ],
 "metadata": {
  "kernelspec": {
   "display_name": "Python 3 (ipykernel)",
   "language": "python",
   "name": "python3"
  },
  "language_info": {
   "codemirror_mode": {
    "name": "ipython",
    "version": 3
   },
   "file_extension": ".py",
   "mimetype": "text/x-python",
   "name": "python",
   "nbconvert_exporter": "python",
   "pygments_lexer": "ipython3",
   "version": "3.13.3"
  }
 },
 "nbformat": 4,
 "nbformat_minor": 5
}
