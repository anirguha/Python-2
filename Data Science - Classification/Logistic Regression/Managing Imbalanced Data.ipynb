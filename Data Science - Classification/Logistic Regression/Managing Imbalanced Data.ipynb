{
 "cells": [
  {
   "cell_type": "markdown",
   "id": "9ac48060-d9dd-4674-b9fd-df2b633ed090",
   "metadata": {},
   "source": [
    "## Imbalanced Data - Oversampling and Undersampling"
   ]
  },
  {
   "cell_type": "code",
   "execution_count": 1,
   "id": "aca863d4-0847-42e5-a5f6-814dea7ecd48",
   "metadata": {},
   "outputs": [],
   "source": [
    "import pandas as pd\n",
    "import numpy as np\n",
    "import matplotlib.pyplot as plt\n",
    "import seaborn as sns"
   ]
  },
  {
   "cell_type": "code",
   "execution_count": 2,
   "id": "efebec23-34f5-4bcd-9793-5bcadd3fa223",
   "metadata": {},
   "outputs": [],
   "source": [
    "from sklearn.model_selection import train_test_split\n",
    "\n",
    "def income_model_data_prep(data):\n",
    "    data = pd.get_dummies(\n",
    "        income.assign(\n",
    "                target = np.where(data[\"SalStat\"]==\" less than or equal to 50,000\", 0,1),\n",
    "                nativecountry = data[\"nativecountry\"].str.replace(\" Holand-Netherlands\",\n",
    "                                                         \" Germany\"),\n",
    "                JobType = data[\"JobType\"].replace({\" Never-worked\":\" Without-pay\"}),\n",
    "                occupation = data[\"occupation\"].str.replace(\" Armed-Forces\",\" ?\")\n",
    "                ).drop(\"SalStat\",axis=1),\n",
    "        drop_first=True\n",
    "    )\n",
    "    X = data.drop(columns=[\"target\"],axis=1)\n",
    "    y = data[\"target\"]\n",
    "\n",
    "    X_train, X_test, y_train, y_test = train_test_split(X, y, test_size=0.2, random_state=4)\n",
    "\n",
    "    return X_train, X_test, y_train, y_test"
   ]
  },
  {
   "cell_type": "code",
   "execution_count": 3,
   "id": "d065ad6e-c0e0-4c08-bf64-d624387d3beb",
   "metadata": {},
   "outputs": [],
   "source": [
    "## Split train and test datasets\n",
    "\n",
    "income = pd.read_csv(\"../Data/income.csv\")\n",
    "\n",
    "X_train, X_test, y_train, y_test = income_model_data_prep(income)"
   ]
  },
  {
   "cell_type": "code",
   "execution_count": 4,
   "id": "02de8e65-8058-41b6-b09f-7025b222c857",
   "metadata": {},
   "outputs": [
    {
     "name": "stdout",
     "output_type": "stream",
     "text": [
      "Accuracy: 0.8541275797373359\n",
      "F1 Score: 0.6652314316469322\n"
     ]
    },
    {
     "name": "stderr",
     "output_type": "stream",
     "text": [
      "/opt/anaconda3/envs/jupyterlab-debugger/lib/python3.13/site-packages/sklearn/linear_model/_logistic.py:465: ConvergenceWarning: lbfgs failed to converge (status=1):\n",
      "STOP: TOTAL NO. OF ITERATIONS REACHED LIMIT.\n",
      "\n",
      "Increase the number of iterations (max_iter) or scale the data as shown in:\n",
      "    https://scikit-learn.org/stable/modules/preprocessing.html\n",
      "Please also refer to the documentation for alternative solver options:\n",
      "    https://scikit-learn.org/stable/modules/linear_model.html#logistic-regression\n",
      "  n_iter_i = _check_optimize_result(\n"
     ]
    }
   ],
   "source": [
    "from sklearn.linear_model import LogisticRegression\n",
    "from sklearn.metrics import f1_score, accuracy_score\n",
    "\n",
    "logreg = LogisticRegression(max_iter=1000)\n",
    "lr = logreg.fit(X_train, y_train)\n",
    "\n",
    "pred_orig = lr.predict(X_train)\n",
    "\n",
    "print(f'Accuracy: {accuracy_score(y_test, lr.predict(X_test))}')\n",
    "print(f'F1 Score: {f1_score(y_test, lr.predict(X_test))}')"
   ]
  },
  {
   "cell_type": "markdown",
   "id": "415298c3-3f32-48c6-a411-d7bf959f7fcc",
   "metadata": {},
   "source": [
    "### Sampling Methods\n",
    "1. Umdersample the data to a 2:1 ratio of teh 0s and 1s. Generate a confusion matrix,\n",
    "   and calculate common evaluations metrics.\n",
    "2. Oversample the data using Random Oversampling by creating 4x of the number of 1s\n",
    "   and fit a logistic regression.\n",
    "3. Use SMOTE to oversample the data, creating 4x of the current number of 1s."
   ]
  },
  {
   "cell_type": "code",
   "execution_count": 5,
   "id": "dff589a3-7884-4a47-a7ed-bb8bd0ec2ecf",
   "metadata": {},
   "outputs": [
    {
     "name": "stderr",
     "output_type": "stream",
     "text": [
      "/opt/anaconda3/envs/jupyterlab-debugger/lib/python3.13/site-packages/sklearn/linear_model/_logistic.py:465: ConvergenceWarning: lbfgs failed to converge (status=1):\n",
      "STOP: TOTAL NO. OF ITERATIONS REACHED LIMIT.\n",
      "\n",
      "Increase the number of iterations (max_iter) or scale the data as shown in:\n",
      "    https://scikit-learn.org/stable/modules/preprocessing.html\n",
      "Please also refer to the documentation for alternative solver options:\n",
      "    https://scikit-learn.org/stable/modules/linear_model.html#logistic-regression\n",
      "  n_iter_i = _check_optimize_result(\n"
     ]
    }
   ],
   "source": [
    "from imblearn import under_sampling as US\n",
    "\n",
    "## Randomly undersample negative samples\n",
    "RUS = US.RandomUnderSampler(sampling_strategy= 1/2, random_state=1024)\n",
    "\n",
    "X_train_us, y_train_us = RUS.fit_resample(X_train, y_train)\n",
    "\n",
    "lr_us = logreg.fit(X_train_us, y_train_us)\n",
    "\n",
    "pred_us = lr_us.predict(X_train_us)"
   ]
  },
  {
   "cell_type": "code",
   "execution_count": 6,
   "id": "4deb1979-600d-44f8-bdec-4ce17616e215",
   "metadata": {},
   "outputs": [
    {
     "data": {
      "text/plain": [
       "array([[10910,  1392],\n",
       "       [ 1850,  4301]])"
      ]
     },
     "execution_count": 6,
     "metadata": {},
     "output_type": "execute_result"
    }
   ],
   "source": [
    "from sklearn.metrics import confusion_matrix, precision_score, recall_score, accuracy_score, f1_score\n",
    "\n",
    "confusion_matrix(y_train_us, pred_us)"
   ]
  },
  {
   "cell_type": "code",
   "execution_count": 7,
   "id": "8b832de9-2832-4c9d-b06d-89e8b1780049",
   "metadata": {},
   "outputs": [
    {
     "name": "stdout",
     "output_type": "stream",
     "text": [
      "Original accuracy: 0.8498162770698147 \n",
      "Undersampled accuracy: 0.8243104102313987 \n",
      "Original precision: 0.7314091000200441 \n",
      "Undersampled precision: 0.7554891972597927 \n",
      "Original recall: 0.5932368720533246 \n",
      "Undersampled recall: 0.6992358966021786 \n",
      "Original F1 score: 0.655116696588869 \n",
      "Undersampled F1 score: 0.726274907125971 \n"
     ]
    }
   ],
   "source": [
    "print(f'Original accuracy: {accuracy_score(y_train, pred_orig)} ')\n",
    "print(f'Undersampled accuracy: {accuracy_score(y_train_us, pred_us)} ')\n",
    "print(f'Original precision: {precision_score(y_train, pred_orig)} ')\n",
    "print(f'Undersampled precision: {precision_score(y_train_us, pred_us)} ')\n",
    "print(f'Original recall: {recall_score(y_train, pred_orig)} ')\n",
    "print(f'Undersampled recall: {recall_score(y_train_us, pred_us)} ')\n",
    "print(f'Original F1 score: {f1_score(y_train, pred_orig)} ')\n",
    "print(f'Undersampled F1 score: {f1_score(y_train_us, pred_us)} ')"
   ]
  },
  {
   "cell_type": "code",
   "execution_count": 8,
   "id": "317a5125-9f12-4a22-b6cd-50acf3c92023",
   "metadata": {},
   "outputs": [
    {
     "name": "stderr",
     "output_type": "stream",
     "text": [
      "/opt/anaconda3/envs/jupyterlab-debugger/lib/python3.13/site-packages/sklearn/linear_model/_logistic.py:465: ConvergenceWarning: lbfgs failed to converge (status=1):\n",
      "STOP: TOTAL NO. OF ITERATIONS REACHED LIMIT.\n",
      "\n",
      "Increase the number of iterations (max_iter) or scale the data as shown in:\n",
      "    https://scikit-learn.org/stable/modules/preprocessing.html\n",
      "Please also refer to the documentation for alternative solver options:\n",
      "    https://scikit-learn.org/stable/modules/linear_model.html#logistic-regression\n",
      "  n_iter_i = _check_optimize_result(\n"
     ]
    }
   ],
   "source": [
    "import imblearn.over_sampling as OS\n",
    "\n",
    "## Oversample by creating 4x positive samples\n",
    "\n",
    "n_pos = y_train.sum()\n",
    "n_neg = len(y_train) - n_pos\n",
    "ratio = {1:n_pos * 4, 0:n_neg}\n",
    "\n",
    "## Fit the model with oversampled training data\n",
    "ROS = OS.RandomOverSampler(sampling_strategy= ratio, random_state=1024)\n",
    "X_train_os, y_train_os = ROS.fit_resample(X_train, y_train)\n",
    "\n",
    "lr_os = logreg.fit(X_train_os, y_train_os)\n",
    "\n",
    "pred_os = lr_os.predict(X_train_os)\n"
   ]
  },
  {
   "cell_type": "code",
   "execution_count": 9,
   "id": "65923f38-0d7e-4144-b779-7a8b8956232d",
   "metadata": {},
   "outputs": [
    {
     "name": "stdout",
     "output_type": "stream",
     "text": [
      "Original accuracy: 0.8498162770698147 \n",
      "Overasampled accuracy: 0.8246394913137277 \n",
      "Original precision: 0.7314091000200441 \n",
      "Oversampled precision: 0.8208285822881034 \n",
      "Original recall: 0.5932368720533246 \n",
      "Oversampled recall: 0.8777434563485612 \n",
      "Original F1 score: 0.655116696588869 \n",
      "Oversampled F1 score: 0.8483324822249283 \n"
     ]
    }
   ],
   "source": [
    "print(f'Original accuracy: {accuracy_score(y_train, pred_orig)} ')\n",
    "print(f'Overasampled accuracy: {accuracy_score(y_train_os, pred_os)} ')\n",
    "print(f'Original precision: {precision_score(y_train, pred_orig)} ')\n",
    "print(f'Oversampled precision: {precision_score(y_train_os, pred_os)} ')\n",
    "print(f'Original recall: {recall_score(y_train, pred_orig)} ')\n",
    "print(f'Oversampled recall: {recall_score(y_train_os, pred_os)} ')\n",
    "print(f'Original F1 score: {f1_score(y_train, pred_orig)} ')\n",
    "print(f'Oversampled F1 score: {f1_score(y_train_os, pred_os)} ')"
   ]
  },
  {
   "cell_type": "code",
   "execution_count": 10,
   "id": "5b049794-eb7f-4e4c-af2c-d05ffbccbf5b",
   "metadata": {},
   "outputs": [
    {
     "name": "stderr",
     "output_type": "stream",
     "text": [
      "/opt/anaconda3/envs/jupyterlab-debugger/lib/python3.13/site-packages/sklearn/linear_model/_logistic.py:465: ConvergenceWarning: lbfgs failed to converge (status=1):\n",
      "STOP: TOTAL NO. OF ITERATIONS REACHED LIMIT.\n",
      "\n",
      "Increase the number of iterations (max_iter) or scale the data as shown in:\n",
      "    https://scikit-learn.org/stable/modules/preprocessing.html\n",
      "Please also refer to the documentation for alternative solver options:\n",
      "    https://scikit-learn.org/stable/modules/linear_model.html#logistic-regression\n",
      "  n_iter_i = _check_optimize_result(\n"
     ]
    }
   ],
   "source": [
    "import imblearn.over_sampling as OS\n",
    "\n",
    "## Oversample by creating 4x positive samples\n",
    "\n",
    "n_pos = y_train.sum()\n",
    "n_neg = len(y_train) - n_pos\n",
    "ratio = {1:n_pos * 4, 0:n_neg}\n",
    "\n",
    "## SMOTE oversample for positives\n",
    "## Fit the model with oversampled training data\n",
    "SMT = OS.SMOTE(sampling_strategy= ratio, random_state=1024)\n",
    "X_train_smt, y_train_smt = SMT.fit_resample(X_train, y_train)\n",
    "\n",
    "lr_smt = logreg.fit(X_train_smt, y_train_smt)\n",
    "\n",
    "pred_smt = lr_smt.predict(X_train_smt)"
   ]
  },
  {
   "cell_type": "code",
   "execution_count": 11,
   "id": "4aed372a-5e33-4b1c-b475-df624e8ff1f0",
   "metadata": {},
   "outputs": [
    {
     "name": "stdout",
     "output_type": "stream",
     "text": [
      "Original accuracy: 0.8498162770698147 \n",
      "SMOTE Overasampled accuracy: 0.8774838196888839 \n",
      "Original precision: 0.7314091000200441 \n",
      "SMOTE Oversampled precision: 0.8777581120943952 \n",
      "Original recall: 0.5932368720533246 \n",
      "SMOTE Oversampled recall: 0.9070476345309706 \n",
      "Original F1 score: 0.655116696588869 \n",
      "SMOTE Oversampled F1 score: 0.8921625457234804 \n"
     ]
    }
   ],
   "source": [
    "print(f'Original accuracy: {accuracy_score(y_train, pred_orig)} ')\n",
    "print(f'SMOTE Overasampled accuracy: {accuracy_score(y_train_smt, pred_smt)} ')\n",
    "print(f'Original precision: {precision_score(y_train, pred_orig)} ')\n",
    "print(f'SMOTE Oversampled precision: {precision_score(y_train_smt, pred_smt)} ')\n",
    "print(f'Original recall: {recall_score(y_train, pred_orig)} ')\n",
    "print(f'SMOTE Oversampled recall: {recall_score(y_train_smt, pred_smt)} ')\n",
    "print(f'Original F1 score: {f1_score(y_train, pred_orig)} ')\n",
    "print(f'SMOTE Oversampled F1 score: {f1_score(y_train_smt, pred_smt)} ')"
   ]
  },
  {
   "cell_type": "code",
   "execution_count": 12,
   "id": "799618bd-f241-4d56-98d8-e1920fbfbfd4",
   "metadata": {},
   "outputs": [
    {
     "name": "stdout",
     "output_type": "stream",
     "text": [
      "--------------Test Results on SMOTE model-----------\n",
      "Original F1 Score: 0.6629866356769321\n",
      "SMOTE F1 Score: 0.6629866356769321\n"
     ]
    }
   ],
   "source": [
    "## testing the model with SMOTE oversampled model\n",
    "\n",
    "print('--------------Test Results on SMOTE model-----------')\n",
    "print(f'Original F1 Score: {f1_score(y_test, lr.predict(X_test))}')\n",
    "print(f'SMOTE F1 Score: {f1_score(y_test, lr_smt.predict(X_test))}')"
   ]
  },
  {
   "cell_type": "code",
   "execution_count": 13,
   "id": "49ea412c-571e-4e7e-8c0f-7966210eea7c",
   "metadata": {},
   "outputs": [
    {
     "data": {
      "text/plain": [
       "SalStat\n",
       "less than or equal to 50,000    0.759366\n",
       "greater than 50,000             0.240634\n",
       "Name: proportion, dtype: float64"
      ]
     },
     "execution_count": 13,
     "metadata": {},
     "output_type": "execute_result"
    }
   ],
   "source": [
    "income[\"SalStat\"].value_counts(normalize=True)"
   ]
  },
  {
   "cell_type": "markdown",
   "id": "2752fada-3ac7-46d9-b33d-acbbbecbd182",
   "metadata": {},
   "source": [
    "### Tuning the class weights (hyperparameter)"
   ]
  },
  {
   "cell_type": "code",
   "execution_count": 14,
   "id": "97c94b32-426e-4df0-8a7c-8a4760c11c20",
   "metadata": {},
   "outputs": [
    {
     "name": "stderr",
     "output_type": "stream",
     "text": [
      "/opt/anaconda3/envs/jupyterlab-debugger/lib/python3.13/site-packages/sklearn/linear_model/_logistic.py:465: ConvergenceWarning: lbfgs failed to converge (status=1):\n",
      "STOP: TOTAL NO. OF ITERATIONS REACHED LIMIT.\n",
      "\n",
      "Increase the number of iterations (max_iter) or scale the data as shown in:\n",
      "    https://scikit-learn.org/stable/modules/preprocessing.html\n",
      "Please also refer to the documentation for alternative solver options:\n",
      "    https://scikit-learn.org/stable/modules/linear_model.html#logistic-regression\n",
      "  n_iter_i = _check_optimize_result(\n"
     ]
    }
   ],
   "source": [
    "logreg_balanced = LogisticRegression(class_weight=\"balanced\")\n",
    "\n",
    "lr_balanced = logreg_balanced.fit(X_train, y_train)\n",
    "\n",
    "pred_balanced = lr_balanced.predict(X_test)"
   ]
  },
  {
   "cell_type": "code",
   "execution_count": 15,
   "id": "2b5e611b-b95e-4b6f-a3c9-da2c9ebaef46",
   "metadata": {},
   "outputs": [
    {
     "name": "stdout",
     "output_type": "stream",
     "text": [
      "------Evaluating the model------\n",
      "Accuracy:  0.7823639774859287\n",
      "Precision:  0.5305711987127917\n",
      "Recall:  0.8542746113989638\n",
      "F1 Score:  0.654590570719603\n"
     ]
    }
   ],
   "source": [
    "print(\"------Evaluating the model------\")\n",
    "print('Accuracy: ', accuracy_score(y_test, pred_balanced))\n",
    "print('Precision: ', precision_score(y_test, pred_balanced))\n",
    "print('Recall: ', recall_score(y_test, pred_balanced))\n",
    "print('F1 Score: ', f1_score(y_test, pred_balanced))"
   ]
  },
  {
   "cell_type": "code",
   "execution_count": 16,
   "id": "2507e2da-ade6-45cd-a0f1-ea838aae44f2",
   "metadata": {},
   "outputs": [
    {
     "name": "stderr",
     "output_type": "stream",
     "text": [
      "/opt/anaconda3/envs/jupyterlab-debugger/lib/python3.13/site-packages/sklearn/linear_model/_logistic.py:465: ConvergenceWarning: lbfgs failed to converge (status=1):\n",
      "STOP: TOTAL NO. OF ITERATIONS REACHED LIMIT.\n",
      "\n",
      "Increase the number of iterations (max_iter) or scale the data as shown in:\n",
      "    https://scikit-learn.org/stable/modules/preprocessing.html\n",
      "Please also refer to the documentation for alternative solver options:\n",
      "    https://scikit-learn.org/stable/modules/linear_model.html#logistic-regression\n",
      "  n_iter_i = _check_optimize_result(\n"
     ]
    }
   ],
   "source": [
    "logreg_4x = LogisticRegression(class_weight={1:4, 0:1})\n",
    "\n",
    "lr_4x = logreg_4x.fit(X_train, y_train)\n",
    "\n",
    "pred_4x = lr_4x.predict(X_test)"
   ]
  },
  {
   "cell_type": "code",
   "execution_count": 17,
   "id": "55a296a9-1eab-42fa-ac03-a451f1d05c47",
   "metadata": {},
   "outputs": [
    {
     "name": "stdout",
     "output_type": "stream",
     "text": [
      "------Evaluating the model------\n",
      "Accuracy:  0.7614133833646028\n",
      "Precision:  0.5034856700232379\n",
      "Recall:  0.8419689119170984\n",
      "F1 Score:  0.6301502666020359\n"
     ]
    }
   ],
   "source": [
    "print(\"------Evaluating the model------\")\n",
    "print('Accuracy: ', accuracy_score(y_test, pred_4x))\n",
    "print('Precision: ', precision_score(y_test, pred_4x))\n",
    "print('Recall: ', recall_score(y_test, pred_4x))\n",
    "print('F1 Score: ', f1_score(y_test, pred_4x))"
   ]
  },
  {
   "cell_type": "code",
   "execution_count": 18,
   "id": "21f175d2-31be-4f00-a09c-30fef033396f",
   "metadata": {},
   "outputs": [
    {
     "name": "stdout",
     "output_type": "stream",
     "text": [
      "original auc: 0.8867558087258499\n",
      "balanced auc 0.8976575147687615\n",
      "4x auc 0.8909324155628361\n"
     ]
    }
   ],
   "source": [
    "from sklearn.metrics import roc_curve, auc\n",
    "\n",
    "y_probs = lr.predict_proba(X_test)[:,1]\n",
    "fpr, tpr, thresholds = roc_curve(y_test, y_probs)\n",
    "auc_score = auc(fpr, tpr)\n",
    "\n",
    "y_balanced_probs = lr_balanced.predict_proba(X_test)[:,1]\n",
    "fpr_balanced, tpr_balanced, thresholds_balanced = roc_curve(y_test, y_balanced_probs)\n",
    "auc_score_balanced = auc(fpr_balanced, tpr_balanced)\n",
    "\n",
    "y_4x_probs = lr_4x.predict_proba(X_test)[:,1]\n",
    "fpr_4x, tpr_4x, thresholds_4x = roc_curve(y_test, y_4x_probs)\n",
    "auc_score_4x = auc(fpr_4x, tpr_4x)\n",
    "\n",
    "print('original auc:', auc_score)\n",
    "print('balanced auc', auc_score_balanced)\n",
    "print('4x auc', auc_score_4x)"
   ]
  },
  {
   "cell_type": "code",
   "execution_count": null,
   "id": "f10b3567-a76b-4fab-9f7a-cf7313d0f208",
   "metadata": {},
   "outputs": [],
   "source": []
  }
 ],
 "metadata": {
  "kernelspec": {
   "display_name": "Python 3 (ipykernel)",
   "language": "python",
   "name": "python3"
  },
  "language_info": {
   "codemirror_mode": {
    "name": "ipython",
    "version": 3
   },
   "file_extension": ".py",
   "mimetype": "text/x-python",
   "name": "python",
   "nbconvert_exporter": "python",
   "pygments_lexer": "ipython3",
   "version": "3.13.3"
  }
 },
 "nbformat": 4,
 "nbformat_minor": 5
}
