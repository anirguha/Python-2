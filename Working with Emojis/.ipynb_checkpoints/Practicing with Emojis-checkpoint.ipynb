{
 "cells": [
  {
   "cell_type": "code",
   "execution_count": 1,
   "id": "a3085e46-4b07-46ad-aa47-9a632188a604",
   "metadata": {
    "tags": []
   },
   "outputs": [
    {
     "name": "stdout",
     "output_type": "stream",
     "text": [
      "Collecting emoji\n",
      "  Downloading emoji-2.14.1-py3-none-any.whl.metadata (5.7 kB)\n",
      "Downloading emoji-2.14.1-py3-none-any.whl (590 kB)\n",
      "\u001b[2K   \u001b[90m━━━━━━━━━━━━━━━━━━━━━━━━━━━━━━━━━━━━━━━━\u001b[0m \u001b[32m590.6/590.6 kB\u001b[0m \u001b[31m8.4 MB/s\u001b[0m eta \u001b[36m0:00:00\u001b[0m\n",
      "\u001b[?25hInstalling collected packages: emoji\n",
      "Successfully installed emoji-2.14.1\n"
     ]
    }
   ],
   "source": [
    "!pip install emoji"
   ]
  },
  {
   "cell_type": "code",
   "execution_count": 2,
   "id": "9bb0d8a4-94b8-4ce6-a2f5-d7500bc788e6",
   "metadata": {
    "tags": []
   },
   "outputs": [],
   "source": [
    "import emoji"
   ]
  },
  {
   "cell_type": "code",
   "execution_count": 4,
   "id": "52f41cc7-c1ed-4d5c-8947-85f2bd078805",
   "metadata": {
    "tags": []
   },
   "outputs": [
    {
     "name": "stdout",
     "output_type": "stream",
     "text": [
      "🐝\n"
     ]
    }
   ],
   "source": [
    "print('🐝')"
   ]
  },
  {
   "cell_type": "code",
   "execution_count": 12,
   "id": "9c188a42-d2d7-4963-9ffa-d95fc6002abd",
   "metadata": {
    "tags": []
   },
   "outputs": [
    {
     "name": "stdout",
     "output_type": "stream",
     "text": [
      "🌻\n"
     ]
    }
   ],
   "source": [
    "print(emoji.emojize(':sunflower:',language='alias'))"
   ]
  },
  {
   "cell_type": "code",
   "execution_count": 18,
   "id": "56fbbeef-877d-4646-adea-59681cd105e7",
   "metadata": {
    "tags": []
   },
   "outputs": [
    {
     "name": "stdout",
     "output_type": "stream",
     "text": [
      "0x1f339\n"
     ]
    }
   ],
   "source": [
    "print(hex(ord('🌹')))"
   ]
  },
  {
   "cell_type": "code",
   "execution_count": 22,
   "id": "4a71219c-549f-41a4-bb0e-4994709e38fa",
   "metadata": {
    "tags": []
   },
   "outputs": [
    {
     "name": "stdout",
     "output_type": "stream",
     "text": [
      "1f339\n"
     ]
    }
   ],
   "source": [
    "print(f'{ord('🌹'):x}')"
   ]
  },
  {
   "cell_type": "code",
   "execution_count": null,
   "id": "ba2fc0dc-9dda-40f8-a15a-73dacab0b5ee",
   "metadata": {},
   "outputs": [],
   "source": []
  }
 ],
 "metadata": {
  "kernelspec": {
   "display_name": "Python 3 (ipykernel)",
   "language": "python",
   "name": "python3"
  },
  "language_info": {
   "codemirror_mode": {
    "name": "ipython",
    "version": 3
   },
   "file_extension": ".py",
   "mimetype": "text/x-python",
   "name": "python",
   "nbconvert_exporter": "python",
   "pygments_lexer": "ipython3",
   "version": "3.13.3"
  }
 },
 "nbformat": 4,
 "nbformat_minor": 5
}
