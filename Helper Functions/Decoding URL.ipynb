{
 "cells": [
  {
   "cell_type": "code",
   "execution_count": 10,
   "id": "7f262071-fb4c-43e8-a09b-2389dd1bafdf",
   "metadata": {},
   "outputs": [],
   "source": [
    "import urllib.parse\n",
    "\n",
    "encoded_name = \"EPORNER.COM%20-%20[KgKbORqIqoe]%20BEST%20AMATEURS!%20(5)%20(2160)\"\n",
    "decoded_name = urllib.parse.unquote(encoded_name)"
   ]
  },
  {
   "cell_type": "code",
   "execution_count": 11,
   "id": "def496d2-0cb5-487f-9726-6e50a7ef17af",
   "metadata": {},
   "outputs": [
    {
     "data": {
      "text/plain": [
       "'BEST AMATEURS! (5) (2160)'"
      ]
     },
     "execution_count": 11,
     "metadata": {},
     "output_type": "execute_result"
    }
   ],
   "source": [
    "decoded_name[28:]"
   ]
  },
  {
   "cell_type": "code",
   "execution_count": 12,
   "id": "e385eb51-6b4f-4286-92a0-c084ba670179",
   "metadata": {},
   "outputs": [
    {
     "data": {
      "text/plain": [
       "53"
      ]
     },
     "execution_count": 12,
     "metadata": {},
     "output_type": "execute_result"
    }
   ],
   "source": [
    "len(decoded_name)"
   ]
  },
  {
   "cell_type": "code",
   "execution_count": 20,
   "id": "234fe295-95a5-4904-aee4-f3b7e46d7d0d",
   "metadata": {},
   "outputs": [
    {
     "data": {
      "text/plain": [
       "'BEST AMATEURS! (5) (2160).mp4'"
      ]
     },
     "execution_count": 20,
     "metadata": {},
     "output_type": "execute_result"
    }
   ],
   "source": [
    "from pathlib import Path\n",
    "file = '/Users/AnirbanGuha/Downloads/EPORNER.COM%20-%20[KgKbORqIqoe]%20BEST%20AMATEURS!%20(5)%20(2160).mp4'\n",
    "\n",
    "file = Path(file)\n",
    "\n",
    "file.name\n",
    "\n",
    "decoded_filename = urllib.parse.unquote(file.name)\n",
    "decoded_filename[28:]\n"
   ]
  },
  {
   "cell_type": "code",
   "execution_count": 23,
   "id": "08a3907c-4b08-48e6-afad-2a7f938ffc89",
   "metadata": {},
   "outputs": [],
   "source": [
    "import os\n",
    "\n",
    "src = f\"/Users/AnirbanGuha/Downloads/{file.name}\"\n",
    "dst = f\"/Users/AnirbanGuha/Downloads/{decoded_filename[28:]}\"\n",
    "\n",
    "os.rename(src,dst)"
   ]
  },
  {
   "cell_type": "code",
   "execution_count": 25,
   "id": "f1cde622-b1a5-4ce6-86bd-32041f8ca163",
   "metadata": {},
   "outputs": [
    {
     "data": {
      "text/plain": [
       "'/Users/AnirbanGuha/pCloud Drive/My Videos/Adult/BEST AMATEURS! (5) (2160).mp4'"
      ]
     },
     "execution_count": 25,
     "metadata": {},
     "output_type": "execute_result"
    }
   ],
   "source": [
    "import shutil\n",
    "\n",
    "src_path = dst\n",
    "dst_path = Path(\"/Users/AnirbanGuha/pCloud Drive/My Videos/Adult\")\n",
    "\n",
    "shutil.copy2(src_path, dst_path)"
   ]
  },
  {
   "cell_type": "code",
   "execution_count": 30,
   "id": "1d895b34-7f9d-4439-904f-c83e294c2cac",
   "metadata": {},
   "outputs": [
    {
     "name": "stdout",
     "output_type": "stream",
     "text": [
      "Number of files renamed: 0\n"
     ]
    }
   ],
   "source": [
    "import os\n",
    "import urllib.parse\n",
    "from pathlib import Path\n",
    "import argparse\n",
    "\n",
    "def rename_file(folder_path: Path) --> Path:\n",
    "\n",
    "    parser = argparse.ArgumentParser(description=\"Specify the folder path\")\n",
    "    parser.add_argument(\"--folder_path\",\n",
    "                        type=str\n",
    "                        help=\"Specify the folder path to rename files\")\n",
    "    args = parser.parse_args()\n",
    "\n",
    "    folder_path = args.folder_path\n",
    "    \n",
    "    # folder_path = folder_path \n",
    "    cnt = 0\n",
    "        \n",
    "    for filename in os.listdir(folder_path):\n",
    "        if filename[:7] == \"EPORNER\": \n",
    "            decoded_name = urllib.parse.unquote(filename)\n",
    "            decoded_name = decoded_name[28:]\n",
    "            old_path = os.path.join(folder_path, filename)\n",
    "            new_path = os.path.join(folder_path, decoded_name)\n",
    "        \n",
    "            # Rename only if needed\n",
    "            if filename != decoded_name:\n",
    "                os.rename(old_path, new_path)\n",
    "                cnt += 1\n",
    "                print(f\"Renamed: {filename} → {decoded_name}\")\n",
    "        \n",
    "     print(f\"Number of files renamed: {cnt}\")\n"
   ]
  },
  {
   "cell_type": "code",
   "execution_count": 42,
   "id": "85746db2-b659-42f8-a3ba-662714dbdf66",
   "metadata": {},
   "outputs": [
    {
     "data": {
      "text/plain": [
       "'/Users/AnirbanGuha/Documents/GitHub/Python-2/Helper Functions'"
      ]
     },
     "execution_count": 42,
     "metadata": {},
     "output_type": "execute_result"
    }
   ],
   "source": [
    "os.getcwd()"
   ]
  },
  {
   "cell_type": "code",
   "execution_count": 43,
   "id": "4951adcb-e22a-4a90-a807-15163ee29fac",
   "metadata": {},
   "outputs": [
    {
     "name": "stdout",
     "output_type": "stream",
     "text": [
      "Writing rename_files.py\n"
     ]
    }
   ],
   "source": [
    "%%writefile rename_files.py\n",
    "\n",
    "import os\n",
    "import urllib.parse\n",
    "from pathlib import Path\n",
    "import argparse\n",
    "\n",
    "def rename_files(folder_path: Path, slice_start: int = 0) -> None:\n",
    "    folder_path = Path(folder_path)\n",
    "\n",
    "    if not folder_path.exists() or not folder_path.is_dir():\n",
    "        print(f\"Error: {folder_path} is not a valid folder.\")\n",
    "        return\n",
    "\n",
    "    cnt = 0\n",
    "\n",
    "    for filename in os.listdir(folder_path):\n",
    "        old_path = folder_path / filename\n",
    "\n",
    "        # Skip directories\n",
    "        if old_path.is_dir():\n",
    "            continue\n",
    "\n",
    "        # Decode URL-encoded characters\n",
    "        decoded_name = urllib.parse.unquote(filename)\n",
    "\n",
    "        # Optionally remove first N characters\n",
    "        if slice_start > 0 and len(decoded_name) > slice_start:\n",
    "            decoded_name = decoded_name[slice_start:]\n",
    "\n",
    "        new_path = folder_path / decoded_name\n",
    "\n",
    "        # Rename only if different\n",
    "        if filename != decoded_name:\n",
    "            if new_path.exists():\n",
    "                print(f\"⚠ Skipping (target exists): {decoded_name}\")\n",
    "                continue\n",
    "            old_path.rename(new_path)\n",
    "            print(f\"Renamed: {filename} → {decoded_name}\")\n",
    "            cnt += 1\n",
    "\n",
    "    print(f\"✅ Total files renamed: {cnt}\")\n",
    "\n",
    "\n",
    "if __name__ == \"__main__\":\n",
    "    parser = argparse.ArgumentParser(description=\"Rename URL-encoded files in a folder\")\n",
    "    parser.add_argument(\"--folder_path\", type=str, required=True, help=\"Path to the folder\")\n",
    "    parser.add_argument(\"--slice_start\", type=int, default=0,\n",
    "                        help=\"Optional: remove first N characters from filename\")\n",
    "\n",
    "    args = parser.parse_args()\n",
    "    rename_files(args.folder_path, args.slice_start)\n"
   ]
  },
  {
   "cell_type": "code",
   "execution_count": 44,
   "id": "cd6e8642-6b89-4ef8-9b3b-699c8f6c2aaa",
   "metadata": {},
   "outputs": [
    {
     "name": "stdout",
     "output_type": "stream",
     "text": [
      "usage: rename_files.py [-h] --folder_path FOLDER_PATH\n",
      "                       [--slice_start SLICE_START]\n",
      "\n",
      "Rename URL-encoded files in a folder\n",
      "\n",
      "options:\n",
      "  -h, --help            show this help message and exit\n",
      "  --folder_path FOLDER_PATH\n",
      "                        Path to the folder\n",
      "  --slice_start SLICE_START\n",
      "                        Optional: remove first N characters from filename\n"
     ]
    }
   ],
   "source": [
    "!python rename_files.py --help"
   ]
  },
  {
   "cell_type": "code",
   "execution_count": null,
   "id": "67f20a92-8b24-43af-9d96-3ea507f91f82",
   "metadata": {},
   "outputs": [],
   "source": []
  }
 ],
 "metadata": {
  "kernelspec": {
   "display_name": "Python 3 (ipykernel)",
   "language": "python",
   "name": "python3"
  },
  "language_info": {
   "codemirror_mode": {
    "name": "ipython",
    "version": 3
   },
   "file_extension": ".py",
   "mimetype": "text/x-python",
   "name": "python",
   "nbconvert_exporter": "python",
   "pygments_lexer": "ipython3",
   "version": "3.11.13"
  }
 },
 "nbformat": 4,
 "nbformat_minor": 5
}
