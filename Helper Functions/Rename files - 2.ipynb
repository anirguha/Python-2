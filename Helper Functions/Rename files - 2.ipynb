{
 "cells": [
  {
   "cell_type": "code",
   "execution_count": 7,
   "id": "c23402dd-b41b-462e-97b9-d46f4e6a2180",
   "metadata": {},
   "outputs": [
    {
     "name": "stdout",
     "output_type": "stream",
     "text": [
      "Overwriting rename_files_2.py\n"
     ]
    }
   ],
   "source": [
    "%%writefile rename_files_2.py\n",
    "# --- Public API (callable from other Python code) ----------------------------\n",
    "def run(folder_path,\n",
    "        file_pattern=\"*\",\n",
    "        slice_start=0,\n",
    "        *,\n",
    "        recursive=False,\n",
    "        preserve_ext=False,\n",
    "        decode=True,\n",
    "        dry_run=False,\n",
    "        log_file=None,\n",
    "        replacements=None,\n",
    "        use_regex=False) -> int:\n",
    "    \"\"\"\n",
    "    Programmatic entry point. Call this from Python:\n",
    "        import rename_files_2\n",
    "        rename_files_2.run(\"/path\", \"ABC*\", 28, preserve_ext=True, dry_run=True)\n",
    "    \"\"\"\n",
    "    from pathlib import Path\n",
    "    return rename_files(\n",
    "        folder_path=Path(folder_path),\n",
    "        file_pattern=file_pattern,\n",
    "        slice_start=slice_start,\n",
    "        recursive=recursive,\n",
    "        preserve_ext=preserve_ext,\n",
    "        decode=decode,\n",
    "        dry_run=dry_run,\n",
    "        log_file=Path(log_file) if log_file else None,\n",
    "        replacements=replacements,\n",
    "        use_regex=use_regex,\n",
    "    )\n",
    "\n",
    "# --- CLI entry point (parses argv like a script) ----------------------------\n",
    "def main(argv: list[str] | None = None) -> int:\n",
    "    import argparse\n",
    "    ap = argparse.ArgumentParser(\n",
    "        description=\"Rename files by decoding URL-encoded names, slicing, and replacing patterns.\"\n",
    "    )\n",
    "\n",
    "    # Positional args (your preferred style)\n",
    "    ap.add_argument(\"folder_path\", type=str, help=\"Path to the base folder\")\n",
    "    ap.add_argument(\"file_pattern\", type=str, help='Glob pattern, e.g. \"*.mp4\" or \"ABC*\"')\n",
    "    ap.add_argument(\"slice_start\", type=int, nargs=\"?\", default=0,\n",
    "                    help=\"Remove first N chars (after optional decoding). Default: 0\")\n",
    "\n",
    "    # Optional flags (can be combined with positionals)\n",
    "    ap.add_argument(\"--recursive\", action=\"store_true\", help=\"Search subfolders recursively\")\n",
    "    ap.add_argument(\"--preserve_ext\", action=\"store_true\",\n",
    "                    help=\"When slicing, keep extension(s) intact\")\n",
    "    decode_group = ap.add_mutually_exclusive_group()\n",
    "    decode_group.add_argument(\"--decode\", dest=\"decode\", action=\"store_true\",\n",
    "                              help=\"Decode URL-encoded characters (default)\")\n",
    "    decode_group.add_argument(\"--no-decode\", dest=\"decode\", action=\"store_false\",\n",
    "                              help=\"Do not decode; only apply slicing/replacements\")\n",
    "    ap.set_defaults(decode=True)\n",
    "    ap.add_argument(\"--dry_run\", action=\"store_true\",\n",
    "                    help=\"Show changes without performing renames\")\n",
    "    ap.add_argument(\"--log_file\", type=str, default=None,\n",
    "                    help=\"Optional path to write a log of renames\")\n",
    "    ap.add_argument(\"--replace\", nargs=2, metavar=(\"PATTERN\", \"REPLACEMENT\"),\n",
    "                    action=\"append\", default=None,\n",
    "                    help=\"Replace PATTERN with REPLACEMENT (repeatable). Use --regex to enable regex.\")\n",
    "    ap.add_argument(\"--regex\", action=\"store_true\",\n",
    "                    help=\"Interpret PATTERN as a regular expression for --replace\")\n",
    "\n",
    "    args = ap.parse_args(argv)\n",
    "\n",
    "    return run(\n",
    "        folder_path=args.folder_path,\n",
    "        file_pattern=args.file_pattern,\n",
    "        slice_start=args.slice_start,\n",
    "        recursive=args.recursive,\n",
    "        preserve_ext=args.preserve_ext,\n",
    "        decode=args.decode,\n",
    "        dry_run=args.dry_run,\n",
    "        log_file=args.log_file,\n",
    "        replacements=args.replace,\n",
    "        use_regex=args.regex,\n",
    "    )\n",
    "\n",
    "# Optional: make intent clear when importing from other code\n",
    "__all__ = [\"rename_files\", \"run\", \"main\"]\n",
    "\n",
    "# --- Script entry (when executed directly) -----------------------------------\n",
    "if __name__ == \"__main__\":\n",
    "    raise SystemExit(main())\n"
   ]
  },
  {
   "cell_type": "code",
   "execution_count": 5,
   "id": "e24d88dd-d457-4e14-955b-6d0ed6a777a9",
   "metadata": {},
   "outputs": [
    {
     "name": "stdout",
     "output_type": "stream",
     "text": [
      "✅ Summary: renamed=0, unchanged=0, skipped_target_exists=0, skipped_empty=0\n"
     ]
    }
   ],
   "source": [
    "%%bash\n",
    "python3 rename_files-2.py \\\n",
    "  --folder_path \"/Users/AnirbanGuha/pCloud Drive/My Videos\" \\\n",
    "  --file_pattern \"ABC*\" \\\n",
    "  --slice_start 28 \\\n",
    "  --preserve_ext \\\n",
    "  --dry_run"
   ]
  },
  {
   "cell_type": "code",
   "execution_count": 6,
   "id": "70de836c-3e44-4e6f-b383-e0403ffe5c40",
   "metadata": {},
   "outputs": [
    {
     "name": "stdout",
     "output_type": "stream",
     "text": [
      "usage: rename_files-2.py [-h] --folder_path FOLDER_PATH\n",
      "                         [--file_pattern FILE_PATTERN]\n",
      "                         [--slice_start SLICE_START] [--recursive]\n",
      "                         [--preserve_ext] [--decode | --no-decode]\n",
      "                         [--replace PATTERN REPLACEMENT] [--regex] [--dry_run]\n",
      "                         [--log_file LOG_FILE]\n",
      "\n",
      "Rename files by decoding URL-encoded names, slicing, and replacing patterns.\n",
      "\n",
      "options:\n",
      "  -h, --help            show this help message and exit\n",
      "  --folder_path FOLDER_PATH\n",
      "                        Path to the base folder\n",
      "  --file_pattern FILE_PATTERN\n",
      "                        Glob to select files (e.g., \"*.mp4\", \"ABC*\"). Quote\n",
      "                        patterns in zsh!\n",
      "  --slice_start SLICE_START\n",
      "                        Remove first N characters from filename (after\n",
      "                        optional decoding)\n",
      "  --recursive           Search subfolders recursively\n",
      "  --preserve_ext        When slicing, only slice the stem; keep the\n",
      "                        extension(s) intact\n",
      "  --decode              Decode URL-encoded characters (default)\n",
      "  --no-decode           Do not decode; only apply slicing/replacements\n",
      "  --replace PATTERN REPLACEMENT\n",
      "                        Replace PATTERN with REPLACEMENT (repeatable). Use\n",
      "                        --regex to treat PATTERN as a regex.\n",
      "  --regex               Interpret PATTERN as a regular expression for\n",
      "                        --replace.\n",
      "  --dry_run             Show what would change without renaming files\n",
      "  --log_file LOG_FILE   Optional path to write a log of renames\n"
     ]
    }
   ],
   "source": [
    "%%bash\n",
    "python3 rename_files-2.py -h"
   ]
  },
  {
   "cell_type": "code",
   "execution_count": null,
   "id": "e93d9088-796a-4970-9e86-ccc2be5415a8",
   "metadata": {},
   "outputs": [],
   "source": []
  }
 ],
 "metadata": {
  "kernelspec": {
   "display_name": "Python 3 (ipykernel)",
   "language": "python",
   "name": "python3"
  },
  "language_info": {
   "codemirror_mode": {
    "name": "ipython",
    "version": 3
   },
   "file_extension": ".py",
   "mimetype": "text/x-python",
   "name": "python",
   "nbconvert_exporter": "python",
   "pygments_lexer": "ipython3",
   "version": "3.11.13"
  }
 },
 "nbformat": 4,
 "nbformat_minor": 5
}
