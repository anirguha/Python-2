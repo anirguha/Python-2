{
 "cells": [
  {
   "cell_type": "code",
   "execution_count": 2,
   "id": "97abc6d6-b178-461e-88cf-dc3ae2762f25",
   "metadata": {},
   "outputs": [
    {
     "name": "stdout",
     "output_type": "stream",
     "text": [
      "Overwriting rename_files.py\n"
     ]
    }
   ],
   "source": [
    "%%writefile rename_files.py\n",
    "import os\n",
    "import urllib.parse\n",
    "from pathlib import Path\n",
    "import argparse\n",
    "\n",
    "def rename_files(folder_path: Path,\n",
    "                 file_pattern: str,\n",
    "                 slice_start: int = 0) -> None:\n",
    "    folder = Path(folder_path)\n",
    "\n",
    "    if not folder.exists() or not folder.is_dir():\n",
    "        print(f\"Error: {folder} is not a valid folder.\")\n",
    "        return\n",
    "\n",
    "    cnt = 0\n",
    "\n",
    "    # Iterate deterministically for nicer logs\n",
    "    for p in sorted(folder.glob(file_pattern)):\n",
    "        # Skip directories\n",
    "        if p.is_dir():\n",
    "            continue\n",
    "\n",
    "        original_name = p.name  # str\n",
    "        # Decode URL-encoded characters\n",
    "        decoded_name = urllib.parse.unquote(original_name)\n",
    "\n",
    "        # Optionally remove first N characters (guard against over-slicing)\n",
    "        if slice_start > 0 and len(decoded_name) > slice_start:\n",
    "            decoded_name = decoded_name[slice_start:]\n",
    "\n",
    "        # If name didn't change, skip\n",
    "        if decoded_name == original_name:\n",
    "            continue\n",
    "\n",
    "        if decoded_name == \"\":\n",
    "            print(f\"⚠ Skipping (empty target name) for: {original_name}\")\n",
    "            continue\n",
    "\n",
    "        new_path = p.with_name(decoded_name)\n",
    "\n",
    "        # Prevent collisions\n",
    "        if new_path.exists():\n",
    "            print(f\"⚠ Skipping (target exists): {decoded_name}\")\n",
    "            continue\n",
    "\n",
    "        # Perform rename\n",
    "        p.rename(new_path)\n",
    "        print(f\"Renamed: {original_name} → {decoded_name}\")\n",
    "        cnt += 1\n",
    "\n",
    "    print(f\"✅ Total files renamed: {cnt}\")\n",
    "\n",
    "\n",
    "if __name__ == \"__main__\":\n",
    "    parser = argparse.ArgumentParser(description=\"Rename URL-encoded files in a folder\")\n",
    "    parser.add_argument(\"--folder_path\", type=str, required=True, help=\"Path to the folder\")\n",
    "    parser.add_argument(\"--file_pattern\", type=str, default=\"*\", help=\"Glob to select files (e.g., '*.txt')\")\n",
    "    parser.add_argument(\"--slice_start\", type=int, default=0,\n",
    "                        help=\"Optional: remove first N characters from filename (after decoding)\")\n",
    "\n",
    "    args = parser.parse_args()\n",
    "    rename_files(args.folder_path, args.file_pattern, args.slice_start)\n"
   ]
  },
  {
   "cell_type": "code",
   "execution_count": 5,
   "id": "b7db5eda-2d49-4054-8463-d6716ab1f0e2",
   "metadata": {},
   "outputs": [
    {
     "name": "stdout",
     "output_type": "stream",
     "text": [
      "Renamed: EPORNER.COM%20-%20[n1uXBbjZIgj]%20Oldschool%20desi%20college%20couples%20making%20out%20in%20rented%20house%20bunking%20classes%20(480).mp4 → EPORNER.COM - [n1uXBbjZIgj] Oldschool desi college couples making out in rented house bunking classes (480).mp4\n",
      "✅ Total files renamed: 1\n"
     ]
    }
   ],
   "source": [
    "!python3 rename_files.py --folder_path \"/Users/AnirbanGuha/pCloud Drive/My Videos/Adult\" --file_pattern \"EPORNER*\""
   ]
  },
  {
   "cell_type": "code",
   "execution_count": null,
   "id": "8a3d4fbf-5e78-4482-9b5e-9a82928a436c",
   "metadata": {},
   "outputs": [],
   "source": []
  }
 ],
 "metadata": {
  "kernelspec": {
   "display_name": "Python 3 (ipykernel)",
   "language": "python",
   "name": "python3"
  },
  "language_info": {
   "codemirror_mode": {
    "name": "ipython",
    "version": 3
   },
   "file_extension": ".py",
   "mimetype": "text/x-python",
   "name": "python",
   "nbconvert_exporter": "python",
   "pygments_lexer": "ipython3",
   "version": "3.11.13"
  }
 },
 "nbformat": 4,
 "nbformat_minor": 5
}
