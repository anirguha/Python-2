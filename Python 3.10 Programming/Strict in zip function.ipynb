{
 "cells": [
  {
   "cell_type": "markdown",
   "id": "f32f99bf-79da-4063-ae0d-370977c61459",
   "metadata": {},
   "source": [
    "## Using strict parameter in zip function"
   ]
  },
  {
   "cell_type": "code",
   "execution_count": 6,
   "id": "dbdc732e-462e-4a61-b3e4-bf96238fbce8",
   "metadata": {},
   "outputs": [],
   "source": [
    "l1 = (i**2 for i in range(3))\n",
    "l2 = (i**3 for i in range(4))"
   ]
  },
  {
   "cell_type": "code",
   "execution_count": 8,
   "id": "55d72abc-b3f1-433e-852f-b9b1bcd8e2fa",
   "metadata": {},
   "outputs": [
    {
     "ename": "ValueError",
     "evalue": "zip() argument 2 is longer than argument 1",
     "output_type": "error",
     "traceback": [
      "\u001b[31m---------------------------------------------------------------------------\u001b[39m",
      "\u001b[31mValueError\u001b[39m                                Traceback (most recent call last)",
      "\u001b[36mCell\u001b[39m\u001b[36m \u001b[39m\u001b[32mIn[8]\u001b[39m\u001b[32m, line 2\u001b[39m\n\u001b[32m      1\u001b[39m result = \u001b[38;5;28mzip\u001b[39m(l1,l2,strict=\u001b[38;5;28;01mTrue\u001b[39;00m)\n\u001b[32m----> \u001b[39m\u001b[32m2\u001b[39m \u001b[38;5;28;43mlist\u001b[39;49m\u001b[43m(\u001b[49m\u001b[43mresult\u001b[49m\u001b[43m)\u001b[49m\n",
      "\u001b[31mValueError\u001b[39m: zip() argument 2 is longer than argument 1"
     ]
    }
   ],
   "source": [
    "result = zip(l1,l2,strict=True)\n",
    "list(result)"
   ]
  },
  {
   "cell_type": "code",
   "execution_count": 4,
   "id": "cacbc4cb-8419-4d4d-bffe-6fb4a0fcc58d",
   "metadata": {},
   "outputs": [
    {
     "data": {
      "text/plain": [
       "[]"
      ]
     },
     "execution_count": 4,
     "metadata": {},
     "output_type": "execute_result"
    }
   ],
   "source": [
    "list(zip(l1,l1))"
   ]
  },
  {
   "cell_type": "code",
   "execution_count": 9,
   "id": "fc625d2a-4ed0-4786-8f1e-3e63c4c6091d",
   "metadata": {},
   "outputs": [],
   "source": [
    "from itertools import zip_longest\n",
    "l1 = (i**2 for i in range(3))\n",
    "l2 = (i**3 for i in range(4))"
   ]
  },
  {
   "cell_type": "code",
   "execution_count": 10,
   "id": "c626cc33-a251-4532-8469-623ce6ccc2ec",
   "metadata": {},
   "outputs": [
    {
     "data": {
      "text/plain": [
       "[(0, 0), (1, 1), (4, 8), (None, 27)]"
      ]
     },
     "execution_count": 10,
     "metadata": {},
     "output_type": "execute_result"
    }
   ],
   "source": [
    "list(zip_longest(l1,l2))"
   ]
  },
  {
   "cell_type": "code",
   "execution_count": null,
   "id": "eb70277a-abe8-4a85-83cf-980714447f8d",
   "metadata": {},
   "outputs": [],
   "source": []
  }
 ],
 "metadata": {
  "kernelspec": {
   "display_name": "Python 3 (ipykernel)",
   "language": "python",
   "name": "python3"
  },
  "language_info": {
   "codemirror_mode": {
    "name": "ipython",
    "version": 3
   },
   "file_extension": ".py",
   "mimetype": "text/x-python",
   "name": "python",
   "nbconvert_exporter": "python",
   "pygments_lexer": "ipython3",
   "version": "3.13.3"
  }
 },
 "nbformat": 4,
 "nbformat_minor": 5
}
