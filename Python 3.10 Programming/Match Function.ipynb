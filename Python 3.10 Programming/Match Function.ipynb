{
 "cells": [
  {
   "cell_type": "markdown",
   "id": "1263b59f-35ad-4f7f-9ccc-9de00a5bfb26",
   "metadata": {},
   "source": [
    "### Using match operator (an alternate of nested if-elif)"
   ]
  },
  {
   "cell_type": "code",
   "execution_count": 3,
   "id": "33ec4c27-73b2-4cfc-8e58-fa4365cf80e8",
   "metadata": {},
   "outputs": [],
   "source": [
    "def switchvalues(language):\n",
    "    match language:\n",
    "        case 'Java'|'Javascript':\n",
    "            return 'Coffee!'\n",
    "        case 'Python':\n",
    "            return 'Type of snake'\n",
    "        case _:\n",
    "            return 'This is something else!'\n",
    "        "
   ]
  },
  {
   "cell_type": "code",
   "execution_count": 5,
   "id": "08dfe000-0030-4057-ab79-a56e0de94529",
   "metadata": {},
   "outputs": [
    {
     "data": {
      "text/plain": [
       "'Coffee!'"
      ]
     },
     "execution_count": 5,
     "metadata": {},
     "output_type": "execute_result"
    }
   ],
   "source": [
    "switchvalues('Javascript')"
   ]
  },
  {
   "cell_type": "markdown",
   "id": "63bd00d2-f49a-464c-87c4-1b1ee548c656",
   "metadata": {},
   "source": [
    "### Pattern Matching"
   ]
  },
  {
   "cell_type": "code",
   "execution_count": 7,
   "id": "8fe29b4b-6e2e-4a1d-93fd-bb91d325aa8e",
   "metadata": {},
   "outputs": [
    {
     "data": {
      "text/plain": [
       "{'F': '→', 'B': '←', 'L': '↑', 'R': '↓', 'pick': '⤣', 'drop': '⤥'}"
      ]
     },
     "execution_count": 7,
     "metadata": {},
     "output_type": "execute_result"
    }
   ],
   "source": [
    "symbols = {\n",
    "    \"F\": \"\\u2192\", \n",
    "    \"B\": \"\\u2190\", \n",
    "    \"L\": \"\\u2191\", \n",
    "    \"R\": \"\\u2193\", \n",
    "    \"pick\": \"\\u2923\", \n",
    "    \"drop\": \"\\u2925\"\n",
    "}\n",
    "\n",
    "symbols"
   ]
  },
  {
   "cell_type": "code",
   "execution_count": 8,
   "id": "b5f065c1-464e-4e6f-b067-b4b5b3ca8d93",
   "metadata": {},
   "outputs": [],
   "source": [
    "\n",
    "def op(command):\n",
    "    match command:\n",
    "        case ['move', *directions]:\n",
    "            return tuple(symbols[direction] for direction in directions)\n",
    "        case \"pick\":\n",
    "            return symbols[\"pick\"]\n",
    "        case \"drop\":\n",
    "            return symbols[\"drop\"]\n",
    "        case _:\n",
    "            raise ValueError(f\"{command} does not compute!\")"
   ]
  },
  {
   "cell_type": "code",
   "execution_count": 9,
   "id": "c06e9d51-dc2f-4097-b242-8931545f2549",
   "metadata": {},
   "outputs": [
    {
     "data": {
      "text/plain": [
       "[('→', '→', '↑'), '⤣', ('↓', '↑', '→'), '⤥']"
      ]
     },
     "execution_count": 9,
     "metadata": {},
     "output_type": "execute_result"
    }
   ],
   "source": [
    "[\n",
    "    op([\"move\", \"F\", \"F\", \"L\"]),\n",
    "    op(\"pick\"),\n",
    "    op([\"move\", \"R\", \"L\", \"F\"]),\n",
    "    op(\"drop\"),\n",
    "]"
   ]
  },
  {
   "cell_type": "code",
   "execution_count": 12,
   "id": "703fec17-1279-443f-9b78-5d03f0182197",
   "metadata": {},
   "outputs": [],
   "source": [
    "\n",
    "def op(command):\n",
    "    match command:\n",
    "        case ['move', *directions] if set(directions)<symbols.keys():\n",
    "            return tuple(symbols[direction] for direction in directions)\n",
    "        case \"pick\":\n",
    "            return symbols[\"pick\"]\n",
    "        case \"drop\":\n",
    "            return symbols[\"drop\"]\n",
    "        case _:\n",
    "            raise ValueError(f\"{command} does not compute!\")"
   ]
  },
  {
   "cell_type": "code",
   "execution_count": 13,
   "id": "263a8b9b-0786-4d97-9a4a-d310381d6195",
   "metadata": {},
   "outputs": [
    {
     "ename": "ValueError",
     "evalue": "['move', 'up'] does not compute!",
     "output_type": "error",
     "traceback": [
      "\u001b[31m---------------------------------------------------------------------------\u001b[39m",
      "\u001b[31mValueError\u001b[39m                                Traceback (most recent call last)",
      "\u001b[36mCell\u001b[39m\u001b[36m \u001b[39m\u001b[32mIn[13]\u001b[39m\u001b[32m, line 1\u001b[39m\n\u001b[32m----> \u001b[39m\u001b[32m1\u001b[39m \u001b[43mop\u001b[49m\u001b[43m(\u001b[49m\u001b[43m[\u001b[49m\u001b[33;43m'\u001b[39;49m\u001b[33;43mmove\u001b[39;49m\u001b[33;43m'\u001b[39;49m\u001b[43m,\u001b[49m\u001b[33;43m'\u001b[39;49m\u001b[33;43mup\u001b[39;49m\u001b[33;43m'\u001b[39;49m\u001b[43m]\u001b[49m\u001b[43m)\u001b[49m\n",
      "\u001b[36mCell\u001b[39m\u001b[36m \u001b[39m\u001b[32mIn[12]\u001b[39m\u001b[32m, line 10\u001b[39m, in \u001b[36mop\u001b[39m\u001b[34m(command)\u001b[39m\n\u001b[32m      8\u001b[39m     \u001b[38;5;28;01mreturn\u001b[39;00m symbols[\u001b[33m\"\u001b[39m\u001b[33mdrop\u001b[39m\u001b[33m\"\u001b[39m]\n\u001b[32m      9\u001b[39m \u001b[38;5;28;01mcase\u001b[39;00m\u001b[38;5;250m \u001b[39m\u001b[38;5;28;01m_\u001b[39;00m:\n\u001b[32m---> \u001b[39m\u001b[32m10\u001b[39m     \u001b[38;5;28;01mraise\u001b[39;00m \u001b[38;5;167;01mValueError\u001b[39;00m(\u001b[33mf\u001b[39m\u001b[33m\"\u001b[39m\u001b[38;5;132;01m{\u001b[39;00mcommand\u001b[38;5;132;01m}\u001b[39;00m\u001b[33m does not compute!\u001b[39m\u001b[33m\"\u001b[39m)\n",
      "\u001b[31mValueError\u001b[39m: ['move', 'up'] does not compute!"
     ]
    }
   ],
   "source": [
    "op(['move','up'])"
   ]
  },
  {
   "cell_type": "code",
   "execution_count": null,
   "id": "f54640c8-ee52-46ed-9528-bab02e7edc0b",
   "metadata": {},
   "outputs": [],
   "source": []
  }
 ],
 "metadata": {
  "kernelspec": {
   "display_name": "Python 3 (ipykernel)",
   "language": "python",
   "name": "python3"
  },
  "language_info": {
   "codemirror_mode": {
    "name": "ipython",
    "version": 3
   },
   "file_extension": ".py",
   "mimetype": "text/x-python",
   "name": "python",
   "nbconvert_exporter": "python",
   "pygments_lexer": "ipython3",
   "version": "3.13.3"
  }
 },
 "nbformat": 4,
 "nbformat_minor": 5
}
