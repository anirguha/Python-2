{
 "cells": [
  {
   "cell_type": "code",
   "execution_count": 44,
   "id": "9f279a85-bf99-45b7-a32d-211e06ebf6b0",
   "metadata": {},
   "outputs": [],
   "source": [
    "#Class Methods\n",
    "class Greeting:\n",
    "    def say_hello(arg):\n",
    "        print(f'Hello from {arg}')\n",
    "\n",
    "    def instance_say_hello(arg):\n",
    "        print(f'Hello from {arg}')\n",
    "\n",
    "    @classmethod\n",
    "    def cls_say_hello(arg,cls):\n",
    "        print(f'Hello from {cls}')\n",
    "\n",
    "    @staticmethod\n",
    "    def static_say_hello():\n",
    "        print('Staic method say hello')\n",
    "        \n",
    "    "
   ]
  },
  {
   "cell_type": "code",
   "execution_count": 21,
   "id": "aec9309e-334b-4448-a6b2-35ad0f7a0dae",
   "metadata": {},
   "outputs": [
    {
     "data": {
      "text/plain": [
       "<function __main__.Greeting.say_hello(arg)>"
      ]
     },
     "execution_count": 21,
     "metadata": {},
     "output_type": "execute_result"
    }
   ],
   "source": [
    "Greeting.say_hello"
   ]
  },
  {
   "cell_type": "code",
   "execution_count": 22,
   "id": "7d52fa1f-4bd5-4494-b1ed-84e9fd6ea3c0",
   "metadata": {},
   "outputs": [
    {
     "name": "stdout",
     "output_type": "stream",
     "text": [
      "Hello from Tom\n"
     ]
    }
   ],
   "source": [
    "Greeting.say_hello('Tom')"
   ]
  },
  {
   "cell_type": "code",
   "execution_count": 23,
   "id": "42782519-c0cb-4d3f-87e9-fc13a84ed983",
   "metadata": {},
   "outputs": [
    {
     "name": "stdout",
     "output_type": "stream",
     "text": [
      "<function Greeting.say_hello at 0x1175fade0>\n",
      "Hello from Tom\n"
     ]
    }
   ],
   "source": [
    "m = Greeting\n",
    "print(m.say_hello)\n",
    "m.say_hello('Tom')"
   ]
  },
  {
   "cell_type": "code",
   "execution_count": 24,
   "id": "1fa9de65-5ffe-47a1-9d16-3d25183639e5",
   "metadata": {},
   "outputs": [
    {
     "name": "stdout",
     "output_type": "stream",
     "text": [
      "Hello from Dick\n"
     ]
    }
   ],
   "source": [
    "m = Greeting\n",
    "m.instance_say_hello\n",
    "m.instance_say_hello('Dick')"
   ]
  },
  {
   "cell_type": "code",
   "execution_count": 25,
   "id": "d914e6f9-2f79-4b29-8c74-b7f5c2fe6325",
   "metadata": {},
   "outputs": [
    {
     "data": {
      "text/plain": [
       "<bound method Greeting.cls_say_hello of <class '__main__.Greeting'>>"
      ]
     },
     "execution_count": 25,
     "metadata": {},
     "output_type": "execute_result"
    }
   ],
   "source": [
    "Greeting.cls_say_hello"
   ]
  },
  {
   "cell_type": "code",
   "execution_count": 45,
   "id": "2045ef7d-4bc5-4f34-bc65-52b1d5194ce8",
   "metadata": {},
   "outputs": [
    {
     "name": "stdout",
     "output_type": "stream",
     "text": [
      "Hello from Tom\n"
     ]
    }
   ],
   "source": [
    "Greeting.cls_say_hello('Tom')"
   ]
  },
  {
   "cell_type": "code",
   "execution_count": 46,
   "id": "6d065182-7fd3-4dda-87f2-f895607f1b2e",
   "metadata": {},
   "outputs": [
    {
     "name": "stdout",
     "output_type": "stream",
     "text": [
      "Hello from Martha\n"
     ]
    }
   ],
   "source": [
    "m = Greeting\n",
    "m.cls_say_hello('Martha')"
   ]
  },
  {
   "cell_type": "code",
   "execution_count": null,
   "id": "fa5cb6d6-aa08-4579-b49c-3c29fc09b90b",
   "metadata": {},
   "outputs": [],
   "source": []
  }
 ],
 "metadata": {
  "kernelspec": {
   "display_name": "Python 3 (ipykernel)",
   "language": "python",
   "name": "python3"
  },
  "language_info": {
   "codemirror_mode": {
    "name": "ipython",
    "version": 3
   },
   "file_extension": ".py",
   "mimetype": "text/x-python",
   "name": "python",
   "nbconvert_exporter": "python",
   "pygments_lexer": "ipython3",
   "version": "3.13.2"
  }
 },
 "nbformat": 4,
 "nbformat_minor": 5
}
