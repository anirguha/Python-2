{
 "cells": [
  {
   "cell_type": "code",
   "execution_count": 35,
   "id": "9cd70dba-882e-4eae-a35b-95f30260b2fe",
   "metadata": {},
   "outputs": [],
   "source": [
    "## Delegating to Parent\n",
    "class Parent:\n",
    "    def __init__(self, name):\n",
    "        self.name = name\n",
    "\n",
    "    def works(self):\n",
    "        return f'{self.name} works'"
   ]
  },
  {
   "cell_type": "code",
   "execution_count": 36,
   "id": "fb2412ee-0479-45d7-9621-460ffe2eb8bb",
   "metadata": {},
   "outputs": [],
   "source": [
    "class Student(Parent):\n",
    "    def __init__(self, name, age):\n",
    "        super().__init__(name)\n",
    "        self.age = age\n",
    "\n",
    "    def works(self):\n",
    "        return f'{self.name} of age {self.age} studies'"
   ]
  },
  {
   "cell_type": "code",
   "execution_count": 43,
   "id": "358c9b2a-8078-4b5b-85b5-87cae1ebbcbc",
   "metadata": {},
   "outputs": [],
   "source": [
    "class Junior(Student):\n",
    "    def __init__(self, standard):\n",
    "        super().__init__(name='Default', age=0)\n",
    "        self.standard = standard"
   ]
  },
  {
   "cell_type": "code",
   "execution_count": 44,
   "id": "721f0c23-db6b-48f3-a866-ff8215c12069",
   "metadata": {},
   "outputs": [
    {
     "data": {
      "text/plain": [
       "'Sam of age 20 studies'"
      ]
     },
     "execution_count": 44,
     "metadata": {},
     "output_type": "execute_result"
    }
   ],
   "source": [
    "s = Student('Sam',20)\n",
    "s.works()\n"
   ]
  },
  {
   "cell_type": "code",
   "execution_count": 45,
   "id": "8ec41ca7-c373-4383-abf0-926a556e5b49",
   "metadata": {},
   "outputs": [
    {
     "data": {
      "text/plain": [
       "'Default of age 0 studies'"
      ]
     },
     "execution_count": 45,
     "metadata": {},
     "output_type": "execute_result"
    }
   ],
   "source": [
    "j = Junior(1)\n",
    "j.works()"
   ]
  },
  {
   "cell_type": "code",
   "execution_count": null,
   "id": "429b2d3f-1e3a-47bd-bc98-bfafe388bd29",
   "metadata": {},
   "outputs": [],
   "source": []
  }
 ],
 "metadata": {
  "kernelspec": {
   "display_name": "Python 3 (ipykernel)",
   "language": "python",
   "name": "python3"
  },
  "language_info": {
   "codemirror_mode": {
    "name": "ipython",
    "version": 3
   },
   "file_extension": ".py",
   "mimetype": "text/x-python",
   "name": "python",
   "nbconvert_exporter": "python",
   "pygments_lexer": "ipython3",
   "version": "3.13.3"
  }
 },
 "nbformat": 4,
 "nbformat_minor": 5
}
