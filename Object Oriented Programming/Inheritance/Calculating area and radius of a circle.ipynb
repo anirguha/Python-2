{
 "cells": [
  {
   "cell_type": "code",
   "execution_count": 1,
   "id": "59155bde-c6fb-4537-8b2e-e298df3a6899",
   "metadata": {},
   "outputs": [],
   "source": [
    "#Calcualting Circle radius and perimeter"
   ]
  },
  {
   "cell_type": "code",
   "execution_count": 2,
   "id": "e6839564-e7d1-4236-b071-e00d46d5cc2d",
   "metadata": {},
   "outputs": [],
   "source": [
    "from math import pi\n",
    "from numbers import Real"
   ]
  },
  {
   "cell_type": "code",
   "execution_count": 12,
   "id": "658284d5-e3c0-4e4b-baa8-1e2b062f1df1",
   "metadata": {},
   "outputs": [],
   "source": [
    "class Circle:\n",
    "    def __init__(self, r):\n",
    "        self._set_radius(r)\n",
    "        self._area = None\n",
    "        self._perimeter = None\n",
    "\n",
    "    @property\n",
    "    def radius(self):\n",
    "        return self._r\n",
    "\n",
    "    def _set_radius(self,r):\n",
    "        if not isinstance(r, Real):\n",
    "            raise ValueError('Radius must be real')\n",
    "        if r <= 0:\n",
    "            raise ValueError('Radius must be positive')\n",
    "        self._r = r\n",
    "\n",
    "    @radius.setter\n",
    "    def radius(self, r):\n",
    "        self._set_radius(r)\n",
    "\n",
    "    @property\n",
    "    def area(self):\n",
    "        if self._area is None:\n",
    "            self._area = pi * self.radius ** 2\n",
    "        return self._area\n",
    "\n",
    "    @property\n",
    "    def perimeter(self):\n",
    "        if self._perimeter is None:\n",
    "            self._perimeter = 2 * pi * self.radius\n",
    "        return self._perimeter"
   ]
  },
  {
   "cell_type": "code",
   "execution_count": 20,
   "id": "27cd8290-5c16-4c05-8759-623e642a9f2c",
   "metadata": {},
   "outputs": [],
   "source": [
    "class UnitCircle(Circle):\n",
    "    def __init__(self):\n",
    "        super().__init__(1)\n",
    "\n",
    "    @property\n",
    "    def radius(self):\n",
    "        return super().radius"
   ]
  },
  {
   "cell_type": "code",
   "execution_count": 21,
   "id": "f60f53cd-588e-47d6-97d8-f6f3e3b3623d",
   "metadata": {},
   "outputs": [],
   "source": [
    "u1 = UnitCircle()"
   ]
  },
  {
   "cell_type": "code",
   "execution_count": 22,
   "id": "bdb16713-4731-4efb-99da-f1f0beef5440",
   "metadata": {},
   "outputs": [
    {
     "data": {
      "text/plain": [
       "(1, 3.141592653589793, 6.283185307179586)"
      ]
     },
     "execution_count": 22,
     "metadata": {},
     "output_type": "execute_result"
    }
   ],
   "source": [
    "u1.radius, u1.area, u1.perimeter"
   ]
  },
  {
   "cell_type": "code",
   "execution_count": 25,
   "id": "c4f9056f-7093-4433-a5f2-a40bebdc9387",
   "metadata": {},
   "outputs": [],
   "source": [
    "u1._set_radius(10)"
   ]
  },
  {
   "cell_type": "code",
   "execution_count": 26,
   "id": "f5bfdd4e-dc7f-45ab-9127-52de8b9bf5f7",
   "metadata": {},
   "outputs": [
    {
     "data": {
      "text/plain": [
       "10"
      ]
     },
     "execution_count": 26,
     "metadata": {},
     "output_type": "execute_result"
    }
   ],
   "source": [
    "u1.radius"
   ]
  },
  {
   "cell_type": "code",
   "execution_count": 27,
   "id": "6ee45173-360d-4b9f-9f4d-a9ca7215a5d7",
   "metadata": {},
   "outputs": [
    {
     "data": {
      "text/plain": [
       "3.141592653589793"
      ]
     },
     "execution_count": 27,
     "metadata": {},
     "output_type": "execute_result"
    }
   ],
   "source": [
    "u1.area"
   ]
  },
  {
   "cell_type": "code",
   "execution_count": null,
   "id": "e6fc6914-5b48-40d5-aa95-ef742859cf10",
   "metadata": {},
   "outputs": [],
   "source": []
  }
 ],
 "metadata": {
  "kernelspec": {
   "display_name": "Python 3 (ipykernel)",
   "language": "python",
   "name": "python3"
  },
  "language_info": {
   "codemirror_mode": {
    "name": "ipython",
    "version": 3
   },
   "file_extension": ".py",
   "mimetype": "text/x-python",
   "name": "python",
   "nbconvert_exporter": "python",
   "pygments_lexer": "ipython3",
   "version": "3.13.2"
  }
 },
 "nbformat": 4,
 "nbformat_minor": 5
}
