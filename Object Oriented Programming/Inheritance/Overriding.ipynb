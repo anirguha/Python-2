{
 "cells": [
  {
   "cell_type": "code",
   "execution_count": 16,
   "id": "307bff56-c97b-425f-a5ba-b2d0b2e20e38",
   "metadata": {},
   "outputs": [],
   "source": [
    "#Overriding \n",
    "class Person:\n",
    "    def __init__(self, name):\n",
    "        self.name = name\n",
    "\n",
    "    def __str__(self):\n",
    "        return f'Person name: {self.name}'\n",
    "\n",
    "    def __repr__(self):\n",
    "        return f'{self.name}'\n",
    "\n",
    "    "
   ]
  },
  {
   "cell_type": "code",
   "execution_count": 17,
   "id": "a9836ead-00e2-44ae-9551-f1a68851fdf2",
   "metadata": {},
   "outputs": [],
   "source": [
    "class Student(Person):\n",
    "    pass\n",
    "    "
   ]
  },
  {
   "cell_type": "code",
   "execution_count": 18,
   "id": "2c793ce6-7981-4cd2-a37b-d374628c14c2",
   "metadata": {},
   "outputs": [
    {
     "name": "stdout",
     "output_type": "stream",
     "text": [
      "Tom\n",
      "Person name: Tom\n"
     ]
    }
   ],
   "source": [
    "s = Student('Tom')\n",
    "print(repr(s))\n",
    "print(str(s))"
   ]
  },
  {
   "cell_type": "code",
   "execution_count": 20,
   "id": "0e751853-fe8c-48c5-b765-05a79c719c6f",
   "metadata": {},
   "outputs": [
    {
     "data": {
      "text/plain": [
       "(True, True)"
      ]
     },
     "execution_count": 20,
     "metadata": {},
     "output_type": "execute_result"
    }
   ],
   "source": [
    "isinstance(s,Student), isinstance(s,Person)\n"
   ]
  },
  {
   "cell_type": "code",
   "execution_count": 22,
   "id": "cb52326b-dc66-4cdf-946c-65ed324816c5",
   "metadata": {},
   "outputs": [
    {
     "data": {
      "text/plain": [
       "True"
      ]
     },
     "execution_count": 22,
     "metadata": {},
     "output_type": "execute_result"
    }
   ],
   "source": [
    "issubclass(Student,Person)"
   ]
  },
  {
   "cell_type": "code",
   "execution_count": 23,
   "id": "da65791c-1fb4-4d90-a8ab-1e9913993e6f",
   "metadata": {},
   "outputs": [
    {
     "data": {
      "text/plain": [
       "(True, True)"
      ]
     },
     "execution_count": 23,
     "metadata": {},
     "output_type": "execute_result"
    }
   ],
   "source": [
    "issubclass(Person, object), issubclass(Student, object)"
   ]
  },
  {
   "cell_type": "code",
   "execution_count": null,
   "id": "4560e9c0-92ce-42de-855f-9f81b1c234d7",
   "metadata": {},
   "outputs": [],
   "source": []
  }
 ],
 "metadata": {
  "kernelspec": {
   "display_name": "Python 3 (ipykernel)",
   "language": "python",
   "name": "python3"
  },
  "language_info": {
   "codemirror_mode": {
    "name": "ipython",
    "version": 3
   },
   "file_extension": ".py",
   "mimetype": "text/x-python",
   "name": "python",
   "nbconvert_exporter": "python",
   "pygments_lexer": "ipython3",
   "version": "3.13.2"
  }
 },
 "nbformat": 4,
 "nbformat_minor": 5
}
