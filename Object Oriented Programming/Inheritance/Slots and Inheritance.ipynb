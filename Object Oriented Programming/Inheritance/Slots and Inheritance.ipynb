{
 "cells": [
  {
   "cell_type": "code",
   "execution_count": 1,
   "id": "c626da55-e4b5-4826-9086-7fc934e3a22f",
   "metadata": {},
   "outputs": [],
   "source": [
    "#Slots and Inheritance"
   ]
  },
  {
   "cell_type": "code",
   "execution_count": 2,
   "id": "3e72445d-c6c6-4d8b-8165-f99cc0dc38a3",
   "metadata": {},
   "outputs": [],
   "source": [
    "class Person:\n",
    "    __slots__ = 'name'\n",
    "\n",
    "    def __init__(self, name):\n",
    "        self.name = name"
   ]
  },
  {
   "cell_type": "code",
   "execution_count": 3,
   "id": "6d6f86db-2ff8-4b3b-94fa-0cedfa40f426",
   "metadata": {},
   "outputs": [],
   "source": [
    "class Student(Person):\n",
    "    pass"
   ]
  },
  {
   "cell_type": "code",
   "execution_count": 9,
   "id": "69d8d5fc-108f-47d2-814a-5f1baafde02e",
   "metadata": {},
   "outputs": [],
   "source": [
    "p = Person('Alex')\n",
    "s = Student('Alex')\n",
    "s.__dict__\n",
    "s.age = 30"
   ]
  },
  {
   "cell_type": "code",
   "execution_count": 10,
   "id": "02c2f710-71f2-4396-ae44-7c297cf5a2e2",
   "metadata": {},
   "outputs": [
    {
     "data": {
      "text/plain": [
       "{'age': 30}"
      ]
     },
     "execution_count": 10,
     "metadata": {},
     "output_type": "execute_result"
    }
   ],
   "source": [
    "s.__dict__"
   ]
  },
  {
   "cell_type": "code",
   "execution_count": 26,
   "id": "92330637-491b-43e1-92af-fbb053093b28",
   "metadata": {},
   "outputs": [],
   "source": [
    "#Without specifying slots in Parent\n",
    "class Person:\n",
    "    __slots__ = 'name','__dict__'\n",
    "    def __init__(self, name):\n",
    "        self.name = name"
   ]
  },
  {
   "cell_type": "code",
   "execution_count": 27,
   "id": "deedcc3b-6f9a-4f36-a41d-c93d5bc628e7",
   "metadata": {},
   "outputs": [],
   "source": [
    "class Student(Person):\n",
    "    __slots__ = 'school', 'student_ID'\n",
    "    def __init__(self, name, school, student_ID):\n",
    "        super().__init__(name)\n",
    "        self.school = school\n",
    "        self.student_ID = student_ID\n",
    "        "
   ]
  },
  {
   "cell_type": "code",
   "execution_count": 28,
   "id": "5a10d551-764d-42cf-b1a6-453cfaea5933",
   "metadata": {},
   "outputs": [],
   "source": [
    "s = Student('Tinmothy', 'ABC', 534)"
   ]
  },
  {
   "cell_type": "code",
   "execution_count": 29,
   "id": "3b6b25a9-16de-4074-9977-b59e2607c62f",
   "metadata": {},
   "outputs": [
    {
     "data": {
      "text/plain": [
       "('Tinmothy', 'ABC', 534, {})"
      ]
     },
     "execution_count": 29,
     "metadata": {},
     "output_type": "execute_result"
    }
   ],
   "source": [
    "s.name, s.school, s.student_ID, s.__dict__"
   ]
  },
  {
   "cell_type": "code",
   "execution_count": null,
   "id": "d53da99f-c278-441a-a190-7e66cae34729",
   "metadata": {},
   "outputs": [],
   "source": []
  }
 ],
 "metadata": {
  "kernelspec": {
   "display_name": "Python 3 (ipykernel)",
   "language": "python",
   "name": "python3"
  },
  "language_info": {
   "codemirror_mode": {
    "name": "ipython",
    "version": 3
   },
   "file_extension": ".py",
   "mimetype": "text/x-python",
   "name": "python",
   "nbconvert_exporter": "python",
   "pygments_lexer": "ipython3",
   "version": "3.13.3"
  }
 },
 "nbformat": 4,
 "nbformat_minor": 5
}
