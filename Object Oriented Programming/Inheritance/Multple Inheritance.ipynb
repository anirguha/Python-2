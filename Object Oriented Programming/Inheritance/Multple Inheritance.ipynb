{
 "cells": [
  {
   "cell_type": "code",
   "execution_count": 1,
   "id": "initial_id",
   "metadata": {
    "ExecuteTime": {
     "end_time": "2025-05-19T16:16:57.280281Z",
     "start_time": "2025-05-19T16:16:57.275446Z"
    }
   },
   "outputs": [],
   "source": [
    "# 1. Single Inheritance\n",
    "class Person:\n",
    "    def __init__(self, name):\n",
    "        self.name = name\n",
    "\n",
    "class Employee(Person):  # Employee inherits from Person\n",
    "    def __init__(self, name, salary):\n",
    "        super().__init__(name)\n",
    "        self.salary = salary"
   ]
  },
  {
   "cell_type": "code",
   "execution_count": 2,
   "id": "acaa8ad5ce102f84",
   "metadata": {
    "ExecuteTime": {
     "end_time": "2025-05-19T16:16:57.295646Z",
     "start_time": "2025-05-19T16:16:57.291779Z"
    }
   },
   "outputs": [],
   "source": [
    "# 2. Multiple Inheritance\n",
    "class Job:\n",
    "    def __init__(self, salary):\n",
    "        self.salary = salary\n",
    "\n",
    "class EmployeePersonJob(Employee, Job):  # Inherits from both Employee and Job\n",
    "    def __init__(self, name, salary):\n",
    "        Employee.__init__(self, name, salary)  # Initialize Employee\n",
    "        Job.__init__(self, salary)            # Initialize Job\n"
   ]
  },
  {
   "cell_type": "code",
   "execution_count": 3,
   "id": "3d23178e5f00b72e",
   "metadata": {
    "ExecuteTime": {
     "end_time": "2025-05-19T16:16:57.308821Z",
     "start_time": "2025-05-19T16:16:57.305198Z"
    }
   },
   "outputs": [],
   "source": [
    "# 3. Multilevel Inheritance\n",
    "class Manager(EmployeePersonJob):  # Inherits from EmployeePersonJob\n",
    "    def __init__(self, name, salary, department):\n",
    "        EmployeePersonJob.__init__(self, name, salary)  # Explicitly initialize EmployeePersonJob\n",
    "        self.department = department\n"
   ]
  },
  {
   "cell_type": "code",
   "execution_count": 4,
   "id": "d4ac1bb3863ba7e0",
   "metadata": {
    "ExecuteTime": {
     "end_time": "2025-05-19T16:16:57.433799Z",
     "start_time": "2025-05-19T16:16:57.431255Z"
    }
   },
   "outputs": [],
   "source": [
    "# 4. Hierarchical Inheritance\n",
    "class AssistantManager(EmployeePersonJob):  # Inherits from EmployeePersonJob\n",
    "    def __init__(self, name, salary, team_size):\n",
    "        EmployeePersonJob.__init__(self, name, salary)  # Explicitly initialize EmployeePersonJob\n",
    "        self.team_size = team_size"
   ]
  },
  {
   "cell_type": "code",
   "execution_count": 5,
   "id": "aa11702deab660b1",
   "metadata": {
    "ExecuteTime": {
     "end_time": "2025-05-19T16:16:57.445639Z",
     "start_time": "2025-05-19T16:16:57.443138Z"
    }
   },
   "outputs": [],
   "source": [
    "# 5. Hybrid Inheritance (Multiple + Multilevel)\n",
    "class SeniorManager(Manager, AssistantManager):  # Inherits from both Manager and AssistantManager\n",
    "    def __init__(self, name, salary, department, team_size):\n",
    "        Manager.__init__(self, name, salary, department)        # Initialize Manager\n",
    "        AssistantManager.__init__(self, name, salary, team_size)  # Initialize AssistantManager"
   ]
  },
  {
   "cell_type": "code",
   "execution_count": 6,
   "id": "1115c44eece03fdb",
   "metadata": {
    "ExecuteTime": {
     "end_time": "2025-05-19T16:16:57.487703Z",
     "start_time": "2025-05-19T16:16:57.484030Z"
    }
   },
   "outputs": [
    {
     "name": "stdout",
     "output_type": "stream",
     "text": [
      "John 40000\n",
      "Alice 50000\n",
      "Bob 60000 HR\n",
      "Charlie 45000 10\n",
      "David 70000 Finance 20\n"
     ]
    }
   ],
   "source": [
    "# Creating objects to show inheritance\n",
    "\n",
    "# Single Inheritance\n",
    "emp = Employee(\"John\", 40000)\n",
    "print(emp.name, emp.salary)\n",
    "\n",
    "# Multiple Inheritance\n",
    "emp2 = EmployeePersonJob(\"Alice\", 50000)\n",
    "print(emp2.name, emp2.salary)\n",
    "\n",
    "# Multilevel Inheritance\n",
    "mgr = Manager(\"Bob\", 60000, \"HR\")\n",
    "print(mgr.name, mgr.salary, mgr.department)\n",
    "\n",
    "# Hierarchical Inheritance\n",
    "asst_mgr = AssistantManager(\"Charlie\", 45000, 10)\n",
    "print(asst_mgr.name, asst_mgr.salary, asst_mgr.team_size)\n",
    "\n",
    "# Hybrid Inheritance\n",
    "sen_mgr = SeniorManager(\"David\", 70000, \"Finance\", 20)\n",
    "print(sen_mgr.name, sen_mgr.salary, sen_mgr.department, sen_mgr.team_size)"
   ]
  },
  {
   "cell_type": "code",
   "execution_count": null,
   "id": "7f235cf2f55b30d3",
   "metadata": {
    "ExecuteTime": {
     "end_time": "2025-05-19T16:16:57.508019Z",
     "start_time": "2025-05-19T16:16:57.506124Z"
    }
   },
   "outputs": [],
   "source": []
  }
 ],
 "metadata": {
  "kernelspec": {
   "display_name": "Python 3 (ipykernel)",
   "language": "python",
   "name": "python3"
  },
  "language_info": {
   "codemirror_mode": {
    "name": "ipython",
    "version": 3
   },
   "file_extension": ".py",
   "mimetype": "text/x-python",
   "name": "python",
   "nbconvert_exporter": "python",
   "pygments_lexer": "ipython3",
   "version": "3.13.2"
  }
 },
 "nbformat": 4,
 "nbformat_minor": 5
}
