{
 "cells": [
  {
   "cell_type": "code",
   "execution_count": 33,
   "id": "70d5d5b5-e2ba-4e4f-ba70-c5db6dffadb5",
   "metadata": {
    "tags": []
   },
   "outputs": [
    {
     "name": "stdout",
     "output_type": "stream",
     "text": [
      "45\n"
     ]
    }
   ],
   "source": [
    "#Nested functions and closures\n",
    "def func1(num1):\n",
    "    def func2(num2):\n",
    "        return num1 * num2\n",
    "    return func2\n",
    "\n",
    "multiplier = func1(5)\n",
    "type(multiplier)\n",
    "\n",
    "product = multiplier(9)\n",
    "print(product)"
   ]
  },
  {
   "cell_type": "code",
   "execution_count": 1,
   "id": "228ddead-dbc2-46af-9260-0a540c7279e2",
   "metadata": {
    "tags": []
   },
   "outputs": [
    {
     "data": {
      "text/plain": [
       "'CV Raman'"
      ]
     },
     "execution_count": 1,
     "metadata": {},
     "output_type": "execute_result"
    }
   ],
   "source": [
    "FirstName = 'John'\n",
    "LastName = 'Appleseed'\n",
    "def name():\n",
    "    FirstName = 'Ranjan'\n",
    "    LastName = 'Mistry'\n",
    "    \n",
    "    class PersonName:\n",
    "        FirstName = 'Adrian'\n",
    "        LastName = 'Brody'\n",
    "        \n",
    "        @classmethod\n",
    "        def fullname(cls):\n",
    "            FirstName = 'CV'\n",
    "            LastName = 'Raman'\n",
    "            \n",
    "            fullname = f\"{FirstName} {LastName}\"\n",
    "            return fullname\n",
    "    return PersonName\n",
    "\n",
    "cls = name()\n",
    "cls.fullname()"
   ]
  },
  {
   "cell_type": "code",
   "execution_count": 2,
   "id": "d798a4ee-e74c-440c-88f9-ad41cdfa5e99",
   "metadata": {
    "tags": []
   },
   "outputs": [
    {
     "data": {
      "text/plain": [
       "ClosureVars(nonlocals={}, globals={}, builtins={}, unbound=set())"
      ]
     },
     "execution_count": 2,
     "metadata": {},
     "output_type": "execute_result"
    }
   ],
   "source": [
    "import inspect\n",
    "inspect.getclosurevars(cls.fullname)"
   ]
  },
  {
   "cell_type": "code",
   "execution_count": 37,
   "id": "8cc20d5b-8fd4-491b-93f9-029a6c8434f5",
   "metadata": {
    "tags": []
   },
   "outputs": [
    {
     "name": "stdout",
     "output_type": "stream",
     "text": [
      "Help on function getclosurevars in module inspect:\n",
      "\n",
      "getclosurevars(func)\n",
      "    Get the mapping of free variables to their current values.\n",
      "\n",
      "    Returns a named tuple of dicts mapping the current nonlocal, global\n",
      "    and builtin references as seen by the body of the function. A final\n",
      "    set of unbound names that could not be resolved is also provided.\n",
      "\n"
     ]
    }
   ],
   "source": [
    "help(inspect.getclosurevars)"
   ]
  },
  {
   "cell_type": "code",
   "execution_count": 5,
   "id": "d1c5f0e2-0c31-4576-9a64-10ea44f99a28",
   "metadata": {},
   "outputs": [
    {
     "data": {
      "text/plain": [
       "'Macbeth says Hello!'"
      ]
     },
     "execution_count": 5,
     "metadata": {},
     "output_type": "execute_result"
    }
   ],
   "source": [
    "name = 'Macbeth'\n",
    "class Person:\n",
    "    name = 'Hamlet'\n",
    "    name1 = name * 3\n",
    "    name2 = [name for _ in range(3)]\n",
    "\n",
    "    @classmethod\n",
    "    def greeting(cls):\n",
    "        return f'{name} says Hello!'\n",
    "\n",
    "Person.greeting()"
   ]
  },
  {
   "cell_type": "code",
   "execution_count": 6,
   "id": "73ac4d84-3366-4f34-8f54-feedc8ea9eca",
   "metadata": {},
   "outputs": [
    {
     "data": {
      "text/plain": [
       "'HamletHamletHamlet'"
      ]
     },
     "execution_count": 6,
     "metadata": {},
     "output_type": "execute_result"
    }
   ],
   "source": [
    "Person.name1"
   ]
  },
  {
   "cell_type": "code",
   "execution_count": 7,
   "id": "de150232-ce96-4e01-ae0c-0acd690e0c86",
   "metadata": {},
   "outputs": [
    {
     "data": {
      "text/plain": [
       "['Macbeth', 'Macbeth', 'Macbeth']"
      ]
     },
     "execution_count": 7,
     "metadata": {},
     "output_type": "execute_result"
    }
   ],
   "source": [
    "Person.name2"
   ]
  },
  {
   "cell_type": "code",
   "execution_count": 8,
   "id": "ecf819b8-111d-4883-90ca-beae267a364c",
   "metadata": {},
   "outputs": [
    {
     "data": {
      "text/plain": [
       "ClosureVars(nonlocals={}, globals={'name': 'Macbeth'}, builtins={}, unbound=set())"
      ]
     },
     "execution_count": 8,
     "metadata": {},
     "output_type": "execute_result"
    }
   ],
   "source": [
    "inspect.getclosurevars(Person.greeting)"
   ]
  },
  {
   "cell_type": "code",
   "execution_count": null,
   "id": "c5344c16-e3e2-452b-9e56-f93f80c38d4d",
   "metadata": {},
   "outputs": [],
   "source": []
  }
 ],
 "metadata": {
  "@deathbeds/ipydrawio": {
   "xml": ""
  },
  "kernelspec": {
   "display_name": "Python 3 (ipykernel)",
   "language": "python",
   "name": "python3"
  },
  "language_info": {
   "codemirror_mode": {
    "name": "ipython",
    "version": 3
   },
   "file_extension": ".py",
   "mimetype": "text/x-python",
   "name": "python",
   "nbconvert_exporter": "python",
   "pygments_lexer": "ipython3",
   "version": "3.13.2"
  }
 },
 "nbformat": 4,
 "nbformat_minor": 5
}
