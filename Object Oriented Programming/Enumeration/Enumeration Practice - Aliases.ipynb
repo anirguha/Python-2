{
 "cells": [
  {
   "cell_type": "code",
   "execution_count": 4,
   "id": "initial_id",
   "metadata": {
    "ExecuteTime": {
     "end_time": "2025-05-19T16:31:35.494694Z",
     "start_time": "2025-05-19T16:31:35.490721Z"
    }
   },
   "outputs": [],
   "source": [
    "from enum import Enum, unique\n",
    "class Color(Enum):\n",
    "    red=1\n",
    "    crimson=1\n",
    "    carmine=1\n",
    "    blue=2\n",
    "    aquamarime=2\n"
   ]
  },
  {
   "cell_type": "code",
   "execution_count": 5,
   "id": "48f192b2dece76ec",
   "metadata": {
    "ExecuteTime": {
     "end_time": "2025-05-19T16:31:36.068970Z",
     "start_time": "2025-05-19T16:31:36.063777Z"
    }
   },
   "outputs": [
    {
     "data": {
      "text/plain": [
       "[<Color.red: 1>, <Color.blue: 2>]"
      ]
     },
     "execution_count": 5,
     "metadata": {},
     "output_type": "execute_result"
    }
   ],
   "source": [
    "list(Color)\n",
    "\n"
   ]
  },
  {
   "cell_type": "code",
   "execution_count": 6,
   "id": "e4002262067aa476",
   "metadata": {
    "ExecuteTime": {
     "end_time": "2025-05-19T16:36:06.254003Z",
     "start_time": "2025-05-19T16:36:06.250670Z"
    }
   },
   "outputs": [],
   "source": [
    "class NumSides(Enum):\n",
    "    Triangle=3\n",
    "    Rectangle=4\n",
    "    Square=4\n",
    "    Rhombus=4"
   ]
  },
  {
   "cell_type": "code",
   "execution_count": 7,
   "id": "c1663c9e8364be4c",
   "metadata": {
    "ExecuteTime": {
     "end_time": "2025-05-19T16:36:22.989096Z",
     "start_time": "2025-05-19T16:36:22.984918Z"
    }
   },
   "outputs": [
    {
     "data": {
      "text/plain": [
       "<NumSides.Rectangle: 4>"
      ]
     },
     "execution_count": 7,
     "metadata": {},
     "output_type": "execute_result"
    }
   ],
   "source": [
    "NumSides(4)"
   ]
  },
  {
   "cell_type": "code",
   "execution_count": 13,
   "id": "85613aa86073a435",
   "metadata": {
    "ExecuteTime": {
     "end_time": "2025-05-19T16:39:17.882230Z",
     "start_time": "2025-05-19T16:39:17.877723Z"
    }
   },
   "outputs": [
    {
     "data": {
      "text/plain": [
       "[<NumSides.Triangle: 3>, <NumSides.Rectangle: 4>]"
      ]
     },
     "execution_count": 13,
     "metadata": {},
     "output_type": "execute_result"
    }
   ],
   "source": [
    "list(NumSides)"
   ]
  },
  {
   "cell_type": "code",
   "execution_count": 20,
   "id": "bbd0287c363d48e8",
   "metadata": {
    "ExecuteTime": {
     "end_time": "2025-05-19T17:11:10.828112Z",
     "start_time": "2025-05-19T17:11:10.825248Z"
    },
    "tags": [
     "Unique"
    ]
   },
   "outputs": [],
   "source": [
    "@unique\n",
    "class Status(Enum):\n",
    "    ready = 1\n",
    "    waiting = 2\n",
    "    running = 3\n"
   ]
  },
  {
   "cell_type": "code",
   "execution_count": 40,
   "id": "9eaef01472099e71",
   "metadata": {
    "ExecuteTime": {
     "end_time": "2025-05-19T18:54:28.531239Z",
     "start_time": "2025-05-19T18:54:28.525508Z"
    },
    "tags": [
     "Customizing and Extending Enumerations"
    ]
   },
   "outputs": [],
   "source": [
    "#Customiizing and Extending Enumerations\n",
    "from enum import Enum\n",
    "from functools import total_ordering\n",
    "\n",
    "\n",
    "@total_ordering\n",
    "class Numbers(Enum):\n",
    "    One = 1\n",
    "    Two = 2\n",
    "    Three = 3\n",
    "\n",
    "    def __lt__(self, other):\n",
    "        if isinstance(other, Numbers):\n",
    "\n",
    "            return self.value < other.value\n",
    "        elif isinstance(other, int):\n",
    "            return self.value < other\n",
    "        else:\n",
    "            return False\n",
    "\n",
    "    def __eq__(self, other):\n",
    "        if isinstance(other, Numbers):\n",
    "            return self is other\n",
    "        elif isinstance(other, int):\n",
    "            return self.value == other\n",
    "        return False\n",
    "\n",
    "    def __hash__(self):\n",
    "        return hash(self.value)\n"
   ]
  },
  {
   "cell_type": "code",
   "execution_count": 41,
   "id": "d59cfd20e3ee9924",
   "metadata": {
    "ExecuteTime": {
     "end_time": "2025-05-19T18:54:35.803448Z",
     "start_time": "2025-05-19T18:54:35.800076Z"
    }
   },
   "outputs": [
    {
     "data": {
      "text/plain": [
       "False"
      ]
     },
     "execution_count": 41,
     "metadata": {},
     "output_type": "execute_result"
    }
   ],
   "source": [
    "Numbers.One >= Numbers.Two"
   ]
  },
  {
   "cell_type": "code",
   "execution_count": 42,
   "id": "f0390d129298c044",
   "metadata": {
    "ExecuteTime": {
     "end_time": "2025-05-19T18:54:39.216466Z",
     "start_time": "2025-05-19T18:54:39.213231Z"
    }
   },
   "outputs": [
    {
     "data": {
      "text/plain": [
       "1"
      ]
     },
     "execution_count": 42,
     "metadata": {},
     "output_type": "execute_result"
    }
   ],
   "source": [
    "hash(Numbers.One)"
   ]
  },
  {
   "cell_type": "code",
   "execution_count": 44,
   "id": "105e39f3de321af2",
   "metadata": {
    "ExecuteTime": {
     "end_time": "2025-05-19T18:55:02.783407Z",
     "start_time": "2025-05-19T18:55:02.779969Z"
    }
   },
   "outputs": [
    {
     "data": {
      "text/plain": [
       "True"
      ]
     },
     "execution_count": 44,
     "metadata": {},
     "output_type": "execute_result"
    }
   ],
   "source": [
    "Numbers.One < 15"
   ]
  },
  {
   "cell_type": "code",
   "execution_count": 30,
   "id": "3325f514-da26-44e1-9c93-5abbb63619b6",
   "metadata": {},
   "outputs": [],
   "source": [
    "from enum import Enum\n",
    "from functools import total_ordering"
   ]
  },
  {
   "cell_type": "code",
   "execution_count": 31,
   "id": "92f8a3955af2da64",
   "metadata": {},
   "outputs": [],
   "source": [
    "@total_ordering\n",
    "class Phase(Enum):\n",
    "    READY = 'ready'\n",
    "    RUNNING = 'running'\n",
    "    FINISHED = 'finished'\n",
    "\n",
    "    def __str__(self):\n",
    "        return self.value\n",
    "\n",
    "    def __eq__(self, other):\n",
    "        if isinstance(other, Phase):\n",
    "            return self is other\n",
    "        if isinstance(other, str):\n",
    "            return self.value == other\n",
    "        return False\n",
    "\n",
    "    def _get_ordered_index(self,other):\n",
    "         return self.ordered_items.index(other)\n",
    "    \n",
    "    def __lt__(self, other):\n",
    "        self.ordered_items = list(Phase)\n",
    "        self_ordered_index = self.ordered_items.index(self)\n",
    "\n",
    "        if isinstance(other, Phase):\n",
    "            return self_ordered_index < self._get_ordered_index(other)\n",
    "            \n",
    "        if isinstance(other, str):\n",
    "            return self_ordered_index < self._get_ordered_index(other)\n",
    "        "
   ]
  },
  {
   "cell_type": "code",
   "execution_count": 32,
   "id": "b90ed50d-409c-46bb-a1a1-db2e091d2abd",
   "metadata": {},
   "outputs": [
    {
     "data": {
      "text/plain": [
       "True"
      ]
     },
     "execution_count": 32,
     "metadata": {},
     "output_type": "execute_result"
    }
   ],
   "source": [
    "Phase.READY == 'ready'"
   ]
  },
  {
   "cell_type": "code",
   "execution_count": 35,
   "id": "eca12f38-86eb-4031-84e4-e6e734eb776c",
   "metadata": {},
   "outputs": [
    {
     "data": {
      "text/plain": [
       "True"
      ]
     },
     "execution_count": 35,
     "metadata": {},
     "output_type": "execute_result"
    }
   ],
   "source": [
    "Phase.READY < 'running'"
   ]
  },
  {
   "cell_type": "code",
   "execution_count": null,
   "id": "2d1d65de-b2fe-43fd-9072-b44ca923af45",
   "metadata": {},
   "outputs": [],
   "source": []
  }
 ],
 "metadata": {
  "kernelspec": {
   "display_name": "Python 3 (ipykernel)",
   "language": "python",
   "name": "python3"
  },
  "language_info": {
   "codemirror_mode": {
    "name": "ipython",
    "version": 3
   },
   "file_extension": ".py",
   "mimetype": "text/x-python",
   "name": "python",
   "nbconvert_exporter": "python",
   "pygments_lexer": "ipython3",
   "version": "3.13.3"
  }
 },
 "nbformat": 4,
 "nbformat_minor": 5
}
