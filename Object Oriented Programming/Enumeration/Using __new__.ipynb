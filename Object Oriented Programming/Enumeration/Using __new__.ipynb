{
 "cells": [
  {
   "cell_type": "code",
   "execution_count": 1,
   "id": "04d34cb7-e0a3-4d12-830b-bff35191ee78",
   "metadata": {},
   "outputs": [],
   "source": [
    "#Using __new__method"
   ]
  },
  {
   "cell_type": "code",
   "execution_count": 2,
   "id": "a0a02e97-d1fa-490b-b1f2-dd79d190b951",
   "metadata": {},
   "outputs": [],
   "source": [
    "from enum import Enum"
   ]
  },
  {
   "cell_type": "code",
   "execution_count": 3,
   "id": "30d6616d-250d-45e2-bc96-00b80af5bdad",
   "metadata": {},
   "outputs": [],
   "source": [
    "class TwoValueEnum(Enum):\n",
    "    def __new__(cls, member_value, member_status):\n",
    "        member = object.__new__(cls)\n",
    "\n",
    "        member._value_ = member_value\n",
    "        member.status = member_status\n",
    "\n",
    "        return member"
   ]
  },
  {
   "cell_type": "code",
   "execution_count": 4,
   "id": "69adf457-742c-4e66-9453-e4acba7ec15a",
   "metadata": {},
   "outputs": [],
   "source": [
    "class AppStatus(TwoValueEnum):\n",
    "    OK = 0, 'All Ok'\n",
    "    FAILED = 1, 'ERROR'"
   ]
  },
  {
   "cell_type": "code",
   "execution_count": 6,
   "id": "3f29284c-0cef-43a0-ba1d-2b7f7186be2a",
   "metadata": {},
   "outputs": [
    {
     "data": {
      "text/plain": [
       "('OK', 0, 'All Ok')"
      ]
     },
     "execution_count": 6,
     "metadata": {},
     "output_type": "execute_result"
    }
   ],
   "source": [
    "AppStatus.OK.name, AppStatus.OK.value, AppStatus.OK.status"
   ]
  },
  {
   "cell_type": "code",
   "execution_count": 12,
   "id": "f3dcbf73-0b26-4927-b828-1064b950f4e2",
   "metadata": {},
   "outputs": [
    {
     "data": {
      "text/plain": [
       "('FAILED', 1, 'ERROR')"
      ]
     },
     "execution_count": 12,
     "metadata": {},
     "output_type": "execute_result"
    }
   ],
   "source": [
    "AppStatus.FAILED.name, AppStatus.FAILED.value, AppStatus.FAILED.status"
   ]
  },
  {
   "cell_type": "code",
   "execution_count": null,
   "id": "076c8dc7-9190-418f-8ddf-943aeb0a3937",
   "metadata": {},
   "outputs": [],
   "source": []
  }
 ],
 "metadata": {
  "kernelspec": {
   "display_name": "Python 3 (ipykernel)",
   "language": "python",
   "name": "python3"
  },
  "language_info": {
   "codemirror_mode": {
    "name": "ipython",
    "version": 3
   },
   "file_extension": ".py",
   "mimetype": "text/x-python",
   "name": "python",
   "nbconvert_exporter": "python",
   "pygments_lexer": "ipython3",
   "version": "3.13.3"
  }
 },
 "nbformat": 4,
 "nbformat_minor": 5
}
