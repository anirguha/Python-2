{
 "cells": [
  {
   "cell_type": "code",
   "execution_count": 1,
   "id": "6afcab27-3468-4480-bf31-11bc6701005d",
   "metadata": {},
   "outputs": [],
   "source": [
    "#Generating Automatic Values"
   ]
  },
  {
   "cell_type": "code",
   "execution_count": 6,
   "id": "f448941d-27c4-4e8e-8a2c-6d1d9010bee5",
   "metadata": {},
   "outputs": [],
   "source": [
    "from enum import Enum, auto"
   ]
  },
  {
   "cell_type": "code",
   "execution_count": 7,
   "id": "9f009614-9ff0-48cb-b85d-d2b86b84beb7",
   "metadata": {},
   "outputs": [],
   "source": [
    "class State(Enum):\n",
    "    WAITING = auto()\n",
    "    STARTED = auto()\n",
    "    FINISHED = auto()"
   ]
  },
  {
   "cell_type": "code",
   "execution_count": 8,
   "id": "74969156-c6f3-4b5c-b547-947cdb82404d",
   "metadata": {},
   "outputs": [
    {
     "name": "stdout",
     "output_type": "stream",
     "text": [
      "WAITING 1\n",
      "STARTED 2\n",
      "FINISHED 3\n"
     ]
    }
   ],
   "source": [
    "for member in State:\n",
    "    print(member.name, member.value)"
   ]
  },
  {
   "cell_type": "code",
   "execution_count": 9,
   "id": "ff5543e1-b1c6-4251-a0b9-47cc7af42f4d",
   "metadata": {},
   "outputs": [
    {
     "data": {
      "text/plain": [
       "True"
      ]
     },
     "execution_count": 9,
     "metadata": {},
     "output_type": "execute_result"
    }
   ],
   "source": [
    "hasattr(State,'_generate_next_value_')"
   ]
  },
  {
   "cell_type": "code",
   "execution_count": 21,
   "id": "2f1b7044-2a3f-4194-8442-93012f0eab98",
   "metadata": {},
   "outputs": [],
   "source": [
    "from enum import Enum, auto"
   ]
  },
  {
   "cell_type": "code",
   "execution_count": 22,
   "id": "ce29de75-64f5-4a67-8c47-29337d301e88",
   "metadata": {},
   "outputs": [],
   "source": [
    "class Aliased(Enum):\n",
    "    def _generate_next_value_(name, start, count, last_values):\n",
    "        print(name, start, count, last_values)\n",
    "        return last_values[-1]"
   ]
  },
  {
   "cell_type": "code",
   "execution_count": 23,
   "id": "ef9556e6-25d6-482b-93a7-4dfcd7b1170c",
   "metadata": {},
   "outputs": [
    {
     "name": "stdout",
     "output_type": "stream",
     "text": [
      "PINK 1 1 [<object object at 0x114c28480>]\n",
      "CRIMSON 1 2 [<object object at 0x114c28480>, <object object at 0x114c28480>]\n",
      "TURQUOISE 1 4 [<object object at 0x114c28480>, <object object at 0x114c28480>, <object object at 0x114c28480>, <object object at 0x114c28250>]\n",
      "AQUA 1 5 [<object object at 0x114c28480>, <object object at 0x114c28480>, <object object at 0x114c28480>, <object object at 0x114c28250>, <object object at 0x114c28250>]\n"
     ]
    }
   ],
   "source": [
    "class Color(Aliased):\n",
    "    RED=object()\n",
    "    PINK=auto()\n",
    "    CRIMSON=auto()\n",
    "\n",
    "    BLUE=object()\n",
    "    TURQUOISE=auto()\n",
    "    AQUA=auto()"
   ]
  },
  {
   "cell_type": "code",
   "execution_count": 24,
   "id": "fa5fc364-42d3-4dc2-a547-4cdf956dcc64",
   "metadata": {},
   "outputs": [
    {
     "data": {
      "text/plain": [
       "mappingproxy({'RED': <Color.RED: <object object at 0x114c28480>>,\n",
       "              'PINK': <Color.RED: <object object at 0x114c28480>>,\n",
       "              'CRIMSON': <Color.RED: <object object at 0x114c28480>>,\n",
       "              'BLUE': <Color.BLUE: <object object at 0x114c28250>>,\n",
       "              'TURQUOISE': <Color.BLUE: <object object at 0x114c28250>>,\n",
       "              'AQUA': <Color.BLUE: <object object at 0x114c28250>>})"
      ]
     },
     "execution_count": 24,
     "metadata": {},
     "output_type": "execute_result"
    }
   ],
   "source": [
    "Color.__members__"
   ]
  },
  {
   "cell_type": "code",
   "execution_count": null,
   "id": "255abcca-1fbb-4a55-80b0-3dc34a61df7a",
   "metadata": {},
   "outputs": [],
   "source": []
  }
 ],
 "metadata": {
  "kernelspec": {
   "display_name": "Python 3 (ipykernel)",
   "language": "python",
   "name": "python3"
  },
  "language_info": {
   "codemirror_mode": {
    "name": "ipython",
    "version": 3
   },
   "file_extension": ".py",
   "mimetype": "text/x-python",
   "name": "python",
   "nbconvert_exporter": "python",
   "pygments_lexer": "ipython3",
   "version": "3.13.3"
  }
 },
 "nbformat": 4,
 "nbformat_minor": 5
}
