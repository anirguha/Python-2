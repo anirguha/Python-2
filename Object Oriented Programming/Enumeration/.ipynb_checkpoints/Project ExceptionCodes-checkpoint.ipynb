{
 "cells": [
  {
   "cell_type": "code",
   "execution_count": 1,
   "id": "d3b27253-42a0-4f79-af79-fe1c4ea5183d",
   "metadata": {},
   "outputs": [],
   "source": [
    "#Generate Exception Codes"
   ]
  },
  {
   "cell_type": "code",
   "execution_count": 15,
   "id": "f1390c76-9910-466e-9e96-f779919f5059",
   "metadata": {},
   "outputs": [],
   "source": [
    "from enum import Enum, unique"
   ]
  },
  {
   "cell_type": "code",
   "execution_count": 16,
   "id": "70979535-8b28-419e-89af-2a2c20decec4",
   "metadata": {},
   "outputs": [],
   "source": [
    "class GenericException:\n",
    "    pass"
   ]
  },
  {
   "cell_type": "code",
   "execution_count": 17,
   "id": "011f30ee-5fef-4470-bf32-a243465f0d64",
   "metadata": {},
   "outputs": [],
   "source": [
    "class TimeOut:\n",
    "    pass"
   ]
  },
  {
   "cell_type": "code",
   "execution_count": 28,
   "id": "40f48734-d28d-426f-a4bd-65970f53b958",
   "metadata": {},
   "outputs": [],
   "source": [
    "@unique\n",
    "class AppException(Enum):\n",
    "    Generic = 100, GenericException, 'Unknown Exception'\n",
    "    TimeOut = 101, TimeOut, 'Operation Timed Out.'\n",
    "    NotAnInteger = 102, ValueError, 'Value must be an integer.'\n",
    "    NotAList = 103, ValueError, 'Value must be a list.'\n",
    "\n",
    "    def __new__(cls, code, class_, msg):\n",
    "        member = object.__new__(cls)\n",
    "\n",
    "        member._value_ = code\n",
    "        member.exception = class_\n",
    "        member.msg = msg\n",
    "\n",
    "        return member\n",
    "\n",
    "    @property\n",
    "    def code(self):\n",
    "        return self.value\n",
    "\n",
    "    def throw_msg(self, new_msg=None):\n",
    "        message = new_msg or self.msg\n",
    "        raise self.exception(f'{self.code} - {message}')"
   ]
  },
  {
   "cell_type": "code",
   "execution_count": 29,
   "id": "7fea02d1-06cf-4b5b-b905-209eb05f0519",
   "metadata": {},
   "outputs": [
    {
     "data": {
      "text/plain": [
       "(101, __main__.TimeOut, 'Operation Timed Out.')"
      ]
     },
     "execution_count": 29,
     "metadata": {},
     "output_type": "execute_result"
    }
   ],
   "source": [
    "AppException.TimeOut._value_, AppException.TimeOut.exception, AppException.TimeOut.msg"
   ]
  },
  {
   "cell_type": "code",
   "execution_count": 31,
   "id": "4ae77642-6f57-4300-96f6-66a3700d2d8f",
   "metadata": {},
   "outputs": [
    {
     "name": "stdout",
     "output_type": "stream",
     "text": [
      "102 - Value must be an integer.\n"
     ]
    }
   ],
   "source": [
    "try:\n",
    "    AppException.NotAnInteger.throw_msg()\n",
    "except Exception as ex:\n",
    "    print(ex)"
   ]
  }
 ],
 "metadata": {
  "kernelspec": {
   "display_name": "Python 3 (ipykernel)",
   "language": "python",
   "name": "python3"
  },
  "language_info": {
   "codemirror_mode": {
    "name": "ipython",
    "version": 3
   },
   "file_extension": ".py",
   "mimetype": "text/x-python",
   "name": "python",
   "nbconvert_exporter": "python",
   "pygments_lexer": "ipython3",
   "version": "3.13.2"
  }
 },
 "nbformat": 4,
 "nbformat_minor": 5
}
