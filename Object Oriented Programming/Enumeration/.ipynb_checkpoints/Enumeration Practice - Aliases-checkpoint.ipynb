{
 "cells": [
  {
   "cell_type": "code",
   "id": "initial_id",
   "metadata": {
    "collapsed": true,
    "ExecuteTime": {
     "end_time": "2025-05-19T16:31:35.494694Z",
     "start_time": "2025-05-19T16:31:35.490721Z"
    }
   },
   "source": [
    "from enum import Enum, unique\n",
    "class Color(Enum):\n",
    "    red=1\n",
    "    crimson=1\n",
    "    carmine=1\n",
    "    blue=2\n",
    "    aquamarime=2\n"
   ],
   "outputs": [],
   "execution_count": 4
  },
  {
   "metadata": {
    "ExecuteTime": {
     "end_time": "2025-05-19T16:31:36.068970Z",
     "start_time": "2025-05-19T16:31:36.063777Z"
    }
   },
   "cell_type": "code",
   "source": [
    "list(Color)\n",
    "\n"
   ],
   "id": "48f192b2dece76ec",
   "outputs": [
    {
     "data": {
      "text/plain": [
       "[<Color.red: 1>, <Color.blue: 2>]"
      ]
     },
     "execution_count": 5,
     "metadata": {},
     "output_type": "execute_result"
    }
   ],
   "execution_count": 5
  },
  {
   "metadata": {
    "ExecuteTime": {
     "end_time": "2025-05-19T16:36:06.254003Z",
     "start_time": "2025-05-19T16:36:06.250670Z"
    }
   },
   "cell_type": "code",
   "source": [
    "class NumSides(Enum):\n",
    "    Triangle=3\n",
    "    Rectangle=4\n",
    "    Square=4\n",
    "    Rhombus=4"
   ],
   "id": "e4002262067aa476",
   "outputs": [],
   "execution_count": 6
  },
  {
   "metadata": {
    "ExecuteTime": {
     "end_time": "2025-05-19T16:36:22.989096Z",
     "start_time": "2025-05-19T16:36:22.984918Z"
    }
   },
   "cell_type": "code",
   "source": "NumSides(4)",
   "id": "c1663c9e8364be4c",
   "outputs": [
    {
     "data": {
      "text/plain": [
       "<NumSides.Rectangle: 4>"
      ]
     },
     "execution_count": 7,
     "metadata": {},
     "output_type": "execute_result"
    }
   ],
   "execution_count": 7
  },
  {
   "metadata": {
    "ExecuteTime": {
     "end_time": "2025-05-19T16:39:17.882230Z",
     "start_time": "2025-05-19T16:39:17.877723Z"
    }
   },
   "cell_type": "code",
   "source": "list(NumSides)",
   "id": "85613aa86073a435",
   "outputs": [
    {
     "data": {
      "text/plain": [
       "[<NumSides.Triangle: 3>, <NumSides.Rectangle: 4>]"
      ]
     },
     "execution_count": 13,
     "metadata": {},
     "output_type": "execute_result"
    }
   ],
   "execution_count": 13
  },
  {
   "metadata": {
    "tags": [
     "Unique"
    ],
    "ExecuteTime": {
     "end_time": "2025-05-19T17:11:10.828112Z",
     "start_time": "2025-05-19T17:11:10.825248Z"
    }
   },
   "cell_type": "code",
   "source": [
    "@unique\n",
    "class Status(Enum):\n",
    "    ready = 1\n",
    "    waiting = 2\n",
    "    running = 3\n"
   ],
   "id": "bbd0287c363d48e8",
   "outputs": [],
   "execution_count": 20
  },
  {
   "metadata": {
    "tags": [
     "Customizing and Extending Enumerations"
    ],
    "ExecuteTime": {
     "end_time": "2025-05-19T18:54:28.531239Z",
     "start_time": "2025-05-19T18:54:28.525508Z"
    }
   },
   "cell_type": "code",
   "source": [
    "#Customiizing and Extending Enumerations\n",
    "from enum import Enum\n",
    "from functools import total_ordering\n",
    "\n",
    "\n",
    "@total_ordering\n",
    "class Numbers(Enum):\n",
    "    One = 1\n",
    "    Two = 2\n",
    "    Three = 3\n",
    "\n",
    "    def __lt__(self, other):\n",
    "        if isinstance(other, Numbers):\n",
    "\n",
    "            return self.value < other.value\n",
    "        elif isinstance(other, int):\n",
    "            return self.value < other\n",
    "        else:\n",
    "            return False\n",
    "\n",
    "    def __eq__(self, other):\n",
    "        if isinstance(other, Numbers):\n",
    "            return self is other\n",
    "        elif isinstance(other, int):\n",
    "            return self.value == other\n",
    "        return False\n",
    "\n",
    "    def __hash__(self):\n",
    "        return hash(self.value)\n"
   ],
   "id": "9eaef01472099e71",
   "outputs": [],
   "execution_count": 40
  },
  {
   "metadata": {
    "ExecuteTime": {
     "end_time": "2025-05-19T18:54:35.803448Z",
     "start_time": "2025-05-19T18:54:35.800076Z"
    }
   },
   "cell_type": "code",
   "source": "Numbers.One >= Numbers.Two",
   "id": "d59cfd20e3ee9924",
   "outputs": [
    {
     "data": {
      "text/plain": [
       "False"
      ]
     },
     "execution_count": 41,
     "metadata": {},
     "output_type": "execute_result"
    }
   ],
   "execution_count": 41
  },
  {
   "metadata": {
    "ExecuteTime": {
     "end_time": "2025-05-19T18:54:39.216466Z",
     "start_time": "2025-05-19T18:54:39.213231Z"
    }
   },
   "cell_type": "code",
   "source": "hash(Numbers.One)",
   "id": "f0390d129298c044",
   "outputs": [
    {
     "data": {
      "text/plain": [
       "1"
      ]
     },
     "execution_count": 42,
     "metadata": {},
     "output_type": "execute_result"
    }
   ],
   "execution_count": 42
  },
  {
   "metadata": {
    "ExecuteTime": {
     "end_time": "2025-05-19T18:55:02.783407Z",
     "start_time": "2025-05-19T18:55:02.779969Z"
    }
   },
   "cell_type": "code",
   "source": "Numbers.One < 15",
   "id": "105e39f3de321af2",
   "outputs": [
    {
     "data": {
      "text/plain": [
       "True"
      ]
     },
     "execution_count": 44,
     "metadata": {},
     "output_type": "execute_result"
    }
   ],
   "execution_count": 44
  },
  {
   "metadata": {},
   "cell_type": "code",
   "outputs": [],
   "execution_count": null,
   "source": "",
   "id": "92f8a3955af2da64"
  }
 ],
 "metadata": {
  "kernelspec": {
   "display_name": "Python 3",
   "language": "python",
   "name": "python3"
  },
  "language_info": {
   "codemirror_mode": {
    "name": "ipython",
    "version": 2
   },
   "file_extension": ".py",
   "mimetype": "text/x-python",
   "name": "python",
   "nbconvert_exporter": "python",
   "pygments_lexer": "ipython2",
   "version": "2.7.6"
  }
 },
 "nbformat": 4,
 "nbformat_minor": 5
}
