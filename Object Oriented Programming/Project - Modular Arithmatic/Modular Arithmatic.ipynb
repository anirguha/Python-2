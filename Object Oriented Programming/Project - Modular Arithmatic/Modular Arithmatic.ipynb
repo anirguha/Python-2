{
 "cells": [
  {
   "cell_type": "code",
   "execution_count": 1,
   "id": "03a66006-e47b-490f-89e2-6c312b048a22",
   "metadata": {},
   "outputs": [],
   "source": [
    "##Modular arithmatic operations using class"
   ]
  },
  {
   "cell_type": "code",
   "execution_count": 2,
   "id": "139de4b4-1b46-4841-a80c-93fa8fc27494",
   "metadata": {},
   "outputs": [],
   "source": [
    "from functools import total_ordering\n",
    "from operator import add, sub, mul, pow"
   ]
  },
  {
   "cell_type": "code",
   "execution_count": 66,
   "id": "31ac0988-b961-438c-b897-751065562285",
   "metadata": {},
   "outputs": [],
   "source": [
    "class Mod:\n",
    "    def __init__(self, value, modulus):\n",
    "        if not isinstance(modulus, int):\n",
    "            raise TypeError('Modlus must be of an integer type')\n",
    "        if modulus <= 0:\n",
    "            raise ValueError('Modulus most be positive')\n",
    "        if not isinstance(value, int):\n",
    "            raise TypeError('Value must be an integer')\n",
    "            \n",
    "        self._modulus = modulus\n",
    "        self._value = value % modulus\n",
    "\n",
    "    @property\n",
    "    def value(self):\n",
    "        return self._value\n",
    "\n",
    "    @value.setter\n",
    "    def value(self,value):\n",
    "        self._value = value\n",
    "        return self._value\n",
    "\n",
    "    @property\n",
    "    def modulus(self):\n",
    "        return self._modulus\n",
    "\n",
    "    def __int__(self):\n",
    "        return self.value\n",
    "\n",
    "    def __repr__(self):\n",
    "        return f'Mod({self.value}, {self.modulus})'\n",
    "\n",
    "    def _get_other_value(self,other):\n",
    "        if isinstance(other, Mod) and self.modulus == other.modulus:\n",
    "            return other.value\n",
    "        if isinstance(other, int):\n",
    "            return other % self.modulus\n",
    "        raise TypeError('Incompatible types')\n",
    "\n",
    "    def _perform_operations(self, other, op, *, in_place=False):\n",
    "        other_value = self._get_other_value(other)\n",
    "        new_value = op(self.value, other_value)\n",
    "        if in_place:\n",
    "            self.value = new_value % self.modulus\n",
    "            return self\n",
    "        else:\n",
    "            return Mod(new_value, self.modulus)\n",
    "\n",
    "    ##function for congruence\n",
    "    def __eq__(self, other):\n",
    "        other_value = self._get_other_value(other)\n",
    "        return other_value == self.value\n",
    "\n",
    "    ##function for less than\n",
    "    def __lt__(self, other):\n",
    "        other_value = self._get_other_value(other)\n",
    "        return self.value < other_value\n",
    "\n",
    "    ##function for add\n",
    "    def __add__(self, other):\n",
    "        return self._perform_operations(other,add,in_place=False)\n",
    "\n",
    "    ##function for subrtact\n",
    "    def __sub__(self, other):\n",
    "        return self._perform_operations(other,sub,in_place=False)\n",
    "\n",
    "    ##function for multiply\n",
    "    def __mul__(self, other):\n",
    "        return self._perform_operations(other,mul,in_place=False)\n",
    "\n",
    "    ##function for power\n",
    "    def __pow__(self, other):\n",
    "        return self._perform_operations(other,pow,in_place=False)\n",
    "\n",
    "    ##function for in-place add\n",
    "    def __iadd__(self, other):\n",
    "        return self._perform_operations(other,add,in_place=True)\n",
    "\n",
    "    ##function for in-place subtract\n",
    "    def __isub__(self, other):\n",
    "        return self._perform_operations(other,sub,in_place=True)\n",
    "\n",
    "    ##function for in-place multiply\n",
    "    def __imul__(self, other):\n",
    "        return self._perform_operations(other,mul,in_place=True)\n",
    "\n",
    "    ##function for in-place power\n",
    "    def __ipow__(self, other):\n",
    "        return self._perform_operations(other,pow,in_place=True)\n",
    "            "
   ]
  },
  {
   "cell_type": "code",
   "execution_count": 67,
   "id": "9dfb6944-d44f-462d-bdc1-2f5498564cbe",
   "metadata": {},
   "outputs": [
    {
     "data": {
      "text/plain": [
       "Mod(2, 5)"
      ]
     },
     "execution_count": 67,
     "metadata": {},
     "output_type": "execute_result"
    }
   ],
   "source": [
    "Mod(17,5) + Mod(20,5)"
   ]
  },
  {
   "cell_type": "code",
   "execution_count": 68,
   "id": "b9655391-69ba-42a5-b726-0502357e01db",
   "metadata": {},
   "outputs": [
    {
     "data": {
      "text/plain": [
       "Mod(3, 4)"
      ]
     },
     "execution_count": 68,
     "metadata": {},
     "output_type": "execute_result"
    }
   ],
   "source": [
    "Mod(5,4) * Mod(3,4)"
   ]
  },
  {
   "cell_type": "code",
   "execution_count": 69,
   "id": "231b6a82-9955-4a5f-9b6b-a87aa49f2361",
   "metadata": {},
   "outputs": [
    {
     "data": {
      "text/plain": [
       "False"
      ]
     },
     "execution_count": 69,
     "metadata": {},
     "output_type": "execute_result"
    }
   ],
   "source": [
    "Mod(15,4) < Mod(3,4)"
   ]
  },
  {
   "cell_type": "code",
   "execution_count": 71,
   "id": "162e144b-b836-4dd1-9876-fe97c1879218",
   "metadata": {},
   "outputs": [
    {
     "data": {
      "text/plain": [
       "Mod(2, 5)"
      ]
     },
     "execution_count": 71,
     "metadata": {},
     "output_type": "execute_result"
    }
   ],
   "source": [
    "p = Mod(17,5)\n",
    "p += Mod(20,5)\n",
    "p"
   ]
  },
  {
   "cell_type": "code",
   "execution_count": 72,
   "id": "b6db009a-d630-4990-846f-368cad070f9e",
   "metadata": {},
   "outputs": [
    {
     "data": {
      "text/plain": [
       "Mod(3, 5)"
      ]
     },
     "execution_count": 72,
     "metadata": {},
     "output_type": "execute_result"
    }
   ],
   "source": [
    "Mod(17,5) + 6"
   ]
  },
  {
   "cell_type": "code",
   "execution_count": 73,
   "id": "d26f2ed9-45d8-4e57-8b80-fbd00c24598e",
   "metadata": {},
   "outputs": [
    {
     "data": {
      "text/plain": [
       "Mod(1, 3)"
      ]
     },
     "execution_count": 73,
     "metadata": {},
     "output_type": "execute_result"
    }
   ],
   "source": [
    "Mod(2,3) ** Mod(3,3)"
   ]
  },
  {
   "cell_type": "code",
   "execution_count": null,
   "id": "5a6d76d1-f891-4a3a-b05a-ac90cc94f3a5",
   "metadata": {},
   "outputs": [],
   "source": []
  }
 ],
 "metadata": {
  "kernelspec": {
   "display_name": "Python 3 (ipykernel)",
   "language": "python",
   "name": "python3"
  },
  "language_info": {
   "codemirror_mode": {
    "name": "ipython",
    "version": 3
   },
   "file_extension": ".py",
   "mimetype": "text/x-python",
   "name": "python",
   "nbconvert_exporter": "python",
   "pygments_lexer": "ipython3",
   "version": "3.13.2"
  }
 },
 "nbformat": 4,
 "nbformat_minor": 5
}
