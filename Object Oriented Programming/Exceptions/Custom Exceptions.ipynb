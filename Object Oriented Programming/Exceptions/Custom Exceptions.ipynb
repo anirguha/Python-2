{
 "cells": [
  {
   "cell_type": "code",
   "execution_count": 1,
   "id": "979e5a6e-78d3-4bda-97fa-0f839485193e",
   "metadata": {},
   "outputs": [],
   "source": [
    "#Custom Exceptions"
   ]
  },
  {
   "cell_type": "code",
   "execution_count": 2,
   "id": "0aea80a0-305c-4e27-8658-3b14997a0af0",
   "metadata": {},
   "outputs": [],
   "source": [
    "import sys"
   ]
  },
  {
   "cell_type": "code",
   "execution_count": 3,
   "id": "b3869d8e-f16c-4110-88b3-258271b997f4",
   "metadata": {},
   "outputs": [],
   "source": [
    "class TimeOut(Exception):\n",
    "    \"\"\"TimeOut Exception\"\"\""
   ]
  },
  {
   "cell_type": "code",
   "execution_count": 5,
   "id": "166ab3ec-4e0e-4d88-8de9-e97791200225",
   "metadata": {},
   "outputs": [
    {
     "name": "stdout",
     "output_type": "stream",
     "text": [
      "<class '__main__.TimeOut'>  <traceback object at 0x115e299c0>\n"
     ]
    }
   ],
   "source": [
    "try:\n",
    "    raise TimeOut\n",
    "except:\n",
    "    ex_type, ex, ex_tb = sys.exc_info()\n",
    "    print(ex_type, ex, ex_tb)"
   ]
  },
  {
   "cell_type": "code",
   "execution_count": null,
   "id": "5dfdf7bf-99da-4819-8a22-f4cb036a9879",
   "metadata": {},
   "outputs": [],
   "source": []
  }
 ],
 "metadata": {
  "kernelspec": {
   "display_name": "Python 3 (ipykernel)",
   "language": "python",
   "name": "python3"
  },
  "language_info": {
   "codemirror_mode": {
    "name": "ipython",
    "version": 3
   },
   "file_extension": ".py",
   "mimetype": "text/x-python",
   "name": "python",
   "nbconvert_exporter": "python",
   "pygments_lexer": "ipython3",
   "version": "3.13.2"
  }
 },
 "nbformat": 4,
 "nbformat_minor": 5
}
