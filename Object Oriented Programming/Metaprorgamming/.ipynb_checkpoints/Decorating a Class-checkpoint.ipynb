{
 "cells": [
  {
   "cell_type": "markdown",
   "id": "2ce932f6-47df-4204-a259-a6cc0bd72da5",
   "metadata": {},
   "source": [
    "Class Decorators"
   ]
  },
  {
   "cell_type": "code",
   "execution_count": 4,
   "id": "b57baaee-0bfc-4a5d-8253-01000cdfebfb",
   "metadata": {},
   "outputs": [],
   "source": [
    "def account_type(account_type_name):\n",
    "    def acct(cls):\n",
    "        cls.account_type = account_type_name\n",
    "        return cls\n",
    "    return acct\n",
    "    \n",
    "    "
   ]
  },
  {
   "cell_type": "code",
   "execution_count": 5,
   "id": "c64f7654-301f-4872-9885-612a56a6e771",
   "metadata": {},
   "outputs": [],
   "source": [
    "class Account:\n",
    "    \"\"\"This is an example of class decorators\"\"\""
   ]
  },
  {
   "cell_type": "code",
   "execution_count": 8,
   "id": "40b2b0d0-47a4-46f8-a3cc-726c60f7a2a9",
   "metadata": {},
   "outputs": [
    {
     "data": {
      "text/plain": [
       "'Savings'"
      ]
     },
     "execution_count": 8,
     "metadata": {},
     "output_type": "execute_result"
    }
   ],
   "source": [
    "@account_type('Savings')\n",
    "class BankSavingsAcct(Account):\n",
    "    \"\"\"This is an object inherited from Account\"\"\"\n",
    "\n",
    "BankSavingsAcct.account_type"
   ]
  },
  {
   "cell_type": "code",
   "execution_count": 9,
   "id": "fa3a5a86-a795-4b64-ab18-b8c6cedb5f6b",
   "metadata": {},
   "outputs": [
    {
     "data": {
      "text/plain": [
       "'Savings'"
      ]
     },
     "execution_count": 9,
     "metadata": {},
     "output_type": "execute_result"
    }
   ],
   "source": [
    "c = BankSavingsAcct\n",
    "c.account_type"
   ]
  },
  {
   "cell_type": "code",
   "execution_count": 10,
   "id": "03bf6fd0-bf21-4033-98d8-3a4e7384e843",
   "metadata": {},
   "outputs": [
    {
     "data": {
      "text/plain": [
       "mappingproxy({'__module__': '__main__',\n",
       "              '__firstlineno__': 1,\n",
       "              '__doc__': 'This is an object inherited from Account',\n",
       "              '__static_attributes__': (),\n",
       "              'account_type': 'Savings',\n",
       "              '__annotations__': {}})"
      ]
     },
     "execution_count": 10,
     "metadata": {},
     "output_type": "execute_result"
    }
   ],
   "source": [
    "c.__dict__"
   ]
  },
  {
   "cell_type": "code",
   "execution_count": null,
   "id": "039f7ed9-0ddd-4faf-8d89-8de98bd310d1",
   "metadata": {},
   "outputs": [],
   "source": []
  }
 ],
 "metadata": {
  "kernelspec": {
   "display_name": "Python 3 (ipykernel)",
   "language": "python",
   "name": "python3"
  },
  "language_info": {
   "codemirror_mode": {
    "name": "ipython",
    "version": 3
   },
   "file_extension": ".py",
   "mimetype": "text/x-python",
   "name": "python",
   "nbconvert_exporter": "python",
   "pygments_lexer": "ipython3",
   "version": "3.13.2"
  }
 },
 "nbformat": 4,
 "nbformat_minor": 5
}
