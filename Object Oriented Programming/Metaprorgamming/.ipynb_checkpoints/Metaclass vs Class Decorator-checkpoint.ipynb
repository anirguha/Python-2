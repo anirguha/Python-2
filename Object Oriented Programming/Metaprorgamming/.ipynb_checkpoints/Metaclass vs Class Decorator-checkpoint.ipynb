{
 "cells": [
  {
   "cell_type": "markdown",
   "id": "a7be7467-590b-487e-850f-6def7706ada0",
   "metadata": {},
   "source": [
    "Class Decorator vs Metaclass"
   ]
  },
  {
   "cell_type": "code",
   "execution_count": 1,
   "id": "46d46b94-8e98-44f8-a15c-77307b214ca9",
   "metadata": {},
   "outputs": [],
   "source": [
    "from functools import wraps"
   ]
  },
  {
   "cell_type": "code",
   "execution_count": 18,
   "id": "263d85ff-8bba-49ae-8ed0-a2c66625b7d7",
   "metadata": {},
   "outputs": [],
   "source": [
    "def func_logger(fn):\n",
    "    @wraps(fn)\n",
    "    def inner(*args,**kwargs):\n",
    "        result = fn(*args,**kwargs)\n",
    "        print(f'Log:{fn.__qualname__}({args},{kwargs})={result}')\n",
    "        return result\n",
    "    return inner\n",
    "\n",
    "    def class_logger(cls):\n",
    "        for name, obj in vars(cls):\n",
    "            if callable(obj):\n",
    "                print('Decorating:',cls,name)\n",
    "                setattr(cls,name,func_logger(obj))\n",
    "        return cls\n",
    "        "
   ]
  },
  {
   "cell_type": "code",
   "execution_count": 19,
   "id": "ad639c81-2968-479e-b95b-046afad3816b",
   "metadata": {},
   "outputs": [],
   "source": [
    "@func_logger\n",
    "class Person:\n",
    "    def __init__(self,name,age):\n",
    "        self.name=name\n",
    "        self.age=age\n",
    "\n",
    "    def greet(self):\n",
    "        print(f'Hello my name is {self.name} and my age is {self.age}')\n",
    "    "
   ]
  },
  {
   "cell_type": "code",
   "execution_count": 21,
   "id": "9373f119-d426-40bf-b4df-4148811e32b3",
   "metadata": {},
   "outputs": [
    {
     "name": "stdout",
     "output_type": "stream",
     "text": [
      "Log:Person(('Alex', 50),{})=<__main__.Person object at 0x11d0a8910>\n",
      "Log:Person(('Alex', 20),{})=<__main__.Person object at 0x11d0aafd0>\n",
      "Hello my name is Alex and my age is 20\n"
     ]
    }
   ],
   "source": [
    "p = Person('Alex',50)\n",
    "Person('Alex',20).greet()"
   ]
  },
  {
   "cell_type": "markdown",
   "id": "e46cd19e-c470-4959-9187-afd06ae895c6",
   "metadata": {},
   "source": [
    "Using Metaclass to decorate the callable"
   ]
  },
  {
   "cell_type": "code",
   "execution_count": 27,
   "id": "8df15f0c-4985-4354-8a9d-249b5d647d89",
   "metadata": {},
   "outputs": [],
   "source": [
    "class ClassLogger(type):\n",
    "    def __new__(mcls,name,bases,class_dict):\n",
    "        cls = super().__new__(mcls,name,bases,class_dict)\n",
    "        print(vars(cls))\n",
    "        for name,obj in vars(cls).items():\n",
    "            if callable(obj):\n",
    "                print('Decorating:',cls,name)\n",
    "                print(func_logger(obj))\n",
    "                setattr(cls,name,func_logger(obj))\n",
    "        return cls"
   ]
  },
  {
   "cell_type": "code",
   "execution_count": 28,
   "id": "cafc37cf-d4d8-4e78-abf1-1de438ba8297",
   "metadata": {},
   "outputs": [
    {
     "name": "stdout",
     "output_type": "stream",
     "text": [
      "{'__module__': '__main__', '__firstlineno__': 1, '__init__': <function Person.__init__ at 0x11e0958a0>, 'greet': <function Person.greet at 0x11df0d120>, '__static_attributes__': ('age', 'name'), '__dict__': <attribute '__dict__' of 'Person' objects>, '__weakref__': <attribute '__weakref__' of 'Person' objects>, '__doc__': None}\n",
      "Decorating: <class '__main__.Person'> __init__\n",
      "<function Person.__init__ at 0x11e000c20>\n",
      "Decorating: <class '__main__.Person'> greet\n",
      "<function Person.greet at 0x11e096480>\n"
     ]
    }
   ],
   "source": [
    "class Person(metaclass=ClassLogger):\n",
    "    def __init__(self,name,age):\n",
    "        self.name=name\n",
    "        self.age=age\n",
    "\n",
    "    def greet(self):\n",
    "        print(f'Hello my name is {self.name} and my age is {self.age}')"
   ]
  },
  {
   "cell_type": "code",
   "execution_count": null,
   "id": "646bbb65-d98c-490e-a1d5-93b58292372b",
   "metadata": {},
   "outputs": [],
   "source": []
  }
 ],
 "metadata": {
  "kernelspec": {
   "display_name": "Python 3 (ipykernel)",
   "language": "python",
   "name": "python3"
  },
  "language_info": {
   "codemirror_mode": {
    "name": "ipython",
    "version": 3
   },
   "file_extension": ".py",
   "mimetype": "text/x-python",
   "name": "python",
   "nbconvert_exporter": "python",
   "pygments_lexer": "ipython3",
   "version": "3.13.3"
  }
 },
 "nbformat": 4,
 "nbformat_minor": 5
}
