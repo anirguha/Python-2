{
 "cells": [
  {
   "cell_type": "markdown",
   "id": "f83ec4f3-3148-4c86-a23c-5e1294059188",
   "metadata": {},
   "source": [
    "<div style=\"background-color: lightblue; margin: 0; padding: 5px 10px; border-radius: 10px;\">\n",
    "  <h3 style=\"margin: 0; text-align: center;\">\n",
    "      Application of Metaprogramming\n",
    "  </h3>\n",
    "    <body style=\"text-align: left;\"> \n",
    "        This program uses metaclass to define the private attributes and the methods that can be used by other classes.\n",
    "        <br>\n",
    "        Following attributes and methods are defined:\n",
    "        </br>\n",
    "        <ul>\n",
    "            <li>__slots__ attribute</li>\n",
    "            <li>Read-only Properties</li>\n",
    "            <li>__eq__ method</li>\n",
    "            <li>__str__ method</li>\n",
    "            <li>__repr__ method</li>\n",
    "        </ul>\n",
    "    </body>\n",
    "</div>"
   ]
  },
  {
   "cell_type": "code",
   "execution_count": 52,
   "id": "0beb971d-9803-4883-a3d4-f02121b11c3c",
   "metadata": {},
   "outputs": [],
   "source": [
    "class SlottedStruct(type):\n",
    "    def __new__(mcls,name,bases,class_dict):\n",
    "        class_obj = super().__new__(mcls,name,bases,class_dict)\n",
    "\n",
    "        #define __slots__\n",
    "        setattr(class_obj,'__slots__',[f'_{field}' for field in class_obj._fields])\n",
    "\n",
    "        #define read-only properties of the class\n",
    "        for field in class_obj._fields:\n",
    "            slot = f'_{field}'\n",
    "            setattr(class_obj,field,\\\n",
    "        property(fget=lambda self, attrib=slot: getattr(self, attrib)))\n",
    "        \n",
    "        #define __eq__\n",
    "        def eq(self,other):\n",
    "            if isinstance(other,class_obj):\n",
    "                self_fields = [getattr(self,field) for field in class_obj._fields]\n",
    "                other_fields = [getattr(other, field) for field in class_obj._fields]\n",
    "                return self_fields == other_fields\n",
    "            return False\n",
    "        setattr(class_obj,'__eq__',eq)\n",
    "\n",
    "        #define __hash__ method\n",
    "        def hash_(self):\n",
    "            field_values = (getattr(self, field) for field in class_obj._fields)\n",
    "            return hash(tuple(field_values))\n",
    "        setattr(class_obj,'__hash__',hash_)\n",
    "\n",
    "        #define __str__ method\n",
    "        def str_(self):\n",
    "            field_values = (getattr(self,field) for field in class_obj._fields)\n",
    "            field_values_joined = ','.join(map(str,field_values))\n",
    "            return f'{class_obj.__name__}({field_values_joined})'\n",
    "        setattr(class_obj,'__str__',str_)\n",
    "\n",
    "        #define __repr__ method\n",
    "        def repr_(self):\n",
    "            field_values = (getattr(self,field) for field in class_obj._fields)\n",
    "            field_key_values = (f'{key}={value}' for key, value in\\\n",
    "            zip(class_obj._fields,field_values))\n",
    "            field_key_values_str = ','.join(field_key_values)\n",
    "            return field_key_values_str\n",
    "        setattr(class_obj,'__repr__',repr_)\n",
    "        \n",
    "        \n",
    "        return class_obj\n",
    "        \n",
    "    "
   ]
  },
  {
   "cell_type": "code",
   "execution_count": 53,
   "id": "732caaa7-8162-4f4a-8626-57b456e61e79",
   "metadata": {},
   "outputs": [],
   "source": [
    "class Person(metaclass=SlottedStruct):\n",
    "    _fields = ['x']\n",
    "    def __init__(self,name):\n",
    "        self.name = name"
   ]
  },
  {
   "cell_type": "code",
   "execution_count": 54,
   "id": "1791f6ed-9158-493e-bb9c-08d70b58ddf9",
   "metadata": {},
   "outputs": [
    {
     "data": {
      "text/plain": [
       "'Guido'"
      ]
     },
     "execution_count": 54,
     "metadata": {},
     "output_type": "execute_result"
    }
   ],
   "source": [
    "p = Person('Alex')\n",
    "p.name = 'Guido'\n",
    "p.name"
   ]
  },
  {
   "cell_type": "code",
   "execution_count": 55,
   "id": "7e27d4f9-3ea6-40cb-8eec-319714fc00fe",
   "metadata": {},
   "outputs": [],
   "source": [
    "class Point2D(metaclass=SlottedStruct):\n",
    "    _fields = ['x','y']\n",
    "    def __init__(self,x,y):\n",
    "        self._x = x\n",
    "        self._y = y"
   ]
  },
  {
   "cell_type": "code",
   "execution_count": 61,
   "id": "fdf63a85-2e04-4278-8df5-00ebc57ef92f",
   "metadata": {},
   "outputs": [
    {
     "ename": "AttributeError",
     "evalue": "property '<lambda>' of 'Point2D' object has no setter",
     "output_type": "error",
     "traceback": [
      "\u001b[31m---------------------------------------------------------------------------\u001b[39m",
      "\u001b[31mAttributeError\u001b[39m                            Traceback (most recent call last)",
      "\u001b[36mCell\u001b[39m\u001b[36m \u001b[39m\u001b[32mIn[61]\u001b[39m\u001b[32m, line 5\u001b[39m\n\u001b[32m      3\u001b[39m p3 = Point2D(\u001b[32m10\u001b[39m,\u001b[32m30\u001b[39m)\n\u001b[32m      4\u001b[39m p1 == p2, p1==p3\n\u001b[32m----> \u001b[39m\u001b[32m5\u001b[39m \u001b[43mp1\u001b[49m\u001b[43m.\u001b[49m\u001b[43mx\u001b[49m = \u001b[32m50\u001b[39m\n",
      "\u001b[31mAttributeError\u001b[39m: property '<lambda>' of 'Point2D' object has no setter"
     ]
    }
   ],
   "source": [
    "p1 = Point2D(10,20)\n",
    "p2 = Point2D(10,20)\n",
    "p3 = Point2D(10,30)\n",
    "p1 == p2, p1==p3\n",
    "p1.x = 50"
   ]
  },
  {
   "cell_type": "code",
   "execution_count": 58,
   "id": "4f50dfda-29ca-426a-aa56-9fa62f3ff617",
   "metadata": {},
   "outputs": [],
   "source": [
    "class Point3D(metaclass=SlottedStruct):\n",
    "    _fields = ['x','y','z']\n",
    "    def __init__(self,x,y,z):\n",
    "        self._x = x\n",
    "        self._y = y\n",
    "        self._z = z"
   ]
  },
  {
   "cell_type": "code",
   "execution_count": 62,
   "id": "381137ab-d882-4a6e-b73d-08a6f833d41e",
   "metadata": {},
   "outputs": [
    {
     "data": {
      "text/plain": [
       "(False, True, False)"
      ]
     },
     "execution_count": 62,
     "metadata": {},
     "output_type": "execute_result"
    }
   ],
   "source": [
    "p1 = Point3D(0,0,0)\n",
    "p2 = Point3D(10,20,30)\n",
    "p3 = Point3D(10,20,30)\n",
    "p1 == p2, p2==p3, p2 is p3"
   ]
  },
  {
   "cell_type": "code",
   "execution_count": null,
   "id": "0262c2a6-2a4c-4665-998d-a2c27d868298",
   "metadata": {},
   "outputs": [],
   "source": []
  }
 ],
 "metadata": {
  "kernelspec": {
   "display_name": "Python 3 (ipykernel)",
   "language": "python",
   "name": "python3"
  },
  "language_info": {
   "codemirror_mode": {
    "name": "ipython",
    "version": 3
   },
   "file_extension": ".py",
   "mimetype": "text/x-python",
   "name": "python",
   "nbconvert_exporter": "python",
   "pygments_lexer": "ipython3",
   "version": "3.13.2"
  }
 },
 "nbformat": 4,
 "nbformat_minor": 5
}
