{
 "cells": [
  {
   "cell_type": "markdown",
   "id": "2615f658-ee13-4d9c-afad-3138d2cb2168",
   "metadata": {},
   "source": [
    "Metaclasses"
   ]
  },
  {
   "cell_type": "code",
   "execution_count": 1,
   "id": "b1419193-d43d-467b-a391-4039eb989ede",
   "metadata": {},
   "outputs": [],
   "source": [
    "class Person:\n",
    "    def __init__(self, name):\n",
    "        self.name = name"
   ]
  },
  {
   "cell_type": "code",
   "execution_count": 2,
   "id": "99ea8d46-a7b3-49ac-9c37-b133a7aeb5bb",
   "metadata": {},
   "outputs": [],
   "source": [
    "class Student(Person):\n",
    "    def __init__(self, name, major):\n",
    "        super().__init__(name)\n",
    "        self._major = major\n",
    "\n",
    "    @property\n",
    "    def major(self):\n",
    "        return self._major"
   ]
  },
  {
   "cell_type": "code",
   "execution_count": 8,
   "id": "fcc97981-aad5-4377-a2d0-72f921976a56",
   "metadata": {},
   "outputs": [
    {
     "data": {
      "text/plain": [
       "{'name': 'Alex', '_major': 'Science', 'age': 26}"
      ]
     },
     "execution_count": 8,
     "metadata": {},
     "output_type": "execute_result"
    }
   ],
   "source": [
    "s = Student('Alex','Science')\n",
    "s.age = 26\n",
    "s.major, s.name, s.age\n",
    "s.__dict__"
   ]
  },
  {
   "cell_type": "code",
   "execution_count": 12,
   "id": "57d32635-dac9-4205-b9e1-e4e98e8b4780",
   "metadata": {},
   "outputs": [],
   "source": [
    "import math\n",
    "\n",
    "class Circle(metaclass=type):\n",
    "    def __init__(self, x, y, r):\n",
    "        self.x = x\n",
    "        self.y = y\n",
    "        self.r = r\n",
    "\n",
    "    def circum(self):\n",
    "        return 2*math.pi*self.r\n",
    "\n",
    "    def area(self):\n",
    "        return math.pi*self.r**2\n",
    "        "
   ]
  },
  {
   "cell_type": "code",
   "execution_count": 13,
   "id": "603b851c-9d7a-4756-bf34-0a121c21c7b8",
   "metadata": {},
   "outputs": [
    {
     "data": {
      "text/plain": [
       "(25.132741228718345, 50.26548245743669)"
      ]
     },
     "execution_count": 13,
     "metadata": {},
     "output_type": "execute_result"
    }
   ],
   "source": [
    "c = Circle(2,3,4)\n",
    "c.circum(), c.area()"
   ]
  },
  {
   "cell_type": "code",
   "execution_count": 32,
   "id": "fefed747-e558-4618-900d-039210c8cfac",
   "metadata": {},
   "outputs": [],
   "source": [
    "class CustomType(type):\n",
    "    def __new__(mcls,name,bases,class_dict):\n",
    "        print(f'Using Metaclass {mcls.__name__} to create class {name}')\n",
    "        cls_obj = super().__new__(mcls,name,bases,class_dict)\n",
    "        cls_obj.circum = lambda self:2*math.pi*self.r\n",
    "        cls_obj.area = lambda self:math.pi*self.r**2\n",
    "        return cls_obj"
   ]
  },
  {
   "cell_type": "code",
   "execution_count": 33,
   "id": "f7ad8346-b878-495d-90f7-ee7d1dcb73c1",
   "metadata": {},
   "outputs": [
    {
     "name": "stdout",
     "output_type": "stream",
     "text": [
      "Using Metaclass CustomType to create class Circle\n"
     ]
    },
    {
     "data": {
      "text/plain": [
       "mappingproxy({'__module__': '__main__',\n",
       "              '__firstlineno__': 1,\n",
       "              '__init__': <function __main__.Circle.__init__(self, r)>,\n",
       "              '__static_attributes__': ('r',),\n",
       "              '__dict__': <attribute '__dict__' of 'Circle' objects>,\n",
       "              '__weakref__': <attribute '__weakref__' of 'Circle' objects>,\n",
       "              '__doc__': None,\n",
       "              'circum': <function __main__.CustomType.__new__.<locals>.<lambda>(self)>,\n",
       "              'area': <function __main__.CustomType.__new__.<locals>.<lambda>(self)>})"
      ]
     },
     "execution_count": 33,
     "metadata": {},
     "output_type": "execute_result"
    }
   ],
   "source": [
    "class Circle(metaclass=CustomType):\n",
    "    def __init__(self,r):\n",
    "        self.r = r\n",
    "\n",
    "Circle.__dict__"
   ]
  },
  {
   "cell_type": "code",
   "execution_count": 34,
   "id": "75cc5480-9086-4254-af9a-2b07a27295d2",
   "metadata": {},
   "outputs": [
    {
     "data": {
      "text/plain": [
       "(6.283185307179586, 3.141592653589793)"
      ]
     },
     "execution_count": 34,
     "metadata": {},
     "output_type": "execute_result"
    }
   ],
   "source": [
    "c = Circle(1)\n",
    "c.circum(), c.area()"
   ]
  },
  {
   "cell_type": "code",
   "execution_count": null,
   "id": "4d46ffb6-4295-4385-89b2-f39ec6c40358",
   "metadata": {},
   "outputs": [],
   "source": []
  }
 ],
 "metadata": {
  "kernelspec": {
   "display_name": "Python 3 (ipykernel)",
   "language": "python",
   "name": "python3"
  },
  "language_info": {
   "codemirror_mode": {
    "name": "ipython",
    "version": 3
   },
   "file_extension": ".py",
   "mimetype": "text/x-python",
   "name": "python",
   "nbconvert_exporter": "python",
   "pygments_lexer": "ipython3",
   "version": "3.13.2"
  }
 },
 "nbformat": 4,
 "nbformat_minor": 5
}
