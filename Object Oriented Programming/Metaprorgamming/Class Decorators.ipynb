{
 "cells": [
  {
   "cell_type": "markdown",
   "id": "887b075f-9f3c-42ee-987b-c218c3fb260e",
   "metadata": {},
   "source": [
    "Decorator Class"
   ]
  },
  {
   "cell_type": "code",
   "execution_count": 11,
   "id": "864979e6-7622-453c-8863-020720e9023b",
   "metadata": {},
   "outputs": [],
   "source": [
    "from types import MethodType\n",
    "class Logger:\n",
    "    def __init__(self, fn):\n",
    "        self.fn = fn\n",
    "\n",
    "    def __call__(self,*args,**kwargs):\n",
    "        print(f'Log: {self.fn.__name__} called')\n",
    "        return self.fn(*args,**kwargs)\n",
    "\n",
    "    def __get__(self,instance,owner_class):\n",
    "        if instance is None:\n",
    "            print('\\tAn unbound function called')\n",
    "            return self\n",
    "        print('\\treturning a method bound to an instance')\n",
    "        return MethodType(self,instance)\n",
    "        "
   ]
  },
  {
   "cell_type": "code",
   "execution_count": 12,
   "id": "d4458104-f902-47eb-a040-f27d0d48a050",
   "metadata": {},
   "outputs": [],
   "source": [
    "@Logger\n",
    "def say_hello():\n",
    "    pass"
   ]
  },
  {
   "cell_type": "code",
   "execution_count": 16,
   "id": "fa6ad696-b6b3-45fb-b2a3-55a59f8631a8",
   "metadata": {},
   "outputs": [],
   "source": [
    "class Person:\n",
    "    def __init__(self,name):\n",
    "        self.name = name\n",
    "\n",
    "    @Logger\n",
    "    def say_hello(self):\n",
    "        print(f'{self.name} says hello')\n",
    "\n",
    "    @classmethod\n",
    "    @Logger\n",
    "    def class_method(cls):\n",
    "        print('class method called')\n",
    "\n",
    "    @staticmethod\n",
    "    @Logger\n",
    "    def static_method():\n",
    "        print('static method called')"
   ]
  },
  {
   "cell_type": "code",
   "execution_count": 20,
   "id": "6453b645-f52b-4f24-99e9-5e044646a226",
   "metadata": {},
   "outputs": [
    {
     "name": "stdout",
     "output_type": "stream",
     "text": [
      "\treturning a method bound to an instance\n",
      "Log: say_hello called\n",
      "Alex says hello\n",
      "Log: class_method called\n",
      "class method called\n",
      "Log: static_method called\n",
      "static method called\n"
     ]
    }
   ],
   "source": [
    "p=Person('Alex')\n",
    "p.say_hello()\n",
    "\n",
    "p.class_method()\n",
    "p.static_method()"
   ]
  },
  {
   "cell_type": "code",
   "execution_count": null,
   "id": "c936bb79-a2b9-4889-b47b-a182dc0f360c",
   "metadata": {},
   "outputs": [],
   "source": []
  }
 ],
 "metadata": {
  "kernelspec": {
   "display_name": "Python 3 (ipykernel)",
   "language": "python",
   "name": "python3"
  },
  "language_info": {
   "codemirror_mode": {
    "name": "ipython",
    "version": 3
   },
   "file_extension": ".py",
   "mimetype": "text/x-python",
   "name": "python",
   "nbconvert_exporter": "python",
   "pygments_lexer": "ipython3",
   "version": "3.13.2"
  }
 },
 "nbformat": 4,
 "nbformat_minor": 5
}
