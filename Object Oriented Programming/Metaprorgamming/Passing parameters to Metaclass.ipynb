{
 "cells": [
  {
   "cell_type": "markdown",
   "id": "3d278789-8d2d-4eed-85b6-7397b16027d3",
   "metadata": {},
   "source": [
    "Passing parameters to Metaclass"
   ]
  },
  {
   "cell_type": "code",
   "execution_count": 7,
   "id": "c81a7043-5ede-4828-bc9a-750d504adacf",
   "metadata": {},
   "outputs": [],
   "source": [
    "class AccountType(type):\n",
    "    def __new__(mcls,name,bases,class_dict,**kwargs):\n",
    "        print(f'Metaclass:{mcls}, name:{name}, bases:{bases},\\\n",
    "        class_dict:{class_dict}, kwargs:{kwargs}')\n",
    "        my_class = super().__new__(mcls,name,bases,class_dict)\n",
    "        if kwargs:\n",
    "            for name, value in kwargs.items():\n",
    "                setattr(my_class,name,value)\n",
    "        return my_class\n",
    "        "
   ]
  },
  {
   "cell_type": "code",
   "execution_count": 8,
   "id": "6faf3a97-bab5-4eb5-8396-e701b680e772",
   "metadata": {},
   "outputs": [
    {
     "name": "stdout",
     "output_type": "stream",
     "text": [
      "Metaclass:<class '__main__.AccountType'>, name:Account, bases:(),        class_dict:{'__module__': '__main__', '__qualname__': 'Account', '__firstlineno__': 1, '__static_attributes__': ()}, kwargs:{'type_': 'Savings', 'apr': 0.5}\n"
     ]
    }
   ],
   "source": [
    "class Account(metaclass=AccountType,type_='Savings',apr=0.5):\n",
    "    pass"
   ]
  },
  {
   "cell_type": "code",
   "execution_count": 9,
   "id": "0f162d35-4db8-4c6b-b69a-7cbbd3155a14",
   "metadata": {},
   "outputs": [
    {
     "data": {
      "text/plain": [
       "mappingproxy({'__module__': '__main__',\n",
       "              '__firstlineno__': 1,\n",
       "              '__static_attributes__': (),\n",
       "              '__dict__': <attribute '__dict__' of 'Account' objects>,\n",
       "              '__weakref__': <attribute '__weakref__' of 'Account' objects>,\n",
       "              '__doc__': None,\n",
       "              'type_': 'Savings',\n",
       "              'apr': 0.5})"
      ]
     },
     "execution_count": 9,
     "metadata": {},
     "output_type": "execute_result"
    }
   ],
   "source": [
    "vars(Account)"
   ]
  },
  {
   "cell_type": "code",
   "execution_count": 21,
   "id": "3121ed04-5e07-415a-8277-1c87df0ee7c3",
   "metadata": {},
   "outputs": [],
   "source": [
    "class AccountType(type):\n",
    "    def __new__(mcls,name,bases,class_dict,**kwargs):\n",
    "        print(f'Metaclass:{mcls}, name:{name}, bases:{bases},\\\n",
    "        class_dict:{class_dict}, kwargs:{kwargs}')\n",
    "        class_dict.update(kwargs)\n",
    "        my_class = super().__new__(mcls,name,bases,class_dict)\n",
    "        return my_class\n",
    "        "
   ]
  },
  {
   "cell_type": "code",
   "execution_count": 22,
   "id": "6ce825ba-3339-4cae-bc6b-7bcee8beb257",
   "metadata": {},
   "outputs": [
    {
     "name": "stdout",
     "output_type": "stream",
     "text": [
      "Metaclass:<class '__main__.AccountType'>, name:Account, bases:(),        class_dict:{'__module__': '__main__', '__qualname__': 'Account', '__firstlineno__': 1, '__static_attributes__': ()}, kwargs:{'type_': 'Savings', 'apr': 0.5}\n"
     ]
    }
   ],
   "source": [
    "class Account(metaclass=AccountType,type_='Savings',apr=0.5):\n",
    "    pass"
   ]
  },
  {
   "cell_type": "code",
   "execution_count": 17,
   "id": "1510d531-4fb1-4a5f-9dd5-730c4a43d3a9",
   "metadata": {},
   "outputs": [
    {
     "data": {
      "text/plain": [
       "mappingproxy({'__module__': '__main__',\n",
       "              '__firstlineno__': 1,\n",
       "              '__static_attributes__': (),\n",
       "              'type_': 'Savings',\n",
       "              'apr': 0.5,\n",
       "              '__dict__': <attribute '__dict__' of 'Account' objects>,\n",
       "              '__weakref__': <attribute '__weakref__' of 'Account' objects>,\n",
       "              '__doc__': None})"
      ]
     },
     "execution_count": 17,
     "metadata": {},
     "output_type": "execute_result"
    }
   ],
   "source": [
    "vars(Account)"
   ]
  },
  {
   "cell_type": "code",
   "execution_count": 23,
   "id": "76d1aae6-7048-4aba-968c-8b140afc95ad",
   "metadata": {},
   "outputs": [],
   "source": [
    "class AccountType(type):\n",
    "    def __new__(mcls,name,bases,class_dict,**kwargs):\n",
    "        print(f'Metaclass:{mcls}, name:{name}, bases:{bases},\\\n",
    "        class_dict:{class_dict}, kwargs:{kwargs}')\n",
    "        my_class = super().__new__(mcls,name,bases,class_dict)\n",
    "        [setattr(my_class, key, value) for key, value in kwargs.items()]\n",
    "        return my_class\n",
    "        "
   ]
  },
  {
   "cell_type": "code",
   "execution_count": 24,
   "id": "3ee3668b-77cd-485e-aea8-38f59a2ea6f1",
   "metadata": {},
   "outputs": [
    {
     "name": "stdout",
     "output_type": "stream",
     "text": [
      "Metaclass:<class '__main__.AccountType'>, name:Account, bases:(),        class_dict:{'__module__': '__main__', '__qualname__': 'Account', '__firstlineno__': 1, '__static_attributes__': ()}, kwargs:{'type_': 'Savings', 'apr': 0.5}\n"
     ]
    }
   ],
   "source": [
    "class Account(metaclass=AccountType,type_='Savings',apr=0.5):\n",
    "    pass"
   ]
  },
  {
   "cell_type": "code",
   "execution_count": 25,
   "id": "10ce26ed-d95b-4f2f-8ddd-640adab84ac0",
   "metadata": {},
   "outputs": [
    {
     "data": {
      "text/plain": [
       "mappingproxy({'__module__': '__main__',\n",
       "              '__firstlineno__': 1,\n",
       "              '__static_attributes__': (),\n",
       "              '__dict__': <attribute '__dict__' of 'Account' objects>,\n",
       "              '__weakref__': <attribute '__weakref__' of 'Account' objects>,\n",
       "              '__doc__': None,\n",
       "              'type_': 'Savings',\n",
       "              'apr': 0.5})"
      ]
     },
     "execution_count": 25,
     "metadata": {},
     "output_type": "execute_result"
    }
   ],
   "source": [
    "vars(Account)"
   ]
  },
  {
   "cell_type": "code",
   "execution_count": null,
   "id": "aa84e849-d5fe-4ce1-be44-f13e311573d5",
   "metadata": {},
   "outputs": [],
   "source": []
  }
 ],
 "metadata": {
  "kernelspec": {
   "display_name": "Python 3 (ipykernel)",
   "language": "python",
   "name": "python3"
  },
  "language_info": {
   "codemirror_mode": {
    "name": "ipython",
    "version": 3
   },
   "file_extension": ".py",
   "mimetype": "text/x-python",
   "name": "python",
   "nbconvert_exporter": "python",
   "pygments_lexer": "ipython3",
   "version": "3.13.3"
  }
 },
 "nbformat": 4,
 "nbformat_minor": 5
}
