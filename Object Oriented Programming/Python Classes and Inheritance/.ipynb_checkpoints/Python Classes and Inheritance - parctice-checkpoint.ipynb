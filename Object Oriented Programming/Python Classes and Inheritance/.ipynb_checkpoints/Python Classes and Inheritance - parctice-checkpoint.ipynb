{
 "cells": [
  {
   "cell_type": "code",
   "execution_count": 1,
   "id": "7e17b4ee-272e-488b-abb8-a4f09d235eb9",
   "metadata": {},
   "outputs": [
    {
     "name": "stdout",
     "output_type": "stream",
     "text": [
      "x=7 y=6\n",
      "7 6\n",
      "<bound method Point.distanceFromOrigin of <__main__.Point object at 0x110778ad0>>\n"
     ]
    }
   ],
   "source": [
    "import math\n",
    "\n",
    "class Point:\n",
    "    def __init__(self, x, y):\n",
    "        self.x = x\n",
    "        self.y = y\n",
    "\n",
    "    def getx(self):\n",
    "        return self.x\n",
    "\n",
    "    def gety(self):\n",
    "        return self.y\n",
    "\n",
    "    def __str__(self):\n",
    "        return 'x={} y={}'.format(self.x, self.y)\n",
    "\n",
    "    def distanceFromOrigin(self):\n",
    "        return sqrt(self.x ** 2 + self.y**2)\n",
    "\n",
    "    def __int__(self):\n",
    "        return self.distanceFromOrigin\n",
    "\n",
    "        \n",
    "\n",
    "\n",
    "p1 = Point(7,6)\n",
    "print(p1)\n",
    "print(p1.x, p1.y)\n",
    "print(p1.distanceFromOrigin)"
   ]
  },
  {
   "cell_type": "code",
   "execution_count": null,
   "id": "a88bae9c-928a-4728-9121-efc2e7ce210e",
   "metadata": {},
   "outputs": [],
   "source": []
  }
 ],
 "metadata": {
  "kernelspec": {
   "display_name": "Python 3 (ipykernel)",
   "language": "python",
   "name": "python3"
  },
  "language_info": {
   "codemirror_mode": {
    "name": "ipython",
    "version": 3
   },
   "file_extension": ".py",
   "mimetype": "text/x-python",
   "name": "python",
   "nbconvert_exporter": "python",
   "pygments_lexer": "ipython3",
   "version": "3.13.3"
  }
 },
 "nbformat": 4,
 "nbformat_minor": 5
}
