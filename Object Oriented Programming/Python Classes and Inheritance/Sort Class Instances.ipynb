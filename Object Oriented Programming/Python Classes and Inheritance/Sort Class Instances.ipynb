{
 "cells": [
  {
   "cell_type": "code",
   "execution_count": 9,
   "id": "b051ae12-8e9d-459e-a0ed-b35f8fd5d830",
   "metadata": {},
   "outputs": [
    {
     "name": "stdout",
     "output_type": "stream",
     "text": [
      "Apple\n",
      "Cherry\n",
      "Blueberry\n"
     ]
    }
   ],
   "source": [
    "class Fruit():\n",
    "    def __init__(self, name, price):\n",
    "        self.name = name\n",
    "        self.price = price\n",
    "\n",
    "L = [Fruit(\"Cherry\", 10), Fruit(\"Apple\", 5), Fruit(\"Blueberry\", 20)]\n",
    "\n",
    "L_sorted = sorted(L, key=lambda x: x.price)\n",
    "\n",
    "\n",
    "for fruit in L_sorted:\n",
    "    print(fruit.name)\n"
   ]
  },
  {
   "cell_type": "code",
   "execution_count": 14,
   "id": "20e006ae-c960-4285-9884-e6b5f39aa28c",
   "metadata": {},
   "outputs": [
    {
     "name": "stdout",
     "output_type": "stream",
     "text": [
      "Apple\n",
      "Blueberry\n",
      "Cherry\n"
     ]
    }
   ],
   "source": [
    "class Fruit:\n",
    "    def __init__(self, name, price):\n",
    "        self.name = name\n",
    "        self.price = price\n",
    "\n",
    "    def sortby(self):\n",
    "        return self.name\n",
    "\n",
    "L = [Fruit(\"Cherry\", 10), Fruit(\"Apple\", 5), Fruit(\"Blueberry\", 20)]\n",
    "\n",
    "for fruit in sorted(L,key = Fruit.sortby):\n",
    "    print(fruit.name)\n",
    "    "
   ]
  },
  {
   "cell_type": "code",
   "execution_count": 17,
   "id": "0a9f6656-b751-4c61-a047-7357649e3e08",
   "metadata": {},
   "outputs": [
    {
     "name": "stdout",
     "output_type": "stream",
     "text": [
      "Apple\n",
      "Cherry\n",
      "Blueberry\n"
     ]
    }
   ],
   "source": [
    "class Fruit:\n",
    "    def __init__(self, name, price):\n",
    "        self.name = name\n",
    "        self.price = price\n",
    "\n",
    "    def __lt__(self, otherfruits):\n",
    "        return self.price < otherfruits.price\n",
    "\n",
    "L = [Fruit(\"Cherry\", 10), Fruit(\"Apple\", 5), Fruit(\"Blueberry\", 20)]\n",
    "\n",
    "for fruit in sorted(L):\n",
    "    print(fruit.name)"
   ]
  },
  {
   "cell_type": "code",
   "execution_count": null,
   "id": "537f1854-0ce0-456b-982b-9fbc780ac928",
   "metadata": {},
   "outputs": [],
   "source": []
  }
 ],
 "metadata": {
  "kernelspec": {
   "display_name": "Python 3 (ipykernel)",
   "language": "python",
   "name": "python3"
  },
  "language_info": {
   "codemirror_mode": {
    "name": "ipython",
    "version": 3
   },
   "file_extension": ".py",
   "mimetype": "text/x-python",
   "name": "python",
   "nbconvert_exporter": "python",
   "pygments_lexer": "ipython3",
   "version": "3.13.2"
  }
 },
 "nbformat": 4,
 "nbformat_minor": 5
}
