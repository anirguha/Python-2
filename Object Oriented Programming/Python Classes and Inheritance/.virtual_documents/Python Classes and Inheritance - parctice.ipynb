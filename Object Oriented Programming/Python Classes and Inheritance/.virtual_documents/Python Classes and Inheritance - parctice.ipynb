import math

class Point:
    def __init__(self, x, y):
        self.x = x
        self.y = y

    # def getx(self):
    #     return self.x

    # def gety(self):
    #     return self.y

    def distanceFromOrigin(self):
        return sqrt(self.x ** 2 + self.y**2)

    def __str__(self):
        return 'x={} y={}'.format(self.x, self.y)

    def __int__(self):
        return self.distanceFromOrigin

    

   

        


p1 = Point(7,6)
print(p1)
print(p1.x, p1.y)
print(p1.distanceFromOrigin)






