{
 "cells": [
  {
   "cell_type": "code",
   "execution_count": 1,
   "id": "820f438a-1a31-45c9-b9b9-c61fe08543ad",
   "metadata": {},
   "outputs": [],
   "source": [
    "# This code is for the game Tamagotchi\n",
    "from random import randrange\n",
    "\n",
    "class Pet():\n",
    "    boredom_decrement = 4\n",
    "    hunger_decrement = 6\n",
    "    boredom_threshold = 5\n",
    "    hunger_threshold = 10\n",
    "    sounds = ['Woof']\n",
    "    def __init__(self, name = \"Kitty\"):\n",
    "        self.name = name\n",
    "        self.hunger = randrange(self.hunger_threshold)\n",
    "        self.boredom = randrange(self.boredom_threshold)\n",
    "        self.sounds = self.sounds[:]\n",
    "\n",
    "    def clock_tick(self):\n",
    "        self.boredom += 1\n",
    "        self.hunger += 1\n",
    "\n",
    "    def mood(self):\n",
    "        if self.hunger <= self.hunger_threshold and \\\n",
    "           self.boredom <= self.boredom_threshold:\n",
    "            return \"happy\"\n",
    "        elif self.hunger > self.hunger_threshold:\n",
    "            return \"hungry\"\n",
    "        else:\n",
    "            return \"bored\"\n",
    "\n",
    "    def __str__(self):\n",
    "        state = \"\\tI'm {} the {}. I feel {}.\".format(self.name, type(self).__name__, self.mood())\n",
    "        return state\n",
    "\n",
    "    def hi(self):\n",
    "        random_sound = self.sounds[randrange(len(self.sounds))]\n",
    "        print('\\t\\t{} says {}'.format(self.name, \n",
    "                                      random_sound))\n",
    "        self.reduce_boredom()\n",
    "\n",
    "    def teach(self, word):\n",
    "        self.sounds.append(word)\n",
    "        self.reduce_boredom()\n",
    "\n",
    "    def feed(self):\n",
    "        self.reduce_hunger()\n",
    "\n",
    "    def reduce_hunger(self):\n",
    "        self.hunger = max(0, self.hunger - self.hunger_decrement)\n",
    "\n",
    "    def reduce_boredom(self):\n",
    "        self.boredom = max(0, self.boredom - self.boredom_decrement)"
   ]
  },
  {
   "cell_type": "code",
   "execution_count": 2,
   "id": "a11a507a-d77b-4507-a925-f3dea736395b",
   "metadata": {},
   "outputs": [],
   "source": [
    "class Cat(Pet):\n",
    "    sounds = ['Meow']\n",
    "    def mood(self):\n",
    "        if self.hunger > self.hunger_threshold:\n",
    "            return \"hungry\"\n",
    "        if self.boredom < 2:\n",
    "            return \"grumpy; leave me alone\"\n",
    "        elif self.boredom > self.boredom_threshold:\n",
    "            return \"bored\"\n",
    "        elif randrange(2) == 0:\n",
    "            return \"randomly annoyed\"\n",
    "        else:\n",
    "            return \"happy\""
   ]
  },
  {
   "cell_type": "code",
   "execution_count": 4,
   "id": "db72e2f1-d031-4738-a1b0-708c038225ae",
   "metadata": {},
   "outputs": [],
   "source": [
    "class Bird(Pet):\n",
    "    sounds = [\"chirp\"]\n",
    "    def __init__(self, name=\"Kitty\", chirp_number=2):\n",
    "        super().__init__(name)\n",
    "        self.chirp_number = chirp_number\n",
    "\n",
    "    def hi(self):\n",
    "        for i in range(self.chirp_number):\n",
    "            print(self.sounds[randrange(len(self.sounds))])\n",
    "        self.reduce_boredom()"
   ]
  },
  {
   "cell_type": "code",
   "execution_count": 5,
   "id": "97b58663-b8de-4fad-b35f-984b9b1ab82e",
   "metadata": {},
   "outputs": [
    {
     "name": "stdout",
     "output_type": "stream",
     "text": [
      "2\n"
     ]
    }
   ],
   "source": [
    "t = Bird(\"tweety\")\n",
    "print(t.chirp_number)"
   ]
  },
  {
   "cell_type": "code",
   "execution_count": 6,
   "id": "bb9c73ac-bb2e-4067-ab13-21f6bf2269de",
   "metadata": {},
   "outputs": [
    {
     "name": "stdout",
     "output_type": "stream",
     "text": [
      "5\n"
     ]
    }
   ],
   "source": [
    "print(t.hunger)"
   ]
  },
  {
   "cell_type": "code",
   "execution_count": 7,
   "id": "89566db8-4aea-4ac3-b64b-f86f160686fb",
   "metadata": {},
   "outputs": [
    {
     "name": "stdout",
     "output_type": "stream",
     "text": [
      "chirp\n",
      "chirp\n"
     ]
    }
   ],
   "source": [
    "t.hi()"
   ]
  },
  {
   "cell_type": "code",
   "execution_count": 8,
   "id": "863bccc4-193b-4e25-9393-9800edcbaa3a",
   "metadata": {},
   "outputs": [
    {
     "name": "stdout",
     "output_type": "stream",
     "text": [
      "chirp\n",
      "cracker\n"
     ]
    }
   ],
   "source": [
    "t.teach(\"cracker\")\n",
    "t.hi()"
   ]
  },
  {
   "cell_type": "code",
   "execution_count": 9,
   "id": "eee34d23-e339-43ff-b078-30c0a44c4108",
   "metadata": {},
   "outputs": [],
   "source": [
    "class Dog(Pet):\n",
    "    sounds = ['Woof', 'Ruff']\n",
    "    def mood(self):\n",
    "        if (self.hunger > self.hunger_threshold) and \\\n",
    "           (self.boredom > self.boredom_threshold):\n",
    "            return \"bored and hungry\"\n",
    "        elif self.hunger > self.hunger_threshold:\n",
    "            return \"hungry\"\n",
    "        elif self.boredom > self.boredom_threshold:\n",
    "            return \"bored\" \n",
    "        else:\n",
    "            return \"happy\"\n",
    "    def feed(self):\n",
    "        Pet.feed(self)\n",
    "        print(\"Arf! Thanks!\")"
   ]
  },
  {
   "cell_type": "code",
   "execution_count": 10,
   "id": "a5a93c18-33b8-4d4b-88ee-23a0e5bd60fd",
   "metadata": {},
   "outputs": [],
   "source": [
    "class Lab(Dog):\n",
    "    def fetch(self):\n",
    "        return \"I found the tennis ball!\"\n",
    "\n",
    "    def hi(self):\n",
    "        print(self.fetch())\n",
    "        print(self.sounds[randrange(len(self.sounds))])"
   ]
  },
  {
   "cell_type": "code",
   "execution_count": 11,
   "id": "2789e3b7-9a1e-4fde-af36-a0451c278b79",
   "metadata": {},
   "outputs": [],
   "source": [
    "class Poodle(Dog):\n",
    "    def dance(self):\n",
    "        return \"Dancin' in circles like poodles do.\"\n",
    "\n",
    "    def hi(self):\n",
    "        print(self.dance())\n",
    "        super().hi()"
   ]
  },
  {
   "cell_type": "code",
   "execution_count": 12,
   "id": "f8c5ff85-af3a-47b5-b418-e626da6c148d",
   "metadata": {},
   "outputs": [
    {
     "data": {
      "text/plain": [
       "['Woof', 'Ruff']"
      ]
     },
     "execution_count": 12,
     "metadata": {},
     "output_type": "execute_result"
    }
   ],
   "source": [
    "d = Lab(\"Friendly\")\n",
    "d.sounds"
   ]
  },
  {
   "cell_type": "code",
   "execution_count": 13,
   "id": "ed7560a2-b0d1-4b9e-8bc8-3a3333c71e21",
   "metadata": {},
   "outputs": [
    {
     "name": "stdout",
     "output_type": "stream",
     "text": [
      "I found the tennis ball!\n",
      "Woof\n",
      "I found the tennis ball!\n",
      "Ruff\n",
      "I found the tennis ball!\n",
      "Ruff\n",
      "I found the tennis ball!\n",
      "Woof\n",
      "I found the tennis ball!\n",
      "Ruff\n",
      "Dancin' in circles like poodles do.\n",
      "\t\tAstro says Woof\n",
      "Dancin' in circles like poodles do.\n",
      "\t\tAstro says Woof\n",
      "Dancin' in circles like poodles do.\n",
      "\t\tAstro says Woof\n",
      "Dancin' in circles like poodles do.\n",
      "\t\tAstro says Ruff\n",
      "Dancin' in circles like poodles do.\n",
      "\t\tAstro says Woof\n",
      "\tI'm Friendly the Lab. I feel bored and hungry.\n",
      "\tI'm Astro the Poodle. I feel hungry.\n"
     ]
    }
   ],
   "source": [
    "d = Lab(\"Friendly\")\n",
    "p = Poodle(\"Astro\")\n",
    "for x in [d, p]:\n",
    "    for _ in range(20):\n",
    "        x.clock_tick()\n",
    "    for _ in range(5):\n",
    "        x.hi()\n",
    "print(d)\n",
    "print(p)"
   ]
  },
  {
   "cell_type": "code",
   "execution_count": 14,
   "id": "474ec075-9c8b-48fc-8bde-de53cf3415cf",
   "metadata": {},
   "outputs": [],
   "source": [
    "pet_types = {'dog': Dog, 'lab': Lab, 'poodle': Poodle, 'cat': Cat, 'bird': Bird}\n",
    "def play():\n",
    "    animals = {}\n",
    "    option = \"\"\n",
    "    base_prompt = \\\n",
    "        \"\"\"Quit\n",
    "        Adopt <petname_with_no_spaces> <pet_type - choose dog, cat, lab, poodle, bird, or another unknown pet type>\n",
    "        Greet <petname>\n",
    "        Teach <petname> <word>\n",
    "        Feed <petname>\n",
    "\n",
    "        Choice: \"\"\"\n",
    "    feedback = \"\"\n",
    "    while True:\n",
    "        print(feedback)\n",
    "        feedback = \"\"\n",
    "        action = input(base_prompt)\n",
    "        words = action.split()\n",
    "        if len(words) > 0:\n",
    "            command = words[0]\n",
    "        else:\n",
    "            command = None\n",
    "        if command == \"Quit\":\n",
    "            print(\"Exiting...\")\n",
    "            return\n",
    "        elif command == \"Adopt\" and len(words) > 1:\n",
    "            name = words[1]\n",
    "            if name in animals:\n",
    "                feedback += \"You already have a pet with that name\\n\"\n",
    "            else:\n",
    "                pet_type_name = words[2].lower().strip()\n",
    "                if pet_type_name in pet_types:\n",
    "                    pet_class = pet_types[pet_type_name]\n",
    "                else:\n",
    "                    pet_class = Pet\n",
    "                animals[name] = pet_class(name)\n",
    "        elif command == \"Greet\" and len(words) > 1:\n",
    "            name = words[1]\n",
    "            if name in animals:\n",
    "                animals[name].hi()\n",
    "            else:\n",
    "                feedback += \"I didn't recognize that pet name. Please try again.\\n\"\n",
    "        elif command == \"Teach\" and len(words) > 2:\n",
    "            name = words[1]\n",
    "            word = words[2]\n",
    "            if name not in animals:\n",
    "                feedback += \"I didn't recognize that pet name. Please try again.\"\n",
    "            else:\n",
    "                pet = animals[name]\n",
    "                pet.teach(word)\n",
    "        elif command == \"Feed\" and len(words) > 1:\n",
    "            name = words[1]\n",
    "            if name in animals:\n",
    "                animals[name].feed()\n",
    "            else:\n",
    "                feedback += \"I didn't recognize that pet name. Please try again.\"\n",
    "        else:\n",
    "            feedback+= \"I didn't understand that. Please try again.\"\n",
    "\n",
    "        for pet in animals.values():\n",
    "            pet.clock_tick()\n",
    "            feedback += \"\\n\" + pet.__str__()"
   ]
  },
  {
   "cell_type": "code",
   "execution_count": 15,
   "id": "01ee0d0e-ec12-472e-9126-51d32f3985e9",
   "metadata": {},
   "outputs": [
    {
     "name": "stdout",
     "output_type": "stream",
     "text": [
      "\n"
     ]
    },
    {
     "name": "stdin",
     "output_type": "stream",
     "text": [
      "Quit\n",
      "        Adopt <petname_with_no_spaces> <pet_type - choose dog, cat, lab, poodle, bird, or another unknown pet type>\n",
      "        Greet <petname>\n",
      "        Teach <petname> <word>\n",
      "        Feed <petname>\n",
      "\n",
      "        Choice:  Quit\n"
     ]
    },
    {
     "name": "stdout",
     "output_type": "stream",
     "text": [
      "Exiting...\n"
     ]
    }
   ],
   "source": [
    "play()"
   ]
  },
  {
   "cell_type": "code",
   "execution_count": null,
   "id": "9e884c35-492d-43f4-acaa-1f295edeb6e4",
   "metadata": {},
   "outputs": [],
   "source": []
  }
 ],
 "metadata": {
  "kernelspec": {
   "display_name": "Python 3 (ipykernel)",
   "language": "python",
   "name": "python3"
  },
  "language_info": {
   "codemirror_mode": {
    "name": "ipython",
    "version": 3
   },
   "file_extension": ".py",
   "mimetype": "text/x-python",
   "name": "python",
   "nbconvert_exporter": "python",
   "pygments_lexer": "ipython3",
   "version": "3.13.3"
  }
 },
 "nbformat": 4,
 "nbformat_minor": 5
}
