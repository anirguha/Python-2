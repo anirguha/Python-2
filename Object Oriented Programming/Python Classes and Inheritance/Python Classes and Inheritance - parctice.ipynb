{
 "cells": [
  {
   "cell_type": "code",
   "execution_count": 1,
   "id": "7e17b4ee-272e-488b-abb8-a4f09d235eb9",
   "metadata": {},
   "outputs": [
    {
     "name": "stdout",
     "output_type": "stream",
     "text": [
      "x=7 y=6\n",
      "7 6\n",
      "9.219544457292887\n"
     ]
    },
    {
     "ename": "ValueError",
     "evalue": "math domain error",
     "output_type": "error",
     "traceback": [
      "\u001b[31m---------------------------------------------------------------------------\u001b[39m",
      "\u001b[31mValueError\u001b[39m                                Traceback (most recent call last)",
      "\u001b[36mCell\u001b[39m\u001b[36m \u001b[39m\u001b[32mIn[1]\u001b[39m\u001b[32m, line 31\u001b[39m\n\u001b[32m     29\u001b[39m \u001b[38;5;28mprint\u001b[39m(p1.x, p1.y)\n\u001b[32m     30\u001b[39m \u001b[38;5;28mprint\u001b[39m(p1.distanceFromOrigin())\n\u001b[32m---> \u001b[39m\u001b[32m31\u001b[39m \u001b[38;5;28mprint\u001b[39m(\u001b[43mp1\u001b[49m\u001b[43m.\u001b[49m\u001b[43mdistancebetweenpoints\u001b[49m\u001b[43m(\u001b[49m\u001b[32;43m6\u001b[39;49m\u001b[43m,\u001b[49m\u001b[32;43m3\u001b[39;49m\u001b[43m)\u001b[49m)\n",
      "\u001b[36mCell\u001b[39m\u001b[36m \u001b[39m\u001b[32mIn[1]\u001b[39m\u001b[32m, line 20\u001b[39m, in \u001b[36mPoint.distancebetweenpoints\u001b[39m\u001b[34m(self, x, y)\u001b[39m\n\u001b[32m     18\u001b[39m dist_x = x - \u001b[38;5;28mself\u001b[39m.x\n\u001b[32m     19\u001b[39m dist_y = y - \u001b[38;5;28mself\u001b[39m.y\n\u001b[32m---> \u001b[39m\u001b[32m20\u001b[39m dist = \u001b[43mmath\u001b[49m\u001b[43m.\u001b[49m\u001b[43msqrt\u001b[49m\u001b[43m(\u001b[49m\u001b[43mdist_x\u001b[49m\u001b[43m*\u001b[49m\u001b[43m*\u001b[49m\u001b[32;43m2\u001b[39;49m\u001b[43m \u001b[49m\u001b[43m+\u001b[49m\u001b[43m \u001b[49m\u001b[43mdist_y\u001b[49m\u001b[43m*\u001b[49m\u001b[32;43m82\u001b[39;49m\u001b[43m)\u001b[49m\n",
      "\u001b[31mValueError\u001b[39m: math domain error"
     ]
    }
   ],
   "source": [
    "import math\n",
    "\n",
    "class Point:\n",
    "    def __init__(self, x, y):\n",
    "        self.x = x\n",
    "        self.y = y\n",
    "\n",
    "    # def getx(self):\n",
    "    #     return self.x\n",
    "\n",
    "    # def gety(self):\n",
    "    #     return self.y\n",
    "\n",
    "    def distanceFromOrigin(self):\n",
    "        return math.sqrt(self.x ** 2 + self.y**2)\n",
    "\n",
    "    def distancebetweenpoints(self,x,y):\n",
    "        dist_x = x - self.x\n",
    "        dist_y = y - self.y\n",
    "        dist = math.sqrt(dist_x**2 + dist_y*82)\n",
    "\n",
    "    def __str__(self):\n",
    "        return 'x={} y={}'.format(self.x, self.y)\n",
    "\n",
    "    \n",
    "\n",
    "p1 = Point(7,6)\n",
    "print(p1)\n",
    "print(p1.x, p1.y)\n",
    "print(p1.distanceFromOrigin())\n",
    "print(p1.distancebetweenpoints(6,3))"
   ]
  },
  {
   "cell_type": "code",
   "execution_count": null,
   "id": "a88bae9c-928a-4728-9121-efc2e7ce210e",
   "metadata": {},
   "outputs": [],
   "source": []
  },
  {
   "cell_type": "code",
   "execution_count": null,
   "id": "376fa7e9-2010-42c3-9575-c092a2ad1e67",
   "metadata": {},
   "outputs": [],
   "source": []
  }
 ],
 "metadata": {
  "kernelspec": {
   "display_name": "Python 3 (ipykernel)",
   "language": "python",
   "name": "python3"
  },
  "language_info": {
   "codemirror_mode": {
    "name": "ipython",
    "version": 3
   },
   "file_extension": ".py",
   "mimetype": "text/x-python",
   "name": "python",
   "nbconvert_exporter": "python",
   "pygments_lexer": "ipython3",
   "version": "3.13.3"
  }
 },
 "nbformat": 4,
 "nbformat_minor": 5
}
