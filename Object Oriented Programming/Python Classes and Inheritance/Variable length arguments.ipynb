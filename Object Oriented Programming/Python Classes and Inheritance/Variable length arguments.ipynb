{
 "cells": [
  {
   "cell_type": "code",
   "execution_count": 4,
   "id": "a82091da-20fc-42ab-9ee2-3c415029c23b",
   "metadata": {},
   "outputs": [
    {
     "name": "stdout",
     "output_type": "stream",
     "text": [
      "(3, 1.625001459615305e-06)\n"
     ]
    }
   ],
   "source": [
    "import time\n",
    "import functools\n",
    "\n",
    "def performance(func):\n",
    "    @functools.wraps(func)\n",
    "    def wrapper(*args, **kwargs):\n",
    "        start_time = time.perf_counter()\n",
    "        result = func(*args, **kwargs)\n",
    "        end_time = time.perf_counter()\n",
    "        elapsed_time = end_time - start_time\n",
    "        return (result, elapsed_time)\n",
    "    return wrapper\n",
    "\n",
    "@performance\n",
    "def add(a,b):\n",
    "    return a + b\n",
    "\n",
    "# sum_func, elapsed_t = add(1,2)\n",
    "sum_func = add(1,2)\n",
    "\n",
    "print(sum_func)\n",
    "\n",
    "# print(f\"Result is {sum_func} and time elapsed is {elapsed_t}\")\n"
   ]
  },
  {
   "cell_type": "code",
   "execution_count": null,
   "id": "dcd1bf04-8366-411d-8947-2a58f462e301",
   "metadata": {},
   "outputs": [],
   "source": []
  }
 ],
 "metadata": {
  "kernelspec": {
   "display_name": "Python 3 (ipykernel)",
   "language": "python",
   "name": "python3"
  },
  "language_info": {
   "codemirror_mode": {
    "name": "ipython",
    "version": 3
   },
   "file_extension": ".py",
   "mimetype": "text/x-python",
   "name": "python",
   "nbconvert_exporter": "python",
   "pygments_lexer": "ipython3",
   "version": "3.12.2"
  }
 },
 "nbformat": 4,
 "nbformat_minor": 5
}
