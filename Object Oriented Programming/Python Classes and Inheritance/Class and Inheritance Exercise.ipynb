{
 "cells": [
  {
   "cell_type": "code",
   "execution_count": 1,
   "id": "b45030c4-92b6-4342-9617-5530ed4400a2",
   "metadata": {},
   "outputs": [
    {
     "name": "stdout",
     "output_type": "stream",
     "text": [
      "Name: John\n",
      "Name: Doe\n",
      "ID: 101\n",
      "Name: Jane\n",
      "ID: 102\n",
      "Department: HR\n"
     ]
    }
   ],
   "source": [
    "class Employee:\n",
    "    def __init__(self, name, id=None, department=None):\n",
    "        self.name = name\n",
    "        self.id = id\n",
    "        self.department = department\n",
    "\n",
    "    def display_details(self):\n",
    "        print(f\"Name: {self.name}\")\n",
    "        if self.id:\n",
    "            print(f\"ID: {self.id}\")\n",
    "        if self.department:\n",
    "            print(f\"Department: {self.department}\")\n",
    "\n",
    "# Examples\n",
    "emp1 = Employee(\"John\")\n",
    "emp1.display_details()\n",
    "\n",
    "emp2 = Employee(\"Doe\", 101)\n",
    "emp2.display_details()\n",
    "\n",
    "emp3 = Employee(\"Jane\", 102, \"HR\")\n",
    "emp3.display_details()\n"
   ]
  },
  {
   "cell_type": "code",
   "execution_count": null,
   "id": "f9157f42-5469-4e48-ba74-b59b34a04e93",
   "metadata": {},
   "outputs": [],
   "source": []
  }
 ],
 "metadata": {
  "kernelspec": {
   "display_name": "Python 3 (ipykernel)",
   "language": "python",
   "name": "python3"
  },
  "language_info": {
   "codemirror_mode": {
    "name": "ipython",
    "version": 3
   },
   "file_extension": ".py",
   "mimetype": "text/x-python",
   "name": "python",
   "nbconvert_exporter": "python",
   "pygments_lexer": "ipython3",
   "version": "3.13.3"
  }
 },
 "nbformat": 4,
 "nbformat_minor": 5
}
