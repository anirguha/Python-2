{
 "cells": [
  {
   "cell_type": "code",
   "execution_count": 1,
   "id": "c2d0e3e9-37c8-4fdd-b688-b42c8c8f141a",
   "metadata": {},
   "outputs": [],
   "source": [
    "#Validate types of objects"
   ]
  },
  {
   "cell_type": "code",
   "execution_count": 29,
   "id": "76d1db3c-e11b-4c34-ac9b-33c5749b7231",
   "metadata": {},
   "outputs": [],
   "source": [
    "####Declare descriptor#####\n",
    "class Validate_types:\n",
    "    def __init__(self, type_):\n",
    "        self._type = type_\n",
    "\n",
    "    def __set_name__(self,owner_class, property_name):\n",
    "        self.property_name = property_name\n",
    "\n",
    "    def __set__(self, instance, value):\n",
    "        if not isinstance(value,self._type):\n",
    "            raise TypeError(f'{self.property_name} must \\\n",
    "be of type {self._type.__name__}')\n",
    "        instance.__dict__[self.property_name] = value\n",
    "\n",
    "    def __get__(self, instance, owner_class):\n",
    "        if instance is None:\n",
    "            return self\n",
    "        return instance.__dict__get(self.property_name, None)      "
   ]
  },
  {
   "cell_type": "code",
   "execution_count": 30,
   "id": "996b8fb5-b04f-4565-8ded-d86dcc3c80b4",
   "metadata": {},
   "outputs": [],
   "source": [
    "import numbers"
   ]
  },
  {
   "cell_type": "code",
   "execution_count": 31,
   "id": "3ffc0fe2-bc13-47c9-9e52-89c923f03d8c",
   "metadata": {},
   "outputs": [],
   "source": [
    "###Declare instances of the descriptor as class properties\n",
    "class Person:\n",
    "    age = Validate_types(int)\n",
    "    height = Validate_types(numbers.Real)\n",
    "    name = Validate_types(str)\n",
    "    hobbies = Validate_types(list)\n",
    "    food_habits = Validate_types(tuple)"
   ]
  },
  {
   "cell_type": "code",
   "execution_count": 32,
   "id": "ea901efa-bf12-45fb-8e93-c008437030c4",
   "metadata": {},
   "outputs": [],
   "source": [
    "#Define instance of class Person\n",
    "p = Person()\n",
    "p.age = 10"
   ]
  },
  {
   "cell_type": "code",
   "execution_count": 39,
   "id": "f8dbb75d-ae71-41ce-a72e-b1f815c31073",
   "metadata": {},
   "outputs": [],
   "source": [
    "p.height = 168.5\n",
    "p.name = 'AG'\n",
    "p.hobbies = ['reading','swimming','kayaking']\n",
    "p.food_habits = ('fish','meat','rice')"
   ]
  }
 ],
 "metadata": {
  "kernelspec": {
   "display_name": "Python 3 (ipykernel)",
   "language": "python",
   "name": "python3"
  },
  "language_info": {
   "codemirror_mode": {
    "name": "ipython",
    "version": 3
   },
   "file_extension": ".py",
   "mimetype": "text/x-python",
   "name": "python",
   "nbconvert_exporter": "python",
   "pygments_lexer": "ipython3",
   "version": "3.13.2"
  }
 },
 "nbformat": 4,
 "nbformat_minor": 5
}
