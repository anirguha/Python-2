{
 "cells": [
  {
   "cell_type": "code",
   "execution_count": 1,
   "id": "f2a05fc0-10b9-42bc-8dff-052c567f77a2",
   "metadata": {},
   "outputs": [],
   "source": [
    "#Weak references, strong references and WeakKeydictionary"
   ]
  },
  {
   "cell_type": "code",
   "execution_count": 24,
   "id": "95716e19-4e44-4bb2-8630-cf825ded5713",
   "metadata": {},
   "outputs": [],
   "source": [
    "import weakref\n",
    "import ctypes\n",
    "\n",
    "def ref_count(address):\n",
    "    return ctypes.c_long.from_address(address).value"
   ]
  },
  {
   "cell_type": "code",
   "execution_count": 25,
   "id": "fb3ee0a2-2ac0-41f7-b23c-900b37140fa9",
   "metadata": {},
   "outputs": [],
   "source": [
    "class Person:\n",
    "    def __init__(self, name):\n",
    "        self.name = name\n",
    "\n",
    "    def __repr__(self):\n",
    "        return f'{self.name}'"
   ]
  },
  {
   "cell_type": "code",
   "execution_count": 48,
   "id": "555f791a-ad40-4b30-8069-8f7497ea13a8",
   "metadata": {},
   "outputs": [],
   "source": [
    "d_weak_dict = weakref.WeakKeyDictionary()\n",
    "d_weak_dict[p1] = 'Alex'"
   ]
  },
  {
   "cell_type": "code",
   "execution_count": 49,
   "id": "229d32a4-b11c-4305-bcdf-9b9914aa03fd",
   "metadata": {},
   "outputs": [
    {
     "data": {
      "text/plain": [
       "<weakref at 0x114e81da0; to 'Person' at 0x114e54910>"
      ]
     },
     "execution_count": 49,
     "metadata": {},
     "output_type": "execute_result"
    }
   ],
   "source": [
    "p1.__weakref__"
   ]
  },
  {
   "cell_type": "code",
   "execution_count": 50,
   "id": "734aa16c-4801-4695-bf1f-5098483b2803",
   "metadata": {},
   "outputs": [],
   "source": [
    "del p1"
   ]
  },
  {
   "cell_type": "code",
   "execution_count": null,
   "id": "ce3c03a4-1de6-4e13-83d5-c7e02dccb950",
   "metadata": {},
   "outputs": [],
   "source": []
  }
 ],
 "metadata": {
  "kernelspec": {
   "display_name": "Python 3 (ipykernel)",
   "language": "python",
   "name": "python3"
  },
  "language_info": {
   "codemirror_mode": {
    "name": "ipython",
    "version": 3
   },
   "file_extension": ".py",
   "mimetype": "text/x-python",
   "name": "python",
   "nbconvert_exporter": "python",
   "pygments_lexer": "ipython3",
   "version": "3.13.2"
  }
 },
 "nbformat": 4,
 "nbformat_minor": 5
}
