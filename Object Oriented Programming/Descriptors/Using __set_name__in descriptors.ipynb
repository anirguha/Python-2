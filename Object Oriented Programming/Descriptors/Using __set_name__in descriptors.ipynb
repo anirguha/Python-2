{
 "cells": [
  {
   "cell_type": "code",
   "execution_count": 1,
   "id": "87a0b43e-309f-42b6-9650-003a0af5b85b",
   "metadata": {},
   "outputs": [],
   "source": [
    "#Using __set_name__ method"
   ]
  },
  {
   "cell_type": "code",
   "execution_count": 15,
   "id": "2b2fe3c9-bd7b-491e-bfab-ecb7bb87592b",
   "metadata": {},
   "outputs": [],
   "source": [
    "#Declaraing the descriptot\n",
    "class ValidString:\n",
    "\n",
    "    def __init__(self, min_length):\n",
    "        self._min_length = min_length\n",
    "\n",
    "    def __set_name__(self, owner_class, property_name):\n",
    "        self._property_name = property_name\n",
    "\n",
    "    def __set__(self,instance,value):\n",
    "        if not isinstance(value, str):\n",
    "            raise TypeError(f'{self._property_name} must be a string')\n",
    "        if len(value) < self._min_length:\n",
    "            raise ValueError(f'{self._property_name} must be of at least of length {self._min_length}')\n",
    "        key = '_' + self._property_name\n",
    "        setattr(instance, key, value)\n",
    "\n",
    "    def __get__(self,instance,owner_class):\n",
    "        if instance is None:\n",
    "            return self\n",
    "        key = '_' + self._property_name\n",
    "        return getattr(instance, key, None)"
   ]
  },
  {
   "cell_type": "code",
   "execution_count": 16,
   "id": "f44bc4c0-0db8-4763-977a-50b172ed437b",
   "metadata": {},
   "outputs": [],
   "source": [
    "#Creating the instances of the descriptor as attributes\n",
    "class Person:\n",
    "    first_name = ValidString(5)\n",
    "    last_name = ValidString(5)\n"
   ]
  },
  {
   "cell_type": "code",
   "execution_count": 19,
   "id": "b6c2c25a-7d7b-4062-9ae9-2f5e886f2d6b",
   "metadata": {},
   "outputs": [],
   "source": [
    "p = Person()\n",
    "p.first_name = 'Alexander'\n",
    "p.last_name = 'Barbarosa'"
   ]
  },
  {
   "cell_type": "code",
   "execution_count": 20,
   "id": "6b4df5d8-d397-4709-a753-ef28eb981ab2",
   "metadata": {},
   "outputs": [
    {
     "data": {
      "text/plain": [
       "{'_first_name': 'Alexander', '_last_name': 'Barbarosa'}"
      ]
     },
     "execution_count": 20,
     "metadata": {},
     "output_type": "execute_result"
    }
   ],
   "source": [
    "p.__dict__"
   ]
  },
  {
   "cell_type": "code",
   "execution_count": 27,
   "id": "278b091b-04bd-40c4-9482-3621fa9092a8",
   "metadata": {},
   "outputs": [],
   "source": [
    "p.__dict__['first_name'] = 'Alex'"
   ]
  },
  {
   "cell_type": "code",
   "execution_count": 28,
   "id": "41d591c8-4e7c-4396-bf93-e5fe68e5415d",
   "metadata": {},
   "outputs": [
    {
     "data": {
      "text/plain": [
       "{'_first_name': 'Alex', '_last_name': 'Barbarosa', 'first_name': 'Alex'}"
      ]
     },
     "execution_count": 28,
     "metadata": {},
     "output_type": "execute_result"
    }
   ],
   "source": [
    "p.__dict__"
   ]
  },
  {
   "cell_type": "code",
   "execution_count": 29,
   "id": "058308a5-f737-4fcb-806b-1b74f90ace82",
   "metadata": {},
   "outputs": [
    {
     "data": {
      "text/plain": [
       "'Alex'"
      ]
     },
     "execution_count": 29,
     "metadata": {},
     "output_type": "execute_result"
    }
   ],
   "source": [
    "p.first_name"
   ]
  },
  {
   "cell_type": "code",
   "execution_count": 26,
   "id": "993895e3-f66e-4b03-b992-fc50f0e064e2",
   "metadata": {},
   "outputs": [
    {
     "data": {
      "text/plain": [
       "'Alex'"
      ]
     },
     "execution_count": 26,
     "metadata": {},
     "output_type": "execute_result"
    }
   ],
   "source": [
    "p._first_name"
   ]
  },
  {
   "cell_type": "code",
   "execution_count": 30,
   "id": "69e27127-6bc7-442a-97cd-872e48e4c183",
   "metadata": {},
   "outputs": [
    {
     "ename": "ValueError",
     "evalue": "first_name must be of at least of length 5",
     "output_type": "error",
     "traceback": [
      "\u001b[31m---------------------------------------------------------------------------\u001b[39m",
      "\u001b[31mValueError\u001b[39m                                Traceback (most recent call last)",
      "\u001b[36mCell\u001b[39m\u001b[36m \u001b[39m\u001b[32mIn[30]\u001b[39m\u001b[32m, line 1\u001b[39m\n\u001b[32m----> \u001b[39m\u001b[32m1\u001b[39m \u001b[43mp\u001b[49m\u001b[43m.\u001b[49m\u001b[43mfirst_name\u001b[49m = \u001b[33m'\u001b[39m\u001b[33mAlex\u001b[39m\u001b[33m'\u001b[39m\n",
      "\u001b[36mCell\u001b[39m\u001b[36m \u001b[39m\u001b[32mIn[15]\u001b[39m\u001b[32m, line 13\u001b[39m, in \u001b[36mValidString.__set__\u001b[39m\u001b[34m(self, instance, value)\u001b[39m\n\u001b[32m     11\u001b[39m     \u001b[38;5;28;01mraise\u001b[39;00m \u001b[38;5;167;01mTypeError\u001b[39;00m(\u001b[33mf\u001b[39m\u001b[33m'\u001b[39m\u001b[38;5;132;01m{\u001b[39;00m\u001b[38;5;28mself\u001b[39m._property_name\u001b[38;5;132;01m}\u001b[39;00m\u001b[33m must be a string\u001b[39m\u001b[33m'\u001b[39m)\n\u001b[32m     12\u001b[39m \u001b[38;5;28;01mif\u001b[39;00m \u001b[38;5;28mlen\u001b[39m(value) < \u001b[38;5;28mself\u001b[39m._min_length:\n\u001b[32m---> \u001b[39m\u001b[32m13\u001b[39m     \u001b[38;5;28;01mraise\u001b[39;00m \u001b[38;5;167;01mValueError\u001b[39;00m(\u001b[33mf\u001b[39m\u001b[33m'\u001b[39m\u001b[38;5;132;01m{\u001b[39;00m\u001b[38;5;28mself\u001b[39m._property_name\u001b[38;5;132;01m}\u001b[39;00m\u001b[33m must be of at least of length \u001b[39m\u001b[38;5;132;01m{\u001b[39;00m\u001b[38;5;28mself\u001b[39m._min_length\u001b[38;5;132;01m}\u001b[39;00m\u001b[33m'\u001b[39m)\n\u001b[32m     14\u001b[39m key = \u001b[33m'\u001b[39m\u001b[33m_\u001b[39m\u001b[33m'\u001b[39m + \u001b[38;5;28mself\u001b[39m._property_name\n\u001b[32m     15\u001b[39m \u001b[38;5;28msetattr\u001b[39m(instance, key, value)\n",
      "\u001b[31mValueError\u001b[39m: first_name must be of at least of length 5"
     ]
    }
   ],
   "source": [
    "p.first_name = 'Alex'"
   ]
  },
  {
   "cell_type": "code",
   "execution_count": 31,
   "id": "69083922-0dd4-4e17-9d15-f54c106d3c1b",
   "metadata": {},
   "outputs": [],
   "source": [
    "p.first_name = 'Alexander'"
   ]
  },
  {
   "cell_type": "code",
   "execution_count": 35,
   "id": "8b637fb6-5332-461a-b096-14ffec02f366",
   "metadata": {},
   "outputs": [
    {
     "data": {
      "text/plain": [
       "'Alexander'"
      ]
     },
     "execution_count": 35,
     "metadata": {},
     "output_type": "execute_result"
    }
   ],
   "source": [
    "p.first_name"
   ]
  },
  {
   "cell_type": "code",
   "execution_count": 33,
   "id": "607269b3-e637-404a-9c2a-3c3d0c2a9eb3",
   "metadata": {},
   "outputs": [
    {
     "data": {
      "text/plain": [
       "'Alex'"
      ]
     },
     "execution_count": 33,
     "metadata": {},
     "output_type": "execute_result"
    }
   ],
   "source": [
    "p.__dict__['first_name']"
   ]
  },
  {
   "cell_type": "code",
   "execution_count": 34,
   "id": "e3f70528-71de-4988-96f4-f2dcca4480e5",
   "metadata": {},
   "outputs": [
    {
     "data": {
      "text/plain": [
       "{'_first_name': 'Alexander', '_last_name': 'Barbarosa', 'first_name': 'Alex'}"
      ]
     },
     "execution_count": 34,
     "metadata": {},
     "output_type": "execute_result"
    }
   ],
   "source": [
    "p.__dict__"
   ]
  },
  {
   "cell_type": "code",
   "execution_count": null,
   "id": "3eb0971c-b7eb-4dc4-ab14-ac6e8668d164",
   "metadata": {},
   "outputs": [],
   "source": []
  }
 ],
 "metadata": {
  "kernelspec": {
   "display_name": "Python 3 (ipykernel)",
   "language": "python",
   "name": "python3"
  },
  "language_info": {
   "codemirror_mode": {
    "name": "ipython",
    "version": 3
   },
   "file_extension": ".py",
   "mimetype": "text/x-python",
   "name": "python",
   "nbconvert_exporter": "python",
   "pygments_lexer": "ipython3",
   "version": "3.13.2"
  }
 },
 "nbformat": 4,
 "nbformat_minor": 5
}
