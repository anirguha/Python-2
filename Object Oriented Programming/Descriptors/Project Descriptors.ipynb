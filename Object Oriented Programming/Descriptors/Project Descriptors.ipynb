{
 "cells": [
  {
   "cell_type": "code",
   "execution_count": 1,
   "id": "43063927-effd-4591-9430-0123415ba205",
   "metadata": {},
   "outputs": [],
   "source": [
    "#Define two decriptors - \n",
    "#1. For Integer Validation\n",
    "#2. For Character Validation"
   ]
  },
  {
   "cell_type": "code",
   "execution_count": 47,
   "id": "4a60deab-b96a-4ed7-b77a-0b494582e64a",
   "metadata": {},
   "outputs": [],
   "source": [
    "from numbers import Integral"
   ]
  },
  {
   "cell_type": "code",
   "id": "b48ea03e-d98e-4b2d-95c3-2e951ca7ee62",
   "metadata": {
    "ExecuteTime": {
     "end_time": "2025-05-19T02:53:10.004561Z",
     "start_time": "2025-05-19T02:53:09.997493Z"
    }
   },
   "source": [
    "#Declare descriptor to validate both integers and charcarters\n",
    "class BaseField:\n",
    "    def __init__(self, min_=None, max_=None):\n",
    "        self.min = min_\n",
    "        self.max = max_\n",
    "\n",
    "    def __set_name__(self, owner_class, name):\n",
    "        self.name = name\n",
    "\n",
    "    def validate_value(self, value):\n",
    "        pass\n",
    "        \n",
    "    def __set__(self,instance,value):\n",
    "        self.validate_value(value)\n",
    "        instance.__dict__[self.name]=value\n",
    "\n",
    "    def __get__(self,instance,cls):\n",
    "        if instance is None:\n",
    "            return self\n",
    "        return instance.__dict__[self.name]"
   ],
   "outputs": [],
   "execution_count": 1
  },
  {
   "cell_type": "code",
   "execution_count": 83,
   "id": "5bd0808f-6478-4088-862d-8d23b0cd851d",
   "metadata": {},
   "outputs": [],
   "source": [
    "#Declare descriptor to validate integer inheritating from BaseField\n",
    "class IntegerField(BaseField):\n",
    "    def validate_value(self,value):\n",
    "        if not isinstance(value, Integral):\n",
    "            raise TypeError(f'{self.name} must be of type int.')\n",
    "        if self.min is not None and value < self.min:\n",
    "            raise ValueError(f'{self.name} must be greater than {self.min}')\n",
    "        if self.max is not None and value > self.max:\n",
    "            raise ValueError(f'{self.name} must be less than {self.max}')\n",
    "      "
   ]
  },
  {
   "cell_type": "code",
   "execution_count": 90,
   "id": "c306b5f8-2053-46bb-9c8b-b7638f70399e",
   "metadata": {},
   "outputs": [],
   "source": [
    "#Declare descriptor to validate string\n",
    "class CharField(BaseField):\n",
    "    def __init__(self,min_,max_):\n",
    "        if min_ is None or min_<=0:\n",
    "            min_=0\n",
    "        super().__init__(min_, max_)\n",
    "\n",
    "    def validate_value(self, value):   \n",
    "        if not isinstance(value, str):\n",
    "            raise TypeError(f'{self.name} must be of type string.')\n",
    "        if self.min is not None and len(value) < self.min:\n",
    "            raise ValueError(f'{self.name} must be of minimum length {self.min}')\n",
    "        if self.max is not None and len(value) > self.max:\n",
    "            raise ValueError(f'{self.name} must be of maximum length {self.max}')\n",
    "        "
   ]
  },
  {
   "cell_type": "code",
   "execution_count": 91,
   "id": "290d3941-22ea-494f-bcbd-4d6fa337b192",
   "metadata": {},
   "outputs": [],
   "source": [
    "class Person:\n",
    "    name = CharField(3, 30)\n",
    "    age = IntegerField(10,50)\n"
   ]
  },
  {
   "cell_type": "code",
   "execution_count": 92,
   "id": "2bf06b9d-84b9-459a-92ee-e5383003df9a",
   "metadata": {},
   "outputs": [],
   "source": [
    "p = Person()\n",
    "p.age = 44\n",
    "p.name = 'Guido'"
   ]
  },
  {
   "cell_type": "code",
   "id": "b12e7256-df89-4680-af68-273f5f93ae1d",
   "metadata": {
    "ExecuteTime": {
     "end_time": "2025-05-19T02:54:13.008512Z",
     "start_time": "2025-05-19T02:54:12.998265Z"
    }
   },
   "source": [
    "import unittest"
   ],
   "outputs": [],
   "execution_count": 2
  },
  {
   "cell_type": "code",
   "id": "c1ca22e2-12fd-4dd1-acdf-661dbf77aaa0",
   "metadata": {
    "ExecuteTime": {
     "end_time": "2025-05-19T02:54:18.467347Z",
     "start_time": "2025-05-19T02:54:18.464489Z"
    }
   },
   "source": [
    "#Setting up of unit test suite\n",
    "def run_tests(test_cls):\n",
    "    suite = unittest.TestLoader().loadTestsFromTestCase(test_cls)\n",
    "    runner = unittest.TextTestRunner(verbosity=2)\n",
    "    result = runner.run(suite)"
   ],
   "outputs": [],
   "execution_count": 3
  },
  {
   "cell_type": "code",
   "id": "52115095-18ef-47a2-81c5-c43331896a4e",
   "metadata": {
    "ExecuteTime": {
     "end_time": "2025-05-19T02:56:05.857051Z",
     "start_time": "2025-05-19T02:56:05.850157Z"
    }
   },
   "source": [
    "#Test for IngerField descriptor\n",
    "class TestIntegerField(unittest.TestCase):\n",
    "\n",
    "    #Define a static method and create dynamic class with attributes\n",
    "    #based on the decriptor class\n",
    "\n",
    "    @staticmethod\n",
    "    def create_test_class(min_,max_):\n",
    "        obj = type('TestClass',(),{'age':IntegerField(min_,max_)})\n",
    "        return obj()\n",
    "\n",
    "    def test_set_age_ok(self):\n",
    "        \"\"\"Test for valid values\"\"\"\n",
    "        min_=5\n",
    "        max_=10\n",
    "        obj = self.create_test_class(min_,max_)\n",
    "\n",
    "        valid_values = range(min_,max_+1)\n",
    "        for idx, value in enumerate(valid_values):\n",
    "            with self.subTest(test_number=idx):\n",
    "                obj.age = value\n",
    "                self.assertEqual(value, obj.age)\n",
    "\n",
    "    def test_set_age_invalid(self):  \n",
    "        \"\"\"Test for invalid values raises appropriate error values\"\"\"\n",
    "        min_= -20\n",
    "        max_= 20\n",
    "        obj = self.create_test_class(min_,max_)\n",
    "        \n",
    "        bad_values = list(range(min_-5,min_)) #test for min values\n",
    "        bad_values += list(range(max_+1, max_+5)) #test for max values\n",
    "     \n",
    "          \n",
    "        for idx, value in enumerate(bad_values):\n",
    "            with self.subTest(test_number=idx):         \n",
    "                with self.assertRaises(ValueError):\n",
    "                    obj.age = value\n",
    "\n",
    "    def test_set_age_invalid_types(self):  \n",
    "        \"\"\"Test for invalid values raises appropriate error types\"\"\"\n",
    "        min_= 5\n",
    "        max_= 20\n",
    "        obj = self.create_test_class(min_,max_)\n",
    "        \n",
    "        invalid_type_values = ['abc', 10.5, (1,2)] #test for invalid types\n",
    "        for idx, value in enumerate(invalid_type_values):\n",
    "            with self.subTest(test_number=idx):         \n",
    "                with self.assertRaises(TypeError):\n",
    "                    obj.age = value\n",
    "\n",
    "    def test_set_min_only(self):\n",
    "        \"\"\"Test when only the min value is set\"\"\"\n",
    "        min_=10\n",
    "        max_=None\n",
    "        obj = self.create_test_class(min_,max_)\n",
    "\n",
    "        values = range(min_,min_+100,10)\n",
    "        for idx, value in enumerate(values):\n",
    "            with self.subTest(test_number=idx):\n",
    "                obj.age = value\n",
    "                self.assertEqual(value, obj.age)\n",
    "\n",
    "    def test_set_max_only(self):\n",
    "        \"\"\"Test when only the max value is set\"\"\"\n",
    "        min_=None\n",
    "        max_=100\n",
    "        obj = self.create_test_class(min_,max_)\n",
    "\n",
    "        values = range(max_-100,max_,10)\n",
    "        for idx, value in enumerate(values):\n",
    "            with self.subTest(test_number=idx):\n",
    "                obj.age = value\n",
    "                self.assertEqual(value, obj.age)\n",
    "\n",
    "    def test_set_nolimit(self):\n",
    "        \"\"\"Test when only there is no limit to age\"\"\"\n",
    "        min_=None\n",
    "        max_=None\n",
    "        obj = self.create_test_class(min_,max_)\n",
    "\n",
    "        values = range(-100,100,10)\n",
    "        for idx, value in enumerate(values):\n",
    "            with self.subTest(test_number=idx):\n",
    "                obj.age = value\n",
    "                self.assertEqual(value, obj.age)         "
   ],
   "outputs": [],
   "execution_count": 7
  },
  {
   "cell_type": "code",
   "execution_count": 96,
   "id": "a24ca4bf-799b-49fb-a1a0-fbf705c561f1",
   "metadata": {},
   "outputs": [
    {
     "name": "stderr",
     "output_type": "stream",
     "text": [
      "test_set_age_invalid (__main__.TestIntegerField.test_set_age_invalid)\n",
      "Test for invalid values raises appropriate error values ... ok\n",
      "test_set_age_invalid_types (__main__.TestIntegerField.test_set_age_invalid_types)\n",
      "Test for invalid values raises appropriate error types ... ok\n",
      "test_set_age_ok (__main__.TestIntegerField.test_set_age_ok)\n",
      "Test for valid values ... ok\n",
      "test_set_max_only (__main__.TestIntegerField.test_set_max_only)\n",
      "Test when only the max value is set ... ok\n",
      "test_set_min_only (__main__.TestIntegerField.test_set_min_only)\n",
      "Test when only the min value is set ... ok\n",
      "test_set_nolimit (__main__.TestIntegerField.test_set_nolimit)\n",
      "Test when only there is no limit to age ... ok\n",
      "\n",
      "----------------------------------------------------------------------\n",
      "Ran 6 tests in 0.005s\n",
      "\n",
      "OK\n"
     ]
    }
   ],
   "source": [
    "run_tests(TestIntegerField)"
   ]
  },
  {
   "cell_type": "code",
   "execution_count": 97,
   "id": "e8405cae-6264-46ec-9f90-6d28c0cd858f",
   "metadata": {},
   "outputs": [],
   "source": [
    "#Test for CharField descriptor\n",
    "class TestCharField(unittest.TestCase):\n",
    "\n",
    "    #Define a static method and create dynamic class with attributes\n",
    "    #based on the decriptor class\n",
    "\n",
    "    @staticmethod\n",
    "    def create_test_class(min_,max_):\n",
    "        obj = type('TestClass',(),{'name':CharField(min_,max_)})\n",
    "        return obj()\n",
    "\n",
    "    def test_set_name_ok(self):\n",
    "        \"\"\"Test for valid string length values can be used\"\"\"\n",
    "        min_=1\n",
    "        max_=10\n",
    "        obj = self.create_test_class(min_,max_)\n",
    "\n",
    "        valid_values = range(min_,max_+1)\n",
    "        for idx, value in enumerate(valid_values):\n",
    "            name_value = 'a'* value\n",
    "            with self.subTest(test_number=idx):\n",
    "                obj.name = name_value\n",
    "                self.assertEqual(name_value, obj.name)\n",
    "\n",
    "    def test_set_name_invalid_types(self):  \n",
    "        \"\"\"Test for invalid types raises appropriate error values\"\"\"\n",
    "        min_= -20\n",
    "        max_= 20\n",
    "        obj = self.create_test_class(min_,max_)\n",
    "        \n",
    "        bad_values = [1, 1.6, (2,3)] #test for ivalid types   \n",
    "          \n",
    "        for idx, value in enumerate(bad_values):\n",
    "            with self.subTest(test_number=idx):         \n",
    "                with self.assertRaises(TypeError):\n",
    "                    obj.name = value\n",
    "\n",
    "    def test_set_name_invalid_name_length(self):  \n",
    "        \"\"\"Test for invalid name lengths raises appropriate error values\"\"\"\n",
    "        min_= 5\n",
    "        max_= 20\n",
    "        obj = self.create_test_class(min_,max_)\n",
    "        \n",
    "        bad_lengths = [0, 1, 4, 21, 30, 35] \n",
    "          \n",
    "        for idx, value in enumerate(bad_lengths):\n",
    "            name_value = 'a' * value\n",
    "            with self.subTest(test_number=idx):         \n",
    "                with self.assertRaises(ValueError):\n",
    "                    obj.name = name_value\n",
    "\n",
    "    def test_set_min_only(self):\n",
    "        \"\"\"Test when only the min value is set\"\"\"\n",
    "        min_=10\n",
    "        max_=None\n",
    "        obj = self.create_test_class(min_,max_)\n",
    "\n",
    "        values = range(min_,min_+100,10)\n",
    "        for idx, value in enumerate(values):\n",
    "            name_value = 'a' * value\n",
    "            with self.subTest(test_number=idx):\n",
    "                obj.name = name_value\n",
    "                self.assertEqual(name_value, obj.name)\n",
    "\n",
    "    def test_set_max_only(self):\n",
    "        \"\"\"Test when only the max value is set\"\"\"\n",
    "        min_=None\n",
    "        max_=100\n",
    "        obj = self.create_test_class(min_,max_)\n",
    "\n",
    "        values = range(max_-100,max_,10)\n",
    "        for idx, value in enumerate(values):\n",
    "            name_value = 'a' * value\n",
    "            with self.subTest(test_number=idx):\n",
    "                obj.name = name_value\n",
    "                self.assertEqual(name_value, obj.name)\n",
    "\n",
    "    def test_set_nolimit(self):\n",
    "        \"\"\"Test when only there is no limit to name length\"\"\"\n",
    "        min_=None\n",
    "        max_=None\n",
    "        obj = self.create_test_class(min_,max_)\n",
    "\n",
    "        values = [v for v in range(-100,100,10) if v>=0]\n",
    "        for idx, value in enumerate(values):\n",
    "            name_value = 'a' * value\n",
    "            with self.subTest(test_number=idx):\n",
    "                obj.name = name_value\n",
    "                self.assertEqual(name_value, obj.name)   "
   ]
  },
  {
   "cell_type": "code",
   "execution_count": 98,
   "id": "95cdbd62-7a35-43e0-995d-c2f396aa3773",
   "metadata": {},
   "outputs": [
    {
     "name": "stderr",
     "output_type": "stream",
     "text": [
      "test_set_max_only (__main__.TestCharField.test_set_max_only)\n",
      "Test when only the max value is set ... ok\n",
      "test_set_min_only (__main__.TestCharField.test_set_min_only)\n",
      "Test when only the min value is set ... ok\n",
      "test_set_name_invalid_name_length (__main__.TestCharField.test_set_name_invalid_name_length)\n",
      "Test for invalid name lengths raises appropriate error values ... ok\n",
      "test_set_name_invalid_types (__main__.TestCharField.test_set_name_invalid_types)\n",
      "Test for invalid types raises appropriate error values ... ok\n",
      "test_set_name_ok (__main__.TestCharField.test_set_name_ok)\n",
      "Test for valid string length values can be used ... ok\n",
      "test_set_nolimit (__main__.TestCharField.test_set_nolimit)\n",
      "Test when only there is no limit to name length ... ok\n",
      "\n",
      "----------------------------------------------------------------------\n",
      "Ran 6 tests in 0.005s\n",
      "\n",
      "OK\n"
     ]
    }
   ],
   "source": [
    "run_tests(TestCharField)"
   ]
  }
 ],
 "metadata": {
  "kernelspec": {
   "display_name": "Python 3 (ipykernel)",
   "language": "python",
   "name": "python3"
  },
  "language_info": {
   "codemirror_mode": {
    "name": "ipython",
    "version": 3
   },
   "file_extension": ".py",
   "mimetype": "text/x-python",
   "name": "python",
   "nbconvert_exporter": "python",
   "pygments_lexer": "ipython3",
   "version": "3.13.2"
  }
 },
 "nbformat": 4,
 "nbformat_minor": 5
}
