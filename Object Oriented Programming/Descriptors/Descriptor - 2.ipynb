{
 "cells": [
  {
   "cell_type": "code",
   "execution_count": 31,
   "id": "d69926fa-98c6-46cf-8099-c5037b64dfc5",
   "metadata": {},
   "outputs": [],
   "source": [
    "class IntegerValue:\n",
    "    def __set__(self, instance, value):\n",
    "        print('__set__ called')\n",
    "        self._value = value\n",
    "\n",
    "    def __get__(self, instance, owner):\n",
    "        print('__get__ called')\n",
    "        if instance is None:\n",
    "            return self\n",
    "        return self._value"
   ]
  },
  {
   "cell_type": "code",
   "execution_count": 32,
   "id": "632b0984-8f07-43e7-bea5-595dba333657",
   "metadata": {},
   "outputs": [],
   "source": [
    "#declaring the descriptor class\n",
    "class MyInt():\n",
    "    x = IntegerValue()\n",
    "    y = IntegerValue()"
   ]
  },
  {
   "cell_type": "code",
   "execution_count": 33,
   "id": "c9a88bad-6a10-4cb0-b9bc-3a74f21a1963",
   "metadata": {},
   "outputs": [
    {
     "name": "stdout",
     "output_type": "stream",
     "text": [
      "__set__ called\n",
      "__set__ called\n",
      "__get__ called\n",
      "__get__ called\n",
      "__get__ called\n",
      "__get__ called\n"
     ]
    },
    {
     "data": {
      "text/plain": [
       "(100, 20, 100, 20)"
      ]
     },
     "execution_count": 33,
     "metadata": {},
     "output_type": "execute_result"
    }
   ],
   "source": [
    "p = MyInt()\n",
    "p.x = 100\n",
    "p.y = 20\n",
    "p.x, p.y, p.x, p.y"
   ]
  },
  {
   "cell_type": "code",
   "execution_count": 34,
   "id": "c03ea11b-9f21-4dc2-bed5-b3d76b41efc9",
   "metadata": {},
   "outputs": [
    {
     "data": {
      "text/plain": [
       "'__main__'"
      ]
     },
     "execution_count": 34,
     "metadata": {},
     "output_type": "execute_result"
    }
   ],
   "source": [
    "__name__"
   ]
  },
  {
   "cell_type": "code",
   "execution_count": 45,
   "id": "d8f87cdb-79e3-4a83-8754-fd0f951eeeeb",
   "metadata": {},
   "outputs": [],
   "source": [
    "class IntegerValue:\n",
    "    def __init__(self):\n",
    "        self.value = {}\n",
    "\n",
    "    def __set__(self, instance, value):\n",
    "        self.value[instance] = value\n",
    "\n",
    "    def __get__(self,instance, class_owner):\n",
    "        if instance is None:\n",
    "            return self\n",
    "        return self.value.get(instance, None)"
   ]
  },
  {
   "cell_type": "code",
   "execution_count": 46,
   "id": "723e23c7-f866-4ea6-83c8-40b261df00f6",
   "metadata": {},
   "outputs": [],
   "source": [
    "class MyInt:\n",
    "    x = IntegerValue()\n",
    "    y = IntegerValue()"
   ]
  },
  {
   "cell_type": "code",
   "execution_count": 47,
   "id": "1ab0a87a-f260-4037-a2e3-2908fa439ba9",
   "metadata": {},
   "outputs": [
    {
     "data": {
      "text/plain": [
       "(10.5, 20.1, 100.1, 200.5)"
      ]
     },
     "execution_count": 47,
     "metadata": {},
     "output_type": "execute_result"
    }
   ],
   "source": [
    "p1, p2 = MyInt(), MyInt()\n",
    "p1.x, p1.y, p2.x, p2.y = 10.5, 20.1, 100.1, 200.5\n",
    "p1.x, p1.y, p2.x, p2.y"
   ]
  },
  {
   "cell_type": "code",
   "execution_count": null,
   "id": "40c85d1c-7bb1-447d-9b1a-e14b28932615",
   "metadata": {},
   "outputs": [],
   "source": []
  }
 ],
 "metadata": {
  "kernelspec": {
   "display_name": "Python 3 (ipykernel)",
   "language": "python",
   "name": "python3"
  },
  "language_info": {
   "codemirror_mode": {
    "name": "ipython",
    "version": 3
   },
   "file_extension": ".py",
   "mimetype": "text/x-python",
   "name": "python",
   "nbconvert_exporter": "python",
   "pygments_lexer": "ipython3",
   "version": "3.13.2"
  }
 },
 "nbformat": 4,
 "nbformat_minor": 5
}
