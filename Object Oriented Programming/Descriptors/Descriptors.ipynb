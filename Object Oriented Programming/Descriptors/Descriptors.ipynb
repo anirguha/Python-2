{
 "cells": [
  {
   "cell_type": "code",
   "execution_count": 1,
   "id": "cf008c1e-82c6-4a4b-ae74-133fbdb17cc0",
   "metadata": {},
   "outputs": [],
   "source": [
    "#use of a descriptor"
   ]
  },
  {
   "cell_type": "code",
   "execution_count": 11,
   "id": "824b0935-4900-4967-a79f-2595325785b4",
   "metadata": {},
   "outputs": [],
   "source": [
    "from random import choice, seed"
   ]
  },
  {
   "cell_type": "code",
   "execution_count": 15,
   "id": "e2600ee3-73b8-4a0c-884b-1374de78cc9c",
   "metadata": {},
   "outputs": [],
   "source": [
    "class Choice:\n",
    "    def __init__(self,*choices):\n",
    "        self.choices = choices\n",
    "\n",
    "    def __get__(self, instance, owner_class):\n",
    "        return choice(self.choices)"
   ]
  },
  {
   "cell_type": "code",
   "execution_count": 16,
   "id": "15551125-463c-4cff-a28a-12f2e00abe2d",
   "metadata": {},
   "outputs": [],
   "source": [
    "class Cards:\n",
    "    suit = Choice('Heart','Spade','Club','Diamond')\n",
    "    card_value = Choice(*'23456789JQKA','10')"
   ]
  },
  {
   "cell_type": "code",
   "execution_count": 19,
   "id": "6c67a473-3a39-4e8e-ada1-59cb12c0fcb4",
   "metadata": {},
   "outputs": [
    {
     "name": "stdout",
     "output_type": "stream",
     "text": [
      "Diamond 10\n",
      "Diamond 2\n",
      "Club J\n",
      "Diamond 8\n",
      "Club 9\n",
      "Club Q\n",
      "Spade J\n",
      "Spade 6\n",
      "Spade 10\n",
      "Heart Q\n"
     ]
    }
   ],
   "source": [
    "seed(0)\n",
    "c = Cards()\n",
    "for _ in range(10):\n",
    "    print(c.suit, c.card_value)"
   ]
  },
  {
   "cell_type": "code",
   "execution_count": 23,
   "id": "92b28b9d-91f9-4135-bcb6-75d933be81c9",
   "metadata": {},
   "outputs": [],
   "source": [
    "class Dice:\n",
    "    face_value = Choice(*'123456')"
   ]
  },
  {
   "cell_type": "code",
   "execution_count": 30,
   "id": "31498516-bdcd-4deb-a318-eb407d910ba3",
   "metadata": {},
   "outputs": [
    {
     "name": "stdout",
     "output_type": "stream",
     "text": [
      "4\n",
      "4\n",
      "1\n",
      "3\n",
      "5\n",
      "4\n",
      "4\n",
      "3\n",
      "4\n",
      "3\n"
     ]
    }
   ],
   "source": [
    "seed(0)\n",
    "d = Dice()\n",
    "for _ in range(10):\n",
    "    print(d.face_value)"
   ]
  },
  {
   "cell_type": "code",
   "execution_count": null,
   "id": "4fafa7ac-1471-4473-b2ef-721b54cd06f5",
   "metadata": {},
   "outputs": [],
   "source": []
  }
 ],
 "metadata": {
  "kernelspec": {
   "display_name": "Python 3 (ipykernel)",
   "language": "python",
   "name": "python3"
  },
  "language_info": {
   "codemirror_mode": {
    "name": "ipython",
    "version": 3
   },
   "file_extension": ".py",
   "mimetype": "text/x-python",
   "name": "python",
   "nbconvert_exporter": "python",
   "pygments_lexer": "ipython3",
   "version": "3.13.2"
  }
 },
 "nbformat": 4,
 "nbformat_minor": 5
}
