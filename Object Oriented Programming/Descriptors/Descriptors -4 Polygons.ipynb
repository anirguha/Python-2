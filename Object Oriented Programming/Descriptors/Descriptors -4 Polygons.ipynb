{
 "cells": [
  {
   "cell_type": "code",
   "execution_count": 2,
   "id": "2761954e-6f26-454f-82c4-21821f65b17d",
   "metadata": {},
   "outputs": [],
   "source": [
    "from collections import abc\n",
    "import numbers"
   ]
  },
  {
   "cell_type": "code",
   "execution_count": 3,
   "id": "51676346-87cf-4a75-8d1f-4ce4862c0417",
   "metadata": {},
   "outputs": [],
   "source": [
    "# Declare point descriptor\n",
    "class ValidatePoints:\n",
    "    def __init__(self,min_value=None, max_vaue=None):\n",
    "        self.min_value = min_value\n",
    "        self.max_vaue = max_vaue\n",
    "\n",
    "    def __set_name__(self,owner_class,name):\n",
    "        self.name = name\n",
    "\n",
    "    def __set__(self,instance,value):\n",
    "        if not isinstance(value,numbers.Real):\n",
    "            raise TypeError(f'{self.__class__.__name__}:Values for {self.name} must be Real.')\n",
    "        if abs(value) < self.min_value:\n",
    "            raise ValueError(f'{self.__class__.__name__}:Value for {self.name} cannot be less than {self.min_value} value')\n",
    "        if abs(value) > self.max_vaue:\n",
    "            raise ValueError(f'{self.__class__.__name__}:Value for {self.name} cannot be more than {self.max_vaue}')\n",
    "        instance.__dict__[self.name] = value\n",
    "\n",
    "    def __get__(self,instance,owner_class):\n",
    "        return instance.__dict__[self.name]"
   ]
  },
  {
   "cell_type": "code",
   "execution_count": 4,
   "id": "960aaff6-8515-43f8-bbdb-ac320adbff55",
   "metadata": {},
   "outputs": [],
   "source": [
    "class Point2D:\n",
    "    x = ValidatePoints(min_value = 0, max_vaue=800)\n",
    "    y = ValidatePoints(min_value = 0, max_vaue=800)\n",
    "\n",
    "    def __init__(self, x, y):\n",
    "        self.x = x\n",
    "        self.y = y\n",
    "\n",
    "    def __repr__(self):\n",
    "        return f'({self.x}, {self.y})'"
   ]
  },
  {
   "cell_type": "code",
   "execution_count": 5,
   "id": "77c2c53d-50bb-43bb-9455-93cad440ef8c",
   "metadata": {},
   "outputs": [],
   "source": [
    "#Define a descriptor to validate the polygon\n",
    "class Point2DSequence:\n",
    "    def __init__(self,length=None):\n",
    "        self.length = length\n",
    "       \n",
    "    def __set_name__(self,cls,name):\n",
    "        self.name = name\n",
    "\n",
    "    def __set__(self, instance, value):\n",
    "\n",
    "               \n",
    "        if not isinstance(value,abc.Sequence):\n",
    "            raise TypeError(f'{self.__class__.__name__}:{self.name} must be of type sequence.')\n",
    "            \n",
    "        if self.length is None :\n",
    "            raise ValueError(f'{self.__class__.__name__}:{self.name} must specify the number of vertices.')\n",
    "\n",
    "        if len(value) != self.length:\n",
    "            raise ValueError(f'{self.__class__.__name__}:{len(value)} points have been specified. {self.length} are needed')\n",
    "\n",
    "        list_of_vertices = []\n",
    "        \n",
    "        for index, item in enumerate(value):\n",
    "           \n",
    "            if isinstance(item, Point2D):\n",
    "                list_of_vertices.append(item)\n",
    "                \n",
    "            elif (\n",
    "                (isinstance(item, abc.Sequence)) \n",
    "                and len(item) == 2 \n",
    "                ):\n",
    "                  list_of_vertices.append(Point2D(*item))\n",
    "            else:\n",
    "                 raise TypeError(f'{self.__class__.__name__}:Element at index {index} must be Point2D or a (x,y) pair')\n",
    "      \n",
    "                          \n",
    "        instance.__dict__[self.name] = list_of_vertices\n",
    "\n",
    "    def __get__(self, instance, cls):\n",
    "        return instance.__dict__[self.name]\n",
    "    "
   ]
  },
  {
   "cell_type": "code",
   "execution_count": null,
   "id": "1e8d3651-1d57-4ae1-bbd8-6b3f29e44341",
   "metadata": {},
   "outputs": [],
   "source": [
    "class Polygon:\n",
    "    vertices = Point2DSequence(4)\n",
    "\n",
    "    def __init__(self, *vertices):\n",
    "        self.vertices = vertices\n",
    "\n",
    "    def __repr__(self):\n",
    "        return f'{self.vertices}'"
   ]
  },
  {
   "cell_type": "code",
   "execution_count": 28,
   "id": "5753619a-afc1-414e-9e2c-83c0b6c26d4f",
   "metadata": {},
   "outputs": [],
   "source": [
    "class Triangle(Polygon):\n",
    "    vertices=Point2DSequence(3)\n",
    "    "
   ]
  },
  {
   "cell_type": "code",
   "execution_count": 1,
   "id": "004b0c8a-8269-4e61-9a68-040d17bd786e",
   "metadata": {},
   "outputs": [
    {
     "ename": "NameError",
     "evalue": "name 'Triangle' is not defined",
     "output_type": "error",
     "traceback": [
      "\u001b[31m---------------------------------------------------------------------------\u001b[39m",
      "\u001b[31mNameError\u001b[39m                                 Traceback (most recent call last)",
      "\u001b[36mCell\u001b[39m\u001b[36m \u001b[39m\u001b[32mIn[1]\u001b[39m\u001b[32m, line 2\u001b[39m\n\u001b[32m      1\u001b[39m \u001b[38;5;28;01mtry\u001b[39;00m:\n\u001b[32m----> \u001b[39m\u001b[32m2\u001b[39m     t = \u001b[43mTriangle\u001b[49m((\u001b[32m20\u001b[39m,\u001b[32m300\u001b[39m),(\u001b[32m30\u001b[39m,\u001b[32m40\u001b[39m),(\u001b[32m0\u001b[39m,\u001b[32m50\u001b[39m))\n\u001b[32m      3\u001b[39m \u001b[38;5;28;01mexcept\u001b[39;00m \u001b[38;5;167;01mTypeError\u001b[39;00m \u001b[38;5;28;01mas\u001b[39;00m ex1:\n\u001b[32m      4\u001b[39m     \u001b[38;5;28mprint\u001b[39m(ex1)\n",
      "\u001b[31mNameError\u001b[39m: name 'Triangle' is not defined"
     ]
    }
   ],
   "source": [
    "try:\n",
    "    t = Triangle((20,300),(30,40),(0,50))\n",
    "except TypeError as ex1:\n",
    "    print(ex1)\n",
    "except ValueError as ex2:\n",
    "    print(ex2)\n",
    " \n"
   ]
  },
  {
   "cell_type": "code",
   "execution_count": 33,
   "id": "d6d15e49-f2ea-4742-b893-48b2474d7eb0",
   "metadata": {},
   "outputs": [],
   "source": [
    "class Quadrilateral(Polygon):\n",
    "    vertices = Point2DSequence(4)"
   ]
  },
  {
   "cell_type": "code",
   "execution_count": 34,
   "id": "b71bf880-6d4e-4b4a-9ff0-d8dca7a7bbaf",
   "metadata": {},
   "outputs": [],
   "source": [
    "q = Quadrilateral((0,30),(0,40),(0,100),(3,40))"
   ]
  },
  {
   "cell_type": "code",
   "execution_count": 204,
   "id": "cf228173-b9e7-4b5c-a492-22d6178e3911",
   "metadata": {},
   "outputs": [
    {
     "data": {
      "text/plain": [
       "([(0, 30), (0, 40), (0, 50)], [(0, 30), (0, 40), (0, 100), (3, 40)])"
      ]
     },
     "execution_count": 204,
     "metadata": {},
     "output_type": "execute_result"
    }
   ],
   "source": [
    "t, q"
   ]
  },
  {
   "cell_type": "code",
   "execution_count": null,
   "id": "ec36649c-9eab-43eb-8fcd-1608adddc906",
   "metadata": {},
   "outputs": [],
   "source": []
  }
 ],
 "metadata": {
  "kernelspec": {
   "display_name": "Python 3 (ipykernel)",
   "language": "python",
   "name": "python3"
  },
  "language_info": {
   "codemirror_mode": {
    "name": "ipython",
    "version": 3
   },
   "file_extension": ".py",
   "mimetype": "text/x-python",
   "name": "python",
   "nbconvert_exporter": "python",
   "pygments_lexer": "ipython3",
   "version": "3.13.2"
  }
 },
 "nbformat": 4,
 "nbformat_minor": 5
}
