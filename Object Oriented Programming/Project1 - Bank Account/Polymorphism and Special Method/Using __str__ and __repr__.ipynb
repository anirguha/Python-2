{
 "cells": [
  {
   "cell_type": "code",
   "execution_count": 10,
   "id": "dc329ad0-b001-44b8-ba8a-199c64330f8c",
   "metadata": {},
   "outputs": [
    {
     "name": "stdout",
     "output_type": "stream",
     "text": [
      "Entering str method\n",
      "Alex Entering str method\n",
      "Alex\n"
     ]
    }
   ],
   "source": [
    "#This code compares between __str__ and __repr__\n",
    "\n",
    "class Person:\n",
    "    def __init__(self, name, age):\n",
    "        self.name = name\n",
    "        self.age = age\n",
    "\n",
    "    def __repr__(self):\n",
    "        print('Entering repr method')\n",
    "        return f\"The person is '{self.name}' whose age is {self.age}\"\n",
    "\n",
    "    def __str__(self):\n",
    "        print('Entering str method')\n",
    "        return self.name\n",
    "\n",
    "p = Person('Alex', 20)\n",
    "c = p\n",
    "print(p, c)\n",
    "\n",
    "\n",
    "        "
   ]
  },
  {
   "cell_type": "code",
   "execution_count": null,
   "id": "c2a69e22-75a6-4a74-a55b-5e846d57e40e",
   "metadata": {},
   "outputs": [],
   "source": []
  }
 ],
 "metadata": {
  "kernelspec": {
   "display_name": "Python 3 (ipykernel)",
   "language": "python",
   "name": "python3"
  },
  "language_info": {
   "codemirror_mode": {
    "name": "ipython",
    "version": 3
   },
   "file_extension": ".py",
   "mimetype": "text/x-python",
   "name": "python",
   "nbconvert_exporter": "python",
   "pygments_lexer": "ipython3",
   "version": "3.13.3"
  }
 },
 "nbformat": 4,
 "nbformat_minor": 5
}
