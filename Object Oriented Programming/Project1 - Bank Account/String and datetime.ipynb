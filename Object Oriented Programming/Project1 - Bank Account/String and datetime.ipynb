{
 "cells": [
  {
   "cell_type": "code",
   "execution_count": 12,
   "id": "2a4199e7-ee82-4988-a972-5f7f740e4ebf",
   "metadata": {},
   "outputs": [
    {
     "name": "stdout",
     "output_type": "stream",
     "text": [
      "27\n"
     ]
    }
   ],
   "source": [
    "from datetime import datetime, timezone\n",
    "dt_str = datetime.now(timezone.utc).strftime('%M')\n",
    "print(dt_str)"
   ]
  },
  {
   "cell_type": "code",
   "execution_count": null,
   "id": "bf15dd7a-5b6f-45f8-a630-8b807eef35ae",
   "metadata": {},
   "outputs": [],
   "source": []
  }
 ],
 "metadata": {
  "kernelspec": {
   "display_name": "Python 3 (ipykernel)",
   "language": "python",
   "name": "python3"
  },
  "language_info": {
   "codemirror_mode": {
    "name": "ipython",
    "version": 3
   },
   "file_extension": ".py",
   "mimetype": "text/x-python",
   "name": "python",
   "nbconvert_exporter": "python",
   "pygments_lexer": "ipython3",
   "version": "3.13.2"
  }
 },
 "nbformat": 4,
 "nbformat_minor": 5
}
