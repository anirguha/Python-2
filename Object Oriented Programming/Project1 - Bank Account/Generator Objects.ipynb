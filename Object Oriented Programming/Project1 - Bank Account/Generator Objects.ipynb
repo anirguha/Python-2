{
 "cells": [
  {
   "cell_type": "code",
   "execution_count": 28,
   "id": "82a46323-2a99-48bd-a8c7-e876c53ab7af",
   "metadata": {},
   "outputs": [
    {
     "data": {
      "text/plain": [
       "101"
      ]
     },
     "execution_count": 28,
     "metadata": {},
     "output_type": "execute_result"
    }
   ],
   "source": [
    "#This code increments a transaction counter through a generator\n",
    "#everytime it is called.\n",
    "\n",
    "def transactionid_generator(num):\n",
    "    while True:\n",
    "        num += 1\n",
    "        yield num\n",
    "\n",
    "t = transactionid_generator(100)\n",
    "next(t)"
   ]
  },
  {
   "cell_type": "code",
   "execution_count": 29,
   "id": "dc91ff1e-4fca-49b6-8679-5ebf26073c80",
   "metadata": {},
   "outputs": [],
   "source": [
    "class Account:\n",
    "    transaction_num = transactionid_generator(100)\n",
    "\n",
    "    def trasactionid_generate(self):\n",
    "        new_transaction_id = next(Account.transaction_num)\n",
    "        return new_transaction_id\n",
    "        \n",
    "\n",
    "        "
   ]
  },
  {
   "cell_type": "code",
   "execution_count": 30,
   "id": "1be25e22-767d-47fb-bb72-aee09ad6eb18",
   "metadata": {},
   "outputs": [
    {
     "name": "stdout",
     "output_type": "stream",
     "text": [
      "101\n",
      "102\n"
     ]
    }
   ],
   "source": [
    "acct1 = Account()\n",
    "acct2 = Account()\n",
    "print(acct1.trasactionid_generate())\n",
    "print(acct1.trasactionid_generate())"
   ]
  },
  {
   "cell_type": "code",
   "execution_count": 35,
   "id": "3d33d38e-e479-4d90-b864-e966dfc53e39",
   "metadata": {},
   "outputs": [],
   "source": [
    "# Method - 2: Using Itertools\n",
    "import itertools\n",
    "\n",
    "class Account:\n",
    "    trans_num = itertools.count(start=100)\n",
    "\n",
    "    def trasactionid_generate(self):\n",
    "        new_transaction_id = next(Account.trans_num)\n",
    "        return new_transaction_id\n",
    "        "
   ]
  },
  {
   "cell_type": "code",
   "execution_count": 36,
   "id": "82c3573b-5f33-45cb-a1d0-f620f19600d1",
   "metadata": {},
   "outputs": [
    {
     "name": "stdout",
     "output_type": "stream",
     "text": [
      "100\n",
      "101\n"
     ]
    }
   ],
   "source": [
    "acct1 = Account()\n",
    "acct2 = Account()\n",
    "print(acct1.trasactionid_generate())\n",
    "print(acct1.trasactionid_generate())"
   ]
  },
  {
   "cell_type": "code",
   "execution_count": 45,
   "id": "f7d7fed9-e40a-4199-9e58-564fb3bbc4b7",
   "metadata": {},
   "outputs": [
    {
     "name": "stdout",
     "output_type": "stream",
     "text": [
      "<class 'generator'>\n",
      "0\n",
      "1\n",
      "4\n",
      "9\n",
      "16\n",
      "False\n"
     ]
    }
   ],
   "source": [
    "double = (x**2 for x in range(5))\n",
    "\n",
    "print(type(double))\n",
    "for num in double:\n",
    "    print(num)\n",
    "print(callable(double))"
   ]
  },
  {
   "cell_type": "code",
   "execution_count": 47,
   "id": "50624288-2133-47c5-9858-9e5b60eaabc6",
   "metadata": {},
   "outputs": [
    {
     "data": {
      "text/plain": [
       "True"
      ]
     },
     "execution_count": 47,
     "metadata": {},
     "output_type": "execute_result"
    }
   ],
   "source": [
    "isinstance(100, int)"
   ]
  },
  {
   "cell_type": "code",
   "execution_count": null,
   "id": "3360d38d-e733-4147-8254-59aee1ac0568",
   "metadata": {},
   "outputs": [],
   "source": []
  }
 ],
 "metadata": {
  "kernelspec": {
   "display_name": "Python 3 (ipykernel)",
   "language": "python",
   "name": "python3"
  },
  "language_info": {
   "codemirror_mode": {
    "name": "ipython",
    "version": 3
   },
   "file_extension": ".py",
   "mimetype": "text/x-python",
   "name": "python",
   "nbconvert_exporter": "python",
   "pygments_lexer": "ipython3",
   "version": "3.13.2"
  }
 },
 "nbformat": 4,
 "nbformat_minor": 5
}
