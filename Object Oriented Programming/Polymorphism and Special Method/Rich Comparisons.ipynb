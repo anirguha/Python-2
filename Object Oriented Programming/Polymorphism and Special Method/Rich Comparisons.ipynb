{
 "cells": [
  {
   "cell_type": "code",
   "execution_count": 34,
   "id": "4c1490a1-7f05-44f1-86ad-5c63d4615914",
   "metadata": {},
   "outputs": [],
   "source": [
    "from math import sqrt"
   ]
  },
  {
   "cell_type": "code",
   "execution_count": 58,
   "id": "9853ec75-719e-4953-af41-d5885d095623",
   "metadata": {},
   "outputs": [],
   "source": [
    "#defining __eq__ method\n",
    "class Vector:\n",
    "    def __init__(self, x, y):\n",
    "        self.x = x\n",
    "        self.y = y\n",
    "\n",
    "    def __repr__(self):\n",
    "        return f'Vector({self.x}, {self.y})'\n",
    "\n",
    "    def __eq__(self, other):\n",
    "        print('calling __eq__ method')\n",
    "\n",
    "        if isinstance(other, tuple):\n",
    "            other = Vector(*other)\n",
    "        if isinstance(other, Vector):\n",
    "            return self.x == other.x and self.y == other.y\n",
    "        raise NotImplemented\n",
    "\n",
    "    def __lt__(self, other):\n",
    "        print('calling __lt__ method')\n",
    "\n",
    "        if isinstance(other, tuple):\n",
    "            other = Vector(*other)\n",
    "        if isinstance(other, Vector):\n",
    "            return sqrt(self.x **2 + self.y **2) < sqrt(other.x **2 + other.y **2)\n",
    "        raise NotImplemented\n",
    "\n",
    "    def __gt__(self, other):\n",
    "        print('calling __gt__ method')\n",
    "\n",
    "        if isinstance(other, tuple):\n",
    "            other = Vector(*other)\n",
    "        if isinstance(other, Vector):\n",
    "            return sqrt(self.x **2 + self.y **2) > sqrt(other.x **2 + other.y **2)\n",
    "        raise NotImplemented\n"
   ]
  },
  {
   "cell_type": "code",
   "execution_count": 61,
   "id": "fd35d63c-73ae-47f1-8344-001427599d26",
   "metadata": {},
   "outputs": [
    {
     "data": {
      "text/plain": [
       "(Vector(0, 0), Vector(0, 0))"
      ]
     },
     "execution_count": 61,
     "metadata": {},
     "output_type": "execute_result"
    }
   ],
   "source": [
    "v1 = Vector(0,0)\n",
    "v2 = Vector(0,0)\n",
    "v3 = (0, 0)\n",
    "v1, v2"
   ]
  },
  {
   "cell_type": "code",
   "execution_count": 62,
   "id": "3d1e3e5d-275d-440e-9fa6-73a3f3da0668",
   "metadata": {},
   "outputs": [
    {
     "name": "stdout",
     "output_type": "stream",
     "text": [
      "calling __eq__ method\n",
      "calling __eq__ method\n",
      "calling __lt__ method\n",
      "calling __lt__ method\n"
     ]
    },
    {
     "data": {
      "text/plain": [
       "True"
      ]
     },
     "execution_count": 62,
     "metadata": {},
     "output_type": "execute_result"
    }
   ],
   "source": [
    "v2 = (3, 4)\n",
    "v1 == v2, v1==v3, v1 is v2\n",
    "v1 < v2\n",
    "v2 > v1"
   ]
  },
  {
   "cell_type": "code",
   "execution_count": null,
   "id": "0376dd83-205d-4738-85c2-dffd3646a5a2",
   "metadata": {},
   "outputs": [],
   "source": []
  }
 ],
 "metadata": {
  "kernelspec": {
   "display_name": "Python 3 (ipykernel)",
   "language": "python",
   "name": "python3"
  },
  "language_info": {
   "codemirror_mode": {
    "name": "ipython",
    "version": 3
   },
   "file_extension": ".py",
   "mimetype": "text/x-python",
   "name": "python",
   "nbconvert_exporter": "python",
   "pygments_lexer": "ipython3",
   "version": "3.13.2"
  }
 },
 "nbformat": 4,
 "nbformat_minor": 5
}
