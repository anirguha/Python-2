{
 "cells": [
  {
   "cell_type": "code",
   "execution_count": 19,
   "id": "b644c656-0851-4a68-9b26-36ac2c8822f2",
   "metadata": {},
   "outputs": [],
   "source": [
    "#Hash and Equality\n",
    "class Person:\n",
    "    def __init__(self, name):\n",
    "        self._name = name\n",
    "\n",
    "    @property\n",
    "    def name(self):\n",
    "        return self._name\n",
    "\n",
    "    def __hash__(self):\n",
    "        return hash(self.name)\n",
    "\n",
    "    def __eq__(self, other):\n",
    "        return isinstance(other, Person) and self.name == other.name\n",
    "\n",
    "    def __repr__(self):\n",
    "        return f'{self.name}'"
   ]
  },
  {
   "cell_type": "code",
   "execution_count": 20,
   "id": "a6a29f1c-a7d8-4cef-9097-32c36a0e16ff",
   "metadata": {},
   "outputs": [
    {
     "data": {
      "text/plain": [
       "(True, True)"
      ]
     },
     "execution_count": 20,
     "metadata": {},
     "output_type": "execute_result"
    }
   ],
   "source": [
    "p1 = Person('Eric')\n",
    "p2 = Person('Eric')\n",
    "p3 = Person('Amanda')\n",
    "\n",
    "p1==p2, hash(p1) == hash(p2)\n",
    "# p1==p3, hash(p1) == hash(p3)?"
   ]
  },
  {
   "cell_type": "code",
   "execution_count": 21,
   "id": "32693a35-ddd6-4c31-a612-31fa751a0cf6",
   "metadata": {},
   "outputs": [],
   "source": [
    "d = {p1: 'Eric'}"
   ]
  },
  {
   "cell_type": "code",
   "execution_count": 22,
   "id": "2e1edd81-6e66-4c85-a182-a4b6bec635d9",
   "metadata": {},
   "outputs": [
    {
     "data": {
      "text/plain": [
       "{Eric: 'Eric'}"
      ]
     },
     "execution_count": 22,
     "metadata": {},
     "output_type": "execute_result"
    }
   ],
   "source": [
    "d"
   ]
  },
  {
   "cell_type": "code",
   "execution_count": null,
   "id": "2aacc037-8e6e-4904-80fd-42cf28705a6a",
   "metadata": {},
   "outputs": [],
   "source": []
  }
 ],
 "metadata": {
  "kernelspec": {
   "display_name": "Python 3 (ipykernel)",
   "language": "python",
   "name": "python3"
  },
  "language_info": {
   "codemirror_mode": {
    "name": "ipython",
    "version": 3
   },
   "file_extension": ".py",
   "mimetype": "text/x-python",
   "name": "python",
   "nbconvert_exporter": "python",
   "pygments_lexer": "ipython3",
   "version": "3.13.2"
  }
 },
 "nbformat": 4,
 "nbformat_minor": 5
}
