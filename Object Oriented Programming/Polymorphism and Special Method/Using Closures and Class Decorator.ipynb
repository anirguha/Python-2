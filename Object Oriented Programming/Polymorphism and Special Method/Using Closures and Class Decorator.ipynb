{
 "cells": [
  {
   "cell_type": "code",
   "execution_count": 24,
   "id": "af0ecae4-c768-4844-8cce-0919313733af",
   "metadata": {},
   "outputs": [],
   "source": [
    "#Calculate the running time of a function\n",
    "#Method 1 - using closures"
   ]
  },
  {
   "cell_type": "code",
   "execution_count": 25,
   "id": "668ce840-d1a9-4646-9e18-fd0ea0f948b4",
   "metadata": {},
   "outputs": [],
   "source": [
    "from time import perf_counter, sleep\n",
    "from functools import wraps"
   ]
  },
  {
   "cell_type": "code",
   "execution_count": 26,
   "id": "895120e5-1246-48b5-9d9a-13cbea9a8dad",
   "metadata": {},
   "outputs": [],
   "source": [
    "def profiler(fn):\n",
    "    _counter = 0\n",
    "    _time_elapsed = 0\n",
    "    _average_time = 0\n",
    "\n",
    "    @wraps(fn)\n",
    "    def inner(*args, **kwargs):\n",
    "        nonlocal _counter\n",
    "        nonlocal _time_elapsed\n",
    "        nonlocal _average_time\n",
    "        _counter += 1\n",
    "        start = perf_counter()\n",
    "        result = fn(*args, **kwargs)\n",
    "        end = perf_counter()\n",
    "        _time_elapsed += (end - start)\n",
    "        _average_time = _time_elapsed/_counter\n",
    "        return result\n",
    "\n",
    "    def counter():\n",
    "        return _counter\n",
    "\n",
    "    def average_time():\n",
    "        return _average_time\n",
    "\n",
    "    inner.counter = counter\n",
    "    inner.average_time = average_time\n",
    "\n",
    "    return inner"
   ]
  },
  {
   "cell_type": "code",
   "execution_count": 27,
   "id": "39a11a53-28da-4985-89e4-85a4b9a1fcd6",
   "metadata": {},
   "outputs": [],
   "source": [
    "from random import random\n",
    "@profiler\n",
    "def func1():\n",
    "    sleep(random())"
   ]
  },
  {
   "cell_type": "code",
   "execution_count": 28,
   "id": "04ac6916-15b3-474a-808e-cf8b6777c83c",
   "metadata": {},
   "outputs": [
    {
     "data": {
      "text/plain": [
       "(None, None)"
      ]
     },
     "execution_count": 28,
     "metadata": {},
     "output_type": "execute_result"
    }
   ],
   "source": [
    "func1(), func1()"
   ]
  },
  {
   "cell_type": "markdown",
   "id": "2691362c-bc2b-4859-8a59-9564278625d6",
   "metadata": {},
   "source": [
    "func1.average_time"
   ]
  },
  {
   "cell_type": "code",
   "execution_count": 29,
   "id": "583ab92c-d3ba-4967-8a3a-831765d97cea",
   "metadata": {},
   "outputs": [
    {
     "data": {
      "text/plain": [
       "0.6427032079999435"
      ]
     },
     "execution_count": 29,
     "metadata": {},
     "output_type": "execute_result"
    }
   ],
   "source": [
    "func1.average_time()"
   ]
  },
  {
   "cell_type": "code",
   "execution_count": 23,
   "id": "e3794eba-eb83-4768-87d8-de6fc5acff44",
   "metadata": {},
   "outputs": [
    {
     "data": {
      "text/plain": [
       "4"
      ]
     },
     "execution_count": 23,
     "metadata": {},
     "output_type": "execute_result"
    }
   ],
   "source": [
    "func1.counter()"
   ]
  },
  {
   "cell_type": "code",
   "execution_count": 30,
   "id": "e84f75d0-9734-4c83-9de4-641ce8835224",
   "metadata": {},
   "outputs": [],
   "source": [
    "#Method 2 - using class decorator"
   ]
  },
  {
   "cell_type": "code",
   "execution_count": 60,
   "id": "50385c06-10a0-4c1d-941d-540318a6fc5f",
   "metadata": {},
   "outputs": [],
   "source": [
    "class Profiler:\n",
    "    def __init__(self, fn):\n",
    "        self.counter = 0\n",
    "        self.time_elapsed = 0\n",
    "        self.fn = fn\n",
    "\n",
    "    def __call__(self, *args, **kwargs):\n",
    "        self.counter += 1\n",
    "        start = perf_counter()\n",
    "        result = self.fn(*args, **kwargs)\n",
    "        end = perf_counter()\n",
    "        self.time_elapsed += (end - start)\n",
    "        return result\n",
    "\n",
    "    @property\n",
    "    def avg_time(self):\n",
    "        return self.time_elapsed/self.counter\n",
    "\n",
    "\n",
    "            "
   ]
  },
  {
   "cell_type": "code",
   "execution_count": 61,
   "id": "93321502-03db-4055-8b6f-2a732521389b",
   "metadata": {},
   "outputs": [],
   "source": [
    "@Profiler\n",
    "def func1(a):\n",
    "    sleep(random())\n",
    "    return a\n"
   ]
  },
  {
   "cell_type": "code",
   "execution_count": 62,
   "id": "d00a9edc-3c9a-4750-87b0-f9171b59de29",
   "metadata": {},
   "outputs": [
    {
     "data": {
      "text/plain": [
       "__main__.Profiler"
      ]
     },
     "execution_count": 62,
     "metadata": {},
     "output_type": "execute_result"
    }
   ],
   "source": [
    "type(func1)"
   ]
  },
  {
   "cell_type": "code",
   "execution_count": 63,
   "id": "7dd38da3-7dee-46a6-868f-05399cea9728",
   "metadata": {},
   "outputs": [
    {
     "data": {
      "text/plain": [
       "True"
      ]
     },
     "execution_count": 63,
     "metadata": {},
     "output_type": "execute_result"
    }
   ],
   "source": [
    "callable(func1)"
   ]
  },
  {
   "cell_type": "code",
   "execution_count": 69,
   "id": "1460bdcf-a775-43f0-971f-317223010662",
   "metadata": {},
   "outputs": [
    {
     "data": {
      "text/plain": [
       "(2, 3)"
      ]
     },
     "execution_count": 69,
     "metadata": {},
     "output_type": "execute_result"
    }
   ],
   "source": [
    "func1(2), func1(3)"
   ]
  },
  {
   "cell_type": "code",
   "execution_count": 70,
   "id": "f4c7cd65-0818-481e-b932-856034ac5509",
   "metadata": {},
   "outputs": [
    {
     "data": {
      "text/plain": [
       "4"
      ]
     },
     "execution_count": 70,
     "metadata": {},
     "output_type": "execute_result"
    }
   ],
   "source": [
    "func1.counter"
   ]
  },
  {
   "cell_type": "code",
   "execution_count": 71,
   "id": "f26bd936-3b7e-44f0-a59d-29e1f686b916",
   "metadata": {},
   "outputs": [
    {
     "data": {
      "text/plain": [
       "0.5221269167500395"
      ]
     },
     "execution_count": 71,
     "metadata": {},
     "output_type": "execute_result"
    }
   ],
   "source": [
    "func1.avg_time"
   ]
  },
  {
   "cell_type": "code",
   "execution_count": null,
   "id": "3478d284-ff30-4c7f-8a79-ff3ecc58438b",
   "metadata": {},
   "outputs": [],
   "source": []
  }
 ],
 "metadata": {
  "kernelspec": {
   "display_name": "Python 3 (ipykernel)",
   "language": "python",
   "name": "python3"
  },
  "language_info": {
   "codemirror_mode": {
    "name": "ipython",
    "version": 3
   },
   "file_extension": ".py",
   "mimetype": "text/x-python",
   "name": "python",
   "nbconvert_exporter": "python",
   "pygments_lexer": "ipython3",
   "version": "3.13.3"
  }
 },
 "nbformat": 4,
 "nbformat_minor": 5
}
