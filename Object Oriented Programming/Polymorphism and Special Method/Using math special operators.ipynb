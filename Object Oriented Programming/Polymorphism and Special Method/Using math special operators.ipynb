{
 "cells": [
  {
   "cell_type": "code",
   "execution_count": 87,
   "id": "e714ed1b-fe19-4b42-b8a5-0c78872fd819",
   "metadata": {},
   "outputs": [],
   "source": [
    "from numbers import Real\n",
    "from math import sqrt"
   ]
  },
  {
   "cell_type": "code",
   "execution_count": 88,
   "id": "df57574d-a149-4044-a43d-c47f4bbad3a1",
   "metadata": {},
   "outputs": [],
   "source": [
    "class Vectors:\n",
    "    def __init__(self, *elements):\n",
    "        if len(elements) <= 0:\n",
    "            raise ValueError('Cannot create empty vector')\n",
    "        for element in elements:\n",
    "            if not isinstance(element, Real):\n",
    "                raise ValueError('Elements of a vector must be real')\n",
    "        self._elements = tuple(elements)\n",
    "\n",
    "    #define length of the vector method\n",
    "    def __len__(self):\n",
    "        return len(self.elements)\n",
    "\n",
    "    @property\n",
    "    def elements(self):\n",
    "        return self._elements\n",
    "\n",
    "    def __repr__(self):\n",
    "        return f'Vector{self.elements}'\n",
    "\n",
    "    def validate_type_and_dimension(self, other):\n",
    "        return isinstance(other, Vectors) and len(other) == len(self)\n",
    "\n",
    "    def __add__(self, other):\n",
    "        if not self.validate_type_and_dimension(other):\n",
    "            raise NotImplemented\n",
    "        elements = (x + y for x, y in zip(self.elements, other.elements))\n",
    "        return Vectors(*elements)\n",
    "\n",
    "    def __sub__(self, other):\n",
    "        if not self.validate_type_and_dimension(other):\n",
    "            raise NotImplemented\n",
    "        elements = (x - y for x, y in zip(self.elements, other.elements))\n",
    "        return Vectors(*elements)\n",
    "\n",
    "    def __mul__(self, other):\n",
    "\n",
    "        #scalar multiplication of vectors\n",
    "        if isinstance(other, Real):\n",
    "            elements = (x * other for x in self.elements)\n",
    "            return Vectors(*elements)\n",
    "\n",
    "       #dot product of vectors\n",
    "        if self.validate_type_and_dimension(other):\n",
    "            elements = (x * y for x, y in zip(self.elements, other.elements))\n",
    "            return sum(elements)\n",
    "        \n",
    "        return NotImplemented\n",
    "\n",
    "    def __rmul__(self, other):\n",
    "        return self * other\n",
    "\n",
    "    def __iadd__(self, other):\n",
    "        return self + other\n",
    "\n",
    "    def __neg__(self):\n",
    "        if not self.validate_type_and_dimension(self):\n",
    "            raise NotImplemented\n",
    "        elements = (-x for x in self.elements)\n",
    "        return Vectors(*elements)\n",
    "\n",
    "    def __abs__(self):\n",
    "        if not self.validate_type_and_dimension(self):\n",
    "            raise NotImplemented\n",
    "        return sqrt(sum(x**2 for x in self.elements))\n",
    "        \n",
    "        "
   ]
  },
  {
   "cell_type": "code",
   "execution_count": 89,
   "id": "a0b70c97-585f-4824-ac60-101139a3b8d4",
   "metadata": {},
   "outputs": [
    {
     "data": {
      "text/plain": [
       "Vector(1, 2, 3)"
      ]
     },
     "execution_count": 89,
     "metadata": {},
     "output_type": "execute_result"
    }
   ],
   "source": [
    "v = Vectors(1,2,3)\n",
    "v.__len__()\n",
    "v.elements\n",
    "v"
   ]
  },
  {
   "cell_type": "code",
   "execution_count": 90,
   "id": "441de2ed-539f-4c96-8abf-5f5367e12665",
   "metadata": {},
   "outputs": [
    {
     "name": "stdout",
     "output_type": "stream",
     "text": [
      "4709302352\n",
      "4706383696 Vector(3, 5, 7)\n",
      "4703884416\n",
      "4706383952 Vector(-5, -6)\n"
     ]
    },
    {
     "data": {
      "text/plain": [
       "3.7416573867739413"
      ]
     },
     "execution_count": 90,
     "metadata": {},
     "output_type": "execute_result"
    }
   ],
   "source": [
    "v1 = Vectors(1 ,2, 3)\n",
    "v2 = Vectors(2, 3, 4)\n",
    "v3 = Vectors(5, 6)\n",
    "print(id(v1))\n",
    "\n",
    "v1 + v2\n",
    "v1 - v2\n",
    "v1 * 10\n",
    "10 * v1\n",
    "v1 * v2\n",
    "v1 += v2\n",
    "v4 = -v3\n",
    "print(id(v1), v1)\n",
    "print(id(v3))\n",
    "print(id(v4), v4)\n",
    "abs(Vectors(-1, -2, -3))"
   ]
  },
  {
   "cell_type": "code",
   "execution_count": 116,
   "id": "68c07d23-ce21-4240-9d64-6e7ae47eea80",
   "metadata": {},
   "outputs": [],
   "source": [
    "class Person:\n",
    "    def __init__(self, name):\n",
    "        self.name = name\n",
    "\n",
    "    def __repr__(self):\n",
    "        return f\"{self.name}\""
   ]
  },
  {
   "cell_type": "code",
   "execution_count": 117,
   "id": "9c9c389b-dbbb-42aa-b08a-732fabbef9b0",
   "metadata": {},
   "outputs": [
    {
     "data": {
      "text/plain": [
       "Alex"
      ]
     },
     "execution_count": 117,
     "metadata": {},
     "output_type": "execute_result"
    }
   ],
   "source": [
    "p = Person('Alex')\n",
    "p"
   ]
  },
  {
   "cell_type": "code",
   "execution_count": 131,
   "id": "04db7847-39cb-477e-ba5d-7246dba012a8",
   "metadata": {},
   "outputs": [],
   "source": [
    "class Family:\n",
    "    def __init__(self, mother, father):\n",
    "        self.mother = mother\n",
    "        self.father = father\n",
    "        self.children = []\n",
    "\n",
    "    def __iadd__(self, other):\n",
    "        self.children.append(other)\n",
    "        return self\n",
    "\n",
    "    def __repr__(self):\n",
    "        child_names = ', '.join(str(child) for child in self.children)\n",
    "        return (f\"Family with mother {self.mother}; father {self.father}; \" \n",
    "                f\"and children: {child_names}\")"
   ]
  },
  {
   "cell_type": "code",
   "execution_count": 134,
   "id": "b1976d23-12ee-4237-9bf9-06507fafb123",
   "metadata": {},
   "outputs": [
    {
     "name": "stdout",
     "output_type": "stream",
     "text": [
      "Bob Joanne\n"
     ]
    }
   ],
   "source": [
    "f = Family(Person('Bertha'), Person('Eric'))\n",
    "f += Person('Bob')\n",
    "f += Person('Joanne')\n",
    "f\n",
    "print(*f.children)"
   ]
  },
  {
   "cell_type": "code",
   "execution_count": null,
   "id": "420ab279-0b03-4f91-b667-8e62fe86e9a1",
   "metadata": {},
   "outputs": [],
   "source": []
  }
 ],
 "metadata": {
  "kernelspec": {
   "display_name": "Python 3 (ipykernel)",
   "language": "python",
   "name": "python3"
  },
  "language_info": {
   "codemirror_mode": {
    "name": "ipython",
    "version": 3
   },
   "file_extension": ".py",
   "mimetype": "text/x-python",
   "name": "python",
   "nbconvert_exporter": "python",
   "pygments_lexer": "ipython3",
   "version": "3.13.2"
  }
 },
 "nbformat": 4,
 "nbformat_minor": 5
}
