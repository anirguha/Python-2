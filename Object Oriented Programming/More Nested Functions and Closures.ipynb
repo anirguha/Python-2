{
 "cells": [
  {
   "cell_type": "code",
   "execution_count": 4,
   "id": "8ce940c9-3786-44ee-b082-db7071618051",
   "metadata": {
    "tags": []
   },
   "outputs": [
    {
     "data": {
      "text/plain": [
       "12.0"
      ]
     },
     "execution_count": 4,
     "metadata": {},
     "output_type": "execute_result"
    }
   ],
   "source": [
    "def cumulative_average():\n",
    "    num_list = []\n",
    "    def calculate_average(num):\n",
    "        num_list.append(num)\n",
    "        return sum(num_list)/len(num_list)\n",
    "    return calculate_average\n",
    "\n",
    "##Create Closure function\n",
    "num_average = cumulative_average()\n",
    "num_average(12)"
   ]
  },
  {
   "cell_type": "code",
   "execution_count": 2,
   "id": "7fa42525-4534-4b8d-9a2a-5db02eb26f53",
   "metadata": {
    "tags": []
   },
   "outputs": [
    {
     "data": {
      "text/plain": [
       "12.5"
      ]
     },
     "execution_count": 2,
     "metadata": {},
     "output_type": "execute_result"
    }
   ],
   "source": [
    "num_average(13)"
   ]
  },
  {
   "cell_type": "code",
   "execution_count": 3,
   "id": "f181f02e-cb66-4650-9b7e-d4775f21b1cd",
   "metadata": {
    "tags": []
   },
   "outputs": [
    {
     "data": {
      "text/plain": [
       "13.333333333333334"
      ]
     },
     "execution_count": 3,
     "metadata": {},
     "output_type": "execute_result"
    }
   ],
   "source": [
    "num_average(15)"
   ]
  },
  {
   "cell_type": "code",
   "execution_count": null,
   "id": "2a8a5970-458e-421f-94da-ea177c725f4c",
   "metadata": {},
   "outputs": [],
   "source": []
  }
 ],
 "metadata": {
  "kernelspec": {
   "display_name": "Python 3 (ipykernel)",
   "language": "python",
   "name": "python3"
  },
  "language_info": {
   "codemirror_mode": {
    "name": "ipython",
    "version": 3
   },
   "file_extension": ".py",
   "mimetype": "text/x-python",
   "name": "python",
   "nbconvert_exporter": "python",
   "pygments_lexer": "ipython3",
   "version": "3.13.2"
  }
 },
 "nbformat": 4,
 "nbformat_minor": 5
}
