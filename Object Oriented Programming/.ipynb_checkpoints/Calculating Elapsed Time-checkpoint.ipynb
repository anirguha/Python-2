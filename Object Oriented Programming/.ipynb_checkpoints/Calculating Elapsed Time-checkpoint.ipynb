{
 "cells": [
  {
   "cell_type": "markdown",
   "id": "a51cce3f-a930-4632-9f6e-b4d097e0ea44",
   "metadata": {},
   "source": [
    "We're going to create a Timer class that will allow us to get the current time (in both UTC and some timezone), as well as record start/stop times.\n",
    "\n",
    "We want to have the same timezone for all instances of our Timer class with an easy way to change the timezone for all instances when needed.\n",
    "\n",
    "If you need to work with timezones, I recommend you use the pyrz 3rd party library. Here, I'll just use the standard library, which is definitely not as easy to use as pytz."
   ]
  },
  {
   "cell_type": "code",
   "execution_count": 1,
   "id": "9a816092-c82b-4871-a6ed-42ef5b01f2ea",
   "metadata": {},
   "outputs": [],
   "source": [
    "from datetime import datetime, timezone, timedelta\n",
    "\n",
    "class Timer:\n",
    "    tz = timezone.utc  # class variable to store the timezone - default to UTC\n",
    "    \n",
    "    @classmethod\n",
    "    def set_tz(cls, offset, name):\n",
    "        cls.tz = timezone(timedelta(hours=offset), name)"
   ]
  },
  {
   "cell_type": "markdown",
   "id": "0a4f7c27-f4ba-4fe2-a05e-9c97148f7a56",
   "metadata": {},
   "source": [
    "tz is a class attribute, and we can set it using a class method set_timezone - any instances will share the same tz value (unless we override it at the instance level)"
   ]
  },
  {
   "cell_type": "code",
   "execution_count": 5,
   "id": "6cbd2b36-f065-4d5e-a365-70e76342da78",
   "metadata": {},
   "outputs": [],
   "source": [
    "Timer.set_tz(-7, 'MST')"
   ]
  },
  {
   "cell_type": "code",
   "execution_count": 6,
   "id": "12fa929f-ef2e-4b03-874d-854f7493ef38",
   "metadata": {},
   "outputs": [
    {
     "data": {
      "text/plain": [
       "datetime.timezone(datetime.timedelta(days=-1, seconds=61200), 'MST')"
      ]
     },
     "execution_count": 6,
     "metadata": {},
     "output_type": "execute_result"
    }
   ],
   "source": [
    "Timer.tz"
   ]
  },
  {
   "cell_type": "code",
   "execution_count": 8,
   "id": "b661ba98-2bec-4e64-ad47-f33f7417bc48",
   "metadata": {},
   "outputs": [
    {
     "data": {
      "text/plain": [
       "(datetime.timezone(datetime.timedelta(days=-1, seconds=61200), 'MST'),\n",
       " datetime.timezone(datetime.timedelta(days=-1, seconds=61200), 'MST'))"
      ]
     },
     "execution_count": 8,
     "metadata": {},
     "output_type": "execute_result"
    }
   ],
   "source": [
    "t1 = Timer()\n",
    "t2 = Timer()\n",
    "t1.tz, t2.tz"
   ]
  },
  {
   "cell_type": "markdown",
   "id": "20d12f27-5a74-48f0-85db-93a744d70be7",
   "metadata": {},
   "source": [
    "Next we want a function to return the current UTC time. Obviously this has nothing to do with either the class or the instance, so it is a prime candidate for a static method:"
   ]
  },
  {
   "cell_type": "code",
   "execution_count": 9,
   "id": "f0df7155-d6b0-4e00-99c3-e357411054b0",
   "metadata": {},
   "outputs": [],
   "source": [
    "class Timer:\n",
    "    tz = timezone.utc  # class variable to store the timezone - default to UTC\n",
    "    \n",
    "    @staticmethod\n",
    "    def current_dt_utc():\n",
    "        return datetime.now(timezone.utc)\n",
    "    \n",
    "    @classmethod\n",
    "    def set_tz(cls, offset, name):\n",
    "        cls.tz = timezone(timedelta(hours=offset), name)"
   ]
  },
  {
   "cell_type": "code",
   "execution_count": 10,
   "id": "105cb884-9923-461f-810c-db0097d06678",
   "metadata": {},
   "outputs": [
    {
     "data": {
      "text/plain": [
       "datetime.datetime(2025, 5, 3, 21, 30, 4, 505878, tzinfo=datetime.timezone.utc)"
      ]
     },
     "execution_count": 10,
     "metadata": {},
     "output_type": "execute_result"
    }
   ],
   "source": [
    "Timer.current_dt_utc()"
   ]
  },
  {
   "cell_type": "code",
   "execution_count": 11,
   "id": "e89a3816-c8c2-4054-8c5a-faba55ee4f86",
   "metadata": {},
   "outputs": [],
   "source": [
    "t = Timer()"
   ]
  },
  {
   "cell_type": "code",
   "execution_count": 12,
   "id": "4c0477db-f41b-4f8c-8b78-779b06df1617",
   "metadata": {},
   "outputs": [
    {
     "data": {
      "text/plain": [
       "datetime.datetime(2025, 5, 3, 21, 30, 30, 366276, tzinfo=datetime.timezone.utc)"
      ]
     },
     "execution_count": 12,
     "metadata": {},
     "output_type": "execute_result"
    }
   ],
   "source": [
    "t.current_dt_utc()"
   ]
  },
  {
   "cell_type": "markdown",
   "id": "760dda20-9040-4aa1-a824-539a24369b74",
   "metadata": {},
   "source": [
    "Next we want a method that will return the current time based on the set time zone. Obviously the time zone is a class variable, so we'll need to access that, but we don't need any instance data, so this is a prime candidate for a class method:"
   ]
  },
  {
   "cell_type": "code",
   "execution_count": 13,
   "id": "40233219-37ef-4e3c-9d72-b5213135fe30",
   "metadata": {},
   "outputs": [],
   "source": [
    "class Timer:\n",
    "    tz = timezone.utc  # class variable to store the timezone - default to UTC\n",
    "    \n",
    "    @staticmethod\n",
    "    def current_dt_utc():\n",
    "        return datetime.now(timezone.utc)\n",
    "    \n",
    "    @classmethod\n",
    "    def set_tz(cls, offset, name):\n",
    "        cls.tz = timezone(timedelta(hours=offset), name)\n",
    "        \n",
    "    @classmethod\n",
    "    def current_dt(cls):\n",
    "        return datetime.now(cls.tz)"
   ]
  },
  {
   "cell_type": "code",
   "execution_count": 14,
   "id": "21ac89d0-5ae6-4bdb-bbfa-e2c70edb4257",
   "metadata": {},
   "outputs": [
    {
     "data": {
      "text/plain": [
       "(datetime.datetime(2025, 5, 3, 21, 31, 23, 453, tzinfo=datetime.timezone.utc),\n",
       " datetime.datetime(2025, 5, 3, 21, 31, 23, 457, tzinfo=datetime.timezone.utc))"
      ]
     },
     "execution_count": 14,
     "metadata": {},
     "output_type": "execute_result"
    }
   ],
   "source": [
    "Timer.current_dt_utc(), Timer.current_dt()"
   ]
  },
  {
   "cell_type": "code",
   "execution_count": 15,
   "id": "66bf0378-349a-4fd6-b5f8-7621a7611aea",
   "metadata": {},
   "outputs": [
    {
     "data": {
      "text/plain": [
       "(datetime.datetime(2025, 5, 3, 21, 32, 3, 632608, tzinfo=datetime.timezone.utc),\n",
       " datetime.datetime(2025, 5, 3, 21, 32, 3, 632615, tzinfo=datetime.timezone.utc),\n",
       " datetime.datetime(2025, 5, 3, 21, 32, 3, 632617, tzinfo=datetime.timezone.utc),\n",
       " datetime.datetime(2025, 5, 3, 21, 32, 3, 632619, tzinfo=datetime.timezone.utc))"
      ]
     },
     "execution_count": 15,
     "metadata": {},
     "output_type": "execute_result"
    }
   ],
   "source": [
    "t1 = Timer()\n",
    "t2 = Timer()\n",
    "t1.current_dt_utc(), t1.current_dt(), t2.current_dt_utc(), t2.current_dt()"
   ]
  },
  {
   "cell_type": "markdown",
   "id": "194ff72a-60f0-4797-94b2-dce3f2908f6b",
   "metadata": {},
   "source": [
    "Now we're going to add functionality to start/stop a timer. Obviously we want this to be instance based, since we want to be able to create multiple timers."
   ]
  },
  {
   "cell_type": "code",
   "execution_count": 16,
   "id": "deb020bb-92c0-4148-ab4f-2dedafafe44a",
   "metadata": {},
   "outputs": [],
   "source": [
    "class TimerError(Exception):\n",
    "    \"\"\"A custom exception used for Timer class\"\"\"\n",
    "    # (since \"\"\"...\"\"\" is a statement, we don't need to pass)\n",
    "    \n",
    "class Timer:\n",
    "    tz = timezone.utc  # class variable to store the timezone - default to UTC\n",
    "    \n",
    "    def __init__(self):\n",
    "        # use these instance variables to keep track of start/end times\n",
    "        self._time_start = None\n",
    "        self._time_end = None\n",
    "        \n",
    "    @staticmethod\n",
    "    def current_dt_utc():\n",
    "        \"\"\"Returns non-naive current UTC\"\"\"\n",
    "        return datetime.now(timezone.utc)\n",
    "    \n",
    "    @classmethod\n",
    "    def set_tz(cls, offset, name):\n",
    "        cls.tz = timezone(timedelta(hours=offset), name)\n",
    "        \n",
    "    @classmethod\n",
    "    def current_dt(cls):\n",
    "        return datetime.now(cls.tz)\n",
    "    \n",
    "    def start(self):\n",
    "        # internally we always non-naive UTC\n",
    "        self._time_start = self.current_dt_utc()\n",
    "        self._time_end = None\n",
    "        \n",
    "    def stop(self):\n",
    "        if self._time_start is None:\n",
    "            # cannot stop if timer was not started!\n",
    "            raise TimerError('Timer must be started before it can be stopped.')\n",
    "        self._time_end = self.current_dt_utc()\n",
    "        \n",
    "    @property\n",
    "    def start_time(self):\n",
    "        if self._time_start is None:\n",
    "            raise TimerError('Timer has not been started.')\n",
    "        # since tz is a class variable, we can just as easily access it from self\n",
    "        return self._time_start.astimezone(self.tz)  \n",
    "        \n",
    "    @property\n",
    "    def end_time(self):\n",
    "        if self._time_end is None:\n",
    "            raise TimerError('Timer has not been stopped.')\n",
    "        return self._time_end.astimezone(self.tz)\n",
    "    \n",
    "    @property\n",
    "    def elapsed(self):\n",
    "        if self._time_start is None:\n",
    "            raise TimerError('Timer must be started before an elapsed time is available')\n",
    "            \n",
    "        if self._time_end is None:\n",
    "            # timer has not ben stopped, calculate elapsed between start and now\n",
    "            elapsed_time = self.current_dt_utc() - self._time_start\n",
    "        else:\n",
    "            # timer has been stopped, calculate elapsed between start and end\n",
    "            elapsed_time = self._time_end - self._time_start\n",
    "            \n",
    "        return elapsed_time.total_seconds()"
   ]
  },
  {
   "cell_type": "code",
   "execution_count": 18,
   "id": "202e7248-1fca-4dee-88c5-0f83d8b55d9f",
   "metadata": {},
   "outputs": [
    {
     "name": "stdout",
     "output_type": "stream",
     "text": [
      "Start time: 2025-05-03 21:33:13.235293+00:00\n",
      "End time: 2025-05-03 21:33:15.236536+00:00\n",
      "Elapsed: 2.001243 seconds\n"
     ]
    }
   ],
   "source": [
    "from time import sleep\n",
    "\n",
    "t1 = Timer()\n",
    "t1.start()\n",
    "sleep(2)\n",
    "t1.stop()\n",
    "print(f'Start time: {t1.start_time}')\n",
    "print(f'End time: {t1.end_time}')\n",
    "print(f'Elapsed: {t1.elapsed} seconds')"
   ]
  },
  {
   "cell_type": "code",
   "execution_count": 19,
   "id": "da6e5be8-2384-4bb0-bd50-553eba2d17ef",
   "metadata": {},
   "outputs": [
    {
     "name": "stdout",
     "output_type": "stream",
     "text": [
      "Start time: 2025-05-03 21:33:27.479155+00:00\n",
      "End time: 2025-05-03 21:33:30.484449+00:00\n",
      "Elapsed: 3.005294 seconds\n"
     ]
    }
   ],
   "source": [
    "t2 = Timer()\n",
    "t2.start()\n",
    "sleep(3)\n",
    "t2.stop()\n",
    "print(f'Start time: {t2.start_time}')\n",
    "print(f'End time: {t2.end_time}')\n",
    "print(f'Elapsed: {t2.elapsed} seconds')"
   ]
  },
  {
   "cell_type": "markdown",
   "id": "4800d8e5-b099-4e4a-8504-e96bcdb6de3c",
   "metadata": {},
   "source": [
    "So our timer works. Furthermore, we want to use MST throughout our application, so we'll set it, and since it's a class level attribute, we only need to change it once:"
   ]
  },
  {
   "cell_type": "code",
   "execution_count": 23,
   "id": "5f36829f-4bb5-4739-869a-0ce018319777",
   "metadata": {},
   "outputs": [],
   "source": [
    "Timer.set_tz(5.5, 'IST')"
   ]
  },
  {
   "cell_type": "code",
   "execution_count": 24,
   "id": "d8d7c074-1859-4f32-a27d-7bd0929c60f5",
   "metadata": {},
   "outputs": [
    {
     "name": "stdout",
     "output_type": "stream",
     "text": [
      "Start time: 2025-05-04 03:03:13.235293+05:30\n",
      "End time: 2025-05-04 03:03:15.236536+05:30\n",
      "Elapsed: 2.001243 seconds\n"
     ]
    }
   ],
   "source": [
    "print(f'Start time: {t1.start_time}')\n",
    "print(f'End time: {t1.end_time}')\n",
    "print(f'Elapsed: {t1.elapsed} seconds')"
   ]
  },
  {
   "cell_type": "code",
   "execution_count": 25,
   "id": "ae4310d3-9c5d-493e-a97d-83435b3a8327",
   "metadata": {},
   "outputs": [
    {
     "name": "stdout",
     "output_type": "stream",
     "text": [
      "Start time: 2025-05-04 03:03:27.479155+05:30\n",
      "End time: 2025-05-04 03:03:30.484449+05:30\n",
      "Elapsed: 3.005294 seconds\n"
     ]
    }
   ],
   "source": [
    "print(f'Start time: {t2.start_time}')\n",
    "print(f'End time: {t2.end_time}')\n",
    "print(f'Elapsed: {t2.elapsed} seconds')"
   ]
  },
  {
   "cell_type": "code",
   "execution_count": null,
   "id": "eb0a12a2-e2b5-45c2-8eb3-98ccffca3a5f",
   "metadata": {},
   "outputs": [],
   "source": []
  }
 ],
 "metadata": {
  "kernelspec": {
   "display_name": "Python 3 (ipykernel)",
   "language": "python",
   "name": "python3"
  },
  "language_info": {
   "codemirror_mode": {
    "name": "ipython",
    "version": 3
   },
   "file_extension": ".py",
   "mimetype": "text/x-python",
   "name": "python",
   "nbconvert_exporter": "python",
   "pygments_lexer": "ipython3",
   "version": "3.13.2"
  }
 },
 "nbformat": 4,
 "nbformat_minor": 5
}
