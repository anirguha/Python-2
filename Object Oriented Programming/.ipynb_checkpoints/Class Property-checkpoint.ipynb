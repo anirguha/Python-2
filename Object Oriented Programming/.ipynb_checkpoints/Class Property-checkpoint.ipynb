{
 "cells": [
  {
   "cell_type": "code",
   "execution_count": 34,
   "id": "4673b8d2-01f9-4fab-9273-cc529fc8d7de",
   "metadata": {},
   "outputs": [],
   "source": [
    "class Person:\n",
    "    def __init__(self, name):\n",
    "        self._name = name\n",
    "   \n",
    "    @property\n",
    "    def name(self):\n",
    "        print('getter method of property called...')\n",
    "        return self._name\n",
    "    \n",
    "    @name.setter\n",
    "    def name(self, value):\n",
    "        print('setter method called..')\n",
    "        self._name = value\n",
    "        \n",
    "       \n"
   ]
  },
  {
   "cell_type": "code",
   "execution_count": 35,
   "id": "134fa7dd-f20f-4aa1-9985-000c2962709a",
   "metadata": {},
   "outputs": [
    {
     "name": "stdout",
     "output_type": "stream",
     "text": [
      "getter method of property called...\n",
      "setter method called..\n"
     ]
    }
   ],
   "source": [
    "p = Person('Paul')\n",
    "p.name\n",
    "p.name = 'Eric'\n",
    "\n"
   ]
  },
  {
   "cell_type": "code",
   "execution_count": 9,
   "id": "3b258b33-aa6d-446f-be28-47c75e6ffd24",
   "metadata": {},
   "outputs": [
    {
     "data": {
      "text/plain": [
       "'Paul'"
      ]
     },
     "execution_count": 9,
     "metadata": {},
     "output_type": "execute_result"
    }
   ],
   "source": [
    "p.get_name()"
   ]
  },
  {
   "cell_type": "code",
   "execution_count": 20,
   "id": "e8e21e8b-afdd-4c33-bf71-ed86ce8e80be",
   "metadata": {},
   "outputs": [
    {
     "ename": "NameError",
     "evalue": "name 'get_name' is not defined",
     "output_type": "error",
     "traceback": [
      "\u001b[31m---------------------------------------------------------------------------\u001b[39m",
      "\u001b[31mNameError\u001b[39m                                 Traceback (most recent call last)",
      "\u001b[36mCell\u001b[39m\u001b[36m \u001b[39m\u001b[32mIn[20]\u001b[39m\u001b[32m, line 1\u001b[39m\n\u001b[32m----> \u001b[39m\u001b[32m1\u001b[39m name = \u001b[38;5;28mproperty\u001b[39m(fget=\u001b[43mget_name\u001b[49m())\n\u001b[32m      2\u001b[39m p.name\n",
      "\u001b[31mNameError\u001b[39m: name 'get_name' is not defined"
     ]
    }
   ],
   "source": [
    "name = property(fget=get_name())\n",
    "p.name\n"
   ]
  },
  {
   "cell_type": "code",
   "execution_count": 4,
   "id": "167a8544-2790-4770-88c5-94b73e910c47",
   "metadata": {
    "tags": []
   },
   "outputs": [
    {
     "data": {
      "text/plain": [
       "mappingproxy({'__new__': <function property.__new__(*args, **kwargs)>,\n",
       "              '__getattribute__': <slot wrapper '__getattribute__' of 'property' objects>,\n",
       "              '__get__': <slot wrapper '__get__' of 'property' objects>,\n",
       "              '__set__': <slot wrapper '__set__' of 'property' objects>,\n",
       "              '__delete__': <slot wrapper '__delete__' of 'property' objects>,\n",
       "              '__init__': <slot wrapper '__init__' of 'property' objects>,\n",
       "              'getter': <method 'getter' of 'property' objects>,\n",
       "              'setter': <method 'setter' of 'property' objects>,\n",
       "              'deleter': <method 'deleter' of 'property' objects>,\n",
       "              '__set_name__': <method '__set_name__' of 'property' objects>,\n",
       "              'fget': <member 'fget' of 'property' objects>,\n",
       "              'fset': <member 'fset' of 'property' objects>,\n",
       "              'fdel': <member 'fdel' of 'property' objects>,\n",
       "              '__doc__': <member '__doc__' of 'property' objects>,\n",
       "              '__name__': <attribute '__name__' of 'property' objects>,\n",
       "              '__isabstractmethod__': <attribute '__isabstractmethod__' of 'property' objects>})"
      ]
     },
     "execution_count": 4,
     "metadata": {},
     "output_type": "execute_result"
    }
   ],
   "source": [
    "property.__dict__"
   ]
  },
  {
   "cell_type": "code",
   "execution_count": 36,
   "id": "39f6190e-acc2-44e7-967d-62919b0f3899",
   "metadata": {
    "tags": []
   },
   "outputs": [
    {
     "data": {
      "text/plain": [
       "mappingproxy({'__module__': '__main__',\n",
       "              '__firstlineno__': 1,\n",
       "              '__init__': <function __main__.Person.__init__(self, name)>,\n",
       "              'name': <property at 0x116c99350>,\n",
       "              '__static_attributes__': ('_name',),\n",
       "              '__dict__': <attribute '__dict__' of 'Person' objects>,\n",
       "              '__weakref__': <attribute '__weakref__' of 'Person' objects>,\n",
       "              '__doc__': None})"
      ]
     },
     "execution_count": 36,
     "metadata": {},
     "output_type": "execute_result"
    }
   ],
   "source": [
    "Person.__dict__\n"
   ]
  },
  {
   "cell_type": "code",
   "execution_count": 56,
   "id": "389278b8-f34d-43dc-9fbb-2b0a74640684",
   "metadata": {
    "tags": []
   },
   "outputs": [
    {
     "name": "stdout",
     "output_type": "stream",
     "text": [
      "<class 'property'>\n"
     ]
    }
   ],
   "source": [
    "class Person:\n",
    "    def __init__(self,name):\n",
    "        self._name = name\n",
    "        \n",
    "    def get_name(self):\n",
    "        return self._name\n",
    "    \n",
    "    name = property(get_name)\n",
    "    \n",
    "    print(type(name))\n"
   ]
  },
  {
   "cell_type": "code",
   "execution_count": 58,
   "id": "a536ee0b-5129-4be6-b106-003f2f57d1af",
   "metadata": {
    "tags": []
   },
   "outputs": [
    {
     "data": {
      "text/plain": [
       "mappingproxy({'__new__': <function property.__new__(*args, **kwargs)>,\n",
       "              '__getattribute__': <slot wrapper '__getattribute__' of 'property' objects>,\n",
       "              '__get__': <slot wrapper '__get__' of 'property' objects>,\n",
       "              '__set__': <slot wrapper '__set__' of 'property' objects>,\n",
       "              '__delete__': <slot wrapper '__delete__' of 'property' objects>,\n",
       "              '__init__': <slot wrapper '__init__' of 'property' objects>,\n",
       "              'getter': <method 'getter' of 'property' objects>,\n",
       "              'setter': <method 'setter' of 'property' objects>,\n",
       "              'deleter': <method 'deleter' of 'property' objects>,\n",
       "              '__set_name__': <method '__set_name__' of 'property' objects>,\n",
       "              'fget': <member 'fget' of 'property' objects>,\n",
       "              'fset': <member 'fset' of 'property' objects>,\n",
       "              'fdel': <member 'fdel' of 'property' objects>,\n",
       "              '__doc__': <member '__doc__' of 'property' objects>,\n",
       "              '__name__': <attribute '__name__' of 'property' objects>,\n",
       "              '__isabstractmethod__': <attribute '__isabstractmethod__' of 'property' objects>})"
      ]
     },
     "execution_count": 58,
     "metadata": {},
     "output_type": "execute_result"
    }
   ],
   "source": [
    "property.__dict__"
   ]
  },
  {
   "cell_type": "code",
   "execution_count": 62,
   "id": "2f313650-18c5-44e5-a6cf-7fb1234dad58",
   "metadata": {
    "tags": []
   },
   "outputs": [
    {
     "data": {
      "text/plain": [
       "'Alex'"
      ]
     },
     "execution_count": 62,
     "metadata": {},
     "output_type": "execute_result"
    }
   ],
   "source": [
    "p = Person('Alex')\n",
    "p.name\n"
   ]
  },
  {
   "cell_type": "code",
   "execution_count": 63,
   "id": "e13475fc-f2f7-4ccb-8d72-b0b92cc6e8e1",
   "metadata": {
    "tags": []
   },
   "outputs": [],
   "source": [
    "class Person:\n",
    "    def __init__(self, name):\n",
    "        self._name = name\n",
    "        \n",
    "    def get_name(self):\n",
    "        return self._name\n",
    "    \n",
    "    name = property(fget=get_name)"
   ]
  },
  {
   "cell_type": "code",
   "execution_count": 64,
   "id": "6ec7654f-3429-4e48-8a00-40a759807f49",
   "metadata": {
    "tags": []
   },
   "outputs": [
    {
     "data": {
      "text/plain": [
       "'Meera'"
      ]
     },
     "execution_count": 64,
     "metadata": {},
     "output_type": "execute_result"
    }
   ],
   "source": [
    "p = Person('Meera')\n",
    "p.name"
   ]
  },
  {
   "cell_type": "code",
   "execution_count": 5,
   "id": "209e9a88-38fd-45c6-a4fd-b7b557fdb26b",
   "metadata": {
    "tags": []
   },
   "outputs": [
    {
     "name": "stdout",
     "output_type": "stream",
     "text": [
      "This is the decorating function\n"
     ]
    }
   ],
   "source": [
    "def decorator_func(func):\n",
    "    print('This is the decorating function')\n",
    "    def decorator_func(*args, **kwargs):\n",
    "        print('This is a function to be decorated')\n",
    "        return func(*args, **kwargs)\n",
    "    return decorator_func\n",
    "\n",
    "@decorator_func\n",
    "def undecorated_function(a,b):\n",
    "    print('running undecorated function')\n",
    "    return a + b\n",
    "\n",
    "# decorated_function = decorator_func(undecorated_function)"
   ]
  },
  {
   "cell_type": "code",
   "execution_count": 74,
   "id": "ec8319ba-28be-47df-b25f-6dbea7e96e68",
   "metadata": {
    "tags": []
   },
   "outputs": [
    {
     "data": {
      "text/plain": [
       "<function __main__.decorator_func.<locals>.decorator_func(*args, **kwargs)>"
      ]
     },
     "execution_count": 74,
     "metadata": {},
     "output_type": "execute_result"
    }
   ],
   "source": [
    "# decorated_function"
   ]
  },
  {
   "cell_type": "code",
   "execution_count": 79,
   "id": "fdddf6c0-f188-4c44-b738-d03f6d3f5ac1",
   "metadata": {
    "tags": []
   },
   "outputs": [
    {
     "name": "stdout",
     "output_type": "stream",
     "text": [
      "This is the decorating function\n"
     ]
    }
   ],
   "source": [
    "# decorated_function = decorator_func(undecorated_function)"
   ]
  },
  {
   "cell_type": "code",
   "execution_count": 7,
   "id": "4eaf53d2-504c-4cfa-a1fa-ab6e128b7c0b",
   "metadata": {
    "tags": []
   },
   "outputs": [
    {
     "name": "stdout",
     "output_type": "stream",
     "text": [
      "This is a function to be decorated\n",
      "running undecorated function\n",
      "5\n"
     ]
    }
   ],
   "source": [
    "f = undecorated_function\n",
    "print(f(2,3))"
   ]
  },
  {
   "cell_type": "code",
   "execution_count": 8,
   "id": "a751d71f-6e8f-4144-a1b2-85fd814ecaf1",
   "metadata": {},
   "outputs": [
    {
     "name": "stdout",
     "output_type": "stream",
     "text": [
      "Help on class property in module builtins:\n",
      "\n",
      "class property(object)\n",
      " |  property(fget=None, fset=None, fdel=None, doc=None)\n",
      " |\n",
      " |  Property attribute.\n",
      " |\n",
      " |    fget\n",
      " |      function to be used for getting an attribute value\n",
      " |    fset\n",
      " |      function to be used for setting an attribute value\n",
      " |    fdel\n",
      " |      function to be used for del'ing an attribute\n",
      " |    doc\n",
      " |      docstring\n",
      " |\n",
      " |  Typical use is to define a managed attribute x:\n",
      " |\n",
      " |  class C(object):\n",
      " |      def getx(self): return self._x\n",
      " |      def setx(self, value): self._x = value\n",
      " |      def delx(self): del self._x\n",
      " |      x = property(getx, setx, delx, \"I'm the 'x' property.\")\n",
      " |\n",
      " |  Decorators make defining new properties or modifying existing ones easy:\n",
      " |\n",
      " |  class C(object):\n",
      " |      @property\n",
      " |      def x(self):\n",
      " |          \"I am the 'x' property.\"\n",
      " |          return self._x\n",
      " |      @x.setter\n",
      " |      def x(self, value):\n",
      " |          self._x = value\n",
      " |      @x.deleter\n",
      " |      def x(self):\n",
      " |          del self._x\n",
      " |\n",
      " |  Methods defined here:\n",
      " |\n",
      " |  __delete__(self, instance, /)\n",
      " |      Delete an attribute of instance.\n",
      " |\n",
      " |  __get__(self, instance, owner=None, /)\n",
      " |      Return an attribute of instance, which is of type owner.\n",
      " |\n",
      " |  __getattribute__(self, name, /)\n",
      " |      Return getattr(self, name).\n",
      " |\n",
      " |  __init__(self, /, *args, **kwargs)\n",
      " |      Initialize self.  See help(type(self)) for accurate signature.\n",
      " |\n",
      " |  __set__(self, instance, value, /)\n",
      " |      Set an attribute of instance to value.\n",
      " |\n",
      " |  __set_name__(self, owner, name, /)\n",
      " |      Method to set name of a property.\n",
      " |\n",
      " |  deleter(self, object, /)\n",
      " |      Descriptor to obtain a copy of the property with a different deleter.\n",
      " |\n",
      " |  getter(self, object, /)\n",
      " |      Descriptor to obtain a copy of the property with a different getter.\n",
      " |\n",
      " |  setter(self, object, /)\n",
      " |      Descriptor to obtain a copy of the property with a different setter.\n",
      " |\n",
      " |  ----------------------------------------------------------------------\n",
      " |  Static methods defined here:\n",
      " |\n",
      " |  __new__(*args, **kwargs)\n",
      " |      Create and return a new object.  See help(type) for accurate signature.\n",
      " |\n",
      " |  ----------------------------------------------------------------------\n",
      " |  Data descriptors defined here:\n",
      " |\n",
      " |  __isabstractmethod__\n",
      " |\n",
      " |  fdel\n",
      " |\n",
      " |  fget\n",
      " |\n",
      " |  fset\n",
      "\n"
     ]
    }
   ],
   "source": [
    "help(property)"
   ]
  },
  {
   "cell_type": "code",
   "execution_count": 52,
   "id": "1e8b6e4c-ca36-4a1f-a211-eaec7acae2e3",
   "metadata": {
    "tags": []
   },
   "outputs": [
    {
     "name": "stdout",
     "output_type": "stream",
     "text": [
      "<function Person.name at 0x115022020>\n"
     ]
    }
   ],
   "source": [
    "class Person:\n",
    "    def __init__(self, name):\n",
    "        self._name = name\n",
    "        \n",
    "    @property\n",
    "    def name(self):\n",
    "        return self._name\n",
    "    \n",
    "    print(name.fget)\n",
    "    \n",
    "    @name.setter\n",
    "    def name(self, value):\n",
    "        self._name = value\n",
    "        return self._name\n",
    "    \n",
    "    @name.deleter\n",
    "    def name(self):\n",
    "        print(f'This is a deleter function, deleting the name {self._name}')\n",
    "        del self._name"
   ]
  },
  {
   "cell_type": "code",
   "execution_count": 53,
   "id": "2a140808-faad-42ea-aaa5-3c4f1fb222c8",
   "metadata": {
    "tags": []
   },
   "outputs": [
    {
     "data": {
      "text/plain": [
       "'John'"
      ]
     },
     "execution_count": 53,
     "metadata": {},
     "output_type": "execute_result"
    }
   ],
   "source": [
    "p = Person('Ted')\n",
    "p.name\n",
    "type(p)\n",
    "\n",
    "p.name = 'John'\n",
    "p.name"
   ]
  },
  {
   "cell_type": "code",
   "execution_count": 54,
   "id": "749e24c6-35cd-4ead-a35d-7909b4611bb5",
   "metadata": {
    "tags": []
   },
   "outputs": [
    {
     "name": "stdout",
     "output_type": "stream",
     "text": [
      "This is a deleter function, deleting the name John\n"
     ]
    },
    {
     "ename": "AttributeError",
     "evalue": "'Person' object has no attribute '_name'",
     "output_type": "error",
     "traceback": [
      "\u001b[31m---------------------------------------------------------------------------\u001b[39m",
      "\u001b[31mAttributeError\u001b[39m                            Traceback (most recent call last)",
      "\u001b[36mCell\u001b[39m\u001b[36m \u001b[39m\u001b[32mIn[54]\u001b[39m\u001b[32m, line 2\u001b[39m\n\u001b[32m      1\u001b[39m \u001b[38;5;28;01mdel\u001b[39;00m p.name\n\u001b[32m----> \u001b[39m\u001b[32m2\u001b[39m \u001b[38;5;28mprint\u001b[39m(\u001b[43mp\u001b[49m\u001b[43m.\u001b[49m\u001b[43mname\u001b[49m)\n\u001b[32m      4\u001b[39m p.\u001b[34m__dict__\u001b[39m\n",
      "\u001b[36mCell\u001b[39m\u001b[36m \u001b[39m\u001b[32mIn[52]\u001b[39m\u001b[32m, line 7\u001b[39m, in \u001b[36mPerson.name\u001b[39m\u001b[34m(self)\u001b[39m\n\u001b[32m      5\u001b[39m \u001b[38;5;129m@property\u001b[39m\n\u001b[32m      6\u001b[39m \u001b[38;5;28;01mdef\u001b[39;00m\u001b[38;5;250m \u001b[39m\u001b[34mname\u001b[39m(\u001b[38;5;28mself\u001b[39m):\n\u001b[32m----> \u001b[39m\u001b[32m7\u001b[39m     \u001b[38;5;28;01mreturn\u001b[39;00m \u001b[38;5;28;43mself\u001b[39;49m\u001b[43m.\u001b[49m\u001b[43m_name\u001b[49m\n",
      "\u001b[31mAttributeError\u001b[39m: 'Person' object has no attribute '_name'"
     ]
    }
   ],
   "source": [
    "del p.name\n",
    "print(p.name)\n",
    "\n",
    "p.__dict__"
   ]
  },
  {
   "cell_type": "code",
   "execution_count": null,
   "id": "4ed9b9c6-3a0e-4fcd-8571-043934c8ef43",
   "metadata": {
    "tags": []
   },
   "outputs": [],
   "source": []
  },
  {
   "cell_type": "code",
   "execution_count": null,
   "id": "e8adcb47-6254-447f-ab5f-bc936d5a1fb5",
   "metadata": {},
   "outputs": [],
   "source": []
  }
 ],
 "metadata": {
  "kernelspec": {
   "display_name": "Python 3 (ipykernel)",
   "language": "python",
   "name": "python3"
  },
  "language_info": {
   "codemirror_mode": {
    "name": "ipython",
    "version": 3
   },
   "file_extension": ".py",
   "mimetype": "text/x-python",
   "name": "python",
   "nbconvert_exporter": "python",
   "pygments_lexer": "ipython3",
   "version": "3.13.3"
  }
 },
 "nbformat": 4,
 "nbformat_minor": 5
}
