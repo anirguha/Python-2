{
 "cells": [
  {
   "cell_type": "code",
   "execution_count": 8,
   "id": "b779ecfb-a921-46fa-b4b4-b1a2440746ad",
   "metadata": {},
   "outputs": [],
   "source": [
    "import json"
   ]
  },
  {
   "cell_type": "code",
   "execution_count": 9,
   "id": "a9aa1307-41d8-425f-a440-bbd76739944b",
   "metadata": {},
   "outputs": [],
   "source": [
    "json_data = \"\"\"{\n",
    "    \"Alex\": {\"age\": 18},\n",
    "    \"Bryan\": {\"age\": 21, \"city\": \"London\"},\n",
    "    \"Guido\": {\"age\": \"unknown\"}\n",
    "}\"\"\""
   ]
  },
  {
   "cell_type": "code",
   "execution_count": 10,
   "id": "1266903f-c062-40a2-848b-40973167b9f8",
   "metadata": {},
   "outputs": [],
   "source": [
    "data=json.loads(json_data)"
   ]
  },
  {
   "cell_type": "code",
   "execution_count": 11,
   "id": "6d0ef3ec-79d9-40c5-af96-9df606f978e0",
   "metadata": {},
   "outputs": [
    {
     "data": {
      "text/plain": [
       "{'Alex': {'age': 18},\n",
       " 'Bryan': {'age': 21, 'city': 'London'},\n",
       " 'Guido': {'age': 'unknown'}}"
      ]
     },
     "execution_count": 11,
     "metadata": {},
     "output_type": "execute_result"
    }
   ],
   "source": [
    "data"
   ]
  },
  {
   "cell_type": "code",
   "execution_count": 12,
   "id": "69a77ff1-7bd9-4303-84d8-cc1d0ad71f30",
   "metadata": {},
   "outputs": [],
   "source": [
    "class Person:\n",
    "    __slots__ = 'name', '_age'\n",
    "    \n",
    "    def __init__(self, name):\n",
    "        self.name = name\n",
    "        self._age = None\n",
    "        \n",
    "    @property\n",
    "    def age(self):\n",
    "        return self._age\n",
    "    \n",
    "    @age.setter\n",
    "    def age(self, value):\n",
    "        if isinstance(value, int) and value >= 0:\n",
    "            self._age = value\n",
    "        else:\n",
    "            raise ValueError('Invalid age')\n",
    "            \n",
    "    def __repr__(self):\n",
    "        return f'Person(name={self.name}, age={self.age})'"
   ]
  },
  {
   "cell_type": "code",
   "execution_count": 13,
   "id": "398ebeb7-96d5-4a56-9a5d-c1977e16ac80",
   "metadata": {},
   "outputs": [
    {
     "name": "stdout",
     "output_type": "stream",
     "text": [
      "ignoring attribute: Bryan.city=London\n",
      "Data for Person(Guido) contains an invalid attribute value: Invalid age\n",
      "[Person(name=Alex, age=18), Person(name=Bryan, age=21)]\n"
     ]
    }
   ],
   "source": [
    "persons = []\n",
    "for name, attributes in data.items():\n",
    "    try:\n",
    "        p = Person(name)\n",
    "        \n",
    "        for attrib_name, attrib_value in attributes.items():\n",
    "            try:\n",
    "                setattr(p, attrib_name, attrib_value)\n",
    "            except AttributeError:\n",
    "                print(f'ignoring attribute: {name}.{attrib_name}={attrib_value}')\n",
    "    except ValueError as ex:\n",
    "        print(f'Data for Person({name}) contains an invalid attribute value: {ex}')\n",
    "    else:\n",
    "        # note that this runs if the outer try does not encounter an exception\n",
    "        # since the inner try catches and does not propagate an `AttributeError`\n",
    "        # this does not affect this else - the outer try never sees the inner exception\n",
    "        # since it was handled (and essentially silenced)\n",
    "        persons.append(p)\n",
    "        \n",
    "print(persons)"
   ]
  },
  {
   "cell_type": "code",
   "execution_count": null,
   "id": "109960c3-7da7-480b-8948-42c09e0dc2bf",
   "metadata": {},
   "outputs": [],
   "source": []
  }
 ],
 "metadata": {
  "kernelspec": {
   "display_name": "Python 3 (ipykernel)",
   "language": "python",
   "name": "python3"
  },
  "language_info": {
   "codemirror_mode": {
    "name": "ipython",
    "version": 3
   },
   "file_extension": ".py",
   "mimetype": "text/x-python",
   "name": "python",
   "nbconvert_exporter": "python",
   "pygments_lexer": "ipython3",
   "version": "3.13.2"
  }
 },
 "nbformat": 4,
 "nbformat_minor": 5
}
