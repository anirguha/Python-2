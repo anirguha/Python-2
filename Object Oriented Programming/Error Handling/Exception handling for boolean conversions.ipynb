{
 "cells": [
  {
   "cell_type": "code",
   "execution_count": 4,
   "id": "a68721a1-0da5-4e7f-a2f0-d11bc668c94d",
   "metadata": {},
   "outputs": [],
   "source": [
    "# Create a simple function to transform integers and strings to boolean \n",
    "#0, 1, \"0\", \"1\", \"T\", \"F\", \"True\", \"False\", True and False into the equivalent boolean type, \n",
    "# as well as case insensitive versions of the strings."
   ]
  },
  {
   "cell_type": "code",
   "execution_count": 5,
   "id": "0e9bf857-3b3c-465f-a8e5-d9221d5861fc",
   "metadata": {},
   "outputs": [],
   "source": [
    "def convert_int(val):\n",
    "    if not isinstance(val, int):  # remember this will work for booleans too!\n",
    "        raise TypeError()\n",
    "    if val not in {0, 1}:\n",
    "        raise ValueError(\"Integer values 0 or 1 only\")\n",
    "    return bool(val)"
   ]
  },
  {
   "cell_type": "code",
   "execution_count": 6,
   "id": "75703def-0850-42a4-b544-6050cbb79ff5",
   "metadata": {},
   "outputs": [],
   "source": [
    "def convert_str(val):\n",
    "    if not isinstance(val, str):\n",
    "        raise TypeError()\n",
    "        \n",
    "    val = val.casefold()  # for case-insensitive comparisons\n",
    "    if val in {'0', 'f', 'false'}:\n",
    "        return False\n",
    "    elif val in {'1', 't', 'true'}:\n",
    "        return True\n",
    "    else:\n",
    "        raise ValueError('Admissible string values are: T, F, True, False (case insensitive)')"
   ]
  },
  {
   "cell_type": "code",
   "execution_count": 8,
   "id": "76bca4ea-f6c5-43a9-87e4-c14a9c8b8c34",
   "metadata": {},
   "outputs": [],
   "source": [
    "class ConversionError(Exception):\n",
    "    pass"
   ]
  },
  {
   "cell_type": "code",
   "execution_count": 9,
   "id": "6dabca28-860b-4c02-8a2f-3f530704122f",
   "metadata": {},
   "outputs": [],
   "source": [
    "def make_bool(val):\n",
    "    try:\n",
    "        try:\n",
    "            b = convert_int(val)\n",
    "        except TypeError:\n",
    "            # it wasn't an int/bool, so let's try it as a string\n",
    "            try:\n",
    "                b = convert_str(val)\n",
    "            except TypeError:\n",
    "                raise ConversionError(f'The type {type(val).__name__} cannot be converted to a bool')\n",
    "    except ValueError as ex:\n",
    "        # this will catch ValueError exceptions from either convert_int or convert_str\n",
    "        raise ConversionError(f'The value {val} cannot be converted to a bool: {ex}')\n",
    "    else:\n",
    "        return b"
   ]
  },
  {
   "cell_type": "code",
   "execution_count": 10,
   "id": "ce0ad9ed-5e35-4d58-b04f-7aabc00654d1",
   "metadata": {},
   "outputs": [
    {
     "name": "stdout",
     "output_type": "stream",
     "text": [
      "True True\n",
      "0 False\n",
      "T True\n",
      "false False\n",
      "10 The value 10 cannot be converted to a bool: Integer values 0 or 1 only\n",
      "ABC The value ABC cannot be converted to a bool: Admissible string values are: T, F, True, False (case insensitive)\n",
      "1.0 The type float cannot be converted to a bool\n"
     ]
    }
   ],
   "source": [
    "values = [True, 0, 'T', 'false', 10, 'ABC', 1.0]\n",
    "\n",
    "for value in values:\n",
    "    try:\n",
    "        result = make_bool(value)\n",
    "    except ConversionError as ex:\n",
    "        result = str(ex)\n",
    "\n",
    "    print(value, result)"
   ]
  },
  {
   "cell_type": "code",
   "execution_count": null,
   "id": "638932c0-ba0f-4519-b9f0-30ba36da0cfa",
   "metadata": {},
   "outputs": [],
   "source": []
  }
 ],
 "metadata": {
  "kernelspec": {
   "display_name": "Python 3 (ipykernel)",
   "language": "python",
   "name": "python3"
  },
  "language_info": {
   "codemirror_mode": {
    "name": "ipython",
    "version": 3
   },
   "file_extension": ".py",
   "mimetype": "text/x-python",
   "name": "python",
   "nbconvert_exporter": "python",
   "pygments_lexer": "ipython3",
   "version": "3.13.3"
  }
 },
 "nbformat": 4,
 "nbformat_minor": 5
}
