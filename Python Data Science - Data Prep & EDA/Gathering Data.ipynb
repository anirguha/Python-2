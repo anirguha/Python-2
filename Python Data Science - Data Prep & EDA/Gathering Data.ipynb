{
 "cells": [
  {
   "cell_type": "code",
   "id": "initial_id",
   "metadata": {
    "collapsed": true,
    "ExecuteTime": {
     "end_time": "2025-07-04T17:47:20.843286Z",
     "start_time": "2025-07-04T17:47:19.355079Z"
    }
   },
   "source": "import pandas as pd",
   "outputs": [],
   "execution_count": 1
  },
  {
   "metadata": {
    "ExecuteTime": {
     "end_time": "2025-07-04T17:49:50.187443Z",
     "start_time": "2025-07-04T17:49:50.171117Z"
    }
   },
   "cell_type": "code",
   "source": "df = pd.read_csv('/Users/AnirbanGuha/Library/CloudStorage/OneDrive-Personal/Udemy Courses/Data Science - data Prep and EDA with Python/Data+Science+in+Python+-+Data+Prep+%26+EDA/Data/happiness_survey_data.csv',sep=',',header=0)",
   "id": "48fd31efb7f72d9",
   "outputs": [],
   "execution_count": 3
  },
  {
   "metadata": {
    "ExecuteTime": {
     "end_time": "2025-07-04T17:49:56.660386Z",
     "start_time": "2025-07-04T17:49:56.645867Z"
    }
   },
   "cell_type": "code",
   "source": "df",
   "id": "ca83664c8d614551",
   "outputs": [
    {
     "data": {
      "text/plain": [
       "     country_name  year  happiness_score  social_support  \\\n",
       "0     Afghanistan  2008         3.723590        0.450662   \n",
       "1     Afghanistan  2009         4.401778        0.552308   \n",
       "2     Afghanistan  2010         4.758381        0.539075   \n",
       "3     Afghanistan  2011         3.831719        0.521104   \n",
       "4     Afghanistan  2012         3.782938        0.520637   \n",
       "...           ...   ...              ...             ...   \n",
       "2084     Zimbabwe  2017         3.638300        0.754147   \n",
       "2085     Zimbabwe  2018         3.616480        0.775388   \n",
       "2086     Zimbabwe  2019         2.693523        0.759162   \n",
       "2087     Zimbabwe  2020         3.159802        0.717243   \n",
       "2088     Zimbabwe  2021         3.154578        0.685151   \n",
       "\n",
       "      freedom_to_make_life_choices  healthy_life_expectancy_at_birth  \n",
       "0                         0.718114                         50.500000  \n",
       "1                         0.678896                         50.799999  \n",
       "2                         0.600127                         51.099998  \n",
       "3                         0.495901                         51.400002  \n",
       "4                         0.530935                         51.700001  \n",
       "...                            ...                               ...  \n",
       "2084                      0.752826                         52.150002  \n",
       "2085                      0.762675                         52.625000  \n",
       "2086                      0.631908                         53.099998  \n",
       "2087                      0.643303                         53.575001  \n",
       "2088                      0.667636                         54.049999  \n",
       "\n",
       "[2089 rows x 6 columns]"
      ],
      "text/html": [
       "<div>\n",
       "<style scoped>\n",
       "    .dataframe tbody tr th:only-of-type {\n",
       "        vertical-align: middle;\n",
       "    }\n",
       "\n",
       "    .dataframe tbody tr th {\n",
       "        vertical-align: top;\n",
       "    }\n",
       "\n",
       "    .dataframe thead th {\n",
       "        text-align: right;\n",
       "    }\n",
       "</style>\n",
       "<table border=\"1\" class=\"dataframe\">\n",
       "  <thead>\n",
       "    <tr style=\"text-align: right;\">\n",
       "      <th></th>\n",
       "      <th>country_name</th>\n",
       "      <th>year</th>\n",
       "      <th>happiness_score</th>\n",
       "      <th>social_support</th>\n",
       "      <th>freedom_to_make_life_choices</th>\n",
       "      <th>healthy_life_expectancy_at_birth</th>\n",
       "    </tr>\n",
       "  </thead>\n",
       "  <tbody>\n",
       "    <tr>\n",
       "      <th>0</th>\n",
       "      <td>Afghanistan</td>\n",
       "      <td>2008</td>\n",
       "      <td>3.723590</td>\n",
       "      <td>0.450662</td>\n",
       "      <td>0.718114</td>\n",
       "      <td>50.500000</td>\n",
       "    </tr>\n",
       "    <tr>\n",
       "      <th>1</th>\n",
       "      <td>Afghanistan</td>\n",
       "      <td>2009</td>\n",
       "      <td>4.401778</td>\n",
       "      <td>0.552308</td>\n",
       "      <td>0.678896</td>\n",
       "      <td>50.799999</td>\n",
       "    </tr>\n",
       "    <tr>\n",
       "      <th>2</th>\n",
       "      <td>Afghanistan</td>\n",
       "      <td>2010</td>\n",
       "      <td>4.758381</td>\n",
       "      <td>0.539075</td>\n",
       "      <td>0.600127</td>\n",
       "      <td>51.099998</td>\n",
       "    </tr>\n",
       "    <tr>\n",
       "      <th>3</th>\n",
       "      <td>Afghanistan</td>\n",
       "      <td>2011</td>\n",
       "      <td>3.831719</td>\n",
       "      <td>0.521104</td>\n",
       "      <td>0.495901</td>\n",
       "      <td>51.400002</td>\n",
       "    </tr>\n",
       "    <tr>\n",
       "      <th>4</th>\n",
       "      <td>Afghanistan</td>\n",
       "      <td>2012</td>\n",
       "      <td>3.782938</td>\n",
       "      <td>0.520637</td>\n",
       "      <td>0.530935</td>\n",
       "      <td>51.700001</td>\n",
       "    </tr>\n",
       "    <tr>\n",
       "      <th>...</th>\n",
       "      <td>...</td>\n",
       "      <td>...</td>\n",
       "      <td>...</td>\n",
       "      <td>...</td>\n",
       "      <td>...</td>\n",
       "      <td>...</td>\n",
       "    </tr>\n",
       "    <tr>\n",
       "      <th>2084</th>\n",
       "      <td>Zimbabwe</td>\n",
       "      <td>2017</td>\n",
       "      <td>3.638300</td>\n",
       "      <td>0.754147</td>\n",
       "      <td>0.752826</td>\n",
       "      <td>52.150002</td>\n",
       "    </tr>\n",
       "    <tr>\n",
       "      <th>2085</th>\n",
       "      <td>Zimbabwe</td>\n",
       "      <td>2018</td>\n",
       "      <td>3.616480</td>\n",
       "      <td>0.775388</td>\n",
       "      <td>0.762675</td>\n",
       "      <td>52.625000</td>\n",
       "    </tr>\n",
       "    <tr>\n",
       "      <th>2086</th>\n",
       "      <td>Zimbabwe</td>\n",
       "      <td>2019</td>\n",
       "      <td>2.693523</td>\n",
       "      <td>0.759162</td>\n",
       "      <td>0.631908</td>\n",
       "      <td>53.099998</td>\n",
       "    </tr>\n",
       "    <tr>\n",
       "      <th>2087</th>\n",
       "      <td>Zimbabwe</td>\n",
       "      <td>2020</td>\n",
       "      <td>3.159802</td>\n",
       "      <td>0.717243</td>\n",
       "      <td>0.643303</td>\n",
       "      <td>53.575001</td>\n",
       "    </tr>\n",
       "    <tr>\n",
       "      <th>2088</th>\n",
       "      <td>Zimbabwe</td>\n",
       "      <td>2021</td>\n",
       "      <td>3.154578</td>\n",
       "      <td>0.685151</td>\n",
       "      <td>0.667636</td>\n",
       "      <td>54.049999</td>\n",
       "    </tr>\n",
       "  </tbody>\n",
       "</table>\n",
       "<p>2089 rows × 6 columns</p>\n",
       "</div>"
      ]
     },
     "execution_count": 4,
     "metadata": {},
     "output_type": "execute_result"
    }
   ],
   "execution_count": 4
  },
  {
   "metadata": {
    "ExecuteTime": {
     "end_time": "2025-07-04T17:51:31.603264Z",
     "start_time": "2025-07-04T17:51:31.586298Z"
    }
   },
   "cell_type": "code",
   "source": "df.describe()",
   "id": "c411335de9d38799",
   "outputs": [
    {
     "data": {
      "text/plain": [
       "              year  happiness_score  social_support  \\\n",
       "count  2089.000000      2089.000000     2076.000000   \n",
       "mean   2013.727621         5.473747        0.811542   \n",
       "std       4.455614         1.115567        0.118935   \n",
       "min    2005.000000         2.178809        0.290184   \n",
       "25%    2010.000000         4.651972        0.747664   \n",
       "50%    2014.000000         5.405246        0.834770   \n",
       "75%    2017.000000         6.294282        0.904682   \n",
       "max    2021.000000         8.018934        0.987343   \n",
       "\n",
       "       freedom_to_make_life_choices  healthy_life_expectancy_at_birth  \n",
       "count                   2057.000000                       2031.000000  \n",
       "mean                       0.745462                         63.180326  \n",
       "std                        0.140751                          6.948546  \n",
       "min                        0.257534                          6.720000  \n",
       "25%                        0.651689                         58.965000  \n",
       "50%                        0.767357                         64.980003  \n",
       "75%                        0.857677                         68.362499  \n",
       "max                        0.985178                         74.349998  "
      ],
      "text/html": [
       "<div>\n",
       "<style scoped>\n",
       "    .dataframe tbody tr th:only-of-type {\n",
       "        vertical-align: middle;\n",
       "    }\n",
       "\n",
       "    .dataframe tbody tr th {\n",
       "        vertical-align: top;\n",
       "    }\n",
       "\n",
       "    .dataframe thead th {\n",
       "        text-align: right;\n",
       "    }\n",
       "</style>\n",
       "<table border=\"1\" class=\"dataframe\">\n",
       "  <thead>\n",
       "    <tr style=\"text-align: right;\">\n",
       "      <th></th>\n",
       "      <th>year</th>\n",
       "      <th>happiness_score</th>\n",
       "      <th>social_support</th>\n",
       "      <th>freedom_to_make_life_choices</th>\n",
       "      <th>healthy_life_expectancy_at_birth</th>\n",
       "    </tr>\n",
       "  </thead>\n",
       "  <tbody>\n",
       "    <tr>\n",
       "      <th>count</th>\n",
       "      <td>2089.000000</td>\n",
       "      <td>2089.000000</td>\n",
       "      <td>2076.000000</td>\n",
       "      <td>2057.000000</td>\n",
       "      <td>2031.000000</td>\n",
       "    </tr>\n",
       "    <tr>\n",
       "      <th>mean</th>\n",
       "      <td>2013.727621</td>\n",
       "      <td>5.473747</td>\n",
       "      <td>0.811542</td>\n",
       "      <td>0.745462</td>\n",
       "      <td>63.180326</td>\n",
       "    </tr>\n",
       "    <tr>\n",
       "      <th>std</th>\n",
       "      <td>4.455614</td>\n",
       "      <td>1.115567</td>\n",
       "      <td>0.118935</td>\n",
       "      <td>0.140751</td>\n",
       "      <td>6.948546</td>\n",
       "    </tr>\n",
       "    <tr>\n",
       "      <th>min</th>\n",
       "      <td>2005.000000</td>\n",
       "      <td>2.178809</td>\n",
       "      <td>0.290184</td>\n",
       "      <td>0.257534</td>\n",
       "      <td>6.720000</td>\n",
       "    </tr>\n",
       "    <tr>\n",
       "      <th>25%</th>\n",
       "      <td>2010.000000</td>\n",
       "      <td>4.651972</td>\n",
       "      <td>0.747664</td>\n",
       "      <td>0.651689</td>\n",
       "      <td>58.965000</td>\n",
       "    </tr>\n",
       "    <tr>\n",
       "      <th>50%</th>\n",
       "      <td>2014.000000</td>\n",
       "      <td>5.405246</td>\n",
       "      <td>0.834770</td>\n",
       "      <td>0.767357</td>\n",
       "      <td>64.980003</td>\n",
       "    </tr>\n",
       "    <tr>\n",
       "      <th>75%</th>\n",
       "      <td>2017.000000</td>\n",
       "      <td>6.294282</td>\n",
       "      <td>0.904682</td>\n",
       "      <td>0.857677</td>\n",
       "      <td>68.362499</td>\n",
       "    </tr>\n",
       "    <tr>\n",
       "      <th>max</th>\n",
       "      <td>2021.000000</td>\n",
       "      <td>8.018934</td>\n",
       "      <td>0.987343</td>\n",
       "      <td>0.985178</td>\n",
       "      <td>74.349998</td>\n",
       "    </tr>\n",
       "  </tbody>\n",
       "</table>\n",
       "</div>"
      ]
     },
     "execution_count": 7,
     "metadata": {},
     "output_type": "execute_result"
    }
   ],
   "execution_count": 7
  },
  {
   "metadata": {
    "ExecuteTime": {
     "end_time": "2025-07-04T17:54:57.186976Z",
     "start_time": "2025-07-04T17:54:57.172453Z"
    }
   },
   "cell_type": "code",
   "source": "df.info()",
   "id": "78c4bfb0ccfe2892",
   "outputs": [
    {
     "name": "stdout",
     "output_type": "stream",
     "text": [
      "<class 'pandas.core.frame.DataFrame'>\n",
      "RangeIndex: 2089 entries, 0 to 2088\n",
      "Data columns (total 6 columns):\n",
      " #   Column                            Non-Null Count  Dtype  \n",
      "---  ------                            --------------  -----  \n",
      " 0   country_name                      2089 non-null   object \n",
      " 1   year                              2089 non-null   int64  \n",
      " 2   happiness_score                   2089 non-null   float64\n",
      " 3   social_support                    2076 non-null   float64\n",
      " 4   freedom_to_make_life_choices      2057 non-null   float64\n",
      " 5   healthy_life_expectancy_at_birth  2031 non-null   float64\n",
      "dtypes: float64(4), int64(1), object(1)\n",
      "memory usage: 98.1+ KB\n"
     ]
    }
   ],
   "execution_count": 8
  },
  {
   "metadata": {
    "ExecuteTime": {
     "end_time": "2025-07-04T17:56:14.657377Z",
     "start_time": "2025-07-04T17:56:14.651560Z"
    }
   },
   "cell_type": "code",
   "source": "df.shape",
   "id": "5fc9daef2c8822b7",
   "outputs": [
    {
     "data": {
      "text/plain": [
       "(2089, 6)"
      ]
     },
     "execution_count": 11,
     "metadata": {},
     "output_type": "execute_result"
    }
   ],
   "execution_count": 11
  },
  {
   "metadata": {
    "ExecuteTime": {
     "end_time": "2025-07-04T18:12:43.554351Z",
     "start_time": "2025-07-04T18:12:43.549395Z"
    }
   },
   "cell_type": "code",
   "source": "df.dtypes",
   "id": "426268c270ceb8ac",
   "outputs": [
    {
     "data": {
      "text/plain": [
       "country_name                         object\n",
       "year                                  int64\n",
       "happiness_score                     float64\n",
       "social_support                      float64\n",
       "freedom_to_make_life_choices        float64\n",
       "healthy_life_expectancy_at_birth    float64\n",
       "dtype: object"
      ]
     },
     "execution_count": 13,
     "metadata": {},
     "output_type": "execute_result"
    }
   ],
   "execution_count": 13
  }
 ],
 "metadata": {
  "kernelspec": {
   "display_name": "Python 3",
   "language": "python",
   "name": "python3"
  },
  "language_info": {
   "codemirror_mode": {
    "name": "ipython",
    "version": 2
   },
   "file_extension": ".py",
   "mimetype": "text/x-python",
   "name": "python",
   "nbconvert_exporter": "python",
   "pygments_lexer": "ipython2",
   "version": "2.7.6"
  }
 },
 "nbformat": 4,
 "nbformat_minor": 5
}
