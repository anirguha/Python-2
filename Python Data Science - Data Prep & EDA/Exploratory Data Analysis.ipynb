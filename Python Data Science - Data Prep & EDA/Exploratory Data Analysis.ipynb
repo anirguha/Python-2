{
 "cells": [
  {
   "cell_type": "code",
   "id": "initial_id",
   "metadata": {
    "collapsed": true,
    "ExecuteTime": {
     "end_time": "2025-07-05T20:03:24.086904Z",
     "start_time": "2025-07-05T20:03:23.464992Z"
    }
   },
   "source": [
    "import pandas as pd\n",
    "from sphinx.ext.autodoc import between"
   ],
   "outputs": [],
   "execution_count": 2
  },
  {
   "metadata": {
    "ExecuteTime": {
     "end_time": "2025-07-05T20:03:24.134829Z",
     "start_time": "2025-07-05T20:03:24.095673Z"
    }
   },
   "cell_type": "code",
   "source": "happiness = pd.read_csv('/Users/AnirbanGuha/Library/CloudStorage/OneDrive-Personal/Udemy Courses/Data Science - data Prep and EDA with Python/Data+Science+in+Python+-+Data+Prep+%26+EDA/Data/happiness_survey_data.csv')",
   "id": "bbf601860c4718ae",
   "outputs": [],
   "execution_count": 3
  },
  {
   "metadata": {
    "ExecuteTime": {
     "end_time": "2025-07-05T20:03:24.161699Z",
     "start_time": "2025-07-05T20:03:24.152182Z"
    }
   },
   "cell_type": "code",
   "source": "happiness.head()",
   "id": "4b8f62431b578edb",
   "outputs": [
    {
     "data": {
      "text/plain": [
       "  country_name  year  happiness_score  social_support  \\\n",
       "0  Afghanistan  2008         3.723590        0.450662   \n",
       "1  Afghanistan  2009         4.401778        0.552308   \n",
       "2  Afghanistan  2010         4.758381        0.539075   \n",
       "3  Afghanistan  2011         3.831719        0.521104   \n",
       "4  Afghanistan  2012         3.782938        0.520637   \n",
       "\n",
       "   freedom_to_make_life_choices  healthy_life_expectancy_at_birth  \n",
       "0                      0.718114                         50.500000  \n",
       "1                      0.678896                         50.799999  \n",
       "2                      0.600127                         51.099998  \n",
       "3                      0.495901                         51.400002  \n",
       "4                      0.530935                         51.700001  "
      ],
      "text/html": [
       "<div>\n",
       "<style scoped>\n",
       "    .dataframe tbody tr th:only-of-type {\n",
       "        vertical-align: middle;\n",
       "    }\n",
       "\n",
       "    .dataframe tbody tr th {\n",
       "        vertical-align: top;\n",
       "    }\n",
       "\n",
       "    .dataframe thead th {\n",
       "        text-align: right;\n",
       "    }\n",
       "</style>\n",
       "<table border=\"1\" class=\"dataframe\">\n",
       "  <thead>\n",
       "    <tr style=\"text-align: right;\">\n",
       "      <th></th>\n",
       "      <th>country_name</th>\n",
       "      <th>year</th>\n",
       "      <th>happiness_score</th>\n",
       "      <th>social_support</th>\n",
       "      <th>freedom_to_make_life_choices</th>\n",
       "      <th>healthy_life_expectancy_at_birth</th>\n",
       "    </tr>\n",
       "  </thead>\n",
       "  <tbody>\n",
       "    <tr>\n",
       "      <th>0</th>\n",
       "      <td>Afghanistan</td>\n",
       "      <td>2008</td>\n",
       "      <td>3.723590</td>\n",
       "      <td>0.450662</td>\n",
       "      <td>0.718114</td>\n",
       "      <td>50.500000</td>\n",
       "    </tr>\n",
       "    <tr>\n",
       "      <th>1</th>\n",
       "      <td>Afghanistan</td>\n",
       "      <td>2009</td>\n",
       "      <td>4.401778</td>\n",
       "      <td>0.552308</td>\n",
       "      <td>0.678896</td>\n",
       "      <td>50.799999</td>\n",
       "    </tr>\n",
       "    <tr>\n",
       "      <th>2</th>\n",
       "      <td>Afghanistan</td>\n",
       "      <td>2010</td>\n",
       "      <td>4.758381</td>\n",
       "      <td>0.539075</td>\n",
       "      <td>0.600127</td>\n",
       "      <td>51.099998</td>\n",
       "    </tr>\n",
       "    <tr>\n",
       "      <th>3</th>\n",
       "      <td>Afghanistan</td>\n",
       "      <td>2011</td>\n",
       "      <td>3.831719</td>\n",
       "      <td>0.521104</td>\n",
       "      <td>0.495901</td>\n",
       "      <td>51.400002</td>\n",
       "    </tr>\n",
       "    <tr>\n",
       "      <th>4</th>\n",
       "      <td>Afghanistan</td>\n",
       "      <td>2012</td>\n",
       "      <td>3.782938</td>\n",
       "      <td>0.520637</td>\n",
       "      <td>0.530935</td>\n",
       "      <td>51.700001</td>\n",
       "    </tr>\n",
       "  </tbody>\n",
       "</table>\n",
       "</div>"
      ]
     },
     "execution_count": 4,
     "metadata": {},
     "output_type": "execute_result"
    }
   ],
   "execution_count": 4
  },
  {
   "metadata": {
    "ExecuteTime": {
     "end_time": "2025-07-05T20:03:24.252766Z",
     "start_time": "2025-07-05T20:03:24.244568Z"
    }
   },
   "cell_type": "code",
   "source": "happiness.info()",
   "id": "e5451d1e5ca66888",
   "outputs": [
    {
     "name": "stdout",
     "output_type": "stream",
     "text": [
      "<class 'pandas.core.frame.DataFrame'>\n",
      "RangeIndex: 2089 entries, 0 to 2088\n",
      "Data columns (total 6 columns):\n",
      " #   Column                            Non-Null Count  Dtype  \n",
      "---  ------                            --------------  -----  \n",
      " 0   country_name                      2089 non-null   object \n",
      " 1   year                              2089 non-null   int64  \n",
      " 2   happiness_score                   2089 non-null   float64\n",
      " 3   social_support                    2076 non-null   float64\n",
      " 4   freedom_to_make_life_choices      2057 non-null   float64\n",
      " 5   healthy_life_expectancy_at_birth  2031 non-null   float64\n",
      "dtypes: float64(4), int64(1), object(1)\n",
      "memory usage: 98.1+ KB\n"
     ]
    }
   ],
   "execution_count": 5
  },
  {
   "metadata": {
    "ExecuteTime": {
     "end_time": "2025-07-05T20:03:24.382723Z",
     "start_time": "2025-07-05T20:03:24.379378Z"
    }
   },
   "cell_type": "code",
   "source": "happiness_filtered = happiness[happiness.year.between(2010,2019, inclusive=\"both\")]",
   "id": "8b3ba5dc8e91fd5e",
   "outputs": [],
   "execution_count": 6
  },
  {
   "metadata": {
    "ExecuteTime": {
     "end_time": "2025-07-05T20:05:32.849942Z",
     "start_time": "2025-07-05T20:05:32.845279Z"
    }
   },
   "cell_type": "code",
   "source": [
    "df1 = (happiness_filtered.groupby('country_name')['happiness_score']\n",
    "                    .max().sort_values(ascending=False).head(5).reset_index())"
   ],
   "id": "7488d9e2b1b34ec6",
   "outputs": [],
   "execution_count": 15
  },
  {
   "metadata": {
    "ExecuteTime": {
     "end_time": "2025-07-05T20:05:34.394609Z",
     "start_time": "2025-07-05T20:05:34.389939Z"
    }
   },
   "cell_type": "code",
   "source": "df1",
   "id": "3bdfc4237d3a58c4",
   "outputs": [
    {
     "data": {
      "text/plain": [
       "  country_name  happiness_score\n",
       "0      Finland         7.858107\n",
       "1      Denmark         7.788232\n",
       "2  Switzerland         7.776209\n",
       "3       Norway         7.678277\n",
       "4       Canada         7.650346"
      ],
      "text/html": [
       "<div>\n",
       "<style scoped>\n",
       "    .dataframe tbody tr th:only-of-type {\n",
       "        vertical-align: middle;\n",
       "    }\n",
       "\n",
       "    .dataframe tbody tr th {\n",
       "        vertical-align: top;\n",
       "    }\n",
       "\n",
       "    .dataframe thead th {\n",
       "        text-align: right;\n",
       "    }\n",
       "</style>\n",
       "<table border=\"1\" class=\"dataframe\">\n",
       "  <thead>\n",
       "    <tr style=\"text-align: right;\">\n",
       "      <th></th>\n",
       "      <th>country_name</th>\n",
       "      <th>happiness_score</th>\n",
       "    </tr>\n",
       "  </thead>\n",
       "  <tbody>\n",
       "    <tr>\n",
       "      <th>0</th>\n",
       "      <td>Finland</td>\n",
       "      <td>7.858107</td>\n",
       "    </tr>\n",
       "    <tr>\n",
       "      <th>1</th>\n",
       "      <td>Denmark</td>\n",
       "      <td>7.788232</td>\n",
       "    </tr>\n",
       "    <tr>\n",
       "      <th>2</th>\n",
       "      <td>Switzerland</td>\n",
       "      <td>7.776209</td>\n",
       "    </tr>\n",
       "    <tr>\n",
       "      <th>3</th>\n",
       "      <td>Norway</td>\n",
       "      <td>7.678277</td>\n",
       "    </tr>\n",
       "    <tr>\n",
       "      <th>4</th>\n",
       "      <td>Canada</td>\n",
       "      <td>7.650346</td>\n",
       "    </tr>\n",
       "  </tbody>\n",
       "</table>\n",
       "</div>"
      ]
     },
     "execution_count": 16,
     "metadata": {},
     "output_type": "execute_result"
    }
   ],
   "execution_count": 16
  },
  {
   "metadata": {
    "ExecuteTime": {
     "end_time": "2025-07-05T20:05:46.765510Z",
     "start_time": "2025-07-05T20:05:46.760976Z"
    }
   },
   "cell_type": "code",
   "source": [
    "df2 = (happiness_filtered.groupby('country_name')['happiness_score']\n",
    "       .mean().sort_values(ascending=False).head(5).reset_index())\n"
   ],
   "id": "f6e5e42bb621c145",
   "outputs": [],
   "execution_count": 17
  },
  {
   "metadata": {
    "ExecuteTime": {
     "end_time": "2025-07-05T20:05:54.728291Z",
     "start_time": "2025-07-05T20:05:54.720593Z"
    }
   },
   "cell_type": "code",
   "source": "df2",
   "id": "734e298876773197",
   "outputs": [
    {
     "data": {
      "text/plain": [
       "  country_name  happiness_score\n",
       "0      Denmark         7.618252\n",
       "1  Switzerland         7.568010\n",
       "2      Finland         7.553138\n",
       "3       Norway         7.541094\n",
       "4      Iceland         7.518146"
      ],
      "text/html": [
       "<div>\n",
       "<style scoped>\n",
       "    .dataframe tbody tr th:only-of-type {\n",
       "        vertical-align: middle;\n",
       "    }\n",
       "\n",
       "    .dataframe tbody tr th {\n",
       "        vertical-align: top;\n",
       "    }\n",
       "\n",
       "    .dataframe thead th {\n",
       "        text-align: right;\n",
       "    }\n",
       "</style>\n",
       "<table border=\"1\" class=\"dataframe\">\n",
       "  <thead>\n",
       "    <tr style=\"text-align: right;\">\n",
       "      <th></th>\n",
       "      <th>country_name</th>\n",
       "      <th>happiness_score</th>\n",
       "    </tr>\n",
       "  </thead>\n",
       "  <tbody>\n",
       "    <tr>\n",
       "      <th>0</th>\n",
       "      <td>Denmark</td>\n",
       "      <td>7.618252</td>\n",
       "    </tr>\n",
       "    <tr>\n",
       "      <th>1</th>\n",
       "      <td>Switzerland</td>\n",
       "      <td>7.568010</td>\n",
       "    </tr>\n",
       "    <tr>\n",
       "      <th>2</th>\n",
       "      <td>Finland</td>\n",
       "      <td>7.553138</td>\n",
       "    </tr>\n",
       "    <tr>\n",
       "      <th>3</th>\n",
       "      <td>Norway</td>\n",
       "      <td>7.541094</td>\n",
       "    </tr>\n",
       "    <tr>\n",
       "      <th>4</th>\n",
       "      <td>Iceland</td>\n",
       "      <td>7.518146</td>\n",
       "    </tr>\n",
       "  </tbody>\n",
       "</table>\n",
       "</div>"
      ]
     },
     "execution_count": 19,
     "metadata": {},
     "output_type": "execute_result"
    }
   ],
   "execution_count": 19
  },
  {
   "metadata": {
    "ExecuteTime": {
     "end_time": "2025-07-05T20:07:51.543758Z",
     "start_time": "2025-07-05T20:07:51.540694Z"
    }
   },
   "cell_type": "code",
   "source": "happiness_filtered.shape[0]",
   "id": "e2cccb0d6f99c98e",
   "outputs": [
    {
     "data": {
      "text/plain": [
       "1412"
      ]
     },
     "execution_count": 22,
     "metadata": {},
     "output_type": "execute_result"
    }
   ],
   "execution_count": 22
  },
  {
   "metadata": {},
   "cell_type": "code",
   "outputs": [],
   "execution_count": null,
   "source": "",
   "id": "be5a1f0c4702ef0"
  }
 ],
 "metadata": {
  "kernelspec": {
   "display_name": "Python 3",
   "language": "python",
   "name": "python3"
  },
  "language_info": {
   "codemirror_mode": {
    "name": "ipython",
    "version": 2
   },
   "file_extension": ".py",
   "mimetype": "text/x-python",
   "name": "python",
   "nbconvert_exporter": "python",
   "pygments_lexer": "ipython2",
   "version": "2.7.6"
  }
 },
 "nbformat": 4,
 "nbformat_minor": 5
}
