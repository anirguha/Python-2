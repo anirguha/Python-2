{
 "cells": [
  {
   "cell_type": "code",
   "id": "4ec27066-94a9-458d-b47e-501e59dec577",
   "metadata": {
    "jupyter": {
     "is_executing": true
    }
   },
   "source": [
    "def sum_of_primes(n):\n",
    "    if n < 2:\n",
    "        return 0\n",
    "    sieve = [True] * n\n",
    "    sieve[0:2] = [False, False]  # 0 and 1 are not primes\n",
    "    for i in range(2, int(n ** 0.5) + 1):\n",
    "        if sieve[i]:\n",
    "            sieve[i*i:n:i] = [False] * len(range(i*i, n, i))\n",
    "    return sum(i for i, is_prime in enumerate(sieve) if is_prime)\n",
    "\n",
    "print(sum_of_primes(10))"
   ],
   "outputs": [],
   "execution_count": null
  },
  {
   "cell_type": "code",
   "execution_count": null,
   "id": "4fb9cd0d-cfc4-41a6-abb4-fe2495dab37e",
   "metadata": {},
   "outputs": [],
   "source": []
  }
 ],
 "metadata": {
  "kernelspec": {
   "display_name": "Python 3 (ipykernel)",
   "language": "python",
   "name": "python3"
  },
  "language_info": {
   "codemirror_mode": {
    "name": "ipython",
    "version": 3
   },
   "file_extension": ".py",
   "mimetype": "text/x-python",
   "name": "python",
   "nbconvert_exporter": "python",
   "pygments_lexer": "ipython3",
   "version": "3.13.3"
  }
 },
 "nbformat": 4,
 "nbformat_minor": 5
}
