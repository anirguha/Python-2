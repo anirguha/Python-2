{
 "cells": [
  {
   "cell_type": "code",
   "execution_count": null,
   "id": "e96238ba-ecec-4875-a48e-b972dd829265",
   "metadata": {},
   "outputs": [],
   "source": [
    "import pygame\n",
    "import sys\n",
    "\n",
    "# Initialize PyGame\n",
    "pygame.init()\n",
    "\n",
    "# Window settings\n",
    "width, height = 600, 600\n",
    "screen = pygame.display.set_mode((width, height))\n",
    "pygame.display.set_caption(\"Concentric Squares\")\n",
    "\n",
    "# Colors (gradient between two colors)\n",
    "def color_gradient(start_color, end_color, steps):\n",
    "    return [\n",
    "        (\n",
    "            int(start_color[0] + (end_color[0] - start_color[0]) * i / (steps - 1)),\n",
    "            int(start_color[1] + (end_color[1] - start_color[1]) * i / (steps - 1)),\n",
    "            int(start_color[2] + (end_color[2] - start_color[2]) * i / (steps - 1))\n",
    "        )\n",
    "        for i in range(steps)\n",
    "    ]\n",
    "\n",
    "# Settings\n",
    "num_squares = 20\n",
    "max_size = 500\n",
    "min_size = 50\n",
    "center = width // 2, height // 2\n",
    "\n",
    "# Generate color gradient from red to blue\n",
    "colors = color_gradient((255, 0, 0), (0, 0, 255), num_squares)\n",
    "\n",
    "# Main drawing loop\n",
    "screen.fill((255, 255, 255))  # White background\n",
    "for i in range(num_squares):\n",
    "    size = max_size - i * (max_size - min_size) // (num_squares - 1)\n",
    "    rect = pygame.Rect(0, 0, size, size)\n",
    "    rect.center = center\n",
    "    pygame.draw.rect(screen, colors[i], rect, width=3)  # width=3 for outline\n",
    "\n",
    "# Display the result\n",
    "pygame.display.flip()\n",
    "\n",
    "# Event loop to keep the window open\n",
    "while True:\n",
    "    for event in pygame.event.get():\n",
    "        if event.type == pygame.QUIT:\n",
    "            pygame.quit()\n",
    "            sys.exit()\n"
   ]
  },
  {
   "cell_type": "code",
   "execution_count": null,
   "id": "bd52406c-8ab6-47d8-80d5-b8f95a8d414e",
   "metadata": {
    "editable": true,
    "slideshow": {
     "slide_type": ""
    },
    "tags": []
   },
   "outputs": [],
   "source": []
  },
  {
   "cell_type": "code",
   "execution_count": null,
   "id": "bb7830af-20e1-4c35-b88d-d692e882318e",
   "metadata": {},
   "outputs": [],
   "source": []
  }
 ],
 "metadata": {
  "kernelspec": {
   "display_name": "Python 3 (ipykernel)",
   "language": "python",
   "name": "python3"
  },
  "language_info": {
   "codemirror_mode": {
    "name": "ipython",
    "version": 3
   },
   "file_extension": ".py",
   "mimetype": "text/x-python",
   "name": "python",
   "nbconvert_exporter": "python",
   "pygments_lexer": "ipython3",
   "version": "3.13.3"
  }
 },
 "nbformat": 4,
 "nbformat_minor": 5
}
